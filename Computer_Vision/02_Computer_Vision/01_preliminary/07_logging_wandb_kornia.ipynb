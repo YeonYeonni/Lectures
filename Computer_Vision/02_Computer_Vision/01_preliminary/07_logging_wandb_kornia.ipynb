{
 "cells": [
  {
   "cell_type": "markdown",
   "id": "a04c694b",
   "metadata": {},
   "source": [
    "### logging\n",
    "\n",
    "- 다양한 이벤트 수준에 대해 정의. logger와 handler가 이를 적절히 처리"
   ]
  },
  {
   "cell_type": "code",
   "execution_count": 1,
   "id": "67ccb751",
   "metadata": {},
   "outputs": [
    {
     "name": "stderr",
     "output_type": "stream",
     "text": [
      "WARNING:root:Watch Out!\n"
     ]
    }
   ],
   "source": [
    "import logging\n",
    "logging.warning('Watch Out!') # print a message to the console\n",
    "logging.info('I told you so') # not print anything"
   ]
  },
  {
   "cell_type": "code",
   "execution_count": 2,
   "id": "04deb691",
   "metadata": {},
   "outputs": [
    {
     "name": "stderr",
     "output_type": "stream",
     "text": [
      "WARNING:root:And this, too\n",
      "ERROR:root:And non-ASCII stuff, too\n"
     ]
    }
   ],
   "source": [
    "import logging\n",
    "logging.basicConfig(filename='example.log', encoding='utf-8', level=logging.DEBUG)\n",
    "logging.debug('This message should go to the log file')\n",
    "logging.info('So should this')\n",
    "logging.warning('And this, too')\n",
    "logging.error('And non-ASCII stuff, too')"
   ]
  },
  {
   "cell_type": "markdown",
   "id": "2cec0498",
   "metadata": {},
   "source": [
    "### wandb (Weights & Biases)\n",
    "\n",
    "- 학습 모델 개발 시에 하이퍼파라미터, 시스템 메트릭, 결과를 로깅\n",
    "- tensorboard/tensorboardX나 hydra도 있음\n",
    "- 웹서비스를 통해 다양한 모델의 결과를 확인/관리\n",
    "- sweep은 autoML을 통해 하이퍼파라미터 서치를 지원."
   ]
  },
  {
   "cell_type": "code",
   "execution_count": null,
   "id": "6435cd2c",
   "metadata": {},
   "outputs": [],
   "source": [
    "wandb login"
   ]
  },
  {
   "cell_type": "code",
   "execution_count": null,
   "id": "d16718b6",
   "metadata": {},
   "outputs": [],
   "source": [
    "# New run\n",
    "import wandb\n",
    "wandb.init(project=\"my-awesome-project\")"
   ]
  },
  {
   "cell_type": "code",
   "execution_count": null,
   "id": "1237196e",
   "metadata": {},
   "outputs": [],
   "source": [
    "# Track metrics\n",
    "wandb.log({'accuracy': train_acc, 'loss': train_loss})"
   ]
  },
  {
   "cell_type": "code",
   "execution_count": null,
   "id": "4e84f87d",
   "metadata": {},
   "outputs": [],
   "source": [
    "# Track hyperparameters\n",
    "wandb.config.dropout = 0.2"
   ]
  },
  {
   "cell_type": "markdown",
   "id": "3b038a7d",
   "metadata": {},
   "source": [
    "### kornia\n",
    "\n",
    "- CV 알고리즘의 State-of-the-art 구현체를 모아놓은 라이브러리\n",
    "- PyTorch와도 호환 가능"
   ]
  },
  {
   "cell_type": "code",
   "execution_count": 4,
   "id": "8aee502c",
   "metadata": {
    "collapsed": true
   },
   "outputs": [
    {
     "name": "stdout",
     "output_type": "stream",
     "text": [
      "Collecting kornia\n",
      "  Downloading kornia-0.6.10-py2.py3-none-any.whl (612 kB)\n",
      "     -------------------------------------- 612.0/612.0 kB 2.3 MB/s eta 0:00:00\n",
      "Requirement already satisfied: packaging in c:\\users\\jjoro\\anaconda3\\lib\\site-packages (from kornia) (21.3)\n",
      "Requirement already satisfied: torch>=1.9.1 in c:\\users\\jjoro\\anaconda3\\lib\\site-packages (from kornia) (1.13.1)\n",
      "Requirement already satisfied: typing_extensions in c:\\users\\jjoro\\anaconda3\\lib\\site-packages (from torch>=1.9.1->kornia) (4.3.0)\n",
      "Requirement already satisfied: pyparsing!=3.0.5,>=2.0.2 in c:\\users\\jjoro\\anaconda3\\lib\\site-packages (from packaging->kornia) (3.0.9)\n",
      "Installing collected packages: kornia\n",
      "Successfully installed kornia-0.6.10\n",
      "Note: you may need to restart the kernel to use updated packages.\n"
     ]
    },
    {
     "name": "stderr",
     "output_type": "stream",
     "text": [
      "\n",
      "[notice] A new release of pip is available: 23.0 -> 23.0.1\n",
      "[notice] To update, run: python.exe -m pip install --upgrade pip\n"
     ]
    }
   ],
   "source": [
    "# pip install kornia"
   ]
  },
  {
   "cell_type": "code",
   "execution_count": null,
   "id": "9aad4fe1",
   "metadata": {},
   "outputs": [],
   "source": [
    "import kornia.geometry as K\n",
    "registrator = K.ImageRegistrator('similarity')\n",
    "model = registrator(img1, img2)"
   ]
  },
  {
   "cell_type": "code",
   "execution_count": null,
   "id": "d8698d55",
   "metadata": {},
   "outputs": [],
   "source": [
    "import torch.nn as nn\n",
    "import kornia.contrib as K\n",
    "classifier = nn.Sequential(\n",
    "    K.VisionTransformer(image_size=224, patch_size=16),\n",
    "    K.ClassificationHead(num_classes=1000),\n",
    ")\n",
    "logits = classifier(img) # B*N\n",
    "scores = logits.argmax(-1) # B"
   ]
  },
  {
   "cell_type": "code",
   "execution_count": null,
   "id": "1b03bdca",
   "metadata": {},
   "outputs": [],
   "source": []
  }
 ],
 "metadata": {
  "kernelspec": {
   "display_name": "Python 3 (ipykernel)",
   "language": "python",
   "name": "python3"
  },
  "language_info": {
   "codemirror_mode": {
    "name": "ipython",
    "version": 3
   },
   "file_extension": ".py",
   "mimetype": "text/x-python",
   "name": "python",
   "nbconvert_exporter": "python",
   "pygments_lexer": "ipython3",
   "version": "3.9.13"
  }
 },
 "nbformat": 4,
 "nbformat_minor": 5
}
