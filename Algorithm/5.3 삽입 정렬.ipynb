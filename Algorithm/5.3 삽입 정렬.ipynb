{
 "cells": [
  {
   "cell_type": "markdown",
   "id": "polished-lithuania",
   "metadata": {},
   "source": [
    "## 5.3 삽입 정렬"
   ]
  },
  {
   "cell_type": "markdown",
   "id": "absent-festival",
   "metadata": {},
   "source": [
    "### 개념\n",
    "\n",
    "데이터 집합을 순회하면서 정렬이 필요한 요소를 추출. 이를 다시 적당한 곳에 삽입.\n",
    "\n",
    "### 알고리즘 순서\n",
    "\n",
    "1. 정렬 대상이 되는 요소들을 왼쪽부터 선택. (범위가 처음에는 2개. 알고리즘 반복 횟수가 늘어날 때마다 1씩 증가)\n",
    "\n",
    "    정렬 대상의 최대 범위 = 데이터 집합의 크기 - 1\n",
    "    \n",
    "\n",
    "2. 정렬 대상의 가장 오른쪽이 가장 큰 값인지 확인.\n",
    "\n",
    "    그렇지 않다면, 그 값을 정렬 대상에서 추출. 적절한 곳을 찾음.\n",
    "    \n",
    "    (적절한 곳 = 데이터 집합의 가장 왼쪽을 기준으로 했을 때, 자신보다 더 작은 요소가 없는 위치)\n",
    "    \n",
    "\n",
    "3. 삽입할 값보다 큰 값을 한 자리씩 오른쪽으로 이동한 후 빈 자리에 삽입.\n",
    "\n",
    "\n",
    "4. 반복 \n",
    "\n",
    "### 장점 : 데이터 집합이 정렬되어 있는 경우 비교를 거치지 않음.\n",
    "\n",
    "### 단점 : 여전히 비교 수가 많음."
   ]
  },
  {
   "cell_type": "code",
   "execution_count": 26,
   "id": "divided-smoke",
   "metadata": {},
   "outputs": [
    {
     "name": "stdout",
     "output_type": "stream",
     "text": [
      "입력 :  [6, 4, 2, 3, 1, 5, 56, 1479, 1, 58, 24, 489] \n",
      "\n",
      "결과 :  [1, 1, 2, 3, 4, 5, 6, 24, 56, 58, 489, 1479] \n",
      "\n"
     ]
    }
   ],
   "source": [
    "# 자습\n",
    "dataset = [6,4,2,3,1,5,56,1479,1,58,24,489]\n",
    "tmp_dataset = []\n",
    "leng = len(dataset)\n",
    "\n",
    "print(\"입력 : \", dataset, '\\n')\n",
    "\n",
    "for i in range(0, leng):\n",
    "    tmp_dataset.append(dataset[i])\n",
    "    \n",
    "    if tmp_dataset[i] == max(tmp_dataset):\n",
    "        \n",
    "        continue\n",
    "    \n",
    "    elif tmp_dataset[i] != max(tmp_dataset) :\n",
    "        \n",
    "        for j in range(0, len(tmp_dataset)) :\n",
    "            \n",
    "            if tmp_dataset[j] > tmp_dataset[-1] :\n",
    "                \n",
    "                tmp_dataset[j], tmp_dataset[-1] = tmp_dataset[-1], tmp_dataset[j]\n",
    "        \n",
    "print(\"결과 : \", tmp_dataset, '\\n')"
   ]
  },
  {
   "cell_type": "code",
   "execution_count": null,
   "id": "executive-victoria",
   "metadata": {},
   "outputs": [],
   "source": [
    "# 풀이"
   ]
  },
  {
   "cell_type": "markdown",
   "id": "controversial-station",
   "metadata": {},
   "source": [
    "# work place....."
   ]
  },
  {
   "cell_type": "code",
   "execution_count": 16,
   "id": "harmful-radar",
   "metadata": {},
   "outputs": [],
   "source": [
    "main_list = [5,1,6,4,2,3]"
   ]
  },
  {
   "cell_type": "markdown",
   "id": "simplified-tomato",
   "metadata": {},
   "source": [
    "정렬 대상이 되는 요소들을 왼쪽부터 선택. (범위가 처음에는 2개, 다음은 3개 ... )\n",
    "\n",
    "- 정렬 대상의 최대 범위 = 데이터 집합의 크기 -1"
   ]
  },
  {
   "cell_type": "code",
   "execution_count": 17,
   "id": "moving-buying",
   "metadata": {},
   "outputs": [
    {
     "name": "stdout",
     "output_type": "stream",
     "text": [
      "[5, 1]\n",
      "[5, 1, 6]\n",
      "[5, 1, 6, 4]\n",
      "[5, 1, 6, 4, 2]\n"
     ]
    }
   ],
   "source": [
    "for i in range(1, len(main_list)-1):\n",
    "    tmp_list = a_list[0: i + 1]\n",
    "    print(tmp_list)"
   ]
  },
  {
   "cell_type": "markdown",
   "id": "another-patrol",
   "metadata": {},
   "source": [
    "정렬 대상의 가장 오른쪽에 있는 요소가 정렬 대상 중 가장 큰 값인지 확인.\n",
    "\n",
    "뽑아낸 tmp가 위치할 적절한 곳을 정렬 대상 내에서 찾음.\n",
    "- 적절한 곳 : 왼쪽을 기준으로 자신보다 더 작은 요소가 없는 위치"
   ]
  },
  {
   "cell_type": "code",
   "execution_count": 125,
   "id": "acoustic-blackjack",
   "metadata": {},
   "outputs": [
    {
     "name": "stdout",
     "output_type": "stream",
     "text": [
      "2\n"
     ]
    }
   ],
   "source": [
    "# 첫 번째 loop\n",
    "test_list = [5, 1]\n",
    "leng = len(test_list)\n",
    "tmp = -1\n",
    "print(leng)"
   ]
  },
  {
   "cell_type": "code",
   "execution_count": 126,
   "id": "closed-silicon",
   "metadata": {},
   "outputs": [
    {
     "name": "stdout",
     "output_type": "stream",
     "text": [
      "[5, 1]\n",
      "이 요소를 정렬 대상에서 뽑아냄 :  1\n",
      "[1, 5]\n"
     ]
    }
   ],
   "source": [
    "print(test_list)\n",
    "\n",
    "if test_list[-1] == max(test_list) :\n",
    "    print(\"가장 오른쪽에 있는 요소가 가장 큰 값\")\n",
    "else :\n",
    "    tmp = test_list[-1]\n",
    "    print(\"이 요소를 정렬 대상에서 뽑아냄 : \", tmp)\n",
    "    \n",
    "    if test_list[-leng] > tmp:\n",
    "        test_list[-leng + 1] = test_list[-leng]\n",
    "        test_list[-leng] = tmp\n",
    "        print(test_list)"
   ]
  },
  {
   "cell_type": "code",
   "execution_count": 127,
   "id": "disciplinary-january",
   "metadata": {},
   "outputs": [
    {
     "name": "stdout",
     "output_type": "stream",
     "text": [
      "3\n"
     ]
    }
   ],
   "source": [
    "# 두 번째 loop\n",
    "test_list = [1, 5, 6]\n",
    "leng = len(test_list)\n",
    "print(leng)"
   ]
  },
  {
   "cell_type": "code",
   "execution_count": 124,
   "id": "significant-collar",
   "metadata": {},
   "outputs": [
    {
     "name": "stdout",
     "output_type": "stream",
     "text": [
      "[1, 5, 6]\n",
      "가장 오른쪽에 있는 요소가 가장 큰 값\n"
     ]
    }
   ],
   "source": [
    "print(test_list)\n",
    "\n",
    "if test_list[-1] == max(test_list) :\n",
    "    print(\"가장 오른쪽에 있는 요소가 가장 큰 값\")\n",
    "else :\n",
    "    tmp = test_list[-1]\n",
    "    print(\"이 요소를 정렬 대상에서 뽑아냄 : \", tmp)\n",
    "    \n",
    "    if test_list[-leng + 1] > tmp:\n",
    "        test_list[-leng] = test_list[-leng + 1]\n",
    "        test_list[-leng + 1] = tmp\n",
    "        print(test_list)"
   ]
  },
  {
   "cell_type": "code",
   "execution_count": null,
   "id": "hidden-trout",
   "metadata": {},
   "outputs": [],
   "source": []
  },
  {
   "cell_type": "code",
   "execution_count": null,
   "id": "generic-museum",
   "metadata": {},
   "outputs": [],
   "source": []
  },
  {
   "cell_type": "code",
   "execution_count": null,
   "id": "australian-batch",
   "metadata": {},
   "outputs": [],
   "source": [
    "test_list = [5,1,6,4,2,3]\n",
    "leng = len(test_list)"
   ]
  },
  {
   "cell_type": "code",
   "execution_count": null,
   "id": "fifteen-burke",
   "metadata": {},
   "outputs": [],
   "source": [
    "if test_list[-1] == max(test_list) :\n",
    "    print(\"가장 오른쪽에 있는 요소가 가장 큰 값\")\n",
    "else :\n",
    "    tmp = test_list[-1]\n",
    "    print(\"이 요소를 정렬 대상에서 뽑아냄 : \", tmp)\n",
    "    \n",
    "    if test_list[-2] > tmp :\n",
    "        test_list[-1] = test_list[-2]\n",
    "        test_list[-2] = tmp\n",
    "        print(test_list)\n",
    "        \n",
    "        if test_list[-3] > tmp :\n",
    "            test_list[-2] = test_list[-3]\n",
    "            test_list[-3] = tmp\n",
    "            print(test_list)\n",
    "            \n",
    "            if test_list[-4] > tmp :\n",
    "                test_list[-3] = test_list[-4]\n",
    "                test_list[-4] = tmp\n",
    "                print(test_list)\n",
    "                \n",
    "                if test_list[-i] > tmp :\n",
    "                    test_list[-i + 1] = test_list[-i]\n",
    "                    test_list[-i] = tmp\n",
    "                    print(test_list)"
   ]
  },
  {
   "cell_type": "code",
   "execution_count": null,
   "id": "electrical-thailand",
   "metadata": {},
   "outputs": [],
   "source": [
    "dataset = [6,4,2,3,1,5]\n",
    "length = len(dataset)\n",
    "value = 0\n",
    "\n",
    "for i in range(0, length):\n",
    "    value = dataset[i]\n",
    "    if dataset[i - 1] <= dataset[i]:\n",
    "        continue\n",
    "        \n",
    "    for j in range(0, j < i) :\n",
    "        if dataset[j] > value:\n",
    "            "
   ]
  },
  {
   "cell_type": "code",
   "execution_count": null,
   "id": "forward-worth",
   "metadata": {},
   "outputs": [],
   "source": []
  },
  {
   "cell_type": "code",
   "execution_count": null,
   "id": "general-andorra",
   "metadata": {},
   "outputs": [],
   "source": []
  },
  {
   "cell_type": "code",
   "execution_count": 178,
   "id": "packed-ensemble",
   "metadata": {},
   "outputs": [],
   "source": [
    "dataset = [6,4,2,3,1,5]\n",
    "leng = len(dataset)"
   ]
  },
  {
   "cell_type": "code",
   "execution_count": 164,
   "id": "indonesian-louisiana",
   "metadata": {},
   "outputs": [
    {
     "data": {
      "text/plain": [
       "5"
      ]
     },
     "execution_count": 164,
     "metadata": {},
     "output_type": "execute_result"
    }
   ],
   "source": [
    "dataset[leng-1]"
   ]
  },
  {
   "cell_type": "code",
   "execution_count": 233,
   "id": "civil-aging",
   "metadata": {
    "scrolled": true
   },
   "outputs": [
    {
     "name": "stdout",
     "output_type": "stream",
     "text": [
      "전 :  [6]\n",
      "전 :  [6, 4]\n",
      "후 :  [4, 6]\n",
      "전 :  [4, 6, 2]\n",
      "후 :  [4, 2, 6]\n",
      "전 :  [4, 2, 6, 3]\n",
      "후 :  [4, 2, 3, 6]\n",
      "전 :  [4, 2, 3, 6, 1]\n",
      "후 :  [4, 2, 3, 1, 6]\n",
      "전 :  [4, 2, 3, 1, 6, 5]\n",
      "후 :  [4, 2, 3, 1, 5, 6]\n"
     ]
    }
   ],
   "source": [
    "dataset = [6,4,2,3,1,5]\n",
    "tmp_dataset = []\n",
    "leng = len(dataset)\n",
    "tmp = -1\n",
    "    \n",
    "for i in range(0, leng):\n",
    "    tmp_dataset.append(dataset[i])\n",
    "    print(\"전 : \", tmp_dataset)\n",
    "    \n",
    "    if tmp_dataset[i] == max(tmp_dataset):\n",
    "        \n",
    "        continue\n",
    "    \n",
    "    elif tmp_dataset[i] != max(tmp_dataset) :\n",
    "        \n",
    "        \n",
    "        \n",
    "        ############# work place ###################\n",
    "        \n",
    "        tmp = tmp_dataset[i]\n",
    "        \n",
    "        tmp_dataset[i] = tmp_dataset[i-1]\n",
    "        \n",
    "        tmp_dataset[i-1] = tmp\n",
    "        \n",
    "        ##############################################\n",
    "        \n",
    "        print(\"후 : \", tmp_dataset)"
   ]
  },
  {
   "cell_type": "markdown",
   "id": "minimal-senior",
   "metadata": {},
   "source": [
    "### 작업중"
   ]
  },
  {
   "cell_type": "code",
   "execution_count": 21,
   "id": "heated-anthony",
   "metadata": {},
   "outputs": [
    {
     "name": "stdout",
     "output_type": "stream",
     "text": [
      "입력 :  [6, 4, 2, 3, 1, 5] \n",
      "\n",
      "최종 :  [1, 2, 3, 4, 5, 6] \n",
      "\n"
     ]
    }
   ],
   "source": [
    "dataset = [6,4,2,3,1,5]\n",
    "tmp_dataset = []\n",
    "leng = len(dataset)\n",
    "tmp = -1\n",
    "\n",
    "print(\"입력 : \", dataset, '\\n')\n",
    "\n",
    "for i in range(0, leng):\n",
    "    tmp_dataset.append(dataset[i])\n",
    "    \n",
    "    if tmp_dataset[i] == max(tmp_dataset):\n",
    "        \n",
    "        continue\n",
    "    \n",
    "    elif tmp_dataset[i] != max(tmp_dataset) :\n",
    "        \n",
    "        \n",
    "        ############# work place ###################\n",
    "        \n",
    "        tmp = tmp_dataset[i]\n",
    "        \n",
    "        for j in range(0, len(tmp_dataset)) :\n",
    "            \n",
    "            if tmp_dataset[j] > tmp :\n",
    "                tmp_dataset[j], tmp_dataset[-1] = tmp_dataset[-1], tmp_dataset[j]\n",
    "                \n",
    "        \n",
    "        ##############################################\n",
    "        \n",
    "print(\"최종 : \", tmp_dataset, '\\n')"
   ]
  },
  {
   "cell_type": "code",
   "execution_count": 342,
   "id": "spatial-sarah",
   "metadata": {},
   "outputs": [
    {
     "name": "stdout",
     "output_type": "stream",
     "text": [
      "[6, 4, 2, 3, 1, 5]\n"
     ]
    }
   ],
   "source": [
    "a_list = [6,4,2,3,1,5]\n",
    "leng = len(a_list)\n",
    "\n",
    "print(a_list)"
   ]
  },
  {
   "cell_type": "code",
   "execution_count": 346,
   "id": "maritime-header",
   "metadata": {},
   "outputs": [
    {
     "name": "stdout",
     "output_type": "stream",
     "text": [
      "[6, 1, 2, 3, 4, 5]\n",
      "[6, 1, 2, 3, 4, 5]\n",
      "[6, 1, 2, 3, 4, 5]\n",
      "[6, 1, 2, 3, 4, 5]\n",
      "[6, 1, 2, 3, 4, 5]\n"
     ]
    }
   ],
   "source": [
    "a_list[0], a_list[leng-1] = a_list[leng-1], a_list[0]\n",
    "\n",
    "print(a_list)\n",
    "\n",
    "for i in range(1, len(a_list)-1):\n",
    "    \n",
    "    if a_list[i] > a_list[i+1]:\n",
    "    \n",
    "        a_list[i] , a_list[i+1] = a_list[i+1], a_list[i]\n",
    "        \n",
    "    print(a_list)"
   ]
  },
  {
   "cell_type": "code",
   "execution_count": 341,
   "id": "considered-cigarette",
   "metadata": {},
   "outputs": [],
   "source": [
    "tmp = tmp_dataset[i]\n",
    "        \n",
    "tmp_dataset[i] = tmp_dataset[i-1]\n",
    "        \n",
    "tmp_dataset[i-1] = tmp"
   ]
  },
  {
   "cell_type": "code",
   "execution_count": 232,
   "id": "commercial-correction",
   "metadata": {},
   "outputs": [
    {
     "name": "stdout",
     "output_type": "stream",
     "text": [
      "전 :  [6]\n",
      "전 :  [6, 4]\n",
      "후 :  [4, 6]\n",
      "전 :  [4, 6, 2]\n",
      "후 :  [4, 2, 6]\n",
      "전 :  [4, 2, 6, 3]\n",
      "후 :  [4, 2, 3, 6]\n",
      "전 :  [4, 2, 3, 6, 1]\n",
      "후 :  [4, 2, 3, 1, 6]\n",
      "전 :  [4, 2, 3, 1, 6, 5]\n",
      "후 :  [4, 2, 3, 1, 5, 6]\n"
     ]
    }
   ],
   "source": [
    "dataset = [6,4,2,3,1,5]\n",
    "tmp_dataset = []\n",
    "leng = len(dataset)\n",
    "tmp = -1\n",
    "\n",
    "def move (x) :\n",
    "    \n",
    "    tmp = x\n",
    "    \n",
    "    tmp_dataset[i] = tmp_dataset[i-1]\n",
    "        \n",
    "    tmp_dataset[i-1] = tmp\n",
    "    \n",
    "    \n",
    "for i in range(0, leng):\n",
    "    tmp_dataset.append(dataset[i])\n",
    "    print(\"전 : \", tmp_dataset)\n",
    "    \n",
    "    if tmp_dataset[i] == max(tmp_dataset):\n",
    "        \n",
    "        continue\n",
    "    \n",
    "    else :\n",
    "        \n",
    "        move (dataset[i])\n",
    "        \n",
    "        print(\"후 : \", tmp_dataset)"
   ]
  },
  {
   "cell_type": "code",
   "execution_count": null,
   "id": "revolutionary-leeds",
   "metadata": {},
   "outputs": [],
   "source": []
  }
 ],
 "metadata": {
  "kernelspec": {
   "display_name": "Python 3",
   "language": "python",
   "name": "python3"
  },
  "language_info": {
   "codemirror_mode": {
    "name": "ipython",
    "version": 3
   },
   "file_extension": ".py",
   "mimetype": "text/x-python",
   "name": "python",
   "nbconvert_exporter": "python",
   "pygments_lexer": "ipython3",
   "version": "3.9.2"
  }
 },
 "nbformat": 4,
 "nbformat_minor": 5
}
