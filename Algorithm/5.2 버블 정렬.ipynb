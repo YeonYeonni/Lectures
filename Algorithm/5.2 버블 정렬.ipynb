{
 "cells": [
  {
   "cell_type": "markdown",
   "metadata": {},
   "source": [
    "정렬의 궁극적인 목적은 탐색이다."
   ]
  },
  {
   "cell_type": "markdown",
   "metadata": {},
   "source": [
    "## 5.2 버블 정렬"
   ]
  },
  {
   "cell_type": "markdown",
   "metadata": {},
   "source": [
    "### 개념\n",
    "\n",
    "데이터 집합을 순회하면서 집합 내의 이웃들끼리의 교환을 통해 정렬을 수행.\n",
    "\n",
    "### 알고리즘 순서\n",
    "\n",
    "1. 첫 두 개의 요소들을 비교하여 올바른 순서로 위치해 있는지를 확인.\n",
    "\n",
    "2. 원하는 순서와 반대일 경우 두 요소의 위치를 교환.\n",
    "\n",
    "3. 끝 위치까지 작업을 시행.\n",
    "\n",
    "4. 작업이 완료된 마지막 요소를 제외하고 정렬을 다시 시행.\n",
    "\n",
    "### 장점 : 구현이 간단 == 버그를 만들 가능성이 적음.\n",
    "\n",
    "### 단점 : 속도가 느림.\n",
    "1. 데이터 집합의 범위 : n\n",
    "2. 데이터 집합을 1회 순회하는 횟수 : n - 1\n",
    "3. 총 순회 횟수 : (n - 1) + (n - 2) + (n - 3) + ... + (n - (n - 2)) + (n - (n - 1))\n",
    "4. 3)번 식 단순화 : (n - 1) + (n - 2) + (n - 3) + ... + 3 + 2 + 1\n",
    "5. 4)번 식 단순화 : n (n - 1) / 2"
   ]
  },
  {
   "cell_type": "code",
   "execution_count": 102,
   "metadata": {},
   "outputs": [
    {
     "name": "stdout",
     "output_type": "stream",
     "text": [
      "[5, 1, 6, 4, 2, 3, 15, 6, 2, 3, 17, 24, 4, 6, 8, 9, 10, 1213, 132, 3, 2, 1]\n",
      "[1, 1, 2, 2, 2, 3, 3, 3, 4, 4, 5, 6, 6, 6, 8, 9, 10, 15, 17, 24, 132, 1213]\n"
     ]
    }
   ],
   "source": [
    "# 자습\n",
    "def BubbleSort(dataset, length) :\n",
    "    i = 0\n",
    "    j = 0\n",
    "    forw = -1\n",
    "    back = -1\n",
    "    \n",
    "    for i in range(length - 1):\n",
    "        for j in range(length - 1) : \n",
    "            if dataset[j] > dataset[j+1] :\n",
    "            \n",
    "                forw = dataset[j]\n",
    "                back = dataset[j+1]\n",
    "    \n",
    "                dataset[j] = back\n",
    "                dataset[j+1] = forw\n",
    "\n",
    "dataset = [5, 1, 6, 4, 2, 3, 15, 6, 2, 3, 17, 24, 4, 6, 8, 9, 10, 1213, 132, 3, 2, 1]\n",
    "length = len(dataset)\n",
    "\n",
    "print(dataset)\n",
    "\n",
    "BubbleSort(dataset, length) \n",
    "\n",
    "print(dataset)"
   ]
  },
  {
   "cell_type": "code",
   "execution_count": 103,
   "metadata": {},
   "outputs": [
    {
     "name": "stdout",
     "output_type": "stream",
     "text": [
      "[5, 1, 6, 4, 2, 3, 15, 6, 2, 3, 17, 24, 4, 6, 8, 9, 10, 1213, 132, 3, 2, 1]\n",
      "[1, 1, 2, 2, 2, 3, 3, 3, 4, 4, 5, 6, 6, 6, 8, 9, 10, 15, 17, 24, 132, 1213]\n"
     ]
    }
   ],
   "source": [
    "# 풀이\n",
    "def BubbleSort(dataset, length) :\n",
    "    i = 0\n",
    "    j = 0\n",
    "    temp = 0\n",
    "    \n",
    "    for i in range(length) :\n",
    "        for j in range(length - (i+1)) :\n",
    "            if dataset[j] > dataset[j+1] :\n",
    "            \n",
    "                temp = dataset[j+1]\n",
    "            \n",
    "                dataset[j+1] = dataset[j]\n",
    "                dataset[j] = temp\n",
    "\n",
    "dataset = [5, 1, 6, 4, 2, 3, 15, 6, 2, 3, 17, 24, 4, 6, 8, 9, 10, 1213, 132, 3, 2, 1]\n",
    "length = len(dataset)\n",
    "\n",
    "print(dataset)\n",
    "\n",
    "BubbleSort(dataset, length) \n",
    "\n",
    "print(dataset)"
   ]
  },
  {
   "cell_type": "markdown",
   "metadata": {},
   "source": [
    "feedback\n",
    "\n",
    "1. 순서 변환을 위한 임시 변수를 하나만 사용해도 됨.\n",
    "\n",
    "Question\n",
    "\n",
    "1. 중첩 for문이며, 위 아래 모두 임시변수로 i를 사용할 경우, 이는 같은 변수인가?\n",
    "2. 내부 for문에서 range를 length - (i + 1) 로 해야하는 이유는?"
   ]
  },
  {
   "cell_type": "code",
   "execution_count": 2,
   "metadata": {},
   "outputs": [
    {
     "name": "stdout",
     "output_type": "stream",
     "text": [
      "[1, 2, 3, 4, 5, 6, 7, 8]\n"
     ]
    }
   ],
   "source": [
    "dataset = [6, 5, 3, 1, 8, 7, 2, 4]\n",
    "\n",
    "def swap(x, i, j):\n",
    "    x[i], x[j] = x[j], x[i]\n",
    "\n",
    "def bubbleSort(x):\n",
    "    for size in reversed(range(len(x))):\n",
    "        for i in range(size):\n",
    "            if x[i] > x [i + 1]:\n",
    "                swap(x, i, i + 1)\n",
    "                \n",
    "                \n",
    "bubbleSort(dataset)\n",
    "print(dataset)"
   ]
  },
  {
   "cell_type": "code",
   "execution_count": null,
   "metadata": {},
   "outputs": [],
   "source": []
  }
 ],
 "metadata": {
  "kernelspec": {
   "display_name": "Python 3",
   "language": "python",
   "name": "python3"
  },
  "language_info": {
   "codemirror_mode": {
    "name": "ipython",
    "version": 3
   },
   "file_extension": ".py",
   "mimetype": "text/x-python",
   "name": "python",
   "nbconvert_exporter": "python",
   "pygments_lexer": "ipython3",
   "version": "3.9.2"
  }
 },
 "nbformat": 4,
 "nbformat_minor": 4
}
