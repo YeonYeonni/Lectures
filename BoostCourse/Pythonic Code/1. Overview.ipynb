{
 "cells": [
  {
   "cell_type": "markdown",
   "id": "4d7ad208",
   "metadata": {},
   "source": [
    "예시: 여러 단어들을 하나로 붙일 때"
   ]
  },
  {
   "cell_type": "code",
   "execution_count": 3,
   "id": "431228c1",
   "metadata": {},
   "outputs": [
    {
     "name": "stdout",
     "output_type": "stream",
     "text": [
      "redbluegreenyellow\n"
     ]
    }
   ],
   "source": [
    "colors = ['red', 'blue', 'green', 'yellow']\n",
    "result = ''\n",
    "for s in colors:\n",
    "    result += s\n",
    "    \n",
    "print(result)"
   ]
  },
  {
   "cell_type": "code",
   "execution_count": 5,
   "id": "8f317eaa",
   "metadata": {},
   "outputs": [
    {
     "name": "stdout",
     "output_type": "stream",
     "text": [
      "redbluegreenyellow\n"
     ]
    }
   ],
   "source": [
    "colors = ['red', 'blue', 'green', 'yellow']\n",
    "result = ''.join(colors)\n",
    "print(result)"
   ]
  },
  {
   "cell_type": "markdown",
   "id": "d8a357a3",
   "metadata": {},
   "source": [
    "- 파이썬 특유의 문법을 활용하여 효율적으로 코드를 표현함.\n",
    "- 고급 코드를 작성할 수록 더 많이 필요해짐."
   ]
  },
  {
   "cell_type": "markdown",
   "id": "e88406d7",
   "metadata": {},
   "source": [
    "- Split & Join\n",
    "- List Comprehension\n",
    "- Enumerate & Zip"
   ]
  },
  {
   "cell_type": "markdown",
   "id": "8737f07b",
   "metadata": {},
   "source": [
    "Why Pythonic Code?\n",
    "\n",
    "- 남 코드에 대한 이해도\n",
    "\n",
    "- 효율\n",
    "    - 단순 for loop append보다 list가 조금 더 빠름."
   ]
  },
  {
   "cell_type": "code",
   "execution_count": null,
   "id": "59746c31",
   "metadata": {},
   "outputs": [],
   "source": []
  }
 ],
 "metadata": {
  "kernelspec": {
   "display_name": "Python 3 (ipykernel)",
   "language": "python",
   "name": "python3"
  },
  "language_info": {
   "codemirror_mode": {
    "name": "ipython",
    "version": 3
   },
   "file_extension": ".py",
   "mimetype": "text/x-python",
   "name": "python",
   "nbconvert_exporter": "python",
   "pygments_lexer": "ipython3",
   "version": "3.8.6"
  }
 },
 "nbformat": 4,
 "nbformat_minor": 5
}
