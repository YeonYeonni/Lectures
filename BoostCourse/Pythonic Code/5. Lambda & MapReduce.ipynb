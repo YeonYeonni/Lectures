{
 "cells": [
  {
   "cell_type": "markdown",
   "id": "a612033f",
   "metadata": {},
   "source": [
    "Keyword\n",
    "\n",
    "Lambda\n",
    "- 함수처럼 사용 가능.\n",
    "\n",
    "Map, Reduce Function.\n",
    "- Sequence 자료형의 데이터에서 함수를 적용하는 방법."
   ]
  },
  {
   "cell_type": "markdown",
   "id": "44514222",
   "metadata": {},
   "source": [
    "### Lambda\n",
    "\n",
    "- 함수 이름 없이, 함수처럼 쓸 수 있는 익명함수.\n",
    "- 수학의 람다 대수에서 유래함."
   ]
  },
  {
   "cell_type": "code",
   "execution_count": 1,
   "id": "b76f08ca",
   "metadata": {},
   "outputs": [
    {
     "name": "stdout",
     "output_type": "stream",
     "text": [
      "5\n"
     ]
    }
   ],
   "source": [
    "# General Function\n",
    "def f(x, y):\n",
    "    return x + y\n",
    "\n",
    "print(f(1, 4))"
   ]
  },
  {
   "cell_type": "code",
   "execution_count": 3,
   "id": "873eafa1",
   "metadata": {},
   "outputs": [
    {
     "name": "stdout",
     "output_type": "stream",
     "text": [
      "5\n"
     ]
    }
   ],
   "source": [
    "# Lambda\n",
    "f = lambda x, y: x+y\n",
    "print(f(1, 4))"
   ]
  },
  {
   "cell_type": "markdown",
   "id": "d53e324b",
   "metadata": {},
   "source": [
    "Python 3부터는 권장하지 않으나 여전히 많이 쓰임.\n",
    "\n",
    "- List Comprehension의 등장."
   ]
  },
  {
   "cell_type": "code",
   "execution_count": 4,
   "id": "e8ebab65",
   "metadata": {},
   "outputs": [
    {
     "name": "stdout",
     "output_type": "stream",
     "text": [
      "5\n",
      "9\n",
      "1.5\n",
      "6\n"
     ]
    }
   ],
   "source": [
    "f = lambda x, y: x+y\n",
    "print(f(1, 4))\n",
    "\n",
    "f = lambda x: x ** 2\n",
    "print(f(3))\n",
    "\n",
    "f = lambda x: x/2\n",
    "print(f(3))\n",
    "\n",
    "print((lambda x: x+1)(5))"
   ]
  },
  {
   "cell_type": "markdown",
   "id": "032081f5",
   "metadata": {},
   "source": [
    "### Map Function\n",
    "\n",
    "- Sequence 자료형 각 element에 동일한 function을 적용함.\n",
    "- map(function_name, list_data)"
   ]
  },
  {
   "cell_type": "code",
   "execution_count": 5,
   "id": "91e6d651",
   "metadata": {},
   "outputs": [
    {
     "name": "stdout",
     "output_type": "stream",
     "text": [
      "[1, 4, 9, 16, 25]\n"
     ]
    }
   ],
   "source": [
    "ex = [1, 2, 3, 4, 5]\n",
    "\n",
    "f = lambda x: x**2\n",
    "\n",
    "print(list(map(f, ex)))"
   ]
  },
  {
   "cell_type": "code",
   "execution_count": 6,
   "id": "c2e79fc4",
   "metadata": {},
   "outputs": [
    {
     "name": "stdout",
     "output_type": "stream",
     "text": [
      "[2, 4, 6, 8, 10]\n"
     ]
    }
   ],
   "source": [
    "ex = [1, 2, 3, 4, 5]\n",
    "\n",
    "f = lambda x, y: x+y\n",
    "\n",
    "print(list(map(f, ex, ex)))"
   ]
  },
  {
   "cell_type": "code",
   "execution_count": 10,
   "id": "7bd6f1f0",
   "metadata": {},
   "outputs": [
    {
     "data": {
      "text/plain": [
       "[1, 4, 3, 16, 5]"
      ]
     },
     "execution_count": 10,
     "metadata": {},
     "output_type": "execute_result"
    }
   ],
   "source": [
    "ex = [1, 2, 3, 4, 5]\n",
    "\n",
    "list(map(\n",
    "    lambda x: x**2 if x % 2 == 0 else x,\n",
    "    ex\n",
    "))"
   ]
  },
  {
   "cell_type": "code",
   "execution_count": 11,
   "id": "2014993f",
   "metadata": {},
   "outputs": [
    {
     "data": {
      "text/plain": [
       "[1, 4, 9, 16, 25]"
      ]
     },
     "execution_count": 11,
     "metadata": {},
     "output_type": "execute_result"
    }
   ],
   "source": [
    "# list comprehension을 이용.\n",
    "ex = [1, 2, 3, 4, 5]\n",
    "\n",
    "[value ** 2 for value in ex]"
   ]
  },
  {
   "cell_type": "code",
   "execution_count": 12,
   "id": "abc03a4f",
   "metadata": {},
   "outputs": [
    {
     "name": "stdout",
     "output_type": "stream",
     "text": [
      "[2, 4, 6, 8, 10]\n",
      "<map object at 0x0000023A2AE41730>\n"
     ]
    }
   ],
   "source": [
    "#Python3 에는 list를 꼭 붙여야 함.\n",
    "ex = [1, 2, 3, 4, 5]\n",
    "print(list(map(lambda x: x+x, ex)))\n",
    "print((map(lambda x: x+x, ex)))"
   ]
  },
  {
   "cell_type": "code",
   "execution_count": 13,
   "id": "4d803e01",
   "metadata": {},
   "outputs": [
    {
     "name": "stdout",
     "output_type": "stream",
     "text": [
      "<map object at 0x0000023A2AE41D30>\n",
      "1\n",
      "4\n",
      "9\n",
      "16\n",
      "25\n"
     ]
    }
   ],
   "source": [
    "f = lambda x: x**2\n",
    "print(map(f, ex))\n",
    "for i in map(f, ex):\n",
    "    print(i)"
   ]
  },
  {
   "cell_type": "markdown",
   "id": "abc13371",
   "metadata": {},
   "source": [
    "### Reduce Function\n",
    "\n",
    "- map function과 달리 list에 똑같은 함수를 적용해서 통합."
   ]
  },
  {
   "cell_type": "code",
   "execution_count": 14,
   "id": "441dfb9f",
   "metadata": {},
   "outputs": [
    {
     "name": "stdout",
     "output_type": "stream",
     "text": [
      "15\n"
     ]
    }
   ],
   "source": [
    "from functools import reduce\n",
    "\n",
    "print(reduce(lambda x, y: x+y, [1, 2, 3, 4, 5]))"
   ]
  },
  {
   "cell_type": "code",
   "execution_count": 15,
   "id": "7ee2787f",
   "metadata": {},
   "outputs": [
    {
     "data": {
      "text/plain": [
       "120"
      ]
     },
     "execution_count": 15,
     "metadata": {},
     "output_type": "execute_result"
    }
   ],
   "source": [
    "def factorial(n):\n",
    "    return reduce(\n",
    "            lambda x, y: x*y, range(1, n+1))\n",
    "\n",
    "factorial(5)"
   ]
  },
  {
   "cell_type": "code",
   "execution_count": null,
   "id": "0f591a87",
   "metadata": {},
   "outputs": [],
   "source": []
  }
 ],
 "metadata": {
  "kernelspec": {
   "display_name": "Python 3 (ipykernel)",
   "language": "python",
   "name": "python3"
  },
  "language_info": {
   "codemirror_mode": {
    "name": "ipython",
    "version": 3
   },
   "file_extension": ".py",
   "mimetype": "text/x-python",
   "name": "python",
   "nbconvert_exporter": "python",
   "pygments_lexer": "ipython3",
   "version": "3.8.6"
  }
 },
 "nbformat": 4,
 "nbformat_minor": 5
}
