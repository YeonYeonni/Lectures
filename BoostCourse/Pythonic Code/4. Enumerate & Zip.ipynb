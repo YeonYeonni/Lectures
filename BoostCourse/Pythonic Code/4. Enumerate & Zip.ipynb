{
 "cells": [
  {
   "cell_type": "markdown",
   "id": "e6d2c770",
   "metadata": {},
   "source": [
    "Keyword\n",
    "\n",
    "enumerate\n",
    "- 리스트의 값을 추출할 때 함께 인덱스를 추출.\n",
    "\n",
    "zip\n",
    "- 두 개 이상의 list 값을 병렬적으로 추출."
   ]
  },
  {
   "cell_type": "markdown",
   "id": "72382ced",
   "metadata": {},
   "source": [
    "### Enumerate\n",
    "\n",
    "- List의 element를 추출할 때 번호를 붙여서 추출."
   ]
  },
  {
   "cell_type": "code",
   "execution_count": 1,
   "id": "0f0a3d9f",
   "metadata": {},
   "outputs": [
    {
     "name": "stdout",
     "output_type": "stream",
     "text": [
      "0 tic\n",
      "1 tac\n",
      "2 toe\n"
     ]
    }
   ],
   "source": [
    "# list에 있는 index와 값을 unpacking\n",
    "for i, v in enumerate(['tic', 'tac', 'toe']):\n",
    "    print (i, v)"
   ]
  },
  {
   "cell_type": "code",
   "execution_count": 2,
   "id": "b0472499",
   "metadata": {},
   "outputs": [
    {
     "data": {
      "text/plain": [
       "[(0, 'a'), (1, 'b'), (2, 'c'), (3, 'd')]"
      ]
     },
     "execution_count": 2,
     "metadata": {},
     "output_type": "execute_result"
    }
   ],
   "source": [
    "mylist = ['a', 'b', 'c', 'd']\n",
    "list(enumerate(mylist)) # list에 있는 index와 값을 unpacking하여 list로 저장."
   ]
  },
  {
   "cell_type": "code",
   "execution_count": 3,
   "id": "8226cb5c",
   "metadata": {},
   "outputs": [
    {
     "data": {
      "text/plain": [
       "{0: 'Gachon',\n",
       " 1: 'University',\n",
       " 2: 'is',\n",
       " 3: 'an',\n",
       " 4: 'academic',\n",
       " 5: 'institute',\n",
       " 6: 'located',\n",
       " 7: 'in',\n",
       " 8: 'South',\n",
       " 9: 'Korea.'}"
      ]
     },
     "execution_count": 3,
     "metadata": {},
     "output_type": "execute_result"
    }
   ],
   "source": [
    "# 문장을 list로 만들고 list의 index와 값을 unpacking,\n",
    "# dict로 저장.\n",
    "{i:j for i,j in enumerate('Gachon University is an academic institute located in South Korea.'.split())}"
   ]
  },
  {
   "cell_type": "markdown",
   "id": "76abbf96",
   "metadata": {},
   "source": [
    "### Zip\n",
    "- 두 개의 list 값을 병렬적으로 추출."
   ]
  },
  {
   "cell_type": "code",
   "execution_count": 4,
   "id": "de239f6b",
   "metadata": {},
   "outputs": [
    {
     "name": "stdout",
     "output_type": "stream",
     "text": [
      "a1 b1\n",
      "a2 b2\n",
      "a3 b3\n"
     ]
    }
   ],
   "source": [
    "alist = ['a1', 'a2', 'a3']\n",
    "blist = ['b1', 'b2', 'b3']\n",
    "for a, b in zip(alist, blist):\n",
    "    print(a, b)"
   ]
  },
  {
   "cell_type": "code",
   "execution_count": 5,
   "id": "7169b92f",
   "metadata": {},
   "outputs": [
    {
     "name": "stdout",
     "output_type": "stream",
     "text": [
      "(1, 10, 100) (2, 20, 200) (3, 30, 300)\n"
     ]
    }
   ],
   "source": [
    "# 각 tuple의 같은 index끼리.\n",
    "a, b, c = zip((1, 2, 3), (10, 20, 30), (100, 200, 300))\n",
    "\n",
    "print(a, b, c)"
   ]
  },
  {
   "cell_type": "code",
   "execution_count": 6,
   "id": "2ff00fb1",
   "metadata": {},
   "outputs": [
    {
     "data": {
      "text/plain": [
       "[111, 222, 333]"
      ]
     },
     "execution_count": 6,
     "metadata": {},
     "output_type": "execute_result"
    }
   ],
   "source": [
    "# 각 tuple의 같은 index끼리 묶어 합을 list로 변환.\n",
    "[sum(x) for x in zip((1, 2, 3), (10, 20, 30), (100, 200, 300))]"
   ]
  },
  {
   "cell_type": "markdown",
   "id": "b27d6ec6",
   "metadata": {},
   "source": [
    "### Enumerate & Zip"
   ]
  },
  {
   "cell_type": "code",
   "execution_count": 7,
   "id": "c17a6c3f",
   "metadata": {},
   "outputs": [
    {
     "name": "stdout",
     "output_type": "stream",
     "text": [
      "0 a1 b1\n",
      "1 a2 b2\n",
      "2 a3 b3\n"
     ]
    }
   ],
   "source": [
    "alist = ['a1', 'a2', 'a3']\n",
    "blist = ['b1', 'b2', 'b3']\n",
    "\n",
    "for i, (a, b) in enumerate(zip(alist, blist)):\n",
    "    print(i, a, b) # index alist[index] blist[index]"
   ]
  },
  {
   "cell_type": "code",
   "execution_count": null,
   "id": "adaa871f",
   "metadata": {},
   "outputs": [],
   "source": []
  }
 ],
 "metadata": {
  "kernelspec": {
   "display_name": "Python 3 (ipykernel)",
   "language": "python",
   "name": "python3"
  },
  "language_info": {
   "codemirror_mode": {
    "name": "ipython",
    "version": 3
   },
   "file_extension": ".py",
   "mimetype": "text/x-python",
   "name": "python",
   "nbconvert_exporter": "python",
   "pygments_lexer": "ipython3",
   "version": "3.8.6"
  }
 },
 "nbformat": 4,
 "nbformat_minor": 5
}
