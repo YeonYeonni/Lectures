{
 "cells": [
  {
   "cell_type": "markdown",
   "id": "0028e613",
   "metadata": {},
   "source": [
    "- String Type의 값을 List 형태로 변환.\n",
    "- List Type의 값을 String Type으로 변환."
   ]
  },
  {
   "cell_type": "markdown",
   "id": "cc8f62fc",
   "metadata": {},
   "source": [
    "Keyword\n",
    "\n",
    "- Split\n",
    "- Join\n",
    "- String\n",
    "- List\n",
    "- Unpacking"
   ]
  },
  {
   "cell_type": "markdown",
   "id": "2cb2940d",
   "metadata": {},
   "source": [
    "### Split\n",
    "\n",
    "- String Type의 값을 나눠서 List 형태로 변환."
   ]
  },
  {
   "cell_type": "code",
   "execution_count": 3,
   "id": "205500ad",
   "metadata": {},
   "outputs": [
    {
     "name": "stdout",
     "output_type": "stream",
     "text": [
      "['zero', 'one', 'two', 'three']\n"
     ]
    }
   ],
   "source": [
    "# 빈칸을 기준으로 문자열 나누기.\n",
    "items = 'zero one two three'.split() \n",
    "print(items)"
   ]
  },
  {
   "cell_type": "code",
   "execution_count": 11,
   "id": "bc78415b",
   "metadata": {},
   "outputs": [
    {
     "data": {
      "text/plain": [
       "['python', ' jquery', ' javascript']"
      ]
     },
     "execution_count": 11,
     "metadata": {},
     "output_type": "execute_result"
    }
   ],
   "source": [
    "# ',' 를 기준으로 문자열 나누기.\n",
    "example = 'python, jquery, javascript'\n",
    "example.split(',')"
   ]
  },
  {
   "cell_type": "code",
   "execution_count": 12,
   "id": "676eb6d9",
   "metadata": {},
   "outputs": [],
   "source": [
    "# 리스트에 있는 각 값을 a, b, c 변수로 unpacking\n",
    "a, b, c = example.split(',')\n",
    "\n",
    "# python, jquery, javascript"
   ]
  },
  {
   "cell_type": "code",
   "execution_count": 13,
   "id": "14565267",
   "metadata": {},
   "outputs": [],
   "source": [
    "# '.'을 기준으로 문자열 나누기 -> Unpacking\n",
    "example = 'cs50.gachon.edu'\n",
    "subdomain, domain, tld = example.split('.')"
   ]
  },
  {
   "cell_type": "markdown",
   "id": "c56df09e",
   "metadata": {},
   "source": [
    "### Join\n",
    "- String List를 합쳐 하나의 String으로 반환할 때 사용."
   ]
  },
  {
   "cell_type": "code",
   "execution_count": 14,
   "id": "72bad509",
   "metadata": {},
   "outputs": [
    {
     "name": "stdout",
     "output_type": "stream",
     "text": [
      "redbluegreenyellow\n"
     ]
    }
   ],
   "source": [
    "colors = ['red', 'blue', 'green', 'yellow']\n",
    "result = ''.join(colors)\n",
    "print(result)"
   ]
  },
  {
   "cell_type": "code",
   "execution_count": 15,
   "id": "2213679f",
   "metadata": {},
   "outputs": [
    {
     "name": "stdout",
     "output_type": "stream",
     "text": [
      "red blue green yellow\n"
     ]
    }
   ],
   "source": [
    "# 연결 시 빈칸 1칸으로 연결.\n",
    "result = ' '.join(colors)\n",
    "print(result)"
   ]
  },
  {
   "cell_type": "code",
   "execution_count": 16,
   "id": "dc195bdc",
   "metadata": {},
   "outputs": [
    {
     "name": "stdout",
     "output_type": "stream",
     "text": [
      "red, blue, green, yellow\n"
     ]
    }
   ],
   "source": [
    "# 연결 시 ', '으로 연결\n",
    "result = ', '.join(colors)\n",
    "print(result)"
   ]
  },
  {
   "cell_type": "code",
   "execution_count": 17,
   "id": "3dffdef5",
   "metadata": {},
   "outputs": [
    {
     "name": "stdout",
     "output_type": "stream",
     "text": [
      "red-blue-green-yellow\n"
     ]
    }
   ],
   "source": [
    "# 연결 시 '-'으로 연결\n",
    "result = '-'.join(colors)\n",
    "print(result)"
   ]
  },
  {
   "cell_type": "code",
   "execution_count": null,
   "id": "7c8b204c",
   "metadata": {},
   "outputs": [],
   "source": []
  }
 ],
 "metadata": {
  "kernelspec": {
   "display_name": "Python 3 (ipykernel)",
   "language": "python",
   "name": "python3"
  },
  "language_info": {
   "codemirror_mode": {
    "name": "ipython",
    "version": 3
   },
   "file_extension": ".py",
   "mimetype": "text/x-python",
   "name": "python",
   "nbconvert_exporter": "python",
   "pygments_lexer": "ipython3",
   "version": "3.8.6"
  }
 },
 "nbformat": 4,
 "nbformat_minor": 5
}
