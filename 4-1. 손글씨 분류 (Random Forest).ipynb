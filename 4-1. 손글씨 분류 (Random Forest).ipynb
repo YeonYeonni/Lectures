{
 "cells": [
  {
   "cell_type": "markdown",
   "id": "6b5cf514",
   "metadata": {},
   "source": [
    "## Random Forest로 손글씨 분류하기"
   ]
  },
  {
   "cell_type": "code",
   "execution_count": 1,
   "id": "7d227a6a",
   "metadata": {},
   "outputs": [],
   "source": [
    "import pandas as pd\n",
    "import numpy as np\n",
    "import matplotlib.pyplot as plt\n",
    "\n",
    "np.random.seed(2021)"
   ]
  },
  {
   "cell_type": "markdown",
   "id": "d950577d",
   "metadata": {},
   "source": [
    "## 1. Data"
   ]
  },
  {
   "cell_type": "markdown",
   "id": "dc85bfa8",
   "metadata": {},
   "source": [
    "### 1.1 Data Load\n",
    "\n",
    "- 손글씨 데이터는 0 ~ 9까지의 숫자를 손으로 쓴 데이터."
   ]
  },
  {
   "cell_type": "code",
   "execution_count": 2,
   "id": "6c4ea5f6",
   "metadata": {},
   "outputs": [],
   "source": [
    "from sklearn.datasets import load_digits\n",
    "\n",
    "digits = load_digits()"
   ]
  },
  {
   "cell_type": "code",
   "execution_count": 3,
   "id": "c3a4412c",
   "metadata": {},
   "outputs": [],
   "source": [
    "data, target = digits['data'], digits['target']"
   ]
  },
  {
   "cell_type": "markdown",
   "id": "1b061dd8",
   "metadata": {},
   "source": [
    "### 1.2 EDA"
   ]
  },
  {
   "cell_type": "markdown",
   "id": "c19ef118",
   "metadata": {},
   "source": [
    "데이터는 각 픽셀의 값을 나타냄."
   ]
  },
  {
   "cell_type": "code",
   "execution_count": 4,
   "id": "a65af191",
   "metadata": {},
   "outputs": [
    {
     "data": {
      "text/plain": [
       "(array([ 0.,  0.,  5., 13.,  9.,  1.,  0.,  0.,  0.,  0., 13., 15., 10.,\n",
       "        15.,  5.,  0.,  0.,  3., 15.,  2.,  0., 11.,  8.,  0.,  0.,  4.,\n",
       "        12.,  0.,  0.,  8.,  8.,  0.,  0.,  5.,  8.,  0.,  0.,  9.,  8.,\n",
       "         0.,  0.,  4., 11.,  0.,  1., 12.,  7.,  0.,  0.,  2., 14.,  5.,\n",
       "        10., 12.,  0.,  0.,  0.,  0.,  6., 13., 10.,  0.,  0.,  0.]),\n",
       " 0)"
      ]
     },
     "execution_count": 4,
     "metadata": {},
     "output_type": "execute_result"
    }
   ],
   "source": [
    "data[0], target[0]"
   ]
  },
  {
   "cell_type": "markdown",
   "id": "02bf47ef",
   "metadata": {},
   "source": [
    "데이터의 크기를 확인하면 64. 이는 8 * 8 이미지를 flatten 시킨 값."
   ]
  },
  {
   "cell_type": "code",
   "execution_count": 5,
   "id": "e96bed6e",
   "metadata": {},
   "outputs": [
    {
     "data": {
      "text/plain": [
       "(64,)"
      ]
     },
     "execution_count": 5,
     "metadata": {},
     "output_type": "execute_result"
    }
   ],
   "source": [
    "data[0].shape"
   ]
  },
  {
   "cell_type": "markdown",
   "id": "ec21ef78",
   "metadata": {},
   "source": [
    "0부터 9까지의 데이터를 시각화."
   ]
  },
  {
   "cell_type": "code",
   "execution_count": 6,
   "id": "f5fd703d",
   "metadata": {},
   "outputs": [
    {
     "data": {
      "image/png": "[encoded data removed]",
      "text/plain": [
       "<Figure size 1440x720 with 10 Axes>"
      ]
     },
     "metadata": {
      "needs_background": "light"
     },
     "output_type": "display_data"
    }
   ],
   "source": [
    "samples = data[:10].reshape(10, 8, 8)\n",
    "fig, axes = plt.subplots(nrows=2, ncols=5, figsize=(20, 10))\n",
    "for idx, sample in enumerate(samples):\n",
    "    axes[idx//5, idx%5].imshow(sample, cmap='gray')"
   ]
  },
  {
   "cell_type": "markdown",
   "id": "0e81dddb",
   "metadata": {},
   "source": [
    "### 1.3 Data split"
   ]
  },
  {
   "cell_type": "code",
   "execution_count": 8,
   "id": "309178d8",
   "metadata": {},
   "outputs": [],
   "source": [
    "from sklearn.model_selection import train_test_split\n",
    "\n",
    "train_data, test_data, train_target, test_target = train_test_split(\n",
    "    data, target, train_size=0.7, random_state=2021\n",
    ")"
   ]
  },
  {
   "cell_type": "code",
   "execution_count": 9,
   "id": "3e2a1cba",
   "metadata": {},
   "outputs": [
    {
     "name": "stdout",
     "output_type": "stream",
     "text": [
      "train_data size: 1257, 0.70\n",
      "test_data size: 540, 0.30\n"
     ]
    }
   ],
   "source": [
    "print(f'train_data size: {len(train_target)}, {len(train_target)/len(data):.2f}')\n",
    "print(f'test_data size: {len(test_target)}, {len(test_target)/len(data):.2f}')"
   ]
  },
  {
   "cell_type": "markdown",
   "id": "0bd6fdb7",
   "metadata": {},
   "source": [
    "## 2. Random Forest"
   ]
  },
  {
   "cell_type": "code",
   "execution_count": 10,
   "id": "512f7345",
   "metadata": {},
   "outputs": [],
   "source": [
    "from sklearn.ensemble import RandomForestClassifier\n",
    "\n",
    "random_forest = RandomForestClassifier()"
   ]
  },
  {
   "cell_type": "markdown",
   "id": "7124b7f2",
   "metadata": {},
   "source": [
    "### 2.1 학습"
   ]
  },
  {
   "cell_type": "code",
   "execution_count": 11,
   "id": "70688c1c",
   "metadata": {},
   "outputs": [
    {
     "data": {
      "text/plain": [
       "RandomForestClassifier()"
      ]
     },
     "execution_count": 11,
     "metadata": {},
     "output_type": "execute_result"
    }
   ],
   "source": [
    "random_forest.fit(train_data, train_target)"
   ]
  },
  {
   "cell_type": "markdown",
   "id": "ce0fb1c0",
   "metadata": {},
   "source": [
    "### 2.2 Feature Importance"
   ]
  },
  {
   "cell_type": "code",
   "execution_count": 19,
   "id": "b21c26e2",
   "metadata": {},
   "outputs": [
    {
     "data": {
      "text/plain": [
       "array([0.00000000e+00, 2.22027389e-03, 2.01089999e-02, 1.07830476e-02,\n",
       "       9.51528198e-03, 2.36360479e-02, 9.31093623e-03, 6.69196714e-04,\n",
       "       8.85114030e-06, 8.82351373e-03, 2.63886754e-02, 6.78867334e-03,\n",
       "       1.54145479e-02, 2.58694831e-02, 5.88021424e-03, 4.15847662e-04,\n",
       "       0.00000000e+00, 6.79631151e-03, 2.29701107e-02, 2.65587908e-02,\n",
       "       3.23883747e-02, 4.61493602e-02, 9.64852734e-03, 2.12386017e-04,\n",
       "       1.65085512e-05, 1.53382481e-02, 4.21053792e-02, 2.57443328e-02,\n",
       "       3.07340934e-02, 1.89734748e-02, 3.20272649e-02, 6.33666089e-05,\n",
       "       0.00000000e+00, 3.04673193e-02, 2.16692479e-02, 2.20796421e-02,\n",
       "       3.91744952e-02, 1.99743626e-02, 2.36173762e-02, 0.00000000e+00,\n",
       "       1.17972340e-05, 1.03136921e-02, 3.92388221e-02, 3.67256272e-02,\n",
       "       2.11985343e-02, 2.03332950e-02, 1.74046206e-02, 8.96174336e-05,\n",
       "       4.31000081e-05, 2.92475245e-03, 1.62593325e-02, 2.46582747e-02,\n",
       "       1.44533638e-02, 2.65565338e-02, 2.35906893e-02, 1.84734419e-03,\n",
       "       7.11059765e-05, 2.59587724e-03, 2.17536511e-02, 1.20310587e-02,\n",
       "       2.69356351e-02, 2.94907310e-02, 1.61051482e-02, 2.82483197e-03])"
      ]
     },
     "execution_count": 19,
     "metadata": {},
     "output_type": "execute_result"
    }
   ],
   "source": [
    "# 각 feature 별 feature_importances\n",
    "random_forest.feature_importances_"
   ]
  },
  {
   "cell_type": "code",
   "execution_count": 12,
   "id": "4bcb3cc9",
   "metadata": {},
   "outputs": [],
   "source": [
    "feature_importance = pd.Series(random_forest.feature_importances_)"
   ]
  },
  {
   "cell_type": "code",
   "execution_count": 13,
   "id": "7c32a70f",
   "metadata": {},
   "outputs": [
    {
     "data": {
      "text/plain": [
       "0    0.000000\n",
       "1    0.002220\n",
       "2    0.020109\n",
       "3    0.010783\n",
       "4    0.009515\n",
       "5    0.023636\n",
       "6    0.009311\n",
       "7    0.000669\n",
       "8    0.000009\n",
       "9    0.008824\n",
       "dtype: float64"
      ]
     },
     "execution_count": 13,
     "metadata": {},
     "output_type": "execute_result"
    }
   ],
   "source": [
    "# 정렬되어 있지 않은 값들.\n",
    "feature_importance.head(10)"
   ]
  },
  {
   "cell_type": "code",
   "execution_count": 14,
   "id": "c2c55fee",
   "metadata": {},
   "outputs": [],
   "source": [
    "# 내림차순 정렬\n",
    "feature_importance = feature_importance.sort_values(ascending=False)"
   ]
  },
  {
   "cell_type": "markdown",
   "id": "9274bd2d",
   "metadata": {},
   "source": [
    "- 전 예제의 DataFrame의 경우, 어떤 값을 기준으로 정렬하는지를 정해줘야함.\n",
    "- 현 예제의 Series의 경우, 기준을 지정해주지 않고 sort_values를 사용할 수 있음."
   ]
  },
  {
   "cell_type": "code",
   "execution_count": 15,
   "id": "c915a617",
   "metadata": {},
   "outputs": [
    {
     "data": {
      "text/plain": [
       "21    0.046149\n",
       "26    0.042105\n",
       "42    0.039239\n",
       "36    0.039174\n",
       "43    0.036726\n",
       "20    0.032388\n",
       "30    0.032027\n",
       "28    0.030734\n",
       "33    0.030467\n",
       "61    0.029491\n",
       "dtype: float64"
      ]
     },
     "execution_count": 15,
     "metadata": {},
     "output_type": "execute_result"
    }
   ],
   "source": [
    "feature_importance.head(10)"
   ]
  },
  {
   "cell_type": "code",
   "execution_count": 16,
   "id": "f2f1f887",
   "metadata": {},
   "outputs": [
    {
     "data": {
      "text/plain": [
       "<AxesSubplot:>"
      ]
     },
     "execution_count": 16,
     "metadata": {},
     "output_type": "execute_result"
    },
    {
     "data": {
      "image/png": "[encoded data removed]",
      "text/plain": [
       "<Figure size 432x288 with 1 Axes>"
      ]
     },
     "metadata": {
      "needs_background": "light"
     },
     "output_type": "display_data"
    }
   ],
   "source": [
    "feature_importance.head(10).plot(kind='barh')"
   ]
  },
  {
   "cell_type": "code",
   "execution_count": 17,
   "id": "23c18d61",
   "metadata": {},
   "outputs": [
    {
     "data": {
      "text/plain": [
       "(-0.5, 7.5, 7.5, -0.5)"
      ]
     },
     "execution_count": 17,
     "metadata": {},
     "output_type": "execute_result"
    },
    {
     "data": {
      "image/png": "[encoded data removed]",
      "text/plain": [
       "<Figure size 432x288 with 2 Axes>"
      ]
     },
     "metadata": {
      "needs_background": "light"
     },
     "output_type": "display_data"
    }
   ],
   "source": [
    "image = random_forest.feature_importances_.reshape(8, 8)\n",
    "\n",
    "plt.imshow(image, cmap=plt.cm.hot, interpolation='nearest')\n",
    "cbar = plt.colorbar(ticks=[random_forest.feature_importances_.min(), random_forest.feature_importances_.max()])\n",
    "cbar.ax.set_yticklabels(['Not Important', 'Very Important'])\n",
    "plt.axis('off')"
   ]
  },
  {
   "cell_type": "markdown",
   "id": "12d5978d",
   "metadata": {},
   "source": [
    "- 색이 밝을수록 중요하다는 의미."
   ]
  },
  {
   "cell_type": "markdown",
   "id": "07547a6f",
   "metadata": {},
   "source": [
    "### 2.3 예측"
   ]
  },
  {
   "cell_type": "code",
   "execution_count": 20,
   "id": "6b6e3298",
   "metadata": {},
   "outputs": [],
   "source": [
    "train_pred = random_forest.predict(train_data)\n",
    "test_pred = random_forest.predict(test_data)"
   ]
  },
  {
   "cell_type": "markdown",
   "id": "2ee54652",
   "metadata": {},
   "source": [
    "- 실제 데이터를 그려보기"
   ]
  },
  {
   "cell_type": "code",
   "execution_count": 21,
   "id": "83c1a240",
   "metadata": {},
   "outputs": [
    {
     "data": {
      "text/plain": [
       "<matplotlib.image.AxesImage at 0x218e2a84dc0>"
      ]
     },
     "execution_count": 21,
     "metadata": {},
     "output_type": "execute_result"
    },
    {
     "data": {
      "image/png": "[encoded data removed]",
      "text/plain": [
       "<Figure size 432x288 with 1 Axes>"
      ]
     },
     "metadata": {
      "needs_background": "light"
     },
     "output_type": "display_data"
    }
   ],
   "source": [
    "plt.imshow(train_data[4].reshape(8, 8), cmap='gray')"
   ]
  },
  {
   "cell_type": "markdown",
   "id": "e3387503",
   "metadata": {},
   "source": [
    "- 이 데이터에 대한 값이 9로, 잘 예측하였음을 볼 수 있음."
   ]
  },
  {
   "cell_type": "code",
   "execution_count": 22,
   "id": "b075e0f6",
   "metadata": {},
   "outputs": [
    {
     "data": {
      "text/plain": [
       "9"
      ]
     },
     "execution_count": 22,
     "metadata": {},
     "output_type": "execute_result"
    }
   ],
   "source": [
    "train_pred[4]"
   ]
  },
  {
   "cell_type": "markdown",
   "id": "4061a409",
   "metadata": {},
   "source": [
    "### 2.4 평가"
   ]
  },
  {
   "cell_type": "code",
   "execution_count": 23,
   "id": "4b2a937a",
   "metadata": {},
   "outputs": [],
   "source": [
    "from sklearn.metrics import accuracy_score\n",
    "\n",
    "train_acc = accuracy_score(train_target, train_pred)\n",
    "test_acc = accuracy_score(test_target, test_pred)"
   ]
  },
  {
   "cell_type": "code",
   "execution_count": 24,
   "id": "9625bffc",
   "metadata": {},
   "outputs": [
    {
     "name": "stdout",
     "output_type": "stream",
     "text": [
      "train accuracy is 1.0000\n",
      "test accuracy is 0.9667\n"
     ]
    }
   ],
   "source": [
    "print(f'train accuracy is {train_acc:.4f}')\n",
    "print(f'test accuracy is {test_acc:.4f}')"
   ]
  },
  {
   "cell_type": "markdown",
   "id": "2a952ca7",
   "metadata": {},
   "source": [
    "## 3. Best Hyper Parameter"
   ]
  },
  {
   "cell_type": "markdown",
   "id": "6bd1747f",
   "metadata": {},
   "source": [
    "- 주로 탐색하는 argument들..\n",
    "    - n_estimators\n",
    "        - 몇 개의 나무를 생성할 것인지.\n",
    "    - criterion\n",
    "        - 어떤 정보 이득을 기준으로 데이터를 나눌지.\n",
    "        - 'gini', 'entropy'\n",
    "    - max_depth\n",
    "        - 나무의 최대 깊이.\n",
    "    - min_samples_split\n",
    "        - 노드가 나눠질 수 있는 최소 데이터 개수."
   ]
  },
  {
   "cell_type": "markdown",
   "id": "68ce9d75",
   "metadata": {},
   "source": [
    "- 탐색해야할 argument들이 많을 때는 일일이 지정을 하거나 for loop을 작성하기 힘들어진다.\n",
    "- 이 때 사용할 수 있는 것이 sklearn.model_selection의 GridSearchCV."
   ]
  },
  {
   "cell_type": "code",
   "execution_count": 25,
   "id": "a5f3742b",
   "metadata": {},
   "outputs": [],
   "source": [
    "from sklearn.model_selection import GridSearchCV"
   ]
  },
  {
   "cell_type": "markdown",
   "id": "e933c52a",
   "metadata": {},
   "source": [
    "### 3.1 탐색 범위 선정"
   ]
  },
  {
   "cell_type": "markdown",
   "id": "ac566e61",
   "metadata": {},
   "source": [
    "- 탐색할 값들의 argument와 범위를 지정."
   ]
  },
  {
   "cell_type": "code",
   "execution_count": 26,
   "id": "fda01e32",
   "metadata": {},
   "outputs": [],
   "source": [
    "params = {\n",
    "    'n_estimators': [i for i in range(100, 1000, 200)],\n",
    "    'max_depth': [i for i in range(10, 50, 10)],\n",
    "}"
   ]
  },
  {
   "cell_type": "code",
   "execution_count": 27,
   "id": "9e9894fb",
   "metadata": {},
   "outputs": [
    {
     "data": {
      "text/plain": [
       "{'n_estimators': [100, 300, 500, 700, 900], 'max_depth': [10, 20, 30, 40]}"
      ]
     },
     "execution_count": 27,
     "metadata": {},
     "output_type": "execute_result"
    }
   ],
   "source": [
    "params"
   ]
  },
  {
   "cell_type": "markdown",
   "id": "26e3515c",
   "metadata": {},
   "source": [
    "- 탐색에 사용할 모델 생성."
   ]
  },
  {
   "cell_type": "code",
   "execution_count": 28,
   "id": "4bd541e8",
   "metadata": {},
   "outputs": [],
   "source": [
    "random_forest = RandomForestClassifier()"
   ]
  },
  {
   "cell_type": "markdown",
   "id": "790900f6",
   "metadata": {},
   "source": [
    "### 3.2 탐색"
   ]
  },
  {
   "cell_type": "markdown",
   "id": "b7d61399",
   "metadata": {},
   "source": [
    "- 탐색을 시작.\n",
    "- cv는 k-fold의 k값."
   ]
  },
  {
   "cell_type": "code",
   "execution_count": 30,
   "id": "44cf9185",
   "metadata": {},
   "outputs": [],
   "source": [
    "# estimator에 모델, param_gird에 parameters.\n",
    "grid = GridSearchCV(estimator=random_forest, param_grid=params, cv=3)\n",
    "grid = grid.fit(train_data, train_target)"
   ]
  },
  {
   "cell_type": "markdown",
   "id": "dbcecd6f",
   "metadata": {},
   "source": [
    "- 이번 모델의 경우,\n",
    "    - n_estimators는 5개, max_depth는 4개의 경우가 있음.\n",
    "    - 총 경우의 수는 20.\n",
    "    - 여기에 cv가 3이기 때문에 총 60개의 모델을 탐색."
   ]
  },
  {
   "cell_type": "markdown",
   "id": "a0f28945",
   "metadata": {},
   "source": [
    "### 3.3 결과"
   ]
  },
  {
   "cell_type": "code",
   "execution_count": 31,
   "id": "894e3520",
   "metadata": {},
   "outputs": [
    {
     "name": "stdout",
     "output_type": "stream",
     "text": [
      "Best score of parameter search is: 0.9714\n"
     ]
    }
   ],
   "source": [
    "print(f'Best score of parameter search is: {grid.best_score_:.4f}')"
   ]
  },
  {
   "cell_type": "code",
   "execution_count": 37,
   "id": "d82a408b",
   "metadata": {},
   "outputs": [
    {
     "data": {
      "text/plain": [
       "{'max_depth': 20, 'n_estimators': 700}"
      ]
     },
     "execution_count": 37,
     "metadata": {},
     "output_type": "execute_result"
    }
   ],
   "source": [
    "# 위 best score이 어느 argument들에게서 나왔는지.\n",
    "grid.best_params_"
   ]
  },
  {
   "cell_type": "code",
   "execution_count": 34,
   "id": "b6101981",
   "metadata": {},
   "outputs": [
    {
     "name": "stdout",
     "output_type": "stream",
     "text": [
      "Best parameter of best score is\n",
      "\t max_depth: 20\n",
      "\t n_estimators: 700\n"
     ]
    }
   ],
   "source": [
    "print('Best parameter of best score is')\n",
    "print(f\"\\t max_depth: {grid.best_params_['max_depth']}\")\n",
    "print(f\"\\t n_estimators: {grid.best_params_['n_estimators']}\")"
   ]
  },
  {
   "cell_type": "code",
   "execution_count": 35,
   "id": "596b7812",
   "metadata": {},
   "outputs": [],
   "source": [
    "# 가장 좋은 성능을 보인 argument들을 포함한 새로운 객체를 생성.\n",
    "best_rf = grid.best_estimator_"
   ]
  },
  {
   "cell_type": "code",
   "execution_count": 38,
   "id": "10b9eb20",
   "metadata": {},
   "outputs": [
    {
     "data": {
      "text/plain": [
       "RandomForestClassifier(max_depth=20, n_estimators=700)"
      ]
     },
     "execution_count": 38,
     "metadata": {},
     "output_type": "execute_result"
    }
   ],
   "source": [
    "best_rf"
   ]
  },
  {
   "cell_type": "markdown",
   "id": "4e71ee7d",
   "metadata": {},
   "source": [
    "### 3.4 예측"
   ]
  },
  {
   "cell_type": "code",
   "execution_count": 39,
   "id": "ef05bdd2",
   "metadata": {},
   "outputs": [],
   "source": [
    "train_pred = best_rf.predict(train_data)\n",
    "test_pred = best_rf.predict(test_data)"
   ]
  },
  {
   "cell_type": "markdown",
   "id": "88dd6641",
   "metadata": {},
   "source": [
    "### 3.5 평가"
   ]
  },
  {
   "cell_type": "code",
   "execution_count": 40,
   "id": "42c0f65b",
   "metadata": {},
   "outputs": [],
   "source": [
    "best_train_acc = accuracy_score(train_target, train_pred)\n",
    "best_test_acc = accuracy_score(test_target, test_pred)"
   ]
  },
  {
   "cell_type": "code",
   "execution_count": 41,
   "id": "b99ea5c5",
   "metadata": {},
   "outputs": [
    {
     "name": "stdout",
     "output_type": "stream",
     "text": [
      "Best parameter train accuracy is 1.0000\n",
      "Best parameter test accuracy is 0.9685\n"
     ]
    }
   ],
   "source": [
    "print(f'Best parameter train accuracy is {best_train_acc:.4f}')\n",
    "print(f'Best parameter test accuracy is {best_test_acc:.4f}')"
   ]
  },
  {
   "cell_type": "markdown",
   "id": "7632eeb9",
   "metadata": {},
   "source": [
    "- Best parameter를 포함한 모델.\n",
    "    - 아래의 모델에 비해 성능이 증가하였음."
   ]
  },
  {
   "cell_type": "code",
   "execution_count": 42,
   "id": "7ad031dc",
   "metadata": {},
   "outputs": [
    {
     "name": "stdout",
     "output_type": "stream",
     "text": [
      "train accuracy is 1.0000\n",
      "test accuracy is 0.9667\n"
     ]
    }
   ],
   "source": [
    "print(f'train accuracy is {train_acc:.4f}')\n",
    "print(f'test accuracy is {test_acc:.4f}')"
   ]
  },
  {
   "cell_type": "markdown",
   "id": "44f2299a",
   "metadata": {},
   "source": [
    "- Best parameter를 포함하지 않은 기존의 모델."
   ]
  },
  {
   "cell_type": "markdown",
   "id": "6766b819",
   "metadata": {},
   "source": [
    "## 4. Feature Importance"
   ]
  },
  {
   "cell_type": "code",
   "execution_count": 43,
   "id": "5cde1f8b",
   "metadata": {},
   "outputs": [],
   "source": [
    "best_feature_importance = pd.Series(best_rf.feature_importances_)"
   ]
  },
  {
   "cell_type": "code",
   "execution_count": 44,
   "id": "a13539c2",
   "metadata": {},
   "outputs": [],
   "source": [
    "best_feature_importance = best_feature_importance.sort_values(ascending=False)"
   ]
  },
  {
   "cell_type": "code",
   "execution_count": 45,
   "id": "eedeb872",
   "metadata": {},
   "outputs": [
    {
     "data": {
      "text/plain": [
       "21    0.045364\n",
       "43    0.041539\n",
       "26    0.041301\n",
       "36    0.039887\n",
       "42    0.035820\n",
       "33    0.032614\n",
       "28    0.031894\n",
       "20    0.031253\n",
       "61    0.029391\n",
       "30    0.029219\n",
       "dtype: float64"
      ]
     },
     "execution_count": 45,
     "metadata": {},
     "output_type": "execute_result"
    }
   ],
   "source": [
    "best_feature_importance.head(10)"
   ]
  },
  {
   "cell_type": "code",
   "execution_count": 46,
   "id": "944707d7",
   "metadata": {},
   "outputs": [
    {
     "data": {
      "text/plain": [
       "<AxesSubplot:title={'center':'Best Parameter Feature Importance'}>"
      ]
     },
     "execution_count": 46,
     "metadata": {},
     "output_type": "execute_result"
    },
    {
     "data": {
      "image/png": "[encoded data removed]",
      "text/plain": [
       "<Figure size 1080x360 with 2 Axes>"
      ]
     },
     "metadata": {
      "needs_background": "light"
     },
     "output_type": "display_data"
    }
   ],
   "source": [
    "fig, axes = plt.subplots(nrows=1, ncols=2, figsize=(15, 5))\n",
    "feature_importance.head(10).plot(kind='barh', ax=axes[0], title='Random Forest Feature Importance')\n",
    "best_feature_importance.head(10).plot(kind='barh', ax=axes[1], title='Best Parameter Feature Importance')"
   ]
  },
  {
   "cell_type": "code",
   "execution_count": null,
   "id": "1dff9764",
   "metadata": {},
   "outputs": [],
   "source": []
  }
 ],
 "metadata": {
  "kernelspec": {
   "display_name": "Python 3 (ipykernel)",
   "language": "python",
   "name": "python3"
  },
  "language_info": {
   "codemirror_mode": {
    "name": "ipython",
    "version": 3
   },
   "file_extension": ".py",
   "mimetype": "text/x-python",
   "name": "python",
   "nbconvert_exporter": "python",
   "pygments_lexer": "ipython3",
   "version": "3.8.6"
  }
 },
 "nbformat": 4,
 "nbformat_minor": 5
}
