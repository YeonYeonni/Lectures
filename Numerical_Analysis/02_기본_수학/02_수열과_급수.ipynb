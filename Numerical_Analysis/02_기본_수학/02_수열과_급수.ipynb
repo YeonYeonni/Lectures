{
 "cells": [
  {
   "cell_type": "markdown",
   "id": "46249b4d",
   "metadata": {},
   "source": [
    "### (1) 수열과 급수"
   ]
  },
  {
   "cell_type": "markdown",
   "id": "d8c368e9",
   "metadata": {},
   "source": [
    "**수열(Sequence) : 일정한 순서로 써진 수의 나열**\n",
    "- a1: 초항\n",
    "- an: 일반항\n",
    "- 등차수열 : 각 항 사이의 차이가 일정한 수열\n",
    "    - a1 : 초항\n",
    "    - n : 항수\n",
    "    - d : 공차\n",
    "- 등비수열 : 각 항 사이의 비율이 일정한 수열\n",
    "    - a1 : 초항\n",
    "    - n : 항수\n",
    "    - r : 공비\n",
    "\n",
    "**점화식(recurrence relation)**\n",
    "- an+1 = f(an)\n",
    "\n",
    "**급수(series) : 첫째 항부터 n항까지 합한 것**\n",
    "- Sn = a1 + a2 + ... + an"
   ]
  },
  {
   "cell_type": "code",
   "execution_count": 3,
   "id": "4c187331",
   "metadata": {},
   "outputs": [
    {
     "name": "stdout",
     "output_type": "stream",
     "text": [
      "납입액:  100000 원\n",
      "연이율:  0.05\n",
      "기간 :  10 년\n",
      "원리합계 :  1320678 원\n"
     ]
    }
   ],
   "source": [
    "# 적금의 원리합계\n",
    "# 매년 초에 a원씩 넣는 적금이 연이율 r로 복리로 계산. 이 조건에서 n년 동안 넣었을 때, n년 후의 원리합계는?\n",
    "\n",
    "# 매년 적금 납입액 pay\n",
    "# 연이율 rate\n",
    "# n년\n",
    "\n",
    "import math\n",
    "import numpy as np\n",
    "\n",
    "def deposit(pay, rate, nyear):\n",
    "    rt = 1.0 + rate\n",
    "    sn = int(pay * rt * (math.pow(rt, nyear) - 1.0) / rate)\n",
    "    return sn\n",
    "\n",
    "if __name__ == '__main__':\n",
    "    a = 100000\n",
    "    r = 0.05\n",
    "    n = 10\n",
    "    print(\"납입액: \", a, '원')\n",
    "    print(\"연이율: \", r)\n",
    "    print(\"기간 : \", n, '년')\n",
    "    \n",
    "    sn = deposit(a, r, n)\n",
    "    print(\"원리합계 : \", sn, '원')"
   ]
  },
  {
   "cell_type": "markdown",
   "id": "22aa9af5",
   "metadata": {},
   "source": [
    "### (2) 극한"
   ]
  },
  {
   "cell_type": "markdown",
   "id": "294ea119",
   "metadata": {},
   "source": [
    "**수렴(converge) : 어떤 변수를 특정한 방향으로 점점 변화시킬 때, 그 수식의 결과값이 어떤 특정한 값에 점차 접근**\n",
    "- a = lim(1/x)\n",
    "- 이 경우 숫자를 0으로 나누는 것은 불가능.\n",
    "- 정확히 x가 0이 되기 직전까지는 1/x을 계산할 수 있음. 이 값은 무한대에 다가간다.\n",
    "    - lim(1/x) = infinity"
   ]
  },
  {
   "cell_type": "markdown",
   "id": "38086c76",
   "metadata": {},
   "source": [
    "### (3) 합과 곱"
   ]
  },
  {
   "cell_type": "markdown",
   "id": "88f8eb91",
   "metadata": {},
   "source": [
    "**수열의 덧셈(sum, sigma)과 곱셈(product, pi)**\n",
    "\n",
    "- 더하는 값들이 여러 항의 합으로 되어 있으면, 각각의 합을 먼저 구한 후에 더해도 된다.\n",
    "- 합이나 곱을 중첩하여 여러 번 쓰는 경우도 있다.\n",
    "- 합과 곱을 중첩하는 경우에는 중첩의 순서를 바꾸어도 결과가 같다."
   ]
  },
  {
   "cell_type": "markdown",
   "id": "d5d156f7",
   "metadata": {},
   "source": [
    "**정수의 합**\n",
    "\n",
    "- n(n + 1) / 2\n",
    "- n(n + 1)(2n + 1) / 6\n",
    "- {n(n + 1) / 2} ^ 2"
   ]
  },
  {
   "attachments": {
    "image.png": {
     "image/png": "[encoded data removed]"
    }
   },
   "cell_type": "markdown",
   "id": "69b53d62",
   "metadata": {},
   "source": [
    "![image.png](attachment:image.png)"
   ]
  },
  {
   "cell_type": "code",
   "execution_count": 5,
   "id": "b17b40d9",
   "metadata": {},
   "outputs": [
    {
     "name": "stdout",
     "output_type": "stream",
     "text": [
      "항번호      항          합계\n",
      "  0    1.00000000    1.00000000\n",
      "  1    1.00000000    2.00000000\n",
      "  2    0.50000000    2.50000000\n",
      "  3    0.16666667    2.66666667\n",
      "  4    0.04166667    2.70833333\n",
      "  5    0.00833333    2.71666667\n",
      "  6    0.00138889    2.71805556\n",
      "  7    0.00019841    2.71825397\n",
      "  8    0.00002480    2.71827877\n",
      "  9    0.00000276    2.71828153\n",
      " 10    0.00000028    2.71828180\n",
      " 11    0.00000003    2.71828183\n"
     ]
    }
   ],
   "source": [
    "# 무한급수 예제 (지수 함수)\n",
    "# 컴퓨터에서는 식을 무한히 계산할 수 없음. 1.0 x 10^-7보다 작아지면 계산을 종료\n",
    "\n",
    "def calcExp(x, err = 1.0E-7):\n",
    "    nMax = 100\n",
    "    exp = 0.0\n",
    "    np = 1.0\n",
    "    nf = 1.0\n",
    "    term = np / nf\n",
    "    exp = term\n",
    "    \n",
    "    print(\"항번호      항          합계\")\n",
    "    print(\"{0:3d}  {1:12.8f}  {2:12.8f}\".format(0, term, exp))\n",
    "    \n",
    "    for i in range(1, 100):\n",
    "        np = np * x # 분모 멱승 계산\n",
    "        nf = nf * i # 분자 계승 계산\n",
    "        term = np / nf # i번째 항\n",
    "        exp = exp + term\n",
    "        print(\"{0:3d}  {1:12.8f}  {2:12.8f}\".format(i, term, exp))\n",
    "        if(term <= err):\n",
    "            break\n",
    "            \n",
    "if __name__ == '__main__':\n",
    "    calcExp(1.0)"
   ]
  },
  {
   "cell_type": "code",
   "execution_count": null,
   "id": "5cb85faf",
   "metadata": {},
   "outputs": [],
   "source": []
  }
 ],
 "metadata": {
  "kernelspec": {
   "display_name": "Python 3 (ipykernel)",
   "language": "python",
   "name": "python3"
  },
  "language_info": {
   "codemirror_mode": {
    "name": "ipython",
    "version": 3
   },
   "file_extension": ".py",
   "mimetype": "text/x-python",
   "name": "python",
   "nbconvert_exporter": "python",
   "pygments_lexer": "ipython3",
   "version": "3.9.13"
  }
 },
 "nbformat": 4,
 "nbformat_minor": 5
}
