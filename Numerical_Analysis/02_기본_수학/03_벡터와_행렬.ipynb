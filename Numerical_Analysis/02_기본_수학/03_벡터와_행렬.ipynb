{
 "cells": [
  {
   "cell_type": "markdown",
   "id": "383e6581",
   "metadata": {},
   "source": [
    "**선형대수 (linear algebra) : 벡터, 벡터공간, 선형변환, 선형연립방정식을 다루는 대수학**\n",
    "- 벡터 (vector)와 행렬 (matrix)을 이용한 벡터연산과 선형연립방정식 풀이\n",
    "- 벡터와 행렬에 대한 일반적인 사항\n",
    "- 선형연립방정식 풀이, 역행렬 계산, 고유값 계산 등"
   ]
  },
  {
   "cell_type": "markdown",
   "id": "1b80331f",
   "metadata": {},
   "source": [
    "### (1) 자료 유형\n",
    "\n",
    "**스칼라 (scalar) : 숫자 하나로 이루어진 자료**\n",
    "- x와 같이 알파벳 소문자로 표기\n",
    "- 실수 (real number)\n",
    "- x ∈ R : 실수집합 R의 원소"
   ]
  },
  {
   "cell_type": "markdown",
   "id": "4558aa6c",
   "metadata": {},
   "source": [
    "**벡터 (vector) : 여러 개의 숫자로 이루어진 한 줄의 자료**\n",
    "- 1차원 배열\n",
    "- 그래프 상의 어떤 지점의 좌표를 나타낼 때, 가로축과 세로축의 값을 묶음\n",
    "- 행 (row)과 열 (column)을 가짐\n",
    "- 차원 (dimension) : 하나의 벡터를 이루는 자료의 수"
   ]
  },
  {
   "cell_type": "code",
   "execution_count": 1,
   "id": "95d715e9",
   "metadata": {},
   "outputs": [
    {
     "data": {
      "text/plain": [
       "array([[1],\n",
       "       [2],\n",
       "       [3],\n",
       "       [4]])"
      ]
     },
     "execution_count": 1,
     "metadata": {},
     "output_type": "execute_result"
    }
   ],
   "source": [
    "# x = [1 2 3 4]T\n",
    "import numpy as np\n",
    "x1 = np.array([[1], [2], [3], [4]])\n",
    "x1"
   ]
  },
  {
   "cell_type": "code",
   "execution_count": 2,
   "id": "45f8f10a",
   "metadata": {},
   "outputs": [
    {
     "data": {
      "text/plain": [
       "array([1, 2, 3, 4])"
      ]
     },
     "execution_count": 2,
     "metadata": {},
     "output_type": "execute_result"
    }
   ],
   "source": [
    "# 1차원 배열 객체 벡터\n",
    "x2 = np.array([1, 2, 3, 4])\n",
    "x2"
   ]
  },
  {
   "cell_type": "markdown",
   "id": "30de0c20",
   "metadata": {},
   "source": [
    "**행렬 (matrix) : 벡터 여러 개로 이루어진 자료 집합**\n",
    "- 요소들을 직사각형으로 배열한 것\n",
    "- 행렬의 크기는 행과 열의 수 (차원) 로 결정 (m x n)\n",
    "- 정방행렬 (square matrix) : 행의 수와 열의 수가 같은 행렬\n",
    "- 열벡터 (column vector) : 하나의 열로 배치된 수의 배열 (n x 1 차원의 행렬\n",
    "- 행벡터 (row vector) : 하나의 행으로 배치된 수의 배열 (1 x n 차원의 행렬)"
   ]
  },
  {
   "cell_type": "markdown",
   "id": "de384688",
   "metadata": {},
   "source": [
    "**ndarray 클래스**\n",
    "- class numpy.ndarray(shape[, dtype=float, buffer=None, offset=0, strides=None, order=None])\n",
    "    - shape : 배열의 형태를 나타내는 튜플 (n x m)\n",
    "\n",
    "\n",
    "- numpy.array(object [, dtype=None, copy=True, order='K', subok='unsafe', ndmin=0]) -> out\n",
    "    - python의 다른 객체를 이용해 행렬을 생성할 경우 사용"
   ]
  },
  {
   "cell_type": "code",
   "execution_count": 4,
   "id": "6384bcda",
   "metadata": {},
   "outputs": [
    {
     "data": {
      "text/plain": [
       "array([[11, 12, 13],\n",
       "       [21, 22, 23]])"
      ]
     },
     "execution_count": 4,
     "metadata": {},
     "output_type": "execute_result"
    }
   ],
   "source": [
    "A = np.array([[11, 12, 13], [21, 22, 23]])\n",
    "A"
   ]
  },
  {
   "cell_type": "markdown",
   "id": "2d8ce2ac",
   "metadata": {},
   "source": [
    "**zeros()**\n",
    "- 행렬 요소가 전부 0인 행렬\n",
    "\n",
    "**ones()**\n",
    "- 행렬 요소가 전부 1인 행렬\n",
    "\n",
    "**eye()**\n",
    "- 항등행렬"
   ]
  },
  {
   "cell_type": "markdown",
   "id": "db5f8a03",
   "metadata": {},
   "source": [
    "### (2) 특수한 벡터와 행렬"
   ]
  },
  {
   "cell_type": "markdown",
   "id": "f33fbe06",
   "metadata": {},
   "source": [
    "#### 영벡터와 영행렬\n",
    "\n",
    "- 영벡터 (zeros-vector) : 모든 원소가 0인 N차원 벡터\n",
    "- 열행렬 (zeros-matrix) : 모든 원소가 0인 행렬\n",
    "    - numpy.zeros(shape [, dtype=float, order='C']) -> arr"
   ]
  },
  {
   "cell_type": "code",
   "execution_count": 13,
   "id": "346f67d9",
   "metadata": {},
   "outputs": [
    {
     "data": {
      "text/plain": [
       "array([[0., 0., 0.],\n",
       "       [0., 0., 0.]])"
      ]
     },
     "execution_count": 13,
     "metadata": {},
     "output_type": "execute_result"
    }
   ],
   "source": [
    "np.zeros([2, 3])"
   ]
  },
  {
   "cell_type": "markdown",
   "id": "5279a590",
   "metadata": {},
   "source": [
    "#### 일벡터와 일행렬\n",
    "\n",
    "- 일벡터 (ones-vector) : 모든 원소가 1인 N차원 벡터\n",
    "- 일행렬 (ones-matrix) : 모든 원소가 1인 행렬\n",
    "    - numpy.ones(shape [, dtype=float, order='C']) -> arr"
   ]
  },
  {
   "cell_type": "code",
   "execution_count": 14,
   "id": "85b1f4a2",
   "metadata": {},
   "outputs": [
    {
     "data": {
      "text/plain": [
       "array([[1., 1., 1.],\n",
       "       [1., 1., 1.]])"
      ]
     },
     "execution_count": 14,
     "metadata": {},
     "output_type": "execute_result"
    }
   ],
   "source": [
    "np.ones([2, 3])"
   ]
  },
  {
   "cell_type": "markdown",
   "id": "d68c52ba",
   "metadata": {},
   "source": [
    "#### 정방행렬\n",
    "- 정방행렬 (square matrix) : 행의 개수와 열의 개수가 같은 행렬"
   ]
  },
  {
   "cell_type": "markdown",
   "id": "4df8e843",
   "metadata": {},
   "source": [
    "#### 대각행렬\n",
    "- 주대각 (main diagonal) 또는 대각 (diagonal) : 행과 열의 색인이 같은 위치\n",
    "- 비대각 (off-diagonal) : 대각 위치에 있지 않은 것\n",
    "- 대각행렬 (diagonal matrix) : 모든 비대각 요소가 0인 행렬\n",
    "    - 대각행렬이 반드시 정방행렬일 필요는 없음\n",
    "    - 비대각 성분이 0이기만 하면 된다"
   ]
  },
  {
   "cell_type": "code",
   "execution_count": 15,
   "id": "0b324419",
   "metadata": {},
   "outputs": [
    {
     "data": {
      "text/plain": [
       "array([[1, 0, 0],\n",
       "       [0, 2, 0],\n",
       "       [0, 0, 4]])"
      ]
     },
     "execution_count": 15,
     "metadata": {},
     "output_type": "execute_result"
    }
   ],
   "source": [
    "np.diag([1, 2, 4])"
   ]
  },
  {
   "cell_type": "markdown",
   "id": "10f09c39",
   "metadata": {},
   "source": [
    "#### 대칭 행렬\n",
    "- 대칭행렬 (symmetric matrix) : 전치연산을 해서 얻은 전치행렬과 원행렬이 같은 행렬"
   ]
  },
  {
   "cell_type": "markdown",
   "id": "1d06f43c",
   "metadata": {},
   "source": [
    "#### 항등 행렬\n",
    "- 항등행렬 (identity matrix) 또는 단위행렬 (unit matrix) : 대각 성분이 1이고 비대각 성분이 0인 행렬\n",
    "- AI = IA = I\n",
    "- numpy.eye(value [, dtype=float]) -> arr"
   ]
  },
  {
   "cell_type": "code",
   "execution_count": 16,
   "id": "3cf96166",
   "metadata": {},
   "outputs": [
    {
     "data": {
      "text/plain": [
       "array([[1., 0., 0.],\n",
       "       [0., 1., 0.],\n",
       "       [0., 0., 1.]])"
      ]
     },
     "execution_count": 16,
     "metadata": {},
     "output_type": "execute_result"
    }
   ],
   "source": [
    "I = np.eye(3)\n",
    "I"
   ]
  },
  {
   "cell_type": "markdown",
   "id": "6596d18d",
   "metadata": {},
   "source": [
    "#### 정부호행렬\n",
    "- 정부호 (positive definite) : n x n 행렬 A가 0이 아닌 모든 x에 대해 xT A x > 0 인 경우\n",
    "    - 어떤 행렬의 모든 소행렬식 (leading minors)의 행렬식이 양이면 그 행렬은 정부호\n",
    "    - A의 소행렬식은 n차의 정방행렬"
   ]
  },
  {
   "cell_type": "code",
   "execution_count": 17,
   "id": "d6c56388",
   "metadata": {},
   "outputs": [
    {
     "name": "stdout",
     "output_type": "stream",
     "text": [
      "정부호 아님\n"
     ]
    }
   ],
   "source": [
    "# 주어진 A 행렬에 대해 |A|를 계산하고 A가 정부호인지 판별\n",
    "# A = [[1 2 3], [1 2 1], [0 1 2]]\n",
    "# 첫 번째 행에 대한 행렬식의 Laplace 전개\n",
    "## |A| = 1|2 1 1 2| - 2|1 1 0 2| + 3|1 2 0 1| = 1(3)-2(2)+3(1) = 2 > 0\n",
    "## 소행렬식의 행렬식 A11 = 1 > 0이지만 |A11 A12 A21 A22| = |1 2 1 2| = 0이므로 정부호가 아니다\n",
    "\n",
    "import numpy as np\n",
    "\n",
    "def isPositiveDefinite(mat):\n",
    "    row, col = mat.shape\n",
    "    \n",
    "    # 정방행렬이 아니면\n",
    "    if (row != col):\n",
    "        return False\n",
    "    \n",
    "    # 소행렬 작성\n",
    "    for i in range(1, row+1):\n",
    "        am = mat[:i, :i]\n",
    "        if (np.linalg.det(am) <= 0.0):\n",
    "            return False\n",
    "        \n",
    "    return True\n",
    "\n",
    "if __name__ == '__main__':\n",
    "    mat = np.array([[1.0, 2.0, 3.0], [1.0, 2.0, 1.0], [0.0, 1.0, 2.0]])\n",
    "    \n",
    "    if isPositiveDefinite(mat):\n",
    "        print(\"정부호\")\n",
    "        \n",
    "    else:\n",
    "        print(\"정부호 아님\")"
   ]
  },
  {
   "cell_type": "markdown",
   "id": "aa453176",
   "metadata": {},
   "source": [
    "### (3) 벡터와 행렬 연산"
   ]
  },
  {
   "cell_type": "markdown",
   "id": "00fb085f",
   "metadata": {},
   "source": [
    "#### 전치\n",
    "- 전치 : 행렬의 행과 열을 서로 교환\n",
    "- 행렬 A의 전치는 A^T로 표시\n",
    "- 대칭 (symmetric) : n x n 행렬이 A^T = A일 경우\n",
    "    - 대칭행렬의 상삼각 부분의 요소는 하삼각 부분에 반사된 형태"
   ]
  },
  {
   "cell_type": "code",
   "execution_count": 18,
   "id": "232d2a2b",
   "metadata": {},
   "outputs": [
    {
     "data": {
      "text/plain": [
       "array([[11, 21, 31],\n",
       "       [12, 22, 32],\n",
       "       [13, 23, 33]])"
      ]
     },
     "execution_count": 18,
     "metadata": {},
     "output_type": "execute_result"
    }
   ],
   "source": [
    "a = np.array([[11, 12, 13], [21, 22, 23], [31, 32, 33]])\n",
    "at = a.T\n",
    "at"
   ]
  },
  {
   "cell_type": "markdown",
   "id": "6e73f39e",
   "metadata": {},
   "source": [
    "#### 덧셈\n",
    "\n",
    "- Cij = Aij + Bij, (i = 1, 2, ..., m; j = 1, 2, ..., n)\n",
    "- C의 요소는 A의 요소에 B의 요소를 더한 것\n",
    "    - 이 덧셈은 오직 같은 차원의 행렬 사이에서만 정의\n",
    "    - 단, numpy의 차원 확장 (broadcasting)을 이용하면 큰 차원의 행렬에 맞춰 작은 차원의 행렬을 차원 확장하여 계산"
   ]
  },
  {
   "cell_type": "code",
   "execution_count": 19,
   "id": "196362cf",
   "metadata": {},
   "outputs": [
    {
     "data": {
      "text/plain": [
       "array([[12, 14, 16],\n",
       "       [25, 27, 29],\n",
       "       [35, 40, 42]])"
      ]
     },
     "execution_count": 19,
     "metadata": {},
     "output_type": "execute_result"
    }
   ],
   "source": [
    "a = np.array([[11, 12, 13], [21, 22, 23], [31, 32, 33]])\n",
    "b = np.array([[1, 2, 3], [4, 5, 6], [4, 8, 9]])\n",
    "a + b"
   ]
  },
  {
   "attachments": {
    "image-2.png": {
     "image/png": "[encoded data removed]"
    }
   },
   "cell_type": "markdown",
   "id": "66a0e2db",
   "metadata": {},
   "source": [
    "#### 벡터의 곱셈\n",
    "\n",
    "- 스칼라곱 (scalar product, dot product) 또는 내적 (inner product) ![image-2.png](attachment:image-2.png)\n",
    "- c = aT b"
   ]
  },
  {
   "cell_type": "code",
   "execution_count": 21,
   "id": "8851b0b0",
   "metadata": {},
   "outputs": [
    {
     "name": "stdout",
     "output_type": "stream",
     "text": [
      "벡터의 내적 =  7.940000000000001\n"
     ]
    }
   ],
   "source": [
    "import numpy as np\n",
    "\n",
    "def innerVec(a, b):\n",
    "    rowA = a.shape[0]\n",
    "    rowB = b.shape[0]\n",
    "    \n",
    "    if (rowA != rowB):\n",
    "        print(\"벡터 내적을 계산할 수 없음\")\n",
    "        return None\n",
    "    \n",
    "    c = 0.0\n",
    "    for i in range(rowA):\n",
    "        c += a[i] * b[i]\n",
    "    return c\n",
    "\n",
    "if __name__ == '__main__':\n",
    "    a = np.array([1.1, 1.2, 1.3])\n",
    "    b = np.array([2.1, 2.2, 2.3])\n",
    "    \n",
    "    c = innerVec(a, b)\n",
    "    print(\"벡터의 내적 = \", c)"
   ]
  },
  {
   "cell_type": "code",
   "execution_count": 22,
   "id": "7da7585c",
   "metadata": {},
   "outputs": [
    {
     "name": "stdout",
     "output_type": "stream",
     "text": [
      "벡터의 내적 =  7.940000000000001\n"
     ]
    }
   ],
   "source": [
    "import numpy as np\n",
    "\n",
    "a = np.array([1.1, 1.2, 1.3])\n",
    "b = np.array([2.1, 2.2, 2.3])\n",
    "\n",
    "c = np.dot(a, b)\n",
    "print(\"벡터의 내적 = \", c)"
   ]
  },
  {
   "cell_type": "code",
   "execution_count": 23,
   "id": "2f9c153d",
   "metadata": {},
   "outputs": [
    {
     "data": {
      "text/plain": [
       "array([[2.31, 2.42, 2.53],\n",
       "       [2.52, 2.64, 2.76],\n",
       "       [2.73, 2.86, 2.99]])"
      ]
     },
     "execution_count": 23,
     "metadata": {},
     "output_type": "execute_result"
    }
   ],
   "source": [
    "# 벡터의 외적은 outer(a, b)\n",
    "np.outer(a, b)"
   ]
  },
  {
   "attachments": {
    "image.png": {
     "image/png": "[encoded data removed]"
    }
   },
   "cell_type": "markdown",
   "id": "c9253e62",
   "metadata": {},
   "source": [
    "#### 행렬의 곱셈\n",
    "\n",
    "- l x m 행렬 A와 m x n 행렬 B의 행렬곱 (matrix product) C = AB는 아래와 같이 정의 ![image.png](attachment:image.png)\n",
    "- A의 열 (차원 m)과 B의 행 수는 같아야 함\n",
    "- 행렬곱은 벡터의 내적으로 정의"
   ]
  },
  {
   "cell_type": "code",
   "execution_count": 25,
   "id": "1883608c",
   "metadata": {},
   "outputs": [
    {
     "name": "stdout",
     "output_type": "stream",
     "text": [
      "[[ 7.76  8.12]\n",
      " [14.06 14.72]]\n"
     ]
    }
   ],
   "source": [
    "import numpy as np\n",
    "\n",
    "def innerMat(A, B):\n",
    "    rowA, colA = A.shape\n",
    "    rowB, colB = B.shape\n",
    "    \n",
    "    if (colA != rowB):\n",
    "        print(\"행렬곱을 계산할 수 없음\")\n",
    "        return None\n",
    "    \n",
    "    C = np.ndarray([rowA, colB])\n",
    "    for i in range(rowA):\n",
    "        for j in range(colB):\n",
    "            C[i, j] = 0.0\n",
    "            for k in range(colA):\n",
    "                C[i, j] += A[i, k] * B[k, j]\n",
    "                \n",
    "    return C\n",
    "\n",
    "if __name__ == '__main__':\n",
    "    A = np.array([[1.1, 1.2, 1.3], [2.1, 2.2, 2.3]])\n",
    "    B = np.array([[1.1, 1.2], [2.1, 2.2], [3.1, 3.2]])\n",
    "    \n",
    "    C = innerMat(A, B)\n",
    "    print(C)"
   ]
  },
  {
   "cell_type": "code",
   "execution_count": 26,
   "id": "0319e25b",
   "metadata": {},
   "outputs": [
    {
     "name": "stdout",
     "output_type": "stream",
     "text": [
      "[[ 7.76  8.12]\n",
      " [14.06 14.72]]\n"
     ]
    }
   ],
   "source": [
    "import numpy as np\n",
    "\n",
    "A = np.array([[1.1, 1.2, 1.3], [2.1, 2.2, 2.3]])\n",
    "B = np.array([[1.1, 1.2], [2.1, 2.2], [3.1, 3.2]])\n",
    "\n",
    "C = np.dot(A, B)\n",
    "print(C)"
   ]
  },
  {
   "cell_type": "code",
   "execution_count": 40,
   "id": "96eeeac5",
   "metadata": {},
   "outputs": [
    {
     "name": "stdout",
     "output_type": "stream",
     "text": [
      "(3, 3) (3,) (3,)\n",
      "[ 9  6 -5]\n",
      "14\n",
      "[-1  5 -6]\n",
      "41\n"
     ]
    }
   ],
   "source": [
    "# 예제 2.4\n",
    "A = np.array([[1, 2, 3], [1, 2, 1], [0, 1, 2]])\n",
    "u = np.array([1, 6, -2])\n",
    "v = np.array([8, 0, -3])\n",
    "\n",
    "print(A.shape, u.shape, v.shape)\n",
    "\n",
    "print(u + v)\n",
    "print(np.dot(u, v))\n",
    "print(np.dot(A, v))\n",
    "print(np.dot(np.dot(u.T, A), v))"
   ]
  },
  {
   "cell_type": "code",
   "execution_count": 41,
   "id": "1ccc07c6",
   "metadata": {},
   "outputs": [
    {
     "data": {
      "text/plain": [
       "array([[  4, -13],\n",
       "       [  0,  -9],\n",
       "       [  5,  -8]])"
      ]
     },
     "execution_count": 41,
     "metadata": {},
     "output_type": "execute_result"
    }
   ],
   "source": [
    "# 예제 2.5\n",
    "A = np.array([[1, 2, 3], [1, 2, 1], [0, 1, 2]])\n",
    "B = np.array([[-4, 1], [1, -4], [2, -2]])\n",
    "\n",
    "np.dot(A, B)"
   ]
  },
  {
   "cell_type": "code",
   "execution_count": 47,
   "id": "a41d97e4",
   "metadata": {},
   "outputs": [
    {
     "name": "stdout",
     "output_type": "stream",
     "text": [
      "[[ 5 15]\n",
      " [-2 -6]]\n",
      "[[-3 -9]\n",
      " [ 4 12]]\n",
      "[[ 5 15]\n",
      " [-2 -6]\n",
      " [-3 -9]\n",
      " [ 4 12]]\n"
     ]
    }
   ],
   "source": [
    "# 예제 2.6\n",
    "A = np.array([[5, -2], [-3, 4]])\n",
    "b = np.array([1, 3])\n",
    "\n",
    "print(np.outer(A[0].T, b))\n",
    "print(np.outer(A[1].T, b))\n",
    "print(np.outer(A, b))"
   ]
  },
  {
   "cell_type": "markdown",
   "id": "2931f356",
   "metadata": {},
   "source": [
    "### (4) 행렬의 속성\n",
    "\n",
    "- 크기와 차수 (rank)\n",
    "- **크기 : 어떤 행렬에 대해 하나의 실수를 대응**\n",
    "    - 노옴 (norm), 대각합 (trace), 행렬식 (determinant)"
   ]
  },
  {
   "attachments": {
    "image.png": {
     "image/png": "[encoded data removed]"
    }
   },
   "cell_type": "markdown",
   "id": "dd2834d7",
   "metadata": {},
   "source": [
    "#### 행렬노옴\n",
    "\n",
    "**행렬노옴 또는 유클리드노옴 (Euclidian norm) : 행렬 A에 대해 다음 식으로 정의되는 숫자** \n",
    "![image.png](attachment:image.png)\n",
    "\n",
    "- ||A||L 로 표기\n",
    "- L = 1이면 L1-노옴, L = 2이면 L2-노옴"
   ]
  },
  {
   "attachments": {
    "image.png": {
     "image/png": "[encoded data removed]"
    }
   },
   "cell_type": "markdown",
   "id": "672caf37",
   "metadata": {},
   "source": [
    "L2-노옴은 프로베니우스노옴 (Frobenius norm) 이라고도 부르며, ||A||F라고 표기 \n",
    "![image.png](attachment:image.png)\n",
    "\n",
    "- 노옴은 항상 0보다 크거나 같음"
   ]
  },
  {
   "attachments": {
    "image.png": {
     "image/png": "[encoded data removed]"
    }
   },
   "cell_type": "markdown",
   "id": "939cc353",
   "metadata": {},
   "source": [
    "노옴은 모든 크기의 행렬에 대해 정의할 수 있으므로 벡터에 대해서도 정의할 수 있음\n",
    "- 벡터의 노옴의 제곱은 벡터의 제곱합과 같음\n",
    "![image.png](attachment:image.png)\n",
    "- 노옴은 항상 0보다 크므로, 노옴의 제곱이 가장 작을 때 노옴도 가장 작아짐"
   ]
  },
  {
   "cell_type": "code",
   "execution_count": 49,
   "id": "bddab0ea",
   "metadata": {},
   "outputs": [
    {
     "data": {
      "text/plain": [
       "15.874507866387544"
      ]
     },
     "execution_count": 49,
     "metadata": {},
     "output_type": "execute_result"
    }
   ],
   "source": [
    "A = np.array([[1, 2, 3], [4, 5, 6], [4, 8, 9]])\n",
    "np.linalg.norm(A)"
   ]
  },
  {
   "attachments": {
    "image.png": {
     "image/png": "[encoded data removed]"
    }
   },
   "cell_type": "markdown",
   "id": "a7249a78",
   "metadata": {},
   "source": [
    "#### 대각합\n",
    "**대각합(trace) : 정방행렬에 대해서만 정의. 대각원소의 합으로 계산**\n",
    "![image.png](attachment:image.png)"
   ]
  },
  {
   "cell_type": "markdown",
   "id": "de09ad70",
   "metadata": {},
   "source": [
    "- 스칼라를 곱한 행렬의 대각합은 스칼라와 원행렬 대각합의 곱\n",
    "    - tr(**s**A) = **s**tr(A)\n",
    "\n",
    "- 전치연산을 해도 대각합은 달라지지 않음\n",
    "    - tr(A^T) = tr(A)\n",
    "\n",
    "- 두 행렬의 합의 대각합은 두 행렬의 대각합의 합\n",
    "    - tr(A + B) = tr(A) + tr(B)\n",
    "\n",
    "- 두 행렬의 곱의 대각합은 순서를 바꾸어도 달라지지 않음\n",
    "    - tr(AB) = tr(BA)"
   ]
  },
  {
   "cell_type": "code",
   "execution_count": 50,
   "id": "34f743b4",
   "metadata": {},
   "outputs": [
    {
     "data": {
      "text/plain": [
       "15"
      ]
     },
     "execution_count": 50,
     "metadata": {},
     "output_type": "execute_result"
    }
   ],
   "source": [
    "A = np.array([[1, 2, 3], [4, 5, 6], [4, 8, 9]])\n",
    "np.trace(A)"
   ]
  },
  {
   "cell_type": "markdown",
   "id": "500057c5",
   "metadata": {},
   "source": [
    "#### 행렬식\n",
    "\n",
    "**정방행렬 A의 행렬식 (determinant)은 |A| 또는 det(A), detA로 표기되는 스칼라값**\n",
    "- det(A) = |a11 a12 a21 a22| = a11a22 - a12a21\n",
    "- det(A) = |A| = a11|a22 a23 a32 a33| - a12|a21 a23 a31 a33| + a13|a21 a22 a31 a32| = a11(a22a33 - a23a32) - a12(a21a33 - a23a31) + a13(a21a32 - a22a31)"
   ]
  },
  {
   "attachments": {
    "image-2.png": {
     "image/png": "[encoded data removed]"
    },
    "image.png": {
     "image/png": "[encoded data removed]"
    }
   },
   "cell_type": "markdown",
   "id": "3a9b1086",
   "metadata": {},
   "source": [
    "n x n 행렬의 행렬식은 (n - 1) x (n - 1) 행렬의 행렬식의 항을 이용하여 표현할 수 있음\n",
    "![image.png](attachment:image.png)\n",
    "\n",
    "- **Mik : A의 i행과 k열을 삭제하고 얻은 (n - 1) x (n - 1) 행렬의 행렬식 = 소행렬식(minor)**\n",
    "- **Cik : 소행렬식에 (-1)^(k+1)을 곱함 = 여인자 (cofactor)**\n",
    "- **수반행렬 (adjoint matrix) : 여인자의 전치행렬 C^T. adj(A)로 표기**\n",
    "- **Laplace 전개 (Laplace's development)**\n",
    "![image-2.png](attachment:image-2.png)"
   ]
  },
  {
   "cell_type": "markdown",
   "id": "1bcdb357",
   "metadata": {},
   "source": [
    "- **특이행렬 (singular matrix) : |A| = 0일 경우**\n",
    "    - 역행렬 (inverse matrix)이 존재하기 위해서는 행렬 A가 비특이행렬 (non-singular matrix)여야 한다 (|A| != 0)"
   ]
  },
  {
   "cell_type": "code",
   "execution_count": 51,
   "id": "7a38e7d0",
   "metadata": {},
   "outputs": [
    {
     "data": {
      "text/plain": [
       "-2.0000000000000004"
      ]
     },
     "execution_count": 51,
     "metadata": {},
     "output_type": "execute_result"
    }
   ],
   "source": [
    "a = np.array([[1.0, 2.0], [3.0, 4.0]])\n",
    "np.linalg.det(a)"
   ]
  },
  {
   "cell_type": "code",
   "execution_count": 52,
   "id": "dceefd4d",
   "metadata": {},
   "outputs": [
    {
     "data": {
      "text/plain": [
       "-20.000000000000007"
      ]
     },
     "execution_count": 52,
     "metadata": {},
     "output_type": "execute_result"
    }
   ],
   "source": [
    "b = np.array([[1.0, 2.0, 3.0], [2.0, 4.0, 1.0], [3.0, 2.0, 1.0]])\n",
    "np.linalg.det(b)"
   ]
  },
  {
   "cell_type": "markdown",
   "id": "39c51515",
   "metadata": {},
   "source": [
    "- 전치행렬의 행렬식은 원행렬의 행렬식과 같음\n",
    "    - det(A^T) = det(A)\n",
    "\n",
    "- 항등행렬의 행렬식은 1\n",
    "    - det(I) = 1\n",
    "\n",
    "- 두 행렬의 곱의 행렬식은 각 행렬의 행렬식의 곱\n",
    "    - det(AB) = det(A)det(B)\n",
    "\n",
    "- 역행렬의 행렬식은 원행렬의 행렬식의 역수와 같음\n",
    "    - det(A^-1) = 1 / det(A)"
   ]
  },
  {
   "cell_type": "code",
   "execution_count": null,
   "id": "b344b59d",
   "metadata": {},
   "outputs": [],
   "source": []
  },
  {
   "cell_type": "markdown",
   "id": "c7878528",
   "metadata": {},
   "source": [
    "### (5) 유용한 정리들\n",
    "\n",
    "- (AB)T = BT AT\n",
    "- (AB)^-1 = B^-1 A^-1\n",
    "- |AT| = |A|\n",
    "- |AB| = |A||B|\n",
    "- B = BT일 때 C = AT B A이면, C = CT"
   ]
  },
  {
   "cell_type": "code",
   "execution_count": null,
   "id": "b025a854",
   "metadata": {},
   "outputs": [],
   "source": []
  }
 ],
 "metadata": {
  "kernelspec": {
   "display_name": "Python 3 (ipykernel)",
   "language": "python",
   "name": "python3"
  },
  "language_info": {
   "codemirror_mode": {
    "name": "ipython",
    "version": 3
   },
   "file_extension": ".py",
   "mimetype": "text/x-python",
   "name": "python",
   "nbconvert_exporter": "python",
   "pygments_lexer": "ipython3",
   "version": "3.9.13"
  }
 },
 "nbformat": 4,
 "nbformat_minor": 5
}
