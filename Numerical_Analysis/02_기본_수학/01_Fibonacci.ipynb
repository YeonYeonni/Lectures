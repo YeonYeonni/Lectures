{
 "cells": [
  {
   "cell_type": "code",
   "execution_count": 1,
   "id": "735c781e",
   "metadata": {},
   "outputs": [
    {
     "name": "stdout",
     "output_type": "stream",
     "text": [
      "피보나치 수열 a[15] =   610\n"
     ]
    }
   ],
   "source": [
    "import numpy as np\n",
    "\n",
    "def Fibonacci(n):\n",
    "    an = np.zeros(n+1, dtype=int)\n",
    "    an[1] = 1\n",
    "    \n",
    "    if (n <= 1):\n",
    "        return a[n]\n",
    "    \n",
    "    for i in range(2, n+1):\n",
    "        an[i] = an[i-1] + an[i-2]\n",
    "        \n",
    "    return an[n]\n",
    "\n",
    "if __name__ == '__main__':\n",
    "    fn = Fibonacci(15)\n",
    "    print(\"피보나치 수열 a[{0:2d}] = {1:5d}\".format(15, fn))"
   ]
  },
  {
   "cell_type": "code",
   "execution_count": 2,
   "id": "0f36ae60",
   "metadata": {},
   "outputs": [
    {
     "name": "stdout",
     "output_type": "stream",
     "text": [
      "피보나치 수열 수치해 a[15] =   610\n",
      "피보나치 수열 해석해 a[15] =   610\n"
     ]
    }
   ],
   "source": [
    "# 해석해와의 오차를 비교하기\n",
    "import math\n",
    "import numpy as np\n",
    "\n",
    "# 수치해\n",
    "def Fibonacci(n):\n",
    "    an = np.zeros(n+1, dtype=int)\n",
    "    an[1] = 1\n",
    "    \n",
    "    if (n <= 1):\n",
    "        return a[n]\n",
    "    \n",
    "    for i in range(2, n+1):\n",
    "        an[i] = an[i-1] + an[i-2]\n",
    "        \n",
    "    return an[n]\n",
    "\n",
    "# 해석해\n",
    "def exact(n):\n",
    "    gb = (1.0 + math.sqrt(5.0)) / 2.0 # 황금비\n",
    "    fn = (math.pow(gb, n) - math.pow(1.0 - gb, n)) / math.sqrt(5)\n",
    "    return int(fn)\n",
    "\n",
    "if __name__ == '__main__':\n",
    "    fn1 = Fibonacci(15)\n",
    "    print(\"피보나치 수열 수치해 a[{0:2d}] = {1:5d}\".format(15, fn1))\n",
    "    \n",
    "    fn2 = exact(15)\n",
    "    print(\"피보나치 수열 해석해 a[{0:2d}] = {1:5d}\".format(15, fn2))"
   ]
  },
  {
   "cell_type": "code",
   "execution_count": null,
   "id": "76ae4f88",
   "metadata": {},
   "outputs": [],
   "source": []
  }
 ],
 "metadata": {
  "kernelspec": {
   "display_name": "Python 3 (ipykernel)",
   "language": "python",
   "name": "python3"
  },
  "language_info": {
   "codemirror_mode": {
    "name": "ipython",
    "version": 3
   },
   "file_extension": ".py",
   "mimetype": "text/x-python",
   "name": "python",
   "nbconvert_exporter": "python",
   "pygments_lexer": "ipython3",
   "version": "3.9.13"
  }
 },
 "nbformat": 4,
 "nbformat_minor": 5
}
