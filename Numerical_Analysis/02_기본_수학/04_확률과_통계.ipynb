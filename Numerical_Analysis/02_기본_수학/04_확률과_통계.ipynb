{
 "cells": [
  {
   "cell_type": "markdown",
   "id": "6bcd480c",
   "metadata": {},
   "source": [
    "어떤 자료의 값을 반복적으로 or 동시에 병렬적으로 측정하는 경우\n",
    "\n",
    "**결정론적 자료 (deterministic data) : 항상 같은 값이 나오는 자료**\n",
    "**확률적 자료 (probabilistic data) : 예측할 수 없는 값이 나오는 자료**\n",
    "- 분포(distribution) : 확률적 자료에서 어떤 값이 얼마나 자주 나오는가를 나타내는 특성\n",
    "- 도수분포도 (histogram) : 도표를 이용해 분포를 표현\n",
    "- 기술통계량 (descriptive statistics) : 어떤 숫자를 계산하여 그 숫자로 분포를 표현\n",
    "    - 대표값\n",
    "        - 표본평균 (sample mean), 표본중앙값 (sample median), 표본최빈값 (sample mode)\n",
    "    - 퍼진 정도를 나타냄\n",
    "        - 표본분산 (sample variance), 표본표준편차 (sample standard deviation)\n",
    "    - 분포의 집중도를 나타냄\n",
    "        - 표본왜도 (sample skewness), 표본첨도 (sample kurtosis)"
   ]
  },
  {
   "cell_type": "markdown",
   "id": "b76cd251",
   "metadata": {},
   "source": [
    "### (1) 대표값\n",
    "\n",
    "**대표값 : n개의 어떤 자료가 있을 때 어떤 하나의 값으로 이들을 대표하고자 하는 경우의 값**"
   ]
  },
  {
   "attachments": {
    "image.png": {
     "image/png": "[encoded data removed]"
    }
   },
   "cell_type": "markdown",
   "id": "3404efd5",
   "metadata": {},
   "source": [
    "**평균 : 다음과 같이 계산**\n",
    "- n은 자료의 개수, i는 자료의 순서\n",
    "- mean()\n",
    "\n",
    "![image.png](attachment:image.png)"
   ]
  },
  {
   "cell_type": "markdown",
   "id": "44f86bf0",
   "metadata": {},
   "source": [
    "**중앙값 : 전체 자료를 크기순으로 정렬했을 때, 가장 중앙에 위치하는 값**\n",
    "- n이 홀수이면, 중앙값은 (n+1)/2번째 표본의 값\n",
    "- n이 짝수이면, 중앙값은 n/2번째 표본과 (n+1)/2번째 표본의 평균\n",
    "- median()\n",
    "\n",
    "**최빈값 : 자료값 중 가장 빈번하게 나오는 값**\n",
    "- 이산자료에서는 구하기 쉽지만, 연속적인 값을 갖는 자료에서는 구하기가 어려움\n",
    "- 연속값을 갖는 자료에서는 일정 구간 간격으로 나누어, 가장 많은 자료를 가진 구간의 대표값을 그 자료의 최빈값으로 함\n",
    "- argmax()"
   ]
  },
  {
   "cell_type": "code",
   "execution_count": null,
   "id": "4476adef",
   "metadata": {},
   "outputs": [],
   "source": []
  },
  {
   "attachments": {
    "image-2.png": {
     "image/png": "[encoded data removed]"
    },
    "image.png": {
     "image/png": "[encoded data removed]"
    }
   },
   "cell_type": "markdown",
   "id": "f9b2303d",
   "metadata": {},
   "source": [
    "### (2) 분산과 표준편차\n",
    "\n",
    "- 분포의 폭을 대표하는 값\n",
    "\n",
    "**표본분산**\n",
    "- 자료의 수 n 대신 자유도 n - 1로 나누는 이유는 불편추정량 (unbiased estimator) 이 되도록 하기 위함\n",
    "- std()\n",
    "![image-2.png](attachment:image-2.png)\n",
    "\n",
    "**분산**\n",
    "- var()\n",
    "![image.png](attachment:image.png)"
   ]
  },
  {
   "cell_type": "code",
   "execution_count": null,
   "id": "55510a28",
   "metadata": {},
   "outputs": [],
   "source": []
  },
  {
   "attachments": {
    "image-2.png": {
     "image/png": "[encoded data removed]"
    },
    "image.png": {
     "image/png": "[encoded data removed]"
    }
   },
   "cell_type": "markdown",
   "id": "c25b505e",
   "metadata": {},
   "source": [
    "### (3) 왜도와 첨도\n",
    "\n",
    "**왜도(skewness) : 분포가 어느 쪽으로 치우쳤는지**\n",
    "![image.png](attachment:image.png)\n",
    "\n",
    "**첨도(kurtosis) : 자료가 중앙에 몰려 있는 정도**\n",
    "![image-2.png](attachment:image-2.png)"
   ]
  },
  {
   "cell_type": "code",
   "execution_count": null,
   "id": "bb09678e",
   "metadata": {},
   "outputs": [],
   "source": []
  },
  {
   "cell_type": "markdown",
   "id": "84c27638",
   "metadata": {},
   "source": [
    "### (4) 그 밖의 통계량\n",
    "\n",
    "- 최대값, 최소값\n",
    "- 사분위수, 백분위수 등"
   ]
  },
  {
   "cell_type": "markdown",
   "id": "d990d5a1",
   "metadata": {},
   "source": [
    "### (5) 난수 발생\n",
    "\n",
    "- **난수 (random number) : 필요한 자료를 만들기 위한 무작위수**"
   ]
  },
  {
   "cell_type": "code",
   "execution_count": 5,
   "id": "640d4012",
   "metadata": {},
   "outputs": [
    {
     "data": {
      "text/plain": [
       "array([0.5488135 , 0.71518937, 0.60276338, 0.54488318, 0.4236548 ])"
      ]
     },
     "execution_count": 5,
     "metadata": {},
     "output_type": "execute_result"
    }
   ],
   "source": [
    "import numpy as np\n",
    "\n",
    "np.random.seed(0)\n",
    "np.random.rand(5)"
   ]
  },
  {
   "cell_type": "code",
   "execution_count": 6,
   "id": "24072b91",
   "metadata": {},
   "outputs": [
    {
     "data": {
      "text/plain": [
       "array([5, 2, 4, 7, 6, 8, 8, 1, 6, 7])"
      ]
     },
     "execution_count": 6,
     "metadata": {},
     "output_type": "execute_result"
    }
   ],
   "source": [
    "# rand() : 0부터 1사이의 균일분포 난수\n",
    "\n",
    "# randn() : 표준정규분포 난수\n",
    "\n",
    "# randint() : 균일분포의 정수 난수\n",
    "# numpy.randint(low [, high=None, size=None])\n",
    "x = np.random.randint(10, size=10)\n",
    "x"
   ]
  },
  {
   "cell_type": "code",
   "execution_count": 7,
   "id": "257e4a6f",
   "metadata": {},
   "outputs": [
    {
     "data": {
      "text/plain": [
       "array([17, 18, 11, 15, 19, 18, 19, 14, 13, 10])"
      ]
     },
     "execution_count": 7,
     "metadata": {},
     "output_type": "execute_result"
    }
   ],
   "source": [
    "y = np.random.randint(10, 20, size=10)\n",
    "y"
   ]
  },
  {
   "cell_type": "code",
   "execution_count": 8,
   "id": "286bae4a",
   "metadata": {},
   "outputs": [
    {
     "data": {
      "text/plain": [
       "array([[13, 15, 10, 12, 13],\n",
       "       [18, 11, 13, 13, 13],\n",
       "       [17, 10, 11, 19, 19]])"
      ]
     },
     "execution_count": 8,
     "metadata": {},
     "output_type": "execute_result"
    }
   ],
   "source": [
    "z = np.random.randint(10, 20, size=(3, 5))\n",
    "z"
   ]
  },
  {
   "cell_type": "code",
   "execution_count": 9,
   "id": "d764cc72",
   "metadata": {},
   "outputs": [
    {
     "data": {
      "text/plain": [
       "array([0, 1, 2, 3, 4, 5, 6, 7, 8, 9])"
      ]
     },
     "execution_count": 9,
     "metadata": {},
     "output_type": "execute_result"
    }
   ],
   "source": [
    "# shuffle() : 자료의 순서를 뒤섞기\n",
    "x = np.arange(10)\n",
    "x"
   ]
  },
  {
   "cell_type": "code",
   "execution_count": 10,
   "id": "e239ba11",
   "metadata": {},
   "outputs": [
    {
     "data": {
      "text/plain": [
       "array([1, 8, 9, 5, 2, 6, 3, 7, 4, 0])"
      ]
     },
     "execution_count": 10,
     "metadata": {},
     "output_type": "execute_result"
    }
   ],
   "source": [
    "np.random.shuffle(x)\n",
    "x"
   ]
  },
  {
   "cell_type": "code",
   "execution_count": 12,
   "id": "5eaa65c0",
   "metadata": {},
   "outputs": [
    {
     "name": "stdout",
     "output_type": "stream",
     "text": [
      "자료값\n",
      "[ 1.76405235  0.40015721  0.97873798  2.2408932   1.86755799 -0.97727788\n",
      "  0.95008842 -0.15135721 -0.10321885  0.4105985   0.14404357  1.45427351\n",
      "  0.76103773  0.12167502  0.44386323  0.33367433  1.49407907 -0.20515826\n",
      "  0.3130677  -0.85409574 -2.55298982  0.6536186   0.8644362  -0.74216502\n",
      "  2.26975462 -1.45436567  0.04575852 -0.18718385  1.53277921  1.46935877\n",
      "  0.15494743  0.37816252 -0.88778575 -1.98079647 -0.34791215  0.15634897\n",
      "  1.23029068  1.20237985 -0.38732682 -0.30230275 -1.04855297 -1.42001794\n",
      " -1.70627019  1.9507754  -0.50965218 -0.4380743  -1.25279536  0.77749036\n",
      " -1.61389785 -0.21274028 -0.89546656]\n",
      "\n",
      "표본평균  : 0.1202450402835533\n",
      "중앙값  : 0.144043571160878\n",
      "분산  : 1.262595993985068\n",
      "표준편차  : 1.1236529686629533\n",
      "최소값    : -2.5529898158340787\n",
      "최대값    : 2.2697546239876076\n",
      "1 사분위수: -0.6259086010790478\n",
      "2 사분위수: 0.144043571160878\n",
      "3 사분위수: 0.9072623081925475\n"
     ]
    }
   ],
   "source": [
    "# 통계량 계산\n",
    "import numpy as np\n",
    "import matplotlib.pyplot as plt\n",
    "\n",
    "np.random.seed(0)\n",
    "x = np.random.randn(51)\n",
    "print(\"자료값\")\n",
    "print(x)\n",
    "print()\n",
    "\n",
    "xbar = np.mean(x)\n",
    "xmed = np.median(x)\n",
    "print(\"표본평균  :\", xbar)\n",
    "print(\"중앙값  :\", xmed)\n",
    "\n",
    "var = np.var(x)\n",
    "std = np.std(x)\n",
    "print(\"분산  :\", var)\n",
    "print(\"표준편차  :\", std)\n",
    "\n",
    "xmin = np.percentile(x, 0) # 최소값\n",
    "x25 = np.percentile(x, 25) # 1사분위수\n",
    "x50 = np.percentile(x, 50) # 2사분위수\n",
    "x75 = np.percentile(x, 75) # 3사분위수\n",
    "xmax = np.percentile(x, 100) # 최대값\n",
    "\n",
    "print(\"최소값    :\", xmin)\n",
    "print(\"최대값    :\", xmax)\n",
    "print(\"1 사분위수:\", x25)\n",
    "print(\"2 사분위수:\", x50)\n",
    "print(\"3 사분위수:\", x75)"
   ]
  },
  {
   "cell_type": "code",
   "execution_count": null,
   "id": "094b1355",
   "metadata": {},
   "outputs": [],
   "source": []
  }
 ],
 "metadata": {
  "kernelspec": {
   "display_name": "Python 3 (ipykernel)",
   "language": "python",
   "name": "python3"
  },
  "language_info": {
   "codemirror_mode": {
    "name": "ipython",
    "version": 3
   },
   "file_extension": ".py",
   "mimetype": "text/x-python",
   "name": "python",
   "nbconvert_exporter": "python",
   "pygments_lexer": "ipython3",
   "version": "3.9.13"
  }
 },
 "nbformat": 4,
 "nbformat_minor": 5
}
