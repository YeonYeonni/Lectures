{
 "cells": [
  {
   "cell_type": "markdown",
   "id": "5ae70868",
   "metadata": {},
   "source": [
    "### (1) 피봇팅의 필요성"
   ]
  },
  {
   "cell_type": "markdown",
   "id": "76c20fa5",
   "metadata": {},
   "source": [
    "- 방정식의 순서가 결과에 큰 영향을 미칠 수 있음\n",
    "- 소거 단계에서 방정식의 순서를 재배열하는 것이 매우 중요함\n",
    "    - 행의 순서를 바꾸면 엄밀해를 얻을 수 있으나 Gauss 소거법이 실패할 수도 있음\n",
    "    - **피봇 요소가 0일 경우 or 피봇행의 다른 요소에 비해 매우 작을 경우 재배열 (reordering) 또는 행피봇팅 (row pivoting) 이 필요**\n",
    "    - 피봇 요소가 매우 작지 않고 상당히 크더라도, 마무리오차는 신뢰할 수 없음"
   ]
  },
  {
   "cell_type": "code",
   "execution_count": null,
   "id": "0b4a0f25",
   "metadata": {},
   "outputs": [],
   "source": []
  },
  {
   "cell_type": "markdown",
   "id": "593b0741",
   "metadata": {},
   "source": [
    "### (2) 대각지배성"
   ]
  },
  {
   "attachments": {
    "image.png": {
     "image/png": "[encoded data removed]"
    }
   },
   "cell_type": "markdown",
   "id": "67403525",
   "metadata": {},
   "source": [
    "- **대각지배적 (diagonally dominant) : n x n 행렬 A에서 각 대각요소의 절대값이 그 행의 다른 요소의 절대값의 합보다 큰 경우** \n",
    "    - 행을 재배열하며 대각지배적 여부를 결정할 수 있음\n",
    "    - Ax = b의 계수행렬이 대각지배적이면 최적 순서로 배열되어 있음\n",
    "    - 계수행렬이 가능한 대각지배에 가깝게 되도록 방정식을 재배열\n",
    "\n",
    "![image.png](attachment:image.png)"
   ]
  },
  {
   "cell_type": "code",
   "execution_count": null,
   "id": "a5ac7650",
   "metadata": {},
   "outputs": [],
   "source": []
  },
  {
   "cell_type": "markdown",
   "id": "9d7348e5",
   "metadata": {},
   "source": [
    "### (3) 크기조정 행피봇팅과 Gauss 소거법"
   ]
  },
  {
   "cell_type": "markdown",
   "id": "720e83f9",
   "metadata": {},
   "source": [
    "- 행피봇팅 (scaled row pivoting) 과 Gauss 소거법에 의해 Ax = b를 푸는 방법\n",
    "- 피봇팅의 목적\n",
    "    - 계수 행렬의 대각지배성을 개선\n",
    "    - 피봇 요소를 피봇행의 다른 요소에 비해 가능한 크게 만드는 것"
   ]
  },
  {
   "attachments": {
    "image.png": {
     "image/png": "[encoded data removed]"
    }
   },
   "cell_type": "markdown",
   "id": "1d279d5b",
   "metadata": {},
   "source": [
    "**i행의 축척계수 (scale factor) : 행렬 A의 i행에서 가장 큰 요소의 절대값**\n",
    "\n",
    "![image.png](attachment:image.png)"
   ]
  },
  {
   "cell_type": "code",
   "execution_count": null,
   "id": "155b4762",
   "metadata": {},
   "outputs": [],
   "source": [
    "for i in range(n):\n",
    "    s[i] = max(abs(a[i, :]))"
   ]
  },
  {
   "attachments": {
    "image.png": {
     "image/png": "[encoded data removed]"
    }
   },
   "cell_type": "markdown",
   "id": "4ba7a18d",
   "metadata": {},
   "source": [
    "**요소 Aij의 상대적인 크기**\n",
    "- i행에서 가장 큰 요소의 상대적인 크기\n",
    "![image.png](attachment:image.png)"
   ]
  },
  {
   "attachments": {},
   "cell_type": "markdown",
   "id": "1c082b34",
   "metadata": {},
   "source": [
    "**소거 단계가 k번째 행이 피봇행인 단계**\n",
    "- 확대계수행렬에서 다음 피봇 요소를 자동적으로 채택하지 않음\n",
    "- 더 좋은 피봇을 Akk 아래의 k번째 열에서 찾음\n",
    "- 최적의 선택은 상대 크기가 최대인 요소 Apk"
   ]
  },
  {
   "attachments": {
    "image.png": {
     "image/png": "[encoded data removed]"
    }
   },
   "cell_type": "markdown",
   "id": "295ec5f7",
   "metadata": {},
   "source": [
    "![image.png](attachment:image.png)\n",
    "\n",
    "- 만일 이런 요소를 찾게 되면 k행과 p행을 교환하고 소거 과정을 계속 진행\n",
    "- 이에 대응하는 행교환은 크기조정계수 배열 s에서 수행"
   ]
  },
  {
   "cell_type": "code",
   "execution_count": null,
   "id": "cd4bd018",
   "metadata": {},
   "outputs": [],
   "source": [
    "for k in range(0, n-1):\n",
    "    # 최대 상대크기를 갖는 요소를 포함한 행을 찾기\n",
    "    p = argmax(abs(a[k:n, k])/s[k:n]) + k # 벡터 v에서 가장 큰 요소의 지수를 반환\n",
    "    \n",
    "    # 만일 이 요소가 매우 작으면, 이 행렬은 특이\n",
    "    if abs(a[p, k]) < tol:\n",
    "        error.err('행렬이 특이')\n",
    "    \n",
    "    # k행과 p행이 교환되어야 하는지 검토\n",
    "    if p != k:\n",
    "        # 필요시 행교환\n",
    "        SwapRC.swapRows(b, k, p)\n",
    "        SwapRC.swapRows(s, k, p)\n",
    "        SwapRC.swapRows(a, k, p)\n",
    "    \n",
    "    # 소거법 진행"
   ]
  },
  {
   "cell_type": "markdown",
   "id": "e7299cb6",
   "metadata": {},
   "source": [
    "### (4) 피봇팅 여부"
   ]
  },
  {
   "cell_type": "markdown",
   "id": "39c4d7a8",
   "metadata": {},
   "source": [
    "**피봇팅의 두 가지 단점**\n",
    "- 1. 계산 비용의 증가\n",
    "- 2. 계수행렬의 대칭성과 대역 구조를 파괴"
   ]
  },
  {
   "cell_type": "code",
   "execution_count": 1,
   "id": "2a49f12d",
   "metadata": {},
   "outputs": [
    {
     "name": "stdout",
     "output_type": "stream",
     "text": [
      "\n",
      "계산 결과: \n",
      "x = \n",
      " [ 1. -1.  2.]\n",
      "\n",
      "결과 확인: [A]{x} - b = \n",
      " [0. 0. 0.]\n"
     ]
    }
   ],
   "source": [
    "# 행피봇팅을 이용한 Gauss 소거법\n",
    "import numpy as np\n",
    "from GaussPivot import *\n",
    "\n",
    "if __name__ == '__main__':\n",
    "    A = np.array([[2.0, -2.0, 6.0],\n",
    "                  [-2.0, 4.0, 3.0],\n",
    "                  [-1.0, 8.0, 4.0]])\n",
    "    b = np.array([16.0, 0.0, -1.0])\n",
    "    \n",
    "    AOrig = A.copy()\n",
    "    bOrig = b.copy()\n",
    "    \n",
    "    # Gauss 소거법에 의한 풀이\n",
    "    x = GaussPivot(A, b)\n",
    "    \n",
    "    print('\\n계산 결과: \\nx = \\n', x)\n",
    "    print('\\n결과 확인: [A]{x} - b = \\n', np.dot(AOrig, x) - bOrig)"
   ]
  },
  {
   "cell_type": "code",
   "execution_count": null,
   "id": "b36495ef",
   "metadata": {},
   "outputs": [],
   "source": []
  }
 ],
 "metadata": {
  "kernelspec": {
   "display_name": "Python 3 (ipykernel)",
   "language": "python",
   "name": "python3"
  },
  "language_info": {
   "codemirror_mode": {
    "name": "ipython",
    "version": 3
   },
   "file_extension": ".py",
   "mimetype": "text/x-python",
   "name": "python",
   "nbconvert_exporter": "python",
   "pygments_lexer": "ipython3",
   "version": "3.9.13"
  }
 },
 "nbformat": 4,
 "nbformat_minor": 5
}
