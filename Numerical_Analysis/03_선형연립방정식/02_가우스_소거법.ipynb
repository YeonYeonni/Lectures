{
 "cells": [
  {
   "cell_type": "markdown",
   "id": "71b9f510",
   "metadata": {},
   "source": [
    "### (1) 서론"
   ]
  },
  {
   "cell_type": "markdown",
   "id": "78522e72",
   "metadata": {},
   "source": [
    "**Gauss 소거법은 연립방정식을 푸는 가장 익숙한 방법**\n",
    "- 소거 단계와 후방대입의 두 부분으로 이루어짐\n",
    "    - 1. 소거 단계의 기능은 주어진 연립방정식을 Ux = c 형태로 만드는 것\n",
    "    - 2. Ux = c를 후방대입으로 푼다"
   ]
  },
  {
   "cell_type": "markdown",
   "id": "75457a7c",
   "metadata": {},
   "source": [
    "### 소거 단계"
   ]
  },
  {
   "cell_type": "markdown",
   "id": "053a2217",
   "metadata": {},
   "source": [
    "**피봇방정식 (pivot equation) : 기본 조작 중 하나를 이용해 만든 방정식**\n",
    "\n",
    "- 원 방정식은 후방대입에 의해 쉽게 풀 수 있는 등가 방정식으로 바뀜\n",
    "- 이후 확대계수행렬을 이용해 계산을 편하게 진행할 수 있음\n",
    "- 삼각행렬의 행렬식은 대각 요소의 곱으로 매우 쉽게 계산할 수 있음\n",
    "    - |A| = |U| = U11 x U22 x ... x Unn"
   ]
  },
  {
   "cell_type": "code",
   "execution_count": null,
   "id": "b034b234",
   "metadata": {},
   "outputs": [],
   "source": []
  },
  {
   "cell_type": "markdown",
   "id": "4b6df88c",
   "metadata": {},
   "source": [
    "### 후방대입 단계"
   ]
  },
  {
   "cell_type": "markdown",
   "id": "498b53cb",
   "metadata": {},
   "source": [
    "- 소거 단계 이후 후방대입법을 활용해 연립일차방정식의 해를 구할 수 있다"
   ]
  },
  {
   "cell_type": "code",
   "execution_count": null,
   "id": "c1843b9c",
   "metadata": {},
   "outputs": [],
   "source": []
  },
  {
   "cell_type": "markdown",
   "id": "fff6e865",
   "metadata": {},
   "source": [
    "### (2) Gauss 소거법의 알고리즘"
   ]
  },
  {
   "cell_type": "markdown",
   "id": "c10c3d61",
   "metadata": {},
   "source": [
    "### 소거 단계"
   ]
  },
  {
   "cell_type": "markdown",
   "id": "b0260133",
   "metadata": {},
   "source": [
    "**계수행렬 A의 처음 k번째 행까지 상삼각행렬로 변환되었다고 가정**\n",
    "- 현재의 피봇방정식은 k번째 방정식. 그 아래의 모든 방정식은 아직 변환이 되지 않았음\n",
    "    - 이 방정식은 다음의 확대계수행렬로 나타낼 수 있음\n",
    "    - 소거 과정에서 계수행렬이 변경. 첫 번째 행만 제외하고 A의 요소는 원 방정식의 계수가 아님\n",
    "    - 똑같은 과정이 상수벡터 b에도 적용"
   ]
  },
  {
   "cell_type": "markdown",
   "id": "f3cede8d",
   "metadata": {},
   "source": [
    "**전체 계수행렬을 상삼각행렬로 바꾸려면?**\n",
    "- k와 i의 범위는 각각 k = 1, 2, ..., n - 1 (피봇행의 선택)\n",
    "- i = k + 1, k + 2, ..., n (변환될 행의 선택)"
   ]
  },
  {
   "cell_type": "code",
   "execution_count": null,
   "id": "439418b6",
   "metadata": {},
   "outputs": [],
   "source": [
    "for k in range(0, n - 1):\n",
    "    # k + 1에서 시작하기 때문에 Aik는 0으로 바뀌지 않고 원래 값으로 남게 된다\n",
    "    for i in range(k + 1, n):\n",
    "        # 만일 Aik가 0이면, i행의 변환은 건너뛴다\n",
    "        if a[i, k] != 0.0:\n",
    "            lam = a[i, k] / a[k, k]\n",
    "            a[i, k + 1 : n] = a[i, k + 1 : n] - lam * a[k, k + 1 : n]\n",
    "            b[i] = b[i] - lam * b[k]"
   ]
  },
  {
   "cell_type": "markdown",
   "id": "fc24b390",
   "metadata": {},
   "source": [
    "### 후방대입 단계"
   ]
  },
  {
   "attachments": {
    "image.png": {
     "image/png": "[encoded data removed]"
    }
   },
   "cell_type": "markdown",
   "id": "1c76d692",
   "metadata": {},
   "source": [
    "**Gauss 소거 후의 확대계수행렬**\n",
    "\n",
    "![image.png](attachment:image.png)"
   ]
  },
  {
   "cell_type": "markdown",
   "id": "71b5a5c6",
   "metadata": {},
   "source": [
    "- 마지막 방정식 Annxn = bn을 가장 먼저 풀어 xn을 구함\n",
    "- 후방대입 단계에서 xn, xn - 1, ..., xk + 1을 계산하고 다음의 k번째 방정식에서 xk를 계산함"
   ]
  },
  {
   "cell_type": "code",
   "execution_count": null,
   "id": "4d58980c",
   "metadata": {},
   "outputs": [],
   "source": [
    "x[n - 1] = b[n - 1] / A[n - 1][n - 1]\n",
    "for k in range(n - 1, -1, -1):\n",
    "    x[k] = (b[k] - dot(a[k, k + 1 : n], x[k + 1 : n])) / a[k, k]"
   ]
  },
  {
   "cell_type": "markdown",
   "id": "7035594f",
   "metadata": {},
   "source": [
    "### 연산 횟수"
   ]
  },
  {
   "cell_type": "markdown",
   "id": "37a4bb00",
   "metadata": {},
   "source": [
    "**Gauss 소거법의 연산 횟수**\n",
    "- 소거 단계에서 n^3 / n\n",
    "- 후방 대입에서 n^2 / 2"
   ]
  },
  {
   "cell_type": "code",
   "execution_count": null,
   "id": "17ee43d4",
   "metadata": {},
   "outputs": [],
   "source": []
  },
  {
   "cell_type": "markdown",
   "id": "e3dc37a1",
   "metadata": {},
   "source": [
    "### GaussElimin() 함수"
   ]
  },
  {
   "cell_type": "code",
   "execution_count": 8,
   "id": "242ba525",
   "metadata": {},
   "outputs": [
    {
     "name": "stdout",
     "output_type": "stream",
     "text": [
      "전방 소거 후\n",
      " 6.000e+00   -4.000e+00    1.000e+00   |   -1.400e+01\n",
      "-4.000e+00    3.333e+00   -3.333e+00   |    2.667e+01\n",
      " 1.000e+00   -3.333e+00    2.500e+00   |    3.500e+01\n",
      "\n",
      "계산 결과: \n",
      "x = \n",
      " [10. 22. 14.]\n",
      "\n",
      "결과 확인: [A]{x} - b = \n",
      " [0.00000000e+00 1.42108547e-14 0.00000000e+00]\n"
     ]
    }
   ],
   "source": [
    "# Gauss 소거법의 예\n",
    "\n",
    "import numpy as np\n",
    "from GaussElimin import *\n",
    "\n",
    "if __name__ == '__main__':\n",
    "    A = np.array([[6.0, -4.0, 1.0],\n",
    "                  [-4.0, 6.0, -4.0],\n",
    "                  [1.0, -4.0, 6.0]])\n",
    "    b = np.array([-14.0, 36.0, 6.0])\n",
    "    \n",
    "    AOrig = A.copy()\n",
    "    bOrig = b.copy()\n",
    "    \n",
    "    x = GaussElimin(A, b, True)\n",
    "    \n",
    "    print('\\n계산 결과: \\nx = \\n', x)\n",
    "    print('\\n결과 확인: [A]{x} - b = \\n', np.dot(AOrig, x) - bOrig)"
   ]
  },
  {
   "cell_type": "code",
   "execution_count": 9,
   "id": "9c62eda0",
   "metadata": {},
   "outputs": [
    {
     "name": "stdout",
     "output_type": "stream",
     "text": [
      "\n",
      "계산 결과: x = \n",
      " [   416.66666667  -3125.00000004   9250.00000012 -13500.00000017\n",
      "   9709.33333345  -2751.00000003]\n",
      "\n",
      "det = -1.132e-06\n",
      "\n",
      "결과 확인: [a]{x} - b =\n",
      " [ 9.09494702e-13  1.81898940e-12  3.63797881e-12  1.09139364e-11\n",
      " -2.54658516e-11  3.63797881e-11]\n"
     ]
    }
   ],
   "source": [
    "# Vandermonde 행렬\n",
    "\n",
    "import numpy as np\n",
    "from GaussElimin import *\n",
    "\n",
    "def Vandermonde(v):\n",
    "    n = len(v)\n",
    "    A = np.zeros((n, n))\n",
    "    for j in range(n):\n",
    "        A[:, j] = v**(n - j - 1)\n",
    "    return A\n",
    "\n",
    "if __name__ == '__main__':\n",
    "    v = np.array([1.0, 1.2, 1.4, 1.6, 1.8, 2.0])\n",
    "    b = np.array([0.0, 1.0, 0.0, 1.0, 0.0, 1.0])\n",
    "    A = Vandermonde(v)\n",
    "    \n",
    "    AOrig = A.copy()\n",
    "    bOrig = b.copy()\n",
    "    \n",
    "    x = GaussElimin(A, b)\n",
    "    det = np.prod(np.diagonal(A))\n",
    "    \n",
    "    print('\\n계산 결과: x = \\n', x)\n",
    "    print('\\ndet = {0: 10.3e}'.format(det))\n",
    "    print('\\n결과 확인: [a]{x} - b =\\n', np.dot(AOrig, x) - bOrig)"
   ]
  },
  {
   "cell_type": "markdown",
   "id": "95d936c8",
   "metadata": {},
   "source": [
    "- 행렬식이 요소에 비해 매우 작은 값이므로, 유의할 만한 마무리오차가 생김\n",
    "- 엄밀해는 다음과 같음\n",
    "    - x = [1250/3 - 3125, 9250 - 13500, 29128/3 - 2751]^T\n",
    "    - 이 경우 수치해는 소수점 아래 열자리까지 정확"
   ]
  },
  {
   "cell_type": "code",
   "execution_count": null,
   "id": "0d934a31",
   "metadata": {},
   "outputs": [],
   "source": []
  }
 ],
 "metadata": {
  "kernelspec": {
   "display_name": "Python 3 (ipykernel)",
   "language": "python",
   "name": "python3"
  },
  "language_info": {
   "codemirror_mode": {
    "name": "ipython",
    "version": 3
   },
   "file_extension": ".py",
   "mimetype": "text/x-python",
   "name": "python",
   "nbconvert_exporter": "python",
   "pygments_lexer": "ipython3",
   "version": "3.9.13"
  }
 },
 "nbformat": 4,
 "nbformat_minor": 5
}
