{
 "cells": [
  {
   "cell_type": "markdown",
   "id": "5daf5ae4",
   "metadata": {},
   "source": [
    "### (1) LU 분해"
   ]
  },
  {
   "cell_type": "markdown",
   "id": "8b1fe4c0",
   "metadata": {},
   "source": [
    "**LU 분해 (LU decomposition) : 주어진 행렬 A에 대해 하삼각행렬 L과 상삼각행렬 U의 곱으로 인수분해**\n",
    "- LU 분해는 유일하지 않음\n",
    "- A를 분해한 후에는 여러 가지 상수벡터 b에 대해 Ax = b를 풀 수 있음\n",
    "- 제약조건에 따라 일반적으로 이용되는 세 가지 분해법\n",
    "    - Doolittle 분해법 (Lii = 1, (i = 1, 2, ..., n))\n",
    "    - Crout 분해법 (Uii = 1, (i = 1, 2, ..., n))\n",
    "    - Cholesky 분해법 (L = UT)"
   ]
  },
  {
   "cell_type": "markdown",
   "id": "09731ef0",
   "metadata": {},
   "source": [
    "A를 분해한 후에는 방정식 Ax = b를 풀기가 쉬움\n",
    "- LUx = b를 Ux = y 기호를 이용하면 Ly = b로 쓸 수 있음. y를 전방대입법으로 구함\n",
    "- Ux = y에 대해 후방대입법으로 x를 구함\n",
    "- 해를 구하기 위한 시간이 매우 짧음"
   ]
  },
  {
   "cell_type": "code",
   "execution_count": null,
   "id": "8ea5af77",
   "metadata": {},
   "outputs": [],
   "source": []
  },
  {
   "cell_type": "markdown",
   "id": "fe9086db",
   "metadata": {},
   "source": [
    "### (2) Doolittle 분해법"
   ]
  },
  {
   "cell_type": "markdown",
   "id": "c444d790",
   "metadata": {},
   "source": [
    "**분해 단계**"
   ]
  },
  {
   "cell_type": "markdown",
   "id": "eddbe790",
   "metadata": {},
   "source": [
    "Doolittle 분해법의 두 가지 중요한 특징\n",
    "- 1. 행렬 U는 Gauss 소거법에서 만들어지는 상삼각행렬과 같음\n",
    "- 2. L의 비대각 요소는 Gauss 소거법 동안에 이용하는 피봇방정식의 승수 (multiplier)\n",
    "    - Lij는 Aij를 소거하는 승수"
   ]
  },
  {
   "cell_type": "markdown",
   "id": "e50aad7c",
   "metadata": {},
   "source": [
    "- 소거되는 계수를 치환 (Aij를 Lij로 치환) -> 승수를 계수행렬의 일부인 하삼각 부분에 저장\n",
    "- L의 대각 요소는 1이므로 저장할 필요가 없음\n",
    "- 최종적인 형태는 아래와 같다\n",
    "    - U11 U12 U13\n",
    "    - L21 U22 U23\n",
    "    - L31 L32 U33"
   ]
  },
  {
   "cell_type": "code",
   "execution_count": null,
   "id": "8b4bc323",
   "metadata": {},
   "outputs": [],
   "source": [
    "for k in range(0, n - 1):\n",
    "    for i in range(k + 1, n):\n",
    "        if a[i, k] != 0.0:\n",
    "            lam = a[i, k] / a[k, k]\n",
    "            # 각 승수를 A의 하삼각 부분에 저장\n",
    "            a[i, k + 1:n] = a[i, k + 1:n] - lam * a[k, k + 1:n]\n",
    "            a[i, k] = lam"
   ]
  },
  {
   "cell_type": "markdown",
   "id": "476373a9",
   "metadata": {},
   "source": [
    "**풀이 단계**"
   ]
  },
  {
   "cell_type": "code",
   "execution_count": null,
   "id": "2210e7ce",
   "metadata": {},
   "outputs": [],
   "source": [
    "# 전방대입\n",
    "y[0] = b[0]\n",
    "for k in range(1, n):\n",
    "    y[k] = b[k] - dot(a[k, 0:k], y[0:k])"
   ]
  },
  {
   "cell_type": "code",
   "execution_count": 2,
   "id": "685ceb95",
   "metadata": {},
   "outputs": [
    {
     "name": "stdout",
     "output_type": "stream",
     "text": [
      "LU 분해: A = \n",
      "[[ 1.   4.   1. ]\n",
      " [ 1.   2.  -2. ]\n",
      " [ 2.  -4.5 -9. ]]\n",
      "\n",
      "계산 결과: x =  [ 5.  1. -2.]\n",
      "\n",
      "검토계산: [A]{x} - {b} =  [0. 0. 0.]\n"
     ]
    }
   ],
   "source": [
    "# Doolittle 법에 의한 선형연립방정식 풀이\n",
    "\n",
    "import numpy as np\n",
    "from LudDoolittle import *\n",
    "from PrintMatrix import *\n",
    "\n",
    "A = np.array([[1.0, 4.0, 1.0],\n",
    "              [1.0, 6.0, -1.0],\n",
    "              [2.0, -1.0, 2.0]])\n",
    "b = np.array([7.0, 13.0, 5.0])\n",
    "\n",
    "AOrg = A.copy()\n",
    "bOrg = b.copy()\n",
    "\n",
    "# [A] 분해\n",
    "A = decompDoolittle(A)\n",
    "print(\"LU 분해: A = \")\n",
    "print(A)\n",
    "\n",
    "# LU분해\n",
    "x = solveDoolittle(A, b)\n",
    "print(\"\\n계산 결과: x = \", x)\n",
    "print(\"\\n검토계산: [A]{x} - {b} = \", np.dot(AOrg, x) - bOrg)"
   ]
  },
  {
   "cell_type": "markdown",
   "id": "72ad84de",
   "metadata": {},
   "source": [
    "### (3) Cholesky 분해법"
   ]
  },
  {
   "cell_type": "markdown",
   "id": "ba1ace95",
   "metadata": {},
   "source": [
    "Cholesky 분해법 A = LL^T의 두 가지 제약\n",
    "- 1. LL^T는 항상 대칭행렬. 따라서 A가 대칭행렬\n",
    "- 2. 분해 과정에서 A의 요소의 어떤 조합의 제곱근을 포함.\n",
    "    - 음수의 제곱근을 피하기 위해 A는 반드시 정부호 (positive definite)"
   ]
  },
  {
   "cell_type": "markdown",
   "id": "5ef8783a",
   "metadata": {},
   "source": [
    "- 근사적으로 n^3 / 6회 연산, n회의 제곱근 계산 포함 (LU 분해의 절반)\n",
    "- 이는 대칭성에 따른 것"
   ]
  },
  {
   "cell_type": "markdown",
   "id": "633f6838",
   "metadata": {},
   "source": [
    "- Aij는 Lij에 대한 식에서만 나타남\n",
    "    - Lij를 한 번 계산하면 Aij는 더 이상 필요하지 않음\n",
    "    - L을 계산하면 A의 부분에 덮어쓰기를 할 수 있음\n",
    "- A의 주대각선 윗부분은 건드리지 않음"
   ]
  },
  {
   "cell_type": "code",
   "execution_count": 6,
   "id": "16008383",
   "metadata": {},
   "outputs": [
    {
     "name": "stdout",
     "output_type": "stream",
     "text": [
      "LU 분해: L = \n",
      "[[ 2  0  0]\n",
      " [-1  2  0]\n",
      " [ 1 -4 11]]\n",
      "\n",
      "계산 결과: x = [1 0 0]\n",
      "\n",
      "계산 검토: [A] {x} - {b} =  [ 0  0 -1]\n"
     ]
    }
   ],
   "source": [
    "# Cholesky 법에 의한 선형연립방정식 풀이\n",
    "\n",
    "import numpy as np\n",
    "from LudCholesky import *\n",
    "\n",
    "A = np.array([[4, -2, 2],\n",
    "              [-2, 2, -4],\n",
    "              [2, -4, 11]])\n",
    "b = np.array([4, -2, 3])\n",
    "\n",
    "AOrg = A.copy()\n",
    "bOrg = b.copy()\n",
    "\n",
    "L = decompCholesky(A)\n",
    "print(\"LU 분해: L = \")\n",
    "print(L)\n",
    "\n",
    "x = solveCholesky(L, b)\n",
    "print(\"\\n계산 결과: x =\", x)\n",
    "print(\"\\n계산 검토: [A] {x} - {b} = \",np.dot(AOrg, x) - bOrg)"
   ]
  },
  {
   "cell_type": "code",
   "execution_count": null,
   "id": "2bb34696",
   "metadata": {},
   "outputs": [],
   "source": []
  },
  {
   "cell_type": "markdown",
   "id": "63d9e202",
   "metadata": {},
   "source": [
    "### (4) Crout 분해법"
   ]
  },
  {
   "cell_type": "markdown",
   "id": "de58aca0",
   "metadata": {},
   "source": [
    "- Doolittle 분해법에서 L의 대각 요소는 1\n",
    "- Crout 분해법에서는 U의 대각 요소가 1"
   ]
  },
  {
   "cell_type": "code",
   "execution_count": null,
   "id": "e4bb95b4",
   "metadata": {},
   "outputs": [],
   "source": []
  },
  {
   "cell_type": "markdown",
   "id": "6cd320db",
   "metadata": {},
   "source": [
    "### (5) Gauss-Jordan 소거법"
   ]
  },
  {
   "cell_type": "markdown",
   "id": "1f200bd8",
   "metadata": {},
   "source": [
    "- Gauss 소거법은 피봇방정식 아래에 있는 방정식만을 변환\n",
    "- Gauss-Jordan 소거법은 피봇방정식 위에 있는 방정식에 대해서도 수행\n",
    "    - 결과적으로 대각 계수행렬이 만들어짐"
   ]
  },
  {
   "cell_type": "code",
   "execution_count": null,
   "id": "360923b6",
   "metadata": {},
   "outputs": [],
   "source": []
  }
 ],
 "metadata": {
  "kernelspec": {
   "display_name": "Python 3 (ipykernel)",
   "language": "python",
   "name": "python3"
  },
  "language_info": {
   "codemirror_mode": {
    "name": "ipython",
    "version": 3
   },
   "file_extension": ".py",
   "mimetype": "text/x-python",
   "name": "python",
   "nbconvert_exporter": "python",
   "pygments_lexer": "ipython3",
   "version": "3.9.13"
  }
 },
 "nbformat": 4,
 "nbformat_minor": 5
}
