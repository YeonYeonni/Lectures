{
 "cells": [
  {
   "cell_type": "markdown",
   "id": "0d63ab3c",
   "metadata": {},
   "source": [
    "### (1) 대역행렬과 대칭행렬"
   ]
  },
  {
   "cell_type": "markdown",
   "id": "83e0acfa",
   "metadata": {},
   "source": [
    "**성긴 행렬 : 행렬의 대부분의 요소가 0인 행렬**\n",
    "\n",
    "**대역행렬 (banded matrix) : 모든 0이 아닌 요소가 주대각 주위에 모여 있는 행렬**\n",
    "- 대역 행렬의 예시\n",
    "    - X X 0 0 0\n",
    "    - X X X 0 0\n",
    "    - 0 X X X 0\n",
    "    - 0 0 X X X\n",
    "    - 0 0 0 X X\n",
    "- X는 대역을 형성하는 0이 아닌 요소\n",
    "- 대역 바깥에 놓인 모든 요소는 0\n",
    "- 해당 대역행렬은 각 행(또는 열)에서 0이 아닌 요소의 수가 최대 3이므로 대역폭이 3\n",
    "- 이를 삼대각행렬 (tridiagonal matrix)"
   ]
  },
  {
   "cell_type": "markdown",
   "id": "14ebd3b1",
   "metadata": {},
   "source": [
    "**대역행렬의 A = LU 분해**\n",
    "- L과 U 모두 A의 대역폭 안에 남게 됨\n",
    "- L\n",
    "    - X 0 0 0 0\n",
    "    - X X 0 0 0\n",
    "    - 0 X X 0 0\n",
    "    - 0 0 X X 0\n",
    "    - 0 0 0 X X\n",
    "- U\n",
    "    - X X 0 0 0\n",
    "    - 0 X X 0 0\n",
    "    - 0 0 X X 0\n",
    "    - 0 0 0 X X\n",
    "    - 0 0 0 0 X\n",
    "- 대역 구조는 행렬을 저장하는 기억장소를 절약하고 계산 시간을 줄일 수 있음\n",
    "- 계수행렬이 대칭이면 그 이상의 효과가 있음"
   ]
  },
  {
   "cell_type": "code",
   "execution_count": null,
   "id": "1fba8f10",
   "metadata": {},
   "outputs": [],
   "source": []
  },
  {
   "cell_type": "markdown",
   "id": "0a4d3909",
   "metadata": {},
   "source": [
    "### (2) 삼대각 계수행렬"
   ]
  },
  {
   "cell_type": "markdown",
   "id": "5dbd1d30",
   "metadata": {},
   "source": [
    "**Doolittle 분해법에 의해 Ax = b를 풀기**"
   ]
  },
  {
   "cell_type": "code",
   "execution_count": null,
   "id": "09e0c8ba",
   "metadata": {},
   "outputs": [],
   "source": [
    "# 분해 알고리즘\n",
    "for k in range(1, n):\n",
    "    lam = c[k] / d[k-1]\n",
    "    d[k] = d[k] - lam * e[k-1]\n",
    "    c[k-1] = lam"
   ]
  },
  {
   "cell_type": "code",
   "execution_count": null,
   "id": "39f34b01",
   "metadata": {},
   "outputs": [],
   "source": [
    "# 풀이 단계 (Ly = b)\n",
    "y[0] = b[0]\n",
    "for k in range(1, n):\n",
    "    y[k] = b[k] - c[k] * y[k-1]"
   ]
  },
  {
   "cell_type": "code",
   "execution_count": null,
   "id": "058bcfb5",
   "metadata": {},
   "outputs": [],
   "source": [
    "# 풀이 단계 (Ux = y)\n",
    "x[n - 1] = y[n - 1] / d[n - 1]\n",
    "for k in range(n-2, -1, -1):\n",
    "    x[k] = (y[k] - e[k] * x[k + 1]) / d[k]"
   ]
  },
  {
   "cell_type": "code",
   "execution_count": null,
   "id": "afff21a0",
   "metadata": {},
   "outputs": [],
   "source": []
  },
  {
   "cell_type": "markdown",
   "id": "f53286d8",
   "metadata": {},
   "source": [
    "### (3) 대칭계수행렬"
   ]
  },
  {
   "cell_type": "markdown",
   "id": "e188e04e",
   "metadata": {},
   "source": [
    "- 만일 행렬 A가 대칭이면, LU 분해는 A = LU = LDL^T의 형태로 나타낼 수 있음\n",
    "    - 여기서 D는 대각행렬\n",
    "    - Cholesky 분해 A = LL^T는 대각행렬 D가 I인 경우"
   ]
  },
  {
   "cell_type": "markdown",
   "id": "f88ad1e9",
   "metadata": {},
   "source": [
    "- LU 분해 동안에 채택할 수 있는 대안적인 저장 기법\n",
    "    - 다음의 행렬에 도달한다는 발상\n",
    "    - Uij = DiLji\n",
    "        - D1 L21 L31 ... Ln1\n",
    "        - 0 D2 L32 ... Ln2\n",
    "        - 0 0 D3 ... Ln3\n",
    "        - ... ... ... ...\n",
    "        - 0 0 0 0 Dn"
   ]
  },
  {
   "cell_type": "code",
   "execution_count": 2,
   "id": "b1e719c7",
   "metadata": {},
   "outputs": [
    {
     "name": "stdout",
     "output_type": "stream",
     "text": [
      "선형연립방정식\n",
      " 2.000e+00   -1.000e+00    0.000e+00    0.000e+00    0.000e+00   |    5.000e+00\n",
      "-1.000e+00    2.000e+00   -1.000e+00    0.000e+00    0.000e+00   |   -5.000e+00\n",
      " 0.000e+00   -1.000e+00    2.000e+00   -1.000e+00    0.000e+00   |    4.000e+00\n",
      " 0.000e+00    0.000e+00   -1.000e+00    2.000e+00   -1.000e+00   |   -5.000e+00\n",
      " 0.000e+00    0.000e+00    0.000e+00   -1.000e+00    2.000e+00   |    5.000e+00\n",
      "\n",
      "LU 분해된 삼대각행렬\n",
      " 2.000e+00 -1.000e+00  0.000e+00  0.000e+00  0.000e+00 \n",
      "-5.000e-01  1.500e+00 -1.000e+00  0.000e+00  0.000e+00 \n",
      " 0.000e+00 -6.667e-01  1.333e+00 -1.000e+00  0.000e+00 \n",
      " 0.000e+00  0.000e+00 -7.500e-01  1.250e+00 -1.000e+00 \n",
      " 0.000e+00  0.000e+00  0.000e+00 -8.000e-01  1.200e+00 \n",
      "\n",
      "계산 결과: \n",
      "x =  [ 2. -1.  1. -1.  2.]\n",
      "\n",
      "결과 확인: [A]{x} - b =  [0. 0. 0. 0. 0.]\n"
     ]
    }
   ],
   "source": [
    "# 삼대역행렬의 Lu 분해 풀이\n",
    "import numpy as np\n",
    "from Lud3 import *\n",
    "from PrintMatrix import *\n",
    "\n",
    "def makeArr(n, ci, di, ei):\n",
    "    A = np.zeros((n, n))\n",
    "    \n",
    "    A[0][0] = di\n",
    "    A[0][1] = ei\n",
    "    for i in range(1, n-1):\n",
    "        A[i][i-1] = ci\n",
    "        A[i][i] = di\n",
    "        A[i][i+1] = ei\n",
    "    A[n-1][n-2] = ci\n",
    "    A[n-1][n-1] = di\n",
    "    \n",
    "    return A\n",
    "\n",
    "if __name__ == '__main__':\n",
    "    A = makeArr(5, -1.0, 2.0, -1.0)\n",
    "    b = np.array([5.0, -5.0, 4.0, -5.0, 5.0])\n",
    "    \n",
    "    print(\"선형연립방정식\")\n",
    "    printEqs(A, b)\n",
    "    print(\"\")\n",
    "    \n",
    "    AOrg = A.copy()\n",
    "    bOrg = b.copy()\n",
    "    \n",
    "    # 삼대각행렬 계산\n",
    "    x = Lud3A(A, b, True)\n",
    "    \n",
    "    print('\\n계산 결과: \\nx = ', x)\n",
    "    print('\\n결과 확인: [A]{x} - b = ', np.dot(AOrg, x) - bOrg)"
   ]
  },
  {
   "cell_type": "markdown",
   "id": "47451894",
   "metadata": {},
   "source": [
    "### (4) 대칭오대각 계수행렬"
   ]
  },
  {
   "cell_type": "markdown",
   "id": "2a9ab163",
   "metadata": {},
   "source": [
    "- 4계 상미분방정식을 유한차분법으로 풀면 오대각(대역폭=5) 계수행렬이 나옴\n",
    "- 이 행렬은 보통 대칭"
   ]
  },
  {
   "cell_type": "markdown",
   "id": "8c244f66",
   "metadata": {},
   "source": [
    "**Doolittle 분해법에 의해 방정식 Ax = b를 풀기**"
   ]
  },
  {
   "cell_type": "markdown",
   "id": "78b935ab",
   "metadata": {},
   "source": [
    "**소거 단계**\n",
    "\n",
    "- 행렬 A를 Gauss 소거법으로 상삼각행렬로 변환\n",
    "\n",
    "- k번째 행이 피봇행이 되는 단계까지 소거가 진행\n",
    "    - 0 dk ek fk 0 0 0 (k행)\n",
    "    - 0 ek dk+1 ek+1 fk+1 0 0\n",
    "    - 0 fk ek+1 dk+2 ek+2 fk+2 0\n",
    "    - 0 0 fk+1 ek+2 dk+3 ek+3 fk+3\n",
    "\n",
    "\n",
    "- 피봇행 (k번째 행) 아래에 있는 요소 ek와 fk는 소거\n",
    "    - (k + 1)행 <- (k + 1)행 - (ek / dk) X k행\n",
    "    - (k + 2)행 <- (k + 1)행 - (fk / dk) X k행\n",
    "\n",
    "\n",
    "- 연산에 의해 변경되는 유일한 항\n",
    "    - dk+1 <- dk+1 - (ek / dk) ek\n",
    "    - ek+1 <- ek+1 - (ek / dk) fk\n",
    "    - dk+2 <- dk+2 - (fk / dk) fk\n",
    "    \n",
    "    \n",
    "- 행렬의 상삼각 부분에서 승수의 저장\n",
    "    - ek <- (ek / dk), fk <- (fk / dk)"
   ]
  },
  {
   "cell_type": "markdown",
   "id": "6c8968c7",
   "metadata": {},
   "source": [
    "**풀이 단계**\n",
    "\n",
    "- 소거 단계의 결과\n",
    "    - d1 e1 f1 0 ... 0\n",
    "    - 0 d2 e2 f2 ... 0\n",
    "    - 0 0 d3 e3 ... 0\n",
    "    - ... ... ... ...\n",
    "    - 0 0 ... 0 dn-1 en-1\n",
    "    - 0 0 ... 0 0 dn\n",
    "  \n",
    "  \n",
    "- Ly = b는 다음의 확대계수행렬을 가짐 [L | b]\n",
    "    - 1 0 0 0 ... 0 | b1\n",
    "    - e1 1 0 0 ... 0 | b2\n",
    "    - f1 e1 1 0 ... 0 | b3\n",
    "    - 0 f2 e3 1 ... 0 | b4\n",
    "    - ... ... ... ... | ...\n",
    "    - 0 0 0 fn-2 en-1 1 | bn\n",
    "    \n",
    "    \n",
    "- 전방대입\n",
    "    - y1 = b1\n",
    "    - y2 = b2 - e1y1\n",
    "    - ...\n",
    "    - yk = bk - fk-2yk-2 - ek-1yk-1, (k = 3, 4, ..., n)\n",
    "    \n",
    "    \n",
    "- 후방대입. Ux = y는 다음의 확대계수행렬을 갖는다\n",
    "    - d1 d1e1 d1f1 0 ... 0 | y1\n",
    "    - 0 d2 d2e2 d2f2 ... 0 | y2\n",
    "    - 0 0 d3 d3e3 ... 0 | y3\n",
    "    - ... ... ... ... | ...\n",
    "    - 0 0 ... 0 dn-1 dn-1 en-1 | yn-1\n",
    "    - 0 0 ... 0 0 dn | yn\n",
    "    \n",
    "    \n",
    "- 연립방정식의 해를 후방대입으로 구하기\n",
    "    - xn = yn / dn\n",
    "    - xn-1 = yn-1 / dn-1 - en-1xn\n",
    "    - xk = yk/dk - ekxk+1 - fkxk+2, (k = n-2, n-3, ..., 1)"
   ]
  },
  {
   "cell_type": "code",
   "execution_count": 1,
   "id": "d72838c3",
   "metadata": {},
   "outputs": [
    {
     "name": "stdout",
     "output_type": "stream",
     "text": [
      "x[0] =  1.000\n",
      "x[1] =  1.000\n",
      "x[2] =  1.000\n",
      "x[3] =  1.000\n",
      "x[4] =  1.000\n",
      "x[5] =  1.000\n",
      "x[6] =  1.000\n",
      "x[7] =  1.000\n",
      "x[8] =  1.000\n",
      "x[9] =  1.000\n"
     ]
    }
   ],
   "source": [
    "# 오대각행렬 풀이\n",
    "\n",
    "import numpy as np\n",
    "from LudSym5 import *\n",
    "\n",
    "if __name__ == '__main__':\n",
    "    d = [9.0, 6.0, 6.0, 6.0, 6.0, 6.0, 6.0, 6.0, 5.0, 1.0]\n",
    "    e = [-4.0, -4.0, -4.0, -4.0, -4.0, -4.0, -4.0, -4.0, -2.0, 0.0]\n",
    "    f = [1.0, 1.0, 1.0, 1.0, 1.0, 1.0, 1.0, 1.0, 1.0, 0.0]\n",
    "    b = [6.0, -1.0, 0.0, 0.0, 0.0, 0.0, 0.0, 0.0, 0.0, 0.0]\n",
    "    \n",
    "    ld, le, lf = decompLudSym5(d, e, f)\n",
    "    \n",
    "    x = solveLudSym5(ld, le, lf, b)\n",
    "    \n",
    "    for i in range(len(x)):\n",
    "        print(\"x[{0:d}] = {1:6.3f}\".format(i, x[i]))"
   ]
  },
  {
   "cell_type": "code",
   "execution_count": null,
   "id": "872f2fd5",
   "metadata": {},
   "outputs": [],
   "source": []
  },
  {
   "cell_type": "code",
   "execution_count": null,
   "id": "118dffd9",
   "metadata": {},
   "outputs": [],
   "source": []
  }
 ],
 "metadata": {
  "kernelspec": {
   "display_name": "Python 3 (ipykernel)",
   "language": "python",
   "name": "python3"
  },
  "language_info": {
   "codemirror_mode": {
    "name": "ipython",
    "version": 3
   },
   "file_extension": ".py",
   "mimetype": "text/x-python",
   "name": "python",
   "nbconvert_exporter": "python",
   "pygments_lexer": "ipython3",
   "version": "3.9.13"
  }
 },
 "nbformat": 4,
 "nbformat_minor": 5
}
