{
 "cells": [
  {
   "cell_type": "markdown",
   "id": "606cf6ed",
   "metadata": {},
   "source": [
    "### 피보나치 수열"
   ]
  },
  {
   "cell_type": "code",
   "execution_count": 1,
   "id": "b30986d5",
   "metadata": {},
   "outputs": [
    {
     "name": "stdout",
     "output_type": "stream",
     "text": [
      "3\n"
     ]
    }
   ],
   "source": [
    "# 피보나치 함수 (Fibonacci Function) 를 재귀 함수로 구현.\n",
    "\n",
    "def fibo(x):\n",
    "    if x == 1 or x == 2:\n",
    "        return 1\n",
    "    \n",
    "    return fibo(x - 1) + fibo (x - 2)\n",
    "\n",
    "print(fibo(4))"
   ]
  },
  {
   "cell_type": "markdown",
   "id": "eba53d6c",
   "metadata": {},
   "source": [
    "- 위와 같은 코드는 n이 커지면 커질수록 수행 시간이 기하급수적으로 늘어남.\n",
    "- 단순히 매번 계산하도록 하면 문제를 효율적으로 해결할 수 없음."
   ]
  },
  {
   "cell_type": "markdown",
   "id": "f9e80376",
   "metadata": {},
   "source": [
    "## 다이나믹 프로그래밍"
   ]
  },
  {
   "cell_type": "markdown",
   "id": "e5a5f2a7",
   "metadata": {},
   "source": [
    "다음 조건을 만족할 때 사용.\n",
    "\n",
    "- 1. 큰 문제를 작은 문제로 나눌 수 있음.\n",
    "- 2. 작은 문제에서 구한 정답은 그것을 포함하는 큰 문제에서도 동일."
   ]
  },
  {
   "cell_type": "markdown",
   "id": "a79cffb4",
   "metadata": {},
   "source": [
    "메모이제이션 (Memoization)\n",
    "\n",
    "- 다이나믹 프로그래밍을 구현하는 방법 중 하나.\n",
    "- 한 번 구한 결과를 메모리 공간에 메모, 같은 식을 다시 호출하면 메모한 결과를 그대로 가져오는 기법.\n",
    "- 캐싱 (Caching) 이라고도 함."
   ]
  },
  {
   "cell_type": "markdown",
   "id": "f64ea584",
   "metadata": {},
   "source": [
    "탑다운 방식\n",
    "\n",
    "- 재귀 함수를 이용하여 소스코드 작성.\n",
    "- 큰 문제를 해결하기 위해 작은 문제를 호출."
   ]
  },
  {
   "cell_type": "code",
   "execution_count": 2,
   "id": "fab538e3",
   "metadata": {},
   "outputs": [
    {
     "name": "stdout",
     "output_type": "stream",
     "text": [
      "218922995834555169026\n"
     ]
    }
   ],
   "source": [
    "# 한 번 계산된 결과를 메모이제이션하기 위한 리스트 초기화\n",
    "d = [0] * 100\n",
    "\n",
    "# 피보나치 함수 (Fibonacci Function) 를 재귀 함수로 구현. (탑다운 다이나믹 프로그래밍)\n",
    "def fibo(x):\n",
    "    # 종료 조건(1 혹은 2일 때 1을 반환)\n",
    "    if x == 1 or x == 2:\n",
    "        return 1\n",
    "    \n",
    "    # 이미 계산한 적 있는 문제라면 그대로 반환.\n",
    "    if d[x] != 0:\n",
    "        return d[x]\n",
    "    \n",
    "    # 아직 계산하지 않은 문제라면 점화식에 따라서 피보나치 결과 반환.\n",
    "    d[x] = fibo(x - 1) + fibo(x - 2)\n",
    "    return d[x]\n",
    "\n",
    "print(fibo(99))"
   ]
  },
  {
   "cell_type": "code",
   "execution_count": 3,
   "id": "0c49437f",
   "metadata": {},
   "outputs": [
    {
     "name": "stdout",
     "output_type": "stream",
     "text": [
      "f(6)f(5)f(4)f(3)f(2)f(1)f(2)f(3)f(4)"
     ]
    },
    {
     "data": {
      "text/plain": [
       "8"
      ]
     },
     "execution_count": 3,
     "metadata": {},
     "output_type": "execute_result"
    }
   ],
   "source": [
    "# 호출되는 함수 확인\n",
    "d = [0] * 100\n",
    "\n",
    "def pibo(x):\n",
    "    print('f(' + str(x) + ')', end='')\n",
    "    if x == 1 or x == 2:\n",
    "        return 1\n",
    "    \n",
    "    if d[x] != 0:\n",
    "        return d[x]\n",
    "    \n",
    "    d[x] = pibo(x - 1) + pibo(x - 2)\n",
    "    return d[x]\n",
    "\n",
    "pibo(6)"
   ]
  },
  {
   "cell_type": "markdown",
   "id": "7ba450f6",
   "metadata": {},
   "source": [
    "바텀업 방식\n",
    "\n",
    "- 반복문을 이용.\n",
    "- 작은 문제부터 답을 도출."
   ]
  },
  {
   "cell_type": "code",
   "execution_count": 7,
   "id": "a6a855b1",
   "metadata": {},
   "outputs": [
    {
     "name": "stdout",
     "output_type": "stream",
     "text": [
      "218922995834555169026\n"
     ]
    }
   ],
   "source": [
    "# 피보나치 수열. (반복문)\n",
    "\n",
    "# 앞서 계산된 결과를 저장하기 위한 DP 테이블 초기화\n",
    "d = [0] * 100\n",
    "\n",
    "# 첫 번째 피보나치 수와 두 번째 피보나치 수는 1\n",
    "d[1] = 1\n",
    "d[2] = 1\n",
    "\n",
    "# 테스트할 수.\n",
    "n = 99\n",
    "\n",
    "# 피보나치 함수 (Fibonacci Function) 반복문으로 구현 (보텀업 다이나믹 프로그래밍)\n",
    "for i in range(3, n + 1):\n",
    "    d[i] = d[i - 1] + d[i - 2]\n",
    "    \n",
    "print(d[n])"
   ]
  },
  {
   "cell_type": "code",
   "execution_count": null,
   "id": "8b4ba790",
   "metadata": {},
   "outputs": [],
   "source": []
  }
 ],
 "metadata": {
  "kernelspec": {
   "display_name": "Python 3 (ipykernel)",
   "language": "python",
   "name": "python3"
  },
  "language_info": {
   "codemirror_mode": {
    "name": "ipython",
    "version": 3
   },
   "file_extension": ".py",
   "mimetype": "text/x-python",
   "name": "python",
   "nbconvert_exporter": "python",
   "pygments_lexer": "ipython3",
   "version": "3.8.6"
  }
 },
 "nbformat": 4,
 "nbformat_minor": 5
}
