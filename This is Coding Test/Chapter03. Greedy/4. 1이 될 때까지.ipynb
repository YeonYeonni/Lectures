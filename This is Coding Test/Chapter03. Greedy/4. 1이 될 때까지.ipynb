{
 "cells": [
  {
   "cell_type": "markdown",
   "id": "31bfc3c6",
   "metadata": {},
   "source": [
    "## 1이 될 때까지"
   ]
  },
  {
   "cell_type": "markdown",
   "id": "6cab68b4",
   "metadata": {},
   "source": [
    "### N과 K가 주어질 때 N이 1이 될 때까지 1번 혹은 2번의 과정을 수행해야 하는 최소 횟수를 구하는 프로그램을 작성하시오."
   ]
  },
  {
   "cell_type": "markdown",
   "id": "ed8108f5",
   "metadata": {},
   "source": [
    "- 1번: N에서 1을 뺀다.\n",
    "- 2번: N을 K로 나눈다."
   ]
  },
  {
   "cell_type": "markdown",
   "id": "688b5276",
   "metadata": {},
   "source": [
    "- 입력 조건\n",
    "    - 첫째 줄에 N(2 <= N <= 100,000)과 K(2 <= K <= 100,000)가 공백으로 구분. 각각 자연수로 주어짐.\n",
    "    - 이 때 입력으로 주어지는 N은 항상 K보다 크거나 같다.\n",
    "\n",
    "- 출력 조건\n",
    "    - 첫째 줄에 N이 1이 될 때까지 과정을 수행해야 하는 횟수의 최솟값을 출력한다."
   ]
  },
  {
   "cell_type": "code",
   "execution_count": 19,
   "id": "242d3361",
   "metadata": {},
   "outputs": [
    {
     "name": "stdout",
     "output_type": "stream",
     "text": [
      "2\n"
     ]
    }
   ],
   "source": [
    "n, k = map(int, input().split())\n",
    "\n",
    "result = 0\n",
    "\n",
    "# n이 k보다 크다면,\n",
    "while n >= k:\n",
    "    \n",
    "    # 그 중에서도 n이 k로 나누어 떨어지지 않는다면.\n",
    "    while n % k != 0:\n",
    "        n -= 1\n",
    "        result += 1\n",
    "    \n",
    "    # k로 나누기\n",
    "    n //= k\n",
    "    result += 1\n",
    "    \n",
    "# 마지막으로 남은 수에 대해서 1씩 빼기\n",
    "while n > 1:\n",
    "    n -= 1\n",
    "    result += 1\n",
    "    \n",
    "print(result)"
   ]
  },
  {
   "cell_type": "markdown",
   "id": "2daa4695",
   "metadata": {},
   "source": [
    "- 위 방법은 N의 범위가 10만 이하.\n",
    "- N이 100억 이상의 큰 수가 되는 경우에는 아래와 같은 방법이 좋음."
   ]
  },
  {
   "cell_type": "markdown",
   "id": "c4c99cee",
   "metadata": {},
   "source": [
    "### N이 K의 배수가 되도록 효율적으로 한 번에 빼기."
   ]
  },
  {
   "cell_type": "code",
   "execution_count": 7,
   "id": "2addcda3",
   "metadata": {},
   "outputs": [
    {
     "name": "stdout",
     "output_type": "stream",
     "text": [
      "25 5\n"
     ]
    }
   ],
   "source": [
    "n, k = map(int, input().split())\n",
    "\n",
    "result = 0"
   ]
  },
  {
   "cell_type": "code",
   "execution_count": 8,
   "id": "d5b2292c",
   "metadata": {},
   "outputs": [
    {
     "name": "stdout",
     "output_type": "stream",
     "text": [
      "2\n"
     ]
    }
   ],
   "source": [
    "while True:\n",
    "    \n",
    "    # (N == K로 나누어떨어지는 수) 가 될 때까지 1씩 빼기\n",
    "    target = (n // k) * k\n",
    "    result += (n - target)\n",
    "    n = target\n",
    "    \n",
    "    # N이 K보다 작을 때 (더 이상 나눌 수 없을 때) 반복문 탈출\n",
    "    if n < k:\n",
    "        break\n",
    "        \n",
    "    # K로 나누기\n",
    "    result += 1\n",
    "    n //= k\n",
    "    \n",
    "# 마지막으로 남은 수에 대해 1씩 빼기\n",
    "result += (n - 1)\n",
    "print(result)"
   ]
  },
  {
   "cell_type": "code",
   "execution_count": null,
   "id": "e47fabf0",
   "metadata": {},
   "outputs": [],
   "source": []
  }
 ],
 "metadata": {
  "kernelspec": {
   "display_name": "Python 3 (ipykernel)",
   "language": "python",
   "name": "python3"
  },
  "language_info": {
   "codemirror_mode": {
    "name": "ipython",
    "version": 3
   },
   "file_extension": ".py",
   "mimetype": "text/x-python",
   "name": "python",
   "nbconvert_exporter": "python",
   "pygments_lexer": "ipython3",
   "version": "3.8.6"
  }
 },
 "nbformat": 4,
 "nbformat_minor": 5
}
