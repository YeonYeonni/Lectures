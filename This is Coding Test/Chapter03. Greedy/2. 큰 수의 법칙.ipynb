{
 "cells": [
  {
   "cell_type": "markdown",
   "id": "ad081011",
   "metadata": {},
   "source": [
    "## 큰 수의 법칙\n",
    "\n",
    "- 다양한 수로 이루어진 배열이 있을 때, 주어진 수들을 M번 더하여 가장 큰 수를 만드는 법칙.\n",
    "    - 단, 배열의 특정한 인덱스에 해당하는 수가 연속해서 K번을 초과하여 더해질 수 없음."
   ]
  },
  {
   "cell_type": "markdown",
   "id": "be11bf5e",
   "metadata": {},
   "source": [
    "- ex) 순서대로 2, 4, 5, 4, 6 으로 이루어진 배열이 있을 때, M이 8, K가 3.\n",
    "- 이 경우, 특정한 인덱스의 수가 연속해서 세 번까지 더해질 수 있음.\n",
    "    - 정답은 6 + 6 + 6 + 5 + 6 + 6 + 6 + 5 = 46"
   ]
  },
  {
   "cell_type": "markdown",
   "id": "c4f00d02",
   "metadata": {},
   "source": [
    "- 단, 서로 다른 인덱스에 해당하는 수가 같은 경우에도 서로 다른 것으로 간주.\n",
    "- ex) 배열이 3, 4, 3, 4, 3이고 M이 7, K가 2.\n",
    "- 이 경우 4를 번갈아 두 번씩 더하는 것이 가능.\n",
    "    - 정답은4 + 4 + 4 + 4 + 4 + 4 + 4 = 28"
   ]
  },
  {
   "cell_type": "markdown",
   "id": "0c762fae",
   "metadata": {},
   "source": [
    "- 문제: 배열의 크기 N, 숫자가 더해지는 횟수 M, 그리고 K가 주어질 때 큰 수의 법칙에 따른 결과를 출력하시오.\n",
    "\n",
    "- 입력 조건\n",
    "    - 첫째 줄에 N(2 <= N <= 1000), M(1 <= M <= 10,000), K(1 <= K <= 10,000)의 자연수가 주어지며, 각 자연수는 공백으로 구분한다.\n",
    "    - 둘째 줄에 N개의 자연수가 주어진다. 각 자연수는 공백으로 구분한다. 단, 각각의 자연수는 1 이상 10,000이하의 수로 주어진다.\n",
    "    - 입력으로 주어지는 K는 항상 M보다 작거나 같다.\n",
    "- 출력 조건\n",
    "    - 첫째 줄에 큰 수의 법칙에 따라 더해진 답을 출력한다."
   ]
  },
  {
   "cell_type": "markdown",
   "id": "9cf98821",
   "metadata": {},
   "source": [
    "- 입력 예시\n",
    "    - 5 8 3\n",
    "    - 2 4 5 4 6\n",
    "- 출력 예시\n",
    "    - 46"
   ]
  },
  {
   "cell_type": "code",
   "execution_count": 12,
   "id": "411e70cd",
   "metadata": {},
   "outputs": [
    {
     "name": "stdout",
     "output_type": "stream",
     "text": [
      "5 8 3\n",
      "2 4 5 4 6\n",
      "46\n"
     ]
    }
   ],
   "source": [
    "n, m, k = map(int, input().split())\n",
    "data = list(map(int, input().split()))\n",
    "\n",
    "data.sort()\n",
    "\n",
    "first = data[n - 1]\n",
    "second = data[n - 2]\n",
    "\n",
    "result = 0\n",
    "\n",
    "while True:\n",
    "\n",
    "    for i in range(k):\n",
    "        if m == 0: # m이 0일 경우 반복문 탈출.\n",
    "            break\n",
    "            \n",
    "        result += first # 가장 큰 수를 k번 더함.\n",
    "        m -= 1 # m을 1 차감.\n",
    "    \n",
    "    if m == 0:\n",
    "        break\n",
    "        \n",
    "    result += second # 두번째로 작은 수를 더함.\n",
    "    m -= 1 # m을 1 차감.\n",
    "\n",
    "print(result)"
   ]
  },
  {
   "cell_type": "markdown",
   "id": "f76f56ca",
   "metadata": {},
   "source": [
    "- 이 문제는 M이 10,000 이하이므로 이 방식으로 문제를 해결할 수 있음.\n",
    "    - M의 크기가 100억 이상으로 커진다면 시간 초과 판정."
   ]
  },
  {
   "cell_type": "markdown",
   "id": "29889460",
   "metadata": {},
   "source": [
    "- 이 문제를 해결하려면, 반복되는 수열에 대해 파악해야 함.\n",
    "    - first와 second가 더해질 때에는 특정한 수열 형태로 일정하게 반복해서 더해짐.\n",
    "    \n",
    "        - 위 문제에서 반복되는 수열의 길이: k + 1번\n",
    "            - first가 반복되는 수 k번\n",
    "            - second가 끼어드는 수 1번\n",
    "            \n",
    "        - 수열이 반복되는 횟수: m / (k + 1)\n",
    "            - 채워야하는 횟수 m\n",
    "            - 수열 한번의 사이클 k+1\n",
    "        \n",
    "        - 가장 큰 수가 등장하는 횟수: (m / (k + 1)) * k\n",
    "            - 수열이 반복되는 횟수 m / (k+1)\n",
    "            - first가 반복되는 수 k번"
   ]
  },
  {
   "cell_type": "markdown",
   "id": "701e76dc",
   "metadata": {},
   "source": [
    "- 이때 m이 (k + 1)로 나누어떨어지지 않는 경우의 수도 고려.\n",
    "    - m을 (k+1) 으로 나눈 나머지 만큼 가장 큰수가 추가로 더해짐.\n",
    "    - M % (K + 1)\n",
    "    - int(M / (K + 1)) * K + M % (K + 1)"
   ]
  },
  {
   "cell_type": "code",
   "execution_count": 5,
   "id": "515b48df",
   "metadata": {},
   "outputs": [
    {
     "name": "stdout",
     "output_type": "stream",
     "text": [
      "5 8 3\n",
      "2 4 5 4 6\n",
      "46\n"
     ]
    }
   ],
   "source": [
    "n, m, k = map(int, input().split())\n",
    "\n",
    "data = list(map(int, input().split()))\n",
    "\n",
    "data.sort()\n",
    "first = data[n - 1]\n",
    "second = data[n - 2]\n",
    "\n",
    "# count: first가 나와야 하는 횟수\n",
    "count = int(m / (k + 1)) * k\n",
    "\n",
    "# 만약 m이 k+1로 나누어 떨어지지 않을 경우,\n",
    "# 나누고 난 후 나머지수만큼 first를 더해줘야함.\n",
    "# count: 최종적으로 first가 나와야 하는 횟수\n",
    "count += m % (k + 1)\n",
    "\n",
    "result = 0\n",
    "result += (count) * first # count에 first를 곱함.\n",
    "result += (m - count) * second # 총 횟수-count에 second를 곱함.\n",
    "\n",
    "print(result)"
   ]
  },
  {
   "cell_type": "code",
   "execution_count": null,
   "id": "fbd2462e",
   "metadata": {},
   "outputs": [],
   "source": []
  }
 ],
 "metadata": {
  "kernelspec": {
   "display_name": "Python 3 (ipykernel)",
   "language": "python",
   "name": "python3"
  },
  "language_info": {
   "codemirror_mode": {
    "name": "ipython",
    "version": 3
   },
   "file_extension": ".py",
   "mimetype": "text/x-python",
   "name": "python",
   "nbconvert_exporter": "python",
   "pygments_lexer": "ipython3",
   "version": "3.8.6"
  }
 },
 "nbformat": 4,
 "nbformat_minor": 5
}
