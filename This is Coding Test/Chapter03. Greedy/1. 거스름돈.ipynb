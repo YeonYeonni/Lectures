{
 "cells": [
  {
   "cell_type": "markdown",
   "id": "6c7d6523",
   "metadata": {},
   "source": [
    "## 거스름돈\n",
    "\n",
    "- 문제: 거스름돈으로 사용할 화폐 단위가 500, 100, 50, 10 일때, 손님에게 거슬러 줘야 할 돈이 N원일 때, 거슬러 줘야 할 동전의 최소 개수를 구하라."
   ]
  },
  {
   "cell_type": "code",
   "execution_count": 1,
   "id": "1d3daf7f",
   "metadata": {},
   "outputs": [
    {
     "name": "stdout",
     "output_type": "stream",
     "text": [
      "6\n"
     ]
    }
   ],
   "source": [
    "n = 1260\n",
    "count = 0\n",
    "\n",
    "# 큰 단위의 화폐부터 차례대로 확인\n",
    "coin_types = [500, 100, 50, 10]\n",
    "\n",
    "for coin in coin_types:\n",
    "    count += n // coin # 해당 화폐로 거슬러 줄 수 있는 동전의 개수 세기\n",
    "    n %= coin # n = n % a\n",
    "    \n",
    "print(count)"
   ]
  },
  {
   "cell_type": "markdown",
   "id": "98dedf7c",
   "metadata": {},
   "source": [
    "- 화폐의 종류만큼 반복을 수행하는 코드.\n",
    "- 화폐의 종류가 K개일때, 시간 복잡도는 O(K) 이다."
   ]
  },
  {
   "cell_type": "markdown",
   "id": "13c3f338",
   "metadata": {},
   "source": [
    "### 그리디 알고리즘의 정당성\n",
    "\n",
    "- 가지고 있는 동전 중, 큰 단위가 항상 작은 단위의 배수.\n",
    "- 작은 단위의 동전들을 조합해 다른 해가 나올 수 없기 때문.\n",
    "- 거스름돈 문제에서는 큰 단위가 항상 작은 단위의 배수 형태.\n",
    "    - 항상 최적의 해를 보장할 수 있게됨.\n",
    "- 화폐 단위가 무작위로 주어진 문제는 다이나믹 프로그래밍으로 해결."
   ]
  },
  {
   "cell_type": "code",
   "execution_count": null,
   "id": "76f22431",
   "metadata": {},
   "outputs": [],
   "source": []
  }
 ],
 "metadata": {
  "kernelspec": {
   "display_name": "Python 3 (ipykernel)",
   "language": "python",
   "name": "python3"
  },
  "language_info": {
   "codemirror_mode": {
    "name": "ipython",
    "version": 3
   },
   "file_extension": ".py",
   "mimetype": "text/x-python",
   "name": "python",
   "nbconvert_exporter": "python",
   "pygments_lexer": "ipython3",
   "version": "3.8.6"
  }
 },
 "nbformat": 4,
 "nbformat_minor": 5
}
