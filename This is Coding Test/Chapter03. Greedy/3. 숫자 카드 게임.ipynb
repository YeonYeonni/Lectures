{
 "cells": [
  {
   "cell_type": "code",
   "execution_count": 1,
   "id": "2f6bb24b",
   "metadata": {},
   "outputs": [],
   "source": [
    "import time"
   ]
  },
  {
   "cell_type": "markdown",
   "id": "9c234a12",
   "metadata": {},
   "source": [
    "## 숫자 카드 게임"
   ]
  },
  {
   "cell_type": "markdown",
   "id": "e51eb0e1",
   "metadata": {},
   "source": [
    "- 입력 조건\n",
    "    - 첫째 줄에 행의 개수 N과 열의 개수 M이 공백을 기준으로 각각 자연수로 주어진다.\n",
    "        - (1 <= N, M <= 100)\n",
    "    - 둘째 줄부터 N개의 줄에 걸쳐 각 카드에 적힌 숫자가 주어진다.\n",
    "        - 각 숫자는 1이상 10,000 이하의 자연수.\n",
    "- 출력 조건\n",
    "    - 첫째 줄에 룰에 맞게 선택한 카드에 적힌 숫자를 출력."
   ]
  },
  {
   "cell_type": "markdown",
   "id": "d9faf5c0",
   "metadata": {},
   "source": [
    "### 1. min() 함수 이용."
   ]
  },
  {
   "cell_type": "code",
   "execution_count": 2,
   "id": "5310fc8b",
   "metadata": {},
   "outputs": [
    {
     "name": "stdout",
     "output_type": "stream",
     "text": [
      "3 3\n",
      "3 1 2\n",
      "4 1 4\n",
      "2 2 2\n",
      "2\n",
      "time : 5.131940841674805\n"
     ]
    }
   ],
   "source": [
    "n, m = map(int, input().split())\n",
    "\n",
    "result = 0\n",
    "\n",
    "for i in range(n): # 행의 수만큼 반복.\n",
    "    \n",
    "    # 리스트에 숫자를 입력받기.\n",
    "    data = list(map(int, input().split()))\n",
    "    \n",
    "    # 현재 행에서 가장 작은 수 찾기.\n",
    "    min_value = min(data)\n",
    "    \n",
    "    # 지금까지의 가장 작은 수들 중에서 가장 큰 수 찾기.\n",
    "    result = max(result, min_value)\n",
    "    \n",
    "print(result)"
   ]
  },
  {
   "cell_type": "markdown",
   "id": "cb6d5ffb",
   "metadata": {},
   "source": [
    "### 2. 이중 반복문 이용."
   ]
  },
  {
   "cell_type": "code",
   "execution_count": 3,
   "id": "92735d56",
   "metadata": {},
   "outputs": [
    {
     "name": "stdout",
     "output_type": "stream",
     "text": [
      "3 3\n",
      "3 1 2\n",
      "4 1 4\n",
      "2 2 2\n",
      "2\n",
      "time : 4.587995529174805\n"
     ]
    }
   ],
   "source": [
    "n, m = map(int, input().split())\n",
    "\n",
    "result = 0\n",
    "\n",
    "for i in range(n):\n",
    "    data = list(map(int, input().split()))\n",
    "    \n",
    "    # 현재 줄에서 '가장 작은 수' 찾기.\n",
    "    min_value = 10001 # min_value 초기화\n",
    "    \n",
    "    # 리스트에 들어간 원소 하나하나와 min_value를 비교.\n",
    "    for j in data:\n",
    "        min_value = min(min_value, j)\n",
    "        \n",
    "    # 가장 작은 수들 중에서 가장 큰 수 찾기.\n",
    "    result = max(result, min_value)\n",
    "    \n",
    "print(result)"
   ]
  }
 ],
 "metadata": {
  "kernelspec": {
   "display_name": "Python 3 (ipykernel)",
   "language": "python",
   "name": "python3"
  },
  "language_info": {
   "codemirror_mode": {
    "name": "ipython",
    "version": 3
   },
   "file_extension": ".py",
   "mimetype": "text/x-python",
   "name": "python",
   "nbconvert_exporter": "python",
   "pygments_lexer": "ipython3",
   "version": "3.8.6"
  }
 },
 "nbformat": 4,
 "nbformat_minor": 5
}
