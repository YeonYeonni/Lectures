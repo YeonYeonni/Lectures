{
 "cells": [
  {
   "cell_type": "code",
   "execution_count": 23,
   "id": "b4104e36",
   "metadata": {},
   "outputs": [
    {
     "name": "stdout",
     "output_type": "stream",
     "text": [
      "0001100\n",
      "1\n"
     ]
    }
   ],
   "source": [
    "s = input()\n",
    "\n",
    "count0 = 0 # 전부 0으로 바뀌는 경우.\n",
    "count1 = 0 # 전부 1로 바뀌는 경우.\n",
    "\n",
    "# 첫 번째 원소에 대해서 처리\n",
    "if s[0] == '1':\n",
    "    count0 += 1\n",
    "\n",
    "else:\n",
    "    count1 += 1\n",
    "    \n",
    "# 두 번째 원소부터 모든 원소 확인.\n",
    "for i in range(len(s) - 1):\n",
    "    # 수가 바뀌는 지점에서\n",
    "    if s[i] != s[i + 1]:\n",
    "        # 다음 수에서 1로 바뀌는 경우\n",
    "        if s[i + 1] == '1':\n",
    "            count0 += 1\n",
    "        # 다음 수에서 0으로 바뀌는 경우\n",
    "        else:\n",
    "            count1 += 1\n",
    "            \n",
    "print(min(count0, count1))"
   ]
  },
  {
   "cell_type": "code",
   "execution_count": null,
   "id": "a147aa53",
   "metadata": {},
   "outputs": [],
   "source": []
  }
 ],
 "metadata": {
  "kernelspec": {
   "display_name": "Python 3 (ipykernel)",
   "language": "python",
   "name": "python3"
  },
  "language_info": {
   "codemirror_mode": {
    "name": "ipython",
    "version": 3
   },
   "file_extension": ".py",
   "mimetype": "text/x-python",
   "name": "python",
   "nbconvert_exporter": "python",
   "pygments_lexer": "ipython3",
   "version": "3.8.6"
  }
 },
 "nbformat": 4,
 "nbformat_minor": 5
}
