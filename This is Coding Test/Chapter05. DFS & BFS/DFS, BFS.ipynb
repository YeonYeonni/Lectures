{
 "cells": [
  {
   "cell_type": "markdown",
   "id": "2a893a0a",
   "metadata": {},
   "source": [
    "## Graph"
   ]
  },
  {
   "cell_type": "markdown",
   "id": "662a44e1",
   "metadata": {},
   "source": [
    "### 인접 행렬 (Adjacency Matrix)\n",
    "\n",
    "- 2차원 배열에 각 노드가 연결된 형태를 기록하는 방식.\n",
    "- 2차원 리스트로 구현.\n",
    "    - 연결이 되어 있지 않은 노드끼리는 무한 비용이라고 작성."
   ]
  },
  {
   "cell_type": "code",
   "execution_count": 1,
   "id": "f30ad028",
   "metadata": {},
   "outputs": [
    {
     "name": "stdout",
     "output_type": "stream",
     "text": [
      "[[0, 7, 5], [7, 0, 999999999], [5, 999999999, 0]]\n"
     ]
    }
   ],
   "source": [
    "# 무한 비용 선언\n",
    "INF = 999999999\n",
    "\n",
    "# 2차원 리스트를 이용해 인접 행렬 표현\n",
    "graph = [\n",
    "    [0, 7, 5],\n",
    "    [7, 0, INF],\n",
    "    [5, INF, 0]\n",
    "]\n",
    "\n",
    "print(graph)"
   ]
  },
  {
   "cell_type": "markdown",
   "id": "6e9acd2d",
   "metadata": {},
   "source": [
    "### 인접 리스트 (Adjacency List)\n",
    "- 모든 노드에 연결된 노드에 대한 정보를 차례대로 연결하여 저장.\n",
    "- 연결 리스트로 구현. (파이썬에서는 단순 리스트가 모든 기능을 대신함)"
   ]
  },
  {
   "cell_type": "code",
   "execution_count": 3,
   "id": "4f23af5f",
   "metadata": {},
   "outputs": [
    {
     "name": "stdout",
     "output_type": "stream",
     "text": [
      "[[], [], []]\n",
      "[[(1, 7), (2, 5)], [(0, 7)], [(0, 5)]]\n"
     ]
    }
   ],
   "source": [
    "# 행이 3개인 2차원 리스트로 인접 리스트 표현\n",
    "graph = [[] for _ in range(3)]\n",
    "print(graph)\n",
    "\n",
    "# 노드 0에 연결된 노드 정보 저장 (노드, 거리)\n",
    "graph[0].append((1, 7))\n",
    "graph[0].append((2, 5))\n",
    "\n",
    "# 노드 1에 연결된 노드 정보 저장\n",
    "graph[1].append((0, 7))\n",
    "\n",
    "# 노드 2에 연결된 노드 정보 저장\n",
    "graph[2].append((0, 5))\n",
    "\n",
    "print(graph)"
   ]
  },
  {
   "cell_type": "markdown",
   "id": "9149d365",
   "metadata": {},
   "source": [
    "메모리 측면\n",
    "\n",
    "- 인접 행렬 방식: 모든 관계를 저장. 노드 개수가 많을수록 메모리 소모.\n",
    "- 인접 리스트 방식: 연결 정보만을 저장. 메모리를 효율적으로 사용. 두 노드의 연결 정보를 얻는 속도가 느림."
   ]
  },
  {
   "cell_type": "markdown",
   "id": "d262a693",
   "metadata": {},
   "source": [
    "노드 1과 노드 7이 연결되어 있는 상황.\n",
    "\n",
    "- 인접 행렬: graph[1][7]만 확인하면 됨.\n",
    "- 인접 리스트: 노드 1에 대한 인접 리스트를 앞에서부터 차례대로 확인."
   ]
  },
  {
   "cell_type": "markdown",
   "id": "b4d490d3",
   "metadata": {},
   "source": [
    "## DFS (Depth-First Search)\n",
    "\n",
    "- 깊이 우선 탐색: 그래프에서 깊은 부분을 우선적으로 탐색하는 알고리즘.\n",
    "    - 특정 경로로 탐색 -> 특정 상황에서 최대한 깊숙이 들어가서 노드를 방문 -> 다시 돌아가 다른 경로로 탐색."
   ]
  },
  {
   "cell_type": "markdown",
   "id": "37ab2446",
   "metadata": {},
   "source": [
    "동작 과정\n",
    "\n",
    "- cf) 방문 처리: 스택에 한 번 삽입되어 처리된 노드가 다시 삽입하지 않게 체크하는 것.\n",
    "\n",
    "- 1. 탐색 시작 노드를 스택에 삽입. 방문 처리.\n",
    "- 2. 스택의 최상단 노드\n",
    "    - 방문하지 않은 인접 노드가 있으면: 그 인접 노드를 스택에 넣고 방문 처리.\n",
    "    - 방문하지 않은 인접 노드가 없으면: 스택에서 최상단 노드 제거.\n",
    "- 3. 2번의 과정을 반복."
   ]
  },
  {
   "cell_type": "code",
   "execution_count": 2,
   "id": "cdc5199b",
   "metadata": {},
   "outputs": [
    {
     "name": "stdout",
     "output_type": "stream",
     "text": [
      "1 2 7 6 8 3 4 5 "
     ]
    }
   ],
   "source": [
    "# DFS 메서드 정의\n",
    "def dfs(graph, v, visited):\n",
    "    # 현재 노드를 방문 처리.\n",
    "    visited[v] = True\n",
    "    print(v, end=' ')\n",
    "    # 현재 노드와 연결된 다른 노드를 재귀적으로 방문\n",
    "    for i in graph[v]:\n",
    "        if not visited[i]:\n",
    "            dfs(graph, i, visited)\n",
    "            \n",
    "# 각 노드가 연결된 정보를 리스트 자료형으로 표현 (2차원 리스트)\n",
    "graph = [[], [2, 3, 8], [1, 7], [1, 4, 5], [3, 5], [3, 4], [7], [2, 6, 8], [1, 7]]\n",
    "\n",
    "# 각 노드가 방문된 정보를 리스트 자료형으로 표현 (1차원 리스트)\n",
    "visited = [False] * 9\n",
    "\n",
    "# DFS 함수 호출\n",
    "dfs(graph, 1, visited)"
   ]
  },
  {
   "cell_type": "markdown",
   "id": "82aa5754",
   "metadata": {},
   "source": [
    "## BFS (Breadth First Search)\n",
    "\n",
    "- 너비 우선 탐색: 가까운 노드부터 탐색하는 알고리즘."
   ]
  },
  {
   "cell_type": "markdown",
   "id": "841212fd",
   "metadata": {},
   "source": [
    "동작 과정\n",
    "\n",
    "- 1. 탐색 시작 노드를 큐에 삽입. 방문 처리.\n",
    "- 2. 큐에서 노드를 꺼냄.\n",
    "    - 해당 노드의 인접 노드 중에서 방문하지 않은 노드를 모두 큐에 삽입. 방문 처리.\n",
    "- 3. 2번의 과정을 반복."
   ]
  },
  {
   "cell_type": "code",
   "execution_count": 4,
   "id": "dd7edef2",
   "metadata": {},
   "outputs": [
    {
     "name": "stdout",
     "output_type": "stream",
     "text": [
      "1 2 3 8 7 4 5 6 "
     ]
    }
   ],
   "source": [
    "from collections import deque\n",
    "\n",
    "# BFS 메서드 정의\n",
    "def bfs(graph, start, visited):\n",
    "    queue = deque([start])\n",
    "    # 현재 노드를 방문 처리\n",
    "    visited[start] = True\n",
    "    # 큐가 빌 때까지 반복\n",
    "    while queue:\n",
    "        # 큐에서 하나의 원소를 뽑아 출력\n",
    "        v = queue.popleft()\n",
    "        print(v, end=' ')\n",
    "        # 해당 원소와 연결된, 아직 방문하지 않은 원소들을 큐에 삽입\n",
    "        for i in graph[v]:\n",
    "            if not visited[i]:\n",
    "                queue.append(i)\n",
    "                visited[i] = True\n",
    "                \n",
    "# 각 노드가 연결된 정보를 리스트 자료형으로 표현 (2차원 리스트)\n",
    "graph = [[], [2, 3, 8], [1, 7], [1, 4, 5], [3, 5], [3, 4], [7], [2, 6, 8], [1, 7]]\n",
    "\n",
    "# 각 노드가 방문된 정보를 리스트 자료형으로 표현 (1차원 리스트)\n",
    "visited = [False] * 9\n",
    "\n",
    "# BFS 함수 호출\n",
    "bfs(graph, 1, visited)"
   ]
  },
  {
   "cell_type": "code",
   "execution_count": null,
   "id": "d11df0a4",
   "metadata": {},
   "outputs": [],
   "source": []
  }
 ],
 "metadata": {
  "kernelspec": {
   "display_name": "Python 3 (ipykernel)",
   "language": "python",
   "name": "python3"
  },
  "language_info": {
   "codemirror_mode": {
    "name": "ipython",
    "version": 3
   },
   "file_extension": ".py",
   "mimetype": "text/x-python",
   "name": "python",
   "nbconvert_exporter": "python",
   "pygments_lexer": "ipython3",
   "version": "3.8.6"
  }
 },
 "nbformat": 4,
 "nbformat_minor": 5
}
