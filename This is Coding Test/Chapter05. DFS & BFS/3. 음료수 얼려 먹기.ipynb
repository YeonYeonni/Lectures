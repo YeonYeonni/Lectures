{
 "cells": [
  {
   "cell_type": "markdown",
   "id": "b3b3a2dd",
   "metadata": {},
   "source": [
    "## 음료수 얼려 먹기"
   ]
  },
  {
   "cell_type": "markdown",
   "id": "6a194afc",
   "metadata": {},
   "source": [
    "- N * M 크기의 얼음 틀.\n",
    "    - 구멍이 뚫려 있는 부분은 0, 칸막이가 존재하는 부분은 1로 표시.\n",
    "    - 구멍이 뚫려 있는 부분끼리 상, 하, 좌, 우로 붙어 있는 경우 서로 연결되어 있는 것으로 간주.\n",
    "    \n",
    "- 얼음 틀의 모양이 주어졌을 때, 생성되는 총 아이스크림의 개수는?"
   ]
  },
  {
   "cell_type": "markdown",
   "id": "f21fb21e",
   "metadata": {},
   "source": [
    "입력 조건\n",
    "\n",
    "- 첫 번째 줄: 얼음 틀의 세로 길이 N과 가로 길이 M이 주어짐. (1 <= N, M <= 1000)\n",
    "- 두 번째 줄 ~ N + 1 번째 줄: 얼음 틀의 형태가 주어짐.\n",
    "\n",
    "출력 조건\n",
    "- 한 번에 만들 수 있는 아이스크림의 개수를 출력."
   ]
  },
  {
   "cell_type": "markdown",
   "id": "7bee6f8b",
   "metadata": {},
   "source": [
    "- 1. 특정한 지점의 주변 상하좌우를 살펴봄.\n",
    "    - 주변 지점 중에서 값이 '0'이면서 아직 방문하지 않은 지점이 있다면 해당 지점을 방문.\n",
    "- 2. 방문한 지점에서 다시 상하좌우를 살펴보면서 방문을 진행. 연결된 모든 지점을 방문할 수 있음.\n",
    "- 3. 1 ~ 2번의 과정을 모든 노드에 반복. 방문하지 않은 지점의 수를 셈."
   ]
  },
  {
   "cell_type": "code",
   "execution_count": 1,
   "id": "d3f6e32d",
   "metadata": {},
   "outputs": [
    {
     "name": "stdout",
     "output_type": "stream",
     "text": [
      "15 14\n",
      "00000111100000\n",
      "11111101111110\n",
      "11011101101110\n",
      "11011101100000\n",
      "11011111111111\n",
      "11011111111100\n",
      "11000000011111\n",
      "01111111111111\n",
      "00000000011111\n",
      "01111111111000\n",
      "00011111111000\n",
      "00000001111000\n",
      "11111111110011\n",
      "11100011111111\n",
      "11100011111111\n",
      "8\n"
     ]
    }
   ],
   "source": [
    "# N, M을 공백으로 구분하여 입력받기.\n",
    "n, m = map(int, input().split())\n",
    "\n",
    "# 2차원 리스트의 맵 정보 입력받기\n",
    "graph = []\n",
    "for i in range(n):\n",
    "    graph.append(list(map(int, input())))\n",
    "\n",
    "# DFS로 특정한 노드를 방문한 뒤에 연결된 모든 노드들도 방문\n",
    "def dfs(x, y):\n",
    "    # 주어진 범위를 벗어나는 경우에는 즉시 종료\n",
    "    if x <= -1 or x >= n or y <= -1 or y >= m:\n",
    "        return False\n",
    "    \n",
    "    # 현재 노드를 아직 방문하지 않았다면\n",
    "    if graph[x][y] == 0:\n",
    "        # 해당 노드 방문 처리\n",
    "        graph[x][y] = 1\n",
    "        # 상, 하, 좌, 우의 위치도 모두 재귀적으로 호출\n",
    "        dfs(x - 1, y)\n",
    "        dfs(x, y - 1)\n",
    "        dfs(x + 1, y)\n",
    "        dfs(x, y + 1)\n",
    "        return True\n",
    "    return False\n",
    "\n",
    "# 모든 노드(위치)에 대하여 음료수 채우기\n",
    "result = 0\n",
    "for i in range(n):\n",
    "    for j in range(m):\n",
    "        # 현재 위치에서 DFS 수행\n",
    "        if dfs(i, j) == True:\n",
    "            result += 1\n",
    "            \n",
    "print(result) # 정답 출력"
   ]
  },
  {
   "cell_type": "code",
   "execution_count": null,
   "id": "8ec18eb8",
   "metadata": {},
   "outputs": [],
   "source": []
  }
 ],
 "metadata": {
  "kernelspec": {
   "display_name": "Python 3 (ipykernel)",
   "language": "python",
   "name": "python3"
  },
  "language_info": {
   "codemirror_mode": {
    "name": "ipython",
    "version": 3
   },
   "file_extension": ".py",
   "mimetype": "text/x-python",
   "name": "python",
   "nbconvert_exporter": "python",
   "pygments_lexer": "ipython3",
   "version": "3.8.6"
  }
 },
 "nbformat": 4,
 "nbformat_minor": 5
}
