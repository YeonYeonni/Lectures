{
 "cells": [
  {
   "cell_type": "markdown",
   "id": "5ccd21f8",
   "metadata": {},
   "source": [
    "## 미로 탈출"
   ]
  },
  {
   "cell_type": "markdown",
   "id": "a85bd86f",
   "metadata": {},
   "source": [
    "- N * M 크기의 직사각형 형태의 미로.\n",
    "    - 시작 위치는 (1, 1), 미로의 출구는 (N, M)\n",
    "    - 괴물이 있는 부분은 0, 괴물이 없는 부분은 1\n",
    "- 미로를 탈출하기 위해 움직여야 하는 최소 칸의 개수는?\n",
    "    - 칸을 셀 때는 시작 칸과 마지막 칸을 모두 포함해서 계산."
   ]
  },
  {
   "cell_type": "markdown",
   "id": "ccaf3ace",
   "metadata": {},
   "source": [
    "입력 조건\n",
    "- 첫 번째 줄: 두 정수 N, M(4 <= N, M <= 200)\n",
    "- 다음 N개의 줄: 각각 M개의 정수로 미로의 정보가 주어짐. (0 또는 1)\n",
    "    - 각각의 수들은 공백 없이 붙어서 제시.\n",
    "    - 시작 칸과 마지막 칸은 항상 1.\n",
    "    \n",
    "출력 조건\n",
    "- 최소 이동 칸의 개수를 출력."
   ]
  },
  {
   "cell_type": "markdown",
   "id": "d46d681f",
   "metadata": {},
   "source": [
    "BFS로 해결.\n",
    "\n",
    "- 시작 지점에서 가까운 노드부터 차례대로 그래프의 모든 노드를 탐색하기 때문.\n",
    "- (1, 1) 지점에서부터 BFS를 수행.\n",
    "    - 모든 노드의 값을 거리 정보로 넣으면 됨.\n",
    "- 특정 노드 방문 시, 그 이전 노드의 거리에 1을 더한 값을 리스트에 넣음."
   ]
  },
  {
   "cell_type": "code",
   "execution_count": 2,
   "id": "6caeed67",
   "metadata": {},
   "outputs": [
    {
     "name": "stdout",
     "output_type": "stream",
     "text": [
      "5 6\n",
      "101010\n",
      "111111\n",
      "000001\n",
      "111111\n",
      "111111\n",
      "10\n"
     ]
    }
   ],
   "source": [
    "from collections import deque\n",
    "\n",
    "# N, M을 공백으로 구분하여 입력받기\n",
    "n, m = map(int, input().split())\n",
    "\n",
    "# 2차원 리스트의 맵 정보 입력받기\n",
    "graph = []\n",
    "for i in range(n):\n",
    "    graph.append(list(map(int, input())))\n",
    "    \n",
    "# 이동할 네 방향 정의 (상, 하, 좌, 우)\n",
    "dx = [-1, 1, 0, 0]\n",
    "dy = [0, 0, -1, 1]\n",
    "\n",
    "# BFS 소스코드 구현\n",
    "def bfs(x, y):\n",
    "    \n",
    "    # 큐 (Queue) 구현을 위해 deque 라이브러리 사용.\n",
    "    queue = deque()\n",
    "    queue.append((x, y))\n",
    "    \n",
    "    # 큐가 빌 때까지 반복.\n",
    "    while queue:\n",
    "        x, y = queue.popleft()\n",
    "        \n",
    "        # 현재 위치에서 네 방향으로의 위치 확인\n",
    "        for i in range(4):\n",
    "            nx = x + dx[i]\n",
    "            ny = y + dy[i]\n",
    "            \n",
    "            # 미로 찾기 공간을 벗어난 경우 무시\n",
    "            if nx < 0 or ny < 0 or nx >= n or ny >= m:\n",
    "                continue\n",
    "                \n",
    "            # 벽인 경우 무시\n",
    "            if graph[nx][ny] == 0:\n",
    "                continue\n",
    "            \n",
    "            # 해당 노드를 처음 방문하는 경우에만 최단 거리 기록\n",
    "            if graph[nx][ny] == 1:\n",
    "                graph[nx][ny] = graph[x][y] + 1\n",
    "                queue.append((nx, ny))\n",
    "                \n",
    "    # 가장 오른쪽 아래까지의 최단 거리 반환\n",
    "    return graph[n - 1][m - 1]\n",
    "\n",
    "# BFS를 수행한 결과 출력\n",
    "print(bfs(0, 0))"
   ]
  },
  {
   "cell_type": "code",
   "execution_count": null,
   "id": "d8b54521",
   "metadata": {},
   "outputs": [],
   "source": []
  }
 ],
 "metadata": {
  "kernelspec": {
   "display_name": "Python 3 (ipykernel)",
   "language": "python",
   "name": "python3"
  },
  "language_info": {
   "codemirror_mode": {
    "name": "ipython",
    "version": 3
   },
   "file_extension": ".py",
   "mimetype": "text/x-python",
   "name": "python",
   "nbconvert_exporter": "python",
   "pygments_lexer": "ipython3",
   "version": "3.8.6"
  }
 },
 "nbformat": 4,
 "nbformat_minor": 5
}
