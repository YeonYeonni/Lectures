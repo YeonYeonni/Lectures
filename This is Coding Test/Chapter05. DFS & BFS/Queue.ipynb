{
 "cells": [
  {
   "cell_type": "markdown",
   "id": "7473019e",
   "metadata": {},
   "source": [
    "선입선출 (First In First Out) 구조\n",
    "\n",
    "- 파이썬에서 이용시, deque 라이브러리 사용."
   ]
  },
  {
   "cell_type": "code",
   "execution_count": 1,
   "id": "1e283a06",
   "metadata": {},
   "outputs": [
    {
     "name": "stdout",
     "output_type": "stream",
     "text": [
      "deque([3, 7, 1, 4])\n",
      "deque([4, 1, 7, 3])\n"
     ]
    }
   ],
   "source": [
    "from collections import deque\n",
    "\n",
    "queue = deque()\n",
    "\n",
    "queue.append(5)\n",
    "queue.append(2)\n",
    "queue.append(3)\n",
    "queue.append(7)\n",
    "queue.popleft()\n",
    "queue.append(1)\n",
    "queue.append(4)\n",
    "queue.popleft()\n",
    "\n",
    "print(queue) # 먼저 들어온 순서대로 출력.\n",
    "\n",
    "# 나중에 들어온 순서대로 출력.\n",
    "queue.reverse() # 다음 출력을 위해 역순으로 바꾸기.\n",
    "print(queue)"
   ]
  },
  {
   "cell_type": "markdown",
   "id": "48868c88",
   "metadata": {},
   "source": [
    "deque 객체를 리스트로 변경하기\n",
    "\n",
    "- list() 메서드."
   ]
  },
  {
   "cell_type": "code",
   "execution_count": 6,
   "id": "debd8acb",
   "metadata": {},
   "outputs": [
    {
     "name": "stdout",
     "output_type": "stream",
     "text": [
      "<class 'collections.deque'>\n",
      "<class 'list'>\n"
     ]
    }
   ],
   "source": [
    "from collections import deque\n",
    "\n",
    "queue = deque()\n",
    "\n",
    "queue.append(5)\n",
    "queue.append(2)\n",
    "queue.append(3)\n",
    "queue.append(7)\n",
    "\n",
    "print(type(queue))\n",
    "\n",
    "# 리스트로 바꾸기.\n",
    "list_queue = list(queue)\n",
    "\n",
    "print(type(list_queue))"
   ]
  },
  {
   "cell_type": "code",
   "execution_count": null,
   "id": "b67997d8",
   "metadata": {},
   "outputs": [],
   "source": []
  }
 ],
 "metadata": {
  "kernelspec": {
   "display_name": "Python 3 (ipykernel)",
   "language": "python",
   "name": "python3"
  },
  "language_info": {
   "codemirror_mode": {
    "name": "ipython",
    "version": 3
   },
   "file_extension": ".py",
   "mimetype": "text/x-python",
   "name": "python",
   "nbconvert_exporter": "python",
   "pygments_lexer": "ipython3",
   "version": "3.8.6"
  }
 },
 "nbformat": 4,
 "nbformat_minor": 5
}
