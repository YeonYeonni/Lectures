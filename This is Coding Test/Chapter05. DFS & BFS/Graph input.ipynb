{
 "cells": [
  {
   "cell_type": "code",
   "execution_count": 1,
   "id": "86db89f7",
   "metadata": {},
   "outputs": [
    {
     "name": "stdout",
     "output_type": "stream",
     "text": [
      "8 9 1\n",
      "1 2\n",
      "2 7\n",
      "6 7\n",
      "7 8\n",
      "1 8\n",
      "1 3\n",
      "3 4\n",
      "3 5\n",
      "4 5\n",
      "[[], [2, 3, 8], [1, 7], [1, 4, 5], [3, 5], [3, 4], [7], [2, 6, 8], [1, 7]]\n"
     ]
    }
   ],
   "source": [
    "n, m, r = map(int, input().split()) # 노드의 개수, 간선의 개수\n",
    "nodes = [[] for _ in range(n + 1)]\n",
    "visited = [False for _ in range(n + 1)]\n",
    "nodes_cnt = [0 for _ in range(n + 1)]\n",
    "\n",
    "for i in range(m):\n",
    "    tail, head = map(int, input().split())\n",
    "    nodes[tail].append(head)\n",
    "    nodes[head].append(tail)\n",
    "    \n",
    "for i in range(n + 1):\n",
    "    nodes[i].sort()\n",
    "    \n",
    "print(nodes)"
   ]
  },
  {
   "cell_type": "code",
   "execution_count": null,
   "id": "04429070",
   "metadata": {},
   "outputs": [],
   "source": []
  }
 ],
 "metadata": {
  "kernelspec": {
   "display_name": "Python 3 (ipykernel)",
   "language": "python",
   "name": "python3"
  },
  "language_info": {
   "codemirror_mode": {
    "name": "ipython",
    "version": 3
   },
   "file_extension": ".py",
   "mimetype": "text/x-python",
   "name": "python",
   "nbconvert_exporter": "python",
   "pygments_lexer": "ipython3",
   "version": "3.8.6"
  }
 },
 "nbformat": 4,
 "nbformat_minor": 5
}
