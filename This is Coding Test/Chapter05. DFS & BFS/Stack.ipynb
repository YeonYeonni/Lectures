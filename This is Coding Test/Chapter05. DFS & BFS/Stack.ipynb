{
 "cells": [
  {
   "cell_type": "markdown",
   "id": "c0d38631",
   "metadata": {},
   "source": [
    "후입선출 (Last In First Out) 구조\n",
    "\n",
    "- 파이썬에서 이용시, 기본 리스트에서 append()와 pop()을 이용.\n",
    "    - append(): 리스트에서 가장 뒤쪽에 데이터를 삽입.\n",
    "    - pop(): 리스트의 가장 뒤쪽에서 데이터를 꺼냄."
   ]
  },
  {
   "cell_type": "code",
   "execution_count": 2,
   "id": "b0ddfe47",
   "metadata": {},
   "outputs": [
    {
     "name": "stdout",
     "output_type": "stream",
     "text": [
      "[5, 2, 3, 1]\n",
      "[1, 3, 2, 5]\n"
     ]
    }
   ],
   "source": [
    "stack = []\n",
    "\n",
    "stack.append(5)\n",
    "stack.append(2)\n",
    "stack.append(3)\n",
    "stack.append(7)\n",
    "stack.pop()\n",
    "stack.append(1)\n",
    "stack.append(4)\n",
    "stack.pop()\n",
    "\n",
    "print(stack) # 최하단 원소부터 출력\n",
    "print(stack[::-1]) # 최상단 원소부터 출력"
   ]
  },
  {
   "cell_type": "code",
   "execution_count": null,
   "id": "3338fb89",
   "metadata": {},
   "outputs": [],
   "source": []
  }
 ],
 "metadata": {
  "kernelspec": {
   "display_name": "Python 3 (ipykernel)",
   "language": "python",
   "name": "python3"
  },
  "language_info": {
   "codemirror_mode": {
    "name": "ipython",
    "version": 3
   },
   "file_extension": ".py",
   "mimetype": "text/x-python",
   "name": "python",
   "nbconvert_exporter": "python",
   "pygments_lexer": "ipython3",
   "version": "3.8.6"
  }
 },
 "nbformat": 4,
 "nbformat_minor": 5
}
