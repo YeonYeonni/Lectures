{
 "cells": [
  {
   "cell_type": "markdown",
   "id": "2f7dcac2",
   "metadata": {},
   "source": [
    "## 두 배열의 원소 교체\n",
    "\n",
    "- 두 개의 배열 A, B.\n",
    "    - N개의 원소로 이루어짐.\n",
    "    - 모두 자연수.\n",
    "\n",
    "- K 번의 바꿔치기.\n",
    "    - 배열 A의 원소 하나와 B의 원소 하나를 골라 서로 바꾸는 것.\n",
    "    \n",
    "- 배열 A의 모든 원소의 합의 최댓값을 출력."
   ]
  },
  {
   "cell_type": "markdown",
   "id": "4698f355",
   "metadata": {},
   "source": [
    "입력 조건\n",
    "\n",
    "- 첫 번째 줄: N, K가 공백으로 구분되어 입력.\n",
    "    - 1 <= N <= 100,000\n",
    "    - 0 <= k <= N\n",
    " \n",
    "- 두 번째 줄: 배열 A의 원소들.\n",
    "- 세 번째 줄: 배열 B의 원소들.\n",
    "\n",
    "출력 조건\n",
    "\n",
    "- 최대 K번의 바꿔치기 연산을 수행.\n",
    "- 배열 A의 모든 원소의 합의 최댓값 출력."
   ]
  },
  {
   "cell_type": "code",
   "execution_count": 1,
   "id": "b019d236",
   "metadata": {},
   "outputs": [
    {
     "name": "stdout",
     "output_type": "stream",
     "text": [
      "5 3\n",
      "1 2 5 4 3\n",
      "5 5 6 6 5\n",
      "26\n"
     ]
    }
   ],
   "source": [
    "n, k = map(int, input().split()) # N과 K를 입력.\n",
    "a = list(map(int, input().split())) # 배열 A\n",
    "b = list(map(int, input().split())) # 배열 B\n",
    "\n",
    "a.sort() # 배열 A는 오름차순.\n",
    "b.sort(reverse=True) # 배열 B는 내림차순.\n",
    "\n",
    "# 첫 번째 인덱스부터 확인, 두 배열의 원소를 최대 K번 비교\n",
    "for i in range(k):\n",
    "    # A의 원소가 B의 원소보다 작은 경우\n",
    "    if a[i] < b[i]:\n",
    "        # 두 원소를 교체.\n",
    "        a[i], b[i] = b[i], a[i]\n",
    "    else: # A의 원소가 B의 원소보다 크거나 같을 때, 반복문 탈출.\n",
    "        break\n",
    "        \n",
    "print(sum(a)) # 배열 A의 모든 원소 합을 출력."
   ]
  },
  {
   "cell_type": "code",
   "execution_count": null,
   "id": "a39d68ba",
   "metadata": {},
   "outputs": [],
   "source": []
  }
 ],
 "metadata": {
  "kernelspec": {
   "display_name": "Python 3 (ipykernel)",
   "language": "python",
   "name": "python3"
  },
  "language_info": {
   "codemirror_mode": {
    "name": "ipython",
    "version": 3
   },
   "file_extension": ".py",
   "mimetype": "text/x-python",
   "name": "python",
   "nbconvert_exporter": "python",
   "pygments_lexer": "ipython3",
   "version": "3.8.6"
  }
 },
 "nbformat": 4,
 "nbformat_minor": 5
}
