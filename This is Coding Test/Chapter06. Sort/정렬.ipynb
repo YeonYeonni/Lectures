{
 "cells": [
  {
   "cell_type": "markdown",
   "id": "88c76075",
   "metadata": {},
   "source": [
    "## 1. 선택 정렬"
   ]
  },
  {
   "cell_type": "markdown",
   "id": "650ceec4",
   "metadata": {},
   "source": [
    "선택 정렬: 매번 '가장 작은 것은 선택' 한다는 의미.\n",
    "\n",
    "1. 가장 작은 데이터를 선택해 맨 앞 데이터와 바꿈.\n",
    "2. 그 다음 작은 데이터를 선택해 앞에서 두 번째 데이터와 바꿈.\n",
    "3. 반복."
   ]
  },
  {
   "cell_type": "markdown",
   "id": "8a0d99dc",
   "metadata": {},
   "source": [
    "- 데이터의 개수: N\n",
    "- 회색 카드: 현재 정렬되지 않은 데이터 중에서 가장 작은 데이터.\n",
    "- 하늘색 카드: 이미 정렬된 데이터."
   ]
  },
  {
   "cell_type": "markdown",
   "id": "9b70d28d",
   "metadata": {},
   "source": [
    "- 가장 작은 데이터를 앞으로 보내는 과정을 N - 1번 반복하면 정렬이 완료."
   ]
  },
  {
   "cell_type": "code",
   "execution_count": 1,
   "id": "38180922",
   "metadata": {},
   "outputs": [
    {
     "name": "stdout",
     "output_type": "stream",
     "text": [
      "[0, 1, 2, 3, 4, 5, 6, 7, 8, 9]\n"
     ]
    }
   ],
   "source": [
    "array = [7, 5, 9, 0, 3, 1, 6, 2, 4, 8]\n",
    "\n",
    "for i in range(len(array)):\n",
    "    min_index = i # 가장 작은 원소의 인덱스\n",
    "    for j in range(i + 1, len(array)):\n",
    "        if array[min_index] > array[j]:\n",
    "            min_index = j\n",
    "    array[i], array[min_index] = array[min_index], array[i] # swap\n",
    "    \n",
    "print(array)"
   ]
  },
  {
   "cell_type": "markdown",
   "id": "c05e1636",
   "metadata": {},
   "source": [
    "## 2. 삽입 정렬"
   ]
  },
  {
   "cell_type": "markdown",
   "id": "93ad79a5",
   "metadata": {},
   "source": [
    "삽입 정렬: 데이터를 하나씩 확인하며, 각 데이터를 적절한 위치에 삽입하기.\n",
    "\n",
    "- 필요할 때만 위치를 바꾸므로 데이터가 거의 정렬되어 있을 때 효율적.\n",
    "- 적절한 위치에 특정 데이터가 들어가기 이전, 그 앞까지의 데이터는 이미 정렬되어 있다고 가정."
   ]
  },
  {
   "cell_type": "code",
   "execution_count": 2,
   "id": "bbdca1c3",
   "metadata": {},
   "outputs": [
    {
     "name": "stdout",
     "output_type": "stream",
     "text": [
      "[0, 1, 2, 3, 4, 5, 6, 7, 8, 9]\n"
     ]
    }
   ],
   "source": [
    "array = [7, 5, 9, 0, 3, 1, 6, 2, 4, 8]\n",
    "\n",
    "for i in range(1, len(array)):\n",
    "    for j in range(i, 0, -1): # index i 부터 1까지 감소하며 반복하는 문법.\n",
    "        if array[j] < array[j - 1]: # 한 칸씩 왼쪽으로 이동.\n",
    "            array[j], array[j - 1] = array[j - 1], array[j]\n",
    "        else: # 자기보다 작은 데이터를 만나면 그 위치에서 멈춤.\n",
    "            break\n",
    "            \n",
    "print(array)"
   ]
  },
  {
   "cell_type": "markdown",
   "id": "57c301a9",
   "metadata": {},
   "source": [
    "## 3. 퀵 정렬"
   ]
  },
  {
   "cell_type": "markdown",
   "id": "d22296e5",
   "metadata": {},
   "source": [
    "퀵 정렬: 기준 데이터를 설정, 그 기준보다 큰 데이터와 작은 데이터의 위치를 바꾸기.\n",
    "\n",
    "- 기준 (피벗, Pivot) 을 설정한 뒤 큰 수와 작은 수를 교환. 그 후 리스트를 반으로 나누는 방식.\n",
    "    - 호어 분할: 피벗을 설정하는 하나의 방법.\n",
    "        - 리스트에서 첫 번째 데이터를 피벗으로 정함.\n",
    "        \n",
    "- 피벗을 설정한 뒤,\n",
    "    - 왼쪽: 피벗보다 큰 데이터를 찾음.\n",
    "    - 오른쪽: 피벗보다 작은 데이터를 찾음.\n",
    "    \n",
    "- 그 다음, 큰 데이터와 작은 데이터의 위치를 서로 교환."
   ]
  },
  {
   "cell_type": "code",
   "execution_count": 2,
   "id": "3fa6cdde",
   "metadata": {},
   "outputs": [
    {
     "name": "stdout",
     "output_type": "stream",
     "text": [
      "[0, 1, 2, 3, 4, 5, 6, 7, 8, 9]\n"
     ]
    }
   ],
   "source": [
    "array = [5, 7, 9, 0, 3, 1, 6, 2, 4, 8]\n",
    "\n",
    "def quick_sort(array, start, end):\n",
    "    if start >= end: # 원소가 1개인 경우 종료.\n",
    "        return\n",
    "    \n",
    "    pivot = start # 피벗은 첫 번째 원소\n",
    "    left = start + 1\n",
    "    right = end\n",
    "    \n",
    "    while left <= right:\n",
    "        # 피벗보다 큰 데이터를 찾을 때까지 반복.\n",
    "        while left <= end and array[left] <= array[pivot]:\n",
    "            left += 1\n",
    "        # 피벗보다 작은 데이터를 찾을 때까지 반복\n",
    "        while right > start and array[right] >= array[pivot]:\n",
    "            right -= 1\n",
    "            \n",
    "        if left > right: # 엇갈렸다면 작은 데이터와 피벗을 교체\n",
    "            array[right], array[pivot] = array[pivot], array[right]\n",
    "        else: # 엇갈리지 않았다면 작은 데이터와 큰 데이터를 교체\n",
    "            array[left], array[right] = array[right], array[left]\n",
    "    # 분할 이후 왼쪽 부분과 오른쪽 부분에서 각각 정렬 수행\n",
    "    quick_sort(array, start, right - 1)\n",
    "    quick_sort(array, right + 1, end)\n",
    "    \n",
    "quick_sort(array, 0, len(array) - 1)\n",
    "print(array)"
   ]
  },
  {
   "cell_type": "code",
   "execution_count": 3,
   "id": "df15c9e2",
   "metadata": {},
   "outputs": [
    {
     "name": "stdout",
     "output_type": "stream",
     "text": [
      "[0, 1, 2, 3, 4, 5, 6, 7, 8, 9]\n"
     ]
    }
   ],
   "source": [
    "array = [5, 7, 9, 0, 3, 1, 6, 2, 4, 8]\n",
    "\n",
    "def quick_sort(array):\n",
    "    # 리스트가 하나 이하의 원소만을 담고 있다면 종료\n",
    "    if len(array) <= 1:\n",
    "        return array\n",
    "    \n",
    "    pivot = array[0] # 피벗은 첫 번째 원소\n",
    "    tail = array[1:] # 피벗을 제외한 리스트\n",
    "    \n",
    "    left_side = [x for x in tail if x <= pivot] # 분할된 왼쪽 부분\n",
    "    right_side = [x for x in tail if x > pivot] # 분할된 오른쪽 부분\n",
    "    \n",
    "    # 분할 이후 왼쪽 부분과 오른쪽 부분에서 각각 정렬을 수행, 전체 리스트를 반환\n",
    "    return quick_sort(left_side) + [pivot] + quick_sort(right_side)\n",
    "\n",
    "print(quick_sort(array))"
   ]
  },
  {
   "cell_type": "markdown",
   "id": "7bc20fe0",
   "metadata": {},
   "source": [
    "## 4. 계수 정렬\n",
    "\n",
    "- 특정한 조건이 부합할 때 사용하면 매우 빠름.\n",
    "    - 데이터의 크기 범위가 제한되어 정수 형태로 표현할 수 있을 때만.\n",
    "    \n",
    "- 모든 범위를 담을 수 있는 크기의 리스트(배열)를 선언해야 하기 때문."
   ]
  },
  {
   "cell_type": "markdown",
   "id": "668d4ad3",
   "metadata": {},
   "source": [
    "- 별도의 리스트를 선언, 정렬에 대한 정보를 담는다."
   ]
  },
  {
   "cell_type": "code",
   "execution_count": 6,
   "id": "c9bb8a13",
   "metadata": {},
   "outputs": [
    {
     "name": "stdout",
     "output_type": "stream",
     "text": [
      "0 0 1 1 2 2 3 4 5 5 6 7 8 9 9 "
     ]
    }
   ],
   "source": [
    "# 모든 원소의 값이 0보다 크거나 같다고 가정\n",
    "array = [7,5,9,0,3,1,6,2,9,1,4,8,0,5,2]\n",
    "\n",
    "# 모든 범위를 포함하는 리스트 선언 (모든 값은 0으로 초기화)\n",
    "count = [0] * (max(array) + 1)\n",
    "\n",
    "for i in range(len(array)):\n",
    "    count[array[i]] += 1 # 각 데이터에 해당하는 인덱스의 값 증가.\n",
    "    \n",
    "for i in range(len(count)): # 리스트에 기록된 정렬 정보 확인.\n",
    "    for j in range(count[i]):\n",
    "        print(i, end=' ') # 띄어쓰기를 구분으로 등장한 횟수만큼 인덱스 출력."
   ]
  },
  {
   "cell_type": "markdown",
   "id": "454606b3",
   "metadata": {},
   "source": [
    "## 5. 파이썬 정렬 라이브러리"
   ]
  },
  {
   "cell_type": "markdown",
   "id": "762dd4c3",
   "metadata": {},
   "source": [
    "### 1. sorted()\n",
    "\n",
    "- 퀵 정렬과 동작 방식이 비슷한 병합 정렬.\n",
    "- 병합 정렬은 최악의 경우에도 시간 복잡도 O(NlogN)을 보장.\n",
    "- 리스트, 딕셔너리 자료형 등을 입력받아 정렬된 결과를 출력."
   ]
  },
  {
   "cell_type": "code",
   "execution_count": 7,
   "id": "4149c8d9",
   "metadata": {},
   "outputs": [
    {
     "name": "stdout",
     "output_type": "stream",
     "text": [
      "[0, 1, 2, 3, 4, 5, 6, 7, 8, 9]\n"
     ]
    }
   ],
   "source": [
    "array = [7,5,9,0,3,1,6,2,4,8]\n",
    "\n",
    "result = sorted(array)\n",
    "print(result)"
   ]
  },
  {
   "cell_type": "markdown",
   "id": "13bdc16c",
   "metadata": {},
   "source": [
    "### 2. sort()\n",
    "\n",
    "- 리스트 변수가 하나 있을 때 내부 원소를 바로 정렬.\n",
    "- 별도의 정렬된 리스트가 반환되지 않고 내부 원소가 바로 정렬."
   ]
  },
  {
   "cell_type": "code",
   "execution_count": 8,
   "id": "106ed45d",
   "metadata": {},
   "outputs": [
    {
     "name": "stdout",
     "output_type": "stream",
     "text": [
      "[0, 1, 2, 3, 4, 5, 6, 7, 8, 9]\n"
     ]
    }
   ],
   "source": [
    "array = [7,5,9,0,3,1,6,2,4,8]\n",
    "\n",
    "array.sort()\n",
    "print(array)"
   ]
  },
  {
   "cell_type": "markdown",
   "id": "d34eb60c",
   "metadata": {},
   "source": [
    "### 3. key argument\n",
    "\n",
    "- 하나의 함수가 들어가야 함. 정렬 기준이 된다."
   ]
  },
  {
   "cell_type": "code",
   "execution_count": 9,
   "id": "d4dc6f6a",
   "metadata": {},
   "outputs": [
    {
     "name": "stdout",
     "output_type": "stream",
     "text": [
      "[('바나나', 2), ('당근', 3), ('사과', 5)]\n"
     ]
    }
   ],
   "source": [
    "array = [('바나나', 2), ('사과', 5), ('당근', 3)]\n",
    "\n",
    "def setting(data):\n",
    "    return data[1]\n",
    "\n",
    "result = sorted(array, key=setting)\n",
    "print(result)"
   ]
  },
  {
   "cell_type": "code",
   "execution_count": null,
   "id": "fd41705b",
   "metadata": {},
   "outputs": [],
   "source": []
  }
 ],
 "metadata": {
  "kernelspec": {
   "display_name": "Python 3 (ipykernel)",
   "language": "python",
   "name": "python3"
  },
  "language_info": {
   "codemirror_mode": {
    "name": "ipython",
    "version": 3
   },
   "file_extension": ".py",
   "mimetype": "text/x-python",
   "name": "python",
   "nbconvert_exporter": "python",
   "pygments_lexer": "ipython3",
   "version": "3.8.6"
  }
 },
 "nbformat": 4,
 "nbformat_minor": 5
}
