{
 "cells": [
  {
   "cell_type": "markdown",
   "id": "0e44fb1f",
   "metadata": {},
   "source": [
    "## 성적이 낮은 순서로 학생 출력하기\n",
    "\n",
    "- N명의 학생 정보.\n",
    "    - 학생의 이름과 성적으로 구분.\n",
    "    \n",
    "- 성적 정보가 주어졌을 때 성적이 낮은 순서대로 학생의 이름을 출력.\n",
    "\n",
    "입력 조건\n",
    "\n",
    "- 첫 번째 줄: 학생의 수 N (1 <= N <= 100,000)\n",
    "- 두 번째 줄 ~ N + 1번째 줄\n",
    "    - 문자열 A: 학생의 이름을 나타냄.\n",
    "    - 정수 B: 학생의 성적을 나타냄.\n",
    "    - 문자열 A의 길이와 학생의 성적은 100 이하의 자연수.\n",
    "    \n",
    "출력 조건\n",
    "\n",
    "- 모든 학생의 이름을 성적이 낮은 순서대로 출력."
   ]
  },
  {
   "cell_type": "code",
   "execution_count": 2,
   "id": "dda6dcb2",
   "metadata": {},
   "outputs": [
    {
     "name": "stdout",
     "output_type": "stream",
     "text": [
      "2\n",
      "홍길동 95\n",
      "이순신 77\n",
      "이순신 홍길동 "
     ]
    }
   ],
   "source": [
    "# N을 입력받기\n",
    "n = int(input())\n",
    "\n",
    "# N명의 학생 정보를 입력받아 리스트에 저장.\n",
    "array = []\n",
    "for i in range(n):\n",
    "    input_data = input().split()\n",
    "    # 이름은 문자열 그대로, 점수는 정수형으로 변환.\n",
    "    array.append((input_data[0], int(input_data[1])))\n",
    "    \n",
    "# 키(key)를 이용하여, 점수를 기준으로 정렬.\n",
    "array = sorted(array, key=lambda student: student[1])\n",
    "\n",
    "# 정렬이 수행된 결과를 출력\n",
    "for student in array:\n",
    "    print(student[0], end=' ')"
   ]
  },
  {
   "cell_type": "code",
   "execution_count": null,
   "id": "c262d71e",
   "metadata": {},
   "outputs": [],
   "source": []
  }
 ],
 "metadata": {
  "kernelspec": {
   "display_name": "Python 3 (ipykernel)",
   "language": "python",
   "name": "python3"
  },
  "language_info": {
   "codemirror_mode": {
    "name": "ipython",
    "version": 3
   },
   "file_extension": ".py",
   "mimetype": "text/x-python",
   "name": "python",
   "nbconvert_exporter": "python",
   "pygments_lexer": "ipython3",
   "version": "3.8.6"
  }
 },
 "nbformat": 4,
 "nbformat_minor": 5
}
