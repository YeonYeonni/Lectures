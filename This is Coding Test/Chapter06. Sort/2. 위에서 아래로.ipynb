{
 "cells": [
  {
   "cell_type": "markdown",
   "id": "a49c2548",
   "metadata": {},
   "source": [
    "## 위에서 아래로"
   ]
  },
  {
   "cell_type": "markdown",
   "id": "fa65349e",
   "metadata": {},
   "source": [
    "- 큰 수 부터 작은 수의 순서로 정렬하기.\n",
    "- 수열을 내림차순으로."
   ]
  },
  {
   "cell_type": "markdown",
   "id": "d3e4aea9",
   "metadata": {},
   "source": [
    "입력 조건\n",
    "\n",
    "- 첫 번째 줄: 수열에 속해 있는 수의 개수 N이 주어짐. (1 <= N <= 500)\n",
    "- 두 번째 줄 ~ N + 1번째 줄: N개의 수가 입력.\n",
    "    - 수의 범위는 1 이상 100,000 이하의 자연수.\n",
    "\n",
    "출력 조건\n",
    "\n",
    "- 입력으로 주어진 수열이 내림차순으로 정렬된 결과를 공백으로 구분하여 출력."
   ]
  },
  {
   "cell_type": "code",
   "execution_count": 2,
   "id": "85a0d665",
   "metadata": {},
   "outputs": [
    {
     "name": "stdout",
     "output_type": "stream",
     "text": [
      "3\n",
      "15\n",
      "27\n",
      "12\n",
      "27 15 12 "
     ]
    }
   ],
   "source": [
    "# N을 입력받기.\n",
    "n = int(input())\n",
    "\n",
    "# N개의 정수를 입력받아 리스트에 저장.\n",
    "array = []\n",
    "for i in range(n):\n",
    "    array.append(int(input()))\n",
    "    \n",
    "# 정렬 수행\n",
    "array = sorted(array, reverse=True)\n",
    "\n",
    "# 결과 출력.\n",
    "for i in array:\n",
    "    print(i, end=' ')"
   ]
  },
  {
   "cell_type": "code",
   "execution_count": null,
   "id": "01ff6656",
   "metadata": {},
   "outputs": [],
   "source": []
  }
 ],
 "metadata": {
  "kernelspec": {
   "display_name": "Python 3 (ipykernel)",
   "language": "python",
   "name": "python3"
  },
  "language_info": {
   "codemirror_mode": {
    "name": "ipython",
    "version": 3
   },
   "file_extension": ".py",
   "mimetype": "text/x-python",
   "name": "python",
   "nbconvert_exporter": "python",
   "pygments_lexer": "ipython3",
   "version": "3.8.6"
  }
 },
 "nbformat": 4,
 "nbformat_minor": 5
}
