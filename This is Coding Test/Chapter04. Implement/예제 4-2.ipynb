{
 "cells": [
  {
   "cell_type": "markdown",
   "id": "362c01f8",
   "metadata": {},
   "source": [
    "## 시각"
   ]
  },
  {
   "cell_type": "markdown",
   "id": "b9905a61",
   "metadata": {},
   "source": [
    "정수 N이 입력되면 00시 00분 00초부터 N시 59분 59초까지의 모든 시각 중에서 3이 하나라도 포함되는 모든 경우의 수를 구하기."
   ]
  },
  {
   "cell_type": "markdown",
   "id": "8bf5001a",
   "metadata": {},
   "source": [
    "모든 경우의 수는 86,400개이므로 완전 탐색을 사용."
   ]
  },
  {
   "cell_type": "code",
   "execution_count": 7,
   "id": "ac459109",
   "metadata": {},
   "outputs": [
    {
     "name": "stdout",
     "output_type": "stream",
     "text": [
      "3\n",
      "8325\n"
     ]
    }
   ],
   "source": [
    "h = int(input())\n",
    "count = 0\n",
    "\n",
    "for i in range(h + 1):\n",
    "    for j in range(60):\n",
    "        for k in range(60):\n",
    "            # 매 시각 안에 h가 들어있으면 count 증가\n",
    "            if '3' in str(i) + str(j) + str(k):\n",
    "                count += 1\n",
    "                \n",
    "print(count)"
   ]
  },
  {
   "cell_type": "code",
   "execution_count": null,
   "id": "1faa32c1",
   "metadata": {},
   "outputs": [],
   "source": []
  }
 ],
 "metadata": {
  "kernelspec": {
   "display_name": "Python 3 (ipykernel)",
   "language": "python",
   "name": "python3"
  },
  "language_info": {
   "codemirror_mode": {
    "name": "ipython",
    "version": 3
   },
   "file_extension": ".py",
   "mimetype": "text/x-python",
   "name": "python",
   "nbconvert_exporter": "python",
   "pygments_lexer": "ipython3",
   "version": "3.8.6"
  }
 },
 "nbformat": 4,
 "nbformat_minor": 5
}
