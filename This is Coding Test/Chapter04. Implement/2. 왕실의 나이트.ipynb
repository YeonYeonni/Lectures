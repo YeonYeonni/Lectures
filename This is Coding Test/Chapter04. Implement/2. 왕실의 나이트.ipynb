{
 "cells": [
  {
   "cell_type": "markdown",
   "id": "9b7d2fd5",
   "metadata": {},
   "source": [
    "## 왕실의 나이트"
   ]
  },
  {
   "cell_type": "markdown",
   "id": "2b504412",
   "metadata": {},
   "source": [
    "- 정원: 8 * 8 좌표 평면.\n",
    "- 나이트: 이동할 때 L자 형태로만 이동할 수 있음.\n",
    "    - 수평으로 두 칸 이동 -> 수직으로 한 칸 이동.\n",
    "    - 수직으로 두 칸 이동 -> 수평으로 한 칸 이동."
   ]
  },
  {
   "cell_type": "markdown",
   "id": "4906a494",
   "metadata": {},
   "source": [
    "나이트의 위치가 주어졌을 때 나이트가 이동할 수 있는 경우의 수를 출력."
   ]
  },
  {
   "cell_type": "code",
   "execution_count": 9,
   "id": "0d43ccaa",
   "metadata": {},
   "outputs": [
    {
     "name": "stdout",
     "output_type": "stream",
     "text": [
      "a1\n"
     ]
    }
   ],
   "source": [
    "# 현재 나이트의 위치를 입력받기.\n",
    "input_data = input()\n",
    "row = int(input_data[1])\n",
    "column = int(ord(input_data[0])) - int(ord('a')) + 1 # ASCII 코드로 변환.\n",
    "\n",
    "# 나이트가 이동할 수 있는 8가지 방향 정의\n",
    "steps = [(-2, -1), (-1, -2), (1, -2), (2, -1), (2, 1), (1, 2), (-1, 2), (-2, 1)]\n",
    "\n",
    "result = 0"
   ]
  },
  {
   "cell_type": "code",
   "execution_count": 12,
   "id": "29be17de",
   "metadata": {},
   "outputs": [
    {
     "name": "stdout",
     "output_type": "stream",
     "text": [
      "2\n"
     ]
    }
   ],
   "source": [
    "for step in steps:\n",
    "    \n",
    "    # 이동하고자 하는 위치 확인\n",
    "    next_row = row + step[0]\n",
    "    next_column = column + step[1]\n",
    "    \n",
    "    # 해당 위치로 이동이 가능하다면 카운트 증가.\n",
    "    if next_row >= 1 and next_row <= 8 and next_column >= 1 and next_column <= 8:\n",
    "        result += 1\n",
    "        \n",
    "print(result)"
   ]
  },
  {
   "cell_type": "code",
   "execution_count": null,
   "id": "77f91faa",
   "metadata": {},
   "outputs": [],
   "source": []
  }
 ],
 "metadata": {
  "kernelspec": {
   "display_name": "Python 3 (ipykernel)",
   "language": "python",
   "name": "python3"
  },
  "language_info": {
   "codemirror_mode": {
    "name": "ipython",
    "version": 3
   },
   "file_extension": ".py",
   "mimetype": "text/x-python",
   "name": "python",
   "nbconvert_exporter": "python",
   "pygments_lexer": "ipython3",
   "version": "3.8.6"
  }
 },
 "nbformat": 4,
 "nbformat_minor": 5
}
