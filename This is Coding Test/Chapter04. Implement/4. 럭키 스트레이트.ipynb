{
 "cells": [
  {
   "cell_type": "code",
   "execution_count": 58,
   "id": "1cd19381",
   "metadata": {},
   "outputs": [
    {
     "name": "stdout",
     "output_type": "stream",
     "text": [
      "7755\n",
      "READY\n"
     ]
    }
   ],
   "source": [
    "from collections import deque\n",
    "\n",
    "n_list = deque(''.join(input()))\n",
    "\n",
    "left = 0\n",
    "right = 0\n",
    "\n",
    "for i in range(int(len(n_list) / 2)):\n",
    "    left += int(n_list[0])\n",
    "    n_list.popleft()\n",
    "    \n",
    "for i in range(int(len(n_list))):\n",
    "    right += int(n_list[i])\n",
    "    \n",
    "if left == right:\n",
    "    print('LUCKY')\n",
    "else:\n",
    "    print('READY')"
   ]
  },
  {
   "cell_type": "code",
   "execution_count": 61,
   "id": "26ad1b85",
   "metadata": {},
   "outputs": [
    {
     "name": "stdout",
     "output_type": "stream",
     "text": [
      "123006\n",
      "LUCKY\n"
     ]
    }
   ],
   "source": [
    "n = input()\n",
    "length = len(n)\n",
    "summary = 0\n",
    "\n",
    "for i in range(length // 2):\n",
    "    summary += int(n[i])\n",
    "    \n",
    "for i in range(length // 2, length):\n",
    "    summary -= int(n[i])\n",
    "    \n",
    "if summary == 0:\n",
    "    print('LUCKY')\n",
    "    \n",
    "else:\n",
    "    print('READY')"
   ]
  },
  {
   "cell_type": "code",
   "execution_count": null,
   "id": "725c03fb",
   "metadata": {},
   "outputs": [],
   "source": []
  }
 ],
 "metadata": {
  "kernelspec": {
   "display_name": "Python 3 (ipykernel)",
   "language": "python",
   "name": "python3"
  },
  "language_info": {
   "codemirror_mode": {
    "name": "ipython",
    "version": 3
   },
   "file_extension": ".py",
   "mimetype": "text/x-python",
   "name": "python",
   "nbconvert_exporter": "python",
   "pygments_lexer": "ipython3",
   "version": "3.8.6"
  }
 },
 "nbformat": 4,
 "nbformat_minor": 5
}
