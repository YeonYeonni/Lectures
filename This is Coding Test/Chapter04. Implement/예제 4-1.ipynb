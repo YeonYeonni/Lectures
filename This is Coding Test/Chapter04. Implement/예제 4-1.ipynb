{
 "cells": [
  {
   "cell_type": "markdown",
   "id": "99585167",
   "metadata": {},
   "source": [
    "## 상하좌우"
   ]
  },
  {
   "cell_type": "markdown",
   "id": "4881fd2d",
   "metadata": {},
   "source": [
    "- N * N 크기의 정사각형 공간이 1 * 1 크기의 정사각형으로 나누어져 있음.\n",
    "- 가장 왼쪽 위 좌표는 (1, 1) 가장 오른쪽 아래 좌표는 (N, N)\n",
    "- 여행가 A는 상, 하, 좌, 우 방향으로 이동할 수 있음.\n",
    "- 시작 좌표는 항상 (1, 1)"
   ]
  },
  {
   "cell_type": "code",
   "execution_count": 7,
   "id": "5167f46e",
   "metadata": {},
   "outputs": [
    {
     "name": "stdout",
     "output_type": "stream",
     "text": [
      "5\n",
      "R R R U D D\n"
     ]
    }
   ],
   "source": [
    "n = int(input())\n",
    "plans = input().split()\n",
    "\n",
    "x, y = 1, 1"
   ]
  },
  {
   "cell_type": "code",
   "execution_count": 8,
   "id": "212a1ae6",
   "metadata": {},
   "outputs": [],
   "source": [
    "# L, R, U, D에 따른 이동 방향\n",
    "dx = [0, 0, -1, 1]\n",
    "dy = [-1, 1, 0, 0]\n",
    "move_types = ['L', 'R', 'U', 'D']"
   ]
  },
  {
   "cell_type": "code",
   "execution_count": 9,
   "id": "d6993667",
   "metadata": {},
   "outputs": [
    {
     "name": "stdout",
     "output_type": "stream",
     "text": [
      "3 4\n"
     ]
    }
   ],
   "source": [
    "# 이동 계획을 하나씩 확인\n",
    "for plan in plans:\n",
    "    # 이동 후 좌표 구하기\n",
    "    for i in range(len(move_types)):\n",
    "        if plan == move_types[i]:\n",
    "            nx = x + dx[i]\n",
    "            ny = y + dy[i]\n",
    "            \n",
    "    # 공간을 벗어나는 경우 무시\n",
    "    if nx < 1 or ny < 1 or nx > n or ny > n:\n",
    "        continue\n",
    "        \n",
    "    # 이동 수행\n",
    "    x, y = nx, ny\n",
    "        \n",
    "print(x, y)"
   ]
  },
  {
   "cell_type": "markdown",
   "id": "a49da042",
   "metadata": {},
   "source": [
    "- dx와 dy가 왜 바뀐거 같은지 모르겠음."
   ]
  },
  {
   "cell_type": "code",
   "execution_count": null,
   "id": "dae65416",
   "metadata": {},
   "outputs": [],
   "source": []
  }
 ],
 "metadata": {
  "kernelspec": {
   "display_name": "Python 3 (ipykernel)",
   "language": "python",
   "name": "python3"
  },
  "language_info": {
   "codemirror_mode": {
    "name": "ipython",
    "version": 3
   },
   "file_extension": ".py",
   "mimetype": "text/x-python",
   "name": "python",
   "nbconvert_exporter": "python",
   "pygments_lexer": "ipython3",
   "version": "3.8.6"
  }
 },
 "nbformat": 4,
 "nbformat_minor": 5
}
