{
 "cells": [
  {
   "cell_type": "code",
   "execution_count": 1,
   "id": "9423315a",
   "metadata": {},
   "outputs": [],
   "source": [
    "from bisect import bisect_right, bisect_left\n",
    "\n",
    "def count_by_range(array, right, left):\n",
    "    right_index = bisect_right(array, right)\n",
    "    left_index = bisect_left(array, left)\n",
    "    \n",
    "    return right_index - left_index"
   ]
  },
  {
   "cell_type": "code",
   "execution_count": 2,
   "id": "9c58fe22",
   "metadata": {},
   "outputs": [
    {
     "name": "stdout",
     "output_type": "stream",
     "text": [
      "5\n",
      "8 3 7 9 2\n",
      "3\n",
      "5 7 9\n"
     ]
    }
   ],
   "source": [
    "n = int(input())\n",
    "array = list(map(int, input().split()))\n",
    "array.sort()\n",
    "\n",
    "m = int(input())\n",
    "x = list(map(int, input().split()))"
   ]
  },
  {
   "cell_type": "code",
   "execution_count": 3,
   "id": "d62d93fc",
   "metadata": {},
   "outputs": [
    {
     "name": "stdout",
     "output_type": "stream",
     "text": [
      "no\n",
      "yes\n",
      "yes\n"
     ]
    }
   ],
   "source": [
    "for i in x:\n",
    "    result = count_by_range(array, i, i)\n",
    "    \n",
    "    if result != 0:\n",
    "        print('yes')\n",
    "        \n",
    "    else:\n",
    "        print('no')"
   ]
  },
  {
   "cell_type": "code",
   "execution_count": null,
   "id": "76562311",
   "metadata": {},
   "outputs": [],
   "source": []
  }
 ],
 "metadata": {
  "kernelspec": {
   "display_name": "Python 3 (ipykernel)",
   "language": "python",
   "name": "python3"
  },
  "language_info": {
   "codemirror_mode": {
    "name": "ipython",
    "version": 3
   },
   "file_extension": ".py",
   "mimetype": "text/x-python",
   "name": "python",
   "nbconvert_exporter": "python",
   "pygments_lexer": "ipython3",
   "version": "3.8.6"
  }
 },
 "nbformat": 4,
 "nbformat_minor": 5
}
