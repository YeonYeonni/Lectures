{
 "cells": [
  {
   "cell_type": "markdown",
   "id": "ed1bc783",
   "metadata": {},
   "source": [
    "## 범위를 반씩 좁혀가는 탐색"
   ]
  },
  {
   "cell_type": "markdown",
   "id": "2f936d99",
   "metadata": {},
   "source": [
    "- 이진 탐색: 리스트 내에서 데이터를 매우 빠르게 탐색."
   ]
  },
  {
   "cell_type": "markdown",
   "id": "ed32fc1a",
   "metadata": {},
   "source": [
    "### 1. 순차 탐색 (Sequential Search)\n",
    "\n",
    "- 리스트 안에 있는 특정한 데이터를 찾기 위해 앞에서부터 데이터를 하나씩 차례대로 확인하는 방법."
   ]
  },
  {
   "cell_type": "markdown",
   "id": "1c732232",
   "metadata": {},
   "source": [
    "- 가장 기본적인 탐색 방법.\n",
    "- N개의 데이터가 있을 때, 그 데이터를 차례대로 하나씩 확인하여 어떠한 처리를 함.\n",
    "- 정렬되지 않은 리스트에서 데이터를 찾아야 할 때 사용.\n",
    "- 시간만 충분하다면 항상 원하는 원소를 찾을 수 있음."
   ]
  },
  {
   "cell_type": "code",
   "execution_count": 1,
   "id": "5f9c9039",
   "metadata": {},
   "outputs": [
    {
     "name": "stdout",
     "output_type": "stream",
     "text": [
      "생성할 원소 개수를 입력한 다음 한 칸 띄고 찾을 문자열을 입력하세요.\n",
      "5 Dongbin\n",
      "앞서 적은 원소 개수만큼 문자열을 입력하세요. 구분은 띄어쓰기 한 칸으로 합니다.\n",
      "Hanul Jonggu Dongbin Taeil Sangwook\n",
      "3\n"
     ]
    }
   ],
   "source": [
    "# 순차 탐색 소스코드 구현\n",
    "def sequential_search(n, target, array):\n",
    "    # 각 원소를 하나씩 확인.\n",
    "    for i in range(n):\n",
    "        # 현재의 원소가 찾고자 하는 원소와 동일한 경우\n",
    "        if array[i] == target:\n",
    "            return i + 1 # 현재의 위치 반환 (index는 0부터 시작하므로 1 더하기)\n",
    "        \n",
    "print('생성할 원소 개수를 입력한 다음 한 칸 띄고 찾을 문자열을 입력하세요.')\n",
    "input_data = input().split()\n",
    "n = int(input_data[0]) # 원소의 개수\n",
    "target = input_data[1] # 찾고자 하는 문자열\n",
    "\n",
    "print('앞서 적은 원소 개수만큼 문자열을 입력하세요. 구분은 띄어쓰기 한 칸으로 합니다.')\n",
    "array = input().split()\n",
    "\n",
    "# 순차 탐색 수행 결과 출력\n",
    "print(sequential_search(n, target, array))"
   ]
  },
  {
   "cell_type": "markdown",
   "id": "9a85845e",
   "metadata": {},
   "source": [
    "### 2. 이진 탐색: 반으로 쪼개면서 탐색하기"
   ]
  },
  {
   "cell_type": "markdown",
   "id": "acb3508f",
   "metadata": {},
   "source": [
    "- 배열 내부의 데이터가 정렬되어 있어야만 사용할 수 있음.\n",
    "- 탐색 범위를 절반씩 좁혀가며 데이터를 탐색."
   ]
  },
  {
   "cell_type": "markdown",
   "id": "88871df6",
   "metadata": {},
   "source": [
    "세 개의 변수 사용.\n",
    "\n",
    "- 시작점, 끝점, 중간점\n",
    "- 찾으려는 데이터와 중간점 위치에 있는 데이터를 반복적으로 비교.\n",
    "- 한 번 확인할 때마다 확인하는 원소의 개수가 절반씩 줄어든다."
   ]
  },
  {
   "cell_type": "code",
   "execution_count": 2,
   "id": "7ecea34f",
   "metadata": {},
   "outputs": [
    {
     "name": "stdout",
     "output_type": "stream",
     "text": [
      "10 7\n",
      "1 3 5 7 9 11 13 15 17 19\n",
      "4\n"
     ]
    }
   ],
   "source": [
    "# 재귀 함수로 구현.\n",
    "def binary_search(array, target, start, end):\n",
    "    if start > end:\n",
    "        return None\n",
    "    mid = (start + end) // 2 # 찾은 경우 중간점 인덱스 반환.\n",
    "    \n",
    "    if array[mid] == target:\n",
    "        return mid\n",
    "    \n",
    "    # 중간점의 값보다 찾고자 하는 값이 작은 경우 왼쪽 확인\n",
    "    elif array[mid] > target:\n",
    "        return binary_search(array, target, start, mid - 1)\n",
    "    \n",
    "    # 중간점의 값보다 찾고자 하는 값이 큰 경우 오른쪽 확인\n",
    "    else:\n",
    "        return binary_search(array, target, mid + 1, end)\n",
    "    \n",
    "# n(원소의 개수)과 target(찾고자 하는 문자열) 입력받기.\n",
    "n, target = list(map(int, input().split()))\n",
    "\n",
    "# 전체 원소 입력받기\n",
    "array = list(map(int, input().split()))\n",
    "\n",
    "# 이진 탐색 수행 결과 출력\n",
    "result = binary_search(array, target, 0, n - 1)\n",
    "\n",
    "if result == None:\n",
    "    print('원소가 존재하지 않습니다.')\n",
    "else:\n",
    "    print(result + 1)"
   ]
  },
  {
   "cell_type": "code",
   "execution_count": 3,
   "id": "e7699e40",
   "metadata": {},
   "outputs": [
    {
     "name": "stdout",
     "output_type": "stream",
     "text": [
      "10 7\n",
      "1 3 5 7 9 11 13 15 17 19\n",
      "4\n"
     ]
    }
   ],
   "source": [
    "# 반복문으로 구현.\n",
    "def binary_search(array, target, start, end):\n",
    "    while start <= end:\n",
    "        mid = (start + end) // 2\n",
    "        # 찾은 경우 중간점 인덱스 반환.\n",
    "        if array[mid] == target:\n",
    "            return mid\n",
    "        \n",
    "        # 중간점의 값보다 찾고자 하는 값이 작은 경우 왼쪽 확인\n",
    "        elif array[mid] > target:\n",
    "            end = mid - 1\n",
    "            \n",
    "        # 중간점의 값보다 찾고자 하는 값이 큰 경우 오른쪽 확인\n",
    "        else:\n",
    "            start = mid + 1\n",
    "    return None\n",
    "\n",
    "# n과 target을 입력받기.\n",
    "n, target = list(map(int, input().split()))\n",
    "\n",
    "# 전체 원소 입력받기.\n",
    "array = list(map(int, input().split()))\n",
    "\n",
    "# 이진 탐색 수행 결과 출력\n",
    "result = binary_search(array, target, 0, n - 1)\n",
    "\n",
    "if result == None:\n",
    "    print('원소가 존재하지 않습니다.')\n",
    "else:\n",
    "    print(result + 1)"
   ]
  },
  {
   "cell_type": "code",
   "execution_count": null,
   "id": "0e0a879a",
   "metadata": {},
   "outputs": [],
   "source": []
  }
 ],
 "metadata": {
  "kernelspec": {
   "display_name": "Python 3 (ipykernel)",
   "language": "python",
   "name": "python3"
  },
  "language_info": {
   "codemirror_mode": {
    "name": "ipython",
    "version": 3
   },
   "file_extension": ".py",
   "mimetype": "text/x-python",
   "name": "python",
   "nbconvert_exporter": "python",
   "pygments_lexer": "ipython3",
   "version": "3.8.6"
  }
 },
 "nbformat": 4,
 "nbformat_minor": 5
}
