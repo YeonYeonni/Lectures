{
 "cells": [
  {
   "cell_type": "markdown",
   "id": "1fc1cc94",
   "metadata": {},
   "source": [
    "## 부품 찾기"
   ]
  },
  {
   "cell_type": "markdown",
   "id": "a5a972b9",
   "metadata": {},
   "source": [
    "부품이 N개.\n",
    "- 각 부품은 정수 형태의 고유한 번호가 있음.\n",
    "    \n",
    "손님이 M개 종류의 부품을 대량 구매.\n",
    "- 부품 M개 종류를 모두 확인해서 견적서를 작성해야 함."
   ]
  },
  {
   "cell_type": "markdown",
   "id": "ff996440",
   "metadata": {},
   "source": [
    "가게 안에 부품이 모두 있는지 확인하는 프로그램."
   ]
  },
  {
   "cell_type": "markdown",
   "id": "27a8216f",
   "metadata": {},
   "source": [
    "입력 조건\n",
    "\n",
    "- 첫 번째 줄: 정수 N이 주어짐. (1 <= N <= 1,000,000)\n",
    "- 두 번째 줄: 공백으로 구분한 N개의 정수. (정수는 1보다 크고 1,000,000 이하)\n",
    "- 세 번째 줄: 정수 M이 주어짐. (1 <= M <= 100,000)\n",
    "- 네 번째 줄: 공백으로 구분하여 M개의 정수가 주어짐. (정수는 1보다 크고 1,000,000 이하)\n",
    "\n",
    "출력 조건\n",
    "\n",
    "- 첫 번째 줄: 각 부품이 존재하면 yes, 없으면 no를 출력."
   ]
  },
  {
   "cell_type": "code",
   "execution_count": 1,
   "id": "c6183988",
   "metadata": {},
   "outputs": [
    {
     "name": "stdout",
     "output_type": "stream",
     "text": [
      "5\n",
      "8 3 7 9 2\n",
      "3\n",
      "5 7 9\n",
      "no yes yes "
     ]
    }
   ],
   "source": [
    "# 이진 탐색 소스코드 구현 (반복문)\n",
    "def binary_search(array, target, start, end):\n",
    "    while start <= end:\n",
    "        mid = (start + end) // 2\n",
    "        \n",
    "        # 찾은 경우 중간점 인덱스 반환.\n",
    "        if array[mid] == target:\n",
    "            return mid\n",
    "        \n",
    "        # 중간점의 값보다 찾고자 하는 값이 작은 경우 왼쪽 확인.\n",
    "        elif array[mid] > target:\n",
    "            end = mid - 1\n",
    "            \n",
    "        # 중간점의 값보다 찾고자 하는 값이 큰 경우 오른쪽 확인.\n",
    "        else:\n",
    "            start = mid + 1\n",
    "            \n",
    "    return None\n",
    "\n",
    "# N (가게의 부품 개수) 입력\n",
    "n = int(input())\n",
    "\n",
    "# 가게에 있는 전체 부품 번호를 공백으로 구분하여 입력\n",
    "array = list(map(int, input().split()))\n",
    "array.sort() # 이진 탐색을 수행하기 위해 정렬 수행\n",
    "\n",
    "# M (손님이 확인 요청한 부품 개수) 입력\n",
    "m = int(input())\n",
    "\n",
    "# 손님이 확인 요청한 전체 부품 번호를 공백으로 구분하여 입력\n",
    "x = list(map(int, input().split()))\n",
    "\n",
    "# 손님이 확인 요청한 부품 번호를 하나씩 확인\n",
    "for i in x:\n",
    "    # 해당 부품이 존재하는지 확인\n",
    "    result = binary_search(array, i, 0, n - 1)\n",
    "    if result != None:\n",
    "        print('yes', end = ' ')\n",
    "    else:\n",
    "        print('no', end = ' ')"
   ]
  },
  {
   "cell_type": "code",
   "execution_count": 4,
   "id": "0d3514f8",
   "metadata": {},
   "outputs": [
    {
     "name": "stdout",
     "output_type": "stream",
     "text": [
      "5\n",
      "8 3 7 9 2\n",
      "3\n",
      "5 7 9\n",
      "no yes yes "
     ]
    }
   ],
   "source": [
    "# 계수 정렬\n",
    "\n",
    "# N (가게의 부품 개수) 입력\n",
    "n = int(input())\n",
    "array = [0] * 1000001\n",
    "\n",
    "# 가게에 있는 전체 부품 번호를 입력받아서 기록\n",
    "for i in input().split():\n",
    "    array[int(i)] = 1\n",
    "    \n",
    "# M (손님이 확인 요청한 부품 개수) 입력\n",
    "m = int(input())\n",
    "\n",
    "# 손님이 확인 요청한 전체 부품 번호를 공백으로 구분하여 입력\n",
    "x = list(map(int, input().split()))\n",
    "\n",
    "# 손님이 확인 요청한 부품 번호를 하나씩 확인\n",
    "for i in x:\n",
    "    # 해당 부품이 존재하는지 확인\n",
    "    if array[i] == 1:\n",
    "        print('yes', end = ' ')\n",
    "    else:\n",
    "        print('no', end = ' ')"
   ]
  },
  {
   "cell_type": "code",
   "execution_count": 6,
   "id": "ee40f5d1",
   "metadata": {},
   "outputs": [
    {
     "name": "stdout",
     "output_type": "stream",
     "text": [
      "5\n",
      "8 3 7 9 2\n",
      "3\n",
      "5 7 9\n",
      "no yes yes "
     ]
    }
   ],
   "source": [
    "# 집합 자료형 이용\n",
    "\n",
    "# N (가게의 부품 개수) 입력\n",
    "n = int(input())\n",
    "\n",
    "# 가게에 있는 전체 부품 번호를 입력받아서 집합(set) 자료형에 기록\n",
    "array = set(map(int, input().split()))\n",
    "\n",
    "# M (손님이 확인 요청한 부품 개수) 입력\n",
    "m = int(input())\n",
    "\n",
    "# 손님이 확인 요청한 전체 부품 번호를 공백으로 구분하여 입력\n",
    "x = list(map(int, input().split()))\n",
    "\n",
    "# 손님이 확인 요청한 부품 번호를 하나씩 확인\n",
    "for i in x:\n",
    "    # 해당 부품이 존재하는지 확인\n",
    "    if i in array:\n",
    "        print('yes', end = ' ')\n",
    "    else:\n",
    "        print('no', end = ' ')"
   ]
  },
  {
   "cell_type": "code",
   "execution_count": null,
   "id": "b8559050",
   "metadata": {},
   "outputs": [],
   "source": []
  }
 ],
 "metadata": {
  "kernelspec": {
   "display_name": "Python 3 (ipykernel)",
   "language": "python",
   "name": "python3"
  },
  "language_info": {
   "codemirror_mode": {
    "name": "ipython",
    "version": 3
   },
   "file_extension": ".py",
   "mimetype": "text/x-python",
   "name": "python",
   "nbconvert_exporter": "python",
   "pygments_lexer": "ipython3",
   "version": "3.8.6"
  }
 },
 "nbformat": 4,
 "nbformat_minor": 5
}
