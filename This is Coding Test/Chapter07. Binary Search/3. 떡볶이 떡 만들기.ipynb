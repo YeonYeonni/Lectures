{
 "cells": [
  {
   "cell_type": "markdown",
   "id": "7f45e32e",
   "metadata": {},
   "source": [
    "## 떡볶이 떡 만들기"
   ]
  },
  {
   "cell_type": "markdown",
   "id": "59cd4d12",
   "metadata": {},
   "source": [
    "떡볶이 떡의 길이가 일정하지 않다.\n",
    "- 떡의 총 길이는 절단기로 잘라서 맞춰준다.\n",
    "\n",
    "절단기에 높이 (H) 를 지정.\n",
    "- 높이가 H보다 긴 떡은 H 윗 부분이 잘림.\n",
    "- 낮은 떡은 잘리지 않음."
   ]
  },
  {
   "cell_type": "markdown",
   "id": "be335e9e",
   "metadata": {},
   "source": [
    "손님이 왔을 때 요청한 총 길이가 M일 때, 적어도 M만큼의 떡을 얻기 위해 절단기에 설정할 수 있는 높이의 최댓값을 구하는 프로그램."
   ]
  },
  {
   "cell_type": "markdown",
   "id": "f058f0d9",
   "metadata": {},
   "source": [
    "입력 조건\n",
    "- 첫 번째 줄\n",
    "    - 떡의 개수 N. (1 <= N <= 1,000,000)\n",
    "    - 요청한 떡의 길이 M. (1 <= M <= 2,000,000,000)\n",
    "\n",
    "- 두 번째 줄\n",
    "    - 떡의 개별 높이. (10억보다 작거나 같은 양의 정수 또는 0)\n",
    "    - 떡 높이의 총합은 항상 M 이상.\n",
    "    - 손님은 필요한 양만큼 떡을 사갈 수 있음.\n",
    "\n",
    "출력 조건\n",
    "- 적어도 M 만큼의 떡을 집에 가져가기 위해 절단기에 설정할 수 있는 높이의 최댓값."
   ]
  },
  {
   "cell_type": "code",
   "execution_count": 1,
   "id": "bc936952",
   "metadata": {},
   "outputs": [
    {
     "name": "stdout",
     "output_type": "stream",
     "text": [
      "4 6\n",
      "19 15 10 17\n",
      "15\n"
     ]
    }
   ],
   "source": [
    "# 떡의 개수(N)와 요청한 떡의 길이 (M)을 입력받기.\n",
    "n, m = list(map(int, input().split(' ')))\n",
    "\n",
    "# 각 떡의 개별 높이 정보를 입력받기\n",
    "array = list(map(int, input().split()))\n",
    "\n",
    "# 이진 탐색을 위한 시작점과 끝점 설정\n",
    "start = 0\n",
    "end = max(array)\n",
    "\n",
    "# 이진 탐색 수행 (반복적)\n",
    "result = 0\n",
    "while (start <= end):\n",
    "    total = 0\n",
    "    mid = (start + end) // 2\n",
    "    for x in array:\n",
    "        \n",
    "        # 잘랐을 때의 떡의 양 계산\n",
    "        if x > mid:\n",
    "            total += x - mid\n",
    "            \n",
    "    # 떡의 양이 부족한 경우 더 많이 자르기 (왼쪽 부분 탐색)\n",
    "    if total < m:\n",
    "        end = mid - 1\n",
    "        \n",
    "    # 떡의 양이 충분한 경우 덜 자르기 (오른쪽 부분 탐색)\n",
    "    else:\n",
    "        result = mid # 최대한 덜 잘랐을 때가 정답이므로, 여기서 result 기록.\n",
    "        start = mid + 1\n",
    "        \n",
    "# 정답 출력\n",
    "print(result)"
   ]
  },
  {
   "cell_type": "code",
   "execution_count": null,
   "id": "cbe108b9",
   "metadata": {},
   "outputs": [],
   "source": []
  }
 ],
 "metadata": {
  "kernelspec": {
   "display_name": "Python 3 (ipykernel)",
   "language": "python",
   "name": "python3"
  },
  "language_info": {
   "codemirror_mode": {
    "name": "ipython",
    "version": 3
   },
   "file_extension": ".py",
   "mimetype": "text/x-python",
   "name": "python",
   "nbconvert_exporter": "python",
   "pygments_lexer": "ipython3",
   "version": "3.8.6"
  }
 },
 "nbformat": 4,
 "nbformat_minor": 5
}
