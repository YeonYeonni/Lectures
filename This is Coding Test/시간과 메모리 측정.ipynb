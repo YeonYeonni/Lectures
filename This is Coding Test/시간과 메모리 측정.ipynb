{
 "cells": [
  {
   "cell_type": "code",
   "execution_count": 1,
   "id": "eaa51c0d",
   "metadata": {},
   "outputs": [
    {
     "name": "stdout",
     "output_type": "stream",
     "text": [
      "time : 0.0\n"
     ]
    }
   ],
   "source": [
    "import time\n",
    "start_time = time.time() # 측정 시작\n",
    "\n",
    "# 소스코드\n",
    "\n",
    "end_time = time.time() # 측정 종료\n",
    "print('time :', end_time - start_time)"
   ]
  },
  {
   "cell_type": "markdown",
   "id": "f0c66982",
   "metadata": {},
   "source": [
    "예시)\n",
    "\n",
    "- 선택 정렬: 최악의 경우 시간 복잡도가 O(N^2)\n",
    "- 파이썬의 기본 정렬 라이브러리: 최악의 경우 시간 복잡도가 O(NlogN)"
   ]
  },
  {
   "cell_type": "code",
   "execution_count": 3,
   "id": "c58cefb0",
   "metadata": {},
   "outputs": [
    {
     "name": "stdout",
     "output_type": "stream",
     "text": [
      "선택 정렬 성능 측정: 3.780296564102173\n",
      "기본 정렬 라이브러리 성능 측정: 0.0\n"
     ]
    }
   ],
   "source": [
    "from random import randint\n",
    "import time\n",
    "\n",
    "# 배열에 10000개의 정수를 삽입\n",
    "array = []\n",
    "for _ in range(10000):\n",
    "    array.append(randint(1, 100)) # 1부터 100 사이의 랜덤한 정수\n",
    "    \n",
    "# 1. 선택 정렬 프로그램 성능 측정\n",
    "start_time = time.time()\n",
    "\n",
    "# 선택 정렬 프로그램 소스코드\n",
    "for i in range(len(array)):\n",
    "    min_index = i # 가장 작은 원소의 인덱스\n",
    "    for j in range(i + 1, len(array)):\n",
    "        if array[min_index] > array[j]:\n",
    "            min_index = j\n",
    "    array[i], array[min_index] = array[min_index], array[i] # 스왑\n",
    "    \n",
    "end_time = time.time()\n",
    "print('선택 정렬 성능 측정:', end_time - start_time)\n",
    "\n",
    "# 배열을 다시 초기화\n",
    "array = []\n",
    "for _ in range(10000):\n",
    "    array.append(randint(1, 100))\n",
    "    \n",
    "# 2. 기본 정렬 라이브러리 성능 측정\n",
    "start_time = time.time()\n",
    "\n",
    "# 기본 정렬 라이브러리 사용\n",
    "array.sort()\n",
    "\n",
    "end_time = time.time()\n",
    "print('기본 정렬 라이브러리 성능 측정:', end_time - start_time)"
   ]
  },
  {
   "cell_type": "code",
   "execution_count": null,
   "id": "8a84f48f",
   "metadata": {},
   "outputs": [],
   "source": []
  }
 ],
 "metadata": {
  "kernelspec": {
   "display_name": "Python 3 (ipykernel)",
   "language": "python",
   "name": "python3"
  },
  "language_info": {
   "codemirror_mode": {
    "name": "ipython",
    "version": 3
   },
   "file_extension": ".py",
   "mimetype": "text/x-python",
   "name": "python",
   "nbconvert_exporter": "python",
   "pygments_lexer": "ipython3",
   "version": "3.8.6"
  }
 },
 "nbformat": 4,
 "nbformat_minor": 5
}
