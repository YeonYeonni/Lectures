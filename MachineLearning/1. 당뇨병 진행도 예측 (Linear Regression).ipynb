{
 "cells": [
  {
   "cell_type": "markdown",
   "id": "9da4c677",
   "metadata": {},
   "source": [
    "# Diabetes 데이터와 Linear Regression\n",
    "\n",
    "- 당뇨병 진행도와 관련된 데이터를 이용.\n",
    "- 당뇨병 진행을 예측하는 Linear Regression 학습."
   ]
  },
  {
   "cell_type": "code",
   "execution_count": 2,
   "id": "56d1f61e",
   "metadata": {},
   "outputs": [],
   "source": [
    "import pandas as pd\n",
    "import numpy as np\n",
    "import matplotlib.pyplot as plt\n",
    "\n",
    "np.random.seed(2021)"
   ]
  },
  {
   "cell_type": "markdown",
   "id": "91030dfb",
   "metadata": {},
   "source": [
    "## 1. Data"
   ]
  },
  {
   "cell_type": "markdown",
   "id": "3c329cb3",
   "metadata": {},
   "source": [
    "### 1.1 Data Load\n",
    "\n",
    "- sklearn.datasets의 load_diabetes 함수 이용."
   ]
  },
  {
   "cell_type": "code",
   "execution_count": 3,
   "id": "a3d1fc56",
   "metadata": {},
   "outputs": [],
   "source": [
    "from sklearn.datasets import load_diabetes\n",
    "\n",
    "diabetes = load_diabetes()"
   ]
  },
  {
   "cell_type": "markdown",
   "id": "b2fcb7b5",
   "metadata": {},
   "source": [
    "- 당뇨병 데이터에서 사용되는 변수명은 feature_names 키 값으로 들어 있음.\n",
    "- 변수명과 변수에 대한 설명\n",
    "    - age: 나이\n",
    "    - sex: 성별\n",
    "    - bmi: Body Mass Index\n",
    "    - bp: Average Blood \n",
    "    - 혈청에 대한 6가지 지표들\n",
    "        - S1, S2, S3, S4, S5, S6"
   ]
  },
  {
   "cell_type": "code",
   "execution_count": 4,
   "id": "ddddb533",
   "metadata": {},
   "outputs": [
    {
     "data": {
      "text/plain": [
       "['age', 'sex', 'bmi', 'bp', 's1', 's2', 's3', 's4', 's5', 's6']"
      ]
     },
     "execution_count": 4,
     "metadata": {},
     "output_type": "execute_result"
    }
   ],
   "source": [
    "diabetes['feature_names']"
   ]
  },
  {
   "cell_type": "markdown",
   "id": "b4bdf79a",
   "metadata": {},
   "source": [
    "- 데이터와 정답을 확인하기."
   ]
  },
  {
   "cell_type": "code",
   "execution_count": 5,
   "id": "f6854113",
   "metadata": {},
   "outputs": [],
   "source": [
    "data, target = diabetes['data'], diabetes['target']"
   ]
  },
  {
   "cell_type": "code",
   "execution_count": 6,
   "id": "55f99fef",
   "metadata": {},
   "outputs": [
    {
     "data": {
      "text/plain": [
       "array([ 0.03807591,  0.05068012,  0.06169621,  0.02187235, -0.0442235 ,\n",
       "       -0.03482076, -0.04340085, -0.00259226,  0.01990842, -0.01764613])"
      ]
     },
     "execution_count": 6,
     "metadata": {},
     "output_type": "execute_result"
    }
   ],
   "source": [
    "data[0]"
   ]
  },
  {
   "cell_type": "code",
   "execution_count": 7,
   "id": "f6e6d3f2",
   "metadata": {},
   "outputs": [
    {
     "data": {
      "text/plain": [
       "151.0"
      ]
     },
     "execution_count": 7,
     "metadata": {},
     "output_type": "execute_result"
    }
   ],
   "source": [
    "target[0]"
   ]
  },
  {
   "cell_type": "markdown",
   "id": "f9f628ef",
   "metadata": {},
   "source": [
    "### 1.2 Data EDA"
   ]
  },
  {
   "cell_type": "code",
   "execution_count": 8,
   "id": "81e2aa4a",
   "metadata": {},
   "outputs": [],
   "source": [
    "df = pd.DataFrame(data, columns=diabetes['feature_names'])"
   ]
  },
  {
   "cell_type": "code",
   "execution_count": 9,
   "id": "96bce88c",
   "metadata": {},
   "outputs": [
    {
     "data": {
      "text/html": [
       "<div>\n",
       "<style scoped>\n",
       "    .dataframe tbody tr th:only-of-type {\n",
       "        vertical-align: middle;\n",
       "    }\n",
       "\n",
       "    .dataframe tbody tr th {\n",
       "        vertical-align: top;\n",
       "    }\n",
       "\n",
       "    .dataframe thead th {\n",
       "        text-align: right;\n",
       "    }\n",
       "</style>\n",
       "<table border=\"1\" class=\"dataframe\">\n",
       "  <thead>\n",
       "    <tr style=\"text-align: right;\">\n",
       "      <th></th>\n",
       "      <th>age</th>\n",
       "      <th>sex</th>\n",
       "      <th>bmi</th>\n",
       "      <th>bp</th>\n",
       "      <th>s1</th>\n",
       "      <th>s2</th>\n",
       "      <th>s3</th>\n",
       "      <th>s4</th>\n",
       "      <th>s5</th>\n",
       "      <th>s6</th>\n",
       "    </tr>\n",
       "  </thead>\n",
       "  <tbody>\n",
       "    <tr>\n",
       "      <th>count</th>\n",
       "      <td>4.420000e+02</td>\n",
       "      <td>4.420000e+02</td>\n",
       "      <td>4.420000e+02</td>\n",
       "      <td>4.420000e+02</td>\n",
       "      <td>4.420000e+02</td>\n",
       "      <td>4.420000e+02</td>\n",
       "      <td>4.420000e+02</td>\n",
       "      <td>4.420000e+02</td>\n",
       "      <td>4.420000e+02</td>\n",
       "      <td>4.420000e+02</td>\n",
       "    </tr>\n",
       "    <tr>\n",
       "      <th>mean</th>\n",
       "      <td>-3.639623e-16</td>\n",
       "      <td>1.309912e-16</td>\n",
       "      <td>-8.013951e-16</td>\n",
       "      <td>1.289818e-16</td>\n",
       "      <td>-9.042540e-17</td>\n",
       "      <td>1.301121e-16</td>\n",
       "      <td>-4.563971e-16</td>\n",
       "      <td>3.863174e-16</td>\n",
       "      <td>-3.848103e-16</td>\n",
       "      <td>-3.398488e-16</td>\n",
       "    </tr>\n",
       "    <tr>\n",
       "      <th>std</th>\n",
       "      <td>4.761905e-02</td>\n",
       "      <td>4.761905e-02</td>\n",
       "      <td>4.761905e-02</td>\n",
       "      <td>4.761905e-02</td>\n",
       "      <td>4.761905e-02</td>\n",
       "      <td>4.761905e-02</td>\n",
       "      <td>4.761905e-02</td>\n",
       "      <td>4.761905e-02</td>\n",
       "      <td>4.761905e-02</td>\n",
       "      <td>4.761905e-02</td>\n",
       "    </tr>\n",
       "    <tr>\n",
       "      <th>min</th>\n",
       "      <td>-1.072256e-01</td>\n",
       "      <td>-4.464164e-02</td>\n",
       "      <td>-9.027530e-02</td>\n",
       "      <td>-1.123996e-01</td>\n",
       "      <td>-1.267807e-01</td>\n",
       "      <td>-1.156131e-01</td>\n",
       "      <td>-1.023071e-01</td>\n",
       "      <td>-7.639450e-02</td>\n",
       "      <td>-1.260974e-01</td>\n",
       "      <td>-1.377672e-01</td>\n",
       "    </tr>\n",
       "    <tr>\n",
       "      <th>25%</th>\n",
       "      <td>-3.729927e-02</td>\n",
       "      <td>-4.464164e-02</td>\n",
       "      <td>-3.422907e-02</td>\n",
       "      <td>-3.665645e-02</td>\n",
       "      <td>-3.424784e-02</td>\n",
       "      <td>-3.035840e-02</td>\n",
       "      <td>-3.511716e-02</td>\n",
       "      <td>-3.949338e-02</td>\n",
       "      <td>-3.324879e-02</td>\n",
       "      <td>-3.317903e-02</td>\n",
       "    </tr>\n",
       "    <tr>\n",
       "      <th>50%</th>\n",
       "      <td>5.383060e-03</td>\n",
       "      <td>-4.464164e-02</td>\n",
       "      <td>-7.283766e-03</td>\n",
       "      <td>-5.670611e-03</td>\n",
       "      <td>-4.320866e-03</td>\n",
       "      <td>-3.819065e-03</td>\n",
       "      <td>-6.584468e-03</td>\n",
       "      <td>-2.592262e-03</td>\n",
       "      <td>-1.947634e-03</td>\n",
       "      <td>-1.077698e-03</td>\n",
       "    </tr>\n",
       "    <tr>\n",
       "      <th>75%</th>\n",
       "      <td>3.807591e-02</td>\n",
       "      <td>5.068012e-02</td>\n",
       "      <td>3.124802e-02</td>\n",
       "      <td>3.564384e-02</td>\n",
       "      <td>2.835801e-02</td>\n",
       "      <td>2.984439e-02</td>\n",
       "      <td>2.931150e-02</td>\n",
       "      <td>3.430886e-02</td>\n",
       "      <td>3.243323e-02</td>\n",
       "      <td>2.791705e-02</td>\n",
       "    </tr>\n",
       "    <tr>\n",
       "      <th>max</th>\n",
       "      <td>1.107267e-01</td>\n",
       "      <td>5.068012e-02</td>\n",
       "      <td>1.705552e-01</td>\n",
       "      <td>1.320442e-01</td>\n",
       "      <td>1.539137e-01</td>\n",
       "      <td>1.987880e-01</td>\n",
       "      <td>1.811791e-01</td>\n",
       "      <td>1.852344e-01</td>\n",
       "      <td>1.335990e-01</td>\n",
       "      <td>1.356118e-01</td>\n",
       "    </tr>\n",
       "  </tbody>\n",
       "</table>\n",
       "</div>"
      ],
      "text/plain": [
       "                age           sex           bmi            bp            s1  \\\n",
       "count  4.420000e+02  4.420000e+02  4.420000e+02  4.420000e+02  4.420000e+02   \n",
       "mean  -3.639623e-16  1.309912e-16 -8.013951e-16  1.289818e-16 -9.042540e-17   \n",
       "std    4.761905e-02  4.761905e-02  4.761905e-02  4.761905e-02  4.761905e-02   \n",
       "min   -1.072256e-01 -4.464164e-02 -9.027530e-02 -1.123996e-01 -1.267807e-01   \n",
       "25%   -3.729927e-02 -4.464164e-02 -3.422907e-02 -3.665645e-02 -3.424784e-02   \n",
       "50%    5.383060e-03 -4.464164e-02 -7.283766e-03 -5.670611e-03 -4.320866e-03   \n",
       "75%    3.807591e-02  5.068012e-02  3.124802e-02  3.564384e-02  2.835801e-02   \n",
       "max    1.107267e-01  5.068012e-02  1.705552e-01  1.320442e-01  1.539137e-01   \n",
       "\n",
       "                 s2            s3            s4            s5            s6  \n",
       "count  4.420000e+02  4.420000e+02  4.420000e+02  4.420000e+02  4.420000e+02  \n",
       "mean   1.301121e-16 -4.563971e-16  3.863174e-16 -3.848103e-16 -3.398488e-16  \n",
       "std    4.761905e-02  4.761905e-02  4.761905e-02  4.761905e-02  4.761905e-02  \n",
       "min   -1.156131e-01 -1.023071e-01 -7.639450e-02 -1.260974e-01 -1.377672e-01  \n",
       "25%   -3.035840e-02 -3.511716e-02 -3.949338e-02 -3.324879e-02 -3.317903e-02  \n",
       "50%   -3.819065e-03 -6.584468e-03 -2.592262e-03 -1.947634e-03 -1.077698e-03  \n",
       "75%    2.984439e-02  2.931150e-02  3.430886e-02  3.243323e-02  2.791705e-02  \n",
       "max    1.987880e-01  1.811791e-01  1.852344e-01  1.335990e-01  1.356118e-01  "
      ]
     },
     "execution_count": 9,
     "metadata": {},
     "output_type": "execute_result"
    }
   ],
   "source": [
    "df.describe()"
   ]
  },
  {
   "cell_type": "code",
   "execution_count": 10,
   "id": "96d1c2b0",
   "metadata": {},
   "outputs": [
    {
     "data": {
      "text/html": [
       "<div>\n",
       "<style scoped>\n",
       "    .dataframe tbody tr th:only-of-type {\n",
       "        vertical-align: middle;\n",
       "    }\n",
       "\n",
       "    .dataframe tbody tr th {\n",
       "        vertical-align: top;\n",
       "    }\n",
       "\n",
       "    .dataframe thead th {\n",
       "        text-align: right;\n",
       "    }\n",
       "</style>\n",
       "<table border=\"1\" class=\"dataframe\">\n",
       "  <thead>\n",
       "    <tr style=\"text-align: right;\">\n",
       "      <th></th>\n",
       "      <th>age</th>\n",
       "      <th>sex</th>\n",
       "      <th>bmi</th>\n",
       "      <th>bp</th>\n",
       "      <th>s1</th>\n",
       "      <th>s2</th>\n",
       "      <th>s3</th>\n",
       "      <th>s4</th>\n",
       "      <th>s5</th>\n",
       "      <th>s6</th>\n",
       "    </tr>\n",
       "  </thead>\n",
       "  <tbody>\n",
       "    <tr>\n",
       "      <th>0</th>\n",
       "      <td>0.038076</td>\n",
       "      <td>0.050680</td>\n",
       "      <td>0.061696</td>\n",
       "      <td>0.021872</td>\n",
       "      <td>-0.044223</td>\n",
       "      <td>-0.034821</td>\n",
       "      <td>-0.043401</td>\n",
       "      <td>-0.002592</td>\n",
       "      <td>0.019908</td>\n",
       "      <td>-0.017646</td>\n",
       "    </tr>\n",
       "    <tr>\n",
       "      <th>1</th>\n",
       "      <td>-0.001882</td>\n",
       "      <td>-0.044642</td>\n",
       "      <td>-0.051474</td>\n",
       "      <td>-0.026328</td>\n",
       "      <td>-0.008449</td>\n",
       "      <td>-0.019163</td>\n",
       "      <td>0.074412</td>\n",
       "      <td>-0.039493</td>\n",
       "      <td>-0.068330</td>\n",
       "      <td>-0.092204</td>\n",
       "    </tr>\n",
       "    <tr>\n",
       "      <th>2</th>\n",
       "      <td>0.085299</td>\n",
       "      <td>0.050680</td>\n",
       "      <td>0.044451</td>\n",
       "      <td>-0.005671</td>\n",
       "      <td>-0.045599</td>\n",
       "      <td>-0.034194</td>\n",
       "      <td>-0.032356</td>\n",
       "      <td>-0.002592</td>\n",
       "      <td>0.002864</td>\n",
       "      <td>-0.025930</td>\n",
       "    </tr>\n",
       "    <tr>\n",
       "      <th>3</th>\n",
       "      <td>-0.089063</td>\n",
       "      <td>-0.044642</td>\n",
       "      <td>-0.011595</td>\n",
       "      <td>-0.036656</td>\n",
       "      <td>0.012191</td>\n",
       "      <td>0.024991</td>\n",
       "      <td>-0.036038</td>\n",
       "      <td>0.034309</td>\n",
       "      <td>0.022692</td>\n",
       "      <td>-0.009362</td>\n",
       "    </tr>\n",
       "    <tr>\n",
       "      <th>4</th>\n",
       "      <td>0.005383</td>\n",
       "      <td>-0.044642</td>\n",
       "      <td>-0.036385</td>\n",
       "      <td>0.021872</td>\n",
       "      <td>0.003935</td>\n",
       "      <td>0.015596</td>\n",
       "      <td>0.008142</td>\n",
       "      <td>-0.002592</td>\n",
       "      <td>-0.031991</td>\n",
       "      <td>-0.046641</td>\n",
       "    </tr>\n",
       "  </tbody>\n",
       "</table>\n",
       "</div>"
      ],
      "text/plain": [
       "        age       sex       bmi        bp        s1        s2        s3  \\\n",
       "0  0.038076  0.050680  0.061696  0.021872 -0.044223 -0.034821 -0.043401   \n",
       "1 -0.001882 -0.044642 -0.051474 -0.026328 -0.008449 -0.019163  0.074412   \n",
       "2  0.085299  0.050680  0.044451 -0.005671 -0.045599 -0.034194 -0.032356   \n",
       "3 -0.089063 -0.044642 -0.011595 -0.036656  0.012191  0.024991 -0.036038   \n",
       "4  0.005383 -0.044642 -0.036385  0.021872  0.003935  0.015596  0.008142   \n",
       "\n",
       "         s4        s5        s6  \n",
       "0 -0.002592  0.019908 -0.017646  \n",
       "1 -0.039493 -0.068330 -0.092204  \n",
       "2 -0.002592  0.002864 -0.025930  \n",
       "3  0.034309  0.022692 -0.009362  \n",
       "4 -0.002592 -0.031991 -0.046641  "
      ]
     },
     "execution_count": 10,
     "metadata": {},
     "output_type": "execute_result"
    }
   ],
   "source": [
    "df.head()"
   ]
  },
  {
   "cell_type": "markdown",
   "id": "76b0f82c",
   "metadata": {},
   "source": [
    "### Data Split\n",
    "- sklearn.model_selection의 train_test_split 함수를 이용해 데이터를 나눔."
   ]
  },
  {
   "cell_type": "code",
   "execution_count": null,
   "id": "218975dc",
   "metadata": {},
   "outputs": [],
   "source": [
    "train_test_split(\n",
    "    *arrays,\n",
    "    test_size = None,\n",
    "    train_size = None,\n",
    "    random_state = None,\n",
    "    shuffle = True,\n",
    "    stratify = None,\n",
    ")"
   ]
  },
  {
   "cell_type": "markdown",
   "id": "ef2a1863",
   "metadata": {},
   "source": [
    "- *arrays: 입력은 array로 이루어진 데이터를 받습니다.\n",
    "- test_size: test로 사용될 데이터의 사이즈를 정합니다.\n",
    "- train_size: train으로 사용될 데이터의 사이즈를 정합니다.\n",
    "- random_state: 다음에도 같은 값을 얻기 위해 난수를 고정.\n",
    "- shuffle: 데이터를 섞을지 말지 결정.\n",
    "- stratify: 데이터를 나눌 때 정답의 분포를 반영."
   ]
  },
  {
   "cell_type": "code",
   "execution_count": 12,
   "id": "70eab453",
   "metadata": {},
   "outputs": [],
   "source": [
    "from sklearn.model_selection import train_test_split\n",
    "\n",
    "# 나눌 dataset과 target을 parameter로 입력.\n",
    "train_data, test_data, train_target, test_target = train_test_split(data, target, test_size=0.3)"
   ]
  },
  {
   "cell_type": "markdown",
   "id": "f9098715",
   "metadata": {},
   "source": [
    "- train과 test를 7:3의 비율로 나눔.\n",
    "- 실제로 확인해보기."
   ]
  },
  {
   "cell_type": "code",
   "execution_count": 13,
   "id": "6db24df9",
   "metadata": {},
   "outputs": [
    {
     "data": {
      "text/plain": [
       "(442, 309, 133)"
      ]
     },
     "execution_count": 13,
     "metadata": {},
     "output_type": "execute_result"
    }
   ],
   "source": [
    "len(data), len(train_data), len(test_data)"
   ]
  },
  {
   "cell_type": "code",
   "execution_count": 16,
   "id": "27fd02fc",
   "metadata": {},
   "outputs": [
    {
     "name": "stdout",
     "output_type": "stream",
     "text": [
      "train ratio : 0.70\n",
      "test ratio : 0.30\n"
     ]
    }
   ],
   "source": [
    "print('train ratio : {:.2f}'.format(len(train_data)/len(data)))\n",
    "print('test ratio : {:.2f}'.format(len(test_data)/len(data)))"
   ]
  },
  {
   "cell_type": "markdown",
   "id": "1d57cc89",
   "metadata": {},
   "source": [
    "## 2. Multivariate Regression"
   ]
  },
  {
   "cell_type": "markdown",
   "id": "f69c98f7",
   "metadata": {},
   "source": [
    "### 2.1 학습"
   ]
  },
  {
   "cell_type": "code",
   "execution_count": 17,
   "id": "5f3d9f6b",
   "metadata": {},
   "outputs": [
    {
     "data": {
      "text/plain": [
       "LinearRegression()"
      ]
     },
     "execution_count": 17,
     "metadata": {},
     "output_type": "execute_result"
    }
   ],
   "source": [
    "from sklearn.linear_model import LinearRegression\n",
    "\n",
    "multi_regressor = LinearRegression()\n",
    "multi_regressor.fit(train_data, train_target)"
   ]
  },
  {
   "cell_type": "markdown",
   "id": "cb7a5e63",
   "metadata": {},
   "source": [
    "### 2.2 회귀식 확인"
   ]
  },
  {
   "cell_type": "code",
   "execution_count": 18,
   "id": "378c696a",
   "metadata": {},
   "outputs": [
    {
     "data": {
      "text/plain": [
       "147.71524417759434"
      ]
     },
     "execution_count": 18,
     "metadata": {},
     "output_type": "execute_result"
    }
   ],
   "source": [
    "multi_regressor.intercept_"
   ]
  },
  {
   "cell_type": "code",
   "execution_count": 19,
   "id": "e62bf2fe",
   "metadata": {},
   "outputs": [
    {
     "data": {
      "text/plain": [
       "array([  15.28529701, -218.59128442,  545.19999487,  263.6592052 ,\n",
       "       -582.66349612,  317.33684049,   48.53542723,  215.51374612,\n",
       "        655.7965519 ,   64.04030953])"
      ]
     },
     "execution_count": 19,
     "metadata": {},
     "output_type": "execute_result"
    }
   ],
   "source": [
    "multi_regressor.coef_"
   ]
  },
  {
   "cell_type": "markdown",
   "id": "c5bc7456",
   "metadata": {},
   "source": [
    "### 2.3 예측"
   ]
  },
  {
   "cell_type": "code",
   "execution_count": 20,
   "id": "6824a680",
   "metadata": {},
   "outputs": [],
   "source": [
    "multi_train_pred = multi_regressor.predict(train_data)\n",
    "multi_test_pred = multi_regressor.predict(test_data)"
   ]
  },
  {
   "cell_type": "markdown",
   "id": "a0379991",
   "metadata": {},
   "source": [
    "### 2.4 평가\n",
    "\n",
    "- 평가는 sklearn.metrics와 mean_squared_error를 이용."
   ]
  },
  {
   "cell_type": "code",
   "execution_count": 23,
   "id": "dd86b8dd",
   "metadata": {},
   "outputs": [],
   "source": [
    "from sklearn.metrics import mean_squared_error\n",
    "\n",
    "multi_train_mse = mean_squared_error(multi_train_pred, train_target)\n",
    "multi_test_mse = mean_squared_error(multi_test_pred, test_target)"
   ]
  },
  {
   "cell_type": "code",
   "execution_count": 24,
   "id": "2073e0ec",
   "metadata": {},
   "outputs": [
    {
     "name": "stdout",
     "output_type": "stream",
     "text": [
      "Multi Regression Train MSE is 3034.2623\n",
      "Multi Regression Test MSE is 2562.2750\n"
     ]
    }
   ],
   "source": [
    "print(f'Multi Regression Train MSE is {multi_train_mse:.4f}')\n",
    "print(f'Multi Regression Test MSE is {multi_test_mse:.4f}')"
   ]
  },
  {
   "cell_type": "markdown",
   "id": "e30d0488",
   "metadata": {},
   "source": [
    "## 3. Ridge Regression"
   ]
  },
  {
   "cell_type": "markdown",
   "id": "fcf067dd",
   "metadata": {},
   "source": [
    "### 3.1 학습"
   ]
  },
  {
   "cell_type": "code",
   "execution_count": 25,
   "id": "134cc381",
   "metadata": {},
   "outputs": [
    {
     "data": {
      "text/plain": [
       "Ridge()"
      ]
     },
     "execution_count": 25,
     "metadata": {},
     "output_type": "execute_result"
    }
   ],
   "source": [
    "from sklearn.linear_model import Ridge\n",
    "\n",
    "ridge_regressor = Ridge()\n",
    "ridge_regressor.fit(train_data, train_target)"
   ]
  },
  {
   "cell_type": "markdown",
   "id": "6c93355a",
   "metadata": {},
   "source": [
    "### 3.2 회귀식 확인"
   ]
  },
  {
   "cell_type": "code",
   "execution_count": 26,
   "id": "9a7f6b32",
   "metadata": {},
   "outputs": [
    {
     "data": {
      "text/plain": [
       "147.74060119766182"
      ]
     },
     "execution_count": 26,
     "metadata": {},
     "output_type": "execute_result"
    }
   ],
   "source": [
    "ridge_regressor.intercept_"
   ]
  },
  {
   "cell_type": "code",
   "execution_count": 28,
   "id": "95bbc9c9",
   "metadata": {},
   "outputs": [
    {
     "data": {
      "text/plain": [
       "array([  15.28529701, -218.59128442,  545.19999487,  263.6592052 ,\n",
       "       -582.66349612,  317.33684049,   48.53542723,  215.51374612,\n",
       "        655.7965519 ,   64.04030953])"
      ]
     },
     "execution_count": 28,
     "metadata": {},
     "output_type": "execute_result"
    }
   ],
   "source": [
    "# 비교\n",
    "multi_regressor.coef_"
   ]
  },
  {
   "cell_type": "markdown",
   "id": "5b2a273a",
   "metadata": {},
   "source": [
    "- multi_regressor에는 545, 655와 같은 큰 값이 있음."
   ]
  },
  {
   "cell_type": "code",
   "execution_count": 27,
   "id": "47748a78",
   "metadata": {},
   "outputs": [
    {
     "data": {
      "text/plain": [
       "array([  46.89201977,  -55.64009506,  270.71747699,  158.68867814,\n",
       "         23.59440223,  -11.13019705, -130.05870493,  122.00237806,\n",
       "        225.92117758,  107.08728777])"
      ]
     },
     "execution_count": 27,
     "metadata": {},
     "output_type": "execute_result"
    }
   ],
   "source": [
    "ridge_regressor.coef_"
   ]
  },
  {
   "cell_type": "markdown",
   "id": "c900b334",
   "metadata": {},
   "source": [
    "### 3.3 예측"
   ]
  },
  {
   "cell_type": "code",
   "execution_count": 29,
   "id": "9786caf8",
   "metadata": {},
   "outputs": [],
   "source": [
    "ridge_train_pred = ridge_regressor.predict(train_data)\n",
    "ridge_test_pred = ridge_regressor.predict(test_data)"
   ]
  },
  {
   "cell_type": "markdown",
   "id": "c8ac30c7",
   "metadata": {},
   "source": [
    "### 3.4 평가"
   ]
  },
  {
   "cell_type": "code",
   "execution_count": 31,
   "id": "6e3e0f13",
   "metadata": {},
   "outputs": [],
   "source": [
    "ridge_train_mse = mean_squared_error(ridge_train_pred, train_target)\n",
    "ridge_test_mse = mean_squared_error(ridge_test_pred, test_target)"
   ]
  },
  {
   "cell_type": "code",
   "execution_count": 32,
   "id": "879c641c",
   "metadata": {},
   "outputs": [
    {
     "name": "stdout",
     "output_type": "stream",
     "text": [
      "Ridge Regression Train MSE is 3556.1983\n",
      "Ridge Regression Test MSE is 3200.4051\n"
     ]
    }
   ],
   "source": [
    "print(f'Ridge Regression Train MSE is {ridge_train_mse:.4f}')\n",
    "print(f'Ridge Regression Test MSE is {ridge_test_mse:.4f}')"
   ]
  },
  {
   "cell_type": "markdown",
   "id": "5203b4f1",
   "metadata": {},
   "source": [
    "## 4. LASSO Regression"
   ]
  },
  {
   "cell_type": "markdown",
   "id": "db3c509d",
   "metadata": {},
   "source": [
    "### 4.1 학습"
   ]
  },
  {
   "cell_type": "code",
   "execution_count": 33,
   "id": "2416c696",
   "metadata": {},
   "outputs": [
    {
     "data": {
      "text/plain": [
       "Lasso()"
      ]
     },
     "execution_count": 33,
     "metadata": {},
     "output_type": "execute_result"
    }
   ],
   "source": [
    "from sklearn.linear_model import Lasso\n",
    "\n",
    "lasso_regressor = Lasso()\n",
    "lasso_regressor.fit(train_data, train_target)"
   ]
  },
  {
   "cell_type": "markdown",
   "id": "83544437",
   "metadata": {},
   "source": [
    "### 4.2 회귀식 확인"
   ]
  },
  {
   "cell_type": "code",
   "execution_count": 35,
   "id": "0e9c8c17",
   "metadata": {},
   "outputs": [
    {
     "data": {
      "text/plain": [
       "148.13825690433762"
      ]
     },
     "execution_count": 35,
     "metadata": {},
     "output_type": "execute_result"
    }
   ],
   "source": [
    "lasso_regressor.intercept_"
   ]
  },
  {
   "cell_type": "code",
   "execution_count": 36,
   "id": "35d08afe",
   "metadata": {},
   "outputs": [
    {
     "data": {
      "text/plain": [
       "array([  0.        ,   0.        , 377.69541767,   0.        ,\n",
       "         0.        ,   0.        ,  -0.        ,   0.        ,\n",
       "       316.05550058,   0.        ])"
      ]
     },
     "execution_count": 36,
     "metadata": {},
     "output_type": "execute_result"
    }
   ],
   "source": [
    "lasso_regressor.coef_"
   ]
  },
  {
   "cell_type": "markdown",
   "id": "a92c7be0",
   "metadata": {},
   "source": [
    "- 여러 변수들이 0이 되어있는 것을 확인.\n",
    "- 이 때, 어떤 변수들이 선택되었는지 (0이 아닌지) 를 확인."
   ]
  },
  {
   "cell_type": "code",
   "execution_count": 37,
   "id": "e96b68a1",
   "metadata": {},
   "outputs": [
    {
     "data": {
      "text/plain": [
       "array(['bmi', 's5'], dtype='<U3')"
      ]
     },
     "execution_count": 37,
     "metadata": {},
     "output_type": "execute_result"
    }
   ],
   "source": [
    "np.array(diabetes['feature_names'])[lasso_regressor.coef_ != 0]"
   ]
  },
  {
   "cell_type": "markdown",
   "id": "83309bd4",
   "metadata": {},
   "source": [
    "### 4.3 예측"
   ]
  },
  {
   "cell_type": "code",
   "execution_count": 38,
   "id": "79653c11",
   "metadata": {},
   "outputs": [],
   "source": [
    "lasso_train_pred = lasso_regressor.predict(train_data)\n",
    "lasso_test_pred = lasso_regressor.predict(test_data)"
   ]
  },
  {
   "cell_type": "markdown",
   "id": "f16b1a02",
   "metadata": {},
   "source": [
    "### 4.4 평가"
   ]
  },
  {
   "cell_type": "code",
   "execution_count": 39,
   "id": "2ba3e622",
   "metadata": {},
   "outputs": [],
   "source": [
    "lasso_train_mse = mean_squared_error(lasso_train_pred, train_target)\n",
    "lasso_test_mse = mean_squared_error(lasso_test_pred, test_target)"
   ]
  },
  {
   "cell_type": "code",
   "execution_count": 40,
   "id": "f9f5416f",
   "metadata": {},
   "outputs": [
    {
     "name": "stdout",
     "output_type": "stream",
     "text": [
      "LASSO Regression Train MSE is 3897.9528\n",
      "LASSO Regression Test MSE is 3581.6843\n"
     ]
    }
   ],
   "source": [
    "print(f'LASSO Regression Train MSE is {lasso_train_mse:.4f}')\n",
    "print(f'LASSO Regression Test MSE is {lasso_test_mse:.4f}')"
   ]
  },
  {
   "cell_type": "markdown",
   "id": "7d3bfa79",
   "metadata": {},
   "source": [
    "## 5. 마무리"
   ]
  },
  {
   "cell_type": "markdown",
   "id": "bf451670",
   "metadata": {},
   "source": [
    "### 5.1 평가"
   ]
  },
  {
   "cell_type": "code",
   "execution_count": 42,
   "id": "b7d64b3f",
   "metadata": {},
   "outputs": [
    {
     "name": "stdout",
     "output_type": "stream",
     "text": [
      "Multi Regression Test MSE is 2562.2750\n",
      "Ridge Regression Test MSE is 3200.4051\n",
      "LASSO Regression Test MSE is 3581.6843\n"
     ]
    }
   ],
   "source": [
    "print(f'Multi Regression Test MSE is {multi_test_mse:.4f}')\n",
    "print(f'Ridge Regression Test MSE is {ridge_test_mse:.4f}')\n",
    "print(f'LASSO Regression Test MSE is {lasso_test_mse:.4f}')"
   ]
  },
  {
   "cell_type": "markdown",
   "id": "44b4ad0b",
   "metadata": {},
   "source": [
    "- Multi Regresison이 예측을 가장 잘했음."
   ]
  },
  {
   "cell_type": "markdown",
   "id": "c905b6a1",
   "metadata": {},
   "source": [
    "### 5.2 예측값과 실제값의 관계 Plot"
   ]
  },
  {
   "cell_type": "code",
   "execution_count": 47,
   "id": "f764dbfa",
   "metadata": {},
   "outputs": [
    {
     "data": {
      "image/png": "[encoded data removed]",
      "text/plain": [
       "<Figure size 1080x360 with 3 Axes>"
      ]
     },
     "metadata": {
      "needs_background": "light"
     },
     "output_type": "display_data"
    }
   ],
   "source": [
    "fig, axes = plt.subplots(nrows=1, ncols=3, figsize=(15, 5))\n",
    "preds = [\n",
    "    ('Multi regression', multi_test_pred),\n",
    "    ('Ridge regression', ridge_test_pred),\n",
    "    ('LASSO regression', lasso_test_pred),\n",
    "]\n",
    "\n",
    "for idx, (name, test_pred) in enumerate(preds):\n",
    "    ax = axes[idx]\n",
    "    ax.scatter(test_pred, test_target)\n",
    "    ax.plot(np.linspace(0, 330, 100), np.linspace(0, 330, 100), color='red')\n",
    "    ax.set_xlabel('Predict')\n",
    "    ax.set_ylabel('Read')\n",
    "    ax.set_title(name)"
   ]
  },
  {
   "cell_type": "markdown",
   "id": "1d989471",
   "metadata": {},
   "source": [
    "- 가로축: 예측값, 세로축: 실제값"
   ]
  },
  {
   "cell_type": "code",
   "execution_count": null,
   "id": "c5d8f324",
   "metadata": {},
   "outputs": [],
   "source": []
  }
 ],
 "metadata": {
  "kernelspec": {
   "display_name": "Python 3 (ipykernel)",
   "language": "python",
   "name": "python3"
  },
  "language_info": {
   "codemirror_mode": {
    "name": "ipython",
    "version": 3
   },
   "file_extension": ".py",
   "mimetype": "text/x-python",
   "name": "python",
   "nbconvert_exporter": "python",
   "pygments_lexer": "ipython3",
   "version": "3.8.6"
  }
 },
 "nbformat": 4,
 "nbformat_minor": 5
}
