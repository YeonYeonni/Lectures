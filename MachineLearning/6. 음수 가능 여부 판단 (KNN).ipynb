{
 "cells": [
  {
   "cell_type": "markdown",
   "id": "012804aa",
   "metadata": {},
   "source": [
    "## KNN으로 음수 가능 여부를 판단하기"
   ]
  },
  {
   "cell_type": "code",
   "execution_count": 1,
   "id": "ad4ff1d6",
   "metadata": {},
   "outputs": [],
   "source": [
    "import pandas as pd\n",
    "import numpy as np\n",
    "import matplotlib.pyplot as plt\n",
    "\n",
    "np.random.seed(2021)"
   ]
  },
  {
   "cell_type": "markdown",
   "id": "31b02bd7",
   "metadata": {},
   "source": [
    "## 1. Data"
   ]
  },
  {
   "cell_type": "markdown",
   "id": "e56edfe1",
   "metadata": {},
   "source": [
    "### 1.1 Data Load"
   ]
  },
  {
   "cell_type": "code",
   "execution_count": 2,
   "id": "e0d95f63",
   "metadata": {},
   "outputs": [],
   "source": [
    "water = pd.read_csv('water_potability.csv')"
   ]
  },
  {
   "cell_type": "code",
   "execution_count": 3,
   "id": "987e35f8",
   "metadata": {},
   "outputs": [],
   "source": [
    "data = water.drop(['Potability'], axis=1)\n",
    "label = water['Potability']"
   ]
  },
  {
   "cell_type": "markdown",
   "id": "26b47d65",
   "metadata": {},
   "source": [
    "### 1.2 Data EDA"
   ]
  },
  {
   "cell_type": "markdown",
   "id": "4985ec72",
   "metadata": {},
   "source": [
    "- count를 확인하면, count들이 다른 것을 확인할 수 있음."
   ]
  },
  {
   "cell_type": "code",
   "execution_count": 4,
   "id": "168950c5",
   "metadata": {},
   "outputs": [
    {
     "data": {
      "text/html": [
       "<div>\n",
       "<style scoped>\n",
       "    .dataframe tbody tr th:only-of-type {\n",
       "        vertical-align: middle;\n",
       "    }\n",
       "\n",
       "    .dataframe tbody tr th {\n",
       "        vertical-align: top;\n",
       "    }\n",
       "\n",
       "    .dataframe thead th {\n",
       "        text-align: right;\n",
       "    }\n",
       "</style>\n",
       "<table border=\"1\" class=\"dataframe\">\n",
       "  <thead>\n",
       "    <tr style=\"text-align: right;\">\n",
       "      <th></th>\n",
       "      <th>ph</th>\n",
       "      <th>Hardness</th>\n",
       "      <th>Solids</th>\n",
       "      <th>Chloramines</th>\n",
       "      <th>Sulfate</th>\n",
       "      <th>Conductivity</th>\n",
       "      <th>Organic_carbon</th>\n",
       "      <th>Trihalomethanes</th>\n",
       "      <th>Turbidity</th>\n",
       "    </tr>\n",
       "  </thead>\n",
       "  <tbody>\n",
       "    <tr>\n",
       "      <th>count</th>\n",
       "      <td>2785.000000</td>\n",
       "      <td>3276.000000</td>\n",
       "      <td>3276.000000</td>\n",
       "      <td>3276.000000</td>\n",
       "      <td>2495.000000</td>\n",
       "      <td>3276.000000</td>\n",
       "      <td>3276.000000</td>\n",
       "      <td>3114.000000</td>\n",
       "      <td>3276.000000</td>\n",
       "    </tr>\n",
       "    <tr>\n",
       "      <th>mean</th>\n",
       "      <td>7.080795</td>\n",
       "      <td>196.369496</td>\n",
       "      <td>22014.092526</td>\n",
       "      <td>7.122277</td>\n",
       "      <td>333.775777</td>\n",
       "      <td>426.205111</td>\n",
       "      <td>14.284970</td>\n",
       "      <td>66.396293</td>\n",
       "      <td>3.966786</td>\n",
       "    </tr>\n",
       "    <tr>\n",
       "      <th>std</th>\n",
       "      <td>1.594320</td>\n",
       "      <td>32.879761</td>\n",
       "      <td>8768.570828</td>\n",
       "      <td>1.583085</td>\n",
       "      <td>41.416840</td>\n",
       "      <td>80.824064</td>\n",
       "      <td>3.308162</td>\n",
       "      <td>16.175008</td>\n",
       "      <td>0.780382</td>\n",
       "    </tr>\n",
       "    <tr>\n",
       "      <th>min</th>\n",
       "      <td>0.000000</td>\n",
       "      <td>47.432000</td>\n",
       "      <td>320.942611</td>\n",
       "      <td>0.352000</td>\n",
       "      <td>129.000000</td>\n",
       "      <td>181.483754</td>\n",
       "      <td>2.200000</td>\n",
       "      <td>0.738000</td>\n",
       "      <td>1.450000</td>\n",
       "    </tr>\n",
       "    <tr>\n",
       "      <th>25%</th>\n",
       "      <td>6.093092</td>\n",
       "      <td>176.850538</td>\n",
       "      <td>15666.690297</td>\n",
       "      <td>6.127421</td>\n",
       "      <td>307.699498</td>\n",
       "      <td>365.734414</td>\n",
       "      <td>12.065801</td>\n",
       "      <td>55.844536</td>\n",
       "      <td>3.439711</td>\n",
       "    </tr>\n",
       "    <tr>\n",
       "      <th>50%</th>\n",
       "      <td>7.036752</td>\n",
       "      <td>196.967627</td>\n",
       "      <td>20927.833607</td>\n",
       "      <td>7.130299</td>\n",
       "      <td>333.073546</td>\n",
       "      <td>421.884968</td>\n",
       "      <td>14.218338</td>\n",
       "      <td>66.622485</td>\n",
       "      <td>3.955028</td>\n",
       "    </tr>\n",
       "    <tr>\n",
       "      <th>75%</th>\n",
       "      <td>8.062066</td>\n",
       "      <td>216.667456</td>\n",
       "      <td>27332.762127</td>\n",
       "      <td>8.114887</td>\n",
       "      <td>359.950170</td>\n",
       "      <td>481.792304</td>\n",
       "      <td>16.557652</td>\n",
       "      <td>77.337473</td>\n",
       "      <td>4.500320</td>\n",
       "    </tr>\n",
       "    <tr>\n",
       "      <th>max</th>\n",
       "      <td>14.000000</td>\n",
       "      <td>323.124000</td>\n",
       "      <td>61227.196008</td>\n",
       "      <td>13.127000</td>\n",
       "      <td>481.030642</td>\n",
       "      <td>753.342620</td>\n",
       "      <td>28.300000</td>\n",
       "      <td>124.000000</td>\n",
       "      <td>6.739000</td>\n",
       "    </tr>\n",
       "  </tbody>\n",
       "</table>\n",
       "</div>"
      ],
      "text/plain": [
       "                ph     Hardness        Solids  Chloramines      Sulfate  \\\n",
       "count  2785.000000  3276.000000   3276.000000  3276.000000  2495.000000   \n",
       "mean      7.080795   196.369496  22014.092526     7.122277   333.775777   \n",
       "std       1.594320    32.879761   8768.570828     1.583085    41.416840   \n",
       "min       0.000000    47.432000    320.942611     0.352000   129.000000   \n",
       "25%       6.093092   176.850538  15666.690297     6.127421   307.699498   \n",
       "50%       7.036752   196.967627  20927.833607     7.130299   333.073546   \n",
       "75%       8.062066   216.667456  27332.762127     8.114887   359.950170   \n",
       "max      14.000000   323.124000  61227.196008    13.127000   481.030642   \n",
       "\n",
       "       Conductivity  Organic_carbon  Trihalomethanes    Turbidity  \n",
       "count   3276.000000     3276.000000      3114.000000  3276.000000  \n",
       "mean     426.205111       14.284970        66.396293     3.966786  \n",
       "std       80.824064        3.308162        16.175008     0.780382  \n",
       "min      181.483754        2.200000         0.738000     1.450000  \n",
       "25%      365.734414       12.065801        55.844536     3.439711  \n",
       "50%      421.884968       14.218338        66.622485     3.955028  \n",
       "75%      481.792304       16.557652        77.337473     4.500320  \n",
       "max      753.342620       28.300000       124.000000     6.739000  "
      ]
     },
     "execution_count": 4,
     "metadata": {},
     "output_type": "execute_result"
    }
   ],
   "source": [
    "data.describe()"
   ]
  },
  {
   "cell_type": "markdown",
   "id": "d07f01b1",
   "metadata": {},
   "source": [
    "- 결측치가 있다는 것을 알 수 있음."
   ]
  },
  {
   "cell_type": "code",
   "execution_count": 5,
   "id": "2fbdf830",
   "metadata": {},
   "outputs": [
    {
     "data": {
      "text/plain": [
       "ph                 491\n",
       "Hardness             0\n",
       "Solids               0\n",
       "Chloramines          0\n",
       "Sulfate            781\n",
       "Conductivity         0\n",
       "Organic_carbon       0\n",
       "Trihalomethanes    162\n",
       "Turbidity            0\n",
       "dtype: int64"
      ]
     },
     "execution_count": 5,
     "metadata": {},
     "output_type": "execute_result"
    }
   ],
   "source": [
    "data.isna().sum()"
   ]
  },
  {
   "cell_type": "markdown",
   "id": "0afbe25a",
   "metadata": {},
   "source": [
    "### 1.3 Data Preprocess"
   ]
  },
  {
   "cell_type": "markdown",
   "id": "7b0293b3",
   "metadata": {},
   "source": [
    "- 빈 데이터를 제거하는 전처리.\n",
    "    - row를 제거하는 방법과 column을 제거하는 방법."
   ]
  },
  {
   "cell_type": "markdown",
   "id": "44e384ad",
   "metadata": {},
   "source": [
    "#### 1.3.1 row를 제거하는 방법"
   ]
  },
  {
   "cell_type": "code",
   "execution_count": 6,
   "id": "42477f0d",
   "metadata": {},
   "outputs": [
    {
     "data": {
      "text/plain": [
       "0       1\n",
       "1       1\n",
       "2       1\n",
       "3       0\n",
       "4       0\n",
       "       ..\n",
       "3271    0\n",
       "3272    2\n",
       "3273    1\n",
       "3274    1\n",
       "3275    1\n",
       "Length: 3276, dtype: int64"
      ]
     },
     "execution_count": 6,
     "metadata": {},
     "output_type": "execute_result"
    }
   ],
   "source": [
    "na_cnt = data.isna().sum(axis=1)\n",
    "na_cnt"
   ]
  },
  {
   "cell_type": "code",
   "execution_count": 7,
   "id": "240cb6b8",
   "metadata": {},
   "outputs": [],
   "source": [
    "# 위 값이 0보다 크면 na값이 들어있다고 판단할 수 있음.\n",
    "drop_idx = na_cnt.loc[na_cnt > 0].index"
   ]
  },
  {
   "cell_type": "code",
   "execution_count": 9,
   "id": "70ce9730",
   "metadata": {},
   "outputs": [
    {
     "data": {
      "text/plain": [
       "Int64Index([   0,    1,    2,    8,   11,   13,   14,   16,   18,   20,\n",
       "            ...\n",
       "            3247, 3252, 3258, 3259, 3260, 3266, 3272, 3273, 3274, 3275],\n",
       "           dtype='int64', length=1265)"
      ]
     },
     "execution_count": 9,
     "metadata": {},
     "output_type": "execute_result"
    }
   ],
   "source": [
    "# 추출한 index값\n",
    "drop_idx"
   ]
  },
  {
   "cell_type": "code",
   "execution_count": 8,
   "id": "370a4bb7",
   "metadata": {},
   "outputs": [],
   "source": [
    "drop_row = data.drop(drop_idx, axis=0)"
   ]
  },
  {
   "cell_type": "code",
   "execution_count": 11,
   "id": "cc67bb6b",
   "metadata": {},
   "outputs": [
    {
     "data": {
      "text/plain": [
       "(2011, 9)"
      ]
     },
     "execution_count": 11,
     "metadata": {},
     "output_type": "execute_result"
    }
   ],
   "source": [
    "drop_row.shape"
   ]
  },
  {
   "cell_type": "code",
   "execution_count": 13,
   "id": "7bce9a8e",
   "metadata": {},
   "outputs": [
    {
     "data": {
      "text/plain": [
       "(3276, 9)"
      ]
     },
     "execution_count": 13,
     "metadata": {},
     "output_type": "execute_result"
    }
   ],
   "source": [
    "data.shape"
   ]
  },
  {
   "cell_type": "markdown",
   "id": "45b08fb3",
   "metadata": {},
   "source": [
    "#### 1.3.2 column을 제거하는 방법"
   ]
  },
  {
   "cell_type": "code",
   "execution_count": 14,
   "id": "43aee82d",
   "metadata": {},
   "outputs": [],
   "source": [
    "na_cnt = data.isna().sum()\n",
    "drop_cols = na_cnt.loc[na_cnt > 0].index"
   ]
  },
  {
   "cell_type": "code",
   "execution_count": 16,
   "id": "a3c2a088",
   "metadata": {},
   "outputs": [
    {
     "data": {
      "text/plain": [
       "Index(['ph', 'Sulfate', 'Trihalomethanes'], dtype='object')"
      ]
     },
     "execution_count": 16,
     "metadata": {},
     "output_type": "execute_result"
    }
   ],
   "source": [
    "# 결측치가 존재하는 column\n",
    "drop_cols"
   ]
  },
  {
   "cell_type": "code",
   "execution_count": 15,
   "id": "e1021073",
   "metadata": {},
   "outputs": [],
   "source": [
    "# 이번 실습에서는 column을 제거\n",
    "data = data.drop(drop_cols, axis=1)"
   ]
  },
  {
   "cell_type": "markdown",
   "id": "ae1572a2",
   "metadata": {},
   "source": [
    "### 1.4 Data Split\n",
    "\n",
    "- 데이터를 Train, Test로 나누기."
   ]
  },
  {
   "cell_type": "code",
   "execution_count": 17,
   "id": "edc42896",
   "metadata": {},
   "outputs": [],
   "source": [
    "from sklearn.model_selection import train_test_split\n",
    "\n",
    "train_data, test_data, train_label, test_label = train_test_split(\n",
    "    data, label, train_size=0.7, random_state=2021\n",
    ")"
   ]
  },
  {
   "cell_type": "code",
   "execution_count": 18,
   "id": "0ccf8000",
   "metadata": {},
   "outputs": [
    {
     "name": "stdout",
     "output_type": "stream",
     "text": [
      "train_data size: 2293, 0.70\n",
      "test_data size: 983, 0.30\n"
     ]
    }
   ],
   "source": [
    "print(f\"train_data size: {len(train_label)}, {len(train_label)/len(data):.2f}\")\n",
    "print(f\"test_data size: {len(test_label)}, {len(test_label)/len(data):.2f}\")"
   ]
  },
  {
   "cell_type": "markdown",
   "id": "ba38ee97",
   "metadata": {},
   "source": [
    "## 2. KNN"
   ]
  },
  {
   "cell_type": "code",
   "execution_count": 19,
   "id": "bd6e587b",
   "metadata": {},
   "outputs": [],
   "source": [
    "from sklearn.neighbors import KNeighborsClassifier\n",
    "\n",
    "knn = KNeighborsClassifier()"
   ]
  },
  {
   "cell_type": "markdown",
   "id": "ddb06b5a",
   "metadata": {},
   "source": [
    "### 2.1 Best Hyper Parameter\n",
    "\n",
    "- n_neighbors\n",
    "    - 몇 개의 이웃으로 예측할 것인지\n",
    "    \n",
    "- P\n",
    "    - 거리를 어떤 방식으로 계산할지.\n",
    "        - 1: manhattan distance\n",
    "        - 2: euclidean distance"
   ]
  },
  {
   "cell_type": "code",
   "execution_count": 20,
   "id": "4c41cb1c",
   "metadata": {},
   "outputs": [],
   "source": [
    "from sklearn.model_selection import GridSearchCV"
   ]
  },
  {
   "cell_type": "markdown",
   "id": "0e923118",
   "metadata": {},
   "source": [
    "### 2.1.1 탐색 범위 선정"
   ]
  },
  {
   "cell_type": "code",
   "execution_count": 25,
   "id": "8160bd4a",
   "metadata": {},
   "outputs": [],
   "source": [
    "params = {\n",
    "    'n_neighbors': [i for i in range(1, 12, 2)],\n",
    "    'p': [1, 2]\n",
    "}"
   ]
  },
  {
   "cell_type": "code",
   "execution_count": 26,
   "id": "04ec62af",
   "metadata": {},
   "outputs": [
    {
     "data": {
      "text/plain": [
       "{'n_neighbors': [1, 3, 5, 7, 9, 11], 'p': [1, 2]}"
      ]
     },
     "execution_count": 26,
     "metadata": {},
     "output_type": "execute_result"
    }
   ],
   "source": [
    "params"
   ]
  },
  {
   "cell_type": "markdown",
   "id": "0efadf81",
   "metadata": {},
   "source": [
    "### 2.1.2 탐색"
   ]
  },
  {
   "cell_type": "code",
   "execution_count": 27,
   "id": "b31bc6cb",
   "metadata": {},
   "outputs": [],
   "source": [
    "# n_jobs: 모든 resource를 사용하기.\n",
    "grid_cv = GridSearchCV(knn, param_grid=params, cv=3, n_jobs=-1)"
   ]
  },
  {
   "cell_type": "code",
   "execution_count": 28,
   "id": "76719da5",
   "metadata": {},
   "outputs": [
    {
     "data": {
      "text/plain": [
       "GridSearchCV(cv=3, estimator=KNeighborsClassifier(), n_jobs=-1,\n",
       "             param_grid={'n_neighbors': [1, 3, 5, 7, 9, 11], 'p': [1, 2]})"
      ]
     },
     "execution_count": 28,
     "metadata": {},
     "output_type": "execute_result"
    }
   ],
   "source": [
    "grid_cv.fit(train_data, train_label)"
   ]
  },
  {
   "cell_type": "markdown",
   "id": "21a7e585",
   "metadata": {},
   "source": [
    "### 2.1.3 결과"
   ]
  },
  {
   "cell_type": "code",
   "execution_count": 29,
   "id": "0c56a53f",
   "metadata": {},
   "outputs": [
    {
     "name": "stdout",
     "output_type": "stream",
     "text": [
      "Best score of parameter search is: 0.5652\n"
     ]
    }
   ],
   "source": [
    "print(f\"Best score of parameter search is: {grid_cv.best_score_:.4f}\")"
   ]
  },
  {
   "cell_type": "code",
   "execution_count": 31,
   "id": "89b73440",
   "metadata": {},
   "outputs": [
    {
     "data": {
      "text/plain": [
       "{'n_neighbors': 11, 'p': 1}"
      ]
     },
     "execution_count": 31,
     "metadata": {},
     "output_type": "execute_result"
    }
   ],
   "source": [
    "grid_cv.best_params_"
   ]
  },
  {
   "cell_type": "code",
   "execution_count": 30,
   "id": "25353757",
   "metadata": {},
   "outputs": [
    {
     "name": "stdout",
     "output_type": "stream",
     "text": [
      "Best parameter of best score is\n",
      "\t n_neighbors: 11\n",
      "\t p: 1\n"
     ]
    }
   ],
   "source": [
    "print('Best parameter of best score is')\n",
    "print(f\"\\t n_neighbors: {grid_cv.best_params_['n_neighbors']}\")\n",
    "print(f\"\\t p: {grid_cv.best_params_['p']}\")"
   ]
  },
  {
   "cell_type": "markdown",
   "id": "10d5ed97",
   "metadata": {},
   "source": [
    "### 2.1.4 예측"
   ]
  },
  {
   "cell_type": "code",
   "execution_count": 32,
   "id": "4d570d38",
   "metadata": {},
   "outputs": [],
   "source": [
    "train_pred = grid_cv.best_estimator_.predict(train_data)\n",
    "test_pred = grid_cv.best_estimator_.predict(test_data)"
   ]
  },
  {
   "cell_type": "markdown",
   "id": "bcac38f4",
   "metadata": {},
   "source": [
    "### 2.1.5 평가"
   ]
  },
  {
   "cell_type": "code",
   "execution_count": 33,
   "id": "e77f85f4",
   "metadata": {},
   "outputs": [],
   "source": [
    "from sklearn.metrics import accuracy_score\n",
    "\n",
    "train_acc = accuracy_score(train_label, train_pred)\n",
    "test_acc = accuracy_score(test_label, test_pred)"
   ]
  },
  {
   "cell_type": "code",
   "execution_count": 34,
   "id": "52f679cd",
   "metadata": {},
   "outputs": [
    {
     "name": "stdout",
     "output_type": "stream",
     "text": [
      "train accuracy is 0.6520\n",
      "test accuracy is 0.5595\n"
     ]
    }
   ],
   "source": [
    "print(f\"train accuracy is {train_acc:.4f}\")\n",
    "print(f\"test accuracy is {test_acc:.4f}\")"
   ]
  },
  {
   "cell_type": "markdown",
   "id": "19aba663",
   "metadata": {},
   "source": [
    "## 3. Scaling을 할 경우"
   ]
  },
  {
   "cell_type": "markdown",
   "id": "524a2380",
   "metadata": {},
   "source": [
    "### 3.1 Data Scaling\n",
    "\n",
    "- KNN은 거리를 기반으로 하는 알고리즘이기 때문에 크기에 영향을 받음.\n",
    "- Scaling을 진행해 크기를 맞추기."
   ]
  },
  {
   "cell_type": "code",
   "execution_count": 35,
   "id": "c19516f1",
   "metadata": {},
   "outputs": [
    {
     "data": {
      "text/html": [
       "<div>\n",
       "<style scoped>\n",
       "    .dataframe tbody tr th:only-of-type {\n",
       "        vertical-align: middle;\n",
       "    }\n",
       "\n",
       "    .dataframe tbody tr th {\n",
       "        vertical-align: top;\n",
       "    }\n",
       "\n",
       "    .dataframe thead th {\n",
       "        text-align: right;\n",
       "    }\n",
       "</style>\n",
       "<table border=\"1\" class=\"dataframe\">\n",
       "  <thead>\n",
       "    <tr style=\"text-align: right;\">\n",
       "      <th></th>\n",
       "      <th>Hardness</th>\n",
       "      <th>Solids</th>\n",
       "      <th>Chloramines</th>\n",
       "      <th>Conductivity</th>\n",
       "      <th>Organic_carbon</th>\n",
       "      <th>Turbidity</th>\n",
       "    </tr>\n",
       "  </thead>\n",
       "  <tbody>\n",
       "    <tr>\n",
       "      <th>count</th>\n",
       "      <td>3276.000000</td>\n",
       "      <td>3276.000000</td>\n",
       "      <td>3276.000000</td>\n",
       "      <td>3276.000000</td>\n",
       "      <td>3276.000000</td>\n",
       "      <td>3276.000000</td>\n",
       "    </tr>\n",
       "    <tr>\n",
       "      <th>mean</th>\n",
       "      <td>196.369496</td>\n",
       "      <td>22014.092526</td>\n",
       "      <td>7.122277</td>\n",
       "      <td>426.205111</td>\n",
       "      <td>14.284970</td>\n",
       "      <td>3.966786</td>\n",
       "    </tr>\n",
       "    <tr>\n",
       "      <th>std</th>\n",
       "      <td>32.879761</td>\n",
       "      <td>8768.570828</td>\n",
       "      <td>1.583085</td>\n",
       "      <td>80.824064</td>\n",
       "      <td>3.308162</td>\n",
       "      <td>0.780382</td>\n",
       "    </tr>\n",
       "    <tr>\n",
       "      <th>min</th>\n",
       "      <td>47.432000</td>\n",
       "      <td>320.942611</td>\n",
       "      <td>0.352000</td>\n",
       "      <td>181.483754</td>\n",
       "      <td>2.200000</td>\n",
       "      <td>1.450000</td>\n",
       "    </tr>\n",
       "    <tr>\n",
       "      <th>25%</th>\n",
       "      <td>176.850538</td>\n",
       "      <td>15666.690297</td>\n",
       "      <td>6.127421</td>\n",
       "      <td>365.734414</td>\n",
       "      <td>12.065801</td>\n",
       "      <td>3.439711</td>\n",
       "    </tr>\n",
       "    <tr>\n",
       "      <th>50%</th>\n",
       "      <td>196.967627</td>\n",
       "      <td>20927.833607</td>\n",
       "      <td>7.130299</td>\n",
       "      <td>421.884968</td>\n",
       "      <td>14.218338</td>\n",
       "      <td>3.955028</td>\n",
       "    </tr>\n",
       "    <tr>\n",
       "      <th>75%</th>\n",
       "      <td>216.667456</td>\n",
       "      <td>27332.762127</td>\n",
       "      <td>8.114887</td>\n",
       "      <td>481.792304</td>\n",
       "      <td>16.557652</td>\n",
       "      <td>4.500320</td>\n",
       "    </tr>\n",
       "    <tr>\n",
       "      <th>max</th>\n",
       "      <td>323.124000</td>\n",
       "      <td>61227.196008</td>\n",
       "      <td>13.127000</td>\n",
       "      <td>753.342620</td>\n",
       "      <td>28.300000</td>\n",
       "      <td>6.739000</td>\n",
       "    </tr>\n",
       "  </tbody>\n",
       "</table>\n",
       "</div>"
      ],
      "text/plain": [
       "          Hardness        Solids  Chloramines  Conductivity  Organic_carbon  \\\n",
       "count  3276.000000   3276.000000  3276.000000   3276.000000     3276.000000   \n",
       "mean    196.369496  22014.092526     7.122277    426.205111       14.284970   \n",
       "std      32.879761   8768.570828     1.583085     80.824064        3.308162   \n",
       "min      47.432000    320.942611     0.352000    181.483754        2.200000   \n",
       "25%     176.850538  15666.690297     6.127421    365.734414       12.065801   \n",
       "50%     196.967627  20927.833607     7.130299    421.884968       14.218338   \n",
       "75%     216.667456  27332.762127     8.114887    481.792304       16.557652   \n",
       "max     323.124000  61227.196008    13.127000    753.342620       28.300000   \n",
       "\n",
       "         Turbidity  \n",
       "count  3276.000000  \n",
       "mean      3.966786  \n",
       "std       0.780382  \n",
       "min       1.450000  \n",
       "25%       3.439711  \n",
       "50%       3.955028  \n",
       "75%       4.500320  \n",
       "max       6.739000  "
      ]
     },
     "execution_count": 35,
     "metadata": {},
     "output_type": "execute_result"
    }
   ],
   "source": [
    "data.describe()"
   ]
  },
  {
   "cell_type": "markdown",
   "id": "8eb8e46d",
   "metadata": {},
   "source": [
    "- Solids의 거리가 굉장히 크기 때문에 영향을 받을 수 밖에 없음."
   ]
  },
  {
   "cell_type": "code",
   "execution_count": 36,
   "id": "6f53f4d9",
   "metadata": {},
   "outputs": [],
   "source": [
    "from sklearn.preprocessing import StandardScaler\n",
    "\n",
    "scaler = StandardScaler()"
   ]
  },
  {
   "cell_type": "code",
   "execution_count": 37,
   "id": "13d17315",
   "metadata": {},
   "outputs": [
    {
     "data": {
      "text/plain": [
       "StandardScaler()"
      ]
     },
     "execution_count": 37,
     "metadata": {},
     "output_type": "execute_result"
    }
   ],
   "source": [
    "scaler.fit(train_data)"
   ]
  },
  {
   "cell_type": "code",
   "execution_count": 38,
   "id": "3c4df45b",
   "metadata": {},
   "outputs": [],
   "source": [
    "scaled_train_data = scaler.transform(train_data)\n",
    "scaled_test_data = scaler.transform(test_data)"
   ]
  },
  {
   "cell_type": "markdown",
   "id": "3fca4077",
   "metadata": {},
   "source": [
    "### 3.2 탐색"
   ]
  },
  {
   "cell_type": "code",
   "execution_count": 39,
   "id": "cc4d6ff9",
   "metadata": {},
   "outputs": [],
   "source": [
    "scaling_knn = KNeighborsClassifier()\n",
    "scaling_grid_cv = GridSearchCV(scaling_knn, param_grid=params, n_jobs=-1)"
   ]
  },
  {
   "cell_type": "code",
   "execution_count": 47,
   "id": "dd8bd020",
   "metadata": {},
   "outputs": [
    {
     "data": {
      "text/plain": [
       "GridSearchCV(estimator=KNeighborsClassifier(), n_jobs=-1,\n",
       "             param_grid={'n_neighbors': [1, 3, 5, 7, 9, 11], 'p': [1, 2]})"
      ]
     },
     "execution_count": 47,
     "metadata": {},
     "output_type": "execute_result"
    }
   ],
   "source": [
    "scaling_grid_cv.fit(scaled_train_data, train_label)"
   ]
  },
  {
   "cell_type": "code",
   "execution_count": 48,
   "id": "74b6eb05",
   "metadata": {},
   "outputs": [
    {
     "data": {
      "text/plain": [
       "0.587011825593896"
      ]
     },
     "execution_count": 48,
     "metadata": {},
     "output_type": "execute_result"
    }
   ],
   "source": [
    "scaling_grid_cv.best_score_"
   ]
  },
  {
   "cell_type": "code",
   "execution_count": 49,
   "id": "8ed2dbe2",
   "metadata": {},
   "outputs": [
    {
     "data": {
      "text/plain": [
       "{'n_neighbors': 9, 'p': 1}"
      ]
     },
     "execution_count": 49,
     "metadata": {},
     "output_type": "execute_result"
    }
   ],
   "source": [
    "scaling_grid_cv.best_params_"
   ]
  },
  {
   "cell_type": "markdown",
   "id": "7bc9bacb",
   "metadata": {},
   "source": [
    "### 3.3 평가"
   ]
  },
  {
   "cell_type": "code",
   "execution_count": 53,
   "id": "9c791401",
   "metadata": {},
   "outputs": [],
   "source": [
    "scaling_train_pred = scaling_grid_cv.best_estimator_.predict(scaled_train_data)\n",
    "scaling_test_pred = scaling_grid_cv.best_estimator_.predict(scaled_test_data)"
   ]
  },
  {
   "cell_type": "code",
   "execution_count": 54,
   "id": "c4bd7ea5",
   "metadata": {},
   "outputs": [],
   "source": [
    "scaling_train_acc = accuracy_score(train_label, scaling_train_pred)\n",
    "scaling_test_acc = accuracy_score(test_label, scaling_test_pred)"
   ]
  },
  {
   "cell_type": "code",
   "execution_count": 55,
   "id": "53d6e073",
   "metadata": {},
   "outputs": [
    {
     "name": "stdout",
     "output_type": "stream",
     "text": [
      "Scaled data train accuracy is 0.6829\n",
      "Scaled data test accuracy is 0.5799\n"
     ]
    }
   ],
   "source": [
    "print(f\"Scaled data train accuracy is {scaling_train_acc:.4f}\")\n",
    "print(f\"Scaled data test accuracy is {scaling_test_acc:.4f}\")"
   ]
  },
  {
   "cell_type": "markdown",
   "id": "38340524",
   "metadata": {},
   "source": [
    "## 4. 마무리"
   ]
  },
  {
   "cell_type": "code",
   "execution_count": 56,
   "id": "da39d144",
   "metadata": {},
   "outputs": [
    {
     "name": "stdout",
     "output_type": "stream",
     "text": [
      "test accuracy is 0.5595\n",
      "Scaled data test accuracy is 0.5799\n"
     ]
    }
   ],
   "source": [
    "print(f\"test accuracy is {test_acc:.4f}\")\n",
    "print(f\"Scaled data test accuracy is {scaling_test_acc:.4f}\")"
   ]
  },
  {
   "cell_type": "code",
   "execution_count": null,
   "id": "2fa95ea8",
   "metadata": {},
   "outputs": [],
   "source": []
  }
 ],
 "metadata": {
  "kernelspec": {
   "display_name": "Python 3 (ipykernel)",
   "language": "python",
   "name": "python3"
  },
  "language_info": {
   "codemirror_mode": {
    "name": "ipython",
    "version": 3
   },
   "file_extension": ".py",
   "mimetype": "text/x-python",
   "name": "python",
   "nbconvert_exporter": "python",
   "pygments_lexer": "ipython3",
   "version": "3.8.6"
  }
 },
 "nbformat": 4,
 "nbformat_minor": 5
}
