{
 "cells": [
  {
   "cell_type": "markdown",
   "id": "c635677e",
   "metadata": {},
   "source": [
    "## 01. 데이터 소개 및 분석 프로세스 수립"
   ]
  },
  {
   "cell_type": "markdown",
   "id": "f037825c",
   "metadata": {},
   "source": [
    "## 02. 데이터 준비를 위한 EDA 및 전처리"
   ]
  },
  {
   "cell_type": "markdown",
   "id": "8456511c",
   "metadata": {},
   "source": [
    "### 0. 데이터 불러오기"
   ]
  },
  {
   "cell_type": "code",
   "execution_count": 1,
   "id": "78a11478",
   "metadata": {},
   "outputs": [],
   "source": [
    "import pandas as pd\n",
    "import numpy as np\n",
    "\n",
    "import re\n",
    "\n",
    "import matplotlib.pyplot as plt\n",
    "import seaborn as sns\n",
    "\n",
    "from sklearn.model_selection import train_test_split\n",
    "from sklearn.metrics import accuracy_score, precision_score, recall_score, confusion_matrix, precision_recall_curve\n",
    "from catboost import Pool, CatBoostClassifier\n",
    "\n",
    "from scipy.stats import pearsonr, chi2_contingency\n",
    "from itertools import combinations\n",
    "from statsmodels.stats.proportion import proportion_confint"
   ]
  },
  {
   "cell_type": "markdown",
   "id": "cdc93b8a",
   "metadata": {},
   "source": [
    "#### 1) 대출 승인내역 불러오기\n",
    "\n",
    "- issue_d 컬럼은 parse_dates 사용\n",
    "- infer_datetime_format = True\n",
    "- reset_index(drop=True) 사용"
   ]
  },
  {
   "cell_type": "code",
   "execution_count": 2,
   "id": "ef37a8e0",
   "metadata": {},
   "outputs": [
    {
     "name": "stderr",
     "output_type": "stream",
     "text": [
      "C:\\Users\\jjoro\\AppData\\Local\\Temp/ipykernel_11392/1651784295.py:1: DtypeWarning: Columns (0,19,49,59,118,129,130,131,134,135,136,139,145,146,147) have mixed types. Specify dtype option on import or set low_memory=False.\n",
      "  data = pd.read_csv('accepted_2007_to_2018Q4.csv', parse_dates=['issue_d'], infer_datetime_format=True)\n"
     ]
    },
    {
     "data": {
      "text/html": [
       "<div>\n",
       "<style scoped>\n",
       "    .dataframe tbody tr th:only-of-type {\n",
       "        vertical-align: middle;\n",
       "    }\n",
       "\n",
       "    .dataframe tbody tr th {\n",
       "        vertical-align: top;\n",
       "    }\n",
       "\n",
       "    .dataframe thead th {\n",
       "        text-align: right;\n",
       "    }\n",
       "</style>\n",
       "<table border=\"1\" class=\"dataframe\">\n",
       "  <thead>\n",
       "    <tr style=\"text-align: right;\">\n",
       "      <th></th>\n",
       "      <th>id</th>\n",
       "      <th>member_id</th>\n",
       "      <th>loan_amnt</th>\n",
       "      <th>funded_amnt</th>\n",
       "      <th>funded_amnt_inv</th>\n",
       "      <th>term</th>\n",
       "      <th>int_rate</th>\n",
       "      <th>installment</th>\n",
       "      <th>grade</th>\n",
       "      <th>sub_grade</th>\n",
       "      <th>...</th>\n",
       "      <th>hardship_payoff_balance_amount</th>\n",
       "      <th>hardship_last_payment_amount</th>\n",
       "      <th>disbursement_method</th>\n",
       "      <th>debt_settlement_flag</th>\n",
       "      <th>debt_settlement_flag_date</th>\n",
       "      <th>settlement_status</th>\n",
       "      <th>settlement_date</th>\n",
       "      <th>settlement_amount</th>\n",
       "      <th>settlement_percentage</th>\n",
       "      <th>settlement_term</th>\n",
       "    </tr>\n",
       "  </thead>\n",
       "  <tbody>\n",
       "    <tr>\n",
       "      <th>0</th>\n",
       "      <td>130954621</td>\n",
       "      <td>NaN</td>\n",
       "      <td>5000.0</td>\n",
       "      <td>5000.0</td>\n",
       "      <td>5000.0</td>\n",
       "      <td>36 months</td>\n",
       "      <td>20.39</td>\n",
       "      <td>186.82</td>\n",
       "      <td>D</td>\n",
       "      <td>D4</td>\n",
       "      <td>...</td>\n",
       "      <td>NaN</td>\n",
       "      <td>NaN</td>\n",
       "      <td>Cash</td>\n",
       "      <td>N</td>\n",
       "      <td>NaN</td>\n",
       "      <td>NaN</td>\n",
       "      <td>NaN</td>\n",
       "      <td>NaN</td>\n",
       "      <td>NaN</td>\n",
       "      <td>NaN</td>\n",
       "    </tr>\n",
       "    <tr>\n",
       "      <th>1</th>\n",
       "      <td>130964697</td>\n",
       "      <td>NaN</td>\n",
       "      <td>15000.0</td>\n",
       "      <td>15000.0</td>\n",
       "      <td>15000.0</td>\n",
       "      <td>36 months</td>\n",
       "      <td>9.92</td>\n",
       "      <td>483.45</td>\n",
       "      <td>B</td>\n",
       "      <td>B2</td>\n",
       "      <td>...</td>\n",
       "      <td>NaN</td>\n",
       "      <td>NaN</td>\n",
       "      <td>Cash</td>\n",
       "      <td>N</td>\n",
       "      <td>NaN</td>\n",
       "      <td>NaN</td>\n",
       "      <td>NaN</td>\n",
       "      <td>NaN</td>\n",
       "      <td>NaN</td>\n",
       "      <td>NaN</td>\n",
       "    </tr>\n",
       "    <tr>\n",
       "      <th>2</th>\n",
       "      <td>130955326</td>\n",
       "      <td>NaN</td>\n",
       "      <td>11200.0</td>\n",
       "      <td>11200.0</td>\n",
       "      <td>11200.0</td>\n",
       "      <td>60 months</td>\n",
       "      <td>30.79</td>\n",
       "      <td>367.82</td>\n",
       "      <td>G</td>\n",
       "      <td>G1</td>\n",
       "      <td>...</td>\n",
       "      <td>NaN</td>\n",
       "      <td>NaN</td>\n",
       "      <td>Cash</td>\n",
       "      <td>N</td>\n",
       "      <td>NaN</td>\n",
       "      <td>NaN</td>\n",
       "      <td>NaN</td>\n",
       "      <td>NaN</td>\n",
       "      <td>NaN</td>\n",
       "      <td>NaN</td>\n",
       "    </tr>\n",
       "    <tr>\n",
       "      <th>3</th>\n",
       "      <td>130504052</td>\n",
       "      <td>NaN</td>\n",
       "      <td>25000.0</td>\n",
       "      <td>25000.0</td>\n",
       "      <td>25000.0</td>\n",
       "      <td>60 months</td>\n",
       "      <td>21.85</td>\n",
       "      <td>688.35</td>\n",
       "      <td>D</td>\n",
       "      <td>D5</td>\n",
       "      <td>...</td>\n",
       "      <td>NaN</td>\n",
       "      <td>NaN</td>\n",
       "      <td>Cash</td>\n",
       "      <td>N</td>\n",
       "      <td>NaN</td>\n",
       "      <td>NaN</td>\n",
       "      <td>NaN</td>\n",
       "      <td>NaN</td>\n",
       "      <td>NaN</td>\n",
       "      <td>NaN</td>\n",
       "    </tr>\n",
       "    <tr>\n",
       "      <th>4</th>\n",
       "      <td>130956066</td>\n",
       "      <td>NaN</td>\n",
       "      <td>3000.0</td>\n",
       "      <td>3000.0</td>\n",
       "      <td>3000.0</td>\n",
       "      <td>36 months</td>\n",
       "      <td>7.34</td>\n",
       "      <td>93.10</td>\n",
       "      <td>A</td>\n",
       "      <td>A4</td>\n",
       "      <td>...</td>\n",
       "      <td>NaN</td>\n",
       "      <td>NaN</td>\n",
       "      <td>Cash</td>\n",
       "      <td>N</td>\n",
       "      <td>NaN</td>\n",
       "      <td>NaN</td>\n",
       "      <td>NaN</td>\n",
       "      <td>NaN</td>\n",
       "      <td>NaN</td>\n",
       "      <td>NaN</td>\n",
       "    </tr>\n",
       "  </tbody>\n",
       "</table>\n",
       "<p>5 rows × 151 columns</p>\n",
       "</div>"
      ],
      "text/plain": [
       "          id  member_id  loan_amnt  funded_amnt  funded_amnt_inv        term  \\\n",
       "0  130954621        NaN     5000.0       5000.0           5000.0   36 months   \n",
       "1  130964697        NaN    15000.0      15000.0          15000.0   36 months   \n",
       "2  130955326        NaN    11200.0      11200.0          11200.0   60 months   \n",
       "3  130504052        NaN    25000.0      25000.0          25000.0   60 months   \n",
       "4  130956066        NaN     3000.0       3000.0           3000.0   36 months   \n",
       "\n",
       "   int_rate  installment grade sub_grade  ... hardship_payoff_balance_amount  \\\n",
       "0     20.39       186.82     D        D4  ...                            NaN   \n",
       "1      9.92       483.45     B        B2  ...                            NaN   \n",
       "2     30.79       367.82     G        G1  ...                            NaN   \n",
       "3     21.85       688.35     D        D5  ...                            NaN   \n",
       "4      7.34        93.10     A        A4  ...                            NaN   \n",
       "\n",
       "  hardship_last_payment_amount disbursement_method  debt_settlement_flag  \\\n",
       "0                          NaN                Cash                     N   \n",
       "1                          NaN                Cash                     N   \n",
       "2                          NaN                Cash                     N   \n",
       "3                          NaN                Cash                     N   \n",
       "4                          NaN                Cash                     N   \n",
       "\n",
       "  debt_settlement_flag_date settlement_status settlement_date  \\\n",
       "0                       NaN               NaN             NaN   \n",
       "1                       NaN               NaN             NaN   \n",
       "2                       NaN               NaN             NaN   \n",
       "3                       NaN               NaN             NaN   \n",
       "4                       NaN               NaN             NaN   \n",
       "\n",
       "  settlement_amount settlement_percentage settlement_term  \n",
       "0               NaN                   NaN             NaN  \n",
       "1               NaN                   NaN             NaN  \n",
       "2               NaN                   NaN             NaN  \n",
       "3               NaN                   NaN             NaN  \n",
       "4               NaN                   NaN             NaN  \n",
       "\n",
       "[5 rows x 151 columns]"
      ]
     },
     "execution_count": 2,
     "metadata": {},
     "output_type": "execute_result"
    }
   ],
   "source": [
    "data = pd.read_csv('accepted_2007_to_2018Q4.csv', parse_dates=['issue_d'], infer_datetime_format=True)\n",
    "data = data[(data.issue_d >= '2018-01-01 00:00:00') & (data.issue_d < '2019-01-01 00:00:00')]\n",
    "data = data.reset_index(drop=True) # index를 새로 설정함.\n",
    "data.head()"
   ]
  },
  {
   "cell_type": "markdown",
   "id": "5d52ebaf",
   "metadata": {},
   "source": [
    "#### 2) 대출용어 사전 불러오기\n",
    "- pandas의 read_excel 사용/Excel Sheet 중 2번째 (sheet_name=1)을 불러온다."
   ]
  },
  {
   "cell_type": "code",
   "execution_count": 3,
   "id": "996f5ee0",
   "metadata": {},
   "outputs": [
    {
     "data": {
      "text/html": [
       "<div>\n",
       "<style scoped>\n",
       "    .dataframe tbody tr th:only-of-type {\n",
       "        vertical-align: middle;\n",
       "    }\n",
       "\n",
       "    .dataframe tbody tr th {\n",
       "        vertical-align: top;\n",
       "    }\n",
       "\n",
       "    .dataframe thead th {\n",
       "        text-align: right;\n",
       "    }\n",
       "</style>\n",
       "<table border=\"1\" class=\"dataframe\">\n",
       "  <thead>\n",
       "    <tr style=\"text-align: right;\">\n",
       "      <th></th>\n",
       "      <th>BrowseNotesFile</th>\n",
       "      <th>Description</th>\n",
       "    </tr>\n",
       "  </thead>\n",
       "  <tbody>\n",
       "    <tr>\n",
       "      <th>0</th>\n",
       "      <td>acceptD</td>\n",
       "      <td>The date which the borrower accepted  the offer</td>\n",
       "    </tr>\n",
       "    <tr>\n",
       "      <th>1</th>\n",
       "      <td>accNowDelinq</td>\n",
       "      <td>The number of accounts on which the borrower i...</td>\n",
       "    </tr>\n",
       "    <tr>\n",
       "      <th>2</th>\n",
       "      <td>accOpenPast24Mths</td>\n",
       "      <td>Number of trades opened in past 24 months.</td>\n",
       "    </tr>\n",
       "    <tr>\n",
       "      <th>3</th>\n",
       "      <td>addrState</td>\n",
       "      <td>The state provided by the borrower in the loan...</td>\n",
       "    </tr>\n",
       "    <tr>\n",
       "      <th>4</th>\n",
       "      <td>all_util</td>\n",
       "      <td>Balance to credit limit on all trades</td>\n",
       "    </tr>\n",
       "  </tbody>\n",
       "</table>\n",
       "</div>"
      ],
      "text/plain": [
       "     BrowseNotesFile                                        Description\n",
       "0            acceptD    The date which the borrower accepted  the offer\n",
       "1       accNowDelinq  The number of accounts on which the borrower i...\n",
       "2  accOpenPast24Mths         Number of trades opened in past 24 months.\n",
       "3          addrState  The state provided by the borrower in the loan...\n",
       "4           all_util              Balance to credit limit on all trades"
      ]
     },
     "execution_count": 3,
     "metadata": {},
     "output_type": "execute_result"
    }
   ],
   "source": [
    "browse_notes = pd.read_excel('LCDataDictionary.xlsx', sheet_name=1, engine='openpyxl')\n",
    "browse_notes.head()"
   ]
  },
  {
   "cell_type": "code",
   "execution_count": 4,
   "id": "6e7b95f0",
   "metadata": {},
   "outputs": [],
   "source": [
    "browse_notes = browse_notes[['BrowseNotesFile', 'Description']]"
   ]
  },
  {
   "cell_type": "code",
   "execution_count": 5,
   "id": "29df1c46",
   "metadata": {},
   "outputs": [
    {
     "data": {
      "text/html": [
       "<div>\n",
       "<style scoped>\n",
       "    .dataframe tbody tr th:only-of-type {\n",
       "        vertical-align: middle;\n",
       "    }\n",
       "\n",
       "    .dataframe tbody tr th {\n",
       "        vertical-align: top;\n",
       "    }\n",
       "\n",
       "    .dataframe thead th {\n",
       "        text-align: right;\n",
       "    }\n",
       "</style>\n",
       "<table border=\"1\" class=\"dataframe\">\n",
       "  <thead>\n",
       "    <tr style=\"text-align: right;\">\n",
       "      <th></th>\n",
       "      <th>BrowseNotesFile</th>\n",
       "      <th>Description</th>\n",
       "    </tr>\n",
       "  </thead>\n",
       "  <tbody>\n",
       "    <tr>\n",
       "      <th>0</th>\n",
       "      <td>acceptD</td>\n",
       "      <td>The date which the borrower accepted  the offer</td>\n",
       "    </tr>\n",
       "    <tr>\n",
       "      <th>1</th>\n",
       "      <td>accNowDelinq</td>\n",
       "      <td>The number of accounts on which the borrower i...</td>\n",
       "    </tr>\n",
       "    <tr>\n",
       "      <th>2</th>\n",
       "      <td>accOpenPast24Mths</td>\n",
       "      <td>Number of trades opened in past 24 months.</td>\n",
       "    </tr>\n",
       "    <tr>\n",
       "      <th>3</th>\n",
       "      <td>addrState</td>\n",
       "      <td>The state provided by the borrower in the loan...</td>\n",
       "    </tr>\n",
       "    <tr>\n",
       "      <th>4</th>\n",
       "      <td>all_util</td>\n",
       "      <td>Balance to credit limit on all trades</td>\n",
       "    </tr>\n",
       "  </tbody>\n",
       "</table>\n",
       "</div>"
      ],
      "text/plain": [
       "     BrowseNotesFile                                        Description\n",
       "0            acceptD    The date which the borrower accepted  the offer\n",
       "1       accNowDelinq  The number of accounts on which the borrower i...\n",
       "2  accOpenPast24Mths         Number of trades opened in past 24 months.\n",
       "3          addrState  The state provided by the borrower in the loan...\n",
       "4           all_util              Balance to credit limit on all trades"
      ]
     },
     "execution_count": 5,
     "metadata": {},
     "output_type": "execute_result"
    }
   ],
   "source": [
    "browse_notes.head()"
   ]
  },
  {
   "cell_type": "markdown",
   "id": "6a50a027",
   "metadata": {},
   "source": [
    "### 1. 데이터 전처리\n",
    "\n",
    "- 기준정보 데이터와 대출승인 데이터의 정합성 맞추기"
   ]
  },
  {
   "cell_type": "markdown",
   "id": "3a1ec223",
   "metadata": {},
   "source": [
    "#### 1) 대출용어 사전 결측값 제거"
   ]
  },
  {
   "cell_type": "code",
   "execution_count": 6,
   "id": "ebe48ab7",
   "metadata": {},
   "outputs": [
    {
     "data": {
      "text/plain": [
       "array(['acceptD', 'accNowDelinq', 'accOpenPast24Mths', 'addrState',\n",
       "       'all_util', 'annual_inc_joint', 'annualInc', 'application_type',\n",
       "       'avg_cur_bal', 'bcOpenToBuy', 'bcUtil', 'chargeoff_within_12_mths',\n",
       "       'collections_12_mths_ex_med', 'creditPullD', 'delinq2Yrs',\n",
       "       'delinqAmnt', 'desc', 'dti', 'dti_joint', 'earliestCrLine',\n",
       "       'effective_int_rate', 'emp_title', 'empLength', 'expD',\n",
       "       'expDefaultRate', 'ficoRangeHigh', 'ficoRangeLow', 'fundedAmnt',\n",
       "       'grade', 'homeOwnership', 'id', 'il_util', 'ils_exp_d',\n",
       "       'initialListStatus', 'inq_fi', 'inq_last_12m', 'inqLast6Mths',\n",
       "       'installment', 'intRate', 'isIncV', 'listD', 'loanAmnt',\n",
       "       'max_bal_bc', 'memberId', 'mo_sin_old_rev_tl_op',\n",
       "       'mo_sin_rcnt_rev_tl_op', 'mo_sin_rcnt_tl', 'mortAcc', 'msa',\n",
       "       'mths_since_last_major_derog', 'mths_since_oldest_il_open',\n",
       "       'mths_since_rcnt_il', 'mthsSinceLastDelinq', 'mthsSinceLastRecord',\n",
       "       'mthsSinceMostRecentInq', 'mthsSinceRecentBc',\n",
       "       'mthsSinceRecentLoanDelinq', 'mthsSinceRecentRevolDelinq',\n",
       "       'num_accts_ever_120_pd', 'num_actv_bc_tl', 'num_actv_rev_tl',\n",
       "       'num_bc_sats', 'num_bc_tl', 'num_il_tl', 'num_op_rev_tl',\n",
       "       'num_rev_accts', 'num_rev_tl_bal_gt_0', 'num_sats',\n",
       "       'num_tl_120dpd_2m', 'num_tl_30dpd', 'num_tl_90g_dpd_24m',\n",
       "       'num_tl_op_past_12m', 'open_acc_6m', 'open_il_12m', 'open_il_24m',\n",
       "       'open_il_6m', 'open_rv_12m', 'open_rv_24m', 'openAcc',\n",
       "       'pct_tl_nvr_dlq', 'percentBcGt75', 'pub_rec_bankruptcies',\n",
       "       'pubRec', 'purpose', 'reviewStatus', 'reviewStatusD', 'revolBal',\n",
       "       'revolUtil', 'serviceFeeRate', 'subGrade', 'tax_liens', 'term',\n",
       "       'title', 'tot_coll_amt', 'tot_cur_bal', 'tot_hi_cred_lim',\n",
       "       'total_bal_il', 'total_cu_tl', 'total_il_high_credit_limit',\n",
       "       'total_rev_hi_lim \\xa0', 'totalAcc', 'totalBalExMort',\n",
       "       'totalBcLimit', 'url', 'verified_status_joint', 'zip_code'],\n",
       "      dtype=object)"
      ]
     },
     "execution_count": 6,
     "metadata": {},
     "output_type": "execute_result"
    }
   ],
   "source": [
    "browse_notes['BrowseNotesFile'].dropna().values # 결측값을 제거함."
   ]
  },
  {
   "cell_type": "code",
   "execution_count": 7,
   "id": "343bf463",
   "metadata": {},
   "outputs": [],
   "source": [
    "browse_feat = browse_notes['BrowseNotesFile'].dropna().values"
   ]
  },
  {
   "cell_type": "markdown",
   "id": "1bda5850",
   "metadata": {},
   "source": [
    "#### 2) 대출용어 사전과 대출승인 데이터 문자열 규칙 맞추기 (정규식)\n",
    "\n",
    "- 대문자, 숫자 앞에 '_' 붙여주고 모두 소문자 변환.\n",
    "    > re.sub('(?<![0-9_])(?=[A-Z0-9])','_',x).lower()\n",
    "    \n",
    "- 공백 처리.\n",
    "    > .strip()"
   ]
  },
  {
   "cell_type": "code",
   "execution_count": 8,
   "id": "276386e3",
   "metadata": {},
   "outputs": [],
   "source": [
    "browse_feat = [re.sub('(?<![0-9_])(?=[A-Z0-9])', '_', x).lower().strip() for x in browse_feat]"
   ]
  },
  {
   "cell_type": "code",
   "execution_count": 9,
   "id": "2c1ab4f1",
   "metadata": {},
   "outputs": [
    {
     "data": {
      "text/plain": [
       "['accept_d',\n",
       " 'acc_now_delinq',\n",
       " 'acc_open_past_24mths',\n",
       " 'addr_state',\n",
       " 'all_util',\n",
       " 'annual_inc_joint',\n",
       " 'annual_inc',\n",
       " 'application_type',\n",
       " 'avg_cur_bal',\n",
       " 'bc_open_to_buy',\n",
       " 'bc_util',\n",
       " 'chargeoff_within_12_mths',\n",
       " 'collections_12_mths_ex_med',\n",
       " 'credit_pull_d',\n",
       " 'delinq_2yrs',\n",
       " 'delinq_amnt',\n",
       " 'desc',\n",
       " 'dti',\n",
       " 'dti_joint',\n",
       " 'earliest_cr_line',\n",
       " 'effective_int_rate',\n",
       " 'emp_title',\n",
       " 'emp_length',\n",
       " 'exp_d',\n",
       " 'exp_default_rate',\n",
       " 'fico_range_high',\n",
       " 'fico_range_low',\n",
       " 'funded_amnt',\n",
       " 'grade',\n",
       " 'home_ownership',\n",
       " 'id',\n",
       " 'il_util',\n",
       " 'ils_exp_d',\n",
       " 'initial_list_status',\n",
       " 'inq_fi',\n",
       " 'inq_last_12m',\n",
       " 'inq_last_6mths',\n",
       " 'installment',\n",
       " 'int_rate',\n",
       " 'is_inc_v',\n",
       " 'list_d',\n",
       " 'loan_amnt',\n",
       " 'max_bal_bc',\n",
       " 'member_id',\n",
       " 'mo_sin_old_rev_tl_op',\n",
       " 'mo_sin_rcnt_rev_tl_op',\n",
       " 'mo_sin_rcnt_tl',\n",
       " 'mort_acc',\n",
       " 'msa',\n",
       " 'mths_since_last_major_derog',\n",
       " 'mths_since_oldest_il_open',\n",
       " 'mths_since_rcnt_il',\n",
       " 'mths_since_last_delinq',\n",
       " 'mths_since_last_record',\n",
       " 'mths_since_most_recent_inq',\n",
       " 'mths_since_recent_bc',\n",
       " 'mths_since_recent_loan_delinq',\n",
       " 'mths_since_recent_revol_delinq',\n",
       " 'num_accts_ever_120_pd',\n",
       " 'num_actv_bc_tl',\n",
       " 'num_actv_rev_tl',\n",
       " 'num_bc_sats',\n",
       " 'num_bc_tl',\n",
       " 'num_il_tl',\n",
       " 'num_op_rev_tl',\n",
       " 'num_rev_accts',\n",
       " 'num_rev_tl_bal_gt_0',\n",
       " 'num_sats',\n",
       " 'num_tl_120dpd_2m',\n",
       " 'num_tl_30dpd',\n",
       " 'num_tl_90g_dpd_24m',\n",
       " 'num_tl_op_past_12m',\n",
       " 'open_acc_6m',\n",
       " 'open_il_12m',\n",
       " 'open_il_24m',\n",
       " 'open_il_6m',\n",
       " 'open_rv_12m',\n",
       " 'open_rv_24m',\n",
       " 'open_acc',\n",
       " 'pct_tl_nvr_dlq',\n",
       " 'percent_bc_gt_75',\n",
       " 'pub_rec_bankruptcies',\n",
       " 'pub_rec',\n",
       " 'purpose',\n",
       " 'review_status',\n",
       " 'review_status_d',\n",
       " 'revol_bal',\n",
       " 'revol_util',\n",
       " 'service_fee_rate',\n",
       " 'sub_grade',\n",
       " 'tax_liens',\n",
       " 'term',\n",
       " 'title',\n",
       " 'tot_coll_amt',\n",
       " 'tot_cur_bal',\n",
       " 'tot_hi_cred_lim',\n",
       " 'total_bal_il',\n",
       " 'total_cu_tl',\n",
       " 'total_il_high_credit_limit',\n",
       " 'total_rev_hi_lim',\n",
       " 'total_acc',\n",
       " 'total_bal_ex_mort',\n",
       " 'total_bc_limit',\n",
       " 'url',\n",
       " 'verified_status_joint',\n",
       " 'zip_code']"
      ]
     },
     "execution_count": 9,
     "metadata": {},
     "output_type": "execute_result"
    }
   ],
   "source": [
    "browse_feat"
   ]
  },
  {
   "cell_type": "markdown",
   "id": "bf8f0d3c",
   "metadata": {},
   "source": [
    "#### 3) 대출승인 데이터 컬럼과 대출용어 간의 차이를 확인한다\n",
    "\n",
    "- np.setdiff1d(ar1, ar2): ar2에는 없는 ar1의 고유한 값을 반환."
   ]
  },
  {
   "cell_type": "code",
   "execution_count": 10,
   "id": "85afb486",
   "metadata": {},
   "outputs": [
    {
     "data": {
      "text/plain": [
       "array(['accept_d', 'credit_pull_d', 'effective_int_rate', 'exp_d',\n",
       "       'exp_default_rate', 'ils_exp_d', 'is_inc_v', 'list_d', 'msa',\n",
       "       'mths_since_most_recent_inq', 'mths_since_oldest_il_open',\n",
       "       'mths_since_recent_loan_delinq', 'open_il_6m', 'review_status',\n",
       "       'review_status_d', 'service_fee_rate', 'verified_status_joint'],\n",
       "      dtype='<U30')"
      ]
     },
     "execution_count": 10,
     "metadata": {},
     "output_type": "execute_result"
    }
   ],
   "source": [
    "data_feat = data.columns.values\n",
    "np.setdiff1d(browse_feat, data_feat)\n",
    "\n",
    "# data_feat에는 없는 browse_feat의 고유한 값."
   ]
  },
  {
   "cell_type": "code",
   "execution_count": 11,
   "id": "bcf34ed2",
   "metadata": {},
   "outputs": [
    {
     "data": {
      "text/plain": [
       "array(['collection_recovery_fee', 'debt_settlement_flag',\n",
       "       'debt_settlement_flag_date', 'deferral_term',\n",
       "       'disbursement_method', 'funded_amnt_inv', 'hardship_amount',\n",
       "       'hardship_dpd', 'hardship_end_date', 'hardship_flag',\n",
       "       'hardship_last_payment_amount', 'hardship_length',\n",
       "       'hardship_loan_status', 'hardship_payoff_balance_amount',\n",
       "       'hardship_reason', 'hardship_start_date', 'hardship_status',\n",
       "       'hardship_type', 'issue_d', 'last_credit_pull_d',\n",
       "       'last_fico_range_high', 'last_fico_range_low', 'last_pymnt_amnt',\n",
       "       'last_pymnt_d', 'loan_status', 'mo_sin_old_il_acct',\n",
       "       'mths_since_recent_bc_dlq', 'mths_since_recent_inq',\n",
       "       'next_pymnt_d', 'open_act_il',\n",
       "       'orig_projected_additional_accrued_interest', 'out_prncp',\n",
       "       'out_prncp_inv', 'payment_plan_start_date', 'policy_code',\n",
       "       'pymnt_plan', 'recoveries', 'revol_bal_joint',\n",
       "       'sec_app_chargeoff_within_12_mths',\n",
       "       'sec_app_collections_12_mths_ex_med', 'sec_app_earliest_cr_line',\n",
       "       'sec_app_fico_range_high', 'sec_app_fico_range_low',\n",
       "       'sec_app_inq_last_6mths', 'sec_app_mort_acc',\n",
       "       'sec_app_mths_since_last_major_derog', 'sec_app_num_rev_accts',\n",
       "       'sec_app_open_acc', 'sec_app_open_act_il', 'sec_app_revol_util',\n",
       "       'settlement_amount', 'settlement_date', 'settlement_percentage',\n",
       "       'settlement_status', 'settlement_term', 'total_pymnt',\n",
       "       'total_pymnt_inv', 'total_rec_int', 'total_rec_late_fee',\n",
       "       'total_rec_prncp', 'verification_status',\n",
       "       'verification_status_joint'], dtype=object)"
      ]
     },
     "execution_count": 11,
     "metadata": {},
     "output_type": "execute_result"
    }
   ],
   "source": [
    "np.setdiff1d(data_feat, browse_feat)"
   ]
  },
  {
   "cell_type": "markdown",
   "id": "871c3447",
   "metadata": {},
   "source": [
    "#### 4) 대출 시점(대출용어 사전)에서의 용어 중 대출승인 데이터 컬럼과 같은 의미인 용어를 서로 같게 만든다\n",
    "  * 대출 시점(대출용어 사전)에서의 용어 중 대출승인 데이터 컬럼과 의미가 같지만 이름이 다른 컬럼들\n",
    "          ['is_inc_v', 'mths_since_most_recent_inq','mths_since_oldest_il_open','mths_since_recent_loan_delinq', 'verified_status_joint']\n",
    "  * 대출승인 데이터 컬럼에서의 이름들 (예: verified_status_join → verification_status_joint)\n",
    "          ['verification_status', 'mths_since_recent_inq', 'mo_sin_old_il_acct','mths_since_recent_bc_dlq', 'verification_status_joint']\n",
    "  * np.setdiff1d / np.append 사용"
   ]
  },
  {
   "cell_type": "code",
   "execution_count": 12,
   "id": "773b2938",
   "metadata": {},
   "outputs": [],
   "source": [
    "wrong = ['is_inc_v', 'mths_since_most_recent_inq', 'mths_since_oldest_il_open',\n",
    "         'mths_since_recent_loan_delinq', 'verified_status_joint']\n",
    "correct = ['verification_status', 'mths_since_recent_inq', 'mo_sin_old_il_acct',\n",
    "           'mths_since_recent_bc_dlq', 'verification_status_joint']\n",
    "\n",
    "browse_feat = np.setdiff1d(browse_feat, wrong)\n",
    "browse_feat = np.append(browse_feat, correct)"
   ]
  },
  {
   "cell_type": "markdown",
   "id": "568ecb04",
   "metadata": {},
   "source": [
    "#### 5) 대출용어 사전과 대출승인 데이터 컬럼 이름이 같은 것들만 가져온다.\n",
    "\n",
    "- np.intersect1d(ar1, ar2): ar1과 ar2의 공통된 항목들만 반환한다."
   ]
  },
  {
   "cell_type": "code",
   "execution_count": 13,
   "id": "b5997774",
   "metadata": {},
   "outputs": [],
   "source": [
    "avail_feat = np.intersect1d(browse_feat, data_feat)\n",
    "X = data[avail_feat].copy()"
   ]
  },
  {
   "cell_type": "code",
   "execution_count": 14,
   "id": "9812e401",
   "metadata": {},
   "outputs": [
    {
     "data": {
      "text/html": [
       "<div>\n",
       "<style scoped>\n",
       "    .dataframe tbody tr th:only-of-type {\n",
       "        vertical-align: middle;\n",
       "    }\n",
       "\n",
       "    .dataframe tbody tr th {\n",
       "        vertical-align: top;\n",
       "    }\n",
       "\n",
       "    .dataframe thead th {\n",
       "        text-align: right;\n",
       "    }\n",
       "</style>\n",
       "<table border=\"1\" class=\"dataframe\">\n",
       "  <thead>\n",
       "    <tr style=\"text-align: right;\">\n",
       "      <th></th>\n",
       "      <th>acc_now_delinq</th>\n",
       "      <th>acc_open_past_24mths</th>\n",
       "      <th>addr_state</th>\n",
       "      <th>all_util</th>\n",
       "      <th>annual_inc</th>\n",
       "      <th>annual_inc_joint</th>\n",
       "      <th>application_type</th>\n",
       "      <th>avg_cur_bal</th>\n",
       "      <th>bc_open_to_buy</th>\n",
       "      <th>bc_util</th>\n",
       "      <th>...</th>\n",
       "      <th>total_bal_ex_mort</th>\n",
       "      <th>total_bal_il</th>\n",
       "      <th>total_bc_limit</th>\n",
       "      <th>total_cu_tl</th>\n",
       "      <th>total_il_high_credit_limit</th>\n",
       "      <th>total_rev_hi_lim</th>\n",
       "      <th>url</th>\n",
       "      <th>verification_status</th>\n",
       "      <th>verification_status_joint</th>\n",
       "      <th>zip_code</th>\n",
       "    </tr>\n",
       "  </thead>\n",
       "  <tbody>\n",
       "    <tr>\n",
       "      <th>0</th>\n",
       "      <td>0.0</td>\n",
       "      <td>3.0</td>\n",
       "      <td>OK</td>\n",
       "      <td>58.0</td>\n",
       "      <td>50000.0</td>\n",
       "      <td>NaN</td>\n",
       "      <td>Individual</td>\n",
       "      <td>3869.0</td>\n",
       "      <td>384.0</td>\n",
       "      <td>23.2</td>\n",
       "      <td>...</td>\n",
       "      <td>19344.0</td>\n",
       "      <td>14118.0</td>\n",
       "      <td>500.0</td>\n",
       "      <td>0.0</td>\n",
       "      <td>27820.0</td>\n",
       "      <td>500.0</td>\n",
       "      <td>https://lendingclub.com/browse/loanDetail.acti...</td>\n",
       "      <td>Verified</td>\n",
       "      <td>NaN</td>\n",
       "      <td>740xx</td>\n",
       "    </tr>\n",
       "    <tr>\n",
       "      <th>1</th>\n",
       "      <td>0.0</td>\n",
       "      <td>15.0</td>\n",
       "      <td>FL</td>\n",
       "      <td>51.0</td>\n",
       "      <td>196000.0</td>\n",
       "      <td>NaN</td>\n",
       "      <td>Individual</td>\n",
       "      <td>31468.0</td>\n",
       "      <td>7368.0</td>\n",
       "      <td>74.1</td>\n",
       "      <td>...</td>\n",
       "      <td>137713.0</td>\n",
       "      <td>113470.0</td>\n",
       "      <td>28500.0</td>\n",
       "      <td>1.0</td>\n",
       "      <td>147178.0</td>\n",
       "      <td>52400.0</td>\n",
       "      <td>https://lendingclub.com/browse/loanDetail.acti...</td>\n",
       "      <td>Source Verified</td>\n",
       "      <td>NaN</td>\n",
       "      <td>337xx</td>\n",
       "    </tr>\n",
       "    <tr>\n",
       "      <th>2</th>\n",
       "      <td>0.0</td>\n",
       "      <td>5.0</td>\n",
       "      <td>NH</td>\n",
       "      <td>84.0</td>\n",
       "      <td>44000.0</td>\n",
       "      <td>81000.0</td>\n",
       "      <td>Joint App</td>\n",
       "      <td>8397.0</td>\n",
       "      <td>632.0</td>\n",
       "      <td>66.7</td>\n",
       "      <td>...</td>\n",
       "      <td>67173.0</td>\n",
       "      <td>65647.0</td>\n",
       "      <td>1900.0</td>\n",
       "      <td>1.0</td>\n",
       "      <td>74167.0</td>\n",
       "      <td>6200.0</td>\n",
       "      <td>https://lendingclub.com/browse/loanDetail.acti...</td>\n",
       "      <td>Not Verified</td>\n",
       "      <td>Not Verified</td>\n",
       "      <td>030xx</td>\n",
       "    </tr>\n",
       "    <tr>\n",
       "      <th>3</th>\n",
       "      <td>0.0</td>\n",
       "      <td>2.0</td>\n",
       "      <td>AL</td>\n",
       "      <td>90.0</td>\n",
       "      <td>65000.0</td>\n",
       "      <td>NaN</td>\n",
       "      <td>Individual</td>\n",
       "      <td>10685.0</td>\n",
       "      <td>63.0</td>\n",
       "      <td>98.1</td>\n",
       "      <td>...</td>\n",
       "      <td>17039.0</td>\n",
       "      <td>8382.0</td>\n",
       "      <td>3300.0</td>\n",
       "      <td>3.0</td>\n",
       "      <td>10220.0</td>\n",
       "      <td>8800.0</td>\n",
       "      <td>https://lendingclub.com/browse/loanDetail.acti...</td>\n",
       "      <td>Source Verified</td>\n",
       "      <td>NaN</td>\n",
       "      <td>361xx</td>\n",
       "    </tr>\n",
       "    <tr>\n",
       "      <th>4</th>\n",
       "      <td>0.0</td>\n",
       "      <td>3.0</td>\n",
       "      <td>WA</td>\n",
       "      <td>1.0</td>\n",
       "      <td>52000.0</td>\n",
       "      <td>NaN</td>\n",
       "      <td>Individual</td>\n",
       "      <td>25099.0</td>\n",
       "      <td>30359.0</td>\n",
       "      <td>0.5</td>\n",
       "      <td>...</td>\n",
       "      <td>141.0</td>\n",
       "      <td>0.0</td>\n",
       "      <td>30500.0</td>\n",
       "      <td>2.0</td>\n",
       "      <td>0.0</td>\n",
       "      <td>31000.0</td>\n",
       "      <td>https://lendingclub.com/browse/loanDetail.acti...</td>\n",
       "      <td>Source Verified</td>\n",
       "      <td>NaN</td>\n",
       "      <td>988xx</td>\n",
       "    </tr>\n",
       "  </tbody>\n",
       "</table>\n",
       "<p>5 rows × 94 columns</p>\n",
       "</div>"
      ],
      "text/plain": [
       "   acc_now_delinq  acc_open_past_24mths addr_state  all_util  annual_inc  \\\n",
       "0             0.0                   3.0         OK      58.0     50000.0   \n",
       "1             0.0                  15.0         FL      51.0    196000.0   \n",
       "2             0.0                   5.0         NH      84.0     44000.0   \n",
       "3             0.0                   2.0         AL      90.0     65000.0   \n",
       "4             0.0                   3.0         WA       1.0     52000.0   \n",
       "\n",
       "   annual_inc_joint application_type  avg_cur_bal  bc_open_to_buy  bc_util  \\\n",
       "0               NaN       Individual       3869.0           384.0     23.2   \n",
       "1               NaN       Individual      31468.0          7368.0     74.1   \n",
       "2           81000.0        Joint App       8397.0           632.0     66.7   \n",
       "3               NaN       Individual      10685.0            63.0     98.1   \n",
       "4               NaN       Individual      25099.0         30359.0      0.5   \n",
       "\n",
       "   ...  total_bal_ex_mort  total_bal_il  total_bc_limit  total_cu_tl  \\\n",
       "0  ...            19344.0       14118.0           500.0          0.0   \n",
       "1  ...           137713.0      113470.0         28500.0          1.0   \n",
       "2  ...            67173.0       65647.0          1900.0          1.0   \n",
       "3  ...            17039.0        8382.0          3300.0          3.0   \n",
       "4  ...              141.0           0.0         30500.0          2.0   \n",
       "\n",
       "  total_il_high_credit_limit  total_rev_hi_lim  \\\n",
       "0                    27820.0             500.0   \n",
       "1                   147178.0           52400.0   \n",
       "2                    74167.0            6200.0   \n",
       "3                    10220.0            8800.0   \n",
       "4                        0.0           31000.0   \n",
       "\n",
       "                                                 url verification_status  \\\n",
       "0  https://lendingclub.com/browse/loanDetail.acti...            Verified   \n",
       "1  https://lendingclub.com/browse/loanDetail.acti...     Source Verified   \n",
       "2  https://lendingclub.com/browse/loanDetail.acti...        Not Verified   \n",
       "3  https://lendingclub.com/browse/loanDetail.acti...     Source Verified   \n",
       "4  https://lendingclub.com/browse/loanDetail.acti...     Source Verified   \n",
       "\n",
       "  verification_status_joint zip_code  \n",
       "0                       NaN    740xx  \n",
       "1                       NaN    337xx  \n",
       "2              Not Verified    030xx  \n",
       "3                       NaN    361xx  \n",
       "4                       NaN    988xx  \n",
       "\n",
       "[5 rows x 94 columns]"
      ]
     },
     "execution_count": 14,
     "metadata": {},
     "output_type": "execute_result"
    }
   ],
   "source": [
    "X.head()"
   ]
  },
  {
   "cell_type": "code",
   "execution_count": 15,
   "id": "4e10bc0c",
   "metadata": {},
   "outputs": [
    {
     "name": "stdout",
     "output_type": "stream",
     "text": [
      "<class 'pandas.core.frame.DataFrame'>\n",
      "RangeIndex: 495242 entries, 0 to 495241\n",
      "Data columns (total 94 columns):\n",
      " #   Column                          Non-Null Count   Dtype  \n",
      "---  ------                          --------------   -----  \n",
      " 0   acc_now_delinq                  495242 non-null  float64\n",
      " 1   acc_open_past_24mths            495242 non-null  float64\n",
      " 2   addr_state                      495242 non-null  object \n",
      " 3   all_util                        495113 non-null  float64\n",
      " 4   annual_inc                      495242 non-null  float64\n",
      " 5   annual_inc_joint                68985 non-null   float64\n",
      " 6   application_type                495242 non-null  object \n",
      " 7   avg_cur_bal                     495202 non-null  float64\n",
      " 8   bc_open_to_buy                  488654 non-null  float64\n",
      " 9   bc_util                         488439 non-null  float64\n",
      " 10  chargeoff_within_12_mths        495242 non-null  float64\n",
      " 11  collections_12_mths_ex_med      495242 non-null  float64\n",
      " 12  delinq_2yrs                     495242 non-null  float64\n",
      " 13  delinq_amnt                     495242 non-null  float64\n",
      " 14  desc                            0 non-null       object \n",
      " 15  dti                             494110 non-null  float64\n",
      " 16  dti_joint                       68985 non-null   float64\n",
      " 17  earliest_cr_line                495242 non-null  object \n",
      " 18  emp_length                      453255 non-null  object \n",
      " 19  emp_title                       440583 non-null  object \n",
      " 20  fico_range_high                 495242 non-null  float64\n",
      " 21  fico_range_low                  495242 non-null  float64\n",
      " 22  funded_amnt                     495242 non-null  float64\n",
      " 23  grade                           495242 non-null  object \n",
      " 24  home_ownership                  495242 non-null  object \n",
      " 25  id                              495242 non-null  object \n",
      " 26  il_util                         414418 non-null  float64\n",
      " 27  initial_list_status             495242 non-null  object \n",
      " 28  inq_fi                          495242 non-null  float64\n",
      " 29  inq_last_12m                    495242 non-null  float64\n",
      " 30  inq_last_6mths                  495242 non-null  float64\n",
      " 31  installment                     495242 non-null  float64\n",
      " 32  int_rate                        495242 non-null  float64\n",
      " 33  loan_amnt                       495242 non-null  float64\n",
      " 34  max_bal_bc                      495242 non-null  float64\n",
      " 35  member_id                       0 non-null       float64\n",
      " 36  mo_sin_old_il_acct              476832 non-null  float64\n",
      " 37  mo_sin_old_rev_tl_op            495242 non-null  float64\n",
      " 38  mo_sin_rcnt_rev_tl_op           495242 non-null  float64\n",
      " 39  mo_sin_rcnt_tl                  495242 non-null  float64\n",
      " 40  mort_acc                        495242 non-null  float64\n",
      " 41  mths_since_last_delinq          218590 non-null  float64\n",
      " 42  mths_since_last_major_derog     114833 non-null  float64\n",
      " 43  mths_since_last_record          62984 non-null   float64\n",
      " 44  mths_since_rcnt_il              476832 non-null  float64\n",
      " 45  mths_since_recent_bc            489044 non-null  float64\n",
      " 46  mths_since_recent_bc_dlq        98110 non-null   float64\n",
      " 47  mths_since_recent_inq           433937 non-null  float64\n",
      " 48  mths_since_recent_revol_delinq  142690 non-null  float64\n",
      " 49  num_accts_ever_120_pd           495242 non-null  float64\n",
      " 50  num_actv_bc_tl                  495242 non-null  float64\n",
      " 51  num_actv_rev_tl                 495242 non-null  float64\n",
      " 52  num_bc_sats                     495242 non-null  float64\n",
      " 53  num_bc_tl                       495242 non-null  float64\n",
      " 54  num_il_tl                       495242 non-null  float64\n",
      " 55  num_op_rev_tl                   495242 non-null  float64\n",
      " 56  num_rev_accts                   495242 non-null  float64\n",
      " 57  num_rev_tl_bal_gt_0             495242 non-null  float64\n",
      " 58  num_sats                        495242 non-null  float64\n",
      " 59  num_tl_120dpd_2m                482838 non-null  float64\n",
      " 60  num_tl_30dpd                    495242 non-null  float64\n",
      " 61  num_tl_90g_dpd_24m              495242 non-null  float64\n",
      " 62  num_tl_op_past_12m              495242 non-null  float64\n",
      " 63  open_acc                        495242 non-null  float64\n",
      " 64  open_acc_6m                     495242 non-null  float64\n",
      " 65  open_il_12m                     495242 non-null  float64\n",
      " 66  open_il_24m                     495242 non-null  float64\n",
      " 67  open_rv_12m                     495242 non-null  float64\n",
      " 68  open_rv_24m                     495242 non-null  float64\n",
      " 69  pct_tl_nvr_dlq                  495240 non-null  float64\n",
      " 70  percent_bc_gt_75                488646 non-null  float64\n",
      " 71  pub_rec                         495242 non-null  float64\n",
      " 72  pub_rec_bankruptcies            495242 non-null  float64\n",
      " 73  purpose                         495242 non-null  object \n",
      " 74  revol_bal                       495242 non-null  float64\n",
      " 75  revol_util                      494650 non-null  float64\n",
      " 76  sub_grade                       495242 non-null  object \n",
      " 77  tax_liens                       495242 non-null  float64\n",
      " 78  term                            495242 non-null  object \n",
      " 79  title                           495242 non-null  object \n",
      " 80  tot_coll_amt                    495242 non-null  float64\n",
      " 81  tot_cur_bal                     495242 non-null  float64\n",
      " 82  tot_hi_cred_lim                 495242 non-null  float64\n",
      " 83  total_acc                       495242 non-null  float64\n",
      " 84  total_bal_ex_mort               495242 non-null  float64\n",
      " 85  total_bal_il                    495242 non-null  float64\n",
      " 86  total_bc_limit                  495242 non-null  float64\n",
      " 87  total_cu_tl                     495242 non-null  float64\n",
      " 88  total_il_high_credit_limit      495242 non-null  float64\n",
      " 89  total_rev_hi_lim                495242 non-null  float64\n",
      " 90  url                             495242 non-null  object \n",
      " 91  verification_status             495242 non-null  object \n",
      " 92  verification_status_joint       64011 non-null   object \n",
      " 93  zip_code                        495242 non-null  object \n",
      "dtypes: float64(76), object(18)\n",
      "memory usage: 355.2+ MB\n"
     ]
    }
   ],
   "source": [
    "X.info()"
   ]
  },
  {
   "cell_type": "markdown",
   "id": "0c919d5c",
   "metadata": {},
   "source": [
    " "
   ]
  },
  {
   "cell_type": "markdown",
   "id": "fcac23a8",
   "metadata": {},
   "source": [
    "### 2. 데이터 타입별 Feature 변환\n",
    "\n",
    "- 결측값 처리\n",
    "- 기준정보 데이터와 대출승인 데이터의 정합성 맞추기"
   ]
  },
  {
   "cell_type": "markdown",
   "id": "cf99d079",
   "metadata": {},
   "source": [
    "#### 1) 범주형 데이터 확인\n",
    "- pandas 의 select_dtypes('object') 사용"
   ]
  },
  {
   "cell_type": "code",
   "execution_count": 16,
   "id": "56ee702a",
   "metadata": {},
   "outputs": [
    {
     "data": {
      "text/html": [
       "<div>\n",
       "<style scoped>\n",
       "    .dataframe tbody tr th:only-of-type {\n",
       "        vertical-align: middle;\n",
       "    }\n",
       "\n",
       "    .dataframe tbody tr th {\n",
       "        vertical-align: top;\n",
       "    }\n",
       "\n",
       "    .dataframe thead th {\n",
       "        text-align: right;\n",
       "    }\n",
       "</style>\n",
       "<table border=\"1\" class=\"dataframe\">\n",
       "  <thead>\n",
       "    <tr style=\"text-align: right;\">\n",
       "      <th></th>\n",
       "      <th>addr_state</th>\n",
       "      <th>application_type</th>\n",
       "      <th>desc</th>\n",
       "      <th>earliest_cr_line</th>\n",
       "      <th>emp_length</th>\n",
       "      <th>emp_title</th>\n",
       "      <th>grade</th>\n",
       "      <th>home_ownership</th>\n",
       "      <th>id</th>\n",
       "      <th>initial_list_status</th>\n",
       "      <th>purpose</th>\n",
       "      <th>sub_grade</th>\n",
       "      <th>term</th>\n",
       "      <th>title</th>\n",
       "      <th>url</th>\n",
       "      <th>verification_status</th>\n",
       "      <th>verification_status_joint</th>\n",
       "      <th>zip_code</th>\n",
       "    </tr>\n",
       "  </thead>\n",
       "  <tbody>\n",
       "    <tr>\n",
       "      <th>0</th>\n",
       "      <td>OK</td>\n",
       "      <td>Individual</td>\n",
       "      <td>NaN</td>\n",
       "      <td>Jan-2009</td>\n",
       "      <td>8 years</td>\n",
       "      <td>General Manager</td>\n",
       "      <td>D</td>\n",
       "      <td>RENT</td>\n",
       "      <td>130954621</td>\n",
       "      <td>w</td>\n",
       "      <td>other</td>\n",
       "      <td>D4</td>\n",
       "      <td>36 months</td>\n",
       "      <td>Other</td>\n",
       "      <td>https://lendingclub.com/browse/loanDetail.acti...</td>\n",
       "      <td>Verified</td>\n",
       "      <td>NaN</td>\n",
       "      <td>740xx</td>\n",
       "    </tr>\n",
       "    <tr>\n",
       "      <th>1</th>\n",
       "      <td>FL</td>\n",
       "      <td>Individual</td>\n",
       "      <td>NaN</td>\n",
       "      <td>Jul-1998</td>\n",
       "      <td>2 years</td>\n",
       "      <td>IT Director</td>\n",
       "      <td>B</td>\n",
       "      <td>OWN</td>\n",
       "      <td>130964697</td>\n",
       "      <td>w</td>\n",
       "      <td>debt_consolidation</td>\n",
       "      <td>B2</td>\n",
       "      <td>36 months</td>\n",
       "      <td>Debt consolidation</td>\n",
       "      <td>https://lendingclub.com/browse/loanDetail.acti...</td>\n",
       "      <td>Source Verified</td>\n",
       "      <td>NaN</td>\n",
       "      <td>337xx</td>\n",
       "    </tr>\n",
       "    <tr>\n",
       "      <th>2</th>\n",
       "      <td>NH</td>\n",
       "      <td>Joint App</td>\n",
       "      <td>NaN</td>\n",
       "      <td>Jul-2007</td>\n",
       "      <td>&lt; 1 year</td>\n",
       "      <td>Client services</td>\n",
       "      <td>G</td>\n",
       "      <td>RENT</td>\n",
       "      <td>130955326</td>\n",
       "      <td>w</td>\n",
       "      <td>medical</td>\n",
       "      <td>G1</td>\n",
       "      <td>60 months</td>\n",
       "      <td>Medical expenses</td>\n",
       "      <td>https://lendingclub.com/browse/loanDetail.acti...</td>\n",
       "      <td>Not Verified</td>\n",
       "      <td>Not Verified</td>\n",
       "      <td>030xx</td>\n",
       "    </tr>\n",
       "    <tr>\n",
       "      <th>3</th>\n",
       "      <td>AL</td>\n",
       "      <td>Individual</td>\n",
       "      <td>NaN</td>\n",
       "      <td>Mar-1995</td>\n",
       "      <td>10+ years</td>\n",
       "      <td>Asphalt Supervisor</td>\n",
       "      <td>D</td>\n",
       "      <td>MORTGAGE</td>\n",
       "      <td>130504052</td>\n",
       "      <td>w</td>\n",
       "      <td>debt_consolidation</td>\n",
       "      <td>D5</td>\n",
       "      <td>60 months</td>\n",
       "      <td>Debt consolidation</td>\n",
       "      <td>https://lendingclub.com/browse/loanDetail.acti...</td>\n",
       "      <td>Source Verified</td>\n",
       "      <td>NaN</td>\n",
       "      <td>361xx</td>\n",
       "    </tr>\n",
       "    <tr>\n",
       "      <th>4</th>\n",
       "      <td>WA</td>\n",
       "      <td>Individual</td>\n",
       "      <td>NaN</td>\n",
       "      <td>Jan-1998</td>\n",
       "      <td>9 years</td>\n",
       "      <td>Scale Technician</td>\n",
       "      <td>A</td>\n",
       "      <td>RENT</td>\n",
       "      <td>130956066</td>\n",
       "      <td>w</td>\n",
       "      <td>major_purchase</td>\n",
       "      <td>A4</td>\n",
       "      <td>36 months</td>\n",
       "      <td>Major purchase</td>\n",
       "      <td>https://lendingclub.com/browse/loanDetail.acti...</td>\n",
       "      <td>Source Verified</td>\n",
       "      <td>NaN</td>\n",
       "      <td>988xx</td>\n",
       "    </tr>\n",
       "  </tbody>\n",
       "</table>\n",
       "</div>"
      ],
      "text/plain": [
       "  addr_state application_type desc earliest_cr_line emp_length  \\\n",
       "0         OK       Individual  NaN         Jan-2009    8 years   \n",
       "1         FL       Individual  NaN         Jul-1998    2 years   \n",
       "2         NH        Joint App  NaN         Jul-2007   < 1 year   \n",
       "3         AL       Individual  NaN         Mar-1995  10+ years   \n",
       "4         WA       Individual  NaN         Jan-1998    9 years   \n",
       "\n",
       "            emp_title grade home_ownership         id initial_list_status  \\\n",
       "0     General Manager     D           RENT  130954621                   w   \n",
       "1        IT Director      B            OWN  130964697                   w   \n",
       "2    Client services      G           RENT  130955326                   w   \n",
       "3  Asphalt Supervisor     D       MORTGAGE  130504052                   w   \n",
       "4    Scale Technician     A           RENT  130956066                   w   \n",
       "\n",
       "              purpose sub_grade        term               title  \\\n",
       "0               other        D4   36 months               Other   \n",
       "1  debt_consolidation        B2   36 months  Debt consolidation   \n",
       "2             medical        G1   60 months    Medical expenses   \n",
       "3  debt_consolidation        D5   60 months  Debt consolidation   \n",
       "4      major_purchase        A4   36 months      Major purchase   \n",
       "\n",
       "                                                 url verification_status  \\\n",
       "0  https://lendingclub.com/browse/loanDetail.acti...            Verified   \n",
       "1  https://lendingclub.com/browse/loanDetail.acti...     Source Verified   \n",
       "2  https://lendingclub.com/browse/loanDetail.acti...        Not Verified   \n",
       "3  https://lendingclub.com/browse/loanDetail.acti...     Source Verified   \n",
       "4  https://lendingclub.com/browse/loanDetail.acti...     Source Verified   \n",
       "\n",
       "  verification_status_joint zip_code  \n",
       "0                       NaN    740xx  \n",
       "1                       NaN    337xx  \n",
       "2              Not Verified    030xx  \n",
       "3                       NaN    361xx  \n",
       "4                       NaN    988xx  "
      ]
     },
     "execution_count": 16,
     "metadata": {},
     "output_type": "execute_result"
    }
   ],
   "source": [
    "X.select_dtypes('object').head()"
   ]
  },
  {
   "cell_type": "markdown",
   "id": "53949a0e",
   "metadata": {},
   "source": [
    "#### 2) 범주형 문자열 데이터 중 날짜/기간/고유ID 데이터 처리\n",
    "- pandas의 to_datetime 사용\n",
    "- .str.extract('(\\d+)').astype('float') 사용"
   ]
  },
  {
   "cell_type": "code",
   "execution_count": 17,
   "id": "375e32c6",
   "metadata": {},
   "outputs": [],
   "source": [
    "# datetime type으로 변환.\n",
    "X['earliest_cr_line'] = pd.to_datetime(X['earliest_cr_line'], infer_datetime_format=True)\n",
    "# X['sec_app_earliest_cr_line'] = pd.to_datetime(X['sec_app_earliest_cr_line'], infer_datetime_format=True)"
   ]
  },
  {
   "cell_type": "code",
   "execution_count": 18,
   "id": "0ff62d93",
   "metadata": {},
   "outputs": [
    {
     "data": {
      "text/plain": [
       "array(['8 years', '2 years', '< 1 year', '10+ years', '9 years', nan,\n",
       "       '5 years', '4 years', '1 year', '7 years', '3 years', '6 years'],\n",
       "      dtype=object)"
      ]
     },
     "execution_count": 18,
     "metadata": {},
     "output_type": "execute_result"
    }
   ],
   "source": [
    "X['emp_length'].unique() # str을 숫자형으로 바꿔주어야 의미가 있음."
   ]
  },
  {
   "cell_type": "code",
   "execution_count": 19,
   "id": "28e40eea",
   "metadata": {},
   "outputs": [
    {
     "data": {
      "text/plain": [
       "0         130954621\n",
       "1         130964697\n",
       "2         130955326\n",
       "3         130504052\n",
       "4         130956066\n",
       "            ...    \n",
       "495237    130135401\n",
       "495238    129961614\n",
       "495239    130056422\n",
       "495240    130065381\n",
       "495241    129555354\n",
       "Name: id, Length: 495242, dtype: object"
      ]
     },
     "execution_count": 19,
     "metadata": {},
     "output_type": "execute_result"
    }
   ],
   "source": [
    "X['id']"
   ]
  },
  {
   "cell_type": "code",
   "execution_count": 20,
   "id": "c63062ca",
   "metadata": {},
   "outputs": [],
   "source": [
    "# 부등호를 없앰.\n",
    "X['emp_length'] = X['emp_length'].replace({'< 1 year': '0 years', '10+ years': '11 years'})\n",
    "# years를 없앰.\n",
    "X['emp_length'] = X['emp_length'].str.extract('(\\d+)').astype('float')\n",
    "X['id'] = X['id'].astype('float')"
   ]
  },
  {
   "cell_type": "markdown",
   "id": "4d43da28",
   "metadata": {},
   "source": [
    "### 3. 결측값 처리\n",
    "- 결측값 처리\n",
    "- 기준정보 데이터와 대출승인 데이터의 정합성 맞추기"
   ]
  },
  {
   "cell_type": "markdown",
   "id": "4989c018",
   "metadata": {},
   "source": [
    "#### 1) 컬럼별 결측값 비율 구한 후, 비율=1 인 컬럼 제거\n",
    "- .isna().mean()\n",
    "- 컬럼별 결측값 비율이 0인 항목을 제외한 나머지 항목들을 pandas의 sort_values() 사용하여 정렬.\n",
    "- 비율 = 1인 항목을 확인하여 pandas 의 drop으로 제거"
   ]
  },
  {
   "cell_type": "code",
   "execution_count": 21,
   "id": "f577db94",
   "metadata": {},
   "outputs": [
    {
     "data": {
      "text/html": [
       "<div>\n",
       "<style scoped>\n",
       "    .dataframe tbody tr th:only-of-type {\n",
       "        vertical-align: middle;\n",
       "    }\n",
       "\n",
       "    .dataframe tbody tr th {\n",
       "        vertical-align: top;\n",
       "    }\n",
       "\n",
       "    .dataframe thead th {\n",
       "        text-align: right;\n",
       "    }\n",
       "</style>\n",
       "<table border=\"1\" class=\"dataframe\">\n",
       "  <thead>\n",
       "    <tr style=\"text-align: right;\">\n",
       "      <th></th>\n",
       "      <th>acc_now_delinq</th>\n",
       "      <th>acc_open_past_24mths</th>\n",
       "      <th>addr_state</th>\n",
       "      <th>all_util</th>\n",
       "      <th>annual_inc</th>\n",
       "      <th>annual_inc_joint</th>\n",
       "      <th>application_type</th>\n",
       "      <th>avg_cur_bal</th>\n",
       "      <th>bc_open_to_buy</th>\n",
       "      <th>bc_util</th>\n",
       "      <th>...</th>\n",
       "      <th>total_bal_ex_mort</th>\n",
       "      <th>total_bal_il</th>\n",
       "      <th>total_bc_limit</th>\n",
       "      <th>total_cu_tl</th>\n",
       "      <th>total_il_high_credit_limit</th>\n",
       "      <th>total_rev_hi_lim</th>\n",
       "      <th>url</th>\n",
       "      <th>verification_status</th>\n",
       "      <th>verification_status_joint</th>\n",
       "      <th>zip_code</th>\n",
       "    </tr>\n",
       "  </thead>\n",
       "  <tbody>\n",
       "    <tr>\n",
       "      <th>0</th>\n",
       "      <td>False</td>\n",
       "      <td>False</td>\n",
       "      <td>False</td>\n",
       "      <td>False</td>\n",
       "      <td>False</td>\n",
       "      <td>True</td>\n",
       "      <td>False</td>\n",
       "      <td>False</td>\n",
       "      <td>False</td>\n",
       "      <td>False</td>\n",
       "      <td>...</td>\n",
       "      <td>False</td>\n",
       "      <td>False</td>\n",
       "      <td>False</td>\n",
       "      <td>False</td>\n",
       "      <td>False</td>\n",
       "      <td>False</td>\n",
       "      <td>False</td>\n",
       "      <td>False</td>\n",
       "      <td>True</td>\n",
       "      <td>False</td>\n",
       "    </tr>\n",
       "    <tr>\n",
       "      <th>1</th>\n",
       "      <td>False</td>\n",
       "      <td>False</td>\n",
       "      <td>False</td>\n",
       "      <td>False</td>\n",
       "      <td>False</td>\n",
       "      <td>True</td>\n",
       "      <td>False</td>\n",
       "      <td>False</td>\n",
       "      <td>False</td>\n",
       "      <td>False</td>\n",
       "      <td>...</td>\n",
       "      <td>False</td>\n",
       "      <td>False</td>\n",
       "      <td>False</td>\n",
       "      <td>False</td>\n",
       "      <td>False</td>\n",
       "      <td>False</td>\n",
       "      <td>False</td>\n",
       "      <td>False</td>\n",
       "      <td>True</td>\n",
       "      <td>False</td>\n",
       "    </tr>\n",
       "    <tr>\n",
       "      <th>2</th>\n",
       "      <td>False</td>\n",
       "      <td>False</td>\n",
       "      <td>False</td>\n",
       "      <td>False</td>\n",
       "      <td>False</td>\n",
       "      <td>False</td>\n",
       "      <td>False</td>\n",
       "      <td>False</td>\n",
       "      <td>False</td>\n",
       "      <td>False</td>\n",
       "      <td>...</td>\n",
       "      <td>False</td>\n",
       "      <td>False</td>\n",
       "      <td>False</td>\n",
       "      <td>False</td>\n",
       "      <td>False</td>\n",
       "      <td>False</td>\n",
       "      <td>False</td>\n",
       "      <td>False</td>\n",
       "      <td>False</td>\n",
       "      <td>False</td>\n",
       "    </tr>\n",
       "    <tr>\n",
       "      <th>3</th>\n",
       "      <td>False</td>\n",
       "      <td>False</td>\n",
       "      <td>False</td>\n",
       "      <td>False</td>\n",
       "      <td>False</td>\n",
       "      <td>True</td>\n",
       "      <td>False</td>\n",
       "      <td>False</td>\n",
       "      <td>False</td>\n",
       "      <td>False</td>\n",
       "      <td>...</td>\n",
       "      <td>False</td>\n",
       "      <td>False</td>\n",
       "      <td>False</td>\n",
       "      <td>False</td>\n",
       "      <td>False</td>\n",
       "      <td>False</td>\n",
       "      <td>False</td>\n",
       "      <td>False</td>\n",
       "      <td>True</td>\n",
       "      <td>False</td>\n",
       "    </tr>\n",
       "    <tr>\n",
       "      <th>4</th>\n",
       "      <td>False</td>\n",
       "      <td>False</td>\n",
       "      <td>False</td>\n",
       "      <td>False</td>\n",
       "      <td>False</td>\n",
       "      <td>True</td>\n",
       "      <td>False</td>\n",
       "      <td>False</td>\n",
       "      <td>False</td>\n",
       "      <td>False</td>\n",
       "      <td>...</td>\n",
       "      <td>False</td>\n",
       "      <td>False</td>\n",
       "      <td>False</td>\n",
       "      <td>False</td>\n",
       "      <td>False</td>\n",
       "      <td>False</td>\n",
       "      <td>False</td>\n",
       "      <td>False</td>\n",
       "      <td>True</td>\n",
       "      <td>False</td>\n",
       "    </tr>\n",
       "    <tr>\n",
       "      <th>...</th>\n",
       "      <td>...</td>\n",
       "      <td>...</td>\n",
       "      <td>...</td>\n",
       "      <td>...</td>\n",
       "      <td>...</td>\n",
       "      <td>...</td>\n",
       "      <td>...</td>\n",
       "      <td>...</td>\n",
       "      <td>...</td>\n",
       "      <td>...</td>\n",
       "      <td>...</td>\n",
       "      <td>...</td>\n",
       "      <td>...</td>\n",
       "      <td>...</td>\n",
       "      <td>...</td>\n",
       "      <td>...</td>\n",
       "      <td>...</td>\n",
       "      <td>...</td>\n",
       "      <td>...</td>\n",
       "      <td>...</td>\n",
       "      <td>...</td>\n",
       "    </tr>\n",
       "    <tr>\n",
       "      <th>495237</th>\n",
       "      <td>False</td>\n",
       "      <td>False</td>\n",
       "      <td>False</td>\n",
       "      <td>False</td>\n",
       "      <td>False</td>\n",
       "      <td>True</td>\n",
       "      <td>False</td>\n",
       "      <td>False</td>\n",
       "      <td>False</td>\n",
       "      <td>False</td>\n",
       "      <td>...</td>\n",
       "      <td>False</td>\n",
       "      <td>False</td>\n",
       "      <td>False</td>\n",
       "      <td>False</td>\n",
       "      <td>False</td>\n",
       "      <td>False</td>\n",
       "      <td>False</td>\n",
       "      <td>False</td>\n",
       "      <td>True</td>\n",
       "      <td>False</td>\n",
       "    </tr>\n",
       "    <tr>\n",
       "      <th>495238</th>\n",
       "      <td>False</td>\n",
       "      <td>False</td>\n",
       "      <td>False</td>\n",
       "      <td>False</td>\n",
       "      <td>False</td>\n",
       "      <td>True</td>\n",
       "      <td>False</td>\n",
       "      <td>False</td>\n",
       "      <td>False</td>\n",
       "      <td>False</td>\n",
       "      <td>...</td>\n",
       "      <td>False</td>\n",
       "      <td>False</td>\n",
       "      <td>False</td>\n",
       "      <td>False</td>\n",
       "      <td>False</td>\n",
       "      <td>False</td>\n",
       "      <td>False</td>\n",
       "      <td>False</td>\n",
       "      <td>True</td>\n",
       "      <td>False</td>\n",
       "    </tr>\n",
       "    <tr>\n",
       "      <th>495239</th>\n",
       "      <td>False</td>\n",
       "      <td>False</td>\n",
       "      <td>False</td>\n",
       "      <td>False</td>\n",
       "      <td>False</td>\n",
       "      <td>True</td>\n",
       "      <td>False</td>\n",
       "      <td>False</td>\n",
       "      <td>False</td>\n",
       "      <td>False</td>\n",
       "      <td>...</td>\n",
       "      <td>False</td>\n",
       "      <td>False</td>\n",
       "      <td>False</td>\n",
       "      <td>False</td>\n",
       "      <td>False</td>\n",
       "      <td>False</td>\n",
       "      <td>False</td>\n",
       "      <td>False</td>\n",
       "      <td>True</td>\n",
       "      <td>False</td>\n",
       "    </tr>\n",
       "    <tr>\n",
       "      <th>495240</th>\n",
       "      <td>False</td>\n",
       "      <td>False</td>\n",
       "      <td>False</td>\n",
       "      <td>False</td>\n",
       "      <td>False</td>\n",
       "      <td>True</td>\n",
       "      <td>False</td>\n",
       "      <td>False</td>\n",
       "      <td>False</td>\n",
       "      <td>False</td>\n",
       "      <td>...</td>\n",
       "      <td>False</td>\n",
       "      <td>False</td>\n",
       "      <td>False</td>\n",
       "      <td>False</td>\n",
       "      <td>False</td>\n",
       "      <td>False</td>\n",
       "      <td>False</td>\n",
       "      <td>False</td>\n",
       "      <td>True</td>\n",
       "      <td>False</td>\n",
       "    </tr>\n",
       "    <tr>\n",
       "      <th>495241</th>\n",
       "      <td>False</td>\n",
       "      <td>False</td>\n",
       "      <td>False</td>\n",
       "      <td>False</td>\n",
       "      <td>False</td>\n",
       "      <td>True</td>\n",
       "      <td>False</td>\n",
       "      <td>False</td>\n",
       "      <td>False</td>\n",
       "      <td>False</td>\n",
       "      <td>...</td>\n",
       "      <td>False</td>\n",
       "      <td>False</td>\n",
       "      <td>False</td>\n",
       "      <td>False</td>\n",
       "      <td>False</td>\n",
       "      <td>False</td>\n",
       "      <td>False</td>\n",
       "      <td>False</td>\n",
       "      <td>True</td>\n",
       "      <td>False</td>\n",
       "    </tr>\n",
       "  </tbody>\n",
       "</table>\n",
       "<p>495242 rows × 94 columns</p>\n",
       "</div>"
      ],
      "text/plain": [
       "        acc_now_delinq  acc_open_past_24mths  addr_state  all_util  \\\n",
       "0                False                 False       False     False   \n",
       "1                False                 False       False     False   \n",
       "2                False                 False       False     False   \n",
       "3                False                 False       False     False   \n",
       "4                False                 False       False     False   \n",
       "...                ...                   ...         ...       ...   \n",
       "495237           False                 False       False     False   \n",
       "495238           False                 False       False     False   \n",
       "495239           False                 False       False     False   \n",
       "495240           False                 False       False     False   \n",
       "495241           False                 False       False     False   \n",
       "\n",
       "        annual_inc  annual_inc_joint  application_type  avg_cur_bal  \\\n",
       "0            False              True             False        False   \n",
       "1            False              True             False        False   \n",
       "2            False             False             False        False   \n",
       "3            False              True             False        False   \n",
       "4            False              True             False        False   \n",
       "...            ...               ...               ...          ...   \n",
       "495237       False              True             False        False   \n",
       "495238       False              True             False        False   \n",
       "495239       False              True             False        False   \n",
       "495240       False              True             False        False   \n",
       "495241       False              True             False        False   \n",
       "\n",
       "        bc_open_to_buy  bc_util  ...  total_bal_ex_mort  total_bal_il  \\\n",
       "0                False    False  ...              False         False   \n",
       "1                False    False  ...              False         False   \n",
       "2                False    False  ...              False         False   \n",
       "3                False    False  ...              False         False   \n",
       "4                False    False  ...              False         False   \n",
       "...                ...      ...  ...                ...           ...   \n",
       "495237           False    False  ...              False         False   \n",
       "495238           False    False  ...              False         False   \n",
       "495239           False    False  ...              False         False   \n",
       "495240           False    False  ...              False         False   \n",
       "495241           False    False  ...              False         False   \n",
       "\n",
       "        total_bc_limit  total_cu_tl  total_il_high_credit_limit  \\\n",
       "0                False        False                       False   \n",
       "1                False        False                       False   \n",
       "2                False        False                       False   \n",
       "3                False        False                       False   \n",
       "4                False        False                       False   \n",
       "...                ...          ...                         ...   \n",
       "495237           False        False                       False   \n",
       "495238           False        False                       False   \n",
       "495239           False        False                       False   \n",
       "495240           False        False                       False   \n",
       "495241           False        False                       False   \n",
       "\n",
       "        total_rev_hi_lim    url  verification_status  \\\n",
       "0                  False  False                False   \n",
       "1                  False  False                False   \n",
       "2                  False  False                False   \n",
       "3                  False  False                False   \n",
       "4                  False  False                False   \n",
       "...                  ...    ...                  ...   \n",
       "495237             False  False                False   \n",
       "495238             False  False                False   \n",
       "495239             False  False                False   \n",
       "495240             False  False                False   \n",
       "495241             False  False                False   \n",
       "\n",
       "        verification_status_joint  zip_code  \n",
       "0                            True     False  \n",
       "1                            True     False  \n",
       "2                           False     False  \n",
       "3                            True     False  \n",
       "4                            True     False  \n",
       "...                           ...       ...  \n",
       "495237                       True     False  \n",
       "495238                       True     False  \n",
       "495239                       True     False  \n",
       "495240                       True     False  \n",
       "495241                       True     False  \n",
       "\n",
       "[495242 rows x 94 columns]"
      ]
     },
     "execution_count": 21,
     "metadata": {},
     "output_type": "execute_result"
    }
   ],
   "source": [
    "X.isna() # True False로 되어있음."
   ]
  },
  {
   "cell_type": "code",
   "execution_count": 22,
   "id": "1ec1d533",
   "metadata": {},
   "outputs": [
    {
     "data": {
      "text/plain": [
       "acc_now_delinq               0.000000\n",
       "acc_open_past_24mths         0.000000\n",
       "addr_state                   0.000000\n",
       "all_util                     0.000260\n",
       "annual_inc                   0.000000\n",
       "                               ...   \n",
       "total_rev_hi_lim             0.000000\n",
       "url                          0.000000\n",
       "verification_status          0.000000\n",
       "verification_status_joint    0.870748\n",
       "zip_code                     0.000000\n",
       "Length: 94, dtype: float64"
      ]
     },
     "execution_count": 22,
     "metadata": {},
     "output_type": "execute_result"
    }
   ],
   "source": [
    "X.isna().mean()"
   ]
  },
  {
   "cell_type": "code",
   "execution_count": 23,
   "id": "e4be2172",
   "metadata": {},
   "outputs": [
    {
     "data": {
      "text/plain": [
       "pct_tl_nvr_dlq                    0.000004\n",
       "avg_cur_bal                       0.000081\n",
       "all_util                          0.000260\n",
       "revol_util                        0.001195\n",
       "dti                               0.002286\n",
       "mths_since_recent_bc              0.012515\n",
       "bc_open_to_buy                    0.013303\n",
       "percent_bc_gt_75                  0.013319\n",
       "bc_util                           0.013737\n",
       "num_tl_120dpd_2m                  0.025046\n",
       "mths_since_rcnt_il                0.037174\n",
       "mo_sin_old_il_acct                0.037174\n",
       "emp_length                        0.084781\n",
       "emp_title                         0.110368\n",
       "mths_since_recent_inq             0.123788\n",
       "il_util                           0.163201\n",
       "mths_since_last_delinq            0.558620\n",
       "mths_since_recent_revol_delinq    0.711878\n",
       "mths_since_last_major_derog       0.768128\n",
       "mths_since_recent_bc_dlq          0.801895\n",
       "dti_joint                         0.860704\n",
       "annual_inc_joint                  0.860704\n",
       "verification_status_joint         0.870748\n",
       "mths_since_last_record            0.872822\n",
       "desc                              1.000000\n",
       "member_id                         1.000000\n",
       "dtype: float64"
      ]
     },
     "execution_count": 23,
     "metadata": {},
     "output_type": "execute_result"
    }
   ],
   "source": [
    "nan_mean = X.isna().mean()\n",
    "nan_mean = nan_mean[nan_mean != 0].sort_values()\n",
    "nan_mean"
   ]
  },
  {
   "cell_type": "markdown",
   "id": "9db97275",
   "metadata": {},
   "source": [
    "1.00이면 전부 다 결측치라는 것. 제거해야 함."
   ]
  },
  {
   "cell_type": "code",
   "execution_count": 24,
   "id": "456fa13a",
   "metadata": {},
   "outputs": [],
   "source": [
    "X = X.drop(['desc', 'member_id'], axis=1, errors='ignore')"
   ]
  },
  {
   "cell_type": "markdown",
   "id": "bd4cfd7e",
   "metadata": {},
   "source": [
    "#### 2) 결측값 채우기\n",
    "- 범주형 데이터의 결측값은 공백('')으로 채운다.\n",
    "- 숫자형 데이터의 결측값은 대출 데이터 특성에 따라 데이터의 최대값, 최소값으로 각각 채운다.\n",
    "- 최대값으로 채우는 경우 (값이 커졌을 때 대출 위험도가 줄어든다)\n",
    "            'bc_open_to_buy', 'mo_sin_old_il_acct', 'mths_since_last_delinq',\n",
    "            'mths_since_last_major_derog', 'mths_since_last_record',\n",
    "            'mths_since_rcnt_il', 'mths_since_recent_bc', 'mths_since_recent_bc_dlq',\n",
    "            'mths_since_recent_inq', 'mths_since_recent_revol_delinq',\n",
    "            'pct_tl_nvr_dlq'\n",
    "- 최대값 이외에는 최소값으로 채운다."
   ]
  },
  {
   "cell_type": "markdown",
   "id": "21f4440e",
   "metadata": {},
   "source": [
    "분석 목표는 대출 위험도를 줄이는 것.\n",
    "\n",
    "- 대출 위험도를 줄이는데 영향이 크다면 최소로.\n",
    "- 대출 위험도를 줄이는데 영향이 작다면 최대로."
   ]
  },
  {
   "cell_type": "code",
   "execution_count": 25,
   "id": "555b5681",
   "metadata": {},
   "outputs": [],
   "source": [
    "fill_empty = ['emp_title', 'verification_status_joint']\n",
    "\n",
    "# 데이터 설명 시트의 빨간 항목 참조\n",
    "# 최대값으로 해서 해당 항목으로 인해 부실 대출 방향으로 판단하지 않도록 함\n",
    "fill_max = ['bc_open_to_buy', 'mo_sin_old_il_acct', 'mths_since_last_delinq',\n",
    "            'mths_since_last_major_derog', 'mths_since_last_record',\n",
    "            'mths_since_rcnt_il', 'mths_since_recent_bc', 'mths_since_recent_bc_dlq',\n",
    "            'mths_since_recent_inq', 'mths_since_recent_revol_delinq',\n",
    "            'pct_tl_nvr_dlq']\n",
    "\n",
    "fill_min = np.setdiff1d(X.columns.values, np.append(fill_empty, fill_max))\n",
    "\n",
    "X[fill_empty] = X[fill_empty].fillna('')\n",
    "X[fill_max] = X[fill_max].fillna(X[fill_max].max())\n",
    "X[fill_min] = X[fill_min].fillna(X[fill_min].min())"
   ]
  },
  {
   "cell_type": "markdown",
   "id": "4dc4aa56",
   "metadata": {},
   "source": [
    "### 4. 변수 간 상관성에 따른 데이터 정제"
   ]
  },
  {
   "cell_type": "markdown",
   "id": "1d9d08d1",
   "metadata": {},
   "source": [
    "#### 1) 숫자형 컬럼 데이터의 유일한 값 개수 확인\n",
    "- pandas의 select_dtypes('number') 사용\n",
    "- pandas의 nunique().sort_values() 사용\n",
    "- 유일한 값이 1개인 경우/모든 행의 값이 다른 경우 둘 다 제거한다"
   ]
  },
  {
   "cell_type": "code",
   "execution_count": 26,
   "id": "078d617e",
   "metadata": {},
   "outputs": [
    {
     "data": {
      "text/plain": [
       "num_tl_120dpd_2m                   1\n",
       "acc_now_delinq                     2\n",
       "num_tl_30dpd                       2\n",
       "inq_last_6mths                     6\n",
       "pub_rec_bankruptcies               8\n",
       "                               ...  \n",
       "total_il_high_credit_limit    128691\n",
       "total_bal_ex_mort             139900\n",
       "tot_cur_bal                   254794\n",
       "tot_hi_cred_lim               266282\n",
       "id                            495242\n",
       "Length: 77, dtype: int64"
      ]
     },
     "execution_count": 26,
     "metadata": {},
     "output_type": "execute_result"
    }
   ],
   "source": [
    "num_feat = X.select_dtypes('number').columns.values\n",
    "X[num_feat].nunique().sort_values()"
   ]
  },
  {
   "cell_type": "code",
   "execution_count": 27,
   "id": "0fdcf0aa",
   "metadata": {},
   "outputs": [],
   "source": [
    "X = X.drop(['num_tl_120dpd_2m', 'id'], axis=1, errors='ignore')"
   ]
  },
  {
   "cell_type": "markdown",
   "id": "bfe9364b",
   "metadata": {},
   "source": [
    "#### 2) 숫자형 데이터 상관도에 따른 컬럼 제거\n",
    "- 숫자형 컬럼들 간 Pearson R 상관 계수를 구한다.\n",
    "- 상관 계수가 0.9 이상인 컬럼들 중 가장 큰 컬럼을 제거해 본다.\n",
    "- 컬럼들 간 조합 생성: comb_num_feat = np.array(list(combinations(num_feat, 2)))\n",
    "- Pearson R 상관 계수 구하기: pearson(x1, x2)[0]"
   ]
  },
  {
   "cell_type": "markdown",
   "id": "26714c21",
   "metadata": {},
   "source": [
    "comb_num_feat = np.array(list(combinations(num_feat, 2)))\n",
    "\n",
    "- np.array로 만들어달라.\n",
    "- num_feat을 2개씩 combinations한 list를.\n",
    "    - num_feat: number형 dtypes의 모든 columns들의 values들의 집합."
   ]
  },
  {
   "cell_type": "code",
   "execution_count": 28,
   "id": "ca646382",
   "metadata": {},
   "outputs": [],
   "source": [
    "num_feat = X.select_dtypes('number').columns.values\n",
    "comb_num_feat = np.array(list(combinations(num_feat, 2)))\n",
    "corr_num_feat = np.array([])\n",
    "for comb in comb_num_feat:\n",
    "    corr = pearsonr(X[comb[0]], X[comb[1]])[0]\n",
    "    corr_num_feat = np.append(corr_num_feat, corr)"
   ]
  },
  {
   "cell_type": "markdown",
   "id": "106c0640",
   "metadata": {},
   "source": [
    "corr_num_feat 중 절댓값이 0.9 이상인 것을 filtering\n",
    "\n",
    "- 상관계수는 절댓값."
   ]
  },
  {
   "cell_type": "code",
   "execution_count": 29,
   "id": "6304f5c0",
   "metadata": {},
   "outputs": [
    {
     "data": {
      "text/plain": [
       "array([['acc_now_delinq', 'num_tl_30dpd'],\n",
       "       ['fico_range_high', 'fico_range_low'],\n",
       "       ['funded_amnt', 'installment'],\n",
       "       ['funded_amnt', 'loan_amnt'],\n",
       "       ['installment', 'loan_amnt'],\n",
       "       ['mo_sin_old_il_acct', 'mths_since_rcnt_il'],\n",
       "       ['num_actv_rev_tl', 'num_rev_tl_bal_gt_0'],\n",
       "       ['num_sats', 'open_acc'],\n",
       "       ['tot_cur_bal', 'tot_hi_cred_lim'],\n",
       "       ['total_bal_ex_mort', 'total_bal_il'],\n",
       "       ['total_bal_il', 'total_il_high_credit_limit']], dtype='<U30')"
      ]
     },
     "execution_count": 29,
     "metadata": {},
     "output_type": "execute_result"
    }
   ],
   "source": [
    "high_corr_num = comb_num_feat[np.abs(corr_num_feat) >= 0.9]\n",
    "high_corr_num"
   ]
  },
  {
   "cell_type": "markdown",
   "id": "ec760115",
   "metadata": {},
   "source": [
    "이 중 가장 큰 값은 삭제하기."
   ]
  },
  {
   "cell_type": "code",
   "execution_count": 30,
   "id": "57e08b07",
   "metadata": {},
   "outputs": [],
   "source": [
    "X = X.drop(np.unique(high_corr_num[:, 0]), axis=1, errors='ignore')"
   ]
  },
  {
   "cell_type": "markdown",
   "id": "c782fc2f",
   "metadata": {},
   "source": [
    "#### 3) 범주형 데이터의 유일한 값 개수 확인\n",
    "- pandas의 select_dtypes('object') 사용.\n",
    "- pandas의 nunique().sort_values() 사용.\n",
    "- 유일한 값이 1개인 경우/모든 행의 값이 다른 경우 둘 다 제거한다.\n",
    "- 범주형 데이터의 경우 Encoding시 메모리 오류를 방지하기 위해 유일한 값이 많은 경우는 제거하는 것ㅇ ㅣ좋다."
   ]
  },
  {
   "cell_type": "code",
   "execution_count": 31,
   "id": "6b0ebae3",
   "metadata": {},
   "outputs": [
    {
     "data": {
      "text/plain": [
       "application_type                  2\n",
       "initial_list_status               2\n",
       "term                              2\n",
       "verification_status               3\n",
       "home_ownership                    4\n",
       "verification_status_joint         4\n",
       "grade                             7\n",
       "title                            12\n",
       "purpose                          13\n",
       "sub_grade                        35\n",
       "addr_state                       50\n",
       "zip_code                        897\n",
       "emp_title                    129450\n",
       "url                          495242\n",
       "dtype: int64"
      ]
     },
     "execution_count": 31,
     "metadata": {},
     "output_type": "execute_result"
    }
   ],
   "source": [
    "cat_feat = X.select_dtypes('object').columns.values\n",
    "X[cat_feat].nunique().sort_values()"
   ]
  },
  {
   "cell_type": "markdown",
   "id": "8da01c9b",
   "metadata": {},
   "source": [
    "- url은 각 행에 독립적으로 존재.\n",
    "- emp_title 129450개는 메모리 오류를 야기."
   ]
  },
  {
   "cell_type": "code",
   "execution_count": 32,
   "id": "954dbd99",
   "metadata": {},
   "outputs": [],
   "source": [
    "X = X.drop(['url', 'emp_title'], axis=1, errors='ignore')"
   ]
  },
  {
   "cell_type": "markdown",
   "id": "af078851",
   "metadata": {},
   "source": [
    "#### 4) 범주형 데이터 상관도에 따른 컬럼 제거\n",
    "- 범주형 컬럼들 간 카이제곱 통계량을 사용하는 Crammer의 V 상관 계수를 구한다.\n",
    "- Crammer의 V 상관계수 식 구하는 방법\n",
    "\n",
    "```\n",
    "  table = pd.pivot_table(X, values='loan_amnt', index=comb[0], columns=comb[1], aggfunc='count').fillna(0)\n",
    "  corr = np.sqrt(chi2_contingency(table)[0] / (table.values.sum() * (np.min(table.shape) - 1) ) )\n",
    "```\n",
    "\n",
    "- 상관 계수가 0.9 이상인 컬럼들 중 머신러닝 모델 생성 시 예측 변수의 조건으로 활용한 grade를 제외한 후 가장 높은 컬럼을 제거한다.\n",
    "- 컬럼들 간 조합 생성: comb_cat_feat = np.array(list(combinations(cat_feat, 2)))"
   ]
  },
  {
   "cell_type": "code",
   "execution_count": 33,
   "id": "66fef626",
   "metadata": {},
   "outputs": [],
   "source": [
    "cat_feat = X.select_dtypes('object').columns.values\n",
    "comb_cat_feat = np.array(list(combinations(cat_feat, 2)))\n",
    "corr_cat_feat = np.array([])\n",
    "for comb in comb_cat_feat:\n",
    "    table = pd.pivot_table(X, values='loan_amnt', index=comb[0], columns=comb[1], aggfunc='count').fillna(0)\n",
    "    corr = np.sqrt(chi2_contingency(table)[0] / (table.values.sum() * np.min(table.shape) - 1))\n",
    "    corr_cat_feat = np.append(corr_cat_feat, corr)"
   ]
  },
  {
   "cell_type": "code",
   "execution_count": 34,
   "id": "50c676fe",
   "metadata": {},
   "outputs": [
    {
     "data": {
      "text/plain": [
       "array([['addr_state', 'zip_code'],\n",
       "       ['grade', 'sub_grade'],\n",
       "       ['purpose', 'title']], dtype='<U25')"
      ]
     },
     "execution_count": 34,
     "metadata": {},
     "output_type": "execute_result"
    }
   ],
   "source": [
    "high_corr_cat = comb_cat_feat[corr_cat_feat >= 0.9]\n",
    "high_corr_cat"
   ]
  },
  {
   "cell_type": "markdown",
   "id": "4433eb32",
   "metadata": {},
   "source": [
    "여기서 grade는 target임.\n",
    "- 가장 상관성이 높은 변수이기도 함.\n",
    "- target이 아니었으면 이를 제거하는게 맞으나, target이기 때문에 유지하여야 함.\n",
    "- 아래 코드에서 [:, 1]로 한 이유."
   ]
  },
  {
   "cell_type": "code",
   "execution_count": 35,
   "id": "1131cdde",
   "metadata": {},
   "outputs": [],
   "source": [
    "X = X.drop(np.unique(high_corr_cat[:, 1]), axis=1, errors='ignore')"
   ]
  },
  {
   "cell_type": "markdown",
   "id": "14ab94ff",
   "metadata": {},
   "source": [
    "### 5. 예측 변수 Feature 생성"
   ]
  },
  {
   "cell_type": "markdown",
   "id": "e40ab6c8",
   "metadata": {},
   "source": [
    "대출 상태를 보여주는 'loan_stats'를 예측 변수 Feature로 한다\n",
    "\n",
    "- load_status의 항목별 개수를 확인한다.\n",
    "- 건전한 상태를 나타내는 'Current, Fully Paid, In Grace Peroid'를 1로 나타낸다.\n",
    "- 그 외는 부실한 상태를 나타내는 0으로 나타낸다."
   ]
  },
  {
   "cell_type": "code",
   "execution_count": 36,
   "id": "5109c9de",
   "metadata": {},
   "outputs": [
    {
     "data": {
      "text/plain": [
       "Current               427181\n",
       "Fully Paid             47444\n",
       "Charged Off             8867\n",
       "Late (31-120 days)      7221\n",
       "In Grace Period         2919\n",
       "Late (16-30 days)       1603\n",
       "Default                    7\n",
       "Name: loan_status, dtype: int64"
      ]
     },
     "execution_count": 36,
     "metadata": {},
     "output_type": "execute_result"
    }
   ],
   "source": [
    "data['loan_status'].value_counts()"
   ]
  },
  {
   "cell_type": "code",
   "execution_count": 37,
   "id": "939c8e83",
   "metadata": {},
   "outputs": [
    {
     "data": {
      "text/plain": [
       "1    477544\n",
       "0     17698\n",
       "Name: loan_status, dtype: int64"
      ]
     },
     "execution_count": 37,
     "metadata": {},
     "output_type": "execute_result"
    }
   ],
   "source": [
    "y = data['loan_status'].copy()\n",
    "y = y.isin(['Current', 'Fully Paid', 'In Grace Period']).astype('int')\n",
    "y.value_counts()"
   ]
  },
  {
   "cell_type": "markdown",
   "id": "30182e8d",
   "metadata": {},
   "source": [
    "## 03. 모델링"
   ]
  },
  {
   "cell_type": "markdown",
   "id": "3018a6dd",
   "metadata": {},
   "source": [
    "#### 1) 분석 목표는 '고위험/고금리 대출 중 양호한 대출을 예측하는 것'\n",
    "\n",
    "- 위험도를 나타내는 grade 컬럼에서 가장 위험한 상태인 'E'에 해당하는 데이터만 가져온다.\n",
    "- 위험도에 따라 설정되는 int_rate 컬럼은 제거한다."
   ]
  },
  {
   "cell_type": "code",
   "execution_count": 38,
   "id": "40fe698f",
   "metadata": {},
   "outputs": [],
   "source": [
    "X_mod = X[X.grade == 'E'].copy()\n",
    "X_mod = X_mod.drop(['grade', 'int_rate'], axis=1, errors='ignore')\n",
    "y_mod = y[X_mod.index]"
   ]
  },
  {
   "cell_type": "markdown",
   "id": "bbb44902",
   "metadata": {},
   "source": [
    "X_mod 에서 X_train과 X_test를 확보하고 X_train을 다시 train과 val로 나눔."
   ]
  },
  {
   "cell_type": "code",
   "execution_count": 39,
   "id": "2bc5adf2",
   "metadata": {},
   "outputs": [],
   "source": [
    "X_train, X_test, y_train, y_test = train_test_split(X_mod, y_mod, stratify=y_mod, random_state=0)\n",
    "X_train, X_val, y_train, y_val = train_test_split(X_train, y_train, stratify=y_train, random_state=0)"
   ]
  },
  {
   "cell_type": "markdown",
   "id": "5417f0b8",
   "metadata": {},
   "source": [
    "#### 2) 머신러닝 기법은 'CatBoost'를 사용한다.\n",
    "\n",
    "- CatBoost는 범주가 많은 범주형 Feature를 포함하는 데이터셋에 매우 효율적.\n",
    "- CatBoost는 범주형 데이터를 숫자형으로 변환하게 되고, 기본 설정으로 Mean Encoding 사용.\n",
    "    - 단순하게 평균을 사용하게 되면 Data Leakage 문제가 발생.\n",
    "        - 우리가 예측해야 하는 값이 훈련 데이터의 Feature에 들어가는 문제.\n",
    "    - 이전 데이터들의 평균을 활용하는 방법을 사용하여 이를 해결.\n",
    "- Pool을 사용하여 학습 데이터를 CatBoost에 맞게 변환.\n",
    "- CatBoost는 Ordered Boosting과 Random Permutation 등의 Overfitting을 방지하기 위한 내장 알고리즘 존재.\n",
    "    - 비교적 다른 Gradient Boosting 방법들에 비해 Hyper Paramter Tuning에 자유로움.\n",
    "    - Ordered Boosting: 순서를 반영한 boosting.\n",
    "    - Random Permutation: 선택을 할 때마다 permutation."
   ]
  },
  {
   "cell_type": "code",
   "execution_count": 40,
   "id": "c22a3688",
   "metadata": {},
   "outputs": [
    {
     "data": {
      "application/vnd.jupyter.widget-view+json": {
       "model_id": "541c5afc20fc4b91b8b625f58cc7c038",
       "version_major": 2,
       "version_minor": 0
      },
      "text/plain": [
       "MetricVisualizer(layout=Layout(align_self='stretch', height='500px'))"
      ]
     },
     "metadata": {},
     "output_type": "display_data"
    }
   ],
   "source": [
    "cat_feat_ind = (X_train.dtypes == 'object').to_numpy().nonzero()[0]\n",
    "pool_train = Pool(X_train, y_train, cat_features=cat_feat_ind)\n",
    "pool_val = Pool(X_val, y_val, cat_features=cat_feat_ind)\n",
    "pool_test = Pool(X_test, y_test, cat_features=cat_feat_ind)\n",
    "\n",
    "n = y_train.value_counts()\n",
    "model = CatBoostClassifier(learning_rate=0.03,\n",
    "                           verbose=False,\n",
    "                           random_state=0)\n",
    "model.fit(pool_train, eval_set=pool_val, plot=True);"
   ]
  },
  {
   "cell_type": "markdown",
   "id": "e31c55db",
   "metadata": {},
   "source": [
    "#### 3) 모델의 성능\n",
    "\n",
    "- Accuracy, Precision, Recall을 사용.\n",
    "- Accuracy(정확도): (실제 데이터가 예측 데이터인 수)/(전체 데이터 수) -> 모델이 얼마나 정확하게 분류하는가?\n",
    "- Precision(정밀도): (A라고 예측한 데이터가 실제 A인 데이터 수)/(A라고 예측한 데이터 수) -> 모델이 찾은 A는 얼마나 정확한가? (일반 메일을 스펨 메일로 분류해서는 안됨)\n",
    "- Recall(재현율): (A라고 예측한 데이터 수)/(실제 A인 데이터 수) -> 모델이 얼마나 정확하게 A를 찾는가? (실제 암환자인 경우 반드시 양성으로 판단해야 함)"
   ]
  },
  {
   "cell_type": "markdown",
   "id": "9c7cd28e",
   "metadata": {},
   "source": [
    "Precision과 Recall은 trade-off 관계."
   ]
  },
  {
   "cell_type": "code",
   "execution_count": 41,
   "id": "099afd5a",
   "metadata": {},
   "outputs": [
    {
     "name": "stdout",
     "output_type": "stream",
     "text": [
      "Accuracy (test): 0.909\n",
      "Precision (test): 0.909\n",
      "Recall (test): 1.000\n"
     ]
    },
    {
     "data": {
      "image/png": "[encoded data removed]",
      "text/plain": [
       "<Figure size 432x288 with 2 Axes>"
      ]
     },
     "metadata": {
      "needs_background": "light"
     },
     "output_type": "display_data"
    }
   ],
   "source": [
    "y_pred_test = model.predict(pool_test)\n",
    "\n",
    "acc_test = accuracy_score(y_test, y_pred_test)\n",
    "prec_test = precision_score(y_test, y_pred_test)\n",
    "rec_test = recall_score(y_test, y_pred_test)\n",
    "print(f'''Accuracy (test): {acc_test:.3f}\n",
    "Precision (test): {prec_test:.3f}\n",
    "Recall (test): {rec_test:.3f}''')\n",
    "\n",
    "cm = confusion_matrix(y_test, y_pred_test)\n",
    "ax = sns.heatmap(cm, cmap='viridis_r', annot=True, fmt='d', square=True)\n",
    "ax.set_xlabel('Predictive Values')\n",
    "ax.set_ylabel('Actual Values');"
   ]
  },
  {
   "cell_type": "markdown",
   "id": "ec4eb742",
   "metadata": {},
   "source": [
    "## 04. Feature Importances"
   ]
  },
  {
   "cell_type": "markdown",
   "id": "b768bb71",
   "metadata": {},
   "source": [
    "통계적 데이터 분석\n",
    "- 실패 확률을 낮추는 것.\n",
    "- 적은 데이터에서 설명 가능한 변수를 찾고, 분석의 실패 가능성을 낮추는 것.\n",
    "\n",
    "머신러닝 데이터 분석\n",
    "- 변수들이 중요한 것이 아님.\n",
    "- 변수들이 여러개 들어가도 좋으니 예측의 성공 가능성을 높이는 것.\n",
    "    - 딥러닝이 이에 적합 (예측, 분류의 성능을 높히는 것에만 초점을 둠)"
   ]
  },
  {
   "cell_type": "markdown",
   "id": "067fbb54",
   "metadata": {},
   "source": [
    "머신러닝이 딥러닝보다 나은 점이 바로 Feature Importance.\n",
    "\n",
    "- 어떤 feature가 해당 모델에 가장 많은 기여를 했는지.\n",
    "- 분석 결과를 시각화하고 설득하는 과정에 필요."
   ]
  },
  {
   "cell_type": "markdown",
   "id": "568efe2f",
   "metadata": {},
   "source": [
    "#### 1) Feature Importances 그래프 그리기"
   ]
  },
  {
   "cell_type": "code",
   "execution_count": 47,
   "id": "dff90a5c",
   "metadata": {},
   "outputs": [
    {
     "data": {
      "text/plain": [
       "['acc_open_past_24mths',\n",
       " 'addr_state',\n",
       " 'all_util',\n",
       " 'annual_inc',\n",
       " 'annual_inc_joint',\n",
       " 'application_type',\n",
       " 'avg_cur_bal',\n",
       " 'bc_open_to_buy',\n",
       " 'bc_util',\n",
       " 'chargeoff_within_12_mths',\n",
       " 'collections_12_mths_ex_med',\n",
       " 'delinq_2yrs',\n",
       " 'delinq_amnt',\n",
       " 'dti',\n",
       " 'dti_joint',\n",
       " 'earliest_cr_line',\n",
       " 'emp_length',\n",
       " 'fico_range_low',\n",
       " 'home_ownership',\n",
       " 'il_util',\n",
       " 'initial_list_status',\n",
       " 'inq_fi',\n",
       " 'inq_last_12m',\n",
       " 'inq_last_6mths',\n",
       " 'loan_amnt',\n",
       " 'max_bal_bc',\n",
       " 'mo_sin_old_rev_tl_op',\n",
       " 'mo_sin_rcnt_rev_tl_op',\n",
       " 'mo_sin_rcnt_tl',\n",
       " 'mort_acc',\n",
       " 'mths_since_last_delinq',\n",
       " 'mths_since_last_major_derog',\n",
       " 'mths_since_last_record',\n",
       " 'mths_since_rcnt_il',\n",
       " 'mths_since_recent_bc',\n",
       " 'mths_since_recent_bc_dlq',\n",
       " 'mths_since_recent_inq',\n",
       " 'mths_since_recent_revol_delinq',\n",
       " 'num_accts_ever_120_pd',\n",
       " 'num_actv_bc_tl',\n",
       " 'num_bc_sats',\n",
       " 'num_bc_tl',\n",
       " 'num_il_tl',\n",
       " 'num_op_rev_tl',\n",
       " 'num_rev_accts',\n",
       " 'num_rev_tl_bal_gt_0',\n",
       " 'num_tl_30dpd',\n",
       " 'num_tl_90g_dpd_24m',\n",
       " 'num_tl_op_past_12m',\n",
       " 'open_acc',\n",
       " 'open_acc_6m',\n",
       " 'open_il_12m',\n",
       " 'open_il_24m',\n",
       " 'open_rv_12m',\n",
       " 'open_rv_24m',\n",
       " 'pct_tl_nvr_dlq',\n",
       " 'percent_bc_gt_75',\n",
       " 'pub_rec',\n",
       " 'pub_rec_bankruptcies',\n",
       " 'purpose',\n",
       " 'revol_bal',\n",
       " 'revol_util',\n",
       " 'tax_liens',\n",
       " 'term',\n",
       " 'tot_coll_amt',\n",
       " 'tot_hi_cred_lim',\n",
       " 'total_acc',\n",
       " 'total_bc_limit',\n",
       " 'total_cu_tl',\n",
       " 'total_il_high_credit_limit',\n",
       " 'total_rev_hi_lim',\n",
       " 'verification_status',\n",
       " 'verification_status_joint']"
      ]
     },
     "execution_count": 47,
     "metadata": {},
     "output_type": "execute_result"
    }
   ],
   "source": [
    "model.feature_names_"
   ]
  },
  {
   "cell_type": "code",
   "execution_count": 48,
   "id": "1eecb6a4",
   "metadata": {},
   "outputs": [
    {
     "data": {
      "text/plain": [
       "array([ 0.85042889,  3.00695338,  1.09337406,  2.18274306,  1.22986908,\n",
       "        0.24820161,  1.02137374,  2.02022936,  1.66591392,  0.15417488,\n",
       "        0.21835053,  0.96071572,  0.03330372,  2.71648281,  0.58637471,\n",
       "        3.14896291,  1.53739214,  1.36614317,  1.42579734,  1.5257113 ,\n",
       "        2.21310904,  0.70467153,  3.02665214,  2.09401177, 10.82221541,\n",
       "        1.09198242,  1.50816889,  0.64652052,  0.7752004 ,  1.40667956,\n",
       "        1.04981929,  1.19594275,  0.84156064,  0.92190686,  0.84271201,\n",
       "        0.9014686 ,  4.09876963,  1.2786517 ,  0.65221985,  1.55563509,\n",
       "        0.94963353,  1.11335639,  0.80323184,  1.02488215,  0.89525359,\n",
       "        2.17352393,  0.        ,  0.25995021,  0.74336927,  1.30364658,\n",
       "        0.68799297,  0.44305079,  0.27138407,  0.37653441,  0.58762628,\n",
       "        1.82290308,  1.85395035,  0.09707339,  0.26154067,  1.66291551,\n",
       "        1.68433985,  2.24479804,  0.19649813,  3.04363019,  0.60283432,\n",
       "        1.5770782 ,  0.55241237,  1.20110298,  1.33156915,  1.04432752,\n",
       "        1.67476034,  1.59479571,  1.29963973])"
      ]
     },
     "execution_count": 48,
     "metadata": {},
     "output_type": "execute_result"
    }
   ],
   "source": [
    "model.feature_importances_"
   ]
  },
  {
   "cell_type": "code",
   "execution_count": 42,
   "id": "f675852a",
   "metadata": {},
   "outputs": [
    {
     "data": {
      "image/png": "[encoded data removed]",
      "text/plain": [
       "<Figure size 432x288 with 1 Axes>"
      ]
     },
     "metadata": {
      "needs_background": "light"
     },
     "output_type": "display_data"
    }
   ],
   "source": [
    "feat = model.feature_names_\n",
    "imp = model.feature_importances_\n",
    "df = pd.DataFrame({'Feature': feat, 'Importance': imp})\n",
    "df = df.sort_values('Importance', ascending=False)[:10]\n",
    "sns.barplot(x='Importance', y='Feature', data=df);"
   ]
  },
  {
   "cell_type": "markdown",
   "id": "8b8ef534",
   "metadata": {},
   "source": [
    "얼마나 중요한지를 판단하기 위해 아래에서 관계도를 그려봐야함."
   ]
  },
  {
   "cell_type": "markdown",
   "id": "c61f1048",
   "metadata": {},
   "source": [
    "#### 2) 주요 3개 Feature와 건전/부실 대출 간 관계\n",
    "\n",
    "- 대출액 히스토그램 상에서의 건전/부실 대출"
   ]
  },
  {
   "cell_type": "markdown",
   "id": "c30785c7",
   "metadata": {},
   "source": [
    "- 대출액 중에서 Good group과 Bad group의 분포.\n",
    "- 대출 금액이 적으면 Good group이 몰려 있음."
   ]
  },
  {
   "cell_type": "code",
   "execution_count": 43,
   "id": "fddacfb1",
   "metadata": {},
   "outputs": [
    {
     "name": "stderr",
     "output_type": "stream",
     "text": [
      "c:\\python\\python38\\lib\\site-packages\\seaborn\\distributions.py:2619: FutureWarning: `distplot` is a deprecated function and will be removed in a future version. Please adapt your code to use either `displot` (a figure-level function with similar flexibility) or `histplot` (an axes-level function for histograms).\n",
      "  warnings.warn(msg, FutureWarning)\n"
     ]
    },
    {
     "data": {
      "image/png": "[encoded data removed]",
      "text/plain": [
       "<Figure size 432x288 with 1 Axes>"
      ]
     },
     "metadata": {
      "needs_background": "light"
     },
     "output_type": "display_data"
    }
   ],
   "source": [
    "good = X_mod.loc[y_mod == 1, 'loan_amnt']\n",
    "bad = X_mod.loc[y_mod == 0, 'loan_amnt']\n",
    "\n",
    "bins = 20\n",
    "sns.distplot(good, bins=bins, label='Good loans', kde=False, norm_hist=True)\n",
    "ax = sns.distplot(bad, bins=bins, label='Bad loans', kde=False, norm_hist=True)\n",
    "ax.set_ylabel('Density')\n",
    "ax.legend();"
   ]
  },
  {
   "cell_type": "code",
   "execution_count": 44,
   "id": "6988597f",
   "metadata": {},
   "outputs": [
    {
     "data": {
      "image/png": "[encoded data removed]",
      "text/plain": [
       "<Figure size 432x288 with 1 Axes>"
      ]
     },
     "metadata": {
      "needs_background": "light"
     },
     "output_type": "display_data"
    }
   ],
   "source": [
    "good = X_mod.loc[y_mod == 1, 'mths_since_recent_inq']\n",
    "bad = X_mod.loc[y_mod == 0, 'mths_since_recent_inq']\n",
    "\n",
    "bins = 20\n",
    "sns.distplot(good, bins=bins, label='Good loans', kde=False, norm_hist=True)\n",
    "ax = sns.distplot(bad, bins=bins, label='Bad loans', kde=False, norm_hist=True)\n",
    "ax.set_ylabel('Density')\n",
    "ax.legend();"
   ]
  },
  {
   "cell_type": "markdown",
   "id": "dc7cf77e",
   "metadata": {},
   "source": [
    "- 1개월만에 다시 대출을 문의한 사람들이 Bad group에 포진."
   ]
  },
  {
   "cell_type": "code",
   "execution_count": 53,
   "id": "8513c0fe",
   "metadata": {},
   "outputs": [
    {
     "name": "stderr",
     "output_type": "stream",
     "text": [
      "c:\\python\\python38\\lib\\site-packages\\seaborn\\distributions.py:2619: FutureWarning: `distplot` is a deprecated function and will be removed in a future version. Please adapt your code to use either `displot` (a figure-level function with similar flexibility) or `histplot` (an axes-level function for histograms).\n",
      "  warnings.warn(msg, FutureWarning)\n"
     ]
    },
    {
     "data": {
      "image/png": "[encoded data removed]",
      "text/plain": [
       "<Figure size 432x288 with 1 Axes>"
      ]
     },
     "metadata": {
      "needs_background": "light"
     },
     "output_type": "display_data"
    }
   ],
   "source": [
    "good = X_mod.loc[y_mod == 1, 'revol_util']\n",
    "bad = X_mod.loc[y_mod == 0, 'revol_util']\n",
    "\n",
    "bins = 20\n",
    "sns.distplot(good, bins=bins, label='Good loans', kde=False, norm_hist=True)\n",
    "ax = sns.distplot(bad, bins=bins, label='Bad loans', kde=False, norm_hist=True)\n",
    "ax.set_ylabel('Density')\n",
    "ax.legend();"
   ]
  },
  {
   "cell_type": "code",
   "execution_count": null,
   "id": "67e1b46b",
   "metadata": {},
   "outputs": [],
   "source": []
  }
 ],
 "metadata": {
  "kernelspec": {
   "display_name": "Python 3 (ipykernel)",
   "language": "python",
   "name": "python3"
  },
  "language_info": {
   "codemirror_mode": {
    "name": "ipython",
    "version": 3
   },
   "file_extension": ".py",
   "mimetype": "text/x-python",
   "name": "python",
   "nbconvert_exporter": "python",
   "pygments_lexer": "ipython3",
   "version": "3.8.6"
  }
 },
 "nbformat": 4,
 "nbformat_minor": 5
}
