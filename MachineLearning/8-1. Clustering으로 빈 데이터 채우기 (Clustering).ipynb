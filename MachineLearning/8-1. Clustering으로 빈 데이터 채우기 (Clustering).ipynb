{
 "cells": [
  {
   "cell_type": "markdown",
   "id": "ddf42248",
   "metadata": {},
   "source": [
    "## Simple Titanic Survival Data"
   ]
  },
  {
   "cell_type": "code",
   "execution_count": 1,
   "id": "24066aab",
   "metadata": {},
   "outputs": [],
   "source": [
    "import pandas as pd\n",
    "import numpy as np\n",
    "import matplotlib.pyplot as plt\n",
    "\n",
    "np.random.seed(2021)"
   ]
  },
  {
   "cell_type": "markdown",
   "id": "b68ae9b2",
   "metadata": {},
   "source": [
    "## 1. Data"
   ]
  },
  {
   "cell_type": "code",
   "execution_count": 2,
   "id": "70d98599",
   "metadata": {},
   "outputs": [],
   "source": [
    "titanic = pd.read_csv('simple_titanic.csv')"
   ]
  },
  {
   "cell_type": "markdown",
   "id": "751f6910",
   "metadata": {},
   "source": [
    "- Survived: 생존 유무\n",
    "- Pclass: 탑승한 여객 클래스\n",
    "- Sex: 성별\n",
    "- Age: 나이\n",
    "- Fare: 운임료\n",
    "- Embarked: 승선항구 위치\n",
    "    - C: Cherbourg; Q: Queenstown; S: Southampton"
   ]
  },
  {
   "cell_type": "code",
   "execution_count": 3,
   "id": "f04c15b5",
   "metadata": {},
   "outputs": [
    {
     "data": {
      "text/plain": [
       "Index(['Survived', 'Pclass', 'Sex', 'Age', 'Fare', 'Embarked'], dtype='object')"
      ]
     },
     "execution_count": 3,
     "metadata": {},
     "output_type": "execute_result"
    }
   ],
   "source": [
    "titanic.columns"
   ]
  },
  {
   "cell_type": "code",
   "execution_count": 5,
   "id": "d90d44a8",
   "metadata": {},
   "outputs": [],
   "source": [
    "label = titanic['Survived']\n",
    "data = titanic.drop(['Survived'], axis=1)"
   ]
  },
  {
   "cell_type": "markdown",
   "id": "e1d3b6b8",
   "metadata": {},
   "source": [
    "### 1.1 EDA"
   ]
  },
  {
   "cell_type": "code",
   "execution_count": 6,
   "id": "4f668659",
   "metadata": {},
   "outputs": [
    {
     "data": {
      "text/html": [
       "<div>\n",
       "<style scoped>\n",
       "    .dataframe tbody tr th:only-of-type {\n",
       "        vertical-align: middle;\n",
       "    }\n",
       "\n",
       "    .dataframe tbody tr th {\n",
       "        vertical-align: top;\n",
       "    }\n",
       "\n",
       "    .dataframe thead th {\n",
       "        text-align: right;\n",
       "    }\n",
       "</style>\n",
       "<table border=\"1\" class=\"dataframe\">\n",
       "  <thead>\n",
       "    <tr style=\"text-align: right;\">\n",
       "      <th></th>\n",
       "      <th>Pclass</th>\n",
       "      <th>Age</th>\n",
       "      <th>Fare</th>\n",
       "    </tr>\n",
       "  </thead>\n",
       "  <tbody>\n",
       "    <tr>\n",
       "      <th>count</th>\n",
       "      <td>1306.000000</td>\n",
       "      <td>1043.000000</td>\n",
       "      <td>1306.000000</td>\n",
       "    </tr>\n",
       "    <tr>\n",
       "      <th>mean</th>\n",
       "      <td>2.296325</td>\n",
       "      <td>29.813202</td>\n",
       "      <td>33.223956</td>\n",
       "    </tr>\n",
       "    <tr>\n",
       "      <th>std</th>\n",
       "      <td>0.837037</td>\n",
       "      <td>14.366254</td>\n",
       "      <td>51.765986</td>\n",
       "    </tr>\n",
       "    <tr>\n",
       "      <th>min</th>\n",
       "      <td>1.000000</td>\n",
       "      <td>0.170000</td>\n",
       "      <td>0.000000</td>\n",
       "    </tr>\n",
       "    <tr>\n",
       "      <th>25%</th>\n",
       "      <td>2.000000</td>\n",
       "      <td>21.000000</td>\n",
       "      <td>7.895800</td>\n",
       "    </tr>\n",
       "    <tr>\n",
       "      <th>50%</th>\n",
       "      <td>3.000000</td>\n",
       "      <td>28.000000</td>\n",
       "      <td>14.454200</td>\n",
       "    </tr>\n",
       "    <tr>\n",
       "      <th>75%</th>\n",
       "      <td>3.000000</td>\n",
       "      <td>39.000000</td>\n",
       "      <td>31.275000</td>\n",
       "    </tr>\n",
       "    <tr>\n",
       "      <th>max</th>\n",
       "      <td>3.000000</td>\n",
       "      <td>80.000000</td>\n",
       "      <td>512.329200</td>\n",
       "    </tr>\n",
       "  </tbody>\n",
       "</table>\n",
       "</div>"
      ],
      "text/plain": [
       "            Pclass          Age         Fare\n",
       "count  1306.000000  1043.000000  1306.000000\n",
       "mean      2.296325    29.813202    33.223956\n",
       "std       0.837037    14.366254    51.765986\n",
       "min       1.000000     0.170000     0.000000\n",
       "25%       2.000000    21.000000     7.895800\n",
       "50%       3.000000    28.000000    14.454200\n",
       "75%       3.000000    39.000000    31.275000\n",
       "max       3.000000    80.000000   512.329200"
      ]
     },
     "execution_count": 6,
     "metadata": {},
     "output_type": "execute_result"
    }
   ],
   "source": [
    "data.describe()"
   ]
  },
  {
   "cell_type": "code",
   "execution_count": 10,
   "id": "367a90af",
   "metadata": {},
   "outputs": [
    {
     "data": {
      "text/plain": [
       "male      842\n",
       "female    464\n",
       "Name: Sex, dtype: int64"
      ]
     },
     "execution_count": 10,
     "metadata": {},
     "output_type": "execute_result"
    }
   ],
   "source": [
    "data['Sex'].value_counts()"
   ]
  },
  {
   "cell_type": "code",
   "execution_count": 8,
   "id": "69851204",
   "metadata": {},
   "outputs": [
    {
     "data": {
      "text/plain": [
       "S    913\n",
       "C    270\n",
       "Q    123\n",
       "Name: Embarked, dtype: int64"
      ]
     },
     "execution_count": 8,
     "metadata": {},
     "output_type": "execute_result"
    }
   ],
   "source": [
    "data['Embarked'].value_counts()"
   ]
  },
  {
   "cell_type": "markdown",
   "id": "e485e779",
   "metadata": {},
   "source": [
    "Age 변수에 결측치가 존재."
   ]
  },
  {
   "cell_type": "code",
   "execution_count": 11,
   "id": "a072ac83",
   "metadata": {},
   "outputs": [
    {
     "data": {
      "text/plain": [
       "Pclass        0\n",
       "Sex           0\n",
       "Age         263\n",
       "Fare          0\n",
       "Embarked      0\n",
       "dtype: int64"
      ]
     },
     "execution_count": 11,
     "metadata": {},
     "output_type": "execute_result"
    }
   ],
   "source": [
    "data.isna().sum()"
   ]
  },
  {
   "cell_type": "markdown",
   "id": "9c57e1c0",
   "metadata": {},
   "source": [
    "정답의 비율을 확인."
   ]
  },
  {
   "cell_type": "code",
   "execution_count": 12,
   "id": "972b1d45",
   "metadata": {},
   "outputs": [
    {
     "data": {
      "text/plain": [
       "0    814\n",
       "1    492\n",
       "Name: Survived, dtype: int64"
      ]
     },
     "execution_count": 12,
     "metadata": {},
     "output_type": "execute_result"
    }
   ],
   "source": [
    "label.value_counts()"
   ]
  },
  {
   "cell_type": "markdown",
   "id": "50f960be",
   "metadata": {},
   "source": [
    "### 1.2 Data Preprocess"
   ]
  },
  {
   "cell_type": "code",
   "execution_count": 13,
   "id": "264fb2db",
   "metadata": {},
   "outputs": [],
   "source": [
    "data.loc[:, 'Sex'] = data['Sex'].map({'male':0, 'female':1})\n",
    "data.loc[:, 'Embarked'] = data['Embarked'].map({'S':0, 'C':1, 'Q':2})"
   ]
  },
  {
   "cell_type": "markdown",
   "id": "07b91eca",
   "metadata": {},
   "source": [
    "### 1.3 Data Split"
   ]
  },
  {
   "cell_type": "code",
   "execution_count": 14,
   "id": "db3bf0f3",
   "metadata": {},
   "outputs": [],
   "source": [
    "from sklearn.model_selection import train_test_split\n",
    "\n",
    "train_data, validation_data, train_label, validation_label = train_test_split(data, label, train_size=0.6, random_state=2021)"
   ]
  },
  {
   "cell_type": "code",
   "execution_count": 15,
   "id": "add3a00f",
   "metadata": {},
   "outputs": [],
   "source": [
    "valid_data, test_data, valid_label, test_label = train_test_split(validation_data, validation_label, train_size=0.5, random_state=2021)"
   ]
  },
  {
   "cell_type": "code",
   "execution_count": 16,
   "id": "0c68a725",
   "metadata": {},
   "outputs": [
    {
     "name": "stdout",
     "output_type": "stream",
     "text": [
      "Train_data size: 783, 0.60\n",
      "Valid_data size: 261, 0.20\n",
      "Test_data size: 262, 0.20\n"
     ]
    }
   ],
   "source": [
    "print(f\"Train_data size: {len(train_label)}, {len(train_label)/len(data):.2f}\")\n",
    "print(f\"Valid_data size: {len(valid_label)}, {len(valid_label)/len(data):.2f}\")\n",
    "print(f\"Test_data size: {len(test_label)}, {len(test_label)/len(data):.2f}\")"
   ]
  },
  {
   "cell_type": "markdown",
   "id": "f8b703ee",
   "metadata": {},
   "source": [
    "Index를 초기화."
   ]
  },
  {
   "cell_type": "code",
   "execution_count": 17,
   "id": "50471dfa",
   "metadata": {},
   "outputs": [],
   "source": [
    "train_data = train_data.reset_index(drop=True)\n",
    "valid_data = valid_data.reset_index(drop=True)\n",
    "test_data = test_data.reset_index(drop=True)\n",
    "\n",
    "train_label = train_label.reset_index(drop=True)\n",
    "valid_label = valid_label.reset_index(drop=True)\n",
    "test_label = test_label.reset_index(drop=True)"
   ]
  },
  {
   "cell_type": "markdown",
   "id": "4314a0bf",
   "metadata": {},
   "source": [
    "## 2. 빈 데이터를 채우는 방법"
   ]
  },
  {
   "cell_type": "markdown",
   "id": "6ee1c35f",
   "metadata": {},
   "source": [
    "빈 값이 있는 데이터들."
   ]
  },
  {
   "cell_type": "code",
   "execution_count": 18,
   "id": "d80d7d6c",
   "metadata": {},
   "outputs": [
    {
     "data": {
      "text/plain": [
       "Index(['Age'], dtype='object')"
      ]
     },
     "execution_count": 18,
     "metadata": {},
     "output_type": "execute_result"
    }
   ],
   "source": [
    "na_cnt = data.isna().sum()\n",
    "na_cnt.loc[na_cnt > 0].index"
   ]
  },
  {
   "cell_type": "markdown",
   "id": "0e95bf60",
   "metadata": {},
   "source": [
    "### 2.1 사용하지 않는 방법\n",
    "\n",
    "- 결측치가 포함된 row를 버리기. dropna함수.\n",
    "- 이 방법을 Test 데이터에 대해 수행할 경우 비어있는 데이터를 처리할 수 있는 방법이 없어짐."
   ]
  },
  {
   "cell_type": "code",
   "execution_count": 19,
   "id": "e04279a5",
   "metadata": {},
   "outputs": [],
   "source": [
    "drop_data = data.dropna()"
   ]
  },
  {
   "cell_type": "code",
   "execution_count": 20,
   "id": "313b271c",
   "metadata": {},
   "outputs": [
    {
     "name": "stdout",
     "output_type": "stream",
     "text": [
      "전체 데이터 개수: 1306\n",
      "값이 비어있는 데이터를 버린 후 데이터 개수: 1043\n",
      "버려진 데이터 개수: 263\n"
     ]
    }
   ],
   "source": [
    "print(f\"전체 데이터 개수: {len(data)}\")\n",
    "print(f\"값이 비어있는 데이터를 버린 후 데이터 개수: {len(drop_data)}\")\n",
    "print(f\"버려진 데이터 개수: {len(data) - len(drop_data)}\")"
   ]
  },
  {
   "cell_type": "markdown",
   "id": "f6ed1874",
   "metadata": {},
   "source": [
    "### 2.2 전체 데이터의 평균으로 채우는 방법"
   ]
  },
  {
   "cell_type": "code",
   "execution_count": 23,
   "id": "e34608b3",
   "metadata": {},
   "outputs": [],
   "source": [
    "mean_train_data = train_data.copy()\n",
    "mean_valid_data = valid_data.copy()\n",
    "mean_test_data = test_data.copy()"
   ]
  },
  {
   "cell_type": "markdown",
   "id": "ea13aca6",
   "metadata": {},
   "source": [
    "학습 데이터의 Age의 평균."
   ]
  },
  {
   "cell_type": "code",
   "execution_count": 24,
   "id": "eb291354",
   "metadata": {},
   "outputs": [
    {
     "data": {
      "text/plain": [
       "30.13604100946372"
      ]
     },
     "execution_count": 24,
     "metadata": {},
     "output_type": "execute_result"
    }
   ],
   "source": [
    "age_mean = mean_train_data['Age'].mean()\n",
    "age_mean"
   ]
  },
  {
   "cell_type": "markdown",
   "id": "faab27aa",
   "metadata": {},
   "source": [
    "비어있는 데이터들에 대해 값을 채우기."
   ]
  },
  {
   "cell_type": "code",
   "execution_count": 25,
   "id": "c0a5b06f",
   "metadata": {},
   "outputs": [],
   "source": [
    "mean_train_data.loc[:, 'Age'] = mean_train_data['Age'].fillna(age_mean)\n",
    "mean_valid_data.loc[:, 'Age'] = mean_valid_data['Age'].fillna(age_mean)\n",
    "mean_test_data.loc[:, 'Age'] = mean_test_data['Age'].fillna(age_mean)"
   ]
  },
  {
   "cell_type": "code",
   "execution_count": 26,
   "id": "7395769e",
   "metadata": {},
   "outputs": [
    {
     "data": {
      "text/plain": [
       "Pclass      0\n",
       "Sex         0\n",
       "Age         0\n",
       "Fare        0\n",
       "Embarked    0\n",
       "dtype: int64"
      ]
     },
     "execution_count": 26,
     "metadata": {},
     "output_type": "execute_result"
    }
   ],
   "source": [
    "mean_train_data.isna().sum()"
   ]
  },
  {
   "cell_type": "markdown",
   "id": "64d43797",
   "metadata": {},
   "source": [
    "### 2.3 비슷한 데이터들의 평균으로 채우는 방법\n",
    "\n",
    "- 전체 데이터들의 평균을 반영하면, 데이터의 특성이 반영되지 않을 수도 있음."
   ]
  },
  {
   "cell_type": "markdown",
   "id": "8cb4ac79",
   "metadata": {},
   "source": [
    "- 빈 값이 있는 변수를 제거.\n",
    "- 나머지 변수들을 군집화 한 후 군집의 평균으로 빈 값을 채우기.\n",
    "- 비슷한 데이터들은 변수 몇 개를 제거해도 같이 묶일 것이다."
   ]
  },
  {
   "cell_type": "code",
   "execution_count": 28,
   "id": "b4eebb5c",
   "metadata": {},
   "outputs": [],
   "source": [
    "cluster_train_data = train_data.copy()\n",
    "cluster_valid_data = valid_data.copy()\n",
    "cluster_test_data = test_data.copy()"
   ]
  },
  {
   "cell_type": "markdown",
   "id": "a06d02a7",
   "metadata": {},
   "source": [
    "Clustering 이전에 데이터를 정규화."
   ]
  },
  {
   "cell_type": "code",
   "execution_count": 29,
   "id": "931c5bca",
   "metadata": {},
   "outputs": [
    {
     "data": {
      "text/plain": [
       "StandardScaler()"
      ]
     },
     "execution_count": 29,
     "metadata": {},
     "output_type": "execute_result"
    }
   ],
   "source": [
    "from sklearn.preprocessing import StandardScaler\n",
    "\n",
    "scaler = StandardScaler()\n",
    "scaler.fit(cluster_train_data.drop(['Age'], axis=1))"
   ]
  },
  {
   "cell_type": "code",
   "execution_count": 30,
   "id": "0413025e",
   "metadata": {},
   "outputs": [],
   "source": [
    "# Age를 제외하고 Clustering 진행.\n",
    "# 빈 값을 포함하면 값을 찾을 수 없음.\n",
    "train_fill_data = scaler.transform(cluster_train_data.drop(['Age'], axis=1))\n",
    "valid_fill_data = scaler.transform(cluster_valid_data.drop(['Age'], axis=1))\n",
    "test_fill_data = scaler.transform(cluster_test_data.drop(['Age'], axis=1))"
   ]
  },
  {
   "cell_type": "markdown",
   "id": "4fe54c66",
   "metadata": {},
   "source": [
    "- 최적의 K를 찾기 위해 K값에 따른 SSE를 계산."
   ]
  },
  {
   "cell_type": "code",
   "execution_count": 32,
   "id": "761a182b",
   "metadata": {},
   "outputs": [],
   "source": [
    "from sklearn.cluster import KMeans\n",
    "\n",
    "n_cluster = []\n",
    "sse = []\n",
    "for n in range(3, 15, 2):\n",
    "    kmeans = KMeans(n_clusters=n)\n",
    "    kmeans.fit(train_fill_data)\n",
    "    n_cluster += [n]\n",
    "    sse += [kmeans.inertia_]"
   ]
  },
  {
   "cell_type": "code",
   "execution_count": 33,
   "id": "08c83dce",
   "metadata": {
    "scrolled": true
   },
   "outputs": [
    {
     "data": {
      "text/plain": [
       "[<matplotlib.lines.Line2D at 0x258394082b0>]"
      ]
     },
     "execution_count": 33,
     "metadata": {},
     "output_type": "execute_result"
    },
    {
     "data": {
      "image/png": "[encoded data removed]",
      "text/plain": [
       "<Figure size 432x288 with 1 Axes>"
      ]
     },
     "metadata": {
      "needs_background": "light"
     },
     "output_type": "display_data"
    }
   ],
   "source": [
    "plt.plot(n_cluster, sse)"
   ]
  },
  {
   "cell_type": "markdown",
   "id": "682c4f93",
   "metadata": {},
   "source": [
    "- Elbow Point는 7. K = 7로 설정."
   ]
  },
  {
   "cell_type": "code",
   "execution_count": 34,
   "id": "ba4f9985",
   "metadata": {},
   "outputs": [],
   "source": [
    "n_clusters = 7"
   ]
  },
  {
   "cell_type": "code",
   "execution_count": 35,
   "id": "e6ca8ae5",
   "metadata": {},
   "outputs": [
    {
     "data": {
      "text/plain": [
       "KMeans(n_clusters=7)"
      ]
     },
     "execution_count": 35,
     "metadata": {},
     "output_type": "execute_result"
    }
   ],
   "source": [
    "kmeans = KMeans(n_clusters=n_clusters)\n",
    "kmeans.fit(train_fill_data)"
   ]
  },
  {
   "cell_type": "code",
   "execution_count": 36,
   "id": "81a63a67",
   "metadata": {},
   "outputs": [],
   "source": [
    "clustered_train = kmeans.predict(train_fill_data)\n",
    "clustered_valid = kmeans.predict(valid_fill_data)\n",
    "clustered_test = kmeans.predict(test_fill_data)"
   ]
  },
  {
   "cell_type": "code",
   "execution_count": 38,
   "id": "eca3ee74",
   "metadata": {},
   "outputs": [
    {
     "data": {
      "text/plain": [
       "array([3, 3, 1, 4, 3, 1, 1, 2, 1, 1, 5, 4, 1, 1, 3, 1, 4, 4, 3, 4, 5, 1,\n",
       "       2, 1, 4, 2, 3, 2, 1, 4, 0, 6, 1, 4, 1, 1, 5, 2, 4, 1, 4, 1, 2, 3,\n",
       "       2, 2, 1, 2, 0, 2, 3, 1, 1, 1, 4, 4, 0, 1, 1, 1, 1, 4, 1, 4, 4, 4,\n",
       "       2, 4, 3, 4, 6, 1, 4, 2, 1, 1, 4, 4, 1, 2, 4, 4, 2, 6, 1, 5, 1, 1,\n",
       "       0, 4, 5, 1, 5, 1, 1, 6, 1, 3, 1, 4, 4, 1, 3, 6, 5, 1, 4, 2, 2, 2,\n",
       "       2, 0, 1, 1, 1, 6, 6, 6, 3, 4, 1, 0, 1, 6, 6, 5, 1, 0, 1, 3, 1, 3,\n",
       "       2, 1, 2, 1, 1, 5, 1, 6, 2, 1, 1, 6, 6, 4, 2, 2, 1, 1, 6, 6, 5, 1,\n",
       "       1, 1, 1, 5, 1, 1, 1, 6, 1, 1, 1, 1, 1, 2, 1, 4, 2, 3, 3, 1, 1, 5,\n",
       "       3, 5, 1, 1, 1, 3, 1, 2, 1, 0, 2, 5, 1, 1, 2, 1, 5, 3, 6, 1, 4, 3,\n",
       "       3, 1, 4, 3, 1, 5, 1, 2, 5, 1, 0, 1, 2, 1, 5, 1, 2, 5, 2, 5, 2, 3,\n",
       "       2, 2, 2, 4, 5, 4, 4, 4, 6, 1, 4, 2, 5, 4, 4, 2, 2, 4, 6, 3, 1, 1,\n",
       "       1, 2, 1, 1, 3, 1, 1, 1, 4, 2, 1, 4, 2, 4, 6, 2, 2, 6, 1, 1, 2, 4,\n",
       "       2, 5, 1, 1, 1, 1, 2, 5, 1, 0, 1, 1, 1, 4, 4, 1, 1, 1, 2, 5, 3, 2,\n",
       "       1, 5, 1, 1, 2, 1, 6, 1, 6, 1, 2, 2, 3, 1, 1, 4, 6, 2, 2, 2, 1, 4,\n",
       "       5, 1, 1, 6, 5, 4, 1, 3, 4, 5, 4, 6, 1, 1, 4, 2, 3, 5, 1, 1, 2, 1,\n",
       "       2, 1, 6, 1, 1, 2, 3, 3, 1, 1, 1, 1, 2, 2, 5, 1, 5, 6, 2, 3, 1, 1,\n",
       "       2, 3, 5, 5, 3, 1, 1, 1, 5, 2, 4, 6, 1, 1, 2, 2, 1, 2, 1, 5, 6, 2,\n",
       "       6, 3, 1, 4, 1, 1, 1, 5, 1, 5, 2, 1, 1, 5, 1, 6, 1, 1, 5, 1, 4, 1,\n",
       "       4, 3, 1, 1, 6, 4, 1, 1, 4, 1, 5, 5, 6, 1, 2, 6, 3, 6, 1, 2, 4, 1,\n",
       "       1, 1, 1, 1, 0, 2, 5, 2, 5, 2, 2, 1, 5, 1, 2, 1, 1, 0, 4, 4, 1, 3,\n",
       "       1, 3, 1, 4, 1, 1, 6, 2, 1, 1, 6, 1, 2, 1, 4, 1, 2, 6, 5, 2, 1, 0,\n",
       "       1, 1, 6, 3, 3, 6, 2, 1, 1, 1, 5, 1, 1, 4, 1, 6, 3, 4, 6, 2, 1, 3,\n",
       "       2, 3, 5, 5, 1, 2, 1, 1, 5, 1, 1, 4, 4, 4, 3, 1, 1, 4, 1, 1, 1, 1,\n",
       "       1, 3, 1, 3, 1, 4, 4, 1, 3, 2, 3, 1, 6, 5, 2, 1, 6, 3, 4, 2, 4, 1,\n",
       "       1, 0, 4, 1, 3, 3, 2, 2, 3, 3, 1, 5, 3, 5, 1, 1, 5, 1, 5, 1, 4, 4,\n",
       "       2, 1, 1, 5, 1, 1, 1, 1, 3, 5, 1, 1, 6, 4, 1, 2, 1, 0, 3, 1, 4, 1,\n",
       "       1, 5, 2, 4, 0, 6, 1, 1, 2, 0, 2, 1, 6, 4, 6, 4, 5, 2, 1, 1, 1, 5,\n",
       "       4, 5, 1, 2, 4, 0, 3, 4, 2, 5, 3, 5, 6, 3, 4, 1, 2, 2, 3, 1, 5, 2,\n",
       "       1, 6, 1, 2, 3, 3, 2, 3, 6, 6, 5, 1, 1, 5, 2, 4, 6, 0, 5, 1, 1, 1,\n",
       "       3, 1, 5, 5, 1, 2, 2, 1, 1, 1, 4, 1, 4, 4, 1, 3, 3, 1, 3, 3, 3, 2,\n",
       "       1, 6, 2, 1, 2, 5, 1, 1, 4, 4, 1, 1, 3, 1, 6, 2, 6, 3, 4, 1, 2, 1,\n",
       "       1, 4, 1, 6, 1, 2, 1, 1, 1, 1, 1, 2, 2, 3, 2, 2, 1, 2, 1, 3, 4, 1,\n",
       "       1, 1, 4, 4, 6, 2, 5, 2, 4, 4, 1, 2, 1, 1, 3, 2, 1, 1, 2, 2, 4, 2,\n",
       "       5, 4, 6, 1, 3, 4, 1, 3, 6, 4, 2, 5, 1, 2, 0, 5, 1, 3, 2, 4, 3, 5,\n",
       "       0, 3, 1, 5, 5, 3, 2, 4, 3, 2, 2, 2, 4, 0, 2, 6, 4, 3, 3, 0, 1, 2,\n",
       "       2, 2, 2, 2, 1, 1, 2, 3, 6, 3, 3, 3, 4])"
      ]
     },
     "execution_count": 38,
     "metadata": {},
     "output_type": "execute_result"
    }
   ],
   "source": [
    "clustered_train\n",
    "# 0 ~ 6까지 어떤 군집에 속할 지"
   ]
  },
  {
   "cell_type": "markdown",
   "id": "2c5ba9c2",
   "metadata": {},
   "source": [
    "- train data에서 결측치가 아닌 값들을 가져오고, 같은 군집의 평균을 채우게 될 것."
   ]
  },
  {
   "cell_type": "code",
   "execution_count": 37,
   "id": "fbe34bd9",
   "metadata": {},
   "outputs": [],
   "source": [
    "cluster_fill_value = {}\n",
    "for i in range(n_clusters):\n",
    "    class_mean = cluster_train_data.loc[clustered_train == i, 'Age'].dropna().mean()\n",
    "    cluster_fill_value[i] = class_mean"
   ]
  },
  {
   "cell_type": "markdown",
   "id": "b5a07cae",
   "metadata": {},
   "source": [
    "각 군집에서 결측치에 채울 값들."
   ]
  },
  {
   "cell_type": "code",
   "execution_count": 40,
   "id": "49d7d381",
   "metadata": {},
   "outputs": [
    {
     "data": {
      "text/plain": [
       "{0: 41.404761904761905,\n",
       " 1: 27.871728395061727,\n",
       " 2: 24.838064516129034,\n",
       " 3: 29.25,\n",
       " 4: 40.46551724137931,\n",
       " 5: 37.17910447761194,\n",
       " 6: 21.666666666666668}"
      ]
     },
     "execution_count": 40,
     "metadata": {},
     "output_type": "execute_result"
    }
   ],
   "source": [
    "cluster_fill_value\n",
    "\n",
    "# 0번 군집에 속하면 41 ..."
   ]
  },
  {
   "cell_type": "markdown",
   "id": "06b7a29c",
   "metadata": {},
   "source": [
    "train data에서 결측치에 값을 채우기."
   ]
  },
  {
   "cell_type": "code",
   "execution_count": 41,
   "id": "0b45a706",
   "metadata": {},
   "outputs": [],
   "source": [
    "train_na_idx = cluster_train_data.loc[cluster_train_data['Age'].isna()].index"
   ]
  },
  {
   "cell_type": "markdown",
   "id": "66456a59",
   "metadata": {},
   "source": [
    "결측치를 갖고 있는 데이터들의 index."
   ]
  },
  {
   "cell_type": "code",
   "execution_count": 42,
   "id": "ca1a3c8b",
   "metadata": {},
   "outputs": [
    {
     "data": {
      "text/plain": [
       "Int64Index([  2,   3,   9,  17,  26,  31,  41,  49,  53,  68,\n",
       "            ...\n",
       "            727, 732, 733, 742, 747, 754, 760, 764, 766, 777],\n",
       "           dtype='int64', length=149)"
      ]
     },
     "execution_count": 42,
     "metadata": {},
     "output_type": "execute_result"
    }
   ],
   "source": [
    "train_na_idx"
   ]
  },
  {
   "cell_type": "markdown",
   "id": "d7547df3",
   "metadata": {},
   "source": [
    "각 index가 속하는 군집."
   ]
  },
  {
   "cell_type": "code",
   "execution_count": 43,
   "id": "2c01f799",
   "metadata": {},
   "outputs": [
    {
     "data": {
      "text/plain": [
       "array([1, 4, 1, 4, 3, 6, 1, 2, 1, 3, 4, 4, 2, 4, 1, 6, 3, 3, 1, 1, 6, 6,\n",
       "       1, 0, 3, 1, 1, 1, 3, 3, 3, 1, 1, 3, 4, 3, 1, 5, 2, 4, 5, 4, 6, 4,\n",
       "       4, 4, 1, 1, 3, 1, 6, 2, 1, 1, 1, 4, 1, 6, 5, 2, 1, 2, 6, 1, 1, 3,\n",
       "       1, 2, 5, 3, 3, 3, 1, 5, 6, 1, 1, 6, 5, 3, 4, 5, 6, 6, 0, 2, 3, 3,\n",
       "       6, 1, 6, 3, 2, 5, 3, 6, 3, 4, 1, 1, 3, 3, 1, 1, 6, 3, 6, 6, 5, 3,\n",
       "       6, 4, 6, 3, 3, 6, 3, 1, 1, 4, 1, 3, 3, 3, 1, 1, 3, 1, 4, 1, 1, 2,\n",
       "       3, 2, 1, 3, 1, 2, 3, 4, 1, 3, 1, 5, 2, 4, 4, 3, 3])"
      ]
     },
     "execution_count": 43,
     "metadata": {},
     "output_type": "execute_result"
    }
   ],
   "source": [
    "clustered_train[train_na_idx]"
   ]
  },
  {
   "cell_type": "markdown",
   "id": "ae9b8269",
   "metadata": {},
   "source": [
    "각 index에 채울 값들을 가져오기."
   ]
  },
  {
   "cell_type": "code",
   "execution_count": 44,
   "id": "32567f79",
   "metadata": {},
   "outputs": [],
   "source": [
    "train_fill_value = list(map(lambda x: cluster_fill_value[x], clustered_train[train_na_idx]))"
   ]
  },
  {
   "cell_type": "code",
   "execution_count": 45,
   "id": "ae2839e1",
   "metadata": {},
   "outputs": [
    {
     "data": {
      "text/plain": [
       "[27.871728395061727,\n",
       " 40.46551724137931,\n",
       " 27.871728395061727,\n",
       " 40.46551724137931,\n",
       " 29.25,\n",
       " 21.666666666666668,\n",
       " 27.871728395061727,\n",
       " 24.838064516129034,\n",
       " 27.871728395061727,\n",
       " 29.25]"
      ]
     },
     "execution_count": 45,
     "metadata": {},
     "output_type": "execute_result"
    }
   ],
   "source": [
    "train_fill_value[:10]"
   ]
  },
  {
   "cell_type": "markdown",
   "id": "edddc717",
   "metadata": {},
   "source": [
    "학습에 사용할 데이터에 결측치를 채우기."
   ]
  },
  {
   "cell_type": "code",
   "execution_count": 46,
   "id": "956e38e5",
   "metadata": {},
   "outputs": [],
   "source": [
    "cluster_train_data.loc[train_na_idx, 'Age'] = train_fill_value"
   ]
  },
  {
   "cell_type": "markdown",
   "id": "3b85f8f7",
   "metadata": {},
   "source": [
    "결측치가 채워진 것을 확인."
   ]
  },
  {
   "cell_type": "code",
   "execution_count": 47,
   "id": "22db0357",
   "metadata": {},
   "outputs": [
    {
     "data": {
      "text/html": [
       "<div>\n",
       "<style scoped>\n",
       "    .dataframe tbody tr th:only-of-type {\n",
       "        vertical-align: middle;\n",
       "    }\n",
       "\n",
       "    .dataframe tbody tr th {\n",
       "        vertical-align: top;\n",
       "    }\n",
       "\n",
       "    .dataframe thead th {\n",
       "        text-align: right;\n",
       "    }\n",
       "</style>\n",
       "<table border=\"1\" class=\"dataframe\">\n",
       "  <thead>\n",
       "    <tr style=\"text-align: right;\">\n",
       "      <th></th>\n",
       "      <th>Pclass</th>\n",
       "      <th>Sex</th>\n",
       "      <th>Age</th>\n",
       "      <th>Fare</th>\n",
       "      <th>Embarked</th>\n",
       "    </tr>\n",
       "  </thead>\n",
       "  <tbody>\n",
       "    <tr>\n",
       "      <th>2</th>\n",
       "      <td>3</td>\n",
       "      <td>0</td>\n",
       "      <td>27.871728</td>\n",
       "      <td>69.5500</td>\n",
       "      <td>0</td>\n",
       "    </tr>\n",
       "    <tr>\n",
       "      <th>3</th>\n",
       "      <td>1</td>\n",
       "      <td>0</td>\n",
       "      <td>40.465517</td>\n",
       "      <td>30.5000</td>\n",
       "      <td>0</td>\n",
       "    </tr>\n",
       "    <tr>\n",
       "      <th>9</th>\n",
       "      <td>3</td>\n",
       "      <td>0</td>\n",
       "      <td>27.871728</td>\n",
       "      <td>7.8792</td>\n",
       "      <td>0</td>\n",
       "    </tr>\n",
       "    <tr>\n",
       "      <th>17</th>\n",
       "      <td>1</td>\n",
       "      <td>0</td>\n",
       "      <td>40.465517</td>\n",
       "      <td>25.9250</td>\n",
       "      <td>0</td>\n",
       "    </tr>\n",
       "    <tr>\n",
       "      <th>26</th>\n",
       "      <td>3</td>\n",
       "      <td>0</td>\n",
       "      <td>29.250000</td>\n",
       "      <td>15.5000</td>\n",
       "      <td>2</td>\n",
       "    </tr>\n",
       "    <tr>\n",
       "      <th>...</th>\n",
       "      <td>...</td>\n",
       "      <td>...</td>\n",
       "      <td>...</td>\n",
       "      <td>...</td>\n",
       "      <td>...</td>\n",
       "    </tr>\n",
       "    <tr>\n",
       "      <th>754</th>\n",
       "      <td>3</td>\n",
       "      <td>1</td>\n",
       "      <td>24.838065</td>\n",
       "      <td>14.5000</td>\n",
       "      <td>0</td>\n",
       "    </tr>\n",
       "    <tr>\n",
       "      <th>760</th>\n",
       "      <td>1</td>\n",
       "      <td>0</td>\n",
       "      <td>40.465517</td>\n",
       "      <td>0.0000</td>\n",
       "      <td>0</td>\n",
       "    </tr>\n",
       "    <tr>\n",
       "      <th>764</th>\n",
       "      <td>1</td>\n",
       "      <td>0</td>\n",
       "      <td>40.465517</td>\n",
       "      <td>27.7208</td>\n",
       "      <td>1</td>\n",
       "    </tr>\n",
       "    <tr>\n",
       "      <th>766</th>\n",
       "      <td>3</td>\n",
       "      <td>0</td>\n",
       "      <td>29.250000</td>\n",
       "      <td>6.8583</td>\n",
       "      <td>2</td>\n",
       "    </tr>\n",
       "    <tr>\n",
       "      <th>777</th>\n",
       "      <td>3</td>\n",
       "      <td>0</td>\n",
       "      <td>29.250000</td>\n",
       "      <td>7.2292</td>\n",
       "      <td>1</td>\n",
       "    </tr>\n",
       "  </tbody>\n",
       "</table>\n",
       "<p>149 rows × 5 columns</p>\n",
       "</div>"
      ],
      "text/plain": [
       "     Pclass  Sex        Age     Fare  Embarked\n",
       "2         3    0  27.871728  69.5500         0\n",
       "3         1    0  40.465517  30.5000         0\n",
       "9         3    0  27.871728   7.8792         0\n",
       "17        1    0  40.465517  25.9250         0\n",
       "26        3    0  29.250000  15.5000         2\n",
       "..      ...  ...        ...      ...       ...\n",
       "754       3    1  24.838065  14.5000         0\n",
       "760       1    0  40.465517   0.0000         0\n",
       "764       1    0  40.465517  27.7208         1\n",
       "766       3    0  29.250000   6.8583         2\n",
       "777       3    0  29.250000   7.2292         1\n",
       "\n",
       "[149 rows x 5 columns]"
      ]
     },
     "execution_count": 47,
     "metadata": {},
     "output_type": "execute_result"
    }
   ],
   "source": [
    "cluster_train_data.loc[train_na_idx]"
   ]
  },
  {
   "cell_type": "code",
   "execution_count": 48,
   "id": "82cf2454",
   "metadata": {},
   "outputs": [
    {
     "data": {
      "text/html": [
       "<div>\n",
       "<style scoped>\n",
       "    .dataframe tbody tr th:only-of-type {\n",
       "        vertical-align: middle;\n",
       "    }\n",
       "\n",
       "    .dataframe tbody tr th {\n",
       "        vertical-align: top;\n",
       "    }\n",
       "\n",
       "    .dataframe thead th {\n",
       "        text-align: right;\n",
       "    }\n",
       "</style>\n",
       "<table border=\"1\" class=\"dataframe\">\n",
       "  <thead>\n",
       "    <tr style=\"text-align: right;\">\n",
       "      <th></th>\n",
       "      <th>Pclass</th>\n",
       "      <th>Sex</th>\n",
       "      <th>Age</th>\n",
       "      <th>Fare</th>\n",
       "      <th>Embarked</th>\n",
       "    </tr>\n",
       "  </thead>\n",
       "  <tbody>\n",
       "    <tr>\n",
       "      <th>0</th>\n",
       "      <td>3</td>\n",
       "      <td>0</td>\n",
       "      <td>21.000000</td>\n",
       "      <td>7.2250</td>\n",
       "      <td>1</td>\n",
       "    </tr>\n",
       "    <tr>\n",
       "      <th>1</th>\n",
       "      <td>3</td>\n",
       "      <td>0</td>\n",
       "      <td>34.500000</td>\n",
       "      <td>6.4375</td>\n",
       "      <td>1</td>\n",
       "    </tr>\n",
       "    <tr>\n",
       "      <th>2</th>\n",
       "      <td>3</td>\n",
       "      <td>0</td>\n",
       "      <td>27.871728</td>\n",
       "      <td>69.5500</td>\n",
       "      <td>0</td>\n",
       "    </tr>\n",
       "    <tr>\n",
       "      <th>3</th>\n",
       "      <td>1</td>\n",
       "      <td>0</td>\n",
       "      <td>40.465517</td>\n",
       "      <td>30.5000</td>\n",
       "      <td>0</td>\n",
       "    </tr>\n",
       "    <tr>\n",
       "      <th>4</th>\n",
       "      <td>3</td>\n",
       "      <td>0</td>\n",
       "      <td>20.000000</td>\n",
       "      <td>4.0125</td>\n",
       "      <td>1</td>\n",
       "    </tr>\n",
       "  </tbody>\n",
       "</table>\n",
       "</div>"
      ],
      "text/plain": [
       "   Pclass  Sex        Age     Fare  Embarked\n",
       "0       3    0  21.000000   7.2250         1\n",
       "1       3    0  34.500000   6.4375         1\n",
       "2       3    0  27.871728  69.5500         0\n",
       "3       1    0  40.465517  30.5000         0\n",
       "4       3    0  20.000000   4.0125         1"
      ]
     },
     "execution_count": 48,
     "metadata": {},
     "output_type": "execute_result"
    }
   ],
   "source": [
    "cluster_train_data.head()"
   ]
  },
  {
   "cell_type": "markdown",
   "id": "62443c1c",
   "metadata": {},
   "source": [
    "- Valid, Test 데이터에 대해서도 동일하게 진행.\n",
    "- 정규화와 동일하게 Train 데이터에서 구한 값으로 진행."
   ]
  },
  {
   "cell_type": "code",
   "execution_count": 49,
   "id": "7cdab5da",
   "metadata": {},
   "outputs": [],
   "source": [
    "valid_na_idx = cluster_valid_data.loc[cluster_valid_data['Age'].isna()].index\n",
    "valid_fill_value = list(map(lambda x: cluster_fill_value[x], clustered_valid[valid_na_idx]))"
   ]
  },
  {
   "cell_type": "code",
   "execution_count": 50,
   "id": "fb2fa0b3",
   "metadata": {},
   "outputs": [],
   "source": [
    "test_na_idx = cluster_test_data.loc[cluster_test_data['Age'].isna()].index\n",
    "test_fill_value = list(map(lambda x: cluster_fill_value[x], clustered_test[test_na_idx]))"
   ]
  },
  {
   "cell_type": "code",
   "execution_count": 51,
   "id": "a2b01882",
   "metadata": {},
   "outputs": [],
   "source": [
    "cluster_valid_data.loc[valid_na_idx, 'Age'] = valid_fill_value\n",
    "cluster_test_data.loc[test_na_idx, 'Age'] = test_fill_value"
   ]
  },
  {
   "cell_type": "markdown",
   "id": "0ed43240",
   "metadata": {},
   "source": [
    "## 3. Model"
   ]
  },
  {
   "cell_type": "code",
   "execution_count": 52,
   "id": "a84a12cb",
   "metadata": {},
   "outputs": [],
   "source": [
    "from sklearn.ensemble import RandomForestClassifier\n",
    "from sklearn.metrics import accuracy_score"
   ]
  },
  {
   "cell_type": "markdown",
   "id": "1ac8d512",
   "metadata": {},
   "source": [
    "### 3.1 Hyper-Parameter Tuning"
   ]
  },
  {
   "cell_type": "markdown",
   "id": "0aa7b96a",
   "metadata": {},
   "source": [
    "- 각 데이터에 대해 최고의 성능을 보이는 n_estimators를 찾기."
   ]
  },
  {
   "cell_type": "markdown",
   "id": "96ea4fdb",
   "metadata": {},
   "source": [
    "### 3.1.1 전체 데이터의 평균으로 채운 데이터"
   ]
  },
  {
   "cell_type": "code",
   "execution_count": 54,
   "id": "5f1683ce",
   "metadata": {},
   "outputs": [],
   "source": [
    "n_estimators = [n for n in range(50, 1050, 50)]\n",
    "\n",
    "mean_accuracy = []\n",
    "for n_estimator in n_estimators:\n",
    "    mean_random_forest = RandomForestClassifier(n_estimators=n_estimator)\n",
    "    mean_random_forest.fit(mean_train_data, train_label)\n",
    "    mean_valid_pred = mean_random_forest.predict(mean_valid_data)\n",
    "    mean_accuracy += [accuracy_score(valid_label, mean_valid_pred)]"
   ]
  },
  {
   "cell_type": "code",
   "execution_count": 55,
   "id": "d07f25bf",
   "metadata": {},
   "outputs": [
    {
     "data": {
      "text/plain": [
       "[(50, 0.8582375478927203),\n",
       " (100, 0.8467432950191571),\n",
       " (150, 0.8582375478927203),\n",
       " (200, 0.8582375478927203),\n",
       " (250, 0.8582375478927203),\n",
       " (300, 0.8620689655172413),\n",
       " (350, 0.8582375478927203),\n",
       " (400, 0.8582375478927203),\n",
       " (450, 0.8582375478927203),\n",
       " (500, 0.8620689655172413),\n",
       " (550, 0.8582375478927203),\n",
       " (600, 0.8620689655172413),\n",
       " (650, 0.8620689655172413),\n",
       " (700, 0.8582375478927203),\n",
       " (750, 0.8582375478927203),\n",
       " (800, 0.8544061302681992),\n",
       " (850, 0.8620689655172413),\n",
       " (900, 0.8582375478927203),\n",
       " (950, 0.8582375478927203),\n",
       " (1000, 0.8544061302681992)]"
      ]
     },
     "execution_count": 55,
     "metadata": {},
     "output_type": "execute_result"
    }
   ],
   "source": [
    "list(zip(n_estimators, mean_accuracy))"
   ]
  },
  {
   "cell_type": "code",
   "execution_count": 56,
   "id": "28c121d6",
   "metadata": {},
   "outputs": [],
   "source": [
    "mean_best_n_estimator = n_estimators[np.argmax(mean_accuracy)]"
   ]
  },
  {
   "cell_type": "code",
   "execution_count": 57,
   "id": "6e82771d",
   "metadata": {},
   "outputs": [
    {
     "name": "stdout",
     "output_type": "stream",
     "text": [
      "Best n_estimator for mean data is 300, it's valid accuracy is 0.8621\n"
     ]
    }
   ],
   "source": [
    "print(f\"Best n_estimator for mean data is {mean_best_n_estimator}, it's valid accuracy is {max(mean_accuracy):.4f}\")"
   ]
  },
  {
   "cell_type": "markdown",
   "id": "6972fdfe",
   "metadata": {},
   "source": [
    "### 3.1.2 비슷한 데이터들의 평균으로 채운 데이터"
   ]
  },
  {
   "cell_type": "code",
   "execution_count": 59,
   "id": "46721d6f",
   "metadata": {},
   "outputs": [],
   "source": [
    "cluster_accuracy = []\n",
    "for n_estimator in n_estimators:\n",
    "    cluster_random_forest = RandomForestClassifier(n_estimators=n_estimator)\n",
    "    cluster_random_forest.fit(cluster_train_data, train_label)\n",
    "    cluster_valid_pred = cluster_random_forest.predict(cluster_valid_data)\n",
    "    cluster_accuracy += [accuracy_score(valid_label, cluster_valid_pred)]"
   ]
  },
  {
   "cell_type": "code",
   "execution_count": 60,
   "id": "03fb6c81",
   "metadata": {},
   "outputs": [
    {
     "data": {
      "text/plain": [
       "[(50, 0.8467432950191571),\n",
       " (100, 0.8505747126436781),\n",
       " (150, 0.8582375478927203),\n",
       " (200, 0.8620689655172413),\n",
       " (250, 0.8544061302681992),\n",
       " (300, 0.8582375478927203),\n",
       " (350, 0.8544061302681992),\n",
       " (400, 0.8544061302681992),\n",
       " (450, 0.8582375478927203),\n",
       " (500, 0.8544061302681992),\n",
       " (550, 0.8582375478927203),\n",
       " (600, 0.8544061302681992),\n",
       " (650, 0.8582375478927203),\n",
       " (700, 0.8544061302681992),\n",
       " (750, 0.8582375478927203),\n",
       " (800, 0.8582375478927203),\n",
       " (850, 0.8544061302681992),\n",
       " (900, 0.8544061302681992),\n",
       " (950, 0.8620689655172413),\n",
       " (1000, 0.8620689655172413)]"
      ]
     },
     "execution_count": 60,
     "metadata": {},
     "output_type": "execute_result"
    }
   ],
   "source": [
    "list(zip(n_estimators, cluster_accuracy))"
   ]
  },
  {
   "cell_type": "code",
   "execution_count": 61,
   "id": "84dceb93",
   "metadata": {},
   "outputs": [],
   "source": [
    "cluster_best_n_estimator = n_estimators[np.argmax(cluster_accuracy)]"
   ]
  },
  {
   "cell_type": "code",
   "execution_count": 62,
   "id": "ff3fea89",
   "metadata": {},
   "outputs": [
    {
     "name": "stdout",
     "output_type": "stream",
     "text": [
      "Best n_estimator for cluster data is 200, it's valid accuracy is 0.8621\n"
     ]
    }
   ],
   "source": [
    "print(f\"Best n_estimator for cluster data is {cluster_best_n_estimator}, it's valid accuracy is {max(cluster_accuracy):.4f}\")"
   ]
  },
  {
   "cell_type": "markdown",
   "id": "fad4d43c",
   "metadata": {},
   "source": [
    "### 3.1.3 Best Parameter"
   ]
  },
  {
   "cell_type": "code",
   "execution_count": 63,
   "id": "0f661153",
   "metadata": {},
   "outputs": [],
   "source": [
    "mean_random_forest = RandomForestClassifier(n_estimators=mean_best_n_estimator)\n",
    "cluster_random_forest = RandomForestClassifier(n_estimators=cluster_best_n_estimator)"
   ]
  },
  {
   "cell_type": "markdown",
   "id": "e04dd49c",
   "metadata": {},
   "source": [
    "### 3.2 학습"
   ]
  },
  {
   "cell_type": "code",
   "execution_count": 64,
   "id": "c55a26f6",
   "metadata": {},
   "outputs": [
    {
     "data": {
      "text/plain": [
       "RandomForestClassifier(n_estimators=200)"
      ]
     },
     "execution_count": 64,
     "metadata": {},
     "output_type": "execute_result"
    }
   ],
   "source": [
    "mean_random_forest.fit(mean_train_data, train_label)\n",
    "cluster_random_forest.fit(cluster_train_data, train_label)"
   ]
  },
  {
   "cell_type": "markdown",
   "id": "b42a144d",
   "metadata": {},
   "source": [
    "### 3.3 예측"
   ]
  },
  {
   "cell_type": "code",
   "execution_count": 65,
   "id": "8e9af07c",
   "metadata": {},
   "outputs": [],
   "source": [
    "mean_test_pred = mean_random_forest.predict(mean_test_data)\n",
    "cluster_test_pred = cluster_random_forest.predict(cluster_test_data)"
   ]
  },
  {
   "cell_type": "markdown",
   "id": "6e864657",
   "metadata": {},
   "source": [
    "### 3.4 평가"
   ]
  },
  {
   "cell_type": "code",
   "execution_count": 66,
   "id": "0492d6f5",
   "metadata": {},
   "outputs": [],
   "source": [
    "mean_test_accuracy = accuracy_score(test_label, mean_test_pred)\n",
    "cluster_test_accuracy = accuracy_score(test_label, cluster_test_pred)"
   ]
  },
  {
   "cell_type": "code",
   "execution_count": 67,
   "id": "00a63ffb",
   "metadata": {},
   "outputs": [
    {
     "name": "stdout",
     "output_type": "stream",
     "text": [
      "Test Accuracy for mean data is 0.8550\n",
      "Test Accuracy for cluster data is 0.8588\n"
     ]
    }
   ],
   "source": [
    "print(f\"Test Accuracy for mean data is {mean_test_accuracy:.4f}\")\n",
    "print(f\"Test Accuracy for cluster data is {cluster_test_accuracy:.4f}\")"
   ]
  },
  {
   "cell_type": "code",
   "execution_count": null,
   "id": "ddf00bbc",
   "metadata": {},
   "outputs": [],
   "source": []
  }
 ],
 "metadata": {
  "kernelspec": {
   "display_name": "Python 3 (ipykernel)",
   "language": "python",
   "name": "python3"
  },
  "language_info": {
   "codemirror_mode": {
    "name": "ipython",
    "version": 3
   },
   "file_extension": ".py",
   "mimetype": "text/x-python",
   "name": "python",
   "nbconvert_exporter": "python",
   "pygments_lexer": "ipython3",
   "version": "3.8.6"
  }
 },
 "nbformat": 4,
 "nbformat_minor": 5
}
