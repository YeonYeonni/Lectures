{
 "cells": [
  {
   "cell_type": "markdown",
   "id": "348bc243",
   "metadata": {},
   "source": [
    "## Matrix Factorization 실습"
   ]
  },
  {
   "cell_type": "markdown",
   "id": "cac42b8c",
   "metadata": {},
   "source": [
    "KNN과 동일한 ratings 데이터의 모델 기반 협업필터링 방법 중 하나."
   ]
  },
  {
   "cell_type": "code",
   "execution_count": 1,
   "id": "388fa114",
   "metadata": {},
   "outputs": [],
   "source": [
    "import pandas as pd\n",
    "import numpy as np\n",
    "\n",
    "np.random.seed(2021)"
   ]
  },
  {
   "cell_type": "markdown",
   "id": "59ef11a0",
   "metadata": {},
   "source": [
    "## 1. Data"
   ]
  },
  {
   "cell_type": "markdown",
   "id": "6e18480f",
   "metadata": {},
   "source": [
    "### 1.1 Data Load"
   ]
  },
  {
   "cell_type": "markdown",
   "id": "fbd3b61e",
   "metadata": {},
   "source": [
    "- 유저-영화 평점 데이터를 이용해 유저가 아직 평가하지 않은 영화를 추천.\n",
    "- 유저 고유 아이디를 나타내는 userId, 영화 고유 아이디를 나타내는 movieId, 유저가 영화를 평가한 점수 rating 컬럼을 이용."
   ]
  },
  {
   "cell_type": "code",
   "execution_count": 2,
   "id": "5cb1b132",
   "metadata": {},
   "outputs": [],
   "source": [
    "ratings = pd.read_csv('ratings_small.csv')\n",
    "ratings = ratings[['userId', 'movieId', 'rating']]"
   ]
  },
  {
   "cell_type": "code",
   "execution_count": 3,
   "id": "ced93a79",
   "metadata": {},
   "outputs": [
    {
     "data": {
      "text/html": [
       "<div>\n",
       "<style scoped>\n",
       "    .dataframe tbody tr th:only-of-type {\n",
       "        vertical-align: middle;\n",
       "    }\n",
       "\n",
       "    .dataframe tbody tr th {\n",
       "        vertical-align: top;\n",
       "    }\n",
       "\n",
       "    .dataframe thead th {\n",
       "        text-align: right;\n",
       "    }\n",
       "</style>\n",
       "<table border=\"1\" class=\"dataframe\">\n",
       "  <thead>\n",
       "    <tr style=\"text-align: right;\">\n",
       "      <th></th>\n",
       "      <th>userId</th>\n",
       "      <th>movieId</th>\n",
       "      <th>rating</th>\n",
       "    </tr>\n",
       "  </thead>\n",
       "  <tbody>\n",
       "    <tr>\n",
       "      <th>0</th>\n",
       "      <td>1</td>\n",
       "      <td>31</td>\n",
       "      <td>2.5</td>\n",
       "    </tr>\n",
       "    <tr>\n",
       "      <th>1</th>\n",
       "      <td>1</td>\n",
       "      <td>1029</td>\n",
       "      <td>3.0</td>\n",
       "    </tr>\n",
       "    <tr>\n",
       "      <th>2</th>\n",
       "      <td>1</td>\n",
       "      <td>1061</td>\n",
       "      <td>3.0</td>\n",
       "    </tr>\n",
       "    <tr>\n",
       "      <th>3</th>\n",
       "      <td>1</td>\n",
       "      <td>1129</td>\n",
       "      <td>2.0</td>\n",
       "    </tr>\n",
       "    <tr>\n",
       "      <th>4</th>\n",
       "      <td>1</td>\n",
       "      <td>1172</td>\n",
       "      <td>4.0</td>\n",
       "    </tr>\n",
       "  </tbody>\n",
       "</table>\n",
       "</div>"
      ],
      "text/plain": [
       "   userId  movieId  rating\n",
       "0       1       31     2.5\n",
       "1       1     1029     3.0\n",
       "2       1     1061     3.0\n",
       "3       1     1129     2.0\n",
       "4       1     1172     4.0"
      ]
     },
     "execution_count": 3,
     "metadata": {},
     "output_type": "execute_result"
    }
   ],
   "source": [
    "ratings.head()"
   ]
  },
  {
   "cell_type": "markdown",
   "id": "95ea66d6",
   "metadata": {},
   "source": [
    "다른 두 데이터를 이용해 ratings 데이터의 movieId에 맞는 영화 제목을 얻기.\n",
    "\n",
    "- 실제 영화 제목과 mapping"
   ]
  },
  {
   "cell_type": "code",
   "execution_count": 4,
   "id": "aae77f03",
   "metadata": {},
   "outputs": [
    {
     "name": "stderr",
     "output_type": "stream",
     "text": [
      "c:\\python\\python38\\lib\\site-packages\\IPython\\core\\interactiveshell.py:3444: DtypeWarning: Columns (10) have mixed types.Specify dtype option on import or set low_memory=False.\n",
      "  exec(code_obj, self.user_global_ns, self.user_ns)\n"
     ]
    }
   ],
   "source": [
    "movies = pd.read_csv('movies_metadata.csv')\n",
    "links = pd.read_csv('links_small.csv')"
   ]
  },
  {
   "cell_type": "markdown",
   "id": "9c9ede7e",
   "metadata": {},
   "source": [
    "### 1.2 Data Preprocessing"
   ]
  },
  {
   "cell_type": "markdown",
   "id": "8c12dcd2",
   "metadata": {},
   "source": [
    "movies에서 'tt숫자'로 이루어진 imdb_id에서 숫자 부분과 links 데이터의 '숫자'로 이루어진 imdbId와 연결."
   ]
  },
  {
   "cell_type": "code",
   "execution_count": 5,
   "id": "a43479b0",
   "metadata": {},
   "outputs": [],
   "source": [
    "movies = movies.fillna('')\n",
    "movies = movies[movies['imdb_id'].str.startswith('tt')]\n",
    "movies['imdbId'] = movies['imdb_id'].apply(lambda x: int(x[2:]))\n",
    "movies = movies.merge(links, on='imdbId')"
   ]
  },
  {
   "cell_type": "code",
   "execution_count": 6,
   "id": "4f269415",
   "metadata": {},
   "outputs": [],
   "source": [
    "movies = movies[['title', 'movieId']]\n",
    "movies = movies.set_index('movieId')"
   ]
  },
  {
   "cell_type": "code",
   "execution_count": 7,
   "id": "06cd87da",
   "metadata": {},
   "outputs": [
    {
     "data": {
      "text/html": [
       "<div>\n",
       "<style scoped>\n",
       "    .dataframe tbody tr th:only-of-type {\n",
       "        vertical-align: middle;\n",
       "    }\n",
       "\n",
       "    .dataframe tbody tr th {\n",
       "        vertical-align: top;\n",
       "    }\n",
       "\n",
       "    .dataframe thead th {\n",
       "        text-align: right;\n",
       "    }\n",
       "</style>\n",
       "<table border=\"1\" class=\"dataframe\">\n",
       "  <thead>\n",
       "    <tr style=\"text-align: right;\">\n",
       "      <th></th>\n",
       "      <th>title</th>\n",
       "    </tr>\n",
       "    <tr>\n",
       "      <th>movieId</th>\n",
       "      <th></th>\n",
       "    </tr>\n",
       "  </thead>\n",
       "  <tbody>\n",
       "    <tr>\n",
       "      <th>1</th>\n",
       "      <td>Toy Story</td>\n",
       "    </tr>\n",
       "    <tr>\n",
       "      <th>2</th>\n",
       "      <td>Jumanji</td>\n",
       "    </tr>\n",
       "    <tr>\n",
       "      <th>3</th>\n",
       "      <td>Grumpier Old Men</td>\n",
       "    </tr>\n",
       "    <tr>\n",
       "      <th>4</th>\n",
       "      <td>Waiting to Exhale</td>\n",
       "    </tr>\n",
       "    <tr>\n",
       "      <th>5</th>\n",
       "      <td>Father of the Bride Part II</td>\n",
       "    </tr>\n",
       "  </tbody>\n",
       "</table>\n",
       "</div>"
      ],
      "text/plain": [
       "                               title\n",
       "movieId                             \n",
       "1                          Toy Story\n",
       "2                            Jumanji\n",
       "3                   Grumpier Old Men\n",
       "4                  Waiting to Exhale\n",
       "5        Father of the Bride Part II"
      ]
     },
     "execution_count": 7,
     "metadata": {},
     "output_type": "execute_result"
    }
   ],
   "source": [
    "movies.head()"
   ]
  },
  {
   "cell_type": "markdown",
   "id": "adca03b7",
   "metadata": {},
   "source": [
    "pivot 함수를 이용해 유저 아이디가 인덱스이고, 영화 아이디가 컬럼, 값이 평가 점수인 user_movie_matrix를 생성.\n",
    "\n",
    "결측값은 0으로 대체."
   ]
  },
  {
   "cell_type": "code",
   "execution_count": 8,
   "id": "34b01325",
   "metadata": {},
   "outputs": [],
   "source": [
    "user_movie_matrix = ratings.pivot(\n",
    "    index='userId',\n",
    "    columns='movieId',\n",
    "    values='rating',\n",
    ")\n",
    "user_movie_matrix = user_movie_matrix.fillna(0)"
   ]
  },
  {
   "cell_type": "code",
   "execution_count": 9,
   "id": "2582fbbf",
   "metadata": {},
   "outputs": [
    {
     "data": {
      "text/html": [
       "<div>\n",
       "<style scoped>\n",
       "    .dataframe tbody tr th:only-of-type {\n",
       "        vertical-align: middle;\n",
       "    }\n",
       "\n",
       "    .dataframe tbody tr th {\n",
       "        vertical-align: top;\n",
       "    }\n",
       "\n",
       "    .dataframe thead th {\n",
       "        text-align: right;\n",
       "    }\n",
       "</style>\n",
       "<table border=\"1\" class=\"dataframe\">\n",
       "  <thead>\n",
       "    <tr style=\"text-align: right;\">\n",
       "      <th>movieId</th>\n",
       "      <th>1</th>\n",
       "      <th>2</th>\n",
       "      <th>3</th>\n",
       "      <th>4</th>\n",
       "      <th>5</th>\n",
       "      <th>6</th>\n",
       "      <th>7</th>\n",
       "      <th>8</th>\n",
       "      <th>9</th>\n",
       "      <th>10</th>\n",
       "      <th>...</th>\n",
       "      <th>161084</th>\n",
       "      <th>161155</th>\n",
       "      <th>161594</th>\n",
       "      <th>161830</th>\n",
       "      <th>161918</th>\n",
       "      <th>161944</th>\n",
       "      <th>162376</th>\n",
       "      <th>162542</th>\n",
       "      <th>162672</th>\n",
       "      <th>163949</th>\n",
       "    </tr>\n",
       "    <tr>\n",
       "      <th>userId</th>\n",
       "      <th></th>\n",
       "      <th></th>\n",
       "      <th></th>\n",
       "      <th></th>\n",
       "      <th></th>\n",
       "      <th></th>\n",
       "      <th></th>\n",
       "      <th></th>\n",
       "      <th></th>\n",
       "      <th></th>\n",
       "      <th></th>\n",
       "      <th></th>\n",
       "      <th></th>\n",
       "      <th></th>\n",
       "      <th></th>\n",
       "      <th></th>\n",
       "      <th></th>\n",
       "      <th></th>\n",
       "      <th></th>\n",
       "      <th></th>\n",
       "      <th></th>\n",
       "    </tr>\n",
       "  </thead>\n",
       "  <tbody>\n",
       "    <tr>\n",
       "      <th>1</th>\n",
       "      <td>0.0</td>\n",
       "      <td>0.0</td>\n",
       "      <td>0.0</td>\n",
       "      <td>0.0</td>\n",
       "      <td>0.0</td>\n",
       "      <td>0.0</td>\n",
       "      <td>0.0</td>\n",
       "      <td>0.0</td>\n",
       "      <td>0.0</td>\n",
       "      <td>0.0</td>\n",
       "      <td>...</td>\n",
       "      <td>0.0</td>\n",
       "      <td>0.0</td>\n",
       "      <td>0.0</td>\n",
       "      <td>0.0</td>\n",
       "      <td>0.0</td>\n",
       "      <td>0.0</td>\n",
       "      <td>0.0</td>\n",
       "      <td>0.0</td>\n",
       "      <td>0.0</td>\n",
       "      <td>0.0</td>\n",
       "    </tr>\n",
       "    <tr>\n",
       "      <th>2</th>\n",
       "      <td>0.0</td>\n",
       "      <td>0.0</td>\n",
       "      <td>0.0</td>\n",
       "      <td>0.0</td>\n",
       "      <td>0.0</td>\n",
       "      <td>0.0</td>\n",
       "      <td>0.0</td>\n",
       "      <td>0.0</td>\n",
       "      <td>0.0</td>\n",
       "      <td>4.0</td>\n",
       "      <td>...</td>\n",
       "      <td>0.0</td>\n",
       "      <td>0.0</td>\n",
       "      <td>0.0</td>\n",
       "      <td>0.0</td>\n",
       "      <td>0.0</td>\n",
       "      <td>0.0</td>\n",
       "      <td>0.0</td>\n",
       "      <td>0.0</td>\n",
       "      <td>0.0</td>\n",
       "      <td>0.0</td>\n",
       "    </tr>\n",
       "    <tr>\n",
       "      <th>3</th>\n",
       "      <td>0.0</td>\n",
       "      <td>0.0</td>\n",
       "      <td>0.0</td>\n",
       "      <td>0.0</td>\n",
       "      <td>0.0</td>\n",
       "      <td>0.0</td>\n",
       "      <td>0.0</td>\n",
       "      <td>0.0</td>\n",
       "      <td>0.0</td>\n",
       "      <td>0.0</td>\n",
       "      <td>...</td>\n",
       "      <td>0.0</td>\n",
       "      <td>0.0</td>\n",
       "      <td>0.0</td>\n",
       "      <td>0.0</td>\n",
       "      <td>0.0</td>\n",
       "      <td>0.0</td>\n",
       "      <td>0.0</td>\n",
       "      <td>0.0</td>\n",
       "      <td>0.0</td>\n",
       "      <td>0.0</td>\n",
       "    </tr>\n",
       "    <tr>\n",
       "      <th>4</th>\n",
       "      <td>0.0</td>\n",
       "      <td>0.0</td>\n",
       "      <td>0.0</td>\n",
       "      <td>0.0</td>\n",
       "      <td>0.0</td>\n",
       "      <td>0.0</td>\n",
       "      <td>0.0</td>\n",
       "      <td>0.0</td>\n",
       "      <td>0.0</td>\n",
       "      <td>4.0</td>\n",
       "      <td>...</td>\n",
       "      <td>0.0</td>\n",
       "      <td>0.0</td>\n",
       "      <td>0.0</td>\n",
       "      <td>0.0</td>\n",
       "      <td>0.0</td>\n",
       "      <td>0.0</td>\n",
       "      <td>0.0</td>\n",
       "      <td>0.0</td>\n",
       "      <td>0.0</td>\n",
       "      <td>0.0</td>\n",
       "    </tr>\n",
       "    <tr>\n",
       "      <th>5</th>\n",
       "      <td>0.0</td>\n",
       "      <td>0.0</td>\n",
       "      <td>4.0</td>\n",
       "      <td>0.0</td>\n",
       "      <td>0.0</td>\n",
       "      <td>0.0</td>\n",
       "      <td>0.0</td>\n",
       "      <td>0.0</td>\n",
       "      <td>0.0</td>\n",
       "      <td>0.0</td>\n",
       "      <td>...</td>\n",
       "      <td>0.0</td>\n",
       "      <td>0.0</td>\n",
       "      <td>0.0</td>\n",
       "      <td>0.0</td>\n",
       "      <td>0.0</td>\n",
       "      <td>0.0</td>\n",
       "      <td>0.0</td>\n",
       "      <td>0.0</td>\n",
       "      <td>0.0</td>\n",
       "      <td>0.0</td>\n",
       "    </tr>\n",
       "    <tr>\n",
       "      <th>...</th>\n",
       "      <td>...</td>\n",
       "      <td>...</td>\n",
       "      <td>...</td>\n",
       "      <td>...</td>\n",
       "      <td>...</td>\n",
       "      <td>...</td>\n",
       "      <td>...</td>\n",
       "      <td>...</td>\n",
       "      <td>...</td>\n",
       "      <td>...</td>\n",
       "      <td>...</td>\n",
       "      <td>...</td>\n",
       "      <td>...</td>\n",
       "      <td>...</td>\n",
       "      <td>...</td>\n",
       "      <td>...</td>\n",
       "      <td>...</td>\n",
       "      <td>...</td>\n",
       "      <td>...</td>\n",
       "      <td>...</td>\n",
       "      <td>...</td>\n",
       "    </tr>\n",
       "    <tr>\n",
       "      <th>667</th>\n",
       "      <td>0.0</td>\n",
       "      <td>0.0</td>\n",
       "      <td>0.0</td>\n",
       "      <td>0.0</td>\n",
       "      <td>0.0</td>\n",
       "      <td>4.0</td>\n",
       "      <td>0.0</td>\n",
       "      <td>0.0</td>\n",
       "      <td>0.0</td>\n",
       "      <td>0.0</td>\n",
       "      <td>...</td>\n",
       "      <td>0.0</td>\n",
       "      <td>0.0</td>\n",
       "      <td>0.0</td>\n",
       "      <td>0.0</td>\n",
       "      <td>0.0</td>\n",
       "      <td>0.0</td>\n",
       "      <td>0.0</td>\n",
       "      <td>0.0</td>\n",
       "      <td>0.0</td>\n",
       "      <td>0.0</td>\n",
       "    </tr>\n",
       "    <tr>\n",
       "      <th>668</th>\n",
       "      <td>0.0</td>\n",
       "      <td>0.0</td>\n",
       "      <td>0.0</td>\n",
       "      <td>0.0</td>\n",
       "      <td>0.0</td>\n",
       "      <td>0.0</td>\n",
       "      <td>0.0</td>\n",
       "      <td>0.0</td>\n",
       "      <td>0.0</td>\n",
       "      <td>0.0</td>\n",
       "      <td>...</td>\n",
       "      <td>0.0</td>\n",
       "      <td>0.0</td>\n",
       "      <td>0.0</td>\n",
       "      <td>0.0</td>\n",
       "      <td>0.0</td>\n",
       "      <td>0.0</td>\n",
       "      <td>0.0</td>\n",
       "      <td>0.0</td>\n",
       "      <td>0.0</td>\n",
       "      <td>0.0</td>\n",
       "    </tr>\n",
       "    <tr>\n",
       "      <th>669</th>\n",
       "      <td>0.0</td>\n",
       "      <td>0.0</td>\n",
       "      <td>0.0</td>\n",
       "      <td>0.0</td>\n",
       "      <td>0.0</td>\n",
       "      <td>0.0</td>\n",
       "      <td>0.0</td>\n",
       "      <td>0.0</td>\n",
       "      <td>0.0</td>\n",
       "      <td>0.0</td>\n",
       "      <td>...</td>\n",
       "      <td>0.0</td>\n",
       "      <td>0.0</td>\n",
       "      <td>0.0</td>\n",
       "      <td>0.0</td>\n",
       "      <td>0.0</td>\n",
       "      <td>0.0</td>\n",
       "      <td>0.0</td>\n",
       "      <td>0.0</td>\n",
       "      <td>0.0</td>\n",
       "      <td>0.0</td>\n",
       "    </tr>\n",
       "    <tr>\n",
       "      <th>670</th>\n",
       "      <td>4.0</td>\n",
       "      <td>0.0</td>\n",
       "      <td>0.0</td>\n",
       "      <td>0.0</td>\n",
       "      <td>0.0</td>\n",
       "      <td>0.0</td>\n",
       "      <td>0.0</td>\n",
       "      <td>0.0</td>\n",
       "      <td>0.0</td>\n",
       "      <td>0.0</td>\n",
       "      <td>...</td>\n",
       "      <td>0.0</td>\n",
       "      <td>0.0</td>\n",
       "      <td>0.0</td>\n",
       "      <td>0.0</td>\n",
       "      <td>0.0</td>\n",
       "      <td>0.0</td>\n",
       "      <td>0.0</td>\n",
       "      <td>0.0</td>\n",
       "      <td>0.0</td>\n",
       "      <td>0.0</td>\n",
       "    </tr>\n",
       "    <tr>\n",
       "      <th>671</th>\n",
       "      <td>5.0</td>\n",
       "      <td>0.0</td>\n",
       "      <td>0.0</td>\n",
       "      <td>0.0</td>\n",
       "      <td>0.0</td>\n",
       "      <td>0.0</td>\n",
       "      <td>0.0</td>\n",
       "      <td>0.0</td>\n",
       "      <td>0.0</td>\n",
       "      <td>0.0</td>\n",
       "      <td>...</td>\n",
       "      <td>0.0</td>\n",
       "      <td>0.0</td>\n",
       "      <td>0.0</td>\n",
       "      <td>0.0</td>\n",
       "      <td>0.0</td>\n",
       "      <td>0.0</td>\n",
       "      <td>0.0</td>\n",
       "      <td>0.0</td>\n",
       "      <td>0.0</td>\n",
       "      <td>0.0</td>\n",
       "    </tr>\n",
       "  </tbody>\n",
       "</table>\n",
       "<p>671 rows × 9066 columns</p>\n",
       "</div>"
      ],
      "text/plain": [
       "movieId  1       2       3       4       5       6       7       8       \\\n",
       "userId                                                                    \n",
       "1           0.0     0.0     0.0     0.0     0.0     0.0     0.0     0.0   \n",
       "2           0.0     0.0     0.0     0.0     0.0     0.0     0.0     0.0   \n",
       "3           0.0     0.0     0.0     0.0     0.0     0.0     0.0     0.0   \n",
       "4           0.0     0.0     0.0     0.0     0.0     0.0     0.0     0.0   \n",
       "5           0.0     0.0     4.0     0.0     0.0     0.0     0.0     0.0   \n",
       "...         ...     ...     ...     ...     ...     ...     ...     ...   \n",
       "667         0.0     0.0     0.0     0.0     0.0     4.0     0.0     0.0   \n",
       "668         0.0     0.0     0.0     0.0     0.0     0.0     0.0     0.0   \n",
       "669         0.0     0.0     0.0     0.0     0.0     0.0     0.0     0.0   \n",
       "670         4.0     0.0     0.0     0.0     0.0     0.0     0.0     0.0   \n",
       "671         5.0     0.0     0.0     0.0     0.0     0.0     0.0     0.0   \n",
       "\n",
       "movieId  9       10      ...  161084  161155  161594  161830  161918  161944  \\\n",
       "userId                   ...                                                   \n",
       "1           0.0     0.0  ...     0.0     0.0     0.0     0.0     0.0     0.0   \n",
       "2           0.0     4.0  ...     0.0     0.0     0.0     0.0     0.0     0.0   \n",
       "3           0.0     0.0  ...     0.0     0.0     0.0     0.0     0.0     0.0   \n",
       "4           0.0     4.0  ...     0.0     0.0     0.0     0.0     0.0     0.0   \n",
       "5           0.0     0.0  ...     0.0     0.0     0.0     0.0     0.0     0.0   \n",
       "...         ...     ...  ...     ...     ...     ...     ...     ...     ...   \n",
       "667         0.0     0.0  ...     0.0     0.0     0.0     0.0     0.0     0.0   \n",
       "668         0.0     0.0  ...     0.0     0.0     0.0     0.0     0.0     0.0   \n",
       "669         0.0     0.0  ...     0.0     0.0     0.0     0.0     0.0     0.0   \n",
       "670         0.0     0.0  ...     0.0     0.0     0.0     0.0     0.0     0.0   \n",
       "671         0.0     0.0  ...     0.0     0.0     0.0     0.0     0.0     0.0   \n",
       "\n",
       "movieId  162376  162542  162672  163949  \n",
       "userId                                   \n",
       "1           0.0     0.0     0.0     0.0  \n",
       "2           0.0     0.0     0.0     0.0  \n",
       "3           0.0     0.0     0.0     0.0  \n",
       "4           0.0     0.0     0.0     0.0  \n",
       "5           0.0     0.0     0.0     0.0  \n",
       "...         ...     ...     ...     ...  \n",
       "667         0.0     0.0     0.0     0.0  \n",
       "668         0.0     0.0     0.0     0.0  \n",
       "669         0.0     0.0     0.0     0.0  \n",
       "670         0.0     0.0     0.0     0.0  \n",
       "671         0.0     0.0     0.0     0.0  \n",
       "\n",
       "[671 rows x 9066 columns]"
      ]
     },
     "execution_count": 9,
     "metadata": {},
     "output_type": "execute_result"
    }
   ],
   "source": [
    "user_movie_matrix"
   ]
  },
  {
   "cell_type": "markdown",
   "id": "7b713fcd",
   "metadata": {},
   "source": [
    "## 2. Matrix Factorization"
   ]
  },
  {
   "cell_type": "markdown",
   "id": "9c388337",
   "metadata": {},
   "source": [
    "### 2.1 초기 세팅"
   ]
  },
  {
   "cell_type": "markdown",
   "id": "7911e2f5",
   "metadata": {},
   "source": [
    "### 2.1.1 정답 R"
   ]
  },
  {
   "cell_type": "code",
   "execution_count": 10,
   "id": "88e298f9",
   "metadata": {},
   "outputs": [],
   "source": [
    "R = user_movie_matrix.values"
   ]
  },
  {
   "cell_type": "code",
   "execution_count": 11,
   "id": "94915e87",
   "metadata": {},
   "outputs": [],
   "source": [
    "n_user = R.shape[0] # 전체 유저 수\n",
    "n_item = R.shape[1] # 전체 영화 수"
   ]
  },
  {
   "cell_type": "markdown",
   "id": "60220359",
   "metadata": {},
   "source": [
    "### 2.1.2 잠재 요인 행렬"
   ]
  },
  {
   "cell_type": "markdown",
   "id": "ad163754",
   "metadata": {},
   "source": [
    "유저와 영화별로 잠재 요인 크기가 10인 행렬을 선언."
   ]
  },
  {
   "cell_type": "code",
   "execution_count": 12,
   "id": "51811a0b",
   "metadata": {},
   "outputs": [],
   "source": [
    "K = 10"
   ]
  },
  {
   "cell_type": "markdown",
   "id": "2c8d77fa",
   "metadata": {},
   "source": [
    "### 2.1.3 P와 Q 랜덤 값으로 초기화"
   ]
  },
  {
   "cell_type": "markdown",
   "id": "3fa3715a",
   "metadata": {},
   "source": [
    "유저 행렬 P와 영화 행렬 Q를 랜덤 값으로 초기화."
   ]
  },
  {
   "cell_type": "code",
   "execution_count": 13,
   "id": "9a25a87d",
   "metadata": {},
   "outputs": [],
   "source": [
    "P = np.random.normal(size=(n_user, K))\n",
    "Q = np.random.normal(size=(n_item, K))"
   ]
  },
  {
   "cell_type": "code",
   "execution_count": 14,
   "id": "1b52e9cd",
   "metadata": {},
   "outputs": [
    {
     "data": {
      "text/plain": [
       "array([[ 1.48860905,  0.67601087, -0.41845137, ...,  0.64500184,\n",
       "         0.10641374,  0.42215483],\n",
       "       [ 0.12420684, -0.83795346,  0.4090157 , ..., -0.22508127,\n",
       "        -1.33620597,  0.30372151],\n",
       "       [-0.72015884,  2.5449146 ,  1.31729112, ...,  1.37626076,\n",
       "        -0.47218397,  0.5240849 ],\n",
       "       ...,\n",
       "       [-0.34036392,  1.10504404,  0.25446956, ..., -0.20915116,\n",
       "         0.65492966, -0.3958868 ],\n",
       "       [-0.31165161,  1.78026007,  1.08668056, ...,  0.03222073,\n",
       "        -0.52333827, -0.11044398],\n",
       "       [-1.2146398 , -0.10685361,  0.845032  , ..., -1.02719008,\n",
       "         0.00569836,  0.22101445]])"
      ]
     },
     "execution_count": 14,
     "metadata": {},
     "output_type": "execute_result"
    }
   ],
   "source": [
    "P"
   ]
  },
  {
   "cell_type": "code",
   "execution_count": 15,
   "id": "ac269e22",
   "metadata": {},
   "outputs": [
    {
     "data": {
      "text/plain": [
       "array([[ 0.30194165,  0.36629183, -0.52061911, ..., -0.43741366,\n",
       "         1.19149681,  0.03748171],\n",
       "       [-0.02156433, -1.76596912, -0.05909484, ...,  0.45219164,\n",
       "        -0.99925363,  1.92936678],\n",
       "       [-0.26655993, -0.48104382, -0.16922735, ...,  0.48428921,\n",
       "        -0.04504006, -0.35068684],\n",
       "       ...,\n",
       "       [-0.33373493, -0.76955212, -1.0908092 , ...,  0.88754135,\n",
       "        -2.14405834,  1.25667084],\n",
       "       [-0.32719638, -0.73017883,  0.04958502, ...,  0.20299266,\n",
       "         0.02776886,  0.30185611],\n",
       "       [ 0.0813312 ,  0.29697644,  1.11559121, ..., -1.66948007,\n",
       "        -0.15183078,  0.60258872]])"
      ]
     },
     "execution_count": 15,
     "metadata": {},
     "output_type": "execute_result"
    }
   ],
   "source": [
    "Q"
   ]
  },
  {
   "cell_type": "markdown",
   "id": "ad402ffd",
   "metadata": {},
   "source": [
    "### 2.2 Gradient Descent를 이용한 잠재 요인 행렬 학습"
   ]
  },
  {
   "cell_type": "markdown",
   "id": "65843ab7",
   "metadata": {},
   "source": [
    "유저 '670'이 영화 '0'에 평가한 점수를 학습하는 과정."
   ]
  },
  {
   "cell_type": "code",
   "execution_count": 16,
   "id": "42ebe52e",
   "metadata": {},
   "outputs": [],
   "source": [
    "user_id = 670\n",
    "item_id = 0"
   ]
  },
  {
   "cell_type": "markdown",
   "id": "59047d73",
   "metadata": {},
   "source": [
    "### 2.2.1 R hat을 계산"
   ]
  },
  {
   "cell_type": "code",
   "execution_count": 17,
   "id": "88aa4475",
   "metadata": {},
   "outputs": [
    {
     "data": {
      "text/plain": [
       "1.0134653914338267"
      ]
     },
     "execution_count": 17,
     "metadata": {},
     "output_type": "execute_result"
    }
   ],
   "source": [
    "pred = P[user_id, :].dot(Q[item_id, :].T)\n",
    "pred"
   ]
  },
  {
   "cell_type": "markdown",
   "id": "79ce1a7e",
   "metadata": {},
   "source": [
    "### 2.2.2 R과 R hat의 오차를 계산"
   ]
  },
  {
   "cell_type": "code",
   "execution_count": 18,
   "id": "ba427d9b",
   "metadata": {},
   "outputs": [
    {
     "data": {
      "text/plain": [
       "5.0"
      ]
     },
     "execution_count": 18,
     "metadata": {},
     "output_type": "execute_result"
    }
   ],
   "source": [
    "real = R[user_id, item_id]\n",
    "real"
   ]
  },
  {
   "cell_type": "code",
   "execution_count": 19,
   "id": "2339c4d9",
   "metadata": {},
   "outputs": [
    {
     "data": {
      "text/plain": [
       "3.9865346085661733"
      ]
     },
     "execution_count": 19,
     "metadata": {},
     "output_type": "execute_result"
    }
   ],
   "source": [
    "error = real - pred\n",
    "error"
   ]
  },
  {
   "cell_type": "markdown",
   "id": "89b0e193",
   "metadata": {},
   "source": [
    "### 2.2.3 Gradient Descent를 이용한 P와 Q를 업데이트"
   ]
  },
  {
   "cell_type": "code",
   "execution_count": 20,
   "id": "89df688b",
   "metadata": {},
   "outputs": [],
   "source": [
    "learning_rate = 0.01"
   ]
  },
  {
   "cell_type": "code",
   "execution_count": 21,
   "id": "15969fba",
   "metadata": {},
   "outputs": [],
   "source": [
    "dp = 2 * error * Q[item_id, :]\n",
    "dq = 2 * error * P[user_id, :]"
   ]
  },
  {
   "cell_type": "code",
   "execution_count": 22,
   "id": "228b1377",
   "metadata": {},
   "outputs": [],
   "source": [
    "P[user_id, :] += learning_rate * dp\n",
    "Q[item_id, :] += learning_rate * dq"
   ]
  },
  {
   "cell_type": "code",
   "execution_count": 24,
   "id": "f392d8f8",
   "metadata": {},
   "outputs": [
    {
     "data": {
      "text/plain": [
       "array([-1.19056579, -0.07764891,  0.80352268,  0.58764539,  1.12716065,\n",
       "       -0.30665716,  1.03069912, -1.06206537,  0.10069722,  0.2240029 ])"
      ]
     },
     "execution_count": 24,
     "metadata": {},
     "output_type": "execute_result"
    }
   ],
   "source": [
    "P[user_id] # 업데이트된 P"
   ]
  },
  {
   "cell_type": "markdown",
   "id": "c36bf0e8",
   "metadata": {},
   "source": [
    "업데이트된 P와 Q를 이용해 오차가 감소했음을 알 수 있음."
   ]
  },
  {
   "cell_type": "code",
   "execution_count": 25,
   "id": "600f1122",
   "metadata": {},
   "outputs": [
    {
     "data": {
      "text/plain": [
       "2.7414918543707754"
      ]
     },
     "execution_count": 25,
     "metadata": {},
     "output_type": "execute_result"
    }
   ],
   "source": [
    "pred = P[user_id, :].dot(Q[item_id, :].T)\n",
    "error = real - pred\n",
    "error"
   ]
  },
  {
   "cell_type": "markdown",
   "id": "e432d2ef",
   "metadata": {},
   "source": [
    "### 2.2.4 업데이트 과정을 반복"
   ]
  },
  {
   "cell_type": "code",
   "execution_count": 26,
   "id": "123de821",
   "metadata": {},
   "outputs": [
    {
     "name": "stdout",
     "output_type": "stream",
     "text": [
      "Epoch0: 2.741\n",
      "Epoch1: 1.86\n",
      "Epoch2: 1.242\n",
      "Epoch3: 0.817\n",
      "Epoch4: 0.532\n",
      "Epoch5: 0.344\n",
      "Epoch6: 0.221\n",
      "Epoch7: 0.141\n",
      "Epoch8: 0.09\n",
      "Epoch9: 0.058\n"
     ]
    }
   ],
   "source": [
    "epochs = 10\n",
    "real = R[user_id, item_id]\n",
    "\n",
    "for epoch in range(epochs):\n",
    "    pred = P[user_id, :].dot(Q[item_id, :].T)\n",
    "    error = real - pred\n",
    "    \n",
    "    dp = 2 * error * Q[item_id, :]\n",
    "    dq = 2 * error * P[user_id, :]\n",
    "    \n",
    "    P[user_id, :] += learning_rate * dp\n",
    "    Q[item_id, :] += learning_rate * dq\n",
    "    \n",
    "    print(f\"Epoch{epoch}: {round(error, 3)}\")"
   ]
  },
  {
   "cell_type": "markdown",
   "id": "6b4ad3f7",
   "metadata": {},
   "source": [
    "### 2.3 전체 데이터를 이용해 P와 Q 업데이트"
   ]
  },
  {
   "cell_type": "code",
   "execution_count": 27,
   "id": "64db536b",
   "metadata": {},
   "outputs": [
    {
     "name": "stdout",
     "output_type": "stream",
     "text": [
      "Epoch1: 2.98596\n",
      "Epoch2: 1.67461\n",
      "Epoch3: 1.3254\n",
      "Epoch4: 1.1665\n",
      "Epoch5: 1.06908\n"
     ]
    }
   ],
   "source": [
    "K = 10\n",
    "\n",
    "P = np.random.normal(size=(n_user, K))\n",
    "Q = np.random.normal(size=(n_item, K))\n",
    "\n",
    "epochs = 5\n",
    "learning_rate = 0.01\n",
    "\n",
    "for epoch in range(1, epochs + 1):\n",
    "    total_error = 0\n",
    "    iteration = 0\n",
    "    \n",
    "    # 모든 유저에 대해 반복\n",
    "    for user_id in range(n_user):\n",
    "        # 모든 아이템에 대해 반복\n",
    "        for item_id in range(n_item):\n",
    "            \n",
    "            real = R[user_id, item_id]\n",
    "            \n",
    "            # 평가하지 않은 경우 제외\n",
    "            if real == 0:\n",
    "                continue\n",
    "                \n",
    "            # P와 Q 업데이트\n",
    "            pred = P[user_id, :].dot(Q[item_id, :].T)\n",
    "            error = real - pred\n",
    "            \n",
    "            dp = 2 * error * Q[item_id, :]\n",
    "            dq = 2 * error * P[user_id, :]\n",
    "            \n",
    "            P[user_id, :] += learning_rate * dp\n",
    "            Q[item_id, :] += learning_rate * dq\n",
    "            \n",
    "            total_error += (error ** 2)\n",
    "            iteration += 1\n",
    "            \n",
    "    print(f\"Epoch{epoch}: {round(np.sqrt(total_error / iteration), 5)}\")"
   ]
  },
  {
   "cell_type": "markdown",
   "id": "ff67895b",
   "metadata": {},
   "source": [
    "### 2.4 영화 추천하기"
   ]
  },
  {
   "cell_type": "markdown",
   "id": "e20d4c5b",
   "metadata": {},
   "source": [
    "모든 영화에 대해서 점수를 예측하고 예측 평가 점수가 높은 영화를 유저에게 추천."
   ]
  },
  {
   "cell_type": "code",
   "execution_count": 35,
   "id": "afc83d94",
   "metadata": {},
   "outputs": [],
   "source": [
    "user_id = 124"
   ]
  },
  {
   "cell_type": "code",
   "execution_count": 36,
   "id": "54b2d9b1",
   "metadata": {},
   "outputs": [],
   "source": [
    "# 유저 '124' 잠재요인에 모든 영화의 잠재요인을 곱해 평점 예측\n",
    "prediction = P[[user_id], :].dot(Q.T)[0]"
   ]
  },
  {
   "cell_type": "code",
   "execution_count": 37,
   "id": "af3a1a67",
   "metadata": {},
   "outputs": [
    {
     "data": {
      "text/plain": [
       "array([ 4.07742196,  3.43959439,  3.33107706, ..., -0.12097473,\n",
       "        2.20315537,  1.47067927])"
      ]
     },
     "execution_count": 37,
     "metadata": {},
     "output_type": "execute_result"
    }
   ],
   "source": [
    "prediction"
   ]
  },
  {
   "cell_type": "code",
   "execution_count": 38,
   "id": "7981724d",
   "metadata": {},
   "outputs": [],
   "source": [
    "# 영화 아이디별 예측 평가 점수를 내림차순으로 정렬\n",
    "prediction = pd.Series(\n",
    "    data=prediction,\n",
    "    index=user_movie_matrix.columns,\n",
    ").sort_values(ascending=False)"
   ]
  },
  {
   "cell_type": "code",
   "execution_count": 39,
   "id": "729a0671",
   "metadata": {},
   "outputs": [
    {
     "data": {
      "text/plain": [
       "movieId\n",
       "2305      7.600884\n",
       "2481      7.418646\n",
       "3192      7.356615\n",
       "118326    7.112933\n",
       "52528     7.098605\n",
       "            ...   \n",
       "26180    -5.148957\n",
       "59834    -5.174445\n",
       "5864     -5.540053\n",
       "4984     -5.771524\n",
       "137595   -6.315502\n",
       "Length: 9066, dtype: float64"
      ]
     },
     "execution_count": 39,
     "metadata": {},
     "output_type": "execute_result"
    }
   ],
   "source": [
    "prediction"
   ]
  },
  {
   "cell_type": "code",
   "execution_count": 40,
   "id": "3a233483",
   "metadata": {},
   "outputs": [],
   "source": [
    "# 아직 평가하지 않은 영화만 추출\n",
    "prediction = prediction[user_movie_matrix.loc[user_id] == 0]"
   ]
  },
  {
   "cell_type": "code",
   "execution_count": 41,
   "id": "a35481b4",
   "metadata": {},
   "outputs": [],
   "source": [
    "# 예측 평가 점수 상위 10개의 영화 아이디 추출\n",
    "recommend = prediction[:10].index"
   ]
  },
  {
   "cell_type": "code",
   "execution_count": 42,
   "id": "de44b1e4",
   "metadata": {},
   "outputs": [
    {
     "data": {
      "text/plain": [
       "Int64Index([2305, 2481, 3192, 118326, 52528, 74370, 25744, 5288, 1652, 844], dtype='int64', name='movieId')"
      ]
     },
     "execution_count": 42,
     "metadata": {},
     "output_type": "execute_result"
    }
   ],
   "source": [
    "recommend"
   ]
  },
  {
   "cell_type": "code",
   "execution_count": 43,
   "id": "1e6fe379",
   "metadata": {},
   "outputs": [
    {
     "data": {
      "text/html": [
       "<div>\n",
       "<style scoped>\n",
       "    .dataframe tbody tr th:only-of-type {\n",
       "        vertical-align: middle;\n",
       "    }\n",
       "\n",
       "    .dataframe tbody tr th {\n",
       "        vertical-align: top;\n",
       "    }\n",
       "\n",
       "    .dataframe thead th {\n",
       "        text-align: right;\n",
       "    }\n",
       "</style>\n",
       "<table border=\"1\" class=\"dataframe\">\n",
       "  <thead>\n",
       "    <tr style=\"text-align: right;\">\n",
       "      <th></th>\n",
       "      <th>title</th>\n",
       "    </tr>\n",
       "    <tr>\n",
       "      <th>movieId</th>\n",
       "      <th></th>\n",
       "    </tr>\n",
       "  </thead>\n",
       "  <tbody>\n",
       "    <tr>\n",
       "      <th>2305</th>\n",
       "      <td>Slam</td>\n",
       "    </tr>\n",
       "    <tr>\n",
       "      <th>2481</th>\n",
       "      <td>My Name Is Joe</td>\n",
       "    </tr>\n",
       "    <tr>\n",
       "      <th>3192</th>\n",
       "      <td>The Terrorist</td>\n",
       "    </tr>\n",
       "    <tr>\n",
       "      <th>118326</th>\n",
       "      <td>By the Gun</td>\n",
       "    </tr>\n",
       "    <tr>\n",
       "      <th>52528</th>\n",
       "      <td>Tristana</td>\n",
       "    </tr>\n",
       "    <tr>\n",
       "      <th>74370</th>\n",
       "      <td>The House of the Devil</td>\n",
       "    </tr>\n",
       "    <tr>\n",
       "      <th>25744</th>\n",
       "      <td>Häxan</td>\n",
       "    </tr>\n",
       "    <tr>\n",
       "      <th>5288</th>\n",
       "      <td>The Atomic Cafe</td>\n",
       "    </tr>\n",
       "    <tr>\n",
       "      <th>1652</th>\n",
       "      <td>Year of the Horse</td>\n",
       "    </tr>\n",
       "    <tr>\n",
       "      <th>844</th>\n",
       "      <td>The Story of Xinghua</td>\n",
       "    </tr>\n",
       "  </tbody>\n",
       "</table>\n",
       "</div>"
      ],
      "text/plain": [
       "                          title\n",
       "movieId                        \n",
       "2305                       Slam\n",
       "2481             My Name Is Joe\n",
       "3192              The Terrorist\n",
       "118326               By the Gun\n",
       "52528                  Tristana\n",
       "74370    The House of the Devil\n",
       "25744                     Häxan\n",
       "5288            The Atomic Cafe\n",
       "1652          Year of the Horse\n",
       "844        The Story of Xinghua"
      ]
     },
     "execution_count": 43,
     "metadata": {},
     "output_type": "execute_result"
    }
   ],
   "source": [
    "movies.loc[recommend]"
   ]
  },
  {
   "cell_type": "code",
   "execution_count": null,
   "id": "c890b0b2",
   "metadata": {},
   "outputs": [],
   "source": []
  }
 ],
 "metadata": {
  "kernelspec": {
   "display_name": "Python 3 (ipykernel)",
   "language": "python",
   "name": "python3"
  },
  "language_info": {
   "codemirror_mode": {
    "name": "ipython",
    "version": 3
   },
   "file_extension": ".py",
   "mimetype": "text/x-python",
   "name": "python",
   "nbconvert_exporter": "python",
   "pygments_lexer": "ipython3",
   "version": "3.8.6"
  }
 },
 "nbformat": 4,
 "nbformat_minor": 5
}
