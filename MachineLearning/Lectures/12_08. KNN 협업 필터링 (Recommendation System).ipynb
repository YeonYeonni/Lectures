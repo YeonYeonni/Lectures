{
 "cells": [
  {
   "cell_type": "markdown",
   "id": "724a0b78",
   "metadata": {},
   "source": [
    "## KNN 협업 필터링 실습"
   ]
  },
  {
   "cell_type": "markdown",
   "id": "5b76d2fc",
   "metadata": {},
   "source": [
    "유저-영화 평점 데이터를 이용. 유저가 아직 평가하지 않은 영화를 추천."
   ]
  },
  {
   "cell_type": "code",
   "execution_count": 1,
   "id": "060de0a5",
   "metadata": {},
   "outputs": [],
   "source": [
    "import pandas as pd\n",
    "import numpy as np\n",
    "\n",
    "np.random.seed(2021)"
   ]
  },
  {
   "cell_type": "markdown",
   "id": "49510169",
   "metadata": {},
   "source": [
    "## 1. Data"
   ]
  },
  {
   "cell_type": "markdown",
   "id": "9a6dd2e9",
   "metadata": {},
   "source": [
    "### 1.1 Data Load"
   ]
  },
  {
   "cell_type": "markdown",
   "id": "eab51552",
   "metadata": {},
   "source": [
    "userID: 유저 고유 아이디.\n",
    "movieID: 영화 고유 아이디.\n",
    "rating: 유저가 영화를 평가한 점수."
   ]
  },
  {
   "cell_type": "code",
   "execution_count": 2,
   "id": "9982e9fb",
   "metadata": {},
   "outputs": [],
   "source": [
    "ratings = pd.read_csv('ratings_small.csv')\n",
    "ratings = ratings[['userId', 'movieId', 'rating']]"
   ]
  },
  {
   "cell_type": "code",
   "execution_count": 3,
   "id": "549ba0f3",
   "metadata": {},
   "outputs": [
    {
     "data": {
      "text/html": [
       "<div>\n",
       "<style scoped>\n",
       "    .dataframe tbody tr th:only-of-type {\n",
       "        vertical-align: middle;\n",
       "    }\n",
       "\n",
       "    .dataframe tbody tr th {\n",
       "        vertical-align: top;\n",
       "    }\n",
       "\n",
       "    .dataframe thead th {\n",
       "        text-align: right;\n",
       "    }\n",
       "</style>\n",
       "<table border=\"1\" class=\"dataframe\">\n",
       "  <thead>\n",
       "    <tr style=\"text-align: right;\">\n",
       "      <th></th>\n",
       "      <th>userId</th>\n",
       "      <th>movieId</th>\n",
       "      <th>rating</th>\n",
       "    </tr>\n",
       "  </thead>\n",
       "  <tbody>\n",
       "    <tr>\n",
       "      <th>0</th>\n",
       "      <td>1</td>\n",
       "      <td>31</td>\n",
       "      <td>2.5</td>\n",
       "    </tr>\n",
       "    <tr>\n",
       "      <th>1</th>\n",
       "      <td>1</td>\n",
       "      <td>1029</td>\n",
       "      <td>3.0</td>\n",
       "    </tr>\n",
       "    <tr>\n",
       "      <th>2</th>\n",
       "      <td>1</td>\n",
       "      <td>1061</td>\n",
       "      <td>3.0</td>\n",
       "    </tr>\n",
       "    <tr>\n",
       "      <th>3</th>\n",
       "      <td>1</td>\n",
       "      <td>1129</td>\n",
       "      <td>2.0</td>\n",
       "    </tr>\n",
       "    <tr>\n",
       "      <th>4</th>\n",
       "      <td>1</td>\n",
       "      <td>1172</td>\n",
       "      <td>4.0</td>\n",
       "    </tr>\n",
       "  </tbody>\n",
       "</table>\n",
       "</div>"
      ],
      "text/plain": [
       "   userId  movieId  rating\n",
       "0       1       31     2.5\n",
       "1       1     1029     3.0\n",
       "2       1     1061     3.0\n",
       "3       1     1129     2.0\n",
       "4       1     1172     4.0"
      ]
     },
     "execution_count": 3,
     "metadata": {},
     "output_type": "execute_result"
    }
   ],
   "source": [
    "ratings.head()"
   ]
  },
  {
   "cell_type": "markdown",
   "id": "7a39ba91",
   "metadata": {},
   "source": [
    "다른 두 데이터를 이용해 ratings 데이터의 movieID에 맞는 영화 제목을 얻기."
   ]
  },
  {
   "cell_type": "code",
   "execution_count": 4,
   "id": "860bd763",
   "metadata": {},
   "outputs": [
    {
     "name": "stderr",
     "output_type": "stream",
     "text": [
      "c:\\python\\python38\\lib\\site-packages\\IPython\\core\\interactiveshell.py:3444: DtypeWarning: Columns (10) have mixed types.Specify dtype option on import or set low_memory=False.\n",
      "  exec(code_obj, self.user_global_ns, self.user_ns)\n"
     ]
    }
   ],
   "source": [
    "movies = pd.read_csv('movies_metadata.csv')\n",
    "links = pd.read_csv('links_small.csv')"
   ]
  },
  {
   "cell_type": "markdown",
   "id": "4a31e96f",
   "metadata": {},
   "source": [
    "### 1.2 Data Preprocessing"
   ]
  },
  {
   "cell_type": "markdown",
   "id": "c658643d",
   "metadata": {},
   "source": [
    "- movies 데이터에서 'tt 숫자'로 이루어진 imdb_id에서 숫자 부분,\n",
    "- links 데이터의 '숫자'로 이루어진 imdbId를 연결."
   ]
  },
  {
   "cell_type": "code",
   "execution_count": 5,
   "id": "69c8a7cf",
   "metadata": {},
   "outputs": [],
   "source": [
    "movies = movies.fillna('')\n",
    "movies = movies[movies['imdb_id'].str.startswith('tt')]\n",
    "movies['imdbId'] = movies['imdb_id'].apply(lambda x: int(x[2:]))\n",
    "movies = movies.merge(links, on='imdbId')"
   ]
  },
  {
   "cell_type": "code",
   "execution_count": 6,
   "id": "a6b52921",
   "metadata": {},
   "outputs": [],
   "source": [
    "movies = movies[['title', 'movieId']]\n",
    "movies = movies.set_index('movieId')"
   ]
  },
  {
   "cell_type": "code",
   "execution_count": 7,
   "id": "c9f793ac",
   "metadata": {},
   "outputs": [
    {
     "data": {
      "text/html": [
       "<div>\n",
       "<style scoped>\n",
       "    .dataframe tbody tr th:only-of-type {\n",
       "        vertical-align: middle;\n",
       "    }\n",
       "\n",
       "    .dataframe tbody tr th {\n",
       "        vertical-align: top;\n",
       "    }\n",
       "\n",
       "    .dataframe thead th {\n",
       "        text-align: right;\n",
       "    }\n",
       "</style>\n",
       "<table border=\"1\" class=\"dataframe\">\n",
       "  <thead>\n",
       "    <tr style=\"text-align: right;\">\n",
       "      <th></th>\n",
       "      <th>title</th>\n",
       "    </tr>\n",
       "    <tr>\n",
       "      <th>movieId</th>\n",
       "      <th></th>\n",
       "    </tr>\n",
       "  </thead>\n",
       "  <tbody>\n",
       "    <tr>\n",
       "      <th>1</th>\n",
       "      <td>Toy Story</td>\n",
       "    </tr>\n",
       "    <tr>\n",
       "      <th>2</th>\n",
       "      <td>Jumanji</td>\n",
       "    </tr>\n",
       "    <tr>\n",
       "      <th>3</th>\n",
       "      <td>Grumpier Old Men</td>\n",
       "    </tr>\n",
       "    <tr>\n",
       "      <th>4</th>\n",
       "      <td>Waiting to Exhale</td>\n",
       "    </tr>\n",
       "    <tr>\n",
       "      <th>5</th>\n",
       "      <td>Father of the Bride Part II</td>\n",
       "    </tr>\n",
       "  </tbody>\n",
       "</table>\n",
       "</div>"
      ],
      "text/plain": [
       "                               title\n",
       "movieId                             \n",
       "1                          Toy Story\n",
       "2                            Jumanji\n",
       "3                   Grumpier Old Men\n",
       "4                  Waiting to Exhale\n",
       "5        Father of the Bride Part II"
      ]
     },
     "execution_count": 7,
     "metadata": {},
     "output_type": "execute_result"
    }
   ],
   "source": [
    "movies.head()\n",
    "\n",
    "# movieId와 title을 mapping"
   ]
  },
  {
   "cell_type": "markdown",
   "id": "9ba07b3b",
   "metadata": {},
   "source": [
    "pivot 함수를 이용해 유저 아이디가 index, 영화 아이디가 column, 평가 점수가 value인 user_movie_matrix를 생성."
   ]
  },
  {
   "cell_type": "code",
   "execution_count": 8,
   "id": "fb871379",
   "metadata": {},
   "outputs": [],
   "source": [
    "user_movie_matrix = ratings.pivot(\n",
    "    index='userId',\n",
    "    columns='movieId',\n",
    "    values='rating',\n",
    ")"
   ]
  },
  {
   "cell_type": "code",
   "execution_count": 9,
   "id": "e95e9a34",
   "metadata": {},
   "outputs": [
    {
     "data": {
      "text/html": [
       "<div>\n",
       "<style scoped>\n",
       "    .dataframe tbody tr th:only-of-type {\n",
       "        vertical-align: middle;\n",
       "    }\n",
       "\n",
       "    .dataframe tbody tr th {\n",
       "        vertical-align: top;\n",
       "    }\n",
       "\n",
       "    .dataframe thead th {\n",
       "        text-align: right;\n",
       "    }\n",
       "</style>\n",
       "<table border=\"1\" class=\"dataframe\">\n",
       "  <thead>\n",
       "    <tr style=\"text-align: right;\">\n",
       "      <th>movieId</th>\n",
       "      <th>161944</th>\n",
       "      <th>162376</th>\n",
       "      <th>162542</th>\n",
       "      <th>162672</th>\n",
       "      <th>163949</th>\n",
       "    </tr>\n",
       "    <tr>\n",
       "      <th>userId</th>\n",
       "      <th></th>\n",
       "      <th></th>\n",
       "      <th></th>\n",
       "      <th></th>\n",
       "      <th></th>\n",
       "    </tr>\n",
       "  </thead>\n",
       "  <tbody>\n",
       "    <tr>\n",
       "      <th>667</th>\n",
       "      <td>NaN</td>\n",
       "      <td>NaN</td>\n",
       "      <td>NaN</td>\n",
       "      <td>NaN</td>\n",
       "      <td>NaN</td>\n",
       "    </tr>\n",
       "    <tr>\n",
       "      <th>668</th>\n",
       "      <td>NaN</td>\n",
       "      <td>NaN</td>\n",
       "      <td>NaN</td>\n",
       "      <td>NaN</td>\n",
       "      <td>NaN</td>\n",
       "    </tr>\n",
       "    <tr>\n",
       "      <th>669</th>\n",
       "      <td>NaN</td>\n",
       "      <td>NaN</td>\n",
       "      <td>NaN</td>\n",
       "      <td>NaN</td>\n",
       "      <td>NaN</td>\n",
       "    </tr>\n",
       "    <tr>\n",
       "      <th>670</th>\n",
       "      <td>NaN</td>\n",
       "      <td>NaN</td>\n",
       "      <td>NaN</td>\n",
       "      <td>NaN</td>\n",
       "      <td>NaN</td>\n",
       "    </tr>\n",
       "    <tr>\n",
       "      <th>671</th>\n",
       "      <td>NaN</td>\n",
       "      <td>NaN</td>\n",
       "      <td>NaN</td>\n",
       "      <td>NaN</td>\n",
       "      <td>NaN</td>\n",
       "    </tr>\n",
       "  </tbody>\n",
       "</table>\n",
       "</div>"
      ],
      "text/plain": [
       "movieId  161944  162376  162542  162672  163949\n",
       "userId                                         \n",
       "667         NaN     NaN     NaN     NaN     NaN\n",
       "668         NaN     NaN     NaN     NaN     NaN\n",
       "669         NaN     NaN     NaN     NaN     NaN\n",
       "670         NaN     NaN     NaN     NaN     NaN\n",
       "671         NaN     NaN     NaN     NaN     NaN"
      ]
     },
     "execution_count": 9,
     "metadata": {},
     "output_type": "execute_result"
    }
   ],
   "source": [
    "user_movie_matrix.iloc[-5:, -5:]"
   ]
  },
  {
   "cell_type": "markdown",
   "id": "91202c0e",
   "metadata": {},
   "source": [
    "유저가 평가하지 않은 영화에 대해 결측값을 0으로 대체."
   ]
  },
  {
   "cell_type": "code",
   "execution_count": 10,
   "id": "a0009eca",
   "metadata": {},
   "outputs": [],
   "source": [
    "user_movie_matrix = user_movie_matrix.fillna(0)"
   ]
  },
  {
   "cell_type": "code",
   "execution_count": 11,
   "id": "322ade11",
   "metadata": {},
   "outputs": [
    {
     "data": {
      "text/plain": [
       "(671, 9066)"
      ]
     },
     "execution_count": 11,
     "metadata": {},
     "output_type": "execute_result"
    }
   ],
   "source": [
    "user_movie_matrix.shape"
   ]
  },
  {
   "cell_type": "markdown",
   "id": "035cdc01",
   "metadata": {},
   "source": [
    "## 2. KNN Basic"
   ]
  },
  {
   "cell_type": "markdown",
   "id": "30ae8c6c",
   "metadata": {},
   "source": [
    "k가 5인 KNN Basic을 이용해 유저 '124'가 아직 평가하지 않은 영화 '648'에 대한 점수를 예측."
   ]
  },
  {
   "cell_type": "code",
   "execution_count": 12,
   "id": "d94647c2",
   "metadata": {},
   "outputs": [],
   "source": [
    "k = 5\n",
    "user_i = 124\n",
    "movie_id = 648"
   ]
  },
  {
   "cell_type": "markdown",
   "id": "a69eb97f",
   "metadata": {},
   "source": [
    "### 2.1 유저 간 유사도를 계산."
   ]
  },
  {
   "cell_type": "markdown",
   "id": "d13161e4",
   "metadata": {},
   "source": [
    "cosin_similarity 함수를 이용해 유저별 코사인 유사도를 계산."
   ]
  },
  {
   "cell_type": "code",
   "execution_count": 13,
   "id": "de21c160",
   "metadata": {},
   "outputs": [],
   "source": [
    "from sklearn.metrics.pairwise import cosine_similarity\n",
    "\n",
    "user_similarity = cosine_similarity(user_movie_matrix)"
   ]
  },
  {
   "cell_type": "code",
   "execution_count": 17,
   "id": "59e39556",
   "metadata": {},
   "outputs": [
    {
     "data": {
      "text/plain": [
       "(671, 671)"
      ]
     },
     "execution_count": 17,
     "metadata": {},
     "output_type": "execute_result"
    }
   ],
   "source": [
    "user_similarity.shape # user * user"
   ]
  },
  {
   "cell_type": "code",
   "execution_count": 16,
   "id": "902f2a2d",
   "metadata": {},
   "outputs": [
    {
     "data": {
      "text/plain": [
       "array([[1.        , 0.        , 0.        , 0.07448245, 0.01681799,\n",
       "        0.        , 0.08388416, 0.        , 0.01284289, 0.        ],\n",
       "       [0.        , 1.        , 0.12429498, 0.11882103, 0.10364614,\n",
       "        0.        , 0.21298521, 0.11319045, 0.11333307, 0.04321284],\n",
       "       [0.        , 0.12429498, 1.        , 0.08163991, 0.15153112,\n",
       "        0.06069128, 0.15471414, 0.24978072, 0.13447489, 0.1146725 ],\n",
       "       [0.07448245, 0.11882103, 0.08163991, 1.        , 0.13064868,\n",
       "        0.07964833, 0.31974534, 0.19101336, 0.03041726, 0.13718558],\n",
       "       [0.01681799, 0.10364614, 0.15153112, 0.13064868, 1.        ,\n",
       "        0.06379575, 0.0958878 , 0.16571211, 0.08661604, 0.03237017],\n",
       "       [0.        , 0.        , 0.06069128, 0.07964833, 0.06379575,\n",
       "        1.        , 0.        , 0.12850206, 0.02174493, 0.04526415],\n",
       "       [0.08388416, 0.21298521, 0.15471414, 0.31974534, 0.0958878 ,\n",
       "        0.        , 1.        , 0.14957182, 0.05972764, 0.18649318],\n",
       "       [0.        , 0.11319045, 0.24978072, 0.19101336, 0.16571211,\n",
       "        0.12850206, 0.14957182, 1.        , 0.15735626, 0.16272417],\n",
       "       [0.01284289, 0.11333307, 0.13447489, 0.03041726, 0.08661604,\n",
       "        0.02174493, 0.05972764, 0.15735626, 1.        , 0.12734115],\n",
       "       [0.        , 0.04321284, 0.1146725 , 0.13718558, 0.03237017,\n",
       "        0.04526415, 0.18649318, 0.16272417, 0.12734115, 1.        ]])"
      ]
     },
     "execution_count": 16,
     "metadata": {},
     "output_type": "execute_result"
    }
   ],
   "source": [
    "user_similarity[:10, :10]"
   ]
  },
  {
   "cell_type": "code",
   "execution_count": 19,
   "id": "e5e9c0f6",
   "metadata": {},
   "outputs": [],
   "source": [
    "user_similarity = pd.DataFrame(\n",
    "    data=user_similarity,\n",
    "    index=user_movie_matrix.index,\n",
    "    columns=user_movie_matrix.index,\n",
    ") # Data Frame으로 간편하게 보기."
   ]
  },
  {
   "cell_type": "code",
   "execution_count": 21,
   "id": "79505ab5",
   "metadata": {},
   "outputs": [
    {
     "data": {
      "text/html": [
       "<div>\n",
       "<style scoped>\n",
       "    .dataframe tbody tr th:only-of-type {\n",
       "        vertical-align: middle;\n",
       "    }\n",
       "\n",
       "    .dataframe tbody tr th {\n",
       "        vertical-align: top;\n",
       "    }\n",
       "\n",
       "    .dataframe thead th {\n",
       "        text-align: right;\n",
       "    }\n",
       "</style>\n",
       "<table border=\"1\" class=\"dataframe\">\n",
       "  <thead>\n",
       "    <tr style=\"text-align: right;\">\n",
       "      <th>userId</th>\n",
       "      <th>1</th>\n",
       "      <th>2</th>\n",
       "      <th>3</th>\n",
       "      <th>4</th>\n",
       "      <th>5</th>\n",
       "      <th>6</th>\n",
       "      <th>7</th>\n",
       "      <th>8</th>\n",
       "      <th>9</th>\n",
       "      <th>10</th>\n",
       "      <th>...</th>\n",
       "      <th>662</th>\n",
       "      <th>663</th>\n",
       "      <th>664</th>\n",
       "      <th>665</th>\n",
       "      <th>666</th>\n",
       "      <th>667</th>\n",
       "      <th>668</th>\n",
       "      <th>669</th>\n",
       "      <th>670</th>\n",
       "      <th>671</th>\n",
       "    </tr>\n",
       "    <tr>\n",
       "      <th>userId</th>\n",
       "      <th></th>\n",
       "      <th></th>\n",
       "      <th></th>\n",
       "      <th></th>\n",
       "      <th></th>\n",
       "      <th></th>\n",
       "      <th></th>\n",
       "      <th></th>\n",
       "      <th></th>\n",
       "      <th></th>\n",
       "      <th></th>\n",
       "      <th></th>\n",
       "      <th></th>\n",
       "      <th></th>\n",
       "      <th></th>\n",
       "      <th></th>\n",
       "      <th></th>\n",
       "      <th></th>\n",
       "      <th></th>\n",
       "      <th></th>\n",
       "      <th></th>\n",
       "    </tr>\n",
       "  </thead>\n",
       "  <tbody>\n",
       "    <tr>\n",
       "      <th>1</th>\n",
       "      <td>1.000000</td>\n",
       "      <td>0.000000</td>\n",
       "      <td>0.000000</td>\n",
       "      <td>0.074482</td>\n",
       "      <td>0.016818</td>\n",
       "      <td>0.000000</td>\n",
       "      <td>0.083884</td>\n",
       "      <td>0.000000</td>\n",
       "      <td>0.012843</td>\n",
       "      <td>0.000000</td>\n",
       "      <td>...</td>\n",
       "      <td>0.000000</td>\n",
       "      <td>0.000000</td>\n",
       "      <td>0.014474</td>\n",
       "      <td>0.043719</td>\n",
       "      <td>0.000000</td>\n",
       "      <td>0.000000</td>\n",
       "      <td>0.000000</td>\n",
       "      <td>0.062917</td>\n",
       "      <td>0.000000</td>\n",
       "      <td>0.017466</td>\n",
       "    </tr>\n",
       "    <tr>\n",
       "      <th>2</th>\n",
       "      <td>0.000000</td>\n",
       "      <td>1.000000</td>\n",
       "      <td>0.124295</td>\n",
       "      <td>0.118821</td>\n",
       "      <td>0.103646</td>\n",
       "      <td>0.000000</td>\n",
       "      <td>0.212985</td>\n",
       "      <td>0.113190</td>\n",
       "      <td>0.113333</td>\n",
       "      <td>0.043213</td>\n",
       "      <td>...</td>\n",
       "      <td>0.477306</td>\n",
       "      <td>0.063202</td>\n",
       "      <td>0.077745</td>\n",
       "      <td>0.164162</td>\n",
       "      <td>0.466281</td>\n",
       "      <td>0.425462</td>\n",
       "      <td>0.084646</td>\n",
       "      <td>0.024140</td>\n",
       "      <td>0.170595</td>\n",
       "      <td>0.113175</td>\n",
       "    </tr>\n",
       "    <tr>\n",
       "      <th>3</th>\n",
       "      <td>0.000000</td>\n",
       "      <td>0.124295</td>\n",
       "      <td>1.000000</td>\n",
       "      <td>0.081640</td>\n",
       "      <td>0.151531</td>\n",
       "      <td>0.060691</td>\n",
       "      <td>0.154714</td>\n",
       "      <td>0.249781</td>\n",
       "      <td>0.134475</td>\n",
       "      <td>0.114672</td>\n",
       "      <td>...</td>\n",
       "      <td>0.161205</td>\n",
       "      <td>0.064198</td>\n",
       "      <td>0.176134</td>\n",
       "      <td>0.158357</td>\n",
       "      <td>0.177098</td>\n",
       "      <td>0.124562</td>\n",
       "      <td>0.124911</td>\n",
       "      <td>0.080984</td>\n",
       "      <td>0.136606</td>\n",
       "      <td>0.170193</td>\n",
       "    </tr>\n",
       "    <tr>\n",
       "      <th>4</th>\n",
       "      <td>0.074482</td>\n",
       "      <td>0.118821</td>\n",
       "      <td>0.081640</td>\n",
       "      <td>1.000000</td>\n",
       "      <td>0.130649</td>\n",
       "      <td>0.079648</td>\n",
       "      <td>0.319745</td>\n",
       "      <td>0.191013</td>\n",
       "      <td>0.030417</td>\n",
       "      <td>0.137186</td>\n",
       "      <td>...</td>\n",
       "      <td>0.114319</td>\n",
       "      <td>0.047228</td>\n",
       "      <td>0.136579</td>\n",
       "      <td>0.254030</td>\n",
       "      <td>0.121905</td>\n",
       "      <td>0.088735</td>\n",
       "      <td>0.068483</td>\n",
       "      <td>0.104309</td>\n",
       "      <td>0.054512</td>\n",
       "      <td>0.211609</td>\n",
       "    </tr>\n",
       "    <tr>\n",
       "      <th>5</th>\n",
       "      <td>0.016818</td>\n",
       "      <td>0.103646</td>\n",
       "      <td>0.151531</td>\n",
       "      <td>0.130649</td>\n",
       "      <td>1.000000</td>\n",
       "      <td>0.063796</td>\n",
       "      <td>0.095888</td>\n",
       "      <td>0.165712</td>\n",
       "      <td>0.086616</td>\n",
       "      <td>0.032370</td>\n",
       "      <td>...</td>\n",
       "      <td>0.191029</td>\n",
       "      <td>0.021142</td>\n",
       "      <td>0.146173</td>\n",
       "      <td>0.224245</td>\n",
       "      <td>0.139721</td>\n",
       "      <td>0.058252</td>\n",
       "      <td>0.042926</td>\n",
       "      <td>0.038358</td>\n",
       "      <td>0.062642</td>\n",
       "      <td>0.225086</td>\n",
       "    </tr>\n",
       "  </tbody>\n",
       "</table>\n",
       "<p>5 rows × 671 columns</p>\n",
       "</div>"
      ],
      "text/plain": [
       "userId       1         2         3         4         5         6         7    \\\n",
       "userId                                                                         \n",
       "1       1.000000  0.000000  0.000000  0.074482  0.016818  0.000000  0.083884   \n",
       "2       0.000000  1.000000  0.124295  0.118821  0.103646  0.000000  0.212985   \n",
       "3       0.000000  0.124295  1.000000  0.081640  0.151531  0.060691  0.154714   \n",
       "4       0.074482  0.118821  0.081640  1.000000  0.130649  0.079648  0.319745   \n",
       "5       0.016818  0.103646  0.151531  0.130649  1.000000  0.063796  0.095888   \n",
       "\n",
       "userId       8         9         10   ...       662       663       664  \\\n",
       "userId                                ...                                 \n",
       "1       0.000000  0.012843  0.000000  ...  0.000000  0.000000  0.014474   \n",
       "2       0.113190  0.113333  0.043213  ...  0.477306  0.063202  0.077745   \n",
       "3       0.249781  0.134475  0.114672  ...  0.161205  0.064198  0.176134   \n",
       "4       0.191013  0.030417  0.137186  ...  0.114319  0.047228  0.136579   \n",
       "5       0.165712  0.086616  0.032370  ...  0.191029  0.021142  0.146173   \n",
       "\n",
       "userId       665       666       667       668       669       670       671  \n",
       "userId                                                                        \n",
       "1       0.043719  0.000000  0.000000  0.000000  0.062917  0.000000  0.017466  \n",
       "2       0.164162  0.466281  0.425462  0.084646  0.024140  0.170595  0.113175  \n",
       "3       0.158357  0.177098  0.124562  0.124911  0.080984  0.136606  0.170193  \n",
       "4       0.254030  0.121905  0.088735  0.068483  0.104309  0.054512  0.211609  \n",
       "5       0.224245  0.139721  0.058252  0.042926  0.038358  0.062642  0.225086  \n",
       "\n",
       "[5 rows x 671 columns]"
      ]
     },
     "execution_count": 21,
     "metadata": {},
     "output_type": "execute_result"
    }
   ],
   "source": [
    "user_similarity.head(5)"
   ]
  },
  {
   "cell_type": "markdown",
   "id": "b8c98c2b",
   "metadata": {},
   "source": [
    "### 2.2 아이템 i를 평가한 유저들 중에서 유저 u와 비슷한 유저 k명을 찾기."
   ]
  },
  {
   "cell_type": "markdown",
   "id": "e177a0ef",
   "metadata": {},
   "source": [
    "유저 '124'와 유사한 다른 유저 k명을 찾기."
   ]
  },
  {
   "cell_type": "code",
   "execution_count": 25,
   "id": "d1b0d99b",
   "metadata": {},
   "outputs": [],
   "source": [
    "user_i_similarity = user_similarity.loc[user_i]"
   ]
  },
  {
   "cell_type": "code",
   "execution_count": 26,
   "id": "46affe79",
   "metadata": {},
   "outputs": [
    {
     "data": {
      "text/plain": [
       "userId\n",
       "1      0.000000\n",
       "2      0.129669\n",
       "3      0.224600\n",
       "4      0.147568\n",
       "5      0.159521\n",
       "         ...   \n",
       "667    0.065720\n",
       "668    0.074023\n",
       "669    0.049342\n",
       "670    0.201474\n",
       "671    0.330381\n",
       "Name: 124, Length: 671, dtype: float64"
      ]
     },
     "execution_count": 26,
     "metadata": {},
     "output_type": "execute_result"
    }
   ],
   "source": [
    "user_i_similarity"
   ]
  },
  {
   "cell_type": "code",
   "execution_count": 27,
   "id": "bc733404",
   "metadata": {},
   "outputs": [],
   "source": [
    "user_i_similarity = user_i_similarity.sort_values(ascending=False)"
   ]
  },
  {
   "cell_type": "code",
   "execution_count": 28,
   "id": "54738c35",
   "metadata": {},
   "outputs": [
    {
     "data": {
      "text/plain": [
       "userId\n",
       "124    1.000000\n",
       "458    0.455216\n",
       "379    0.433607\n",
       "355    0.432242\n",
       "282    0.423280\n",
       "         ...   \n",
       "640    0.000000\n",
       "642    0.000000\n",
       "341    0.000000\n",
       "76     0.000000\n",
       "1      0.000000\n",
       "Name: 124, Length: 671, dtype: float64"
      ]
     },
     "execution_count": 28,
     "metadata": {},
     "output_type": "execute_result"
    }
   ],
   "source": [
    "user_i_similarity"
   ]
  },
  {
   "cell_type": "markdown",
   "id": "a1eda39f",
   "metadata": {},
   "source": [
    "유사도 상위 k명의 유사도와 id를 추출.\n",
    "\n",
    "이 때 가장 유사도가 높은 id는 user_i로 제외."
   ]
  },
  {
   "cell_type": "code",
   "execution_count": 29,
   "id": "a0bfb934",
   "metadata": {},
   "outputs": [],
   "source": [
    "top_k_similarity = user_i_similarity[1: k + 1]\n",
    "top_k_similar_user_ids = top_k_similarity.index"
   ]
  },
  {
   "cell_type": "code",
   "execution_count": 30,
   "id": "d2613e28",
   "metadata": {},
   "outputs": [
    {
     "data": {
      "text/plain": [
       "Int64Index([458, 379, 355, 282, 271], dtype='int64', name='userId')"
      ]
     },
     "execution_count": 30,
     "metadata": {},
     "output_type": "execute_result"
    }
   ],
   "source": [
    "top_k_similar_user_ids"
   ]
  },
  {
   "cell_type": "code",
   "execution_count": 31,
   "id": "fce40cca",
   "metadata": {},
   "outputs": [
    {
     "data": {
      "text/plain": [
       "userId\n",
       "458    0.455216\n",
       "379    0.433607\n",
       "355    0.432242\n",
       "282    0.423280\n",
       "271    0.409402\n",
       "Name: 124, dtype: float64"
      ]
     },
     "execution_count": 31,
     "metadata": {},
     "output_type": "execute_result"
    }
   ],
   "source": [
    "top_k_similarity"
   ]
  },
  {
   "cell_type": "markdown",
   "id": "9ca366e0",
   "metadata": {},
   "source": [
    "### 2.3 K명의 유사한 유저들이 아이템 i에 평가한 선호도를 유사도 기준으로 가중 평균."
   ]
  },
  {
   "cell_type": "markdown",
   "id": "54101fb1",
   "metadata": {},
   "source": [
    "유사한 유저들이 648번 영화에 대해 평가한 정보들을 추출. "
   ]
  },
  {
   "cell_type": "code",
   "execution_count": 52,
   "id": "60d40f1a",
   "metadata": {},
   "outputs": [],
   "source": [
    "top_k_similar_ratings = user_movie_matrix.loc[top_k_similar_user_ids, movie_id]\n",
    "top_k_weighted_ratings = top_k_similar_ratings * top_k_similarity"
   ]
  },
  {
   "cell_type": "code",
   "execution_count": 35,
   "id": "439c32f7",
   "metadata": {},
   "outputs": [
    {
     "data": {
      "text/plain": [
       "648"
      ]
     },
     "execution_count": 35,
     "metadata": {},
     "output_type": "execute_result"
    }
   ],
   "source": [
    "movie_id"
   ]
  },
  {
   "cell_type": "code",
   "execution_count": 36,
   "id": "31b78896",
   "metadata": {},
   "outputs": [
    {
     "data": {
      "text/plain": [
       "userId\n",
       "458    4.5\n",
       "379    0.0\n",
       "355    3.5\n",
       "282    4.0\n",
       "271    0.0\n",
       "Name: 648, dtype: float64"
      ]
     },
     "execution_count": 36,
     "metadata": {},
     "output_type": "execute_result"
    }
   ],
   "source": [
    "top_k_similar_ratings"
   ]
  },
  {
   "cell_type": "markdown",
   "id": "e19ea261",
   "metadata": {},
   "source": [
    "평가 점수가 있는 유저에 대한 Weight 추출."
   ]
  },
  {
   "cell_type": "code",
   "execution_count": 33,
   "id": "b9271952",
   "metadata": {},
   "outputs": [],
   "source": [
    "top_k_weight = (top_k_similar_ratings > 0) * top_k_similarity"
   ]
  },
  {
   "cell_type": "code",
   "execution_count": 37,
   "id": "738710d6",
   "metadata": {},
   "outputs": [
    {
     "data": {
      "text/plain": [
       "userId\n",
       "458    0.455216\n",
       "379    0.000000\n",
       "355    0.432242\n",
       "282    0.423280\n",
       "271    0.000000\n",
       "dtype: float64"
      ]
     },
     "execution_count": 37,
     "metadata": {},
     "output_type": "execute_result"
    }
   ],
   "source": [
    "top_k_weight\n",
    "\n",
    "# 379와 271 유저의 경우, 해당 영화를 평가하지 않음."
   ]
  },
  {
   "cell_type": "markdown",
   "id": "7f36599e",
   "metadata": {},
   "source": [
    "유사도가 곱해진 평가 점수의 합을 유사도 합으로 나누기."
   ]
  },
  {
   "cell_type": "code",
   "execution_count": 53,
   "id": "c6dab70d",
   "metadata": {},
   "outputs": [],
   "source": [
    "weighted_rating = top_k_weighted_ratings.sum()\n",
    "weight = top_k_weight.sum()"
   ]
  },
  {
   "cell_type": "code",
   "execution_count": 54,
   "id": "6ceef57e",
   "metadata": {},
   "outputs": [
    {
     "data": {
      "text/plain": [
       "1.3107381789824097"
      ]
     },
     "execution_count": 54,
     "metadata": {},
     "output_type": "execute_result"
    }
   ],
   "source": [
    "weight"
   ]
  },
  {
   "cell_type": "markdown",
   "id": "099029fe",
   "metadata": {},
   "source": [
    "weight가 0보다 작은 경우 유저 모두 평가하지 않은 경우."
   ]
  },
  {
   "cell_type": "code",
   "execution_count": 55,
   "id": "62fc6a0f",
   "metadata": {},
   "outputs": [],
   "source": [
    "if weight > 0:\n",
    "    prediction_rating = weighted_rating / weight\n",
    "    \n",
    "else:\n",
    "    prediction_rating = 0"
   ]
  },
  {
   "cell_type": "code",
   "execution_count": 56,
   "id": "54374074",
   "metadata": {},
   "outputs": [
    {
     "data": {
      "text/plain": [
       "4.008763709331574"
      ]
     },
     "execution_count": 56,
     "metadata": {},
     "output_type": "execute_result"
    }
   ],
   "source": [
    "prediction_rating"
   ]
  },
  {
   "cell_type": "markdown",
   "id": "49be2a73",
   "metadata": {},
   "source": [
    "### 2.4 예측 선호도가 높은 아이템을 유저에게 추천."
   ]
  },
  {
   "cell_type": "markdown",
   "id": "4144a5dc",
   "metadata": {},
   "source": [
    "모든 영화에 대해 점수를 예측, 예측 평가 점수가 높은 영화를 유저에게 추천."
   ]
  },
  {
   "cell_type": "markdown",
   "id": "cf8e063f",
   "metadata": {},
   "source": [
    "### 2.4.1 선호도 계산"
   ]
  },
  {
   "cell_type": "code",
   "execution_count": 57,
   "id": "35ef1496",
   "metadata": {},
   "outputs": [],
   "source": [
    "prediction_dict = {}\n",
    "\n",
    "# 모든 영화 아이디에 대해 평점 예측\n",
    "for movie_id in user_movie_matrix.columns:\n",
    "    \n",
    "    # 이미 유저가 평가한 경우 제외\n",
    "    if user_movie_matrix.loc[user_i, movie_id] > 0:\n",
    "        continue\n",
    "        \n",
    "    top_k_similar_ratings = user_movie_matrix.loc[top_k_similar_user_ids, movie_id]\n",
    "    \n",
    "    top_k_weighted_ratings = top_k_similar_ratings * top_k_similarity\n",
    "    top_k_weight = (top_k_similar_ratings > 0) * top_k_similarity\n",
    "    \n",
    "    weighted_rating = top_k_weighted_ratings.sum()\n",
    "    weight = top_k_weight.sum()\n",
    "    \n",
    "    if weight > 0:\n",
    "        prediction_rating = weighted_rating / weight\n",
    "        \n",
    "    else:\n",
    "        prediction_rating = 0\n",
    "        \n",
    "    # 영화 아이디별로 예측 평가 점수 저장.\n",
    "    prediction_dict[movie_id] = prediction_rating"
   ]
  },
  {
   "cell_type": "markdown",
   "id": "a5393286",
   "metadata": {},
   "source": [
    "영화 아이디별 예측 평가 점수를 내림차순으로 정렬."
   ]
  },
  {
   "cell_type": "code",
   "execution_count": 59,
   "id": "f399b254",
   "metadata": {},
   "outputs": [],
   "source": [
    "prediction = pd.Series(prediction_dict).sort_values(ascending=False)"
   ]
  },
  {
   "cell_type": "code",
   "execution_count": 61,
   "id": "68044114",
   "metadata": {},
   "outputs": [
    {
     "data": {
      "text/plain": [
       "1258    5.0\n",
       "924     5.0\n",
       "3861    5.0\n",
       "524     5.0\n",
       "3916    5.0\n",
       "dtype: float64"
      ]
     },
     "execution_count": 61,
     "metadata": {},
     "output_type": "execute_result"
    }
   ],
   "source": [
    "prediction.head(5)"
   ]
  },
  {
   "cell_type": "markdown",
   "id": "859a4ce2",
   "metadata": {},
   "source": [
    "### 2.4.2 상위 아이템 추출"
   ]
  },
  {
   "cell_type": "markdown",
   "id": "ffaf6015",
   "metadata": {},
   "source": [
    "예측 평가 점수 상위 10개의 영화 아이디 추출."
   ]
  },
  {
   "cell_type": "code",
   "execution_count": 62,
   "id": "6c446587",
   "metadata": {},
   "outputs": [],
   "source": [
    "recommend = prediction[:10].index"
   ]
  },
  {
   "cell_type": "code",
   "execution_count": 63,
   "id": "a3e2e1f9",
   "metadata": {},
   "outputs": [
    {
     "data": {
      "text/html": [
       "<div>\n",
       "<style scoped>\n",
       "    .dataframe tbody tr th:only-of-type {\n",
       "        vertical-align: middle;\n",
       "    }\n",
       "\n",
       "    .dataframe tbody tr th {\n",
       "        vertical-align: top;\n",
       "    }\n",
       "\n",
       "    .dataframe thead th {\n",
       "        text-align: right;\n",
       "    }\n",
       "</style>\n",
       "<table border=\"1\" class=\"dataframe\">\n",
       "  <thead>\n",
       "    <tr style=\"text-align: right;\">\n",
       "      <th></th>\n",
       "      <th>title</th>\n",
       "    </tr>\n",
       "    <tr>\n",
       "      <th>movieId</th>\n",
       "      <th></th>\n",
       "    </tr>\n",
       "  </thead>\n",
       "  <tbody>\n",
       "    <tr>\n",
       "      <th>1258</th>\n",
       "      <td>The Shining</td>\n",
       "    </tr>\n",
       "    <tr>\n",
       "      <th>924</th>\n",
       "      <td>2001: A Space Odyssey</td>\n",
       "    </tr>\n",
       "    <tr>\n",
       "      <th>3861</th>\n",
       "      <td>The Replacements</td>\n",
       "    </tr>\n",
       "    <tr>\n",
       "      <th>524</th>\n",
       "      <td>Rudy</td>\n",
       "    </tr>\n",
       "    <tr>\n",
       "      <th>3916</th>\n",
       "      <td>Remember the Titans</td>\n",
       "    </tr>\n",
       "    <tr>\n",
       "      <th>260</th>\n",
       "      <td>Star Wars</td>\n",
       "    </tr>\n",
       "    <tr>\n",
       "      <th>968</th>\n",
       "      <td>Night of the Living Dead</td>\n",
       "    </tr>\n",
       "    <tr>\n",
       "      <th>1653</th>\n",
       "      <td>Gattaca</td>\n",
       "    </tr>\n",
       "    <tr>\n",
       "      <th>2115</th>\n",
       "      <td>Indiana Jones and the Temple of Doom</td>\n",
       "    </tr>\n",
       "    <tr>\n",
       "      <th>2692</th>\n",
       "      <td>Run Lola Run</td>\n",
       "    </tr>\n",
       "  </tbody>\n",
       "</table>\n",
       "</div>"
      ],
      "text/plain": [
       "                                        title\n",
       "movieId                                      \n",
       "1258                              The Shining\n",
       "924                     2001: A Space Odyssey\n",
       "3861                         The Replacements\n",
       "524                                      Rudy\n",
       "3916                      Remember the Titans\n",
       "260                                 Star Wars\n",
       "968                  Night of the Living Dead\n",
       "1653                                  Gattaca\n",
       "2115     Indiana Jones and the Temple of Doom\n",
       "2692                             Run Lola Run"
      ]
     },
     "execution_count": 63,
     "metadata": {},
     "output_type": "execute_result"
    }
   ],
   "source": [
    "movies.loc[recommend]"
   ]
  },
  {
   "cell_type": "markdown",
   "id": "6f72339c",
   "metadata": {},
   "source": [
    "## 3. KNN with Means"
   ]
  },
  {
   "cell_type": "code",
   "execution_count": 64,
   "id": "b0663fb7",
   "metadata": {},
   "outputs": [],
   "source": [
    "user_id = 124\n",
    "k = 5\n",
    "movie_i = 648"
   ]
  },
  {
   "cell_type": "markdown",
   "id": "4cc92ffc",
   "metadata": {},
   "source": [
    "pivot 함수를 이용해 영화 아이디가 인덱스이고, 유저 아이디가 컬럼, 값이 평가 점수인 movie_user_matrix를 생성.\n",
    "\n",
    "결측치는 0으로 대체."
   ]
  },
  {
   "cell_type": "code",
   "execution_count": 65,
   "id": "e921456d",
   "metadata": {},
   "outputs": [],
   "source": [
    "movie_user_matrix = ratings.pivot(\n",
    "    index='movieId',\n",
    "    columns='userId',\n",
    "    values='rating',\n",
    ")\n",
    "movie_user_matrix = movie_user_matrix.fillna(0)"
   ]
  },
  {
   "cell_type": "markdown",
   "id": "086a97b3",
   "metadata": {},
   "source": [
    "### 3.1 아이템간의 유사도를 계산\n",
    "\n",
    "영화간의 피어슨 유사도를 계산."
   ]
  },
  {
   "cell_type": "code",
   "execution_count": 66,
   "id": "11646513",
   "metadata": {},
   "outputs": [],
   "source": [
    "movie_similarity = np.corrcoef(movie_user_matrix)"
   ]
  },
  {
   "cell_type": "code",
   "execution_count": 67,
   "id": "4f1ad5b8",
   "metadata": {},
   "outputs": [],
   "source": [
    "movie_similarity = pd.DataFrame(\n",
    "    data=movie_similarity,\n",
    "    index=movie_user_matrix.index,\n",
    "    columns=movie_user_matrix.index,\n",
    ")"
   ]
  },
  {
   "cell_type": "code",
   "execution_count": 69,
   "id": "45f2ca9c",
   "metadata": {},
   "outputs": [
    {
     "data": {
      "text/plain": [
       "(9066, 9066)"
      ]
     },
     "execution_count": 69,
     "metadata": {},
     "output_type": "execute_result"
    }
   ],
   "source": [
    "movie_similarity.shape # 아이템을 기준으로."
   ]
  },
  {
   "cell_type": "markdown",
   "id": "2db490fb",
   "metadata": {},
   "source": [
    "### 3.2 아이템 i와 비슷한 아이템을 k개 찾기"
   ]
  },
  {
   "cell_type": "markdown",
   "id": "253230f4",
   "metadata": {},
   "source": [
    "영화 '648'과 유사한 다른 영화 k개를 찾기.\n",
    "\n",
    "우선 movie_i와 다른 영화 간의 유사도 추출."
   ]
  },
  {
   "cell_type": "code",
   "execution_count": 70,
   "id": "6e82a38d",
   "metadata": {},
   "outputs": [],
   "source": [
    "movie_i_similarity = movie_similarity.loc[movie_i]"
   ]
  },
  {
   "cell_type": "markdown",
   "id": "2187df4d",
   "metadata": {},
   "source": [
    "다른 영화와의 유사도 내림차순 정렬."
   ]
  },
  {
   "cell_type": "code",
   "execution_count": 71,
   "id": "cd7b6316",
   "metadata": {},
   "outputs": [],
   "source": [
    "movie_i_similarity = movie_i_similarity.sort_values(ascending=False)"
   ]
  },
  {
   "cell_type": "markdown",
   "id": "8de87009",
   "metadata": {},
   "source": [
    "유사도 상위 k개의 유사도와 id를 추출.\n",
    "\n",
    "이 때 가장 유사도가 높은 id는 movie_i로 제외."
   ]
  },
  {
   "cell_type": "code",
   "execution_count": 72,
   "id": "a0f3e20f",
   "metadata": {},
   "outputs": [],
   "source": [
    "top_k_similarity = movie_i_similarity[1: k + 1]\n",
    "top_k_similar_movie_ids = top_k_similarity.index"
   ]
  },
  {
   "cell_type": "code",
   "execution_count": 74,
   "id": "0535384e",
   "metadata": {},
   "outputs": [
    {
     "data": {
      "text/plain": [
       "movieId\n",
       "780    0.534337\n",
       "733    0.522740\n",
       "736    0.430270\n",
       "786    0.401280\n",
       "376    0.370700\n",
       "Name: 648, dtype: float64"
      ]
     },
     "execution_count": 74,
     "metadata": {},
     "output_type": "execute_result"
    }
   ],
   "source": [
    "top_k_similarity"
   ]
  },
  {
   "cell_type": "code",
   "execution_count": 73,
   "id": "c07f2302",
   "metadata": {},
   "outputs": [
    {
     "data": {
      "text/plain": [
       "Int64Index([780, 733, 736, 786, 376], dtype='int64', name='movieId')"
      ]
     },
     "execution_count": 73,
     "metadata": {},
     "output_type": "execute_result"
    }
   ],
   "source": [
    "top_k_similar_movie_ids"
   ]
  },
  {
   "cell_type": "markdown",
   "id": "c553757f",
   "metadata": {},
   "source": [
    "### 3.3 아이템 i의 평균 선호도를 계산\n",
    "\n",
    "- 영화별로 특징이 되는 평균 선호도를 계산.\n",
    "- 평점이 0인 경우, 평가하지 않음을 반영하기 위해 결측치로 대체."
   ]
  },
  {
   "cell_type": "code",
   "execution_count": 75,
   "id": "c3afbf80",
   "metadata": {},
   "outputs": [],
   "source": [
    "movie_user_matrix = movie_user_matrix.replace(0, np.NaN)"
   ]
  },
  {
   "cell_type": "code",
   "execution_count": 76,
   "id": "ff4a1053",
   "metadata": {},
   "outputs": [],
   "source": [
    "movie_bias = movie_user_matrix.mean(1)"
   ]
  },
  {
   "cell_type": "code",
   "execution_count": 77,
   "id": "8a819e4a",
   "metadata": {},
   "outputs": [
    {
     "data": {
      "text/plain": [
       "movieId\n",
       "1         3.872470\n",
       "2         3.401869\n",
       "3         3.161017\n",
       "4         2.384615\n",
       "5         3.267857\n",
       "            ...   \n",
       "161944    5.000000\n",
       "162376    4.500000\n",
       "162542    5.000000\n",
       "162672    3.000000\n",
       "163949    5.000000\n",
       "Length: 9066, dtype: float64"
      ]
     },
     "execution_count": 77,
     "metadata": {},
     "output_type": "execute_result"
    }
   ],
   "source": [
    "movie_bias"
   ]
  },
  {
   "cell_type": "markdown",
   "id": "1f8db94a",
   "metadata": {},
   "source": [
    "### 3.4 유저가 평가한 K개의 아이템의 선호도의 편차를 유사도 기준으로 가중 평균"
   ]
  },
  {
   "cell_type": "markdown",
   "id": "e9ca8bb6",
   "metadata": {},
   "source": [
    "### 3.4.1 유저별 영화 평가 점수 편차 계산"
   ]
  },
  {
   "cell_type": "code",
   "execution_count": 78,
   "id": "7ef43f10",
   "metadata": {},
   "outputs": [],
   "source": [
    "movie_user_matrix_wo_bias = movie_user_matrix.sub(movie_bias, axis=0)"
   ]
  },
  {
   "cell_type": "code",
   "execution_count": 82,
   "id": "3eded95c",
   "metadata": {},
   "outputs": [
    {
     "data": {
      "text/html": [
       "<div>\n",
       "<style scoped>\n",
       "    .dataframe tbody tr th:only-of-type {\n",
       "        vertical-align: middle;\n",
       "    }\n",
       "\n",
       "    .dataframe tbody tr th {\n",
       "        vertical-align: top;\n",
       "    }\n",
       "\n",
       "    .dataframe thead th {\n",
       "        text-align: right;\n",
       "    }\n",
       "</style>\n",
       "<table border=\"1\" class=\"dataframe\">\n",
       "  <thead>\n",
       "    <tr style=\"text-align: right;\">\n",
       "      <th>userId</th>\n",
       "      <th>1</th>\n",
       "      <th>2</th>\n",
       "      <th>3</th>\n",
       "      <th>4</th>\n",
       "      <th>5</th>\n",
       "      <th>6</th>\n",
       "      <th>7</th>\n",
       "      <th>8</th>\n",
       "      <th>9</th>\n",
       "      <th>10</th>\n",
       "      <th>...</th>\n",
       "      <th>662</th>\n",
       "      <th>663</th>\n",
       "      <th>664</th>\n",
       "      <th>665</th>\n",
       "      <th>666</th>\n",
       "      <th>667</th>\n",
       "      <th>668</th>\n",
       "      <th>669</th>\n",
       "      <th>670</th>\n",
       "      <th>671</th>\n",
       "    </tr>\n",
       "    <tr>\n",
       "      <th>movieId</th>\n",
       "      <th></th>\n",
       "      <th></th>\n",
       "      <th></th>\n",
       "      <th></th>\n",
       "      <th></th>\n",
       "      <th></th>\n",
       "      <th></th>\n",
       "      <th></th>\n",
       "      <th></th>\n",
       "      <th></th>\n",
       "      <th></th>\n",
       "      <th></th>\n",
       "      <th></th>\n",
       "      <th></th>\n",
       "      <th></th>\n",
       "      <th></th>\n",
       "      <th></th>\n",
       "      <th></th>\n",
       "      <th></th>\n",
       "      <th></th>\n",
       "      <th></th>\n",
       "    </tr>\n",
       "  </thead>\n",
       "  <tbody>\n",
       "    <tr>\n",
       "      <th>1</th>\n",
       "      <td>NaN</td>\n",
       "      <td>NaN</td>\n",
       "      <td>NaN</td>\n",
       "      <td>NaN</td>\n",
       "      <td>NaN</td>\n",
       "      <td>NaN</td>\n",
       "      <td>-0.87247</td>\n",
       "      <td>NaN</td>\n",
       "      <td>0.12753</td>\n",
       "      <td>NaN</td>\n",
       "      <td>...</td>\n",
       "      <td>NaN</td>\n",
       "      <td>0.12753</td>\n",
       "      <td>-0.37247</td>\n",
       "      <td>NaN</td>\n",
       "      <td>NaN</td>\n",
       "      <td>NaN</td>\n",
       "      <td>NaN</td>\n",
       "      <td>NaN</td>\n",
       "      <td>0.12753</td>\n",
       "      <td>1.12753</td>\n",
       "    </tr>\n",
       "    <tr>\n",
       "      <th>2</th>\n",
       "      <td>NaN</td>\n",
       "      <td>NaN</td>\n",
       "      <td>NaN</td>\n",
       "      <td>NaN</td>\n",
       "      <td>NaN</td>\n",
       "      <td>NaN</td>\n",
       "      <td>NaN</td>\n",
       "      <td>NaN</td>\n",
       "      <td>NaN</td>\n",
       "      <td>NaN</td>\n",
       "      <td>...</td>\n",
       "      <td>1.598131</td>\n",
       "      <td>NaN</td>\n",
       "      <td>NaN</td>\n",
       "      <td>-0.401869</td>\n",
       "      <td>NaN</td>\n",
       "      <td>NaN</td>\n",
       "      <td>NaN</td>\n",
       "      <td>NaN</td>\n",
       "      <td>NaN</td>\n",
       "      <td>NaN</td>\n",
       "    </tr>\n",
       "    <tr>\n",
       "      <th>3</th>\n",
       "      <td>NaN</td>\n",
       "      <td>NaN</td>\n",
       "      <td>NaN</td>\n",
       "      <td>NaN</td>\n",
       "      <td>0.838983</td>\n",
       "      <td>NaN</td>\n",
       "      <td>NaN</td>\n",
       "      <td>NaN</td>\n",
       "      <td>NaN</td>\n",
       "      <td>NaN</td>\n",
       "      <td>...</td>\n",
       "      <td>NaN</td>\n",
       "      <td>NaN</td>\n",
       "      <td>NaN</td>\n",
       "      <td>-0.161017</td>\n",
       "      <td>NaN</td>\n",
       "      <td>NaN</td>\n",
       "      <td>NaN</td>\n",
       "      <td>NaN</td>\n",
       "      <td>NaN</td>\n",
       "      <td>NaN</td>\n",
       "    </tr>\n",
       "    <tr>\n",
       "      <th>4</th>\n",
       "      <td>NaN</td>\n",
       "      <td>NaN</td>\n",
       "      <td>NaN</td>\n",
       "      <td>NaN</td>\n",
       "      <td>NaN</td>\n",
       "      <td>NaN</td>\n",
       "      <td>NaN</td>\n",
       "      <td>NaN</td>\n",
       "      <td>NaN</td>\n",
       "      <td>NaN</td>\n",
       "      <td>...</td>\n",
       "      <td>NaN</td>\n",
       "      <td>NaN</td>\n",
       "      <td>NaN</td>\n",
       "      <td>NaN</td>\n",
       "      <td>NaN</td>\n",
       "      <td>NaN</td>\n",
       "      <td>NaN</td>\n",
       "      <td>NaN</td>\n",
       "      <td>NaN</td>\n",
       "      <td>NaN</td>\n",
       "    </tr>\n",
       "    <tr>\n",
       "      <th>5</th>\n",
       "      <td>NaN</td>\n",
       "      <td>NaN</td>\n",
       "      <td>NaN</td>\n",
       "      <td>NaN</td>\n",
       "      <td>NaN</td>\n",
       "      <td>NaN</td>\n",
       "      <td>NaN</td>\n",
       "      <td>NaN</td>\n",
       "      <td>NaN</td>\n",
       "      <td>NaN</td>\n",
       "      <td>...</td>\n",
       "      <td>NaN</td>\n",
       "      <td>NaN</td>\n",
       "      <td>NaN</td>\n",
       "      <td>-0.267857</td>\n",
       "      <td>NaN</td>\n",
       "      <td>NaN</td>\n",
       "      <td>NaN</td>\n",
       "      <td>NaN</td>\n",
       "      <td>NaN</td>\n",
       "      <td>NaN</td>\n",
       "    </tr>\n",
       "    <tr>\n",
       "      <th>...</th>\n",
       "      <td>...</td>\n",
       "      <td>...</td>\n",
       "      <td>...</td>\n",
       "      <td>...</td>\n",
       "      <td>...</td>\n",
       "      <td>...</td>\n",
       "      <td>...</td>\n",
       "      <td>...</td>\n",
       "      <td>...</td>\n",
       "      <td>...</td>\n",
       "      <td>...</td>\n",
       "      <td>...</td>\n",
       "      <td>...</td>\n",
       "      <td>...</td>\n",
       "      <td>...</td>\n",
       "      <td>...</td>\n",
       "      <td>...</td>\n",
       "      <td>...</td>\n",
       "      <td>...</td>\n",
       "      <td>...</td>\n",
       "      <td>...</td>\n",
       "    </tr>\n",
       "    <tr>\n",
       "      <th>161944</th>\n",
       "      <td>NaN</td>\n",
       "      <td>NaN</td>\n",
       "      <td>NaN</td>\n",
       "      <td>NaN</td>\n",
       "      <td>NaN</td>\n",
       "      <td>NaN</td>\n",
       "      <td>NaN</td>\n",
       "      <td>NaN</td>\n",
       "      <td>NaN</td>\n",
       "      <td>NaN</td>\n",
       "      <td>...</td>\n",
       "      <td>NaN</td>\n",
       "      <td>NaN</td>\n",
       "      <td>NaN</td>\n",
       "      <td>NaN</td>\n",
       "      <td>NaN</td>\n",
       "      <td>NaN</td>\n",
       "      <td>NaN</td>\n",
       "      <td>NaN</td>\n",
       "      <td>NaN</td>\n",
       "      <td>NaN</td>\n",
       "    </tr>\n",
       "    <tr>\n",
       "      <th>162376</th>\n",
       "      <td>NaN</td>\n",
       "      <td>NaN</td>\n",
       "      <td>NaN</td>\n",
       "      <td>NaN</td>\n",
       "      <td>NaN</td>\n",
       "      <td>NaN</td>\n",
       "      <td>NaN</td>\n",
       "      <td>NaN</td>\n",
       "      <td>NaN</td>\n",
       "      <td>NaN</td>\n",
       "      <td>...</td>\n",
       "      <td>NaN</td>\n",
       "      <td>NaN</td>\n",
       "      <td>NaN</td>\n",
       "      <td>NaN</td>\n",
       "      <td>NaN</td>\n",
       "      <td>NaN</td>\n",
       "      <td>NaN</td>\n",
       "      <td>NaN</td>\n",
       "      <td>NaN</td>\n",
       "      <td>NaN</td>\n",
       "    </tr>\n",
       "    <tr>\n",
       "      <th>162542</th>\n",
       "      <td>NaN</td>\n",
       "      <td>NaN</td>\n",
       "      <td>NaN</td>\n",
       "      <td>NaN</td>\n",
       "      <td>NaN</td>\n",
       "      <td>NaN</td>\n",
       "      <td>NaN</td>\n",
       "      <td>NaN</td>\n",
       "      <td>NaN</td>\n",
       "      <td>NaN</td>\n",
       "      <td>...</td>\n",
       "      <td>NaN</td>\n",
       "      <td>NaN</td>\n",
       "      <td>NaN</td>\n",
       "      <td>NaN</td>\n",
       "      <td>NaN</td>\n",
       "      <td>NaN</td>\n",
       "      <td>NaN</td>\n",
       "      <td>NaN</td>\n",
       "      <td>NaN</td>\n",
       "      <td>NaN</td>\n",
       "    </tr>\n",
       "    <tr>\n",
       "      <th>162672</th>\n",
       "      <td>NaN</td>\n",
       "      <td>NaN</td>\n",
       "      <td>NaN</td>\n",
       "      <td>NaN</td>\n",
       "      <td>NaN</td>\n",
       "      <td>NaN</td>\n",
       "      <td>NaN</td>\n",
       "      <td>NaN</td>\n",
       "      <td>NaN</td>\n",
       "      <td>NaN</td>\n",
       "      <td>...</td>\n",
       "      <td>NaN</td>\n",
       "      <td>NaN</td>\n",
       "      <td>NaN</td>\n",
       "      <td>NaN</td>\n",
       "      <td>NaN</td>\n",
       "      <td>NaN</td>\n",
       "      <td>NaN</td>\n",
       "      <td>NaN</td>\n",
       "      <td>NaN</td>\n",
       "      <td>NaN</td>\n",
       "    </tr>\n",
       "    <tr>\n",
       "      <th>163949</th>\n",
       "      <td>NaN</td>\n",
       "      <td>NaN</td>\n",
       "      <td>NaN</td>\n",
       "      <td>NaN</td>\n",
       "      <td>NaN</td>\n",
       "      <td>NaN</td>\n",
       "      <td>NaN</td>\n",
       "      <td>NaN</td>\n",
       "      <td>NaN</td>\n",
       "      <td>NaN</td>\n",
       "      <td>...</td>\n",
       "      <td>NaN</td>\n",
       "      <td>NaN</td>\n",
       "      <td>NaN</td>\n",
       "      <td>NaN</td>\n",
       "      <td>NaN</td>\n",
       "      <td>NaN</td>\n",
       "      <td>NaN</td>\n",
       "      <td>NaN</td>\n",
       "      <td>NaN</td>\n",
       "      <td>NaN</td>\n",
       "    </tr>\n",
       "  </tbody>\n",
       "</table>\n",
       "<p>9066 rows × 671 columns</p>\n",
       "</div>"
      ],
      "text/plain": [
       "userId   1    2    3    4         5    6        7    8        9    10   ...  \\\n",
       "movieId                                                                 ...   \n",
       "1        NaN  NaN  NaN  NaN       NaN  NaN -0.87247  NaN  0.12753  NaN  ...   \n",
       "2        NaN  NaN  NaN  NaN       NaN  NaN      NaN  NaN      NaN  NaN  ...   \n",
       "3        NaN  NaN  NaN  NaN  0.838983  NaN      NaN  NaN      NaN  NaN  ...   \n",
       "4        NaN  NaN  NaN  NaN       NaN  NaN      NaN  NaN      NaN  NaN  ...   \n",
       "5        NaN  NaN  NaN  NaN       NaN  NaN      NaN  NaN      NaN  NaN  ...   \n",
       "...      ...  ...  ...  ...       ...  ...      ...  ...      ...  ...  ...   \n",
       "161944   NaN  NaN  NaN  NaN       NaN  NaN      NaN  NaN      NaN  NaN  ...   \n",
       "162376   NaN  NaN  NaN  NaN       NaN  NaN      NaN  NaN      NaN  NaN  ...   \n",
       "162542   NaN  NaN  NaN  NaN       NaN  NaN      NaN  NaN      NaN  NaN  ...   \n",
       "162672   NaN  NaN  NaN  NaN       NaN  NaN      NaN  NaN      NaN  NaN  ...   \n",
       "163949   NaN  NaN  NaN  NaN       NaN  NaN      NaN  NaN      NaN  NaN  ...   \n",
       "\n",
       "userId        662      663      664       665  666  667  668  669      670  \\\n",
       "movieId                                                                      \n",
       "1             NaN  0.12753 -0.37247       NaN  NaN  NaN  NaN  NaN  0.12753   \n",
       "2        1.598131      NaN      NaN -0.401869  NaN  NaN  NaN  NaN      NaN   \n",
       "3             NaN      NaN      NaN -0.161017  NaN  NaN  NaN  NaN      NaN   \n",
       "4             NaN      NaN      NaN       NaN  NaN  NaN  NaN  NaN      NaN   \n",
       "5             NaN      NaN      NaN -0.267857  NaN  NaN  NaN  NaN      NaN   \n",
       "...           ...      ...      ...       ...  ...  ...  ...  ...      ...   \n",
       "161944        NaN      NaN      NaN       NaN  NaN  NaN  NaN  NaN      NaN   \n",
       "162376        NaN      NaN      NaN       NaN  NaN  NaN  NaN  NaN      NaN   \n",
       "162542        NaN      NaN      NaN       NaN  NaN  NaN  NaN  NaN      NaN   \n",
       "162672        NaN      NaN      NaN       NaN  NaN  NaN  NaN  NaN      NaN   \n",
       "163949        NaN      NaN      NaN       NaN  NaN  NaN  NaN  NaN      NaN   \n",
       "\n",
       "userId       671  \n",
       "movieId           \n",
       "1        1.12753  \n",
       "2            NaN  \n",
       "3            NaN  \n",
       "4            NaN  \n",
       "5            NaN  \n",
       "...          ...  \n",
       "161944       NaN  \n",
       "162376       NaN  \n",
       "162542       NaN  \n",
       "162672       NaN  \n",
       "163949       NaN  \n",
       "\n",
       "[9066 rows x 671 columns]"
      ]
     },
     "execution_count": 82,
     "metadata": {},
     "output_type": "execute_result"
    }
   ],
   "source": [
    "movie_user_matrix_wo_bias"
   ]
  },
  {
   "cell_type": "markdown",
   "id": "1c9a698b",
   "metadata": {},
   "source": [
    "### 3.4.2 상위 k개의 선호도 추출"
   ]
  },
  {
   "cell_type": "code",
   "execution_count": 79,
   "id": "e4be3fda",
   "metadata": {},
   "outputs": [],
   "source": [
    "top_k_similar_ratings = movie_user_matrix_wo_bias.loc[top_k_similar_movie_ids, user_id]\n",
    "top_k_weighted_ratings = top_k_similar_ratings * top_k_similarity"
   ]
  },
  {
   "cell_type": "code",
   "execution_count": 80,
   "id": "3ad93a4a",
   "metadata": {},
   "outputs": [
    {
     "data": {
      "text/plain": [
       "movieId\n",
       "780         NaN\n",
       "733         NaN\n",
       "736         NaN\n",
       "786   -0.108696\n",
       "376         NaN\n",
       "Name: 124, dtype: float64"
      ]
     },
     "execution_count": 80,
     "metadata": {},
     "output_type": "execute_result"
    }
   ],
   "source": [
    "top_k_similar_ratings"
   ]
  },
  {
   "cell_type": "code",
   "execution_count": 81,
   "id": "c163407c",
   "metadata": {},
   "outputs": [
    {
     "data": {
      "text/plain": [
       "movieId\n",
       "780         NaN\n",
       "733         NaN\n",
       "736         NaN\n",
       "786   -0.043617\n",
       "376         NaN\n",
       "dtype: float64"
      ]
     },
     "execution_count": 81,
     "metadata": {},
     "output_type": "execute_result"
    }
   ],
   "source": [
    "top_k_weighted_ratings"
   ]
  },
  {
   "cell_type": "markdown",
   "id": "884b98ae",
   "metadata": {},
   "source": [
    "추출된 영화중 평가 점수가 있는 영화에 대한 가중치만 남기기."
   ]
  },
  {
   "cell_type": "code",
   "execution_count": 83,
   "id": "3fdb13ff",
   "metadata": {},
   "outputs": [
    {
     "data": {
      "text/plain": [
       "movieId\n",
       "780    0.00000\n",
       "733    0.00000\n",
       "736    0.00000\n",
       "786    0.40128\n",
       "376    0.00000\n",
       "dtype: float64"
      ]
     },
     "execution_count": 83,
     "metadata": {},
     "output_type": "execute_result"
    }
   ],
   "source": [
    "top_k_weight = (pd.notna(top_k_similar_ratings)) * top_k_similarity\n",
    "top_k_weight"
   ]
  },
  {
   "cell_type": "markdown",
   "id": "79deded8",
   "metadata": {},
   "source": [
    "### 3.4.3 가중  평균"
   ]
  },
  {
   "cell_type": "markdown",
   "id": "832b9d9e",
   "metadata": {},
   "source": [
    "유사도가 곱해진 평가 점수의 편차 합을 유사도 합으로 나눔."
   ]
  },
  {
   "cell_type": "code",
   "execution_count": 84,
   "id": "a2d67e1c",
   "metadata": {},
   "outputs": [],
   "source": [
    "weighted_rating = top_k_weighted_ratings.sum()\n",
    "weight = top_k_weight.sum()"
   ]
  },
  {
   "cell_type": "code",
   "execution_count": 87,
   "id": "44e4b4ef",
   "metadata": {},
   "outputs": [
    {
     "data": {
      "text/plain": [
       "0.40128029563155027"
      ]
     },
     "execution_count": 87,
     "metadata": {},
     "output_type": "execute_result"
    }
   ],
   "source": [
    "weight"
   ]
  },
  {
   "cell_type": "markdown",
   "id": "ed67440a",
   "metadata": {},
   "source": [
    "영화 평균 평점 추출."
   ]
  },
  {
   "cell_type": "code",
   "execution_count": 85,
   "id": "4e84cc50",
   "metadata": {},
   "outputs": [],
   "source": [
    "bias = movie_bias.loc[movie_i]"
   ]
  },
  {
   "cell_type": "code",
   "execution_count": 86,
   "id": "89f5858c",
   "metadata": {},
   "outputs": [
    {
     "data": {
      "text/plain": [
       "3.5327380952380953"
      ]
     },
     "execution_count": 86,
     "metadata": {},
     "output_type": "execute_result"
    }
   ],
   "source": [
    "bias"
   ]
  },
  {
   "cell_type": "code",
   "execution_count": 88,
   "id": "e755a6e8",
   "metadata": {},
   "outputs": [],
   "source": [
    "if weight != 0:\n",
    "    # 평균 평점에 가중 편차 합\n",
    "    prediction_rating = bias + weighted_rating / weight\n",
    "    \n",
    "# weight가 0인 경우 유사 영화 모두 평가하지 않은 경우\n",
    "else:\n",
    "    prediction_rating = 0"
   ]
  },
  {
   "cell_type": "code",
   "execution_count": 89,
   "id": "9668d6c9",
   "metadata": {},
   "outputs": [
    {
     "data": {
      "text/plain": [
       "3.4240424430641823"
      ]
     },
     "execution_count": 89,
     "metadata": {},
     "output_type": "execute_result"
    }
   ],
   "source": [
    "prediction_rating"
   ]
  },
  {
   "cell_type": "markdown",
   "id": "5ce672f1",
   "metadata": {},
   "source": [
    "### 3.5 예측 선호도가 높은 아이템을 유저에게 추천.\n",
    "\n",
    "모든 영화에 대해서 점수를 예측하고 예측 평가 점수가 높은 영화를 유저에게 추천."
   ]
  },
  {
   "cell_type": "code",
   "execution_count": 90,
   "id": "bdbd010d",
   "metadata": {},
   "outputs": [],
   "source": [
    "prediction_dict = {}\n",
    "\n",
    "# 모든 영화 아이디에 대해 평점 예측\n",
    "for movie_id in movie_user_matrix.index:\n",
    "    \n",
    "    # 이미 유저가 평가한 경우 제외\n",
    "    if movie_user_matrix.loc[movie_i, user_id] > 0:\n",
    "        continue\n",
    "        \n",
    "    top_k_similar_ratings = movie_user_matrix_wo_bias.loc[top_k_similar_movie_ids, user_id]\n",
    "    \n",
    "    top_k_weighted_ratings = top_k_similar_ratings * top_k_similarity\n",
    "    top_k_weight = (top_k_similar_ratings != 0) * top_k_similarity\n",
    "    \n",
    "    weighted_rating = top_k_weighted_ratings.sum()\n",
    "    weight = top_k_weight.sum()\n",
    "    \n",
    "    bias = movie_bias.loc[movie_i]\n",
    "    \n",
    "    if weight > 0:\n",
    "        prediction_rating = bias + weighted_rating / weight\n",
    "        \n",
    "    else:\n",
    "        prediction_rating = 0\n",
    "        \n",
    "    # 영화 아이디 별로 예측 평가 점수 저장\n",
    "    prediction_dict[movie_id] = prediction_rating"
   ]
  },
  {
   "cell_type": "markdown",
   "id": "91bd3ec0",
   "metadata": {},
   "source": [
    "영화 아이디별 예측 평가 점수를 내림차순으로 정렬."
   ]
  },
  {
   "cell_type": "code",
   "execution_count": 92,
   "id": "919d55ef",
   "metadata": {},
   "outputs": [],
   "source": [
    "prediction = pd.Series(prediction_dict).sort_values(ascending=False)"
   ]
  },
  {
   "cell_type": "code",
   "execution_count": 94,
   "id": "8cb9cc07",
   "metadata": {},
   "outputs": [
    {
     "data": {
      "text/plain": [
       "1        3.513433\n",
       "31963    3.513433\n",
       "31903    3.513433\n",
       "31921    3.513433\n",
       "31923    3.513433\n",
       "dtype: float64"
      ]
     },
     "execution_count": 94,
     "metadata": {},
     "output_type": "execute_result"
    }
   ],
   "source": [
    "prediction.head(5)"
   ]
  },
  {
   "cell_type": "markdown",
   "id": "79bd829e",
   "metadata": {},
   "source": [
    "예측 평가 점수 상위 10개의 영화 아이디 추출."
   ]
  },
  {
   "cell_type": "code",
   "execution_count": 95,
   "id": "00ba83aa",
   "metadata": {},
   "outputs": [],
   "source": [
    "recommend = prediction[:10].index"
   ]
  },
  {
   "cell_type": "code",
   "execution_count": 96,
   "id": "b7dc6e0e",
   "metadata": {},
   "outputs": [
    {
     "data": {
      "text/html": [
       "<div>\n",
       "<style scoped>\n",
       "    .dataframe tbody tr th:only-of-type {\n",
       "        vertical-align: middle;\n",
       "    }\n",
       "\n",
       "    .dataframe tbody tr th {\n",
       "        vertical-align: top;\n",
       "    }\n",
       "\n",
       "    .dataframe thead th {\n",
       "        text-align: right;\n",
       "    }\n",
       "</style>\n",
       "<table border=\"1\" class=\"dataframe\">\n",
       "  <thead>\n",
       "    <tr style=\"text-align: right;\">\n",
       "      <th></th>\n",
       "      <th>title</th>\n",
       "    </tr>\n",
       "    <tr>\n",
       "      <th>movieId</th>\n",
       "      <th></th>\n",
       "    </tr>\n",
       "  </thead>\n",
       "  <tbody>\n",
       "    <tr>\n",
       "      <th>1</th>\n",
       "      <td>Toy Story</td>\n",
       "    </tr>\n",
       "    <tr>\n",
       "      <th>31963</th>\n",
       "      <td>Bed and Board</td>\n",
       "    </tr>\n",
       "    <tr>\n",
       "      <th>31903</th>\n",
       "      <td>Želary</td>\n",
       "    </tr>\n",
       "    <tr>\n",
       "      <th>31921</th>\n",
       "      <td>The Seven-Per-Cent Solution</td>\n",
       "    </tr>\n",
       "    <tr>\n",
       "      <th>31923</th>\n",
       "      <td>The Three Musketeers</td>\n",
       "    </tr>\n",
       "    <tr>\n",
       "      <th>31930</th>\n",
       "      <td>Masculin Féminin</td>\n",
       "    </tr>\n",
       "    <tr>\n",
       "      <th>31952</th>\n",
       "      <td>Control</td>\n",
       "    </tr>\n",
       "    <tr>\n",
       "      <th>31956</th>\n",
       "      <td>Five Times Two</td>\n",
       "    </tr>\n",
       "    <tr>\n",
       "      <th>31973</th>\n",
       "      <td>Germany Year Zero</td>\n",
       "    </tr>\n",
       "    <tr>\n",
       "      <th>31804</th>\n",
       "      <td>Night Watch</td>\n",
       "    </tr>\n",
       "  </tbody>\n",
       "</table>\n",
       "</div>"
      ],
      "text/plain": [
       "                               title\n",
       "movieId                             \n",
       "1                          Toy Story\n",
       "31963                  Bed and Board\n",
       "31903                         Želary\n",
       "31921    The Seven-Per-Cent Solution\n",
       "31923           The Three Musketeers\n",
       "31930               Masculin Féminin\n",
       "31952                        Control\n",
       "31956                 Five Times Two\n",
       "31973              Germany Year Zero\n",
       "31804                    Night Watch"
      ]
     },
     "execution_count": 96,
     "metadata": {},
     "output_type": "execute_result"
    }
   ],
   "source": [
    "movies.loc[recommend]"
   ]
  },
  {
   "cell_type": "code",
   "execution_count": null,
   "id": "167258bb",
   "metadata": {},
   "outputs": [],
   "source": []
  }
 ],
 "metadata": {
  "kernelspec": {
   "display_name": "Python 3 (ipykernel)",
   "language": "python",
   "name": "python3"
  },
  "language_info": {
   "codemirror_mode": {
    "name": "ipython",
    "version": 3
   },
   "file_extension": ".py",
   "mimetype": "text/x-python",
   "name": "python",
   "nbconvert_exporter": "python",
   "pygments_lexer": "ipython3",
   "version": "3.8.6"
  }
 },
 "nbformat": 4,
 "nbformat_minor": 5
}
