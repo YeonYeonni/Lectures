{
 "cells": [
  {
   "cell_type": "markdown",
   "id": "b7cf83e5",
   "metadata": {},
   "source": [
    "## 영화 메타 데이터와 TF-iDF 실습\n",
    "\n",
    "영화 줄거리 데이터에 TF-IDF를 적용해 영화별 유사도를 계산."
   ]
  },
  {
   "cell_type": "code",
   "execution_count": 1,
   "id": "a1a2a059",
   "metadata": {},
   "outputs": [],
   "source": [
    "import pandas as pd\n",
    "import numpy as np\n",
    "import matplotlib.pyplot as plt\n",
    "\n",
    "np.random.seed(2021)"
   ]
  },
  {
   "cell_type": "markdown",
   "id": "7c1b3997",
   "metadata": {},
   "source": [
    "## 1. Data"
   ]
  },
  {
   "cell_type": "markdown",
   "id": "6e30f6e7",
   "metadata": {},
   "source": [
    "### 1.1 Data Load"
   ]
  },
  {
   "cell_type": "markdown",
   "id": "ea885b7d",
   "metadata": {},
   "source": [
    "영화 제목 (title) 과 줄거리 (overview) 컬럼 이용."
   ]
  },
  {
   "cell_type": "code",
   "execution_count": 3,
   "id": "c9d4e781",
   "metadata": {},
   "outputs": [
    {
     "name": "stderr",
     "output_type": "stream",
     "text": [
      "c:\\python\\python38\\lib\\site-packages\\IPython\\core\\interactiveshell.py:3444: DtypeWarning: Columns (10) have mixed types.Specify dtype option on import or set low_memory=False.\n",
      "  exec(code_obj, self.user_global_ns, self.user_ns)\n"
     ]
    }
   ],
   "source": [
    "df = pd.read_csv('movies_metadata.csv')"
   ]
  },
  {
   "cell_type": "code",
   "execution_count": 4,
   "id": "6acc6983",
   "metadata": {},
   "outputs": [],
   "source": [
    "df = df[['title', 'overview']]"
   ]
  },
  {
   "cell_type": "markdown",
   "id": "88d196f1",
   "metadata": {},
   "source": [
    "전체 데이터의 1000개만 사용하기."
   ]
  },
  {
   "cell_type": "code",
   "execution_count": 5,
   "id": "8b9d346b",
   "metadata": {},
   "outputs": [],
   "source": [
    "df = df.iloc[:1000]"
   ]
  },
  {
   "cell_type": "code",
   "execution_count": 6,
   "id": "e739a6bd",
   "metadata": {},
   "outputs": [
    {
     "data": {
      "text/plain": [
       "(1000, 2)"
      ]
     },
     "execution_count": 6,
     "metadata": {},
     "output_type": "execute_result"
    }
   ],
   "source": [
    "df.shape"
   ]
  },
  {
   "cell_type": "code",
   "execution_count": 7,
   "id": "72a5be72",
   "metadata": {},
   "outputs": [
    {
     "data": {
      "text/html": [
       "<div>\n",
       "<style scoped>\n",
       "    .dataframe tbody tr th:only-of-type {\n",
       "        vertical-align: middle;\n",
       "    }\n",
       "\n",
       "    .dataframe tbody tr th {\n",
       "        vertical-align: top;\n",
       "    }\n",
       "\n",
       "    .dataframe thead th {\n",
       "        text-align: right;\n",
       "    }\n",
       "</style>\n",
       "<table border=\"1\" class=\"dataframe\">\n",
       "  <thead>\n",
       "    <tr style=\"text-align: right;\">\n",
       "      <th></th>\n",
       "      <th>title</th>\n",
       "      <th>overview</th>\n",
       "    </tr>\n",
       "  </thead>\n",
       "  <tbody>\n",
       "    <tr>\n",
       "      <th>0</th>\n",
       "      <td>Toy Story</td>\n",
       "      <td>Led by Woody, Andy's toys live happily in his ...</td>\n",
       "    </tr>\n",
       "    <tr>\n",
       "      <th>1</th>\n",
       "      <td>Jumanji</td>\n",
       "      <td>When siblings Judy and Peter discover an encha...</td>\n",
       "    </tr>\n",
       "    <tr>\n",
       "      <th>2</th>\n",
       "      <td>Grumpier Old Men</td>\n",
       "      <td>A family wedding reignites the ancient feud be...</td>\n",
       "    </tr>\n",
       "    <tr>\n",
       "      <th>3</th>\n",
       "      <td>Waiting to Exhale</td>\n",
       "      <td>Cheated on, mistreated and stepped on, the wom...</td>\n",
       "    </tr>\n",
       "    <tr>\n",
       "      <th>4</th>\n",
       "      <td>Father of the Bride Part II</td>\n",
       "      <td>Just when George Banks has recovered from his ...</td>\n",
       "    </tr>\n",
       "    <tr>\n",
       "      <th>...</th>\n",
       "      <td>...</td>\n",
       "      <td>...</td>\n",
       "    </tr>\n",
       "    <tr>\n",
       "      <th>995</th>\n",
       "      <td>The Three Caballeros</td>\n",
       "      <td>For Donald's birthday he receives a box with t...</td>\n",
       "    </tr>\n",
       "    <tr>\n",
       "      <th>996</th>\n",
       "      <td>The Sword in the Stone</td>\n",
       "      <td>Wart is a young boy who aspires to be a knight...</td>\n",
       "    </tr>\n",
       "    <tr>\n",
       "      <th>997</th>\n",
       "      <td>So Dear to My Heart</td>\n",
       "      <td>The tale of Jeremiah Kincaid and his quest to ...</td>\n",
       "    </tr>\n",
       "    <tr>\n",
       "      <th>998</th>\n",
       "      <td>Robin Hood: Prince of Thieves</td>\n",
       "      <td>When the dastardly Sheriff of Nottingham murde...</td>\n",
       "    </tr>\n",
       "    <tr>\n",
       "      <th>999</th>\n",
       "      <td>Mary Poppins</td>\n",
       "      <td>The movie combines a diverting story, songs, c...</td>\n",
       "    </tr>\n",
       "  </tbody>\n",
       "</table>\n",
       "<p>1000 rows × 2 columns</p>\n",
       "</div>"
      ],
      "text/plain": [
       "                             title  \\\n",
       "0                        Toy Story   \n",
       "1                          Jumanji   \n",
       "2                 Grumpier Old Men   \n",
       "3                Waiting to Exhale   \n",
       "4      Father of the Bride Part II   \n",
       "..                             ...   \n",
       "995           The Three Caballeros   \n",
       "996         The Sword in the Stone   \n",
       "997            So Dear to My Heart   \n",
       "998  Robin Hood: Prince of Thieves   \n",
       "999                   Mary Poppins   \n",
       "\n",
       "                                              overview  \n",
       "0    Led by Woody, Andy's toys live happily in his ...  \n",
       "1    When siblings Judy and Peter discover an encha...  \n",
       "2    A family wedding reignites the ancient feud be...  \n",
       "3    Cheated on, mistreated and stepped on, the wom...  \n",
       "4    Just when George Banks has recovered from his ...  \n",
       "..                                                 ...  \n",
       "995  For Donald's birthday he receives a box with t...  \n",
       "996  Wart is a young boy who aspires to be a knight...  \n",
       "997  The tale of Jeremiah Kincaid and his quest to ...  \n",
       "998  When the dastardly Sheriff of Nottingham murde...  \n",
       "999  The movie combines a diverting story, songs, c...  \n",
       "\n",
       "[1000 rows x 2 columns]"
      ]
     },
     "execution_count": 7,
     "metadata": {},
     "output_type": "execute_result"
    }
   ],
   "source": [
    "df"
   ]
  },
  {
   "cell_type": "markdown",
   "id": "536efe37",
   "metadata": {},
   "source": [
    "### 1.2 Data Cleaning"
   ]
  },
  {
   "cell_type": "markdown",
   "id": "3cfb378d",
   "metadata": {},
   "source": [
    "'overview'가 결측값인 경우 빈 str로 대체."
   ]
  },
  {
   "cell_type": "code",
   "execution_count": 8,
   "id": "d96c35d0",
   "metadata": {},
   "outputs": [
    {
     "data": {
      "text/plain": [
       "12"
      ]
     },
     "execution_count": 8,
     "metadata": {},
     "output_type": "execute_result"
    }
   ],
   "source": [
    "df['overview'].isna().sum()"
   ]
  },
  {
   "cell_type": "code",
   "execution_count": 9,
   "id": "cd128c02",
   "metadata": {},
   "outputs": [],
   "source": [
    "df['overview'] = df['overview'].fillna('')"
   ]
  },
  {
   "cell_type": "markdown",
   "id": "e0a4e2d5",
   "metadata": {},
   "source": [
    "## 2. TF-IDF 계산\n",
    "\n",
    "sklearn.feature_extration.text의 TfidfVectorizer을 이용."
   ]
  },
  {
   "cell_type": "code",
   "execution_count": 10,
   "id": "a373829f",
   "metadata": {},
   "outputs": [],
   "source": [
    "from sklearn.feature_extraction.text import TfidfVectorizer"
   ]
  },
  {
   "cell_type": "markdown",
   "id": "5cbf3db1",
   "metadata": {},
   "source": [
    "### 2.1 Sample Data"
   ]
  },
  {
   "cell_type": "code",
   "execution_count": 11,
   "id": "7489ef4a",
   "metadata": {},
   "outputs": [
    {
     "data": {
      "text/plain": [
       "array([\"Led by Woody, Andy's toys live happily in his room until Andy's birthday brings Buzz Lightyear onto the scene. Afraid of losing his place in Andy's heart, Woody plots against Buzz. But when circumstances separate Buzz and Woody from their owner, the duo eventually learns to put aside their differences.\",\n",
       "       \"When siblings Judy and Peter discover an enchanted board game that opens the door to a magical world, they unwittingly invite Alan -- an adult who's been trapped inside the game for 26 years -- into their living room. Alan's only hope for freedom is to finish the game, which proves risky as all three find themselves running from giant rhinoceroses, evil monkeys and other terrifying creatures.\"],\n",
       "      dtype=object)"
      ]
     },
     "execution_count": 11,
     "metadata": {},
     "output_type": "execute_result"
    }
   ],
   "source": [
    "df['overview'].values[:2]"
   ]
  },
  {
   "cell_type": "code",
   "execution_count": 12,
   "id": "afa52b47",
   "metadata": {},
   "outputs": [],
   "source": [
    "transformer = TfidfVectorizer(stop_words='english') # 자주 사용되는 and와 or를 빼줌.\n",
    "tfidf_matrix = transformer.fit_transform(df['overview'].values[:2])"
   ]
  },
  {
   "cell_type": "code",
   "execution_count": 13,
   "id": "326cfebf",
   "metadata": {},
   "outputs": [
    {
     "data": {
      "text/plain": [
       "array([[0.        , 0.        , 0.14358239, 0.        , 0.43074717,\n",
       "        0.14358239, 0.14358239, 0.        , 0.14358239, 0.43074717,\n",
       "        0.14358239, 0.        , 0.14358239, 0.        , 0.        ,\n",
       "        0.14358239, 0.        , 0.14358239, 0.        , 0.        ,\n",
       "        0.        , 0.        , 0.        , 0.14358239, 0.14358239,\n",
       "        0.        , 0.        , 0.        , 0.        , 0.14358239,\n",
       "        0.14358239, 0.14358239, 0.14358239, 0.        , 0.14358239,\n",
       "        0.        , 0.        , 0.        , 0.14358239, 0.        ,\n",
       "        0.14358239, 0.14358239, 0.        , 0.        , 0.        ,\n",
       "        0.10216005, 0.        , 0.14358239, 0.14358239, 0.        ,\n",
       "        0.        , 0.14358239, 0.        , 0.        , 0.43074717,\n",
       "        0.        , 0.        ],\n",
       "       [0.15160873, 0.15160873, 0.        , 0.30321746, 0.        ,\n",
       "        0.        , 0.        , 0.15160873, 0.        , 0.        ,\n",
       "        0.        , 0.15160873, 0.        , 0.15160873, 0.15160873,\n",
       "        0.        , 0.15160873, 0.        , 0.15160873, 0.15160873,\n",
       "        0.15160873, 0.45482618, 0.15160873, 0.        , 0.        ,\n",
       "        0.15160873, 0.15160873, 0.15160873, 0.15160873, 0.        ,\n",
       "        0.        , 0.        , 0.        , 0.15160873, 0.        ,\n",
       "        0.15160873, 0.15160873, 0.15160873, 0.        , 0.15160873,\n",
       "        0.        , 0.        , 0.15160873, 0.15160873, 0.15160873,\n",
       "        0.10787086, 0.15160873, 0.        , 0.        , 0.15160873,\n",
       "        0.15160873, 0.        , 0.15160873, 0.15160873, 0.        ,\n",
       "        0.15160873, 0.15160873]])"
      ]
     },
     "execution_count": 13,
     "metadata": {},
     "output_type": "execute_result"
    }
   ],
   "source": [
    "tfidf_matrix.toarray()"
   ]
  },
  {
   "cell_type": "code",
   "execution_count": 16,
   "id": "7a6e0000",
   "metadata": {},
   "outputs": [
    {
     "name": "stderr",
     "output_type": "stream",
     "text": [
      "c:\\python\\python38\\lib\\site-packages\\sklearn\\utils\\deprecation.py:87: FutureWarning: Function get_feature_names is deprecated; get_feature_names is deprecated in 1.0 and will be removed in 1.2. Please use get_feature_names_out instead.\n",
      "  warnings.warn(msg, category=FutureWarning)\n"
     ]
    },
    {
     "data": {
      "text/plain": [
       "['26',\n",
       " 'adult',\n",
       " 'afraid',\n",
       " 'alan',\n",
       " 'andy',\n",
       " 'aside',\n",
       " 'birthday',\n",
       " 'board',\n",
       " 'brings',\n",
       " 'buzz',\n",
       " 'circumstances',\n",
       " 'creatures',\n",
       " 'differences',\n",
       " 'discover',\n",
       " 'door',\n",
       " 'duo',\n",
       " 'enchanted',\n",
       " 'eventually',\n",
       " 'evil',\n",
       " 'finish',\n",
       " 'freedom',\n",
       " 'game',\n",
       " 'giant',\n",
       " 'happily',\n",
       " 'heart',\n",
       " 'hope',\n",
       " 'inside',\n",
       " 'invite',\n",
       " 'judy',\n",
       " 'learns',\n",
       " 'led',\n",
       " 'lightyear',\n",
       " 'live',\n",
       " 'living',\n",
       " 'losing',\n",
       " 'magical',\n",
       " 'monkeys',\n",
       " 'opens',\n",
       " 'owner',\n",
       " 'peter',\n",
       " 'place',\n",
       " 'plots',\n",
       " 'proves',\n",
       " 'rhinoceroses',\n",
       " 'risky',\n",
       " 'room',\n",
       " 'running',\n",
       " 'scene',\n",
       " 'separate',\n",
       " 'siblings',\n",
       " 'terrifying',\n",
       " 'toys',\n",
       " 'trapped',\n",
       " 'unwittingly',\n",
       " 'woody',\n",
       " 'world',\n",
       " 'years']"
      ]
     },
     "execution_count": 16,
     "metadata": {},
     "output_type": "execute_result"
    }
   ],
   "source": [
    "transformer.get_feature_names()"
   ]
  },
  {
   "cell_type": "code",
   "execution_count": 15,
   "id": "d56d4247",
   "metadata": {},
   "outputs": [
    {
     "name": "stderr",
     "output_type": "stream",
     "text": [
      "c:\\python\\python38\\lib\\site-packages\\sklearn\\utils\\deprecation.py:87: FutureWarning: Function get_feature_names is deprecated; get_feature_names is deprecated in 1.0 and will be removed in 1.2. Please use get_feature_names_out instead.\n",
      "  warnings.warn(msg, category=FutureWarning)\n"
     ]
    },
    {
     "data": {
      "text/html": [
       "<div>\n",
       "<style scoped>\n",
       "    .dataframe tbody tr th:only-of-type {\n",
       "        vertical-align: middle;\n",
       "    }\n",
       "\n",
       "    .dataframe tbody tr th {\n",
       "        vertical-align: top;\n",
       "    }\n",
       "\n",
       "    .dataframe thead th {\n",
       "        text-align: right;\n",
       "    }\n",
       "</style>\n",
       "<table border=\"1\" class=\"dataframe\">\n",
       "  <thead>\n",
       "    <tr style=\"text-align: right;\">\n",
       "      <th></th>\n",
       "      <th>0</th>\n",
       "      <th>1</th>\n",
       "    </tr>\n",
       "  </thead>\n",
       "  <tbody>\n",
       "    <tr>\n",
       "      <th>26</th>\n",
       "      <td>0.000000</td>\n",
       "      <td>0.151609</td>\n",
       "    </tr>\n",
       "    <tr>\n",
       "      <th>adult</th>\n",
       "      <td>0.000000</td>\n",
       "      <td>0.151609</td>\n",
       "    </tr>\n",
       "    <tr>\n",
       "      <th>afraid</th>\n",
       "      <td>0.143582</td>\n",
       "      <td>0.000000</td>\n",
       "    </tr>\n",
       "    <tr>\n",
       "      <th>alan</th>\n",
       "      <td>0.000000</td>\n",
       "      <td>0.303217</td>\n",
       "    </tr>\n",
       "    <tr>\n",
       "      <th>andy</th>\n",
       "      <td>0.430747</td>\n",
       "      <td>0.000000</td>\n",
       "    </tr>\n",
       "    <tr>\n",
       "      <th>aside</th>\n",
       "      <td>0.143582</td>\n",
       "      <td>0.000000</td>\n",
       "    </tr>\n",
       "    <tr>\n",
       "      <th>birthday</th>\n",
       "      <td>0.143582</td>\n",
       "      <td>0.000000</td>\n",
       "    </tr>\n",
       "    <tr>\n",
       "      <th>board</th>\n",
       "      <td>0.000000</td>\n",
       "      <td>0.151609</td>\n",
       "    </tr>\n",
       "    <tr>\n",
       "      <th>brings</th>\n",
       "      <td>0.143582</td>\n",
       "      <td>0.000000</td>\n",
       "    </tr>\n",
       "    <tr>\n",
       "      <th>buzz</th>\n",
       "      <td>0.430747</td>\n",
       "      <td>0.000000</td>\n",
       "    </tr>\n",
       "  </tbody>\n",
       "</table>\n",
       "</div>"
      ],
      "text/plain": [
       "                 0         1\n",
       "26        0.000000  0.151609\n",
       "adult     0.000000  0.151609\n",
       "afraid    0.143582  0.000000\n",
       "alan      0.000000  0.303217\n",
       "andy      0.430747  0.000000\n",
       "aside     0.143582  0.000000\n",
       "birthday  0.143582  0.000000\n",
       "board     0.000000  0.151609\n",
       "brings    0.143582  0.000000\n",
       "buzz      0.430747  0.000000"
      ]
     },
     "execution_count": 15,
     "metadata": {},
     "output_type": "execute_result"
    }
   ],
   "source": [
    "pd.DataFrame(tfidf_matrix.toarray(), columns=transformer.get_feature_names()).T.head(10)"
   ]
  },
  {
   "cell_type": "markdown",
   "id": "f38f2fa9",
   "metadata": {},
   "source": [
    "26의 경우 첫 번째 문장에서 0.1516의 TF-iDF."
   ]
  },
  {
   "cell_type": "markdown",
   "id": "4ca3c860",
   "metadata": {},
   "source": [
    "### 2.2 학습"
   ]
  },
  {
   "cell_type": "code",
   "execution_count": 17,
   "id": "e5f415df",
   "metadata": {},
   "outputs": [],
   "source": [
    "transformer = TfidfVectorizer(stop_words='english')"
   ]
  },
  {
   "cell_type": "markdown",
   "id": "9a184987",
   "metadata": {},
   "source": [
    "### 2.3 변환"
   ]
  },
  {
   "cell_type": "code",
   "execution_count": 19,
   "id": "19c5b6cb",
   "metadata": {},
   "outputs": [],
   "source": [
    "tfidf_matrix = transformer.fit_transform(df['overview'])"
   ]
  },
  {
   "cell_type": "code",
   "execution_count": 20,
   "id": "4a8fbb63",
   "metadata": {},
   "outputs": [
    {
     "data": {
      "text/plain": [
       "array([[0., 0., 0., ..., 0., 0., 0.],\n",
       "       [0., 0., 0., ..., 0., 0., 0.],\n",
       "       [0., 0., 0., ..., 0., 0., 0.],\n",
       "       ...,\n",
       "       [0., 0., 0., ..., 0., 0., 0.],\n",
       "       [0., 0., 0., ..., 0., 0., 0.],\n",
       "       [0., 0., 0., ..., 0., 0., 0.]])"
      ]
     },
     "execution_count": 20,
     "metadata": {},
     "output_type": "execute_result"
    }
   ],
   "source": [
    "tfidf_matrix.toarray()"
   ]
  },
  {
   "cell_type": "markdown",
   "id": "2b3b2d15",
   "metadata": {},
   "source": [
    "키워드 확인"
   ]
  },
  {
   "cell_type": "code",
   "execution_count": 21,
   "id": "b67b8403",
   "metadata": {},
   "outputs": [
    {
     "data": {
      "text/plain": [
       "['zombies', 'zones', 'zookeeper', 'zorro', 'zulu']"
      ]
     },
     "execution_count": 21,
     "metadata": {},
     "output_type": "execute_result"
    }
   ],
   "source": [
    "transformer.get_feature_names()[-5:]"
   ]
  },
  {
   "cell_type": "markdown",
   "id": "92f66c0c",
   "metadata": {},
   "source": [
    "## 3. 영화별 유사도 계산\n",
    "\n",
    "코사인 유사도를 이용해 영화별 유사도를 계산."
   ]
  },
  {
   "cell_type": "code",
   "execution_count": 22,
   "id": "040faab2",
   "metadata": {},
   "outputs": [],
   "source": [
    "from sklearn.metrics.pairwise import cosine_similarity"
   ]
  },
  {
   "cell_type": "code",
   "execution_count": 23,
   "id": "a09e9435",
   "metadata": {},
   "outputs": [],
   "source": [
    "similarity = cosine_similarity(tfidf_matrix)"
   ]
  },
  {
   "cell_type": "code",
   "execution_count": 24,
   "id": "57dfd8ae",
   "metadata": {},
   "outputs": [
    {
     "data": {
      "text/plain": [
       "array([[1.        , 0.01570657, 0.        , ..., 0.        , 0.        ,\n",
       "        0.01234882],\n",
       "       [0.01570657, 1.        , 0.05047128, ..., 0.        , 0.01578968,\n",
       "        0.02378018],\n",
       "       [0.        , 0.05047128, 1.        , ..., 0.        , 0.        ,\n",
       "        0.        ],\n",
       "       ...,\n",
       "       [0.        , 0.        , 0.        , ..., 1.        , 0.        ,\n",
       "        0.        ],\n",
       "       [0.        , 0.01578968, 0.        , ..., 0.        , 1.        ,\n",
       "        0.        ],\n",
       "       [0.01234882, 0.02378018, 0.        , ..., 0.        , 0.        ,\n",
       "        1.        ]])"
      ]
     },
     "execution_count": 24,
     "metadata": {},
     "output_type": "execute_result"
    }
   ],
   "source": [
    "similarity"
   ]
  },
  {
   "cell_type": "markdown",
   "id": "60aa69b6",
   "metadata": {},
   "source": [
    "## 4. 유사한 영화 추천"
   ]
  },
  {
   "cell_type": "markdown",
   "id": "5d93bcba",
   "metadata": {},
   "source": [
    "예를 들어, 인덱스 998과 유사한 영화를 추천하기."
   ]
  },
  {
   "cell_type": "code",
   "execution_count": 25,
   "id": "21f53e41",
   "metadata": {},
   "outputs": [
    {
     "name": "stdout",
     "output_type": "stream",
     "text": [
      "Robin Hood: Prince of Thieves\n"
     ]
    }
   ],
   "source": [
    "idx = 998\n",
    "print(df.loc[idx, 'title'])"
   ]
  },
  {
   "cell_type": "markdown",
   "id": "676743f6",
   "metadata": {},
   "source": [
    "위에서 계산한 similarity 에서 998번째 영화와 다른 영화 사이의 유사도를 추출.\n",
    "\n",
    "유사도가 높은 인덱스를 반환."
   ]
  },
  {
   "cell_type": "code",
   "execution_count": 26,
   "id": "0bc14aae",
   "metadata": {},
   "outputs": [],
   "source": [
    "similarity_one_idx = similarity[idx]"
   ]
  },
  {
   "cell_type": "code",
   "execution_count": 28,
   "id": "e0e7f3e8",
   "metadata": {},
   "outputs": [
    {
     "data": {
      "text/plain": [
       "array([0.        , 0.01578968, 0.        , 0.06497967, 0.        ,\n",
       "       0.01669058, 0.        , 0.        , 0.01884548, 0.        ,\n",
       "       0.        , 0.03206453, 0.        , 0.01847308, 0.01592856,\n",
       "       0.        , 0.        , 0.        , 0.03370223, 0.        ,\n",
       "       0.        , 0.        , 0.        , 0.        , 0.        ,\n",
       "       0.05644874, 0.        , 0.00826806, 0.        , 0.        ,\n",
       "       0.        , 0.        , 0.        , 0.        , 0.        ,\n",
       "       0.        , 0.        , 0.        , 0.        , 0.        ,\n",
       "       0.        , 0.        , 0.01164103, 0.0793925 , 0.        ,\n",
       "       0.        , 0.        , 0.01173592, 0.        , 0.        ,\n",
       "       0.        , 0.        , 0.        , 0.        , 0.01950889,\n",
       "       0.        , 0.        , 0.        , 0.00772065, 0.        ,\n",
       "       0.        , 0.        , 0.00915389, 0.01540557, 0.02512398,\n",
       "       0.        , 0.        , 0.        , 0.        , 0.        ,\n",
       "       0.        , 0.01417411, 0.        , 0.        , 0.        ,\n",
       "       0.        , 0.        , 0.01186852, 0.        , 0.        ,\n",
       "       0.        , 0.01769482, 0.        , 0.        , 0.        ,\n",
       "       0.        , 0.        , 0.        , 0.        , 0.        ,\n",
       "       0.        , 0.        , 0.        , 0.        , 0.        ,\n",
       "       0.0152031 , 0.        , 0.        , 0.        , 0.05413418,\n",
       "       0.        , 0.        , 0.        , 0.        , 0.        ,\n",
       "       0.        , 0.        , 0.        , 0.        , 0.        ,\n",
       "       0.        , 0.        , 0.        , 0.        , 0.        ,\n",
       "       0.        , 0.        , 0.0119694 , 0.        , 0.        ,\n",
       "       0.        , 0.        , 0.        , 0.00869897, 0.        ,\n",
       "       0.        , 0.        , 0.        , 0.01517327, 0.        ,\n",
       "       0.        , 0.        , 0.01612569, 0.01776474, 0.        ,\n",
       "       0.02801106, 0.        , 0.        , 0.        , 0.        ,\n",
       "       0.        , 0.        , 0.        , 0.        , 0.        ,\n",
       "       0.        , 0.        , 0.02424074, 0.06059288, 0.        ,\n",
       "       0.07041534, 0.        , 0.        , 0.        , 0.        ,\n",
       "       0.00639417, 0.        , 0.        , 0.        , 0.        ,\n",
       "       0.        , 0.        , 0.        , 0.        , 0.        ,\n",
       "       0.        , 0.        , 0.01671086, 0.        , 0.        ,\n",
       "       0.        , 0.        , 0.        , 0.        , 0.        ,\n",
       "       0.        , 0.        , 0.        , 0.02098685, 0.        ,\n",
       "       0.        , 0.05835958, 0.        , 0.        , 0.        ,\n",
       "       0.02736183, 0.        , 0.        , 0.01099379, 0.        ,\n",
       "       0.        , 0.00822631, 0.        , 0.        , 0.        ,\n",
       "       0.        , 0.        , 0.        , 0.00524037, 0.        ,\n",
       "       0.        , 0.        , 0.        , 0.        , 0.        ,\n",
       "       0.        , 0.00837443, 0.04020249, 0.        , 0.        ,\n",
       "       0.        , 0.        , 0.        , 0.01176218, 0.        ,\n",
       "       0.11132041, 0.        , 0.        , 0.        , 0.        ,\n",
       "       0.        , 0.        , 0.        , 0.01473006, 0.        ,\n",
       "       0.        , 0.        , 0.        , 0.        , 0.        ,\n",
       "       0.        , 0.05384603, 0.        , 0.01211301, 0.01514762,\n",
       "       0.        , 0.        , 0.01342705, 0.        , 0.        ,\n",
       "       0.02365783, 0.05146944, 0.        , 0.01967789, 0.        ,\n",
       "       0.03486745, 0.        , 0.        , 0.        , 0.        ,\n",
       "       0.        , 0.        , 0.        , 0.        , 0.01501126,\n",
       "       0.        , 0.03851636, 0.01256781, 0.01109536, 0.01398671,\n",
       "       0.        , 0.        , 0.01753674, 0.        , 0.02345685,\n",
       "       0.        , 0.        , 0.        , 0.0194862 , 0.        ,\n",
       "       0.04002726, 0.        , 0.01099413, 0.        , 0.        ,\n",
       "       0.        , 0.        , 0.        , 0.        , 0.        ,\n",
       "       0.        , 0.        , 0.01651403, 0.        , 0.        ,\n",
       "       0.        , 0.        , 0.        , 0.        , 0.        ,\n",
       "       0.        , 0.        , 0.        , 0.        , 0.        ,\n",
       "       0.02032888, 0.        , 0.        , 0.        , 0.        ,\n",
       "       0.        , 0.        , 0.        , 0.        , 0.        ,\n",
       "       0.00946424, 0.        , 0.        , 0.        , 0.0158847 ,\n",
       "       0.        , 0.        , 0.        , 0.01000112, 0.        ,\n",
       "       0.        , 0.0178049 , 0.        , 0.        , 0.03511464,\n",
       "       0.        , 0.        , 0.        , 0.        , 0.        ,\n",
       "       0.        , 0.        , 0.        , 0.        , 0.        ,\n",
       "       0.        , 0.04240914, 0.        , 0.        , 0.        ,\n",
       "       0.        , 0.        , 0.        , 0.        , 0.        ,\n",
       "       0.        , 0.        , 0.        , 0.        , 0.        ,\n",
       "       0.        , 0.00843146, 0.        , 0.        , 0.        ,\n",
       "       0.        , 0.        , 0.        , 0.        , 0.        ,\n",
       "       0.01382489, 0.        , 0.        , 0.        , 0.        ,\n",
       "       0.        , 0.        , 0.        , 0.04388515, 0.        ,\n",
       "       0.        , 0.        , 0.        , 0.        , 0.        ,\n",
       "       0.        , 0.        , 0.01706231, 0.        , 0.        ,\n",
       "       0.        , 0.        , 0.        , 0.        , 0.        ,\n",
       "       0.        , 0.        , 0.        , 0.        , 0.        ,\n",
       "       0.        , 0.        , 0.0151423 , 0.        , 0.        ,\n",
       "       0.        , 0.        , 0.06407017, 0.        , 0.        ,\n",
       "       0.        , 0.        , 0.        , 0.        , 0.        ,\n",
       "       0.03411649, 0.03560975, 0.02878795, 0.        , 0.        ,\n",
       "       0.        , 0.        , 0.        , 0.02574748, 0.        ,\n",
       "       0.        , 0.        , 0.0198376 , 0.        , 0.        ,\n",
       "       0.        , 0.        , 0.        , 0.        , 0.        ,\n",
       "       0.        , 0.        , 0.        , 0.01322222, 0.        ,\n",
       "       0.        , 0.        , 0.00987222, 0.        , 0.        ,\n",
       "       0.        , 0.        , 0.        , 0.        , 0.        ,\n",
       "       0.        , 0.        , 0.        , 0.        , 0.        ,\n",
       "       0.        , 0.        , 0.        , 0.        , 0.        ,\n",
       "       0.        , 0.02472011, 0.04114273, 0.        , 0.        ,\n",
       "       0.        , 0.0081456 , 0.        , 0.        , 0.        ,\n",
       "       0.01380406, 0.        , 0.        , 0.        , 0.02957265,\n",
       "       0.        , 0.02127884, 0.        , 0.        , 0.        ,\n",
       "       0.        , 0.        , 0.00895249, 0.        , 0.        ,\n",
       "       0.01981854, 0.        , 0.        , 0.        , 0.        ,\n",
       "       0.        , 0.        , 0.        , 0.01097646, 0.        ,\n",
       "       0.        , 0.        , 0.        , 0.        , 0.02232001,\n",
       "       0.        , 0.01386401, 0.        , 0.        , 0.        ,\n",
       "       0.        , 0.        , 0.        , 0.        , 0.        ,\n",
       "       0.        , 0.        , 0.        , 0.        , 0.        ,\n",
       "       0.        , 0.        , 0.        , 0.02875204, 0.        ,\n",
       "       0.        , 0.        , 0.        , 0.        , 0.        ,\n",
       "       0.        , 0.        , 0.        , 0.0270031 , 0.01378679,\n",
       "       0.26607664, 0.        , 0.03801812, 0.        , 0.        ,\n",
       "       0.        , 0.        , 0.        , 0.        , 0.        ,\n",
       "       0.        , 0.        , 0.        , 0.        , 0.        ,\n",
       "       0.        , 0.        , 0.        , 0.        , 0.        ,\n",
       "       0.        , 0.        , 0.        , 0.        , 0.00911484,\n",
       "       0.        , 0.        , 0.        , 0.        , 0.        ,\n",
       "       0.        , 0.        , 0.01927437, 0.04982011, 0.        ,\n",
       "       0.        , 0.        , 0.        , 0.        , 0.        ,\n",
       "       0.        , 0.        , 0.        , 0.        , 0.        ,\n",
       "       0.        , 0.        , 0.        , 0.        , 0.0197906 ,\n",
       "       0.        , 0.        , 0.        , 0.        , 0.        ,\n",
       "       0.        , 0.        , 0.        , 0.        , 0.        ,\n",
       "       0.01142275, 0.        , 0.        , 0.        , 0.        ,\n",
       "       0.        , 0.01797181, 0.        , 0.        , 0.        ,\n",
       "       0.        , 0.        , 0.        , 0.        , 0.        ,\n",
       "       0.        , 0.        , 0.        , 0.        , 0.0276468 ,\n",
       "       0.        , 0.        , 0.01873489, 0.08844653, 0.        ,\n",
       "       0.00813271, 0.        , 0.        , 0.        , 0.        ,\n",
       "       0.        , 0.        , 0.        , 0.        , 0.        ,\n",
       "       0.        , 0.        , 0.        , 0.        , 0.00870725,\n",
       "       0.        , 0.        , 0.        , 0.        , 0.        ,\n",
       "       0.        , 0.02894266, 0.        , 0.01846116, 0.        ,\n",
       "       0.        , 0.        , 0.        , 0.02564093, 0.00869828,\n",
       "       0.        , 0.        , 0.        , 0.00785484, 0.        ,\n",
       "       0.        , 0.        , 0.        , 0.        , 0.        ,\n",
       "       0.        , 0.        , 0.02260091, 0.        , 0.        ,\n",
       "       0.        , 0.        , 0.01505703, 0.03221017, 0.        ,\n",
       "       0.        , 0.        , 0.        , 0.        , 0.        ,\n",
       "       0.        , 0.        , 0.        , 0.00637453, 0.        ,\n",
       "       0.03473368, 0.        , 0.        , 0.02518565, 0.        ,\n",
       "       0.        , 0.        , 0.01536493, 0.02545115, 0.        ,\n",
       "       0.02309283, 0.02020806, 0.        , 0.        , 0.        ,\n",
       "       0.06785722, 0.        , 0.        , 0.        , 0.        ,\n",
       "       0.        , 0.        , 0.        , 0.        , 0.        ,\n",
       "       0.        , 0.        , 0.00688134, 0.        , 0.        ,\n",
       "       0.        , 0.        , 0.        , 0.        , 0.        ,\n",
       "       0.03126034, 0.01472463, 0.        , 0.        , 0.        ,\n",
       "       0.        , 0.        , 0.        , 0.        , 0.        ,\n",
       "       0.        , 0.        , 0.        , 0.        , 0.        ,\n",
       "       0.        , 0.        , 0.        , 0.        , 0.        ,\n",
       "       0.00855012, 0.        , 0.        , 0.02407142, 0.        ,\n",
       "       0.        , 0.        , 0.        , 0.        , 0.        ,\n",
       "       0.04583645, 0.        , 0.        , 0.        , 0.        ,\n",
       "       0.        , 0.        , 0.01339027, 0.00802261, 0.        ,\n",
       "       0.00643895, 0.        , 0.01695788, 0.        , 0.        ,\n",
       "       0.        , 0.        , 0.0215564 , 0.        , 0.        ,\n",
       "       0.        , 0.        , 0.        , 0.        , 0.        ,\n",
       "       0.        , 0.        , 0.        , 0.        , 0.        ,\n",
       "       0.        , 0.        , 0.        , 0.        , 0.        ,\n",
       "       0.        , 0.        , 0.        , 0.02005841, 0.01201996,\n",
       "       0.        , 0.        , 0.        , 0.01792882, 0.00936419,\n",
       "       0.        , 0.01346705, 0.        , 0.00773448, 0.        ,\n",
       "       0.        , 0.        , 0.01776927, 0.01816191, 0.09980051,\n",
       "       0.        , 0.        , 0.        , 0.00927526, 0.        ,\n",
       "       0.        , 0.        , 0.00895676, 0.        , 0.        ,\n",
       "       0.02753823, 0.01504103, 0.        , 0.        , 0.        ,\n",
       "       0.        , 0.        , 0.02075445, 0.        , 0.        ,\n",
       "       0.        , 0.        , 0.        , 0.        , 0.03984042,\n",
       "       0.        , 0.        , 0.03633923, 0.        , 0.        ,\n",
       "       0.        , 0.        , 0.        , 0.        , 0.        ,\n",
       "       0.        , 0.        , 0.        , 0.        , 0.        ,\n",
       "       0.        , 0.        , 0.        , 0.0260668 , 0.        ,\n",
       "       0.        , 0.        , 0.        , 0.        , 0.01941334,\n",
       "       0.        , 0.        , 0.        , 0.00927745, 0.        ,\n",
       "       0.        , 0.        , 0.        , 0.        , 0.        ,\n",
       "       0.        , 0.01936667, 0.        , 0.        , 0.        ,\n",
       "       0.        , 0.        , 0.        , 0.        , 0.        ,\n",
       "       0.        , 0.        , 0.00471633, 0.02568493, 0.        ,\n",
       "       0.        , 0.        , 0.02117709, 0.        , 0.        ,\n",
       "       0.        , 0.        , 0.        , 0.        , 0.01434157,\n",
       "       0.        , 0.        , 0.01780399, 0.        , 0.01387091,\n",
       "       0.        , 0.        , 0.        , 0.        , 0.        ,\n",
       "       0.        , 0.        , 0.        , 0.01560788, 0.        ,\n",
       "       0.        , 0.        , 0.        , 0.02589824, 0.        ,\n",
       "       0.        , 0.        , 0.        , 0.        , 0.        ,\n",
       "       0.01899623, 0.        , 0.        , 0.        , 0.        ,\n",
       "       0.        , 0.        , 0.        , 0.        , 0.        ,\n",
       "       0.        , 0.        , 0.        , 0.02804803, 0.01670449,\n",
       "       0.        , 0.        , 0.01510184, 0.        , 0.        ,\n",
       "       0.        , 0.        , 0.0055799 , 0.18090754, 0.        ,\n",
       "       0.        , 0.        , 0.        , 0.        , 0.        ,\n",
       "       0.        , 0.        , 0.01177562, 0.01494468, 0.        ,\n",
       "       0.        , 0.00775335, 0.        , 0.        , 0.        ,\n",
       "       0.        , 0.        , 0.        , 0.00760315, 0.        ,\n",
       "       0.        , 0.        , 0.        , 0.        , 0.        ,\n",
       "       0.03670866, 0.        , 0.        , 0.        , 0.02551117,\n",
       "       0.        , 0.        , 0.        , 0.        , 0.        ,\n",
       "       0.        , 0.        , 0.        , 0.02421753, 0.        ,\n",
       "       0.        , 0.        , 0.        , 0.00829497, 0.        ,\n",
       "       0.        , 0.        , 0.        , 0.        , 0.        ,\n",
       "       0.        , 0.        , 0.        , 0.        , 0.        ,\n",
       "       0.        , 0.02770051, 0.        , 0.        , 0.        ,\n",
       "       0.02740271, 0.        , 0.03437005, 0.02728716, 0.        ,\n",
       "       0.01289044, 0.        , 0.        , 0.01225888, 0.        ,\n",
       "       0.        , 0.        , 0.        , 0.04072749, 0.        ,\n",
       "       0.        , 0.        , 0.0100086 , 0.        , 0.        ,\n",
       "       0.        , 0.        , 0.        , 1.        , 0.        ])"
      ]
     },
     "execution_count": 28,
     "metadata": {},
     "output_type": "execute_result"
    }
   ],
   "source": [
    "similarity_one_idx"
   ]
  },
  {
   "cell_type": "markdown",
   "id": "f0774c92",
   "metadata": {},
   "source": [
    "- 1. argsort는 값을 오름차순으로 정렬할 때 해당하는 인덱스를 반환.\n",
    "- 2. argsort에 역순을 취해 가장 유사한 인덱스가 앞으로 오도록 정렬."
   ]
  },
  {
   "cell_type": "code",
   "execution_count": 27,
   "id": "a82f065e",
   "metadata": {},
   "outputs": [],
   "source": [
    "order_idx = similarity_one_idx.argsort()[::-1]"
   ]
  },
  {
   "cell_type": "code",
   "execution_count": 30,
   "id": "9818203d",
   "metadata": {},
   "outputs": [
    {
     "data": {
      "text/plain": [
       "array([998, 515, 913, 215, 779, 598,  43, 150, 675,   3, 392, 148, 181,\n",
       "        25,  99, 231, 241, 548, 725, 363, 331, 447, 988, 207, 270, 804,\n",
       "       256, 517, 940, 807, 401, 319, 245, 660, 977, 400,  18, 648,  11,\n",
       "       695, 459, 621, 402, 503, 903, 135, 971, 594, 790, 975, 185, 978,\n",
       "       513, 823, 883, 408, 853, 628, 944, 668, 663,  64, 446, 147, 953,\n",
       "       718, 240, 264, 670, 642, 484, 742, 461, 857, 178, 797, 295, 671,\n",
       "       763, 412, 470, 564, 243,  54, 268, 829, 841, 547, 890,   8, 597,\n",
       "        13, 623, 778, 581, 768, 316, 867, 777, 133], dtype=int64)"
      ]
     },
     "execution_count": 30,
     "metadata": {},
     "output_type": "execute_result"
    }
   ],
   "source": [
    "order_idx[:100]"
   ]
  },
  {
   "cell_type": "code",
   "execution_count": 31,
   "id": "5fa27abc",
   "metadata": {},
   "outputs": [
    {
     "data": {
      "text/plain": [
       "array([998, 515, 913, 215, 779, 598], dtype=int64)"
      ]
     },
     "execution_count": 31,
     "metadata": {},
     "output_type": "execute_result"
    }
   ],
   "source": [
    "top5 = order_idx[:6]\n",
    "top5"
   ]
  },
  {
   "cell_type": "markdown",
   "id": "dfce20eb",
   "metadata": {},
   "source": [
    "기존 데이터에서 각 인덱스에 해당하는 영화의 제목"
   ]
  },
  {
   "cell_type": "code",
   "execution_count": 32,
   "id": "69db68ac",
   "metadata": {},
   "outputs": [
    {
     "data": {
      "text/plain": [
       "998      Robin Hood: Prince of Thieves\n",
       "515          Robin Hood: Men in Tights\n",
       "913       The Adventures of Robin Hood\n",
       "215                   Boys on the Side\n",
       "779                          Lone Star\n",
       "598    Candyman: Farewell to the Flesh\n",
       "Name: title, dtype: object"
      ]
     },
     "execution_count": 32,
     "metadata": {},
     "output_type": "execute_result"
    }
   ],
   "source": [
    "df.loc[top5, 'title']"
   ]
  },
  {
   "cell_type": "markdown",
   "id": "e8505d1a",
   "metadata": {},
   "source": [
    "Robin Hood 영화가 추천되는 것을 확인할 수 있음."
   ]
  },
  {
   "cell_type": "code",
   "execution_count": null,
   "id": "bec397b4",
   "metadata": {},
   "outputs": [],
   "source": []
  }
 ],
 "metadata": {
  "kernelspec": {
   "display_name": "Python 3 (ipykernel)",
   "language": "python",
   "name": "python3"
  },
  "language_info": {
   "codemirror_mode": {
    "name": "ipython",
    "version": 3
   },
   "file_extension": ".py",
   "mimetype": "text/x-python",
   "name": "python",
   "nbconvert_exporter": "python",
   "pygments_lexer": "ipython3",
   "version": "3.8.6"
  }
 },
 "nbformat": 4,
 "nbformat_minor": 5
}
