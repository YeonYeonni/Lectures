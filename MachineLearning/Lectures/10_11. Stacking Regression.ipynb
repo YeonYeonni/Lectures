{
 "cells": [
  {
   "cell_type": "markdown",
   "id": "71dc7287",
   "metadata": {},
   "source": [
    "## 샘플 데이터와 Stacking Regression"
   ]
  },
  {
   "cell_type": "code",
   "execution_count": 1,
   "id": "09669e5d",
   "metadata": {},
   "outputs": [],
   "source": [
    "import pandas as pd\n",
    "import numpy as np\n",
    "import matplotlib.pyplot as plt\n",
    "\n",
    "np.random.seed(2021)"
   ]
  },
  {
   "cell_type": "markdown",
   "id": "f893c148",
   "metadata": {},
   "source": [
    "## 1. Data"
   ]
  },
  {
   "cell_type": "markdown",
   "id": "f8551e44",
   "metadata": {},
   "source": [
    "### 1.1 Sample Data"
   ]
  },
  {
   "cell_type": "code",
   "execution_count": 2,
   "id": "4ba91009",
   "metadata": {},
   "outputs": [],
   "source": [
    "from sklearn.datasets import make_regression\n",
    "\n",
    "data, label = make_regression(n_samples=1000, n_features=20, n_informative=15, noise=0.1, random_state=1)"
   ]
  },
  {
   "cell_type": "markdown",
   "id": "23af816c",
   "metadata": {},
   "source": [
    "- n_samples: 샘플 데이터 수\n",
    "- n_features: 변수의 수\n",
    "- n_informative: 의미 변수"
   ]
  },
  {
   "cell_type": "code",
   "execution_count": 3,
   "id": "a36e1cc2",
   "metadata": {},
   "outputs": [
    {
     "data": {
      "text/plain": [
       "((1000, 20), (1000,))"
      ]
     },
     "execution_count": 3,
     "metadata": {},
     "output_type": "execute_result"
    }
   ],
   "source": [
    "data.shape, label.shape"
   ]
  },
  {
   "cell_type": "markdown",
   "id": "061cd5b0",
   "metadata": {},
   "source": [
    "### 1.2 EDA"
   ]
  },
  {
   "cell_type": "code",
   "execution_count": 4,
   "id": "c68481e7",
   "metadata": {},
   "outputs": [],
   "source": [
    "from sklearn.decomposition import PCA\n",
    "\n",
    "pca = PCA(n_components=1)"
   ]
  },
  {
   "cell_type": "code",
   "execution_count": 5,
   "id": "83a66cc0",
   "metadata": {},
   "outputs": [],
   "source": [
    "pca_data = pca.fit_transform(data)"
   ]
  },
  {
   "cell_type": "code",
   "execution_count": 6,
   "id": "58edc394",
   "metadata": {},
   "outputs": [
    {
     "data": {
      "text/plain": [
       "<matplotlib.collections.PathCollection at 0x20505f26400>"
      ]
     },
     "execution_count": 6,
     "metadata": {},
     "output_type": "execute_result"
    },
    {
     "data": {
      "image/png": "[encoded data removed]",
      "text/plain": [
       "<Figure size 432x288 with 1 Axes>"
      ]
     },
     "metadata": {
      "needs_background": "light"
     },
     "output_type": "display_data"
    }
   ],
   "source": [
    "plt.scatter(pca_data, label)"
   ]
  },
  {
   "cell_type": "markdown",
   "id": "58e6b640",
   "metadata": {},
   "source": [
    "### 1.3 Data Split"
   ]
  },
  {
   "cell_type": "code",
   "execution_count": 7,
   "id": "8f6d0687",
   "metadata": {},
   "outputs": [],
   "source": [
    "from sklearn.model_selection import train_test_split\n",
    "\n",
    "train_data, test_data, train_label, test_label = train_test_split(\n",
    "    data, label, train_size=0.7, random_state=2021\n",
    ")"
   ]
  },
  {
   "cell_type": "markdown",
   "id": "01f9bdaf",
   "metadata": {},
   "source": [
    "## 2. 개별 모델의 성능"
   ]
  },
  {
   "cell_type": "code",
   "execution_count": 8,
   "id": "ab53a76a",
   "metadata": {},
   "outputs": [],
   "source": [
    "from sklearn.neighbors import KNeighborsRegressor\n",
    "from sklearn.tree import DecisionTreeRegressor\n",
    "from sklearn.svm import SVR"
   ]
  },
  {
   "cell_type": "code",
   "execution_count": 9,
   "id": "e42b4e08",
   "metadata": {},
   "outputs": [],
   "source": [
    "models = {\n",
    "    'knn': KNeighborsRegressor(),\n",
    "    'tree': DecisionTreeRegressor(),\n",
    "    'svm': SVR(),\n",
    "}"
   ]
  },
  {
   "cell_type": "code",
   "execution_count": 11,
   "id": "199f3c2c",
   "metadata": {},
   "outputs": [],
   "source": [
    "from sklearn.metrics import mean_absolute_error\n",
    "from sklearn.model_selection import cross_val_score"
   ]
  },
  {
   "cell_type": "code",
   "execution_count": 14,
   "id": "fcd31110",
   "metadata": {},
   "outputs": [
    {
     "data": {
      "text/plain": [
       "dict_items([('knn', KNeighborsRegressor()), ('tree', DecisionTreeRegressor()), ('svm', SVR())])"
      ]
     },
     "execution_count": 14,
     "metadata": {},
     "output_type": "execute_result"
    }
   ],
   "source": [
    "models.items()"
   ]
  },
  {
   "cell_type": "code",
   "execution_count": 13,
   "id": "c9271c5d",
   "metadata": {},
   "outputs": [],
   "source": [
    "names = []\n",
    "results = []\n",
    "for name, model in models.items():\n",
    "    result = cross_val_score(model, train_data, train_label, cv=3, scoring='neg_mean_absolute_error')\n",
    "    names += [name]\n",
    "    results += [result]"
   ]
  },
  {
   "cell_type": "markdown",
   "id": "42ccec88",
   "metadata": {},
   "source": [
    "- cv: K-fold 수"
   ]
  },
  {
   "cell_type": "code",
   "execution_count": 15,
   "id": "eb4fc260",
   "metadata": {},
   "outputs": [
    {
     "data": {
      "text/plain": [
       "dict_keys(['explained_variance', 'r2', 'max_error', 'neg_median_absolute_error', 'neg_mean_absolute_error', 'neg_mean_squared_error', 'neg_mean_squared_log_error', 'neg_root_mean_squared_error', 'neg_mean_poisson_deviance', 'neg_mean_gamma_deviance', 'accuracy', 'roc_auc', 'roc_auc_ovr', 'roc_auc_ovo', 'roc_auc_ovr_weighted', 'roc_auc_ovo_weighted', 'balanced_accuracy', 'average_precision', 'neg_log_loss', 'neg_brier_score', 'adjusted_rand_score', 'homogeneity_score', 'completeness_score', 'v_measure_score', 'mutual_info_score', 'adjusted_mutual_info_score', 'normalized_mutual_info_score', 'fowlkes_mallows_score', 'precision', 'precision_macro', 'precision_micro', 'precision_samples', 'precision_weighted', 'recall', 'recall_macro', 'recall_micro', 'recall_samples', 'recall_weighted', 'f1', 'f1_macro', 'f1_micro', 'f1_samples', 'f1_weighted', 'jaccard', 'jaccard_macro', 'jaccard_micro', 'jaccard_samples', 'jaccard_weighted'])"
      ]
     },
     "execution_count": 15,
     "metadata": {},
     "output_type": "execute_result"
    }
   ],
   "source": [
    "import sklearn\n",
    "sklearn.metrics.SCORERS.keys()"
   ]
  },
  {
   "cell_type": "markdown",
   "id": "f5ab07ea",
   "metadata": {},
   "source": [
    "사이킷런에서 사용할 수 있는 점수들."
   ]
  },
  {
   "cell_type": "code",
   "execution_count": 16,
   "id": "20e89757",
   "metadata": {},
   "outputs": [
    {
     "data": {
      "text/plain": [
       "[array([-105.03162689, -105.83152462, -102.13684464]),\n",
       " array([-174.56490359, -157.39573567, -154.74981438]),\n",
       " array([-169.94710581, -171.22395842, -162.4710332 ])]"
      ]
     },
     "execution_count": 16,
     "metadata": {},
     "output_type": "execute_result"
    }
   ],
   "source": [
    "results"
   ]
  },
  {
   "cell_type": "code",
   "execution_count": 17,
   "id": "5804fc49",
   "metadata": {},
   "outputs": [
    {
     "data": {
      "image/png": "[encoded data removed]",
      "text/plain": [
       "<Figure size 576x576 with 1 Axes>"
      ]
     },
     "metadata": {
      "needs_background": "light"
     },
     "output_type": "display_data"
    }
   ],
   "source": [
    "plt.figure(figsize=(8, 8))\n",
    "plt.boxplot(results, labels=names)\n",
    "plt.show()"
   ]
  },
  {
   "cell_type": "markdown",
   "id": "b5da4736",
   "metadata": {},
   "source": [
    "KNN이 가장 예측을 잘 함."
   ]
  },
  {
   "cell_type": "code",
   "execution_count": 18,
   "id": "7188b31f",
   "metadata": {},
   "outputs": [
    {
     "name": "stdout",
     "output_type": "stream",
     "text": [
      "Model knn test mean absolute error is 97.77\n",
      "Model tree test mean absolute error is 162.7\n",
      "Model svm test mean absolute error is 162.6\n"
     ]
    }
   ],
   "source": [
    "for name, model in models.items():\n",
    "    model.fit(train_data, train_label)\n",
    "    test_pred = model.predict(test_data)\n",
    "    acc = mean_absolute_error(test_label, test_pred)\n",
    "    print(f\"Model {name} test mean absolute error is {acc:.4}\")"
   ]
  },
  {
   "cell_type": "markdown",
   "id": "a0b09d7d",
   "metadata": {},
   "source": [
    "## 3. Stacking"
   ]
  },
  {
   "cell_type": "code",
   "execution_count": 19,
   "id": "a99449a6",
   "metadata": {},
   "outputs": [],
   "source": [
    "from sklearn.ensemble import StackingRegressor\n",
    "from sklearn.linear_model import LinearRegression"
   ]
  },
  {
   "cell_type": "code",
   "execution_count": 21,
   "id": "baed098f",
   "metadata": {},
   "outputs": [],
   "source": [
    "stacking = StackingRegressor(\n",
    "    estimators=list(models.items()),\n",
    "    final_estimator=LinearRegression(),\n",
    "    cv=3\n",
    ")"
   ]
  },
  {
   "cell_type": "markdown",
   "id": "bdd9f7e7",
   "metadata": {},
   "source": [
    "- estimators: stacking에서 사용할 모델들.\n",
    "- final_estimator: Meta Model.\n",
    "- cv: cross validation. Stacking에서 자체적으로 제공."
   ]
  },
  {
   "cell_type": "code",
   "execution_count": 23,
   "id": "e4a7ee82",
   "metadata": {},
   "outputs": [],
   "source": [
    "stacking_result = cross_val_score(stacking, train_data, train_label, cv=3, scoring='neg_mean_absolute_error')"
   ]
  },
  {
   "cell_type": "code",
   "execution_count": 24,
   "id": "779f59b5",
   "metadata": {},
   "outputs": [
    {
     "data": {
      "text/plain": [
       "array([-95.75597599, -83.79885798, -92.33185322])"
      ]
     },
     "execution_count": 24,
     "metadata": {},
     "output_type": "execute_result"
    }
   ],
   "source": [
    "stacking_result"
   ]
  },
  {
   "cell_type": "code",
   "execution_count": 25,
   "id": "40c2bede",
   "metadata": {},
   "outputs": [],
   "source": [
    "all_result = []\n",
    "all_result.extend(results)\n",
    "all_result.append(stacking_result)"
   ]
  },
  {
   "cell_type": "code",
   "execution_count": 26,
   "id": "75d755b7",
   "metadata": {},
   "outputs": [
    {
     "data": {
      "image/png": "[encoded data removed]",
      "text/plain": [
       "<Figure size 576x576 with 1 Axes>"
      ]
     },
     "metadata": {
      "needs_background": "light"
     },
     "output_type": "display_data"
    }
   ],
   "source": [
    "plt.figure(figsize=(8, 8))\n",
    "plt.boxplot(all_result, labels=names + ['stacking'])\n",
    "plt.show()"
   ]
  },
  {
   "cell_type": "code",
   "execution_count": 27,
   "id": "fd8f55f6",
   "metadata": {},
   "outputs": [
    {
     "name": "stdout",
     "output_type": "stream",
     "text": [
      "Model knn test mean absolute error is 97.77\n",
      "Model tree test mean absolute error is 162.7\n",
      "Model svm test mean absolute error is 162.6\n",
      "Model stacking mean absolute error is 82.81\n"
     ]
    }
   ],
   "source": [
    "for name, model in models.items():\n",
    "    test_pred = model.predict(test_data)\n",
    "    acc = mean_absolute_error(test_label, test_pred)\n",
    "    print(f\"Model {name} test mean absolute error is {acc:.4}\")\n",
    "    \n",
    "stacking.fit(train_data, train_label)\n",
    "stacking_pred = stacking.predict(test_data)\n",
    "stacking_mae = mean_absolute_error(test_label, stacking_pred)\n",
    "print(f\"Model stacking mean absolute error is {stacking_mae:.4}\")"
   ]
  },
  {
   "cell_type": "code",
   "execution_count": null,
   "id": "b5f7193e",
   "metadata": {},
   "outputs": [],
   "source": []
  }
 ],
 "metadata": {
  "kernelspec": {
   "display_name": "Python 3 (ipykernel)",
   "language": "python",
   "name": "python3"
  },
  "language_info": {
   "codemirror_mode": {
    "name": "ipython",
    "version": 3
   },
   "file_extension": ".py",
   "mimetype": "text/x-python",
   "name": "python",
   "nbconvert_exporter": "python",
   "pygments_lexer": "ipython3",
   "version": "3.8.6"
  }
 },
 "nbformat": 4,
 "nbformat_minor": 5
}
