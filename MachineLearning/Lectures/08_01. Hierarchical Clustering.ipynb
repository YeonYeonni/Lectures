{
 "cells": [
  {
   "cell_type": "markdown",
   "id": "ac9f3d22",
   "metadata": {},
   "source": [
    "## 샘플 데이터와 Hierarchical Clustering"
   ]
  },
  {
   "cell_type": "code",
   "execution_count": 11,
   "id": "4bd6d530",
   "metadata": {},
   "outputs": [],
   "source": [
    "import pandas as pd\n",
    "import numpy as np\n",
    "import matplotlib.pyplot as plt\n",
    "\n",
    "np.random.seed(2021)"
   ]
  },
  {
   "cell_type": "markdown",
   "id": "357b57a6",
   "metadata": {},
   "source": [
    "## 1. Data"
   ]
  },
  {
   "cell_type": "markdown",
   "id": "0de31733",
   "metadata": {},
   "source": [
    "### 1.1 Sample data"
   ]
  },
  {
   "cell_type": "code",
   "execution_count": 12,
   "id": "cad50938",
   "metadata": {},
   "outputs": [],
   "source": [
    "data = np.array(\n",
    "    [\n",
    "        (1, 5),\n",
    "        (2, 4),\n",
    "        (4, 6),\n",
    "        (4, 3),\n",
    "        (5, 3),\n",
    "    ]\n",
    ")"
   ]
  },
  {
   "cell_type": "code",
   "execution_count": 13,
   "id": "662ab6e7",
   "metadata": {},
   "outputs": [
    {
     "data": {
      "text/plain": [
       "array([[1, 5],\n",
       "       [2, 4],\n",
       "       [4, 6],\n",
       "       [4, 3],\n",
       "       [5, 3]])"
      ]
     },
     "execution_count": 13,
     "metadata": {},
     "output_type": "execute_result"
    }
   ],
   "source": [
    "data"
   ]
  },
  {
   "cell_type": "markdown",
   "id": "086c2676",
   "metadata": {},
   "source": [
    "## 2. Hierarchical Clustering"
   ]
  },
  {
   "cell_type": "markdown",
   "id": "cb4108a7",
   "metadata": {},
   "source": [
    "AgglomerativeClustering 이용.\n",
    "\n",
    "강의에서 배운 4가지 연결법\n",
    "1. 최단 연결법\n",
    "2. 최장 연결법\n",
    "3. 평균 연결법\n",
    "4. 중심 연결법\n",
    "\n",
    "linkage argument\n",
    "- average\n",
    "    - 평균 연결법\n",
    "- complete\n",
    "    - 최장 연결법\n",
    "- single\n",
    "    - 최단 연결법\n",
    "- ward\n",
    "    - 중심 연결법 (default)"
   ]
  },
  {
   "cell_type": "markdown",
   "id": "918a84a5",
   "metadata": {},
   "source": [
    "### 2.1 학습\n",
    "\n",
    "- 최단 연결법"
   ]
  },
  {
   "cell_type": "code",
   "execution_count": 14,
   "id": "4ea6a521",
   "metadata": {},
   "outputs": [],
   "source": [
    "from sklearn.cluster import AgglomerativeClustering\n",
    "\n",
    "single_cluster = AgglomerativeClustering(\n",
    "    distance_threshold=0, n_clusters=None, linkage='single'\n",
    ")"
   ]
  },
  {
   "cell_type": "code",
   "execution_count": 15,
   "id": "b8a04f67",
   "metadata": {},
   "outputs": [
    {
     "data": {
      "text/plain": [
       "AgglomerativeClustering(distance_threshold=0, linkage='single', n_clusters=None)"
      ]
     },
     "execution_count": 15,
     "metadata": {},
     "output_type": "execute_result"
    }
   ],
   "source": [
    "single_cluster.fit(data)\n",
    "\n",
    "# label이 따로 필요 없음."
   ]
  },
  {
   "cell_type": "markdown",
   "id": "04118bfc",
   "metadata": {},
   "source": [
    "### 2.2 Dendrogram"
   ]
  },
  {
   "cell_type": "code",
   "execution_count": 16,
   "id": "bf095274",
   "metadata": {},
   "outputs": [],
   "source": [
    "from scipy.cluster.hierarchy import dendrogram\n",
    "\n",
    "def plot_dendrogram(model, **kwargs):\n",
    "    counts = np.zeros(model.children_.shape[0])\n",
    "    n_samples = len(model.labels_)\n",
    "    for i, merge in enumerate(model.children_):\n",
    "        current_count = 0\n",
    "        for child_idx in merge:\n",
    "            if child_idx < n_samples:\n",
    "                current_count += 1 # leaf node\n",
    "            else:\n",
    "                current_count += counts[child_idx - n_samples]\n",
    "        counts[i] = current_count\n",
    "        \n",
    "    linkage_matrix = np.column_stack([model.children_, model.distances_,\n",
    "                                      counts]).astype(float)\n",
    "    \n",
    "    dendrogram(linkage_matrix, **kwargs, labels=['A', 'B', 'C', 'D', 'E'])"
   ]
  },
  {
   "cell_type": "code",
   "execution_count": 17,
   "id": "6a93540c",
   "metadata": {},
   "outputs": [
    {
     "data": {
      "image/png": "[encoded data removed]",
      "text/plain": [
       "<Figure size 432x288 with 1 Axes>"
      ]
     },
     "metadata": {
      "needs_background": "light"
     },
     "output_type": "display_data"
    }
   ],
   "source": [
    "plt.title('Hierarchical Clustering Dendrogram with single linkage')\n",
    "plot_dendrogram(single_cluster, truncate_mode='level', p=3)\n",
    "plt.show()"
   ]
  },
  {
   "cell_type": "markdown",
   "id": "a10a5fc3",
   "metadata": {},
   "source": [
    "### 2.3 여러 개의 클러스터\n",
    "\n",
    "- 위에서 사용한 argument들은 데이터 전부를 묶는 방식의 Clustering.\n",
    "- 아래에선 n개의 clustering으로 만들기."
   ]
  },
  {
   "cell_type": "markdown",
   "id": "8d0264be",
   "metadata": {},
   "source": [
    "### 2.3.1 2개의 클러스터"
   ]
  },
  {
   "cell_type": "code",
   "execution_count": 18,
   "id": "537292ba",
   "metadata": {},
   "outputs": [],
   "source": [
    "single_cluster_2 = AgglomerativeClustering(\n",
    "    n_clusters=2, linkage='single'\n",
    ")"
   ]
  },
  {
   "cell_type": "code",
   "execution_count": 19,
   "id": "2814695a",
   "metadata": {},
   "outputs": [
    {
     "data": {
      "text/plain": [
       "AgglomerativeClustering(linkage='single')"
      ]
     },
     "execution_count": 19,
     "metadata": {},
     "output_type": "execute_result"
    }
   ],
   "source": [
    "single_cluster_2.fit(data)"
   ]
  },
  {
   "cell_type": "code",
   "execution_count": 22,
   "id": "2f12c55d",
   "metadata": {},
   "outputs": [
    {
     "data": {
      "text/plain": [
       "array([0, 0, 1, 0, 0], dtype=int64)"
      ]
     },
     "execution_count": 22,
     "metadata": {},
     "output_type": "execute_result"
    }
   ],
   "source": [
    "single_cluster_2.labels_\n",
    "\n",
    "# A, B, C, D, E"
   ]
  },
  {
   "cell_type": "code",
   "execution_count": 21,
   "id": "048e5657",
   "metadata": {},
   "outputs": [
    {
     "data": {
      "image/png": "[encoded data removed]",
      "text/plain": [
       "<Figure size 504x504 with 1 Axes>"
      ]
     },
     "metadata": {
      "needs_background": "light"
     },
     "output_type": "display_data"
    }
   ],
   "source": [
    "plt.figure(figsize=(7, 7))\n",
    "plt.scatter(data[:, 0], data[:, 1], c=single_cluster_2.labels_)\n",
    "for i, txt in enumerate(['A', 'B', 'C', 'D', 'E']):\n",
    "    plt.annotate(txt, (data[i, 0], data[i, 1]))"
   ]
  },
  {
   "cell_type": "markdown",
   "id": "7b54e2cc",
   "metadata": {},
   "source": [
    "### 2.3.2 3개의 클러스터\n",
    "\n",
    "- 위 dendrogram의 결과로 예상할 수 있음."
   ]
  },
  {
   "cell_type": "code",
   "execution_count": 23,
   "id": "4eb53763",
   "metadata": {},
   "outputs": [],
   "source": [
    "single_cluster_3 = AgglomerativeClustering(\n",
    "    n_clusters=3, linkage='single'\n",
    ")"
   ]
  },
  {
   "cell_type": "code",
   "execution_count": 24,
   "id": "15ed67da",
   "metadata": {},
   "outputs": [
    {
     "data": {
      "text/plain": [
       "AgglomerativeClustering(linkage='single', n_clusters=3)"
      ]
     },
     "execution_count": 24,
     "metadata": {},
     "output_type": "execute_result"
    }
   ],
   "source": [
    "single_cluster_3.fit(data)"
   ]
  },
  {
   "cell_type": "code",
   "execution_count": 25,
   "id": "179b40a1",
   "metadata": {},
   "outputs": [
    {
     "data": {
      "text/plain": [
       "array([0, 0, 1, 2, 2], dtype=int64)"
      ]
     },
     "execution_count": 25,
     "metadata": {},
     "output_type": "execute_result"
    }
   ],
   "source": [
    "single_cluster_3.labels_"
   ]
  },
  {
   "cell_type": "code",
   "execution_count": 26,
   "id": "4a16322e",
   "metadata": {},
   "outputs": [
    {
     "data": {
      "image/png": "[encoded data removed]",
      "text/plain": [
       "<Figure size 504x504 with 1 Axes>"
      ]
     },
     "metadata": {
      "needs_background": "light"
     },
     "output_type": "display_data"
    }
   ],
   "source": [
    "plt.figure(figsize=(7, 7))\n",
    "plt.scatter(data[:, 0], data[:, 1], c=single_cluster_3.labels_)\n",
    "for i, txt in enumerate(['A', 'B', 'C', 'D', 'E']):\n",
    "    plt.annotate(txt, (data[i, 0], data[i, 1]))"
   ]
  },
  {
   "cell_type": "markdown",
   "id": "4e0b9f94",
   "metadata": {},
   "source": [
    "## 3. 다른 연결법"
   ]
  },
  {
   "cell_type": "markdown",
   "id": "4c4faa6f",
   "metadata": {},
   "source": [
    "### 3.1 평균 연결법"
   ]
  },
  {
   "cell_type": "code",
   "execution_count": 36,
   "id": "2b336758",
   "metadata": {},
   "outputs": [],
   "source": [
    "avg_cluster = AgglomerativeClustering(\n",
    "    distance_threshold=0, n_clusters=None, linkage='average'\n",
    ")"
   ]
  },
  {
   "cell_type": "code",
   "execution_count": 37,
   "id": "09c369d5",
   "metadata": {},
   "outputs": [
    {
     "data": {
      "text/plain": [
       "AgglomerativeClustering(distance_threshold=0, linkage='average',\n",
       "                        n_clusters=None)"
      ]
     },
     "execution_count": 37,
     "metadata": {},
     "output_type": "execute_result"
    }
   ],
   "source": [
    "avg_cluster.fit(data)"
   ]
  },
  {
   "cell_type": "markdown",
   "id": "82564952",
   "metadata": {},
   "source": [
    "실제로 강의에서 사용한 것과 같은지?"
   ]
  },
  {
   "cell_type": "code",
   "execution_count": 38,
   "id": "2f474e11",
   "metadata": {},
   "outputs": [
    {
     "data": {
      "image/png": "[encoded data removed]",
      "text/plain": [
       "<Figure size 432x288 with 1 Axes>"
      ]
     },
     "metadata": {
      "needs_background": "light"
     },
     "output_type": "display_data"
    }
   ],
   "source": [
    "plt.title('Hierarchical Clustering Dendrogram with Average linkage')\n",
    "plot_dendrogram(avg_cluster, truncate_mode='level', p=3)\n",
    "plt.show()"
   ]
  },
  {
   "cell_type": "markdown",
   "id": "e7510f83",
   "metadata": {},
   "source": [
    "### 3.2 최장 연결법"
   ]
  },
  {
   "cell_type": "code",
   "execution_count": 39,
   "id": "86f015f4",
   "metadata": {},
   "outputs": [],
   "source": [
    "max_cluster = AgglomerativeClustering(\n",
    "    distance_threshold=0, n_clusters=None, linkage='complete'\n",
    ")"
   ]
  },
  {
   "cell_type": "code",
   "execution_count": 40,
   "id": "71f74217",
   "metadata": {},
   "outputs": [
    {
     "data": {
      "text/plain": [
       "AgglomerativeClustering(distance_threshold=0, linkage='complete',\n",
       "                        n_clusters=None)"
      ]
     },
     "execution_count": 40,
     "metadata": {},
     "output_type": "execute_result"
    }
   ],
   "source": [
    "max_cluster.fit(data)"
   ]
  },
  {
   "cell_type": "code",
   "execution_count": 42,
   "id": "c510000b",
   "metadata": {},
   "outputs": [
    {
     "data": {
      "image/png": "[encoded data removed]",
      "text/plain": [
       "<Figure size 432x288 with 1 Axes>"
      ]
     },
     "metadata": {
      "needs_background": "light"
     },
     "output_type": "display_data"
    }
   ],
   "source": [
    "plt.title('Hierarchical Clustering Dendrogram with Maximum linkage')\n",
    "plot_dendrogram(max_cluster, truncate_mode='level', p=3)\n",
    "plt.show()"
   ]
  },
  {
   "cell_type": "markdown",
   "id": "da11984e",
   "metadata": {},
   "source": [
    "### 3.3 중심 연결법"
   ]
  },
  {
   "cell_type": "code",
   "execution_count": 43,
   "id": "9b0fd347",
   "metadata": {},
   "outputs": [],
   "source": [
    "centroid_cluster = AgglomerativeClustering(\n",
    "    distance_threshold=0, n_clusters=None, linkage='ward'\n",
    ")"
   ]
  },
  {
   "cell_type": "code",
   "execution_count": 44,
   "id": "5cd9fce5",
   "metadata": {},
   "outputs": [
    {
     "data": {
      "text/plain": [
       "AgglomerativeClustering(distance_threshold=0, n_clusters=None)"
      ]
     },
     "execution_count": 44,
     "metadata": {},
     "output_type": "execute_result"
    }
   ],
   "source": [
    "centroid_cluster.fit(data)"
   ]
  },
  {
   "cell_type": "code",
   "execution_count": 46,
   "id": "a7dfd215",
   "metadata": {},
   "outputs": [
    {
     "data": {
      "image/png": "[encoded data removed]",
      "text/plain": [
       "<Figure size 432x288 with 1 Axes>"
      ]
     },
     "metadata": {
      "needs_background": "light"
     },
     "output_type": "display_data"
    }
   ],
   "source": [
    "plt.title('Hierarchical Clustering Dendrogram with Centroid linkage')\n",
    "plot_dendrogram(centroid_cluster, truncate_mode='level', p=3)\n",
    "plt.show()"
   ]
  },
  {
   "cell_type": "markdown",
   "id": "61f01082",
   "metadata": {},
   "source": [
    "## 마무리"
   ]
  },
  {
   "cell_type": "code",
   "execution_count": 47,
   "id": "12e259ef",
   "metadata": {},
   "outputs": [],
   "source": [
    "clusters = [\n",
    "    ('Single', single_cluster),\n",
    "    ('Average', avg_cluster),\n",
    "    ('Maximum', max_cluster),\n",
    "    ('Centroid', centroid_cluster),\n",
    "]"
   ]
  },
  {
   "cell_type": "code",
   "execution_count": 49,
   "id": "4c0c04b8",
   "metadata": {},
   "outputs": [
    {
     "data": {
      "image/png": "[encoded data removed]",
      "text/plain": [
       "<Figure size 1080x720 with 4 Axes>"
      ]
     },
     "metadata": {
      "needs_background": "light"
     },
     "output_type": "display_data"
    }
   ],
   "source": [
    "fig, axes = plt.subplots(nrows=2, ncols=2, figsize=(15, 10))\n",
    "\n",
    "for idx, (name, cluster) in enumerate(clusters):\n",
    "    ax = axes[idx//2, idx%2]\n",
    "    ax.set_title(f\"Hierarchical Clustering Dendrogram with {name} linkage\")\n",
    "    plot_dendrogram(cluster, truncate_mode='level', p=3, ax=ax)"
   ]
  },
  {
   "cell_type": "code",
   "execution_count": null,
   "id": "5664dfc1",
   "metadata": {},
   "outputs": [],
   "source": []
  }
 ],
 "metadata": {
  "kernelspec": {
   "display_name": "Python 3 (ipykernel)",
   "language": "python",
   "name": "python3"
  },
  "language_info": {
   "codemirror_mode": {
    "name": "ipython",
    "version": 3
   },
   "file_extension": ".py",
   "mimetype": "text/x-python",
   "name": "python",
   "nbconvert_exporter": "python",
   "pygments_lexer": "ipython3",
   "version": "3.8.6"
  }
 },
 "nbformat": 4,
 "nbformat_minor": 5
}
