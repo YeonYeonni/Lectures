{
 "cells": [
  {
   "cell_type": "markdown",
   "id": "d7cd02ce",
   "metadata": {},
   "source": [
    "## 뉴스 분류하기"
   ]
  },
  {
   "cell_type": "code",
   "execution_count": 1,
   "id": "8dbbefb0",
   "metadata": {},
   "outputs": [],
   "source": [
    "import pandas as pd\n",
    "import numpy as np\n",
    "import matplotlib.pyplot as plt\n",
    "\n",
    "np.random.seed(2021)"
   ]
  },
  {
   "cell_type": "markdown",
   "id": "1a2de66e",
   "metadata": {},
   "source": [
    "## 1. Data"
   ]
  },
  {
   "cell_type": "markdown",
   "id": "c0e119d0",
   "metadata": {},
   "source": [
    "### 1.1 Data Load"
   ]
  },
  {
   "cell_type": "code",
   "execution_count": 2,
   "id": "4584b089",
   "metadata": {},
   "outputs": [],
   "source": [
    "from sklearn.datasets import fetch_20newsgroups\n",
    "\n",
    "newsgroup = fetch_20newsgroups()"
   ]
  },
  {
   "cell_type": "code",
   "execution_count": 3,
   "id": "ab9f68de",
   "metadata": {},
   "outputs": [],
   "source": [
    "data, target = newsgroup['data'], newsgroup['target']"
   ]
  },
  {
   "cell_type": "code",
   "execution_count": 4,
   "id": "ea377b70",
   "metadata": {},
   "outputs": [
    {
     "name": "stdout",
     "output_type": "stream",
     "text": [
      "From: lerxst@wam.umd.edu (where's my thing)\n",
      "Subject: WHAT car is this!?\n",
      "Nntp-Posting-Host: rac3.wam.umd.edu\n",
      "Organization: University of Maryland, College Park\n",
      "Lines: 15\n",
      "\n",
      " I was wondering if anyone out there could enlighten me on this car I saw\n",
      "the other day. It was a 2-door sports car, looked to be from the late 60s/\n",
      "early 70s. It was called a Bricklin. The doors were really small. In addition,\n",
      "the front bumper was separate from the rest of the body. This is \n",
      "all I know. If anyone can tellme a model name, engine specs, years\n",
      "of production, where this car is made, history, or whatever info you\n",
      "have on this funky looking car, please e-mail.\n",
      "\n",
      "Thanks,\n",
      "- IL\n",
      "   ---- brought to you by your neighborhood Lerxst ----\n",
      "\n",
      "\n",
      "\n",
      "\n",
      "\n"
     ]
    }
   ],
   "source": [
    "print(data[0])"
   ]
  },
  {
   "cell_type": "code",
   "execution_count": 5,
   "id": "77527892",
   "metadata": {},
   "outputs": [
    {
     "data": {
      "text/plain": [
       "7"
      ]
     },
     "execution_count": 5,
     "metadata": {},
     "output_type": "execute_result"
    }
   ],
   "source": [
    "target[0]"
   ]
  },
  {
   "cell_type": "code",
   "execution_count": 6,
   "id": "5477585a",
   "metadata": {},
   "outputs": [
    {
     "data": {
      "text/plain": [
       "['alt.atheism',\n",
       " 'comp.graphics',\n",
       " 'comp.os.ms-windows.misc',\n",
       " 'comp.sys.ibm.pc.hardware',\n",
       " 'comp.sys.mac.hardware',\n",
       " 'comp.windows.x',\n",
       " 'misc.forsale',\n",
       " 'rec.autos',\n",
       " 'rec.motorcycles',\n",
       " 'rec.sport.baseball',\n",
       " 'rec.sport.hockey',\n",
       " 'sci.crypt',\n",
       " 'sci.electronics',\n",
       " 'sci.med',\n",
       " 'sci.space',\n",
       " 'soc.religion.christian',\n",
       " 'talk.politics.guns',\n",
       " 'talk.politics.mideast',\n",
       " 'talk.politics.misc',\n",
       " 'talk.religion.misc']"
      ]
     },
     "execution_count": 6,
     "metadata": {},
     "output_type": "execute_result"
    }
   ],
   "source": [
    "newsgroup['target_names']"
   ]
  },
  {
   "cell_type": "markdown",
   "id": "e05a25a8",
   "metadata": {},
   "source": [
    "### 1.2 Data Split"
   ]
  },
  {
   "cell_type": "markdown",
   "id": "adb44b47",
   "metadata": {},
   "source": [
    "아래의 뉴스 그룹만 사용\n",
    "\n",
    "- talk.politics.guns\n",
    "- talk.politics.mideast\n",
    "- talk.politics.misc\n",
    "- talk.religion.misc"
   ]
  },
  {
   "cell_type": "code",
   "execution_count": 7,
   "id": "118d183e",
   "metadata": {},
   "outputs": [
    {
     "data": {
      "text/plain": [
       "20"
      ]
     },
     "execution_count": 7,
     "metadata": {},
     "output_type": "execute_result"
    }
   ],
   "source": [
    "len(newsgroup['target_names'])"
   ]
  },
  {
   "cell_type": "code",
   "execution_count": 8,
   "id": "f702f907",
   "metadata": {},
   "outputs": [],
   "source": [
    "text = pd.Series(data, name='text')\n",
    "target = pd.Series(target, name='target')"
   ]
  },
  {
   "cell_type": "code",
   "execution_count": 9,
   "id": "d2d31e08",
   "metadata": {},
   "outputs": [
    {
     "name": "stderr",
     "output_type": "stream",
     "text": [
      "C:\\Users\\jjoro\\AppData\\Local\\Temp/ipykernel_8024/1526271107.py:1: FutureWarning: In a future version of pandas all arguments of concat except for the argument 'objs' will be keyword-only\n",
      "  df = pd.concat([text, target], 1)\n"
     ]
    }
   ],
   "source": [
    "df = pd.concat([text, target], 1)"
   ]
  },
  {
   "cell_type": "code",
   "execution_count": 10,
   "id": "e2f56e3a",
   "metadata": {},
   "outputs": [
    {
     "data": {
      "text/html": [
       "<div>\n",
       "<style scoped>\n",
       "    .dataframe tbody tr th:only-of-type {\n",
       "        vertical-align: middle;\n",
       "    }\n",
       "\n",
       "    .dataframe tbody tr th {\n",
       "        vertical-align: top;\n",
       "    }\n",
       "\n",
       "    .dataframe thead th {\n",
       "        text-align: right;\n",
       "    }\n",
       "</style>\n",
       "<table border=\"1\" class=\"dataframe\">\n",
       "  <thead>\n",
       "    <tr style=\"text-align: right;\">\n",
       "      <th></th>\n",
       "      <th>text</th>\n",
       "      <th>target</th>\n",
       "    </tr>\n",
       "  </thead>\n",
       "  <tbody>\n",
       "    <tr>\n",
       "      <th>0</th>\n",
       "      <td>From: lerxst@wam.umd.edu (where's my thing)\\nS...</td>\n",
       "      <td>7</td>\n",
       "    </tr>\n",
       "    <tr>\n",
       "      <th>1</th>\n",
       "      <td>From: guykuo@carson.u.washington.edu (Guy Kuo)...</td>\n",
       "      <td>4</td>\n",
       "    </tr>\n",
       "    <tr>\n",
       "      <th>2</th>\n",
       "      <td>From: twillis@ec.ecn.purdue.edu (Thomas E Will...</td>\n",
       "      <td>4</td>\n",
       "    </tr>\n",
       "    <tr>\n",
       "      <th>3</th>\n",
       "      <td>From: jgreen@amber (Joe Green)\\nSubject: Re: W...</td>\n",
       "      <td>1</td>\n",
       "    </tr>\n",
       "    <tr>\n",
       "      <th>4</th>\n",
       "      <td>From: jcm@head-cfa.harvard.edu (Jonathan McDow...</td>\n",
       "      <td>14</td>\n",
       "    </tr>\n",
       "    <tr>\n",
       "      <th>...</th>\n",
       "      <td>...</td>\n",
       "      <td>...</td>\n",
       "    </tr>\n",
       "    <tr>\n",
       "      <th>11309</th>\n",
       "      <td>From: jim.zisfein@factory.com (Jim Zisfein) \\n...</td>\n",
       "      <td>13</td>\n",
       "    </tr>\n",
       "    <tr>\n",
       "      <th>11310</th>\n",
       "      <td>From: ebodin@pearl.tufts.edu\\nSubject: Screen ...</td>\n",
       "      <td>4</td>\n",
       "    </tr>\n",
       "    <tr>\n",
       "      <th>11311</th>\n",
       "      <td>From: westes@netcom.com (Will Estes)\\nSubject:...</td>\n",
       "      <td>3</td>\n",
       "    </tr>\n",
       "    <tr>\n",
       "      <th>11312</th>\n",
       "      <td>From: steve@hcrlgw (Steven Collins)\\nSubject: ...</td>\n",
       "      <td>1</td>\n",
       "    </tr>\n",
       "    <tr>\n",
       "      <th>11313</th>\n",
       "      <td>From: gunning@cco.caltech.edu (Kevin J. Gunnin...</td>\n",
       "      <td>8</td>\n",
       "    </tr>\n",
       "  </tbody>\n",
       "</table>\n",
       "<p>11314 rows × 2 columns</p>\n",
       "</div>"
      ],
      "text/plain": [
       "                                                    text  target\n",
       "0      From: lerxst@wam.umd.edu (where's my thing)\\nS...       7\n",
       "1      From: guykuo@carson.u.washington.edu (Guy Kuo)...       4\n",
       "2      From: twillis@ec.ecn.purdue.edu (Thomas E Will...       4\n",
       "3      From: jgreen@amber (Joe Green)\\nSubject: Re: W...       1\n",
       "4      From: jcm@head-cfa.harvard.edu (Jonathan McDow...      14\n",
       "...                                                  ...     ...\n",
       "11309  From: jim.zisfein@factory.com (Jim Zisfein) \\n...      13\n",
       "11310  From: ebodin@pearl.tufts.edu\\nSubject: Screen ...       4\n",
       "11311  From: westes@netcom.com (Will Estes)\\nSubject:...       3\n",
       "11312  From: steve@hcrlgw (Steven Collins)\\nSubject: ...       1\n",
       "11313  From: gunning@cco.caltech.edu (Kevin J. Gunnin...       8\n",
       "\n",
       "[11314 rows x 2 columns]"
      ]
     },
     "execution_count": 10,
     "metadata": {},
     "output_type": "execute_result"
    }
   ],
   "source": [
    "df"
   ]
  },
  {
   "cell_type": "code",
   "execution_count": 11,
   "id": "0856ad88",
   "metadata": {},
   "outputs": [
    {
     "data": {
      "text/plain": [
       "0     480\n",
       "1     584\n",
       "2     591\n",
       "3     590\n",
       "4     578\n",
       "5     593\n",
       "6     585\n",
       "7     594\n",
       "8     598\n",
       "9     597\n",
       "10    600\n",
       "11    595\n",
       "12    591\n",
       "13    594\n",
       "14    593\n",
       "15    599\n",
       "16    546\n",
       "17    564\n",
       "18    465\n",
       "19    377\n",
       "Name: target, dtype: int64"
      ]
     },
     "execution_count": 11,
     "metadata": {},
     "output_type": "execute_result"
    }
   ],
   "source": [
    "df.target.value_counts().sort_index()"
   ]
  },
  {
   "cell_type": "code",
   "execution_count": 14,
   "id": "50a97313",
   "metadata": {},
   "outputs": [
    {
     "data": {
      "text/html": [
       "<div>\n",
       "<style scoped>\n",
       "    .dataframe tbody tr th:only-of-type {\n",
       "        vertical-align: middle;\n",
       "    }\n",
       "\n",
       "    .dataframe tbody tr th {\n",
       "        vertical-align: top;\n",
       "    }\n",
       "\n",
       "    .dataframe thead th {\n",
       "        text-align: right;\n",
       "    }\n",
       "</style>\n",
       "<table border=\"1\" class=\"dataframe\">\n",
       "  <thead>\n",
       "    <tr style=\"text-align: right;\">\n",
       "      <th></th>\n",
       "      <th>text</th>\n",
       "      <th>target</th>\n",
       "    </tr>\n",
       "  </thead>\n",
       "  <tbody>\n",
       "    <tr>\n",
       "      <th>5</th>\n",
       "      <td>From: dfo@vttoulu.tko.vtt.fi (Foxvog Douglas)\\...</td>\n",
       "      <td>16</td>\n",
       "    </tr>\n",
       "    <tr>\n",
       "      <th>11</th>\n",
       "      <td>From: david@terminus.ericsson.se (David Bold)\\...</td>\n",
       "      <td>19</td>\n",
       "    </tr>\n",
       "    <tr>\n",
       "      <th>33</th>\n",
       "      <td>From: ayr1@cunixa.cc.columbia.edu (Amir Y Rose...</td>\n",
       "      <td>17</td>\n",
       "    </tr>\n",
       "    <tr>\n",
       "      <th>34</th>\n",
       "      <td>From: joec@hilbert.cyprs.rain.com ( Joe Cipale...</td>\n",
       "      <td>18</td>\n",
       "    </tr>\n",
       "    <tr>\n",
       "      <th>39</th>\n",
       "      <td>From: bressler@iftccu.ca.boeing.com (Rick Bres...</td>\n",
       "      <td>16</td>\n",
       "    </tr>\n",
       "    <tr>\n",
       "      <th>...</th>\n",
       "      <td>...</td>\n",
       "      <td>...</td>\n",
       "    </tr>\n",
       "    <tr>\n",
       "      <th>11277</th>\n",
       "      <td>From: bob1@cos.com (Bob Blackshaw)\\nSubject: R...</td>\n",
       "      <td>17</td>\n",
       "    </tr>\n",
       "    <tr>\n",
       "      <th>11280</th>\n",
       "      <td>From: jake@bony1.bony.com (Jake Livni)\\nSubjec...</td>\n",
       "      <td>17</td>\n",
       "    </tr>\n",
       "    <tr>\n",
       "      <th>11299</th>\n",
       "      <td>From: 2120788@hydra.maths.unsw.EDU.AU ()\\nSubj...</td>\n",
       "      <td>17</td>\n",
       "    </tr>\n",
       "    <tr>\n",
       "      <th>11304</th>\n",
       "      <td>From: Pegasus@aaa.uoregon.edu (Pegasus)\\nSubje...</td>\n",
       "      <td>19</td>\n",
       "    </tr>\n",
       "    <tr>\n",
       "      <th>11305</th>\n",
       "      <td>From: shaig@composer.think.com (Shai Guday)\\nS...</td>\n",
       "      <td>17</td>\n",
       "    </tr>\n",
       "  </tbody>\n",
       "</table>\n",
       "<p>1952 rows × 2 columns</p>\n",
       "</div>"
      ],
      "text/plain": [
       "                                                    text  target\n",
       "5      From: dfo@vttoulu.tko.vtt.fi (Foxvog Douglas)\\...      16\n",
       "11     From: david@terminus.ericsson.se (David Bold)\\...      19\n",
       "33     From: ayr1@cunixa.cc.columbia.edu (Amir Y Rose...      17\n",
       "34     From: joec@hilbert.cyprs.rain.com ( Joe Cipale...      18\n",
       "39     From: bressler@iftccu.ca.boeing.com (Rick Bres...      16\n",
       "...                                                  ...     ...\n",
       "11277  From: bob1@cos.com (Bob Blackshaw)\\nSubject: R...      17\n",
       "11280  From: jake@bony1.bony.com (Jake Livni)\\nSubjec...      17\n",
       "11299  From: 2120788@hydra.maths.unsw.EDU.AU ()\\nSubj...      17\n",
       "11304  From: Pegasus@aaa.uoregon.edu (Pegasus)\\nSubje...      19\n",
       "11305  From: shaig@composer.think.com (Shai Guday)\\nS...      17\n",
       "\n",
       "[1952 rows x 2 columns]"
      ]
     },
     "execution_count": 14,
     "metadata": {},
     "output_type": "execute_result"
    }
   ],
   "source": [
    "df.query('16 <= target <= 19')\n",
    "\n",
    "# target에 16~19사이 데이터만 남기기."
   ]
  },
  {
   "cell_type": "code",
   "execution_count": 15,
   "id": "7b92cb6c",
   "metadata": {},
   "outputs": [],
   "source": [
    "df_sample = df.query('16 <= target <= 19')"
   ]
  },
  {
   "cell_type": "code",
   "execution_count": 16,
   "id": "2adda9e0",
   "metadata": {},
   "outputs": [],
   "source": [
    "data = df_sample.text\n",
    "target = df_sample.target"
   ]
  },
  {
   "cell_type": "code",
   "execution_count": 17,
   "id": "b9aa6cdf",
   "metadata": {},
   "outputs": [
    {
     "data": {
      "text/plain": [
       "(1952,)"
      ]
     },
     "execution_count": 17,
     "metadata": {},
     "output_type": "execute_result"
    }
   ],
   "source": [
    "np.array(data).shape"
   ]
  },
  {
   "cell_type": "code",
   "execution_count": 18,
   "id": "20cc6958",
   "metadata": {},
   "outputs": [],
   "source": [
    "from sklearn.model_selection import train_test_split\n",
    "\n",
    "train_data, test_data, train_target, test_target = train_test_split(\n",
    "    data, target, train_size=0.7, random_state=2021\n",
    ")"
   ]
  },
  {
   "cell_type": "markdown",
   "id": "af936b80",
   "metadata": {},
   "source": [
    "### 1.2 Count Vectorize\n",
    "\n",
    "단어를 숫자로 변형시켜주는 과정"
   ]
  },
  {
   "cell_type": "code",
   "execution_count": 19,
   "id": "35c5d200",
   "metadata": {},
   "outputs": [
    {
     "name": "stderr",
     "output_type": "stream",
     "text": [
      "[nltk_data] Downloading package punkt to\n",
      "[nltk_data]     C:\\Users\\jjoro\\AppData\\Roaming\\nltk_data...\n",
      "[nltk_data]   Package punkt is already up-to-date!\n"
     ]
    },
    {
     "data": {
      "text/plain": [
       "True"
      ]
     },
     "execution_count": 19,
     "metadata": {},
     "output_type": "execute_result"
    }
   ],
   "source": [
    "import nltk\n",
    "from nltk import word_tokenize\n",
    "from sklearn.feature_extraction.text import CountVectorizer\n",
    "\n",
    "nltk.download('punkt')"
   ]
  },
  {
   "cell_type": "markdown",
   "id": "2f8e1d8d",
   "metadata": {},
   "source": [
    "뉴스에 모두 등장한 단어를 사용"
   ]
  },
  {
   "cell_type": "code",
   "execution_count": 20,
   "id": "a02b683e",
   "metadata": {},
   "outputs": [
    {
     "name": "stderr",
     "output_type": "stream",
     "text": [
      "c:\\python\\python38\\lib\\site-packages\\sklearn\\feature_extraction\\text.py:484: UserWarning: The parameter 'token_pattern' will not be used since 'tokenizer' is not None'\n",
      "  warnings.warn(\"The parameter 'token_pattern' will not be used\"\n"
     ]
    },
    {
     "data": {
      "text/plain": [
       "CountVectorizer(tokenizer=<function word_tokenize at 0x000002648B464700>)"
      ]
     },
     "execution_count": 20,
     "metadata": {},
     "output_type": "execute_result"
    }
   ],
   "source": [
    "cnt_vectorizer = CountVectorizer(tokenizer=word_tokenize)\n",
    "cnt_vectorizer.fit(train_data)"
   ]
  },
  {
   "cell_type": "code",
   "execution_count": 21,
   "id": "dd8156cf",
   "metadata": {},
   "outputs": [
    {
     "data": {
      "text/plain": [
       "32020"
      ]
     },
     "execution_count": 21,
     "metadata": {},
     "output_type": "execute_result"
    }
   ],
   "source": [
    "len(cnt_vectorizer.vocabulary_)"
   ]
  },
  {
   "cell_type": "markdown",
   "id": "40c96be3",
   "metadata": {},
   "source": [
    "이 중 최소 10개의 뉴스에서 등장한 단어를 사용"
   ]
  },
  {
   "cell_type": "code",
   "execution_count": 22,
   "id": "5623470a",
   "metadata": {},
   "outputs": [
    {
     "data": {
      "text/plain": [
       "CountVectorizer(min_df=10,\n",
       "                tokenizer=<function word_tokenize at 0x000002648B464700>)"
      ]
     },
     "execution_count": 22,
     "metadata": {},
     "output_type": "execute_result"
    }
   ],
   "source": [
    "cnt_vectorizer = CountVectorizer(tokenizer=word_tokenize, min_df=10)\n",
    "cnt_vectorizer.fit(train_data)"
   ]
  },
  {
   "cell_type": "code",
   "execution_count": 23,
   "id": "835f8512",
   "metadata": {},
   "outputs": [
    {
     "data": {
      "text/plain": [
       "4244"
      ]
     },
     "execution_count": 23,
     "metadata": {},
     "output_type": "execute_result"
    }
   ],
   "source": [
    "len(cnt_vectorizer.vocabulary_)"
   ]
  },
  {
   "cell_type": "code",
   "execution_count": 26,
   "id": "d7edc6ff",
   "metadata": {},
   "outputs": [],
   "source": [
    "train_matrix = cnt_vectorizer.transform(train_data)\n",
    "test_matrix = cnt_vectorizer.transform(test_data)"
   ]
  },
  {
   "cell_type": "markdown",
   "id": "204cb066",
   "metadata": {},
   "source": [
    "## 2. XGBoost"
   ]
  },
  {
   "cell_type": "code",
   "execution_count": 28,
   "id": "32baa678",
   "metadata": {},
   "outputs": [],
   "source": [
    "import xgboost as xgb\n",
    "\n",
    "xgb_clf = xgb.XGBClassifier()"
   ]
  },
  {
   "cell_type": "markdown",
   "id": "c3c31583",
   "metadata": {},
   "source": [
    "### 2.1 학습"
   ]
  },
  {
   "cell_type": "code",
   "execution_count": 29,
   "id": "ce32153a",
   "metadata": {},
   "outputs": [
    {
     "name": "stderr",
     "output_type": "stream",
     "text": [
      "c:\\python\\python38\\lib\\site-packages\\xgboost\\sklearn.py:1224: UserWarning: The use of label encoder in XGBClassifier is deprecated and will be removed in a future release. To remove this warning, do the following: 1) Pass option use_label_encoder=False when constructing XGBClassifier object; and 2) Encode your labels (y) as integers starting with 0, i.e. 0, 1, 2, ..., [num_class - 1].\n",
      "  warnings.warn(label_encoder_deprecation_msg, UserWarning)\n"
     ]
    },
    {
     "name": "stdout",
     "output_type": "stream",
     "text": [
      "[11:46:51] WARNING: C:/Users/Administrator/workspace/xgboost-win64_release_1.5.1/src/learner.cc:1115: Starting in XGBoost 1.3.0, the default evaluation metric used with the objective 'multi:softprob' was changed from 'merror' to 'mlogloss'. Explicitly set eval_metric if you'd like to restore the old behavior.\n"
     ]
    },
    {
     "data": {
      "text/plain": [
       "XGBClassifier(base_score=0.5, booster='gbtree', colsample_bylevel=1,\n",
       "              colsample_bynode=1, colsample_bytree=1, enable_categorical=False,\n",
       "              gamma=0, gpu_id=-1, importance_type=None,\n",
       "              interaction_constraints='', learning_rate=0.300000012,\n",
       "              max_delta_step=0, max_depth=6, min_child_weight=1, missing=nan,\n",
       "              monotone_constraints='()', n_estimators=100, n_jobs=8,\n",
       "              num_parallel_tree=1, objective='multi:softprob', predictor='auto',\n",
       "              random_state=0, reg_alpha=0, reg_lambda=1, scale_pos_weight=None,\n",
       "              subsample=1, tree_method='exact', validate_parameters=1,\n",
       "              verbosity=None)"
      ]
     },
     "execution_count": 29,
     "metadata": {},
     "output_type": "execute_result"
    }
   ],
   "source": [
    "xgb_clf.fit(train_matrix, train_target)"
   ]
  },
  {
   "cell_type": "markdown",
   "id": "e4ed7552",
   "metadata": {},
   "source": [
    "### 2.2 예측"
   ]
  },
  {
   "cell_type": "code",
   "execution_count": 30,
   "id": "04ff8f00",
   "metadata": {},
   "outputs": [],
   "source": [
    "xgb_train_pred = xgb_clf.predict(train_matrix)\n",
    "xgb_test_pred = xgb_clf.predict(test_matrix)"
   ]
  },
  {
   "cell_type": "markdown",
   "id": "f72ae85a",
   "metadata": {},
   "source": [
    "### 2.3 평가"
   ]
  },
  {
   "cell_type": "code",
   "execution_count": 31,
   "id": "c8800793",
   "metadata": {},
   "outputs": [],
   "source": [
    "from sklearn.metrics import accuracy_score\n",
    "\n",
    "xgb_train_acc = accuracy_score(train_target, xgb_train_pred)\n",
    "xgb_test_acc = accuracy_score(test_target, xgb_test_pred)"
   ]
  },
  {
   "cell_type": "code",
   "execution_count": 32,
   "id": "2e76bf61",
   "metadata": {},
   "outputs": [
    {
     "name": "stdout",
     "output_type": "stream",
     "text": [
      "XGBoost Train accuracy is 1.0000\n",
      "XGBoost Test accuracy is 0.9232\n"
     ]
    }
   ],
   "source": [
    "print(f\"XGBoost Train accuracy is {xgb_train_acc:.4f}\")\n",
    "print(f\"XGBoost Test accuracy is {xgb_test_acc:.4f}\")"
   ]
  },
  {
   "cell_type": "markdown",
   "id": "f4e2cc24",
   "metadata": {},
   "source": [
    "## 3. Light GBM"
   ]
  },
  {
   "cell_type": "code",
   "execution_count": 34,
   "id": "b317a23a",
   "metadata": {},
   "outputs": [],
   "source": [
    "import lightgbm as lgb\n",
    "\n",
    "lgb_clf = lgb.LGBMClassifier()"
   ]
  },
  {
   "cell_type": "markdown",
   "id": "338fe0dd",
   "metadata": {},
   "source": [
    "### 3.1 학습"
   ]
  },
  {
   "cell_type": "code",
   "execution_count": 35,
   "id": "7981ff24",
   "metadata": {},
   "outputs": [
    {
     "data": {
      "text/plain": [
       "<1366x4244 sparse matrix of type '<class 'numpy.int64'>'\n",
       "\twith 237316 stored elements in Compressed Sparse Row format>"
      ]
     },
     "execution_count": 35,
     "metadata": {},
     "output_type": "execute_result"
    }
   ],
   "source": [
    "train_matrix"
   ]
  },
  {
   "cell_type": "markdown",
   "id": "8c6d606c",
   "metadata": {},
   "source": [
    "sparse matrix type.\n",
    "\n",
    "lgbm은 위와 같이 compress된 데이터를 지원하지 않음.\n",
    "\n",
    "toarray를 이용해 array로 바꿔주어야 함."
   ]
  },
  {
   "cell_type": "code",
   "execution_count": 37,
   "id": "a955399c",
   "metadata": {},
   "outputs": [
    {
     "data": {
      "text/plain": [
       "array([[1, 0, 0, ..., 0, 0, 0],\n",
       "       [2, 0, 0, ..., 0, 6, 0],\n",
       "       [0, 0, 0, ..., 0, 0, 0],\n",
       "       ...,\n",
       "       [0, 0, 0, ..., 0, 0, 0],\n",
       "       [0, 0, 2, ..., 0, 0, 0],\n",
       "       [0, 0, 0, ..., 0, 0, 0]], dtype=int64)"
      ]
     },
     "execution_count": 37,
     "metadata": {},
     "output_type": "execute_result"
    }
   ],
   "source": [
    "train_matrix.toarray()"
   ]
  },
  {
   "cell_type": "code",
   "execution_count": 36,
   "id": "d79a2de6",
   "metadata": {},
   "outputs": [
    {
     "data": {
      "text/plain": [
       "LGBMClassifier()"
      ]
     },
     "execution_count": 36,
     "metadata": {},
     "output_type": "execute_result"
    }
   ],
   "source": [
    "lgb_clf.fit(train_matrix.toarray(), train_target)"
   ]
  },
  {
   "cell_type": "markdown",
   "id": "6a37ebd3",
   "metadata": {},
   "source": [
    "### 3.2 예측"
   ]
  },
  {
   "cell_type": "code",
   "execution_count": 38,
   "id": "b5c3920a",
   "metadata": {},
   "outputs": [],
   "source": [
    "lgb_train_pred = lgb_clf.predict(train_matrix.toarray())\n",
    "lgb_test_pred = lgb_clf.predict(test_matrix.toarray())"
   ]
  },
  {
   "cell_type": "markdown",
   "id": "556d2af8",
   "metadata": {},
   "source": [
    "### 3.3 평가"
   ]
  },
  {
   "cell_type": "code",
   "execution_count": 39,
   "id": "cec9d0b2",
   "metadata": {},
   "outputs": [],
   "source": [
    "lgb_train_acc = accuracy_score(train_target, lgb_train_pred)\n",
    "lgb_test_acc = accuracy_score(test_target, lgb_test_pred)"
   ]
  },
  {
   "cell_type": "code",
   "execution_count": 42,
   "id": "8f8eacc0",
   "metadata": {},
   "outputs": [
    {
     "name": "stdout",
     "output_type": "stream",
     "text": [
      "Light Boost train accuracy is 1.0000\n",
      "Light Boost test accuracy is 0.9249\n"
     ]
    }
   ],
   "source": [
    "print(f\"Light Boost train accuracy is {lgb_train_acc:.4f}\")\n",
    "print(f\"Light Boost test accuracy is {lgb_test_acc:.4f}\")"
   ]
  },
  {
   "cell_type": "markdown",
   "id": "e5868ff2",
   "metadata": {},
   "source": [
    "## 4. CatBoost"
   ]
  },
  {
   "cell_type": "code",
   "execution_count": 43,
   "id": "02522432",
   "metadata": {},
   "outputs": [],
   "source": [
    "import catboost as cb\n",
    "\n",
    "cb_clf = cb.CatBoostClassifier()"
   ]
  },
  {
   "cell_type": "markdown",
   "id": "0fcb2d79",
   "metadata": {},
   "source": [
    "### 4.1 학습"
   ]
  },
  {
   "cell_type": "code",
   "execution_count": 44,
   "id": "dfd7413c",
   "metadata": {},
   "outputs": [
    {
     "data": {
      "text/plain": [
       "<catboost.core.CatBoostClassifier at 0x2648ff27c70>"
      ]
     },
     "execution_count": 44,
     "metadata": {},
     "output_type": "execute_result"
    }
   ],
   "source": [
    "cb_clf.fit(train_matrix, train_target, verbose=False)"
   ]
  },
  {
   "cell_type": "markdown",
   "id": "25cd7d14",
   "metadata": {},
   "source": [
    "### 4.2 예측"
   ]
  },
  {
   "cell_type": "code",
   "execution_count": 45,
   "id": "0fbff807",
   "metadata": {},
   "outputs": [],
   "source": [
    "cb_train_pred = cb_clf.predict(train_matrix)\n",
    "cb_test_pred = cb_clf.predict(test_matrix)"
   ]
  },
  {
   "cell_type": "markdown",
   "id": "c21a1e15",
   "metadata": {},
   "source": [
    "### 4.3 평가"
   ]
  },
  {
   "cell_type": "code",
   "execution_count": 46,
   "id": "fb271322",
   "metadata": {},
   "outputs": [],
   "source": [
    "cb_train_acc = accuracy_score(train_target, cb_train_pred)\n",
    "cb_test_acc = accuracy_score(test_target, cb_test_pred)"
   ]
  },
  {
   "cell_type": "code",
   "execution_count": 49,
   "id": "29308611",
   "metadata": {},
   "outputs": [
    {
     "name": "stdout",
     "output_type": "stream",
     "text": [
      "Cat Boost train accuracy is 1.0000\n",
      "Cat Boost test accuracy is 0.9386\n"
     ]
    }
   ],
   "source": [
    "print(f\"Cat Boost train accuracy is {cb_train_acc:.4f}\")\n",
    "print(f\"Cat Boost test accuracy is {cb_test_acc:.4f}\")"
   ]
  },
  {
   "cell_type": "markdown",
   "id": "adef0ace",
   "metadata": {},
   "source": [
    "## 5. 마무리"
   ]
  },
  {
   "cell_type": "code",
   "execution_count": 50,
   "id": "788c911c",
   "metadata": {},
   "outputs": [
    {
     "name": "stdout",
     "output_type": "stream",
     "text": [
      "XGBoost test accuracy is 0.9232\n",
      "Light Boost test accuracy is 0.9249\n",
      "Cat Boost test accuracy is 0.9386\n"
     ]
    }
   ],
   "source": [
    "print(f\"XGBoost test accuracy is {xgb_test_acc:.4f}\")\n",
    "print(f\"Light Boost test accuracy is {lgb_test_acc:.4f}\")\n",
    "print(f\"Cat Boost test accuracy is {cb_test_acc:.4f}\")"
   ]
  },
  {
   "cell_type": "code",
   "execution_count": null,
   "id": "bbcd0d86",
   "metadata": {},
   "outputs": [],
   "source": []
  }
 ],
 "metadata": {
  "kernelspec": {
   "display_name": "Python 3 (ipykernel)",
   "language": "python",
   "name": "python3"
  },
  "language_info": {
   "codemirror_mode": {
    "name": "ipython",
    "version": 3
   },
   "file_extension": ".py",
   "mimetype": "text/x-python",
   "name": "python",
   "nbconvert_exporter": "python",
   "pygments_lexer": "ipython3",
   "version": "3.8.6"
  }
 },
 "nbformat": 4,
 "nbformat_minor": 5
}
