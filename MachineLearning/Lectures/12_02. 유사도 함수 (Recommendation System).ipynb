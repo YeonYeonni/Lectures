{
 "cells": [
  {
   "cell_type": "markdown",
   "id": "ec708def",
   "metadata": {},
   "source": [
    "## 샘플 데이터와 유사도 함수 실습"
   ]
  },
  {
   "cell_type": "code",
   "execution_count": 1,
   "id": "13d25c24",
   "metadata": {},
   "outputs": [],
   "source": [
    "import pandas as pd\n",
    "import numpy as np\n",
    "import matplotlib.pyplot as plt\n",
    "\n",
    "np.random.seed(2021)"
   ]
  },
  {
   "cell_type": "markdown",
   "id": "9ad07051",
   "metadata": {},
   "source": [
    "## 1. 유클리디안 유사도"
   ]
  },
  {
   "cell_type": "markdown",
   "id": "f292bcb3",
   "metadata": {},
   "source": [
    "- 유사도를 계산할 유저를 인덱스로 아이템을 컬럼으로 하는 데이터를 정의.\n",
    "- 유저가 평가하지 않은 아이템에 대해서는 결측값으로 표시."
   ]
  },
  {
   "cell_type": "markdown",
   "id": "6bab1927",
   "metadata": {},
   "source": [
    "### 1.1 Sample Data"
   ]
  },
  {
   "cell_type": "code",
   "execution_count": 2,
   "id": "1aec3cb0",
   "metadata": {},
   "outputs": [
    {
     "data": {
      "text/html": [
       "<div>\n",
       "<style scoped>\n",
       "    .dataframe tbody tr th:only-of-type {\n",
       "        vertical-align: middle;\n",
       "    }\n",
       "\n",
       "    .dataframe tbody tr th {\n",
       "        vertical-align: top;\n",
       "    }\n",
       "\n",
       "    .dataframe thead th {\n",
       "        text-align: right;\n",
       "    }\n",
       "</style>\n",
       "<table border=\"1\" class=\"dataframe\">\n",
       "  <thead>\n",
       "    <tr style=\"text-align: right;\">\n",
       "      <th></th>\n",
       "      <th>itemA</th>\n",
       "      <th>itemB</th>\n",
       "      <th>itemC</th>\n",
       "      <th>itemD</th>\n",
       "    </tr>\n",
       "  </thead>\n",
       "  <tbody>\n",
       "    <tr>\n",
       "      <th>userA</th>\n",
       "      <td>1.0</td>\n",
       "      <td>NaN</td>\n",
       "      <td>1.0</td>\n",
       "      <td>NaN</td>\n",
       "    </tr>\n",
       "    <tr>\n",
       "      <th>userB</th>\n",
       "      <td>NaN</td>\n",
       "      <td>1.0</td>\n",
       "      <td>1.0</td>\n",
       "      <td>NaN</td>\n",
       "    </tr>\n",
       "    <tr>\n",
       "      <th>userC</th>\n",
       "      <td>1.0</td>\n",
       "      <td>NaN</td>\n",
       "      <td>1.0</td>\n",
       "      <td>1.0</td>\n",
       "    </tr>\n",
       "  </tbody>\n",
       "</table>\n",
       "</div>"
      ],
      "text/plain": [
       "       itemA  itemB  itemC  itemD\n",
       "userA    1.0    NaN    1.0    NaN\n",
       "userB    NaN    1.0    1.0    NaN\n",
       "userC    1.0    NaN    1.0    1.0"
      ]
     },
     "execution_count": 2,
     "metadata": {},
     "output_type": "execute_result"
    }
   ],
   "source": [
    "data = [\n",
    "    [1., None, 1., None],\n",
    "    [None, 1., 1., None],\n",
    "    [1., None, 1., 1.,],\n",
    "]\n",
    "\n",
    "df = pd.DataFrame(\n",
    "    data=data,\n",
    "    index=['userA', 'userB', 'userC'],\n",
    "    columns=['itemA', 'itemB', 'itemC', 'itemD'],\n",
    ")\n",
    "\n",
    "df"
   ]
  },
  {
   "cell_type": "markdown",
   "id": "4ae3727c",
   "metadata": {},
   "source": [
    "### 1.2 결측값 제거\n",
    "\n",
    "결측값을 0으로 대체."
   ]
  },
  {
   "cell_type": "code",
   "execution_count": 3,
   "id": "5d58f011",
   "metadata": {},
   "outputs": [
    {
     "data": {
      "text/html": [
       "<div>\n",
       "<style scoped>\n",
       "    .dataframe tbody tr th:only-of-type {\n",
       "        vertical-align: middle;\n",
       "    }\n",
       "\n",
       "    .dataframe tbody tr th {\n",
       "        vertical-align: top;\n",
       "    }\n",
       "\n",
       "    .dataframe thead th {\n",
       "        text-align: right;\n",
       "    }\n",
       "</style>\n",
       "<table border=\"1\" class=\"dataframe\">\n",
       "  <thead>\n",
       "    <tr style=\"text-align: right;\">\n",
       "      <th></th>\n",
       "      <th>itemA</th>\n",
       "      <th>itemB</th>\n",
       "      <th>itemC</th>\n",
       "      <th>itemD</th>\n",
       "    </tr>\n",
       "  </thead>\n",
       "  <tbody>\n",
       "    <tr>\n",
       "      <th>userA</th>\n",
       "      <td>1.0</td>\n",
       "      <td>0.0</td>\n",
       "      <td>1.0</td>\n",
       "      <td>0.0</td>\n",
       "    </tr>\n",
       "    <tr>\n",
       "      <th>userB</th>\n",
       "      <td>0.0</td>\n",
       "      <td>1.0</td>\n",
       "      <td>1.0</td>\n",
       "      <td>0.0</td>\n",
       "    </tr>\n",
       "    <tr>\n",
       "      <th>userC</th>\n",
       "      <td>1.0</td>\n",
       "      <td>0.0</td>\n",
       "      <td>1.0</td>\n",
       "      <td>1.0</td>\n",
       "    </tr>\n",
       "  </tbody>\n",
       "</table>\n",
       "</div>"
      ],
      "text/plain": [
       "       itemA  itemB  itemC  itemD\n",
       "userA    1.0    0.0    1.0    0.0\n",
       "userB    0.0    1.0    1.0    0.0\n",
       "userC    1.0    0.0    1.0    1.0"
      ]
     },
     "execution_count": 3,
     "metadata": {},
     "output_type": "execute_result"
    }
   ],
   "source": [
    "df = df.fillna(0)\n",
    "df"
   ]
  },
  {
   "cell_type": "markdown",
   "id": "c2a14efa",
   "metadata": {},
   "source": [
    "### 1.3 유클리디안 유사도 계산"
   ]
  },
  {
   "cell_type": "markdown",
   "id": "2f2b5b38",
   "metadata": {},
   "source": [
    "유저-아이템 평가 행렬에서 유저별로 유클리디안 유사도를 계산."
   ]
  },
  {
   "attachments": {
    "image.png": {
     "image/png": "[encoded data removed]"
    }
   },
   "cell_type": "markdown",
   "id": "b1b1c44d",
   "metadata": {},
   "source": [
    "![image.png](attachment:image.png)"
   ]
  },
  {
   "cell_type": "markdown",
   "id": "d1baf21d",
   "metadata": {},
   "source": [
    "sklearn.metrics.pairwise의 euclidean_distance를 이용."
   ]
  },
  {
   "cell_type": "code",
   "execution_count": 4,
   "id": "38ee36d1",
   "metadata": {},
   "outputs": [],
   "source": [
    "from sklearn.metrics.pairwise import euclidean_distances"
   ]
  },
  {
   "cell_type": "code",
   "execution_count": 5,
   "id": "fbe52618",
   "metadata": {},
   "outputs": [
    {
     "data": {
      "text/plain": [
       "array([[1.41421356]])"
      ]
     },
     "execution_count": 5,
     "metadata": {},
     "output_type": "execute_result"
    }
   ],
   "source": [
    "euclidean_distances(\n",
    "    X = df.loc[['userA']],\n",
    "    Y = df.loc[['userB']],\n",
    ")"
   ]
  },
  {
   "cell_type": "markdown",
   "id": "1e619300",
   "metadata": {},
   "source": [
    "euclidean_distances에 X와 Y를 입력할 경우, X와 Y의 각 Row끼리 유클리디안 거리를 계산.\n",
    "\n",
    "유저 A와 유저 B의 Row를 각각 X와 Y로 입력."
   ]
  },
  {
   "cell_type": "code",
   "execution_count": 6,
   "id": "c287014a",
   "metadata": {},
   "outputs": [
    {
     "data": {
      "text/plain": [
       "array([[0.        , 1.41421356, 1.        ],\n",
       "       [1.41421356, 0.        , 1.73205081],\n",
       "       [1.        , 1.73205081, 0.        ]])"
      ]
     },
     "execution_count": 6,
     "metadata": {},
     "output_type": "execute_result"
    }
   ],
   "source": [
    "euclidean_distances(df)"
   ]
  },
  {
   "cell_type": "markdown",
   "id": "46fda50e",
   "metadata": {},
   "source": [
    "euclidean_distances에 X만 입력할 경우, X의 모든 Row사이의 유클리디안 거리를 계산.\n",
    "\n",
    "전체 데이터를 입력할 경우 모든 유저 사이의 유클리디안 거리를 계산.\n",
    "\n",
    "유클리디안 거리에 역수를 취해 유클리디안 유사도를 계산."
   ]
  },
  {
   "cell_type": "code",
   "execution_count": 8,
   "id": "67e8737c",
   "metadata": {},
   "outputs": [
    {
     "data": {
      "text/plain": [
       "array([[1.00000000e+05, 7.07101781e-01, 9.99990000e-01],\n",
       "       [7.07101781e-01, 1.00000000e+05, 5.77346936e-01],\n",
       "       [9.99990000e-01, 5.77346936e-01, 1.00000000e+05]])"
      ]
     },
     "execution_count": 8,
     "metadata": {},
     "output_type": "execute_result"
    }
   ],
   "source": [
    "distance = euclidean_distances(df)\n",
    "similarity = 1 / (distance + 1e-5) # 0의 역수가 무한대가 나오는 것을 방지.\n",
    "similarity"
   ]
  },
  {
   "cell_type": "markdown",
   "id": "55f61dcd",
   "metadata": {},
   "source": [
    "## 2. 코사인 유사도"
   ]
  },
  {
   "cell_type": "markdown",
   "id": "7c116f7a",
   "metadata": {},
   "source": [
    "### 2.1 코사인 유사도 계산\n",
    "\n",
    "sklearn.metrics.pairwise의 cosine_similarity를 이용."
   ]
  },
  {
   "cell_type": "code",
   "execution_count": 9,
   "id": "529d9f29",
   "metadata": {},
   "outputs": [],
   "source": [
    "from sklearn.metrics.pairwise import cosine_similarity"
   ]
  },
  {
   "cell_type": "markdown",
   "id": "4e5d85bf",
   "metadata": {},
   "source": [
    "유클리디안 유사도 계산과 마찬가지로 X와 Y를 각각 입력하거나 X만 입력."
   ]
  },
  {
   "cell_type": "code",
   "execution_count": 10,
   "id": "d74c64bc",
   "metadata": {},
   "outputs": [
    {
     "data": {
      "text/plain": [
       "array([[0.5]])"
      ]
     },
     "execution_count": 10,
     "metadata": {},
     "output_type": "execute_result"
    }
   ],
   "source": [
    "cosine_similarity(\n",
    "    X = df.loc[['userA']],\n",
    "    Y = df.loc[['userB']],\n",
    ")"
   ]
  },
  {
   "cell_type": "markdown",
   "id": "fad470e2",
   "metadata": {},
   "source": [
    "모든 유저 사이의 코사인 유사도를 계산하기."
   ]
  },
  {
   "cell_type": "code",
   "execution_count": 11,
   "id": "f779e193",
   "metadata": {},
   "outputs": [
    {
     "data": {
      "text/plain": [
       "array([[1.        , 0.5       , 0.81649658],\n",
       "       [0.5       , 1.        , 0.40824829],\n",
       "       [0.81649658, 0.40824829, 1.        ]])"
      ]
     },
     "execution_count": 11,
     "metadata": {},
     "output_type": "execute_result"
    }
   ],
   "source": [
    "cosine_similarity(df)"
   ]
  },
  {
   "cell_type": "markdown",
   "id": "d0c8e235",
   "metadata": {},
   "source": [
    "## 3. 피어슨 유사도"
   ]
  },
  {
   "cell_type": "markdown",
   "id": "b04aac4f",
   "metadata": {},
   "source": [
    "### 3.1 Sample Data"
   ]
  },
  {
   "cell_type": "code",
   "execution_count": 12,
   "id": "00a5b5c1",
   "metadata": {},
   "outputs": [],
   "source": [
    "data = [\n",
    "    [4., 5., 4., 3.],\n",
    "    [3., 4., 3., 2.],\n",
    "    [4., 4., 5., 3.],\n",
    "]\n",
    "\n",
    "df = pd.DataFrame(\n",
    "    data=data,\n",
    "    index=['userA', 'userB', 'userC'],\n",
    "    columns=['itemA', 'itemB', 'itemC', 'itemD'],\n",
    ")"
   ]
  },
  {
   "cell_type": "code",
   "execution_count": 13,
   "id": "323896fe",
   "metadata": {},
   "outputs": [
    {
     "data": {
      "text/html": [
       "<div>\n",
       "<style scoped>\n",
       "    .dataframe tbody tr th:only-of-type {\n",
       "        vertical-align: middle;\n",
       "    }\n",
       "\n",
       "    .dataframe tbody tr th {\n",
       "        vertical-align: top;\n",
       "    }\n",
       "\n",
       "    .dataframe thead th {\n",
       "        text-align: right;\n",
       "    }\n",
       "</style>\n",
       "<table border=\"1\" class=\"dataframe\">\n",
       "  <thead>\n",
       "    <tr style=\"text-align: right;\">\n",
       "      <th></th>\n",
       "      <th>itemA</th>\n",
       "      <th>itemB</th>\n",
       "      <th>itemC</th>\n",
       "      <th>itemD</th>\n",
       "    </tr>\n",
       "  </thead>\n",
       "  <tbody>\n",
       "    <tr>\n",
       "      <th>userA</th>\n",
       "      <td>4.0</td>\n",
       "      <td>5.0</td>\n",
       "      <td>4.0</td>\n",
       "      <td>3.0</td>\n",
       "    </tr>\n",
       "    <tr>\n",
       "      <th>userB</th>\n",
       "      <td>3.0</td>\n",
       "      <td>4.0</td>\n",
       "      <td>3.0</td>\n",
       "      <td>2.0</td>\n",
       "    </tr>\n",
       "    <tr>\n",
       "      <th>userC</th>\n",
       "      <td>4.0</td>\n",
       "      <td>4.0</td>\n",
       "      <td>5.0</td>\n",
       "      <td>3.0</td>\n",
       "    </tr>\n",
       "  </tbody>\n",
       "</table>\n",
       "</div>"
      ],
      "text/plain": [
       "       itemA  itemB  itemC  itemD\n",
       "userA    4.0    5.0    4.0    3.0\n",
       "userB    3.0    4.0    3.0    2.0\n",
       "userC    4.0    4.0    5.0    3.0"
      ]
     },
     "execution_count": 13,
     "metadata": {},
     "output_type": "execute_result"
    }
   ],
   "source": [
    "df"
   ]
  },
  {
   "cell_type": "markdown",
   "id": "5f582976",
   "metadata": {},
   "source": [
    "### 3.2 피어슨 유사도 계산\n",
    "\n",
    "numpy.corrcoef는 데이터의 각 Row별로 유사도를 계산."
   ]
  },
  {
   "cell_type": "code",
   "execution_count": 14,
   "id": "1230bceb",
   "metadata": {},
   "outputs": [
    {
     "data": {
      "text/plain": [
       "array([[1. , 1. , 0.5],\n",
       "       [1. , 1. , 0.5],\n",
       "       [0.5, 0.5, 1. ]])"
      ]
     },
     "execution_count": 14,
     "metadata": {},
     "output_type": "execute_result"
    }
   ],
   "source": [
    "np.corrcoef(df)"
   ]
  },
  {
   "cell_type": "markdown",
   "id": "7c7302e0",
   "metadata": {},
   "source": [
    "### 3.3 코사인 유사도 계산\n",
    "\n",
    "피어슨 유사도는 코사인 유사도에서 유저 또는 아이템의 특성을 제거한 값과 같다.\n",
    "\n",
    "유저별로 선호도 평균을 계산하고, 기존 데이터에서 유저별 선호도를 제거.\n",
    "\n",
    "    1. df.mean(axis=1) 은 각 행에 대해 평균을 계산.\n",
    "    2. df1.sub(df2, axis=0) 은 인덱스를 기준으로 두 데이터의 차를 계산."
   ]
  },
  {
   "cell_type": "code",
   "execution_count": 17,
   "id": "5f300a36",
   "metadata": {},
   "outputs": [
    {
     "data": {
      "text/plain": [
       "userA    4.0\n",
       "userB    3.0\n",
       "userC    4.0\n",
       "dtype: float64"
      ]
     },
     "execution_count": 17,
     "metadata": {},
     "output_type": "execute_result"
    }
   ],
   "source": [
    "df.mean(axis=1) # 유저의 특성 = 유저의 평균."
   ]
  },
  {
   "cell_type": "code",
   "execution_count": 15,
   "id": "c2d92150",
   "metadata": {},
   "outputs": [],
   "source": [
    "user_mean = df.mean(axis=1)\n",
    "\n",
    "df_sub = df.sub(user_mean, axis=0)"
   ]
  },
  {
   "cell_type": "code",
   "execution_count": 18,
   "id": "aad33f9c",
   "metadata": {},
   "outputs": [
    {
     "data": {
      "text/html": [
       "<div>\n",
       "<style scoped>\n",
       "    .dataframe tbody tr th:only-of-type {\n",
       "        vertical-align: middle;\n",
       "    }\n",
       "\n",
       "    .dataframe tbody tr th {\n",
       "        vertical-align: top;\n",
       "    }\n",
       "\n",
       "    .dataframe thead th {\n",
       "        text-align: right;\n",
       "    }\n",
       "</style>\n",
       "<table border=\"1\" class=\"dataframe\">\n",
       "  <thead>\n",
       "    <tr style=\"text-align: right;\">\n",
       "      <th></th>\n",
       "      <th>itemA</th>\n",
       "      <th>itemB</th>\n",
       "      <th>itemC</th>\n",
       "      <th>itemD</th>\n",
       "    </tr>\n",
       "  </thead>\n",
       "  <tbody>\n",
       "    <tr>\n",
       "      <th>userA</th>\n",
       "      <td>0.0</td>\n",
       "      <td>1.0</td>\n",
       "      <td>0.0</td>\n",
       "      <td>-1.0</td>\n",
       "    </tr>\n",
       "    <tr>\n",
       "      <th>userB</th>\n",
       "      <td>0.0</td>\n",
       "      <td>1.0</td>\n",
       "      <td>0.0</td>\n",
       "      <td>-1.0</td>\n",
       "    </tr>\n",
       "    <tr>\n",
       "      <th>userC</th>\n",
       "      <td>0.0</td>\n",
       "      <td>0.0</td>\n",
       "      <td>1.0</td>\n",
       "      <td>-1.0</td>\n",
       "    </tr>\n",
       "  </tbody>\n",
       "</table>\n",
       "</div>"
      ],
      "text/plain": [
       "       itemA  itemB  itemC  itemD\n",
       "userA    0.0    1.0    0.0   -1.0\n",
       "userB    0.0    1.0    0.0   -1.0\n",
       "userC    0.0    0.0    1.0   -1.0"
      ]
     },
     "execution_count": 18,
     "metadata": {},
     "output_type": "execute_result"
    }
   ],
   "source": [
    "df_sub"
   ]
  },
  {
   "cell_type": "code",
   "execution_count": 16,
   "id": "33c761da",
   "metadata": {},
   "outputs": [
    {
     "data": {
      "text/plain": [
       "array([[1. , 1. , 0.5],\n",
       "       [1. , 1. , 0.5],\n",
       "       [0.5, 0.5, 1. ]])"
      ]
     },
     "execution_count": 16,
     "metadata": {},
     "output_type": "execute_result"
    }
   ],
   "source": [
    "cosine_similarity(df_sub)"
   ]
  },
  {
   "cell_type": "markdown",
   "id": "9232f78e",
   "metadata": {},
   "source": [
    "cosine_similarity의 값과 pearson_similarity의 값이 동일."
   ]
  },
  {
   "cell_type": "markdown",
   "id": "69e93f10",
   "metadata": {},
   "source": [
    "## 4. 자카드 유사도"
   ]
  },
  {
   "cell_type": "markdown",
   "id": "b25569a8",
   "metadata": {},
   "source": [
    "### 4.1 Sample Data"
   ]
  },
  {
   "cell_type": "code",
   "execution_count": 19,
   "id": "5eea5973",
   "metadata": {},
   "outputs": [
    {
     "data": {
      "text/html": [
       "<div>\n",
       "<style scoped>\n",
       "    .dataframe tbody tr th:only-of-type {\n",
       "        vertical-align: middle;\n",
       "    }\n",
       "\n",
       "    .dataframe tbody tr th {\n",
       "        vertical-align: top;\n",
       "    }\n",
       "\n",
       "    .dataframe thead th {\n",
       "        text-align: right;\n",
       "    }\n",
       "</style>\n",
       "<table border=\"1\" class=\"dataframe\">\n",
       "  <thead>\n",
       "    <tr style=\"text-align: right;\">\n",
       "      <th></th>\n",
       "      <th>itemA</th>\n",
       "      <th>itemB</th>\n",
       "      <th>itemC</th>\n",
       "      <th>itemD</th>\n",
       "      <th>item#</th>\n",
       "    </tr>\n",
       "  </thead>\n",
       "  <tbody>\n",
       "    <tr>\n",
       "      <th>userA</th>\n",
       "      <td>4.0</td>\n",
       "      <td>0.0</td>\n",
       "      <td>4.0</td>\n",
       "      <td>3.0</td>\n",
       "      <td>0.0</td>\n",
       "    </tr>\n",
       "    <tr>\n",
       "      <th>userB</th>\n",
       "      <td>3.0</td>\n",
       "      <td>4.0</td>\n",
       "      <td>0.0</td>\n",
       "      <td>2.0</td>\n",
       "      <td>0.0</td>\n",
       "    </tr>\n",
       "    <tr>\n",
       "      <th>userC</th>\n",
       "      <td>0.0</td>\n",
       "      <td>0.0</td>\n",
       "      <td>4.0</td>\n",
       "      <td>5.0</td>\n",
       "      <td>3.0</td>\n",
       "    </tr>\n",
       "  </tbody>\n",
       "</table>\n",
       "</div>"
      ],
      "text/plain": [
       "       itemA  itemB  itemC  itemD  item#\n",
       "userA    4.0    0.0    4.0    3.0    0.0\n",
       "userB    3.0    4.0    0.0    2.0    0.0\n",
       "userC    0.0    0.0    4.0    5.0    3.0"
      ]
     },
     "execution_count": 19,
     "metadata": {},
     "output_type": "execute_result"
    }
   ],
   "source": [
    "data = [\n",
    "    [4., 0., 4., 3., 0.],\n",
    "    [3., 4., 0., 2., 0.],\n",
    "    [0., 0., 4., 5., 3.],\n",
    "]\n",
    "\n",
    "df = pd.DataFrame(\n",
    "    data=data,\n",
    "    index=['userA', 'userB', 'userC'],\n",
    "    columns=['itemA', 'itemB', 'itemC', 'itemD', 'item#'],\n",
    ")\n",
    "\n",
    "df"
   ]
  },
  {
   "cell_type": "markdown",
   "id": "3f08e5e6",
   "metadata": {},
   "source": [
    "### 4.2 자카드 유사도 계산\n",
    "\n",
    "sklearn.metrics의 jaccard_score를 이용."
   ]
  },
  {
   "cell_type": "code",
   "execution_count": 20,
   "id": "95c98b4b",
   "metadata": {},
   "outputs": [],
   "source": [
    "from sklearn.metrics import jaccard_score"
   ]
  },
  {
   "cell_type": "markdown",
   "id": "95f1ca95",
   "metadata": {},
   "source": [
    "jaccard_score는 값의 크기는 무시하고 아이템의 유무를 0과 1로 표현.\n",
    "\n",
    "0보다 큰 값을 가지는 경우 선호도를 평가한 것을 표현하기 위해 1로 대체."
   ]
  },
  {
   "cell_type": "code",
   "execution_count": 21,
   "id": "8b068228",
   "metadata": {},
   "outputs": [
    {
     "data": {
      "text/html": [
       "<div>\n",
       "<style scoped>\n",
       "    .dataframe tbody tr th:only-of-type {\n",
       "        vertical-align: middle;\n",
       "    }\n",
       "\n",
       "    .dataframe tbody tr th {\n",
       "        vertical-align: top;\n",
       "    }\n",
       "\n",
       "    .dataframe thead th {\n",
       "        text-align: right;\n",
       "    }\n",
       "</style>\n",
       "<table border=\"1\" class=\"dataframe\">\n",
       "  <thead>\n",
       "    <tr style=\"text-align: right;\">\n",
       "      <th></th>\n",
       "      <th>itemA</th>\n",
       "      <th>itemB</th>\n",
       "      <th>itemC</th>\n",
       "      <th>itemD</th>\n",
       "      <th>item#</th>\n",
       "    </tr>\n",
       "  </thead>\n",
       "  <tbody>\n",
       "    <tr>\n",
       "      <th>userA</th>\n",
       "      <td>1.0</td>\n",
       "      <td>0.0</td>\n",
       "      <td>1.0</td>\n",
       "      <td>1.0</td>\n",
       "      <td>0.0</td>\n",
       "    </tr>\n",
       "    <tr>\n",
       "      <th>userB</th>\n",
       "      <td>1.0</td>\n",
       "      <td>1.0</td>\n",
       "      <td>0.0</td>\n",
       "      <td>1.0</td>\n",
       "      <td>0.0</td>\n",
       "    </tr>\n",
       "    <tr>\n",
       "      <th>userC</th>\n",
       "      <td>0.0</td>\n",
       "      <td>0.0</td>\n",
       "      <td>1.0</td>\n",
       "      <td>1.0</td>\n",
       "      <td>1.0</td>\n",
       "    </tr>\n",
       "  </tbody>\n",
       "</table>\n",
       "</div>"
      ],
      "text/plain": [
       "       itemA  itemB  itemC  itemD  item#\n",
       "userA    1.0    0.0    1.0    1.0    0.0\n",
       "userB    1.0    1.0    0.0    1.0    0.0\n",
       "userC    0.0    0.0    1.0    1.0    1.0"
      ]
     },
     "execution_count": 21,
     "metadata": {},
     "output_type": "execute_result"
    }
   ],
   "source": [
    "df[df > 0] = 1\n",
    "df"
   ]
  },
  {
   "cell_type": "markdown",
   "id": "ad5c6672",
   "metadata": {},
   "source": [
    "jaccard_score는 비교하는 두 유저의 값을 각각 입력."
   ]
  },
  {
   "cell_type": "code",
   "execution_count": 22,
   "id": "b543b5e0",
   "metadata": {},
   "outputs": [
    {
     "data": {
      "text/plain": [
       "0.2"
      ]
     },
     "execution_count": 22,
     "metadata": {},
     "output_type": "execute_result"
    }
   ],
   "source": [
    "jaccard_score(\n",
    "    df.loc['userB'],\n",
    "    df.loc['userC'],\n",
    ")"
   ]
  },
  {
   "cell_type": "code",
   "execution_count": null,
   "id": "986d5585",
   "metadata": {},
   "outputs": [],
   "source": []
  }
 ],
 "metadata": {
  "kernelspec": {
   "display_name": "Python 3 (ipykernel)",
   "language": "python",
   "name": "python3"
  },
  "language_info": {
   "codemirror_mode": {
    "name": "ipython",
    "version": 3
   },
   "file_extension": ".py",
   "mimetype": "text/x-python",
   "name": "python",
   "nbconvert_exporter": "python",
   "pygments_lexer": "ipython3",
   "version": "3.8.6"
  }
 },
 "nbformat": 4,
 "nbformat_minor": 5
}
