{
 "cells": [
  {
   "cell_type": "code",
   "execution_count": 1,
   "id": "309e202c",
   "metadata": {},
   "outputs": [],
   "source": [
    "import pandas as pd\n",
    "train_dataset = pd.read_csv('./data/MNIST/mnist_train.csv')\n",
    "test_dataset = pd.read_csv('./data/MNIST/mnist_test.csv')"
   ]
  },
  {
   "cell_type": "code",
   "execution_count": 2,
   "id": "da8a40a6",
   "metadata": {},
   "outputs": [
    {
     "data": {
      "text/html": [
       "<div>\n",
       "<style scoped>\n",
       "    .dataframe tbody tr th:only-of-type {\n",
       "        vertical-align: middle;\n",
       "    }\n",
       "\n",
       "    .dataframe tbody tr th {\n",
       "        vertical-align: top;\n",
       "    }\n",
       "\n",
       "    .dataframe thead th {\n",
       "        text-align: right;\n",
       "    }\n",
       "</style>\n",
       "<table border=\"1\" class=\"dataframe\">\n",
       "  <thead>\n",
       "    <tr style=\"text-align: right;\">\n",
       "      <th></th>\n",
       "      <th>label</th>\n",
       "      <th>1x1</th>\n",
       "      <th>1x2</th>\n",
       "      <th>1x3</th>\n",
       "      <th>1x4</th>\n",
       "      <th>1x5</th>\n",
       "      <th>1x6</th>\n",
       "      <th>1x7</th>\n",
       "      <th>1x8</th>\n",
       "      <th>1x9</th>\n",
       "      <th>...</th>\n",
       "      <th>28x19</th>\n",
       "      <th>28x20</th>\n",
       "      <th>28x21</th>\n",
       "      <th>28x22</th>\n",
       "      <th>28x23</th>\n",
       "      <th>28x24</th>\n",
       "      <th>28x25</th>\n",
       "      <th>28x26</th>\n",
       "      <th>28x27</th>\n",
       "      <th>28x28</th>\n",
       "    </tr>\n",
       "  </thead>\n",
       "  <tbody>\n",
       "    <tr>\n",
       "      <th>0</th>\n",
       "      <td>5</td>\n",
       "      <td>0</td>\n",
       "      <td>0</td>\n",
       "      <td>0</td>\n",
       "      <td>0</td>\n",
       "      <td>0</td>\n",
       "      <td>0</td>\n",
       "      <td>0</td>\n",
       "      <td>0</td>\n",
       "      <td>0</td>\n",
       "      <td>...</td>\n",
       "      <td>0</td>\n",
       "      <td>0</td>\n",
       "      <td>0</td>\n",
       "      <td>0</td>\n",
       "      <td>0</td>\n",
       "      <td>0</td>\n",
       "      <td>0</td>\n",
       "      <td>0</td>\n",
       "      <td>0</td>\n",
       "      <td>0</td>\n",
       "    </tr>\n",
       "    <tr>\n",
       "      <th>1</th>\n",
       "      <td>0</td>\n",
       "      <td>0</td>\n",
       "      <td>0</td>\n",
       "      <td>0</td>\n",
       "      <td>0</td>\n",
       "      <td>0</td>\n",
       "      <td>0</td>\n",
       "      <td>0</td>\n",
       "      <td>0</td>\n",
       "      <td>0</td>\n",
       "      <td>...</td>\n",
       "      <td>0</td>\n",
       "      <td>0</td>\n",
       "      <td>0</td>\n",
       "      <td>0</td>\n",
       "      <td>0</td>\n",
       "      <td>0</td>\n",
       "      <td>0</td>\n",
       "      <td>0</td>\n",
       "      <td>0</td>\n",
       "      <td>0</td>\n",
       "    </tr>\n",
       "    <tr>\n",
       "      <th>2</th>\n",
       "      <td>4</td>\n",
       "      <td>0</td>\n",
       "      <td>0</td>\n",
       "      <td>0</td>\n",
       "      <td>0</td>\n",
       "      <td>0</td>\n",
       "      <td>0</td>\n",
       "      <td>0</td>\n",
       "      <td>0</td>\n",
       "      <td>0</td>\n",
       "      <td>...</td>\n",
       "      <td>0</td>\n",
       "      <td>0</td>\n",
       "      <td>0</td>\n",
       "      <td>0</td>\n",
       "      <td>0</td>\n",
       "      <td>0</td>\n",
       "      <td>0</td>\n",
       "      <td>0</td>\n",
       "      <td>0</td>\n",
       "      <td>0</td>\n",
       "    </tr>\n",
       "    <tr>\n",
       "      <th>3</th>\n",
       "      <td>1</td>\n",
       "      <td>0</td>\n",
       "      <td>0</td>\n",
       "      <td>0</td>\n",
       "      <td>0</td>\n",
       "      <td>0</td>\n",
       "      <td>0</td>\n",
       "      <td>0</td>\n",
       "      <td>0</td>\n",
       "      <td>0</td>\n",
       "      <td>...</td>\n",
       "      <td>0</td>\n",
       "      <td>0</td>\n",
       "      <td>0</td>\n",
       "      <td>0</td>\n",
       "      <td>0</td>\n",
       "      <td>0</td>\n",
       "      <td>0</td>\n",
       "      <td>0</td>\n",
       "      <td>0</td>\n",
       "      <td>0</td>\n",
       "    </tr>\n",
       "    <tr>\n",
       "      <th>4</th>\n",
       "      <td>9</td>\n",
       "      <td>0</td>\n",
       "      <td>0</td>\n",
       "      <td>0</td>\n",
       "      <td>0</td>\n",
       "      <td>0</td>\n",
       "      <td>0</td>\n",
       "      <td>0</td>\n",
       "      <td>0</td>\n",
       "      <td>0</td>\n",
       "      <td>...</td>\n",
       "      <td>0</td>\n",
       "      <td>0</td>\n",
       "      <td>0</td>\n",
       "      <td>0</td>\n",
       "      <td>0</td>\n",
       "      <td>0</td>\n",
       "      <td>0</td>\n",
       "      <td>0</td>\n",
       "      <td>0</td>\n",
       "      <td>0</td>\n",
       "    </tr>\n",
       "  </tbody>\n",
       "</table>\n",
       "<p>5 rows × 785 columns</p>\n",
       "</div>"
      ],
      "text/plain": [
       "   label  1x1  1x2  1x3  1x4  1x5  1x6  1x7  1x8  1x9  ...  28x19  28x20  \\\n",
       "0      5    0    0    0    0    0    0    0    0    0  ...      0      0   \n",
       "1      0    0    0    0    0    0    0    0    0    0  ...      0      0   \n",
       "2      4    0    0    0    0    0    0    0    0    0  ...      0      0   \n",
       "3      1    0    0    0    0    0    0    0    0    0  ...      0      0   \n",
       "4      9    0    0    0    0    0    0    0    0    0  ...      0      0   \n",
       "\n",
       "   28x21  28x22  28x23  28x24  28x25  28x26  28x27  28x28  \n",
       "0      0      0      0      0      0      0      0      0  \n",
       "1      0      0      0      0      0      0      0      0  \n",
       "2      0      0      0      0      0      0      0      0  \n",
       "3      0      0      0      0      0      0      0      0  \n",
       "4      0      0      0      0      0      0      0      0  \n",
       "\n",
       "[5 rows x 785 columns]"
      ]
     },
     "execution_count": 2,
     "metadata": {},
     "output_type": "execute_result"
    }
   ],
   "source": [
    "train_dataset.head()"
   ]
  },
  {
   "cell_type": "code",
   "execution_count": 3,
   "id": "5ddddc1a",
   "metadata": {},
   "outputs": [
    {
     "data": {
      "text/html": [
       "<div>\n",
       "<style scoped>\n",
       "    .dataframe tbody tr th:only-of-type {\n",
       "        vertical-align: middle;\n",
       "    }\n",
       "\n",
       "    .dataframe tbody tr th {\n",
       "        vertical-align: top;\n",
       "    }\n",
       "\n",
       "    .dataframe thead th {\n",
       "        text-align: right;\n",
       "    }\n",
       "</style>\n",
       "<table border=\"1\" class=\"dataframe\">\n",
       "  <thead>\n",
       "    <tr style=\"text-align: right;\">\n",
       "      <th></th>\n",
       "      <th>label</th>\n",
       "      <th>1x1</th>\n",
       "      <th>1x2</th>\n",
       "      <th>1x3</th>\n",
       "      <th>1x4</th>\n",
       "      <th>1x5</th>\n",
       "      <th>1x6</th>\n",
       "      <th>1x7</th>\n",
       "      <th>1x8</th>\n",
       "      <th>1x9</th>\n",
       "      <th>...</th>\n",
       "      <th>28x19</th>\n",
       "      <th>28x20</th>\n",
       "      <th>28x21</th>\n",
       "      <th>28x22</th>\n",
       "      <th>28x23</th>\n",
       "      <th>28x24</th>\n",
       "      <th>28x25</th>\n",
       "      <th>28x26</th>\n",
       "      <th>28x27</th>\n",
       "      <th>28x28</th>\n",
       "    </tr>\n",
       "  </thead>\n",
       "  <tbody>\n",
       "    <tr>\n",
       "      <th>0</th>\n",
       "      <td>7</td>\n",
       "      <td>0</td>\n",
       "      <td>0</td>\n",
       "      <td>0</td>\n",
       "      <td>0</td>\n",
       "      <td>0</td>\n",
       "      <td>0</td>\n",
       "      <td>0</td>\n",
       "      <td>0</td>\n",
       "      <td>0</td>\n",
       "      <td>...</td>\n",
       "      <td>0</td>\n",
       "      <td>0</td>\n",
       "      <td>0</td>\n",
       "      <td>0</td>\n",
       "      <td>0</td>\n",
       "      <td>0</td>\n",
       "      <td>0</td>\n",
       "      <td>0</td>\n",
       "      <td>0</td>\n",
       "      <td>0</td>\n",
       "    </tr>\n",
       "    <tr>\n",
       "      <th>1</th>\n",
       "      <td>2</td>\n",
       "      <td>0</td>\n",
       "      <td>0</td>\n",
       "      <td>0</td>\n",
       "      <td>0</td>\n",
       "      <td>0</td>\n",
       "      <td>0</td>\n",
       "      <td>0</td>\n",
       "      <td>0</td>\n",
       "      <td>0</td>\n",
       "      <td>...</td>\n",
       "      <td>0</td>\n",
       "      <td>0</td>\n",
       "      <td>0</td>\n",
       "      <td>0</td>\n",
       "      <td>0</td>\n",
       "      <td>0</td>\n",
       "      <td>0</td>\n",
       "      <td>0</td>\n",
       "      <td>0</td>\n",
       "      <td>0</td>\n",
       "    </tr>\n",
       "    <tr>\n",
       "      <th>2</th>\n",
       "      <td>1</td>\n",
       "      <td>0</td>\n",
       "      <td>0</td>\n",
       "      <td>0</td>\n",
       "      <td>0</td>\n",
       "      <td>0</td>\n",
       "      <td>0</td>\n",
       "      <td>0</td>\n",
       "      <td>0</td>\n",
       "      <td>0</td>\n",
       "      <td>...</td>\n",
       "      <td>0</td>\n",
       "      <td>0</td>\n",
       "      <td>0</td>\n",
       "      <td>0</td>\n",
       "      <td>0</td>\n",
       "      <td>0</td>\n",
       "      <td>0</td>\n",
       "      <td>0</td>\n",
       "      <td>0</td>\n",
       "      <td>0</td>\n",
       "    </tr>\n",
       "    <tr>\n",
       "      <th>3</th>\n",
       "      <td>0</td>\n",
       "      <td>0</td>\n",
       "      <td>0</td>\n",
       "      <td>0</td>\n",
       "      <td>0</td>\n",
       "      <td>0</td>\n",
       "      <td>0</td>\n",
       "      <td>0</td>\n",
       "      <td>0</td>\n",
       "      <td>0</td>\n",
       "      <td>...</td>\n",
       "      <td>0</td>\n",
       "      <td>0</td>\n",
       "      <td>0</td>\n",
       "      <td>0</td>\n",
       "      <td>0</td>\n",
       "      <td>0</td>\n",
       "      <td>0</td>\n",
       "      <td>0</td>\n",
       "      <td>0</td>\n",
       "      <td>0</td>\n",
       "    </tr>\n",
       "    <tr>\n",
       "      <th>4</th>\n",
       "      <td>4</td>\n",
       "      <td>0</td>\n",
       "      <td>0</td>\n",
       "      <td>0</td>\n",
       "      <td>0</td>\n",
       "      <td>0</td>\n",
       "      <td>0</td>\n",
       "      <td>0</td>\n",
       "      <td>0</td>\n",
       "      <td>0</td>\n",
       "      <td>...</td>\n",
       "      <td>0</td>\n",
       "      <td>0</td>\n",
       "      <td>0</td>\n",
       "      <td>0</td>\n",
       "      <td>0</td>\n",
       "      <td>0</td>\n",
       "      <td>0</td>\n",
       "      <td>0</td>\n",
       "      <td>0</td>\n",
       "      <td>0</td>\n",
       "    </tr>\n",
       "  </tbody>\n",
       "</table>\n",
       "<p>5 rows × 785 columns</p>\n",
       "</div>"
      ],
      "text/plain": [
       "   label  1x1  1x2  1x3  1x4  1x5  1x6  1x7  1x8  1x9  ...  28x19  28x20  \\\n",
       "0      7    0    0    0    0    0    0    0    0    0  ...      0      0   \n",
       "1      2    0    0    0    0    0    0    0    0    0  ...      0      0   \n",
       "2      1    0    0    0    0    0    0    0    0    0  ...      0      0   \n",
       "3      0    0    0    0    0    0    0    0    0    0  ...      0      0   \n",
       "4      4    0    0    0    0    0    0    0    0    0  ...      0      0   \n",
       "\n",
       "   28x21  28x22  28x23  28x24  28x25  28x26  28x27  28x28  \n",
       "0      0      0      0      0      0      0      0      0  \n",
       "1      0      0      0      0      0      0      0      0  \n",
       "2      0      0      0      0      0      0      0      0  \n",
       "3      0      0      0      0      0      0      0      0  \n",
       "4      0      0      0      0      0      0      0      0  \n",
       "\n",
       "[5 rows x 785 columns]"
      ]
     },
     "execution_count": 3,
     "metadata": {},
     "output_type": "execute_result"
    }
   ],
   "source": [
    "test_dataset.head()"
   ]
  },
  {
   "cell_type": "code",
   "execution_count": 4,
   "id": "b9b8e96e",
   "metadata": {},
   "outputs": [],
   "source": [
    "# Split to Image & Label\n",
    "\n",
    "# train_image\n",
    "train_images = (train_dataset.iloc[:, 1:].values).astype('float32') # values는 속성값들만 추출.\n",
    "# train_labels\n",
    "train_labels = train_dataset['label'].values\n",
    "\n",
    "# test\n",
    "test_images = (test_dataset.iloc[:, 1:].values).astype('float32')\n",
    "test_labels = test_dataset['label'].values"
   ]
  },
  {
   "cell_type": "code",
   "execution_count": 5,
   "id": "00ec8acf",
   "metadata": {},
   "outputs": [
    {
     "data": {
      "text/plain": [
       "array([[0., 0., 0., ..., 0., 0., 0.],\n",
       "       [0., 0., 0., ..., 0., 0., 0.],\n",
       "       [0., 0., 0., ..., 0., 0., 0.],\n",
       "       ...,\n",
       "       [0., 0., 0., ..., 0., 0., 0.],\n",
       "       [0., 0., 0., ..., 0., 0., 0.],\n",
       "       [0., 0., 0., ..., 0., 0., 0.]], dtype=float32)"
      ]
     },
     "execution_count": 5,
     "metadata": {},
     "output_type": "execute_result"
    }
   ],
   "source": [
    "# Check Train Data's Image\n",
    "train_images # 28 * 28 = 784개의 데이터"
   ]
  },
  {
   "cell_type": "code",
   "execution_count": 6,
   "id": "d1918e28",
   "metadata": {},
   "outputs": [
    {
     "data": {
      "text/plain": [
       "array([5, 0, 4, ..., 5, 6, 8], dtype=int64)"
      ]
     },
     "execution_count": 6,
     "metadata": {},
     "output_type": "execute_result"
    }
   ],
   "source": [
    "# Check Train Data's Label\n",
    "train_labels"
   ]
  },
  {
   "cell_type": "code",
   "execution_count": 7,
   "id": "710655d0",
   "metadata": {},
   "outputs": [
    {
     "data": {
      "text/plain": [
       "array([[0., 0., 0., ..., 0., 0., 0.],\n",
       "       [0., 0., 0., ..., 0., 0., 0.],\n",
       "       [0., 0., 0., ..., 0., 0., 0.],\n",
       "       ...,\n",
       "       [0., 0., 0., ..., 0., 0., 0.],\n",
       "       [0., 0., 0., ..., 0., 0., 0.],\n",
       "       [0., 0., 0., ..., 0., 0., 0.]], dtype=float32)"
      ]
     },
     "execution_count": 7,
     "metadata": {},
     "output_type": "execute_result"
    }
   ],
   "source": [
    "# Check Test Data's Image\n",
    "test_images"
   ]
  },
  {
   "cell_type": "code",
   "execution_count": 8,
   "id": "c301e62f",
   "metadata": {},
   "outputs": [
    {
     "data": {
      "text/plain": [
       "array([7, 2, 1, ..., 4, 5, 6], dtype=int64)"
      ]
     },
     "execution_count": 8,
     "metadata": {},
     "output_type": "execute_result"
    }
   ],
   "source": [
    "# Check Test Data's Label\n",
    "test_labels"
   ]
  },
  {
   "cell_type": "code",
   "execution_count": 9,
   "id": "dffc6dfc",
   "metadata": {},
   "outputs": [],
   "source": [
    "# Split into Train, Valid Dataset\n",
    "from sklearn.model_selection import train_test_split\n",
    "train_images, valid_images, train_labels, valid_labels = train_test_split(train_images,\n",
    "                                                                          train_labels,\n",
    "                                                                          stratify = train_labels,\n",
    "                                                                          random_state = 42,\n",
    "                                                                          test_size = 0.2)"
   ]
  },
  {
   "cell_type": "markdown",
   "id": "1f069b75",
   "metadata": {},
   "source": [
    "- train_test_split(train_images, train_labels, stratify, random_state, test_size)\n",
    "    - train_images : 기존 정의 train_images\n",
    "    - train_labels : 기존 정의 train_labels\n",
    "    \n",
    "    - shuffle\n",
    "        - default = True\n",
    "        - split을 해주기 이전에 섞을지 여부. (주로 default)\n",
    "    - stratify\n",
    "        - default = None\n",
    "        - classification을 다룰 때 매우 중요한 옵션.\n",
    "        - stratify = 'Target' 으로 지정시,\n",
    "            - 각각의 class 비율을 train / validation에 유지.\n",
    "            - 한쪽에 쏠려서 분배되는 것을 방지.\n",
    "    - random_state\n",
    "        - 세트를 섞을 때 parameter 값을 보고 섞음.\n",
    "        - 하이퍼 파라미터 튜닝 시,\n",
    "            - 값을 지정해둬야 매번 데이터셋이 변경되는 것을 방지.\n",
    "    - test_size\n",
    "        - default = 0.25\n",
    "        - 테스트 셋 구성의 비율.\n",
    "        - train_size 옵션과 반대 관계. (주로 test_size를 지정)\n",
    "        - ex) 0.2 : 전체 데이터의 20%를 test로 지정하겠다."
   ]
  },
  {
   "cell_type": "code",
   "execution_count": 10,
   "id": "20c4e8b3",
   "metadata": {},
   "outputs": [
    {
     "name": "stdout",
     "output_type": "stream",
     "text": [
      "The Shape of Train Images:  (48000, 784)\n",
      "The Shape of Valid Images:  (12000, 784)\n",
      "The Shape of Test Images:  (10000, 784)\n"
     ]
    }
   ],
   "source": [
    "# Check Train, Valid, Test Image's Shape\n",
    "print('The Shape of Train Images: ', train_images.shape)\n",
    "print('The Shape of Valid Images: ', valid_images.shape)\n",
    "print('The Shape of Test Images: ', test_images.shape)"
   ]
  },
  {
   "cell_type": "code",
   "execution_count": 11,
   "id": "01f7428a",
   "metadata": {},
   "outputs": [
    {
     "name": "stdout",
     "output_type": "stream",
     "text": [
      "The Shape of Train Labels:  (48000,)\n",
      "The Shape of Valid Labels:  (12000,)\n",
      "The Shape of Test Labels:  (10000,)\n"
     ]
    }
   ],
   "source": [
    "# Check Train, Valid Label's Shape\n",
    "print('The Shape of Train Labels: ', train_labels.shape)\n",
    "print('The Shape of Valid Labels: ', valid_labels.shape)\n",
    "print('The Shape of Test Labels: ', test_labels.shape)"
   ]
  },
  {
   "cell_type": "code",
   "execution_count": 13,
   "id": "daed0810",
   "metadata": {},
   "outputs": [],
   "source": [
    "# Reshape image's size to check for ours\n",
    "# 784를 좀 더 보기 편하게 reshape.\n",
    "train_images = train_images.reshape(train_images.shape[0], 28, 28)\n",
    "valid_images = valid_images.reshape(valid_images.shape[0], 28, 28)\n",
    "test_images = test_images.reshape(test_images.shape[0], 28, 28)"
   ]
  },
  {
   "cell_type": "code",
   "execution_count": 15,
   "id": "7c264463",
   "metadata": {},
   "outputs": [
    {
     "name": "stdout",
     "output_type": "stream",
     "text": [
      "The Shape of Train Images:  (48000, 28, 28)\n",
      "The Shape of Valid Images:  (12000, 28, 28)\n",
      "The Shape of Test Images:  (10000, 28, 28)\n"
     ]
    }
   ],
   "source": [
    "# Check Train, Valid, Test Image's Shape after reshape\n",
    "print('The Shape of Train Images: ', train_images.shape)\n",
    "print('The Shape of Valid Images: ', valid_images.shape)\n",
    "print('The Shape of Test Images: ', test_images.shape)"
   ]
  },
  {
   "cell_type": "code",
   "execution_count": 18,
   "id": "2889e938",
   "metadata": {},
   "outputs": [
    {
     "data": {
      "image/png": "[encoded data removed]",
      "text/plain": [
       "<Figure size 432x288 with 1 Axes>"
      ]
     },
     "metadata": {
      "needs_background": "light"
     },
     "output_type": "display_data"
    },
    {
     "data": {
      "image/png": "[encoded data removed]",
      "text/plain": [
       "<Figure size 432x288 with 1 Axes>"
      ]
     },
     "metadata": {
      "needs_background": "light"
     },
     "output_type": "display_data"
    },
    {
     "data": {
      "image/png": "[encoded data removed]",
      "text/plain": [
       "<Figure size 432x288 with 1 Axes>"
      ]
     },
     "metadata": {
      "needs_background": "light"
     },
     "output_type": "display_data"
    },
    {
     "data": {
      "image/png": "[encoded data removed]",
      "text/plain": [
       "<Figure size 432x288 with 1 Axes>"
      ]
     },
     "metadata": {
      "needs_background": "light"
     },
     "output_type": "display_data"
    },
    {
     "data": {
      "image/png": "[encoded data removed]",
      "text/plain": [
       "<Figure size 432x288 with 1 Axes>"
      ]
     },
     "metadata": {
      "needs_background": "light"
     },
     "output_type": "display_data"
    }
   ],
   "source": [
    "# Visualize Train, Valid, Test's Images\n",
    "import matplotlib.pyplot as plt\n",
    "for idx in range(0, 5):\n",
    "    plt.imshow(train_images[idx], cmap = plt.get_cmap('gray'))\n",
    "    plt.title(train_labels[idx])\n",
    "    plt.show()"
   ]
  },
  {
   "cell_type": "code",
   "execution_count": 19,
   "id": "ab88e052",
   "metadata": {},
   "outputs": [
    {
     "data": {
      "image/png": "[encoded data removed]",
      "text/plain": [
       "<Figure size 432x288 with 1 Axes>"
      ]
     },
     "metadata": {
      "needs_background": "light"
     },
     "output_type": "display_data"
    },
    {
     "data": {
      "image/png": "[encoded data removed]",
      "text/plain": [
       "<Figure size 432x288 with 1 Axes>"
      ]
     },
     "metadata": {
      "needs_background": "light"
     },
     "output_type": "display_data"
    },
    {
     "data": {
      "image/png": "[encoded data removed]",
      "text/plain": [
       "<Figure size 432x288 with 1 Axes>"
      ]
     },
     "metadata": {
      "needs_background": "light"
     },
     "output_type": "display_data"
    },
    {
     "data": {
      "image/png": "[encoded data removed]",
      "text/plain": [
       "<Figure size 432x288 with 1 Axes>"
      ]
     },
     "metadata": {
      "needs_background": "light"
     },
     "output_type": "display_data"
    },
    {
     "data": {
      "image/png": "[encoded data removed]",
      "text/plain": [
       "<Figure size 432x288 with 1 Axes>"
      ]
     },
     "metadata": {
      "needs_background": "light"
     },
     "output_type": "display_data"
    }
   ],
   "source": [
    "for idx in range(0, 5):\n",
    "    plt.imshow(valid_images[idx], cmap = plt.get_cmap('gray'))\n",
    "    plt.title(valid_labels[idx])\n",
    "    plt.show()"
   ]
  },
  {
   "cell_type": "code",
   "execution_count": 20,
   "id": "e883b013",
   "metadata": {},
   "outputs": [
    {
     "data": {
      "image/png": "[encoded data removed]",
      "text/plain": [
       "<Figure size 432x288 with 1 Axes>"
      ]
     },
     "metadata": {
      "needs_background": "light"
     },
     "output_type": "display_data"
    },
    {
     "data": {
      "image/png": "[encoded data removed]",
      "text/plain": [
       "<Figure size 432x288 with 1 Axes>"
      ]
     },
     "metadata": {
      "needs_background": "light"
     },
     "output_type": "display_data"
    },
    {
     "data": {
      "image/png": "[encoded data removed]",
      "text/plain": [
       "<Figure size 432x288 with 1 Axes>"
      ]
     },
     "metadata": {
      "needs_background": "light"
     },
     "output_type": "display_data"
    },
    {
     "data": {
      "image/png": "[encoded data removed]",
      "text/plain": [
       "<Figure size 432x288 with 1 Axes>"
      ]
     },
     "metadata": {
      "needs_background": "light"
     },
     "output_type": "display_data"
    },
    {
     "data": {
      "image/png": "[encoded data removed]",
      "text/plain": [
       "<Figure size 432x288 with 1 Axes>"
      ]
     },
     "metadata": {
      "needs_background": "light"
     },
     "output_type": "display_data"
    }
   ],
   "source": [
    "for idx in range(0, 5):\n",
    "    plt.imshow(test_images[idx], cmap = plt.get_cmap('gray'))\n",
    "    plt.title(test_labels[idx])\n",
    "    plt.show()"
   ]
  },
  {
   "cell_type": "code",
   "execution_count": 26,
   "id": "8e9155f3",
   "metadata": {},
   "outputs": [],
   "source": [
    "# Make Dataloader to feed on Multi Layer Perceptron Model\n",
    "import torch\n",
    "from torch.utils.data import TensorDataset, DataLoader\n",
    "\n",
    "train_images_tensor = torch.tensor(train_images)\n",
    "train_labels_tensor = torch.tensor(train_labels)\n",
    "\n",
    "train_tensor = TensorDataset(train_images_tensor, train_labels_tensor)\n",
    "train_loader = DataLoader(train_tensor, batch_size=64, num_workers=0, shuffle=True)\n",
    "\n",
    "valid_images_tensor = torch.tensor(valid_images)\n",
    "valid_labels_tensor = torch.tensor(valid_labels)\n",
    "\n",
    "valid_tensor = TensorDataset(valid_images_tensor, valid_labels_tensor)\n",
    "valid_loader = DataLoader(valid_tensor, batch_size=64, num_workers=0, shuffle=True)\n",
    "\n",
    "test_images_tensor = torch.tensor(test_images)\n",
    "# test데이터는 label이 없다고 가정.\n",
    "# 위 처리까지는 label까지 저장."
   ]
  },
  {
   "cell_type": "markdown",
   "id": "2466622a",
   "metadata": {},
   "source": [
    "- PyTorch는 image와 label을 Pair 로 묶어 입력으로 넣어주는 경우가 많음.\n",
    "    - torch.tensor\n",
    "        - 현재 array 형태로 저장된 데이터를 tensor 형태로 바꿔줌.\n",
    "    - TensorDataset(train_images_tensor, train_labels_tensor)\n",
    "        - image, label의 Pair를 만들어줌.\n",
    "    - DataLoader\n",
    "        - batch_size\n",
    "            - bath_size 단위로 image와 label을 나눠줌.\n",
    "        - num_workers\n",
    "            - cpu, gpu의 개수. multi processing\n",
    "        - shuffle"
   ]
  },
  {
   "cell_type": "code",
   "execution_count": 34,
   "id": "141be4e9",
   "metadata": {
    "scrolled": true
   },
   "outputs": [
    {
     "name": "stdout",
     "output_type": "stream",
     "text": [
      "Model:  MLP(\n",
      "  (input_layer): Linear(in_features=784, out_features=128, bias=True)\n",
      "  (hidden_layer): Linear(in_features=128, out_features=128, bias=True)\n",
      "  (output_layer): Linear(in_features=128, out_features=10, bias=True)\n",
      ")\n",
      "Device:  cpu\n"
     ]
    }
   ],
   "source": [
    "# Create MLP Model\n",
    "import torch.nn as nn\n",
    "import torch.nn.functional as F\n",
    "import torch.optim as optim\n",
    "\n",
    "class MLP(nn.Module):\n",
    "    \n",
    "    def __init__(self):\n",
    "        super(MLP, self).__init__() \n",
    "            # super를 이용해 nn.Module 내의 함수를 가져옴.\n",
    "        self.input_layer = nn.Linear(28 * 28, 128)\n",
    "            # Input : 28*28, Output : 128 (다음 Layer에 대한 Input)\n",
    "        self.hidden_layer = nn.Linear(128, 128)\n",
    "        self.output_layer = nn.Linear(128, 10)\n",
    "        \n",
    "    def forward(self, x):\n",
    "        x = x.view(-1, 28 * 28)\n",
    "            # 2차원 이미지를 flatten하는 과정.\n",
    "        x = F.relu(self.input_layer(x))\n",
    "            # input_layer을 통과해 나온 값의 Activation을 relu로.\n",
    "        x = F.relu(self.hidden_layer(x))\n",
    "            # hidden_layer을 통과해 나온 값의 Activation을 relu로.\n",
    "        x = self.output_layer(x)\n",
    "        x = F.log_softmax(x, dim = 1)\n",
    "            # output_layer을 통과해 나온 값의 Activation을 log_softmax로.\n",
    "            # softmax에 log를 취함.\n",
    "            # dim=1 : 같은 차원에 대해 softmax를 취함.\n",
    "                # 128에서 10으로 갈 때에 대해 softmax를 취함.\n",
    "        return x\n",
    "    \n",
    "USE_CUDA = torch.cuda.is_available()\n",
    "    # gpu를 이용하는지 (False) cuda를 이용하는지 (True)\n",
    "DEVICE = torch.device('cuda' if USE_CUDA else 'cpu')\n",
    "\n",
    "model = MLP().to(DEVICE)\n",
    "    # MLP 클래스를 불러옴. 그 클래스가 어느 device로 갈지에 대해.\n",
    "optimizer = optim.Adam(model.parameters(), lr=0.001)\n",
    "    # optim.Adam : optimizer로 Adam을 이용하겠다.\n",
    "        # 모델.parameters() : model에 대한 parameter를 optimize.\n",
    "        # lr : 학습률.\n",
    "\n",
    "print('Model: ', model)\n",
    "print('Device: ', DEVICE)"
   ]
  },
  {
   "cell_type": "code",
   "execution_count": 38,
   "id": "799b5471",
   "metadata": {},
   "outputs": [],
   "source": [
    "# Definite Train & Evaluate\n",
    "def train(model, train_loader, optimizer): \n",
    "        # train_loader: image, label을 batch 단위로 저장.\n",
    "    model.train() \n",
    "        # model.train : model 내 parameter들을 update.\n",
    "    for batch_idx, (data, target) in enumerate(train_loader):\n",
    "            # data는 image, target은 label. 이들을 batch 단위로 loop.\n",
    "        data, target = data.to(DEVICE), target.to(DEVICE)\n",
    "            # image와 label을 device에 할당.\n",
    "        optimizer.zero_grad()\n",
    "            # gradient를 0으로 초기화.\n",
    "        output = model(data)\n",
    "            # data를 model에 넣어줘 output을 구함.\n",
    "            # feed forward를 진행한 최종 output.\n",
    "        loss = F.cross_entropy(output, target)\n",
    "            # output(추정값)과 target(실제값) 의 loss를 구해줌.\n",
    "        loss.backward()\n",
    "            # back propagation.\n",
    "        optimizer.step()\n",
    "            # weight를 update.\n",
    "        \n",
    "        if batch_idx % 100 == 0:\n",
    "            # batch_idx가 100으로 나누어 떨어질 때에 과정을 print\n",
    "            print(\"Train Epoch: {} [{}/{} ({:.0f}%)]/tLoss: {:.6f}\".format(epoch, batch_idx * len(data), len(train_loader.dataset), 100. * batch_idx / len(train_loader), loss.item()))\n",
    "\n",
    "def evaluate(model, valid_loader):\n",
    "    model.eval() \n",
    "        # model.eval : model 내 parameter들을 evaluate.\n",
    "        # parameter들이 update되지 않도록 설정.\n",
    "    valid_loss = 0 # loss.\n",
    "    correct = 0 # accuracy.\n",
    "    \n",
    "    with torch.no_grad():\n",
    "        # gradient로 update되지 않도록 억제.\n",
    "        for data, target in valid_loader:\n",
    "            data, target = data.to(DEVICE), target.to(DEVICE)\n",
    "            output = model(data)\n",
    "            valid_loss += F.cross_entropy(output, target, reduction = 'sum').item()\n",
    "                # validation dataset 내에서 loss를 확인하기 위함.\n",
    "                # cross_entropy계산을 할 때 횟수를 계산.\n",
    "                # reduction='sum'\n",
    "                    # 배치의 data 하나마다 loss가 나오게 됨.\n",
    "                        # 이를 배치 별로 합하기 위한 결과값.\n",
    "            prediction = output.max(1, keepdim = True)[1]\n",
    "                # output.max(1, )\n",
    "                    # output 결과값 중 softmax 결과가 가장 큰 값 1개를 prediction으로. One-hot encoding\n",
    "                    # prediction : 그 label로 예측이 됐다.\n",
    "            correct += prediction.eq(target.view_as(prediction)).sum().item()\n",
    "                # prediction.eq\n",
    "                    # target.view_as(prediction): prediction한 one-hot encoding이 실제 label의 one-hot encoding 값과 일치하는지?\n",
    "                    # 맞으면 correct를 더해줌.\n",
    "            \n",
    "    valid_loss /= len(valid_loader.dataset)\n",
    "    valid_accuracy = 100. * correct / len(valid_loader.dataset)\n",
    "        # 맞춘 데이터의 수.\n",
    "    return valid_loss, valid_accuracy"
   ]
  },
  {
   "cell_type": "code",
   "execution_count": null,
   "id": "d5c951ee",
   "metadata": {},
   "outputs": [],
   "source": [
    "'''Training'''\n",
    "EPOCHS = 10\n",
    "for epoch in range(1, EPOCHS + 1):\n",
    "    train(model, train_loader, optimizer)\n",
    "    valid_loss, valid_accuracy = evaluate(model, valid_loader)\n",
    "    print(\"[EPOCH: {}], \\tValidation Loss: {:.4f}, \\tValidation Accuracy: {:.2f} % \\n\".format(epoch, valid_loss, valid_accuracy))\n",
    "    \n",
    "# Validation Loss와 Accuracy를 살펴보아야 함."
   ]
  },
  {
   "cell_type": "code",
   "execution_count": null,
   "id": "adf53857",
   "metadata": {},
   "outputs": [],
   "source": [
    "# Predict Test Dataset\n",
    "def testset_prediction(model, test_images_tensor):\n",
    "    model.eval()\n",
    "    result = []\n",
    "    with torch.no_grad():\n",
    "        for data in test_images_tensor:\n",
    "            data = data.to(DEVICE)\n",
    "            output = model(data)\n",
    "            prediction = output.max(1, keepdim = True)[1]\n",
    "            result.append(prediction.tolist())\n",
    "    return result\n",
    "\n",
    "# prediction 값을 list에 append하는 형태."
   ]
  },
  {
   "cell_type": "code",
   "execution_count": null,
   "id": "8d05154d",
   "metadata": {},
   "outputs": [],
   "source": [
    "test_predict_result = testset_prediction(model, test_images_tensor)\n",
    "test_predict_result[:5]"
   ]
  },
  {
   "cell_type": "code",
   "execution_count": null,
   "id": "f2b95a10",
   "metadata": {},
   "outputs": [],
   "source": [
    "import numpy as np\n",
    "from collections import Counter\n",
    "Counter(np.squeeze(test_predict_result)).most_common()"
   ]
  },
  {
   "cell_type": "code",
   "execution_count": null,
   "id": "30d2ea81",
   "metadata": {},
   "outputs": [],
   "source": [
    "for idx in range(0, 10):\n",
    "    plt.imshow(test_images[idx], cmpa=plt.get_cmap('gray'))\n",
    "    plt.title('Predict: ' + str(test_predict_result[idx]))\n",
    "    plt.show()"
   ]
  }
 ],
 "metadata": {
  "kernelspec": {
   "display_name": "Python 3 (ipykernel)",
   "language": "python",
   "name": "python3"
  },
  "language_info": {
   "codemirror_mode": {
    "name": "ipython",
    "version": 3
   },
   "file_extension": ".py",
   "mimetype": "text/x-python",
   "name": "python",
   "nbconvert_exporter": "python",
   "pygments_lexer": "ipython3",
   "version": "3.8.6"
  }
 },
 "nbformat": 4,
 "nbformat_minor": 5
}
