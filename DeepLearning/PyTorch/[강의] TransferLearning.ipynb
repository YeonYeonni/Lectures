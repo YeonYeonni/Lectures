{
 "cells": [
  {
   "cell_type": "markdown",
   "id": "c38bef5c",
   "metadata": {},
   "source": [
    "pre-trained) 기존 모델 내의 weight들이 fitting되어있는 경우"
   ]
  },
  {
   "cell_type": "code",
   "execution_count": 1,
   "id": "30a5bf3b",
   "metadata": {},
   "outputs": [],
   "source": [
    "import torch\n",
    "USE_CUDA = torch.cuda.is_available()\n",
    "DEVICE = torch.device('cuda' if USE_CUDA else 'cpu')"
   ]
  },
  {
   "cell_type": "code",
   "execution_count": 5,
   "id": "86edc30d",
   "metadata": {},
   "outputs": [],
   "source": [
    "from torchvision import datasets, transforms\n",
    "\n",
    "data_transforms = {\n",
    "    'train': transforms.Compose([\n",
    "        transforms.RandomResizedCrop(224),\n",
    "        transforms.RandomHorizontalFlip(),\n",
    "        transforms.ToTensor(),\n",
    "        transforms.Normalize([0.485, 0.456, 0.406], [0.229, 0.224, 0.225]) # RGB 평균, 평균, 표준편차.\n",
    "    ]),\n",
    "    'val': transforms.Compose([\n",
    "        transforms.CenterCrop(224),\n",
    "        transforms.Resize(256),\n",
    "        transforms.ToTensor(),\n",
    "        transforms.Normalize([0.485, 0.456, 0.406], [0.229, 0.224, 0.225])\n",
    "    ]),\n",
    "}\n",
    "\n",
    "image_datasets = {x: datasets.ImageFolder('./data/hymenoptera_data', data_transforms[x]) for x in ['train', 'val']}\n",
    "dataloaders = {x: torch.utils.data.DataLoader(image_datasets[x], batch_size = 8, num_workers = 0, shuffle = True) for x in ['train', 'val']}\n",
    "dataset_sizes = {x: len(image_datasets[x]) for x in ['train', 'val']}\n",
    "class_names = image_datasets['train'].classes"
   ]
  },
  {
   "cell_type": "code",
   "execution_count": 6,
   "id": "893e4d5a",
   "metadata": {},
   "outputs": [],
   "source": [
    "def train(model, train_loader, optimizer, epoch):\n",
    "    model.train()\n",
    "    for batch_idx, (data, target) in enumerate (train_loader):\n",
    "        data, target = data.to(DEVICE), target.to(DEVICE)\n",
    "        optimizer.zero_grad()\n",
    "        output = model(data)\n",
    "        loss = F.cross_entropy(output, target)\n",
    "        loss.backward()\n",
    "        optimizer.step()\n",
    "        \n",
    "        if batch_idx % 10 == 0:\n",
    "            print('Train Epoch: {} [{}/{} ({:.0f}%)]\\tLoss: {:.6f}'.format(\n",
    "                epoch,\n",
    "                batch_idx * len(data),\n",
    "                len(train_loader.dataset),\n",
    "                100. * batch_idx / len(train_loader),\n",
    "                loss.item()))"
   ]
  },
  {
   "cell_type": "code",
   "execution_count": 7,
   "id": "2a32b932",
   "metadata": {},
   "outputs": [],
   "source": [
    "def evaluate(model, test_loader):\n",
    "    model.eval()\n",
    "    test_loss = 0\n",
    "    correct = 0\n",
    "    with torch.no_grad():\n",
    "        for data, target in test_loader:\n",
    "            data, target = data.to(DEVICE), target.to(DEVICE)\n",
    "            output = model(data)\n",
    "            test_loss += F.cross_entropy(output, target, reduction = 'sum').item()\n",
    "            prediction = output.max(1, keepdim = True)[1]\n",
    "            correct += prediction.eq(target.view_as(prediction)).sum().item()\n",
    "            \n",
    "    test_loss /= len(test_loader.dataset)\n",
    "    test_accuracy = 100. * correct / len(test_loader.dataset)\n",
    "    return test_loss, test_accuracy"
   ]
  },
  {
   "cell_type": "markdown",
   "id": "f885aec4",
   "metadata": {},
   "source": [
    "- 이미지와 레이블을 test_loader에서 추출해 DEVICE에 할당.\n",
    "- 그 결과값을 cross_entropy로 계산.\n",
    "- 그 배치 안에 있는 레이블에 대한 모든 결과값을 sum해서 test_loss에 더해줌.\n",
    "- output 값 중 가장 높은 값을 클래스로 예측.\n",
    "- 그 예측값과 정답이 동일한 경우에만 correct를 증가."
   ]
  },
  {
   "cell_type": "code",
   "execution_count": null,
   "id": "a520c43c",
   "metadata": {},
   "outputs": [
    {
     "name": "stdout",
     "output_type": "stream",
     "text": [
      "Train Epoch: 1 [0/794 (0%)]\tLoss: 6.859541\n",
      "Train Epoch: 1 [80/794 (10%)]\tLoss: 1.424673\n",
      "Train Epoch: 1 [160/794 (20%)]\tLoss: 1.740338\n",
      "Train Epoch: 1 [240/794 (30%)]\tLoss: 1.307625\n",
      "Train Epoch: 1 [320/794 (40%)]\tLoss: 1.189715\n",
      "Train Epoch: 1 [400/794 (50%)]\tLoss: 1.116353\n",
      "Train Epoch: 1 [480/794 (60%)]\tLoss: 1.151788\n",
      "Train Epoch: 1 [560/794 (70%)]\tLoss: 0.956495\n",
      "Train Epoch: 1 [640/794 (80%)]\tLoss: 1.152220\n",
      "Train Epoch: 1 [720/794 (90%)]\tLoss: 1.509945\n",
      "[1] Test Loss: 1.1252, accuracy: 47.98%\n",
      "\n",
      "Train Epoch: 2 [0/794 (0%)]\tLoss: 1.022793\n",
      "Train Epoch: 2 [80/794 (10%)]\tLoss: 1.322210\n",
      "Train Epoch: 2 [160/794 (20%)]\tLoss: 1.234704\n",
      "Train Epoch: 2 [240/794 (30%)]\tLoss: 1.117810\n",
      "Train Epoch: 2 [320/794 (40%)]\tLoss: 1.363701\n",
      "Train Epoch: 2 [400/794 (50%)]\tLoss: 1.186017\n",
      "Train Epoch: 2 [480/794 (60%)]\tLoss: 1.450052\n",
      "Train Epoch: 2 [560/794 (70%)]\tLoss: 1.084153\n",
      "Train Epoch: 2 [640/794 (80%)]\tLoss: 1.247823\n",
      "Train Epoch: 2 [720/794 (90%)]\tLoss: 0.905574\n",
      "[2] Test Loss: 1.6918, accuracy: 27.46%\n",
      "\n",
      "Train Epoch: 3 [0/794 (0%)]\tLoss: 1.257129\n",
      "Train Epoch: 3 [80/794 (10%)]\tLoss: 0.881482\n",
      "Train Epoch: 3 [160/794 (20%)]\tLoss: 1.318107\n",
      "Train Epoch: 3 [240/794 (30%)]\tLoss: 1.040430\n",
      "Train Epoch: 3 [320/794 (40%)]\tLoss: 1.323524\n",
      "Train Epoch: 3 [400/794 (50%)]\tLoss: 1.186408\n",
      "Train Epoch: 3 [480/794 (60%)]\tLoss: 1.074246\n",
      "Train Epoch: 3 [560/794 (70%)]\tLoss: 0.906847\n",
      "Train Epoch: 3 [640/794 (80%)]\tLoss: 1.213772\n",
      "Train Epoch: 3 [720/794 (90%)]\tLoss: 0.874504\n",
      "[3] Test Loss: 1.1185, accuracy: 50.00%\n",
      "\n",
      "Train Epoch: 4 [0/794 (0%)]\tLoss: 1.171298\n",
      "Train Epoch: 4 [80/794 (10%)]\tLoss: 1.001174\n",
      "Train Epoch: 4 [160/794 (20%)]\tLoss: 1.424007\n",
      "Train Epoch: 4 [240/794 (30%)]\tLoss: 1.023829\n",
      "Train Epoch: 4 [320/794 (40%)]\tLoss: 1.058118\n",
      "Train Epoch: 4 [400/794 (50%)]\tLoss: 0.848262\n",
      "Train Epoch: 4 [480/794 (60%)]\tLoss: 0.929835\n",
      "Train Epoch: 4 [560/794 (70%)]\tLoss: 1.065152\n",
      "Train Epoch: 4 [640/794 (80%)]\tLoss: 1.030434\n",
      "Train Epoch: 4 [720/794 (90%)]\tLoss: 0.967844\n",
      "[4] Test Loss: 1.1857, accuracy: 50.00%\n",
      "\n",
      "Train Epoch: 5 [0/794 (0%)]\tLoss: 0.862125\n",
      "Train Epoch: 5 [80/794 (10%)]\tLoss: 0.962749\n",
      "Train Epoch: 5 [160/794 (20%)]\tLoss: 1.259822\n",
      "Train Epoch: 5 [240/794 (30%)]\tLoss: 1.196282\n",
      "Train Epoch: 5 [320/794 (40%)]\tLoss: 1.367357\n",
      "Train Epoch: 5 [400/794 (50%)]\tLoss: 0.868540\n",
      "Train Epoch: 5 [480/794 (60%)]\tLoss: 1.321800\n",
      "Train Epoch: 5 [560/794 (70%)]\tLoss: 1.108775\n",
      "Train Epoch: 5 [640/794 (80%)]\tLoss: 1.033270\n",
      "Train Epoch: 5 [720/794 (90%)]\tLoss: 1.212024\n",
      "[5] Test Loss: 1.0711, accuracy: 48.61%\n",
      "\n",
      "Train Epoch: 6 [0/794 (0%)]\tLoss: 1.091013\n",
      "Train Epoch: 6 [80/794 (10%)]\tLoss: 1.131866\n",
      "Train Epoch: 6 [160/794 (20%)]\tLoss: 1.372249\n"
     ]
    }
   ],
   "source": [
    "import torchvision.models as models\n",
    "import torch.nn as nn\n",
    "import torch.optim as optim\n",
    "import torch.nn.functional as F\n",
    "\n",
    "# model = models.resnet18(pretrained = False).cuda()\n",
    "model = models.resnet18(pretrained = False).cpu()\n",
    "optimizer = optim.Adam(model.parameters(), lr = 0.0001) # pretrained 된 값에는 학습률을 적게.\n",
    "EPOCHS = 10\n",
    "for epoch in range(1, EPOCHS + 1):\n",
    "    train(model, dataloaders['train'], optimizer, epoch)\n",
    "    test_loss, test_accuracy = evaluate(model, dataloaders['val'])\n",
    "    print('[{}] Test Loss: {:.4f}, accuracy: {:.2f}%\\n'.format(epoch, test_loss, test_accuracy))"
   ]
  },
  {
   "cell_type": "code",
   "execution_count": null,
   "id": "6ea6c10e",
   "metadata": {},
   "outputs": [],
   "source": [
    "model = models.resnet18(pretrained = True)\n",
    "num_ftrs = model.fc.in_features\n",
    "model.fc = nn.Linear(num_ftrs, 2) # imagenet의 클래스는 1000개로 설정. output node를 2개로 조정.\n",
    "\n",
    "if USE_CUDA:\n",
    "    model = model.cuda() # GPU로 변경.\n",
    "    \n",
    "optimizer = optim.Adam(model.parameters(), lr = 0.0001)\n",
    "EPOCHS = 10\n",
    "for epoch in range(1, EPOCHS + 1):\n",
    "    train(model, dataloaders['train'], optimizer, epoch)\n",
    "    test_loss, test_accuracy = evaluate(model, dataloaders['val'])\n",
    "    print('[{}] Test Loss: {:.4f}, accuracy: {:.2f}%\\n'.format(epoch, test_loss, test_accuracy))"
   ]
  },
  {
   "cell_type": "code",
   "execution_count": null,
   "id": "d6c34f97",
   "metadata": {},
   "outputs": [],
   "source": [
    "model = models.resnet18(pretrained = True)\n",
    "\n",
    "for param in model.parameters():\n",
    "    param.requires_grad = False # 가져온 weight들이 update되지 않음.\n",
    "    \n",
    "num_ftrs = model.fc.in_features\n",
    "model.fc = nn.Linear(num_ftrs, 2)\n",
    "\n",
    "model = model.cuda()\n",
    "\n",
    "optimizer = optim.Adam(model.parameters(), lr = 0.0001)\n",
    "EPOCHS = 10\n",
    "\n",
    "for epoch in range(1, EPOCHS + 1):\n",
    "    train(model, dataloaders['train'], optimizer, epoch)\n",
    "    test_loss, test_accuracy = evaluate(model, dataloaders['val'])\n",
    "    print('[{}] Test Loss: {:.4f}, accuracy: {:.2f}%\\n'.format(epoch, test_loss, test_accuracy))"
   ]
  },
  {
   "cell_type": "markdown",
   "id": "78f5ac41",
   "metadata": {},
   "source": [
    "데이터가 너무 적은 경우에는 gradient를 freezing 시키는 것이 좋지 않을 수도 있음."
   ]
  },
  {
   "cell_type": "code",
   "execution_count": null,
   "id": "d51ffd13",
   "metadata": {},
   "outputs": [],
   "source": []
  }
 ],
 "metadata": {
  "kernelspec": {
   "display_name": "Python 3 (ipykernel)",
   "language": "python",
   "name": "python3"
  },
  "language_info": {
   "codemirror_mode": {
    "name": "ipython",
    "version": 3
   },
   "file_extension": ".py",
   "mimetype": "text/x-python",
   "name": "python",
   "nbconvert_exporter": "python",
   "pygments_lexer": "ipython3",
   "version": "3.8.6"
  }
 },
 "nbformat": 4,
 "nbformat_minor": 5
}
