{
 "cells": [
  {
   "cell_type": "markdown",
   "id": "925dc1cd",
   "metadata": {},
   "source": [
    "## MLP 모델 설계 순서\n",
    "\n",
    "1. 필요한 모듈 import.\n",
    "2. 딥러닝 모델 활용 장비 확인.\n",
    "3. MNIST 데이터 다운로드하기 & Train, Test 분리하기.\n",
    "4. 데이터 확인하기. (1)\n",
    "5. 데이터 확인하기. (2)\n",
    "6. MLP 모델 설계하기.\n",
    "7. Optimizer, Objective Function 설정하기.\n",
    "8. 학습을 진행하면서 Train 데이터에 대한 모델 성능을 확인하는 함수 정의하기.\n",
    "9. 학습을 진행하면서 Train, Test set의 Loss 및 Test set Accuracy 확인하기."
   ]
  },
  {
   "cell_type": "code",
   "execution_count": 12,
   "id": "7298c6dc",
   "metadata": {},
   "outputs": [],
   "source": [
    "''' 1. Module Import '''\n",
    "import numpy as np # (1)\n",
    "import matplotlib.pyplot as plt # (2)\n",
    "import torch # (3)\n",
    "import torch.nn as nn # (4)\n",
    "import torch.nn.functional as F # (5)\n",
    "from torchvision import transforms, datasets # (6)"
   ]
  },
  {
   "cell_type": "markdown",
   "id": "26481bd6",
   "metadata": {},
   "source": [
    "1. 선형 대수 관련 함수 모듈.\n",
    "2. 함수 실행 결과 산출물에 대한 수치 시각화.\n",
    "3. 파이토치의 기본 모듈.\n",
    "4. 파이토치 모듈 중 딥러닝 (인공 신경망 설계) 을 설계할 때 필요한 함수를 모아놓은 모듈.\n",
    "5. torch.nn 모듈 중에서도 자주 이용되는 함수를 F로 지정.\n",
    "6. 컴퓨터 비전 연구 분야에서 자주 이용하는 'torchvision' 모듈 내 'transforms', 'datasets' 함수."
   ]
  },
  {
   "cell_type": "code",
   "execution_count": 13,
   "id": "e38faf09",
   "metadata": {},
   "outputs": [
    {
     "name": "stdout",
     "output_type": "stream",
     "text": [
      "Using PyTorch version: 1.10.0+cpu  Device: cpu\n"
     ]
    }
   ],
   "source": [
    "''' 2. 딥러닝 모델을 설계할 때 활용하는 장비 확인 '''\n",
    "if torch.cuda.is_available():\n",
    "    device = torch.device('cuda')\n",
    "else:\n",
    "    device = torch.device('cpu')\n",
    "    \n",
    "print('Using PyTorch version:', torch.__version__, ' Device:', device)"
   ]
  },
  {
   "cell_type": "code",
   "execution_count": 14,
   "id": "8f658d4f",
   "metadata": {},
   "outputs": [],
   "source": [
    "batch_size = 32 # (1)\n",
    "epochs = 10 # (2)"
   ]
  },
  {
   "cell_type": "markdown",
   "id": "501793fd",
   "metadata": {},
   "source": [
    "1. batch_size : 학습할 때 필요한 데이터 개수의 단위.\n",
    "    - mini-batch 1개 단위에 대해 데이터가 32개로 구성.\n",
    "    - Iteration : 1개의 미니배치를 이용해 학습하는 횟수.\n",
    "    - Epoch : 전체 데이터를 이용해 학습을 진행한 횟수. 하이퍼파라미터.\n",
    "        - ex) 전체 데이터 1만개, 미니배치 1000개 -> 1epoch당 10회의 iteration이 발생.\n",
    "        \n",
    "2. epochs : 존재하고 있는 mini-batch를 전부 이용하는 횟수. 하이퍼파라미터."
   ]
  },
  {
   "cell_type": "code",
   "execution_count": 15,
   "id": "f611d9bf",
   "metadata": {},
   "outputs": [],
   "source": [
    "''' 3. MNIST 데이터 다운로드 (Train set, Test set 분리하기) '''\n",
    "train_dataset = datasets.MNIST(root = '../data/MNIST',          # (1)\n",
    "                              train = True,\n",
    "                              download = True,\n",
    "                              transform = transforms.ToTensor())\n",
    "\n",
    "test_dataset = datasets.MNIST(root = '../data/MNIST',          # (2)\n",
    "                              train = False,\n",
    "                              transform = transforms.ToTensor())\n",
    "\n",
    "train_loader = torch.utils.data.DataLoader(dataset = train_dataset, # (3)\n",
    "                                          batch_size = batch_size,\n",
    "                                           shuffle = True)\n",
    "\n",
    "test_loader = torch.utils.data.DataLoader(dataset = test_dataset,   # (4)\n",
    "                                         batch_size = batch_size,\n",
    "                                         shuffle = False)"
   ]
  },
  {
   "cell_type": "markdown",
   "id": "2cb6fc79",
   "metadata": {},
   "source": [
    "1. MNIST 데이터셋을 다운로드.\n",
    "2. MNIST 데이터셋을 다운로드.\n",
    "    - root : 데이터가 저장될 장소를 지정. (상위 디렉터리에 존재하는 data폴더 내 MNIST 폴더에 저장)\n",
    "    - train : True는 train_dataset으로 설정. False는 test_dataset으로 설정.\n",
    "    - download : 해당 데이터를 인터넷상에서 다운로드해 이용할 것인지.\n",
    "    - transform : MNIST는 이미지. 기본적인 전처리를 진행할 것인지. tensor 형태로 변경.\n",
    "        - 한 픽셀은 0 ~ 255 범위의 스칼라 값으로 구성. 이를 0 ~ 1 범위로 정규화.\n",
    "        - MLP 모델이 포함된 모델은 Input 데이터 값의 크기가 커질수록 과적합 or 불안정.\n",
    "            - 정규화 과정을 이용해 Input으로 이용하는 것이 좋음.\n",
    "            \n",
    "3. 다운로드한 데이터셋을 mini-batch 단위로 분리해 지정.\n",
    "4. 다운로드한 데이터셋을 mini-batch 단위로 분리해 지정.\n",
    "    - mini-batch 별로 데이터를 묶어 단위를 맞춤.\n",
    "    - 이미지 데이터를 batch size만큼 묶어 1개의 mini-batch를 구성.\n",
    "    - dataset : mini-batch 단위로 할당하고자 하는 데이터셋 지정.\n",
    "    - batch_size : mini-batch 1개 단위를 구성하는 데이터의 개수 지정.\n",
    "    - shuffle : 데이터의 순서를 섞고자 할 때 이용.\n",
    "        - 이미지 데이터의 특징을 학습하는 것이 아닌 Label 값을 학습하는 것을 방지하기 위함."
   ]
  },
  {
   "cell_type": "code",
   "execution_count": 16,
   "id": "9908ef01",
   "metadata": {},
   "outputs": [
    {
     "name": "stdout",
     "output_type": "stream",
     "text": [
      "x_train: torch.Size([32, 1, 28, 28]) type: torch.FloatTensor\n",
      "y_train: torch.Size([32]) type: torch.LongTensor\n"
     ]
    }
   ],
   "source": [
    "''' 4. 데이터 확인하기 (1) '''\n",
    "for (x_train, y_train) in train_loader:\n",
    "    print('x_train:', x_train.size(), 'type:', x_train.type())\n",
    "    print('y_train:', y_train.size(), 'type:', y_train.type())\n",
    "    break"
   ]
  },
  {
   "cell_type": "markdown",
   "id": "f1ba0ee9",
   "metadata": {},
   "source": [
    "- x_train : 32개의 이미지가 1개의 mini-batch로 구성. 가로 28, 세로 28개의 픽셀로 구성. 채널은 1 (grayscale).\n",
    "- y_train : 32개의 이미지 데이터 각각에 label값이 1개씩 존재. (32개의 값을 가지고 있음)"
   ]
  },
  {
   "cell_type": "code",
   "execution_count": 17,
   "id": "7c210fee",
   "metadata": {
    "scrolled": true
   },
   "outputs": [
    {
     "data": {
      "image/png": "[encoded data removed]",
      "text/plain": [
       "<Figure size 720x72 with 10 Axes>"
      ]
     },
     "metadata": {
      "needs_background": "light"
     },
     "output_type": "display_data"
    }
   ],
   "source": [
    "''' 5. 데이터 확인하기 (2) '''\n",
    "pltsize = 1\n",
    "plt.figure(figsize=(10 * pltsize, pltsize))\n",
    "for i in range(10):\n",
    "    plt.subplot(1, 10, i + 1)\n",
    "    plt.axis('off')\n",
    "    plt.imshow(x_train[i, :, :, :].numpy().reshape(28 ,28), cmap = 'gray_r')\n",
    "    plt.title('Class: ' + str(y_train[i].item()))"
   ]
  },
  {
   "cell_type": "markdown",
   "id": "aea40f57",
   "metadata": {},
   "source": [
    "## 일반 MLP"
   ]
  },
  {
   "cell_type": "code",
   "execution_count": 18,
   "id": "94698289",
   "metadata": {},
   "outputs": [],
   "source": [
    "''' 6. MLP (Multi Layer Perceptron) 모델 설계하기 '''\n",
    "\n",
    "class Net(nn.Module):                      # (1)\n",
    "    \n",
    "    def __init__(self):                    # (2)\n",
    "        super(Net, self).__init__()        # (3)\n",
    "        self.fc1 = nn.Linear(28 * 28, 512) # (4)\n",
    "        self.fc2 = nn.Linear(512, 256)     # (5)\n",
    "        self.fc3 = nn.Linear(256, 10)      # (6)\n",
    "        \n",
    "    def forward(self, x):                  # (7)\n",
    "        x = x.view(-1, 28 * 28)            # (8)\n",
    "        x = self.fc1(x)                    # (9)\n",
    "        x = F.sigmoid(x)                   # (10)\n",
    "        x = self.fc2(x)                    # (11)\n",
    "        x = F.sigmoid(x)                   # (12)\n",
    "        x = self.fc3(x)                    # (13)\n",
    "        x = F.log_softmax(x, dim = 1)      # (14)\n",
    "        \n",
    "return x                                   # (15)"
   ]
  },
  {
   "cell_type": "markdown",
   "id": "d573ee2e",
   "metadata": {},
   "source": [
    "1. nn.Module 클래스를 상속받는 Net 클래스를 정의.\n",
    "2. Net 클래스의 instance를 생성했을 때, 지니게 되는 성질을 정의.\n",
    "3. nn.Module 내의 메서드를 상속.\n",
    "4. 첫 번째 Fully Connected Layer를 정의.\n",
    "    - Fully Connected Layer : feed forward neural networks.\n",
    "    - 마지막 몇 개의 계층을 형성.\n",
    "    - Fully Connected Layer의 대한 input은 final Pooling 이나 Convolutional Layer.\n",
    "    - Pooling 이나 Convolution이 평면화되어 입력됨.\n",
    "        - MNIST 데이터를 Input으로 사용하기 위해 28, 28, 1 (가로, 세로, 채널) 크기의 노드 수를 Input으로 설정.\n",
    "        - 그 후 두 번째 FC Layer의 노드 수를 512개로 설정할 것이기 때문에 output의 노드 수는 512개로 설정.\n",
    "5. 두 번째 Fully Connected Layer를 정의.\n",
    "    - Input은 512 크기의 벡터 값을 사용하기 위해 512, 세 번째 FC Layer의 노드 수가 256개이기 때문에 Output은 256개.\n",
    "6. 세 번째 Fully Connected Layer를 정의.\n",
    "    - Input은 256 크기의 벡터 값을 사용하기 위해 256, output으로 사용하기 위한 노드 수를 10개로 설정.\n",
    "        - 0 ~ 9까지 10개의 클래스를 표현하기 위한 Label 값은 One-hot Encoding으로 표현.\n",
    "        - MLP 모델의 Output 값과 Loss를 계산하려면 이에 맞는 크기의 벡터를 계산해야 함. 따라서 Output의 노드 수를 10개로 정의.\n",
    "7. Net 클래스를 이용해 MLP 모델의 Forward Propagation을 정의.\n",
    "    - 즉, 설계한 MLP 모델에 데이터를 입력했을 때 Output을 계산하기까지의 과정을 나열.\n",
    "8. MNIST 이미지 데이터는 크기가 28 * 28인 2차원 데이터. MLP 모델은 1차원의 벡터 값을 입력으로 받아야 함.\n",
    "    - 이를 위해 View 메서드를 이용해 784 크기의 1차원 데이터로 변환. (Flatten)\n",
    "9. __init__() 메서드를 이용해 첫 번째 Fully Connected Layer에 1차원으로 펼친 이미지 데이터를 통과.\n",
    "10. torch.nn.functional 내 정의된 비선형 함수인 sigmoid()를 이용. 두 번째 FC Layer의 Input으로 계산.\n",
    "11. __init__() 메서드를 이용해 두 번째 Fully Connected Layer에 (10)에서 sigmoid() 함수를 이용해 계산된 결과값을 통과.\n",
    "12. torch.nn.functional 내 정의된 비선형 함수인 sigmoid()를 이용. 세 번째 FC Layer의 Input으로 계산.\n",
    "13. __init__() 메서드를 이용해 세 번째 Fully Connected Layer에 (11)에서 sigmoid() 함수를 이용해 계산된 결과값을 통과.\n",
    "14. torch.nn.functional 내 정의된 비선형 함수인 log.softmax()를 이용. 최종 output을 계산.\n",
    "    - 10가지 경우의 수 중 하나로 분류하는 일을 수행하기 때문에 softmax를 이용해 확률 값을 계산.\n",
    "    - log_softmax를 사용하는 이유 : 역전파 알고리즘을 사용시, Loss 값에 대한 Gradient 값을 좀 더 원활하게 계산할 수 있음.\n",
    "        - Log 함수 그래프의 기울기는 부드럽게 변화.\n",
    "15. 최종 계산된 x값을 output으로 반환."
   ]
  },
  {
   "cell_type": "markdown",
   "id": "f03079ae",
   "metadata": {},
   "source": [
    "## MLP + Dropout"
   ]
  },
  {
   "cell_type": "code",
   "execution_count": null,
   "id": "e5faca1f",
   "metadata": {},
   "outputs": [],
   "source": [
    "''' 6. MLP (Multi Layer Perceptron) 모델 설계하기 '''\n",
    "\n",
    "class Net(nn.Module):\n",
    "    \n",
    "    def __init__(self):\n",
    "        super(Net, self).__init__()\n",
    "        self.fc1 = nn.Linear(28 * 28, 512)\n",
    "        self.fc2 = nn.Linear(512, 256)\n",
    "        self.fc3 = nn.Linear(256, 10)\n",
    "        self.dropout_prob = 0.5\n",
    "        \n",
    "    def forward(self, x):\n",
    "        x = x.view(-1, 28 * 28)\n",
    "        x = self.fc1(x)\n",
    "        x = F.sigmoid(x)\n",
    "        x = F.dropout(x, training = self.training, p = self.dropout_prob)\n",
    "        x = self.fc2(x)\n",
    "        x = F.sigmoid(x)\n",
    "        x = F.dropout(x, training = self.training, p = self.dropout_prob)\n",
    "        x = self.fc3(x)\n",
    "        x = F.log_softmax(x, dim = 1)\n",
    "        \n",
    "return x"
   ]
  },
  {
   "cell_type": "markdown",
   "id": "536de011",
   "metadata": {},
   "source": [
    "- Dropout을 적용했을 때 일반화가 강해져 Test Accuracy가 높아지는 결과가 기대.\n",
    "    - 학습과 검증 데이터셋의 feature, 레이블의 분포 간 많은 차이가 있을 때 유효하게 작용.\n",
    "    - MNIST는 학습과 검증 데이터셋 간 많은 차이가 발생하지 않기 때문에 성능이 조금 하락할 수도 있음.\n",
    "        - Epoch을 늘려 추가로 학습을 진행하면 성능이 좋아짐.\n",
    "- Dropout은 보통 ReLU() 비선형 함수와 잘 어울림."
   ]
  },
  {
   "cell_type": "markdown",
   "id": "33054463",
   "metadata": {},
   "source": [
    "## Dropout + ReLU"
   ]
  },
  {
   "cell_type": "code",
   "execution_count": null,
   "id": "9110b282",
   "metadata": {},
   "outputs": [],
   "source": [
    "''' 6. MLP (Multi Layer Perceptron) 모델 설계하기 '''\n",
    "\n",
    "class Net(nn.Module):\n",
    "    \n",
    "    def __init__(self):\n",
    "        super(Net, self).__init__()\n",
    "        self.fc1 = nn.Linear(28 * 28, 512)\n",
    "        self.fc2 = nn.Linear(512, 256)\n",
    "        self.fc3 = nn.Linear(256, 10)\n",
    "        self.dropout_prob = 0.5\n",
    "        \n",
    "    def forward(self, x):\n",
    "        x = x.view(-1, 28 * 28)\n",
    "        x = self.fc1(x)\n",
    "        x = F.relu(x)\n",
    "        x = F.dropout(x, training = self.training, p = self.dropout_prob)\n",
    "        x = self.fc2(x)\n",
    "        x = F.relu(x)\n",
    "        x = F.dropout(x, training = self.training, p = self.dropout_prob)\n",
    "        x = self.fc3(x)\n",
    "        x = F.log_softmax(x, dim = 1)\n",
    "        \n",
    "return x"
   ]
  },
  {
   "cell_type": "markdown",
   "id": "4a6115e8",
   "metadata": {},
   "source": [
    "- ReLU() 함수\n",
    "    - 0미만인 값은 0으로 계산, 양수 값은 그대로 반영.\n",
    "    - Gradient를 빠르게 계산, Back Propagation을 효과적으로 이용.\n",
    "- Sigmoid() 함수\n",
    "    - 0에서 멀어질 수록 Gradient 값이 0에 가까워 Back Propagation을 효과적으로 이용할 수 없음."
   ]
  },
  {
   "cell_type": "markdown",
   "id": "e730aa12",
   "metadata": {},
   "source": [
    "## Dropout + ReLU + Batch Normalization"
   ]
  },
  {
   "cell_type": "code",
   "execution_count": null,
   "id": "05f05701",
   "metadata": {},
   "outputs": [],
   "source": [
    "''' 6. MLP (Multi Layer Perceptron) 모델 설계하기 '''\n",
    "\n",
    "class Net(nn.Module):\n",
    "    \n",
    "    def __init__(self):\n",
    "        super(Net, self).__init__()\n",
    "        self.fc1 = nn.Linear(28 * 28, 512)\n",
    "        self.fc2 = nn.Linear(512, 256)\n",
    "        self.fc3 = nn.Linear(256, 10)\n",
    "        self.dropout_prob = 0.5\n",
    "        self.batch_norm1 = nn.BatchNorm1d(512) # (1)\n",
    "        self.batch_norm2 = nn.BatchNorm1d(256) # (2)\n",
    "        \n",
    "    def forward(self, x):\n",
    "        x = x.view(-1, 28 * 28)\n",
    "        x = self.fc1(x)\n",
    "        x = self.batch_norm1(x) # (3)\n",
    "        x = F.relu(x)\n",
    "        x = F.dropout(x, training = self.training, p = self.dropout_prob)\n",
    "        x = self.fc2(x)\n",
    "        x = self.batch_norm2(x) # (4)\n",
    "        x = F.relu(x)\n",
    "        x = F.dropout(x, training = self.training, p = self.dropout_prob)\n",
    "        x = self.fc3(x)\n",
    "        x = F.log_softmax(x, dim = 1)\n",
    "        \n",
    "return x"
   ]
  },
  {
   "cell_type": "markdown",
   "id": "d19ca5fd",
   "metadata": {},
   "source": [
    "1. nn.BatchNorm()을 Class 내에서 이용하기 위해 self.batch_norm1 으로 정의. 512차원으로 설정.\n",
    "    - 첫 번째 Fully Connected Layer의 Output이 512 크기의 벡터 값이기 때문.\n",
    "2. nn.BatchNorm()을 Class 내에서 이용하기 위해 self.batch_norm2 으로 정의. 256차원으로 설정.\n",
    "    - 두 번째 Fully Connected Layer의 Output이 256크기의 벡터 값이기 때문.\n",
    "3. 첫 번째 Fully Connected Layer의 Output을 위에서 정의한 self.batch_norm1의 Input으로 이용.\n",
    "4. 두 번째 Fully Connected Layer의 Output을 위에서 정의한 self.batch_norm2의 Input으로 이용."
   ]
  },
  {
   "cell_type": "markdown",
   "id": "743889dd",
   "metadata": {},
   "source": [
    "## SGD"
   ]
  },
  {
   "cell_type": "code",
   "execution_count": 20,
   "id": "c3787533",
   "metadata": {
    "scrolled": true
   },
   "outputs": [
    {
     "name": "stdout",
     "output_type": "stream",
     "text": [
      "Net(\n",
      "  (fc1): Linear(in_features=784, out_features=512, bias=True)\n",
      "  (fc2): Linear(in_features=512, out_features=256, bias=True)\n",
      "  (fc3): Linear(in_features=256, out_features=10, bias=True)\n",
      ")\n"
     ]
    }
   ],
   "source": [
    "''' 7. Optimizer, Objective Function 설정하기 '''\n",
    "model = Net().to(device)                                                   # (!)\n",
    "optimizer = torch.optim.SGD(model.parameters(), lr = 0.01, momentum = 0.5) # (2)\n",
    "criterion = nn.CrossEntropyLoss()                                          # (3)\n",
    "\n",
    "print(model)"
   ]
  },
  {
   "cell_type": "markdown",
   "id": "f65cd8c6",
   "metadata": {},
   "source": [
    "1. 위에서 정의한 MLP 모델을 기존에 선정한 device에 할당.\n",
    "2. Back Propagation을 이용해 파라미터를 업데이트할 때 이용하는 Optimizer를 정의. (SGD, eta=0.01, momentum=0.5)\n",
    "3. MLP 모델의 output과 계산될 Label 값은 Class를 표현하는 One-hot encoding 값.\n",
    "    - MLP 모델의 output값, One-hot encoding 값과의 loss는 CrossEntropy를 이용해 계산하기 위해\n",
    "    - criterion = 'nn.CrossEntropyLoss' 로 설정."
   ]
  },
  {
   "cell_type": "markdown",
   "id": "b3584216",
   "metadata": {},
   "source": [
    "## Dropout + ReLU + Batch Normalization + He Uniform Initialization"
   ]
  },
  {
   "cell_type": "code",
   "execution_count": null,
   "id": "1bd1e805",
   "metadata": {},
   "outputs": [],
   "source": [
    "''' 7. Optimizer, Objective Function 설정하기 '''\n",
    "import torch.nn.init as init                # (1)\n",
    "def weight_init(m):                          # (2)\n",
    "    if isinstance(m, nn.Linear):             # (3)\n",
    "        init.kaiming_uniform_(m.weight.data) # (4)\n",
    "\n",
    "model = Net().to(device)\n",
    "model.apply(weight_init)                     # (5)\n",
    "optimizer = torch.optim.SGD(model.parameters(), lr = 0.01, momentum = 0.5)\n",
    "criterion = nn.CrossEntropyLoss()"
   ]
  },
  {
   "cell_type": "markdown",
   "id": "419b8608",
   "metadata": {},
   "source": [
    "1. init모듈 : 초깃값으로 설정되는 요소에 대한 모듈 (weight, bias 등)\n",
    "2. MLP 모델 내의 Weight를 초기화할 부분을 설정하기 위해 weight_init함수를 정의.\n",
    "3. MLP 모델을 구성하고 있는 파라미터 중 nn.Linear에 해당하는 파라미터 값에 대해서만 지정.\n",
    "4. nn.Linear에 해당하는 파라미터 값에 대해 he_initialization을 이용해 파라미터 값을 초기화.\n",
    "5. weight_init 함수를 Net() 클래스의 인스턴스인 model에 적용."
   ]
  },
  {
   "cell_type": "markdown",
   "id": "b491e258",
   "metadata": {},
   "source": [
    "## Dropout + ReLU + Batch Normalization + He Uniform Initialization + Adam"
   ]
  },
  {
   "cell_type": "code",
   "execution_count": null,
   "id": "4ebdc360",
   "metadata": {},
   "outputs": [],
   "source": [
    "''' 7. Optimizer, Objective Function 설정하기 '''\n",
    "import torch.nn.init as init                # (1)\n",
    "def weight_init(m):                          # (2)\n",
    "    if isinstance(m, nn.Linear):             # (3)\n",
    "        init.kaiming_uniform_(m.weight.data) # (4)\n",
    "\n",
    "model = Net().to(device)\n",
    "model.apply(weight_init)                     # (5)\n",
    "optimizer = torch.optim.Adam(model.parameters(), lr = 0.01)\n",
    "criterion = nn.CrossEntropyLoss()"
   ]
  },
  {
   "cell_type": "code",
   "execution_count": 23,
   "id": "b2db21c8",
   "metadata": {},
   "outputs": [],
   "source": [
    "''' 8. MLP 모델 학습을 진행하며 학습 데이터에 대한 모델 성능을 확인하는 함수 정의 '''\n",
    "def train(model, train_loader, optimizer, log_interval):\n",
    "    model.train()                                                # (1)\n",
    "    for batch_idx, (image, label) in enumerate (train_loader):  # (2)\n",
    "        image = image.to(device)                                 # (3)\n",
    "        label = label.to(device)                                 # (4)\n",
    "        optimizer.zero_grad()                                    # (5)\n",
    "        output = model(image)                                    # (6)\n",
    "        loss = criterion(output, label)                          # (7)\n",
    "        loss.backward()                                          # (8)\n",
    "        optimizer.step()                                         # (9)\n",
    "        \n",
    "        if batch_idx % log_interval == 0:\n",
    "            print('Train Epoch: {} [{}/{} ({:.0f}%)]\\tTrain Loss: {:.6f}'.format(Epoch, batch_idx * len(image),\n",
    "                                                                                len(train_loader.dataset), 100. * batch_idx / len(train_loader),\n",
    "                                                                                loss.item()))"
   ]
  },
  {
   "cell_type": "markdown",
   "id": "4a2dfd5e",
   "metadata": {},
   "source": [
    "1. 위에서 정의한 MLP 모델을 학습 상태로 지정.\n",
    "2. train_loader : 이미지 데이터, 레이블 데이터가 mini-batch 단위로 묶여 저장.\n",
    "    - 이를 순서대로 이용해 MLP 모형을 학습.\n",
    "3. 이미지 데이터를 기존 정의된 장비에 할당.\n",
    "4. 레이블 데이터를 기존 정의된 장비에 할당.\n",
    "5. 과거에 이용한 mini-batch 내의 이미지, 레이블 데이터를 바탕으로 계산된 loss의 gradient 값이 optimizer에 할당.\n",
    "    - optimizer의 gradient를 초기화.\n",
    "6. 이미지 데이터를 MLP 모델의 input으로 이용해 output을 계산.\n",
    "7. Output, 레이블 데이터를 CrossEntropy를 이용해 Loss를 계산.\n",
    "8. Loss를 계산한 결과를 바탕으로 Back Propagation을 통해 계산된 Gradient를 각 파라미터에 할당. (weight, bias)\n",
    "9. gradient 값을 이용해 파라미터 값을 업데이트."
   ]
  },
  {
   "cell_type": "code",
   "execution_count": 24,
   "id": "11a868b8",
   "metadata": {},
   "outputs": [],
   "source": [
    "'''9. 학습되는 과정 속에서 검증 데이터에 대한 모델 성능을 확인하는 함수 정의'''\n",
    "def evaluate(model, test_loader):\n",
    "    model.eval()                                                              # (1)\n",
    "    test_loss = 0                                                             # (2)\n",
    "    correct = 0                                                               # (3)\n",
    "    \n",
    "    with torch.no_grad():                                                     # (4)\n",
    "        for image, label in test_loader:                                      # (5)\n",
    "            image = image.to(device)                                          # (6)\n",
    "            label = label.to(device)                                          # (7)\n",
    "            output = model(image)                                             # (8)\n",
    "            test_loss += criterion(output, label).item()                      # (9)\n",
    "            prediction = output.max(1, keepdim = True)[1]                    # (10)\n",
    "            correct += prediction.eq(label.view_as(prediction)).sum().item()  # (11)\n",
    "            \n",
    "    test_loss /= len(test_loader.dataset)                                     # (12)\n",
    "    test_accuracy = 100. * correct / len(test_loader.dataset)                 # (13)\n",
    "    return test_loss, test_accuracy                                           # (14)"
   ]
  },
  {
   "cell_type": "markdown",
   "id": "e06b83ae",
   "metadata": {},
   "source": [
    "### 학습 과정, 학습 완료 상태에서 성능을 평가하기 위한 evaluation 함수를 정의.\n",
    "1. MLP 모델을 학습 상태 -> 평가 상태로 지정.\n",
    "2. test_loader 내의 데이터를 이용해 Loss 값을 계산하기 위해 test_loss를 0으로 임시 설정.\n",
    "3. 모델이 올바른 Class로 분류한 경우를 세기 위해 correct를 0으로 임시 설정.\n",
    "4. 평가 단계에서 Gradient를 통해 업데이트되는 현상을 방지하기 위해 torch.no_grad() 메서드를 이용해 흐름을 억제.\n",
    "5. test_loader 데이터도 mini-batch 단위로 저장되어 있음. mini-batch 내에 있는 이미지, 레이블 데이터를 차례대로 접근.\n",
    "6. 이미지 데이터로 모델을 검증하기 위해 기존에 정의한 장비에 할당.\n",
    "7. 레이블 데이터를 기존에 정의한 장비에 할당.\n",
    "8. 이미지 데이터를 Input으로 Output을 계산.\n",
    "9. output과 레이블 데이터를 CrossEntropy를 이용해 Loss값을 계산한 결과값을 'test_loss'에 더해 업데이트.\n",
    "10. MLP 모델의 Output값은 크기가 10인 벡터 값. \n",
    "    - 계산된 벡터값 내 가장 큰 값인 위치에 대해 해당 위치에 대응하는 클래스로 예측했다고 판단.\n",
    "11. MLP 모델이 최종으로 예측한 클래스 값과 실제 레이블이 의미하는 클래스가 맞으면 correct에 더해 올바른 예측 횟수를 저장.\n",
    "12. 현재까지 계산된 test_loss 값 = test_loader 내의 mini-batch 개수만큼 나눠 평균 loss 값으로 계산.\n",
    "13. test_loader 데이터 중 얼마나 맞췄는지 정확도를 계산.\n",
    "14. test_loss, test_accuracy를 반환."
   ]
  },
  {
   "cell_type": "code",
   "execution_count": 25,
   "id": "c1e0e320",
   "metadata": {},
   "outputs": [
    {
     "name": "stderr",
     "output_type": "stream",
     "text": [
      "c:\\python\\python38\\lib\\site-packages\\torch\\nn\\functional.py:1806: UserWarning: nn.functional.sigmoid is deprecated. Use torch.sigmoid instead.\n",
      "  warnings.warn(\"nn.functional.sigmoid is deprecated. Use torch.sigmoid instead.\")\n"
     ]
    },
    {
     "name": "stdout",
     "output_type": "stream",
     "text": [
      "Train Epoch: 1 [0/60000 (0%)]\tTrain Loss: 2.347106\n",
      "Train Epoch: 1 [6400/60000 (11%)]\tTrain Loss: 2.333780\n",
      "Train Epoch: 1 [12800/60000 (21%)]\tTrain Loss: 2.319917\n",
      "Train Epoch: 1 [19200/60000 (32%)]\tTrain Loss: 2.305351\n",
      "Train Epoch: 1 [25600/60000 (43%)]\tTrain Loss: 2.326942\n",
      "Train Epoch: 1 [32000/60000 (53%)]\tTrain Loss: 2.310081\n",
      "Train Epoch: 1 [38400/60000 (64%)]\tTrain Loss: 2.326447\n",
      "Train Epoch: 1 [44800/60000 (75%)]\tTrain Loss: 2.281296\n",
      "Train Epoch: 1 [51200/60000 (85%)]\tTrain Loss: 2.250386\n",
      "Train Epoch: 1 [57600/60000 (96%)]\tTrain Loss: 2.276880\n",
      "\n",
      "[EPOCH: 1], \tTest Loss: 0.0698, \tTest Accuracy: 37.92 % \n",
      "\n",
      "Train Epoch: 2 [0/60000 (0%)]\tTrain Loss: 2.271647\n",
      "Train Epoch: 2 [6400/60000 (11%)]\tTrain Loss: 2.199564\n",
      "Train Epoch: 2 [12800/60000 (21%)]\tTrain Loss: 2.162466\n",
      "Train Epoch: 2 [19200/60000 (32%)]\tTrain Loss: 2.187071\n",
      "Train Epoch: 2 [25600/60000 (43%)]\tTrain Loss: 1.932872\n",
      "Train Epoch: 2 [32000/60000 (53%)]\tTrain Loss: 1.893052\n",
      "Train Epoch: 2 [38400/60000 (64%)]\tTrain Loss: 1.614942\n",
      "Train Epoch: 2 [44800/60000 (75%)]\tTrain Loss: 1.453866\n",
      "Train Epoch: 2 [51200/60000 (85%)]\tTrain Loss: 1.375365\n",
      "Train Epoch: 2 [57600/60000 (96%)]\tTrain Loss: 1.259325\n",
      "\n",
      "[EPOCH: 2], \tTest Loss: 0.0395, \tTest Accuracy: 62.42 % \n",
      "\n",
      "Train Epoch: 3 [0/60000 (0%)]\tTrain Loss: 1.368065\n",
      "Train Epoch: 3 [6400/60000 (11%)]\tTrain Loss: 1.392086\n",
      "Train Epoch: 3 [12800/60000 (21%)]\tTrain Loss: 1.043114\n",
      "Train Epoch: 3 [19200/60000 (32%)]\tTrain Loss: 1.105586\n",
      "Train Epoch: 3 [25600/60000 (43%)]\tTrain Loss: 0.986954\n",
      "Train Epoch: 3 [32000/60000 (53%)]\tTrain Loss: 1.122661\n",
      "Train Epoch: 3 [38400/60000 (64%)]\tTrain Loss: 0.889307\n",
      "Train Epoch: 3 [44800/60000 (75%)]\tTrain Loss: 0.741611\n",
      "Train Epoch: 3 [51200/60000 (85%)]\tTrain Loss: 0.661517\n",
      "Train Epoch: 3 [57600/60000 (96%)]\tTrain Loss: 0.899634\n",
      "\n",
      "[EPOCH: 3], \tTest Loss: 0.0236, \tTest Accuracy: 78.28 % \n",
      "\n",
      "Train Epoch: 4 [0/60000 (0%)]\tTrain Loss: 0.799649\n",
      "Train Epoch: 4 [6400/60000 (11%)]\tTrain Loss: 0.527990\n",
      "Train Epoch: 4 [12800/60000 (21%)]\tTrain Loss: 0.737318\n",
      "Train Epoch: 4 [19200/60000 (32%)]\tTrain Loss: 0.611594\n",
      "Train Epoch: 4 [25600/60000 (43%)]\tTrain Loss: 0.884956\n",
      "Train Epoch: 4 [32000/60000 (53%)]\tTrain Loss: 0.494849\n",
      "Train Epoch: 4 [38400/60000 (64%)]\tTrain Loss: 0.451604\n",
      "Train Epoch: 4 [44800/60000 (75%)]\tTrain Loss: 0.628272\n",
      "Train Epoch: 4 [51200/60000 (85%)]\tTrain Loss: 0.606606\n",
      "Train Epoch: 4 [57600/60000 (96%)]\tTrain Loss: 0.489451\n",
      "\n",
      "[EPOCH: 4], \tTest Loss: 0.0174, \tTest Accuracy: 83.88 % \n",
      "\n",
      "Train Epoch: 5 [0/60000 (0%)]\tTrain Loss: 0.418029\n",
      "Train Epoch: 5 [6400/60000 (11%)]\tTrain Loss: 0.486251\n",
      "Train Epoch: 5 [12800/60000 (21%)]\tTrain Loss: 0.360959\n",
      "Train Epoch: 5 [19200/60000 (32%)]\tTrain Loss: 0.419325\n",
      "Train Epoch: 5 [25600/60000 (43%)]\tTrain Loss: 0.643173\n",
      "Train Epoch: 5 [32000/60000 (53%)]\tTrain Loss: 0.642063\n",
      "Train Epoch: 5 [38400/60000 (64%)]\tTrain Loss: 0.333559\n",
      "Train Epoch: 5 [44800/60000 (75%)]\tTrain Loss: 0.455491\n",
      "Train Epoch: 5 [51200/60000 (85%)]\tTrain Loss: 0.785895\n",
      "Train Epoch: 5 [57600/60000 (96%)]\tTrain Loss: 0.590097\n",
      "\n",
      "[EPOCH: 5], \tTest Loss: 0.0143, \tTest Accuracy: 86.64 % \n",
      "\n",
      "Train Epoch: 6 [0/60000 (0%)]\tTrain Loss: 0.543907\n",
      "Train Epoch: 6 [6400/60000 (11%)]\tTrain Loss: 0.477121\n",
      "Train Epoch: 6 [12800/60000 (21%)]\tTrain Loss: 0.282460\n",
      "Train Epoch: 6 [19200/60000 (32%)]\tTrain Loss: 0.336385\n",
      "Train Epoch: 6 [25600/60000 (43%)]\tTrain Loss: 0.316596\n",
      "Train Epoch: 6 [32000/60000 (53%)]\tTrain Loss: 0.573582\n",
      "Train Epoch: 6 [38400/60000 (64%)]\tTrain Loss: 0.525577\n",
      "Train Epoch: 6 [44800/60000 (75%)]\tTrain Loss: 0.335715\n",
      "Train Epoch: 6 [51200/60000 (85%)]\tTrain Loss: 0.349857\n",
      "Train Epoch: 6 [57600/60000 (96%)]\tTrain Loss: 0.451218\n",
      "\n",
      "[EPOCH: 6], \tTest Loss: 0.0128, \tTest Accuracy: 87.96 % \n",
      "\n",
      "Train Epoch: 7 [0/60000 (0%)]\tTrain Loss: 0.790787\n",
      "Train Epoch: 7 [6400/60000 (11%)]\tTrain Loss: 0.287266\n",
      "Train Epoch: 7 [12800/60000 (21%)]\tTrain Loss: 0.301827\n",
      "Train Epoch: 7 [19200/60000 (32%)]\tTrain Loss: 0.438557\n",
      "Train Epoch: 7 [25600/60000 (43%)]\tTrain Loss: 0.437227\n",
      "Train Epoch: 7 [32000/60000 (53%)]\tTrain Loss: 0.805833\n",
      "Train Epoch: 7 [38400/60000 (64%)]\tTrain Loss: 0.494078\n",
      "Train Epoch: 7 [44800/60000 (75%)]\tTrain Loss: 0.573067\n",
      "Train Epoch: 7 [51200/60000 (85%)]\tTrain Loss: 0.566101\n",
      "Train Epoch: 7 [57600/60000 (96%)]\tTrain Loss: 0.417376\n",
      "\n",
      "[EPOCH: 7], \tTest Loss: 0.0118, \tTest Accuracy: 89.09 % \n",
      "\n",
      "Train Epoch: 8 [0/60000 (0%)]\tTrain Loss: 0.155974\n",
      "Train Epoch: 8 [6400/60000 (11%)]\tTrain Loss: 0.150856\n",
      "Train Epoch: 8 [12800/60000 (21%)]\tTrain Loss: 0.308649\n",
      "Train Epoch: 8 [19200/60000 (32%)]\tTrain Loss: 0.695224\n",
      "Train Epoch: 8 [25600/60000 (43%)]\tTrain Loss: 0.327975\n",
      "Train Epoch: 8 [32000/60000 (53%)]\tTrain Loss: 0.304196\n",
      "Train Epoch: 8 [38400/60000 (64%)]\tTrain Loss: 0.336441\n",
      "Train Epoch: 8 [44800/60000 (75%)]\tTrain Loss: 0.297247\n",
      "Train Epoch: 8 [51200/60000 (85%)]\tTrain Loss: 0.473716\n",
      "Train Epoch: 8 [57600/60000 (96%)]\tTrain Loss: 0.531299\n",
      "\n",
      "[EPOCH: 8], \tTest Loss: 0.0113, \tTest Accuracy: 89.54 % \n",
      "\n",
      "Train Epoch: 9 [0/60000 (0%)]\tTrain Loss: 0.624764\n",
      "Train Epoch: 9 [6400/60000 (11%)]\tTrain Loss: 0.310156\n",
      "Train Epoch: 9 [12800/60000 (21%)]\tTrain Loss: 0.515030\n",
      "Train Epoch: 9 [19200/60000 (32%)]\tTrain Loss: 0.470907\n",
      "Train Epoch: 9 [25600/60000 (43%)]\tTrain Loss: 0.672383\n",
      "Train Epoch: 9 [32000/60000 (53%)]\tTrain Loss: 0.353380\n",
      "Train Epoch: 9 [38400/60000 (64%)]\tTrain Loss: 0.403435\n",
      "Train Epoch: 9 [44800/60000 (75%)]\tTrain Loss: 0.541840\n",
      "Train Epoch: 9 [51200/60000 (85%)]\tTrain Loss: 0.654042\n",
      "Train Epoch: 9 [57600/60000 (96%)]\tTrain Loss: 0.859685\n",
      "\n",
      "[EPOCH: 9], \tTest Loss: 0.0108, \tTest Accuracy: 90.16 % \n",
      "\n",
      "Train Epoch: 10 [0/60000 (0%)]\tTrain Loss: 0.267974\n",
      "Train Epoch: 10 [6400/60000 (11%)]\tTrain Loss: 0.230260\n",
      "Train Epoch: 10 [12800/60000 (21%)]\tTrain Loss: 0.379603\n",
      "Train Epoch: 10 [19200/60000 (32%)]\tTrain Loss: 0.231348\n",
      "Train Epoch: 10 [25600/60000 (43%)]\tTrain Loss: 0.161614\n",
      "Train Epoch: 10 [32000/60000 (53%)]\tTrain Loss: 0.385716\n",
      "Train Epoch: 10 [38400/60000 (64%)]\tTrain Loss: 0.284891\n",
      "Train Epoch: 10 [44800/60000 (75%)]\tTrain Loss: 0.159481\n",
      "Train Epoch: 10 [51200/60000 (85%)]\tTrain Loss: 0.198292\n",
      "Train Epoch: 10 [57600/60000 (96%)]\tTrain Loss: 0.112461\n",
      "\n",
      "[EPOCH: 10], \tTest Loss: 0.0105, \tTest Accuracy: 90.41 % \n",
      "\n"
     ]
    }
   ],
   "source": [
    "'''10. MLP 학습을 실행하면서 Train, Test set의 Loss 및 Test set Accuracy를 확인하기'''\n",
    "for Epoch in range(1, epochs + 1):\n",
    "    train(model, train_loader, optimizer, log_interval = 200)   # (1)\n",
    "    test_loss, test_accuracy = evaluate (model, test_loader)    # (2)\n",
    "    print('\\n[EPOCH: {}], \\tTest Loss: {:.4f}, \\tTest Accuracy: {:.2f} % \\n'.format(Epoch, test_loss, test_accuracy))"
   ]
  },
  {
   "cell_type": "markdown",
   "id": "73956caa",
   "metadata": {},
   "source": [
    "1. 정의한 train 함수를 실행.\n",
    "    - model : MLP\n",
    "    - train_loader : 학습 데이터\n",
    "    - optimizer : SGD\n",
    "    - log_interval : mini-batch의 index를 이용해 과정을 모니터링.\n",
    "2. 각 epoch 별로 Loss값과 accuracy값을 계산."
   ]
  },
  {
   "cell_type": "code",
   "execution_count": null,
   "id": "f5bac631",
   "metadata": {},
   "outputs": [],
   "source": []
  }
 ],
 "metadata": {
  "kernelspec": {
   "display_name": "Python 3 (ipykernel)",
   "language": "python",
   "name": "python3"
  },
  "language_info": {
   "codemirror_mode": {
    "name": "ipython",
    "version": 3
   },
   "file_extension": ".py",
   "mimetype": "text/x-python",
   "name": "python",
   "nbconvert_exporter": "python",
   "pygments_lexer": "ipython3",
   "version": "3.8.6"
  }
 },
 "nbformat": 4,
 "nbformat_minor": 5
}
